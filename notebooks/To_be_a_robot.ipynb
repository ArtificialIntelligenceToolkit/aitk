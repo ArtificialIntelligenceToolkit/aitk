{
 "cells": [
  {
   "cell_type": "markdown",
   "metadata": {},
   "source": "<a target=\"_blank\" href=\"https://colab.research.google.com/github/ArtificialIntelligenceToolkit/aitk/blob/master/notebooks/To_be_a_robot.ipynb\"><img src=\"https://colab.research.google.com/assets/colab-badge.svg\" alt=\"Open In Colab\"/></a>"
  },
  {
   "cell_type": "code",
   "execution_count": null,
   "metadata": {
    "id": "AQMTpw5e_0cx"
   },
   "outputs": [],
   "source": [
    "%pip install aitk --upgrade --quiet"
   ]
  },
  {
   "cell_type": "markdown",
   "metadata": {},
   "source": [
    "# Computational Essays in Artificial Intelligence"
   ]
  },
  {
   "cell_type": "markdown",
   "metadata": {},
   "source": [
    "## What is it like to be a robot?"
   ]
  },
  {
   "cell_type": "markdown",
   "metadata": {},
   "source": [
    "Philosopher Thomas Nagel famously asked \"What is it like to be a bat?\" in his 1974 paper of the same name.  Nagel argued that one might try to imagine what being a bat would be like, but without inhabiting its body and experiencing the world as it does through echolocation, we can't *really* know what it is like to be a bat.  \n",
    "\n",
    "German biologist Jakob Von Uexk&uuml;ll developed the term *umwelt* to capture the idea of how the world is experienced by a particular organism.  When translated from German this equates to \"self-centered world\". For a dog the world is dominated by smell, whereas for most humans the world is experienced primarily through vision. \n",
    "\n",
    "Here we will explore a robot's umwelt, and try to imagine what is it like to be a robot. We will use a robot with both range sensors and a camera."
   ]
  },
  {
   "cell_type": "markdown",
   "metadata": {},
   "source": [
    "## 1. Setup"
   ]
  },
  {
   "cell_type": "code",
   "execution_count": null,
   "metadata": {},
   "outputs": [],
   "source": [
    "%pip install aitk --quiet"
   ]
  },
  {
   "cell_type": "markdown",
   "metadata": {},
   "source": [
    "## 2. Simulated World"
   ]
  },
  {
   "cell_type": "code",
   "execution_count": 1,
   "metadata": {},
   "outputs": [],
   "source": [
    "from aitk.robots import World, Scribbler, RangeSensor, Camera"
   ]
  },
  {
   "cell_type": "markdown",
   "metadata": {},
   "source": [
    "Let's create a world with several uniquely colored rooms along a long corridor for our robot to explore."
   ]
  },
  {
   "cell_type": "code",
   "execution_count": 2,
   "metadata": {},
   "outputs": [
    {
     "name": "stdout",
     "output_type": "stream",
     "text": [
      "Random seed set to: 5131871\n"
     ]
    }
   ],
   "source": [
    "world = World(width=300, height=200)\n",
    "world.add_wall(\"orange\",50,75,150,85)\n",
    "world.add_wall(\"yellow\",150,75,250,85)\n",
    "world.add_wall(\"orange\",145,0,150,75)\n",
    "world.add_wall(\"yellow\",150,0,155,75)\n",
    "world.add_wall(\"red\",0,125,165,135)\n",
    "world.add_wall(\"red\",220,125,225,200)\n",
    "world.add_wall(\"blue\",225,125,230,200)\n",
    "world.add_wall(\"pink\",155,0,185,30)\n",
    "robot = Scribbler(x=30, y=30, a=-100, max_trace_length=600)\n",
    "robot.add_device(RangeSensor(position=(6,-6),width=57.3,max=20,a=0,name=\"left-ir\"))\n",
    "robot.add_device(RangeSensor(position=(6,6),width=57.3,max=20,a=0,name=\"right-ir\"))\n",
    "robot.add_device(Camera(width=128,height=64))\n",
    "world.add_robot(robot)"
   ]
  },
  {
   "cell_type": "markdown",
   "metadata": {},
   "source": [
    "## 3. Distal vs proximal perspectives\n",
    "\n",
    "Let's watch the world from a bird's-eye view as the robot moves around.  This gives us a *distal* perspective on the world.  We are not experiencing the world as the robot does, but instead have a top-down global view of what is happening. \n",
    "\n",
    "Notice that there is a pink box located in the yellow room. Later we will be trying to find this box."
   ]
  },
  {
   "cell_type": "code",
   "execution_count": 3,
   "metadata": {
    "tags": []
   },
   "outputs": [
    {
     "data": {
      "application/vnd.jupyter.widget-view+json": {
       "model_id": "019f58fe04ed4c909b5e495388c61808",
       "version_major": 2,
       "version_minor": 0
      },
      "text/plain": [
       "Image(value=b'\\xff\\xd8\\xff\\xe0\\x00\\x10JFIF\\x00\\x01\\x01\\x00\\x00\\x01\\x00\\x01\\x00\\x00\\xff\\xdb\\x00C\\x00\\x08\\x06\\x0\u2026"
      ]
     },
     "metadata": {},
     "output_type": "display_data"
    }
   ],
   "source": [
    "world.watch()"
   ]
  },
  {
   "cell_type": "markdown",
   "metadata": {},
   "source": [
    "At the same time let's watch how the robot is experiencing the world through it's camera.  This gives us a *proximal* perspective on the world, from the agent's point of view.  "
   ]
  },
  {
   "cell_type": "code",
   "execution_count": 4,
   "metadata": {},
   "outputs": [
    {
     "data": {
      "application/vnd.jupyter.widget-view+json": {
       "model_id": "5139db5527ea48d88f841aaa7e9202fb",
       "version_major": 2,
       "version_minor": 0
      },
      "text/plain": [
       "HTML(value='<style>img.pixelated {image-rendering: pixelated;}</style>')"
      ]
     },
     "metadata": {},
     "output_type": "display_data"
    },
    {
     "data": {
      "application/vnd.jupyter.widget-view+json": {
       "model_id": "9754f0e247d141f3846856200e5559d7",
       "version_major": 2,
       "version_minor": 0
      },
      "text/plain": [
       "HTML(value='<style>img.pixelated {image-rendering: pixelated;}</style>')"
      ]
     },
     "metadata": {},
     "output_type": "display_data"
    },
    {
     "data": {
      "application/vnd.jupyter.widget-view+json": {
       "model_id": "eae0480601b54618a44ddbf6dd387f9d",
       "version_major": 2,
       "version_minor": 0
      },
      "text/plain": [
       "HTML(value='<style>img.pixelated {image-rendering: pixelated;}</style>')"
      ]
     },
     "metadata": {},
     "output_type": "display_data"
    },
    {
     "data": {
      "application/vnd.jupyter.widget-view+json": {
       "model_id": "0515e0d60fb04c1dafb7d78783a73458",
       "version_major": 2,
       "version_minor": 0
      },
      "text/plain": [
       "Image(value=b'\\x89PNG\\r\\n\\x1a\\n\\x00\\x00\\x00\\rIHDR\\x00\\x00\\x00\\x80\\x00\\x00\\x00@\\x08\\x06\\x00\\x00\\x00\\xd2\\xd6\\x7f\u2026"
      ]
     },
     "metadata": {},
     "output_type": "display_data"
    }
   ],
   "source": [
    "robot[\"camera\"].watch(width=\"500px\")"
   ]
  },
  {
   "cell_type": "markdown",
   "metadata": {},
   "source": [
    "## 4. Navigating through the world\n",
    "\n",
    "Below is a simple controller that tries to keep moving forward while avoiding any obstacles that it encounters.  It is only using the robot's range sensors to make navigation decisions. "
   ]
  },
  {
   "cell_type": "code",
   "execution_count": 5,
   "metadata": {},
   "outputs": [],
   "source": [
    "robot.state[\"timer\"] = 0\n",
    "\n",
    "def avoid(robot):\n",
    "    left = robot[0].get_distance()\n",
    "    right = robot[1].get_distance()\n",
    "    if left == robot[0].get_max() and right == robot[1].get_max() and \\\n",
    "        robot.state[\"timer\"] == 0:\n",
    "        robot.move(0.5, 0)\n",
    "    elif robot.state[\"timer\"] > 0 and robot.state[\"timer\"] < 5:\n",
    "        robot.state[\"timer\"] += 1\n",
    "    elif left < robot[0].get_max():\n",
    "        robot.move(0.1, -0.3)\n",
    "        robot.state[\"timer\"] = 1\n",
    "    elif right < robot[1].get_max():\n",
    "        robot.move(0.1, 0.3)\n",
    "        robot.state[\"timer\"] = 1\n",
    "    else:\n",
    "        robot.state[\"timer\"] = 0"
   ]
  },
  {
   "cell_type": "markdown",
   "metadata": {},
   "source": [
    "### 4.1 Observe both distal and proximal perspectives\n",
    "\n",
    "Now let's watch the world from both the global, top-down view and the local, robot-based view at the same time. "
   ]
  },
  {
   "cell_type": "code",
   "execution_count": 6,
   "metadata": {},
   "outputs": [
    {
     "name": "stdout",
     "output_type": "stream",
     "text": [
      "Using random seed: 5131871\n"
     ]
    },
    {
     "data": {
      "application/vnd.jupyter.widget-view+json": {
       "model_id": "fbc3916944c84f8b9b33d0d6be577155",
       "version_major": 2,
       "version_minor": 0
      },
      "text/plain": [
       "  0%|          | 0/100 [00:00<?, ?it/s]"
      ]
     },
     "metadata": {},
     "output_type": "display_data"
    },
    {
     "name": "stdout",
     "output_type": "stream",
     "text": [
      "Simulation stopped at: 00:00:10.00; speed 0.97 x real time\n"
     ]
    }
   ],
   "source": [
    "world.reset()\n",
    "world.seconds(10, [avoid])"
   ]
  },
  {
   "cell_type": "markdown",
   "metadata": {},
   "source": [
    "### 4.2 Experience the world as the robot does\n",
    "\n",
    "Seeing the world through the robot's camera is very different then seeing it from the bird's-eye view.  Let's try to really take the robot's perspective. \n",
    "\n",
    "**Hide the top-down view of the world.** \n",
    "\n",
    "Now you will try to control the robot using only the robot's sensors to guide you. You goal is to traverse the hallway to the the yellow room and approach the pink box there.  \n",
    "\n",
    "We will create a dashboard where you can see all the robot's sensor readings and you can control the robot's movements via pressing buttons.\n",
    "\n",
    "First, we define a couple of functions that will advance the world when you press a button. "
   ]
  },
  {
   "cell_type": "code",
   "execution_count": 8,
   "metadata": {},
   "outputs": [],
   "source": [
    "from ipywidgets import Output\n",
    "\n",
    "def set_time(world):\n",
    "    time.value = \"Time: \" + world.get_time()\n",
    "\n",
    "def move(translate, rotate):\n",
    "    robot.imove(translate, -rotate)\n",
    "    with Output():\n",
    "        world.seconds(seconds.value, real_time=realtime.value, callback=set_time)"
   ]
  },
  {
   "cell_type": "markdown",
   "metadata": {},
   "source": [
    "Next, we hook up a Joystick-like control pad to the control function."
   ]
  },
  {
   "cell_type": "code",
   "execution_count": 9,
   "metadata": {},
   "outputs": [],
   "source": [
    "from aitk.utils import JoyPad\n",
    "joypad = JoyPad(scale=[.4, .4], function=move)"
   ]
  },
  {
   "cell_type": "markdown",
   "metadata": {},
   "source": [
    "Finally, we construct a dashboard to layout the controls and view of the world."
   ]
  },
  {
   "cell_type": "code",
   "execution_count": 10,
   "metadata": {
    "tags": []
   },
   "outputs": [
    {
     "data": {
      "application/vnd.jupyter.widget-view+json": {
       "model_id": "58caabfd447941ffba9d34cbcee08ba2",
       "version_major": 2,
       "version_minor": 0
      },
      "text/plain": [
       "HTML(value='<style>img.pixelated {image-rendering: pixelated;}</style>')"
      ]
     },
     "metadata": {},
     "output_type": "display_data"
    },
    {
     "data": {
      "application/vnd.jupyter.widget-view+json": {
       "model_id": "4ba600ecdc7c452285279ffe4e278fec",
       "version_major": 2,
       "version_minor": 0
      },
      "text/plain": [
       "HTML(value='<style>img.pixelated {image-rendering: pixelated;}</style>')"
      ]
     },
     "metadata": {},
     "output_type": "display_data"
    },
    {
     "data": {
      "application/vnd.jupyter.widget-view+json": {
       "model_id": "d86b3096d671485094e53be84279d218",
       "version_major": 2,
       "version_minor": 0
      },
      "text/plain": [
       "VBox(children=(Label(value='Time: 00:00:10.00'), HBox(children=(GridspecLayout(children=(Button(description='\u2b09\u2026"
      ]
     },
     "metadata": {},
     "output_type": "display_data"
    }
   ],
   "source": [
    "from ipywidgets import HBox, VBox, Layout, FloatSlider, Label, Checkbox\n",
    "seconds = FloatSlider(description=\"Seconds:\", min=0.1, max=5, value=0.5)\n",
    "realtime = Checkbox(description=\"Real time\", value=True)\n",
    "layout = Layout(width=\"760px\")\n",
    "time = Label(value=\"Time: \" + world.get_time())\n",
    "VBox(children=[\n",
    "    time, \n",
    "    HBox(children=[\n",
    "        joypad.get_widget(), \n",
    "        robot[\"camera\"].get_widget(),\n",
    "    ]),\n",
    "    VBox(children=[\n",
    "        seconds, realtime,\n",
    "        robot.get_widget(show_robot=False, attributes=[\"stalled\"]),\n",
    "        robot[\"left-ir\"].get_widget(title=\"Left IR\", attributes=[\"reading\"]),\n",
    "        robot[\"right-ir\"].get_widget(title=\"Right IR\", attributes=[\"reading\"]),\n",
    "    ])\n",
    " ], layout=layout)"
   ]
  },
  {
   "cell_type": "markdown",
   "metadata": {},
   "source": [
    "Execute the cell below when you are ready to start controlling the robot via the dashboard. Click the different arrow buttons to move the robot in different directions. The \"Stalled\" sensor is True when the robot is stuck and unable to move in the current direction.  If this happens try reversing the direction of movement. The \"IR\" sensors detect obstacles on the robot's left and right.  The smaller the value the closer the obstacle.\n",
    "\n",
    "If you get stuck at some point, go ahead and look at the top-down view of the world again.  Then try to get unstuck and continue using the buttons to reach the goal."
   ]
  },
  {
   "cell_type": "markdown",
   "metadata": {},
   "source": [
    "Go back to the top-down world view to see how you did. Did you crash into any walls?  Did traversing the hallway take longer than you expected?"
   ]
  },
  {
   "cell_type": "markdown",
   "metadata": {},
   "source": [
    "### 4.3 Try again\n",
    "\n",
    "At the top of the dashboard you can see the time it took for you to reach the pink box.  Start again from the top of this notebook and see if you can reach the pink box faster this time.  By practicing, you should get better at seeing the world from the robot's perspective.  "
   ]
  },
  {
   "cell_type": "markdown",
   "metadata": {},
   "source": [
    "## 5. Conclusions\n",
    "\n",
    "Some Cognitive Scientists believe that a key to understanding cognition is embracing the fact that organisms are embedded in environments.  Brains evolved to control bodies, and it is the interplay between the brain, the body, and the environment from which cognition emerges. Hopefully this experience of taking the robot's proximal perspective gave you a taste of what it is like to be a robot. "
   ]
  },
  {
   "cell_type": "markdown",
   "metadata": {},
   "source": [
    "## 6. References\n",
    "\n",
    "1. https://en.wikipedia.org/wiki/What_Is_It_Like_to_Be_a_Bat\n",
    "2. https://en.wikipedia.org/wiki/Umwelt\n",
    "3. https://en.wikipedia.org/wiki/Embodied_embedded_cognition"
   ]
  },
  {
   "cell_type": "code",
   "execution_count": null,
   "metadata": {},
   "outputs": [],
   "source": []
  }
 ],
 "metadata": {
  "kernelspec": {
   "display_name": "Python 3 (ipykernel)",
   "language": "python",
   "name": "python3"
  },
  "language_info": {
   "codemirror_mode": {
    "name": "ipython",
    "version": 3
   },
   "file_extension": ".py",
   "mimetype": "text/x-python",
   "name": "python",
   "nbconvert_exporter": "python",
   "pygments_lexer": "ipython3",
   "version": "3.10.13"
  },
  "widgets": {
   "application/vnd.jupyter.widget-state+json": {
    "state": {
     "006047928a8e4fb28ea1b0e2022ee237": {
      "model_module": "@jupyter-widgets/controls",
      "model_module_version": "1.5.0",
      "model_name": "ProgressStyleModel",
      "state": {
       "description_width": ""
      }
     },
     "012bf340f81848c79b39881a75865c48": {
      "model_module": "@jupyter-widgets/base",
      "model_module_version": "1.2.0",
      "model_name": "LayoutModel",
      "state": {}
     },
     "01762b2ba7134b7b9a4873bd22673a66": {
      "model_module": "@jupyter-widgets/controls",
      "model_module_version": "1.5.0",
      "model_name": "ButtonModel",
      "state": {
       "description": "\uff0d",
       "layout": "IPY_MODEL_846318091a8f44a2b1e196fcab5712dc",
       "style": "IPY_MODEL_f4cb44e88154463787bf9740c33ca411"
      }
     },
     "017dbefc64f04c3ab068fa115c163613": {
      "model_module": "@jupyter-widgets/base",
      "model_module_version": "1.2.0",
      "model_name": "LayoutModel",
      "state": {}
     },
     "01a381ad2607412da61dc623119cd495": {
      "model_module": "@jupyter-widgets/base",
      "model_module_version": "1.2.0",
      "model_name": "LayoutModel",
      "state": {}
     },
     "01b26d70f865476ea6375cd8fd08d004": {
      "model_module": "@jupyter-widgets/controls",
      "model_module_version": "1.5.0",
      "model_name": "FloatProgressModel",
      "state": {
       "bar_style": "success",
       "layout": "IPY_MODEL_dca15d849142431bb58abbc0759a8e6d",
       "max": 1,
       "style": "IPY_MODEL_69feb7fa75734d4a8ae7054ee63657f0",
       "value": 1
      }
     },
     "02c3a302712c44e5ba291033359cefa8": {
      "model_module": "@jupyter-widgets/controls",
      "model_module_version": "1.5.0",
      "model_name": "DescriptionStyleModel",
      "state": {
       "description_width": ""
      }
     },
     "02d7d007619f4b8daaac145e957ea504": {
      "model_module": "@jupyter-widgets/controls",
      "model_module_version": "1.5.0",
      "model_name": "HTMLModel",
      "state": {
       "layout": "IPY_MODEL_2a8d34de3eab44fb8ae8fcb5ea1f54b7",
       "style": "IPY_MODEL_d9a7acd5788c4653a07b73ca6648d3fb",
       "value": " 50/50 [00:00&lt;00:00, 29.70it/s]"
      }
     },
     "02e7c17fc3f74e77b52f9ae15aba88bf": {
      "model_module": "@jupyter-widgets/base",
      "model_module_version": "1.2.0",
      "model_name": "LayoutModel",
      "state": {}
     },
     "032a112d06c84e9fa2fc81ba04df0819": {
      "model_module": "@jupyter-widgets/output",
      "model_module_version": "1.0.0",
      "model_name": "OutputModel",
      "state": {
       "layout": "IPY_MODEL_16b14b830ebc48f892988dd57ca3f319",
       "outputs": [
        {
         "data": {
          "application/vnd.jupyter.widget-view+json": {
           "model_id": "29acfe45b1664a7d8c6ded1ff0e0fc13",
           "version_major": 2,
           "version_minor": 0
          },
          "text/plain": "  0%|          | 0/1 [00:00<?, ?it/s]"
         },
         "metadata": {},
         "output_type": "display_data"
        }
       ]
      }
     },
     "035062335f194c64b80a6b75b2f20dda": {
      "model_module": "@jupyter-widgets/controls",
      "model_module_version": "1.5.0",
      "model_name": "DescriptionStyleModel",
      "state": {
       "description_width": ""
      }
     },
     "03a1ad86f7ab45bea44bc9499f82205c": {
      "model_module": "@jupyter-widgets/base",
      "model_module_version": "1.2.0",
      "model_name": "LayoutModel",
      "state": {}
     },
     "03cd36658a064f07a7fc2716c8a41fde": {
      "model_module": "@jupyter-widgets/base",
      "model_module_version": "1.2.0",
      "model_name": "LayoutModel",
      "state": {
       "display": "none"
      }
     },
     "03f3ad5a0a674726860f5f4aa2b42eb6": {
      "model_module": "@jupyter-widgets/controls",
      "model_module_version": "1.5.0",
      "model_name": "DescriptionStyleModel",
      "state": {
       "description_width": ""
      }
     },
     "0438c31f8ac74cc89f902084b7355ba0": {
      "model_module": "@jupyter-widgets/controls",
      "model_module_version": "1.5.0",
      "model_name": "DescriptionStyleModel",
      "state": {
       "description_width": ""
      }
     },
     "0440aef10f5744a782708489da25de8a": {
      "model_module": "@jupyter-widgets/controls",
      "model_module_version": "1.5.0",
      "model_name": "FloatProgressModel",
      "state": {
       "bar_style": "success",
       "layout": "IPY_MODEL_ddcd62216754429b8d7a29a77525a49b",
       "max": 50,
       "style": "IPY_MODEL_2b7ac1571bf54a07a68d51c0aa135262",
       "value": 50
      }
     },
     "04b23d2b1c7e4ff09a40c86b1e7a54f2": {
      "model_module": "@jupyter-widgets/controls",
      "model_module_version": "1.5.0",
      "model_name": "HTMLModel",
      "state": {
       "layout": "IPY_MODEL_60fc233f9fe6455498381590c9fd59a4",
       "style": "IPY_MODEL_995950b9cf914e15ba35190c3fe020a1",
       "value": " 5/5 [00:00&lt;00:00,  9.42it/s]"
      }
     },
     "061b5997422a462eac5207f9bdcee916": {
      "model_module": "@jupyter-widgets/controls",
      "model_module_version": "1.5.0",
      "model_name": "HTMLModel",
      "state": {
       "layout": "IPY_MODEL_0e3d7b6e2aaa4107803f22cee215bf42",
       "style": "IPY_MODEL_f3faa8fbdd9a4e01bed37be728c726b4",
       "value": " 50/50 [00:00&lt;00:00, 188.31it/s]"
      }
     },
     "063a14a9827e465c93c6e9091d7db05e": {
      "model_module": "@jupyter-widgets/controls",
      "model_module_version": "1.5.0",
      "model_name": "TextModel",
      "state": {
       "description": "Rotate vel:",
       "layout": "IPY_MODEL_8583afbe76e744b8b69702e66bb1a589",
       "style": "IPY_MODEL_ac1721e72b054ae1b1e110091a8f792c"
      }
     },
     "06471db67ab0413f82aa40efba72c861": {
      "model_module": "@jupyter-widgets/controls",
      "model_module_version": "1.5.0",
      "model_name": "HTMLModel",
      "state": {
       "layout": "IPY_MODEL_03a1ad86f7ab45bea44bc9499f82205c",
       "style": "IPY_MODEL_601903ac5cee4166bad5fee0f8f09fa8",
       "value": " 50/50 [00:00&lt;00:00, 29.95it/s]"
      }
     },
     "067c34745f824cdc8b9f43cbe423afd9": {
      "model_module": "@jupyter-widgets/controls",
      "model_module_version": "1.5.0",
      "model_name": "ProgressStyleModel",
      "state": {
       "description_width": ""
      }
     },
     "06f1577cfe9046d59beba3e844fd45ce": {
      "model_module": "@jupyter-widgets/controls",
      "model_module_version": "1.5.0",
      "model_name": "ButtonStyleModel",
      "state": {}
     },
     "06f28a60cbee4eae84a3b3ca0401886b": {
      "model_module": "@jupyter-widgets/controls",
      "model_module_version": "1.5.0",
      "model_name": "HBoxModel",
      "state": {
       "children": [
        "IPY_MODEL_f13e3f5d3860444da055dc9fd7ea8f91",
        "IPY_MODEL_ccf948c795ea45b2b1fb13eca5156fdd",
        "IPY_MODEL_314d0c0264f649ec8005f9822a87d5a5"
       ],
       "layout": "IPY_MODEL_fe35d37215b34327ad40d597bb013890"
      }
     },
     "07056b8ab2314d5e8444f4805c16cde9": {
      "model_module": "@jupyter-widgets/base",
      "model_module_version": "1.2.0",
      "model_name": "LayoutModel",
      "state": {}
     },
     "0716f72652dc48f38ba54c94c19c0c15": {
      "model_module": "@jupyter-widgets/base",
      "model_module_version": "1.2.0",
      "model_name": "LayoutModel",
      "state": {}
     },
     "0771fab24795423bb85dafb71a29f6af": {
      "model_module": "@jupyter-widgets/base",
      "model_module_version": "1.2.0",
      "model_name": "LayoutModel",
      "state": {}
     },
     "0775aa3382664fb4af9f1b38f226e3ec": {
      "model_module": "@jupyter-widgets/base",
      "model_module_version": "1.2.0",
      "model_name": "LayoutModel",
      "state": {}
     },
     "07d05e7d2ed74bcfb8ddb43fcc9e8934": {
      "model_module": "@jupyter-widgets/controls",
      "model_module_version": "1.5.0",
      "model_name": "TextModel",
      "state": {
       "description": "Y:",
       "layout": "IPY_MODEL_f762596efd82421f84b8c0428222f015",
       "style": "IPY_MODEL_9cfc915cef4d47d68c3ec67d2d0638e2"
      }
     },
     "08630900886f4b84a42c9595f503c707": {
      "model_module": "@jupyter-widgets/base",
      "model_module_version": "1.2.0",
      "model_name": "LayoutModel",
      "state": {}
     },
     "08a2f409f6b14ed6adeaf53d3531b45f": {
      "model_module": "@jupyter-widgets/base",
      "model_module_version": "1.2.0",
      "model_name": "LayoutModel",
      "state": {}
     },
     "08addf97b6bc4e0baf7fb368c28b871e": {
      "model_module": "@jupyter-widgets/controls",
      "model_module_version": "1.5.0",
      "model_name": "FloatProgressModel",
      "state": {
       "bar_style": "success",
       "layout": "IPY_MODEL_4f944db183c64eeea75365d60ca8ec53",
       "max": 1,
       "style": "IPY_MODEL_7d5cb921437f4d5f80323c9437638a0a",
       "value": 1
      }
     },
     "08e6b337faee422dbdc5b2ffd169ea10": {
      "model_module": "@jupyter-widgets/base",
      "model_module_version": "1.2.0",
      "model_name": "LayoutModel",
      "state": {}
     },
     "08f7929a8ca04c2bb329c63eac287028": {
      "model_module": "@jupyter-widgets/controls",
      "model_module_version": "1.5.0",
      "model_name": "DescriptionStyleModel",
      "state": {
       "description_width": ""
      }
     },
     "09574a513b1e47e8a29ff3d934c817fd": {
      "model_module": "@jupyter-widgets/base",
      "model_module_version": "1.2.0",
      "model_name": "LayoutModel",
      "state": {}
     },
     "095b57ba30bb450db6459574d6854e8b": {
      "model_module": "@jupyter-widgets/base",
      "model_module_version": "1.2.0",
      "model_name": "LayoutModel",
      "state": {}
     },
     "0989cbc44cd3448a958ea2ff4667dde5": {
      "model_module": "@jupyter-widgets/controls",
      "model_module_version": "1.5.0",
      "model_name": "HTMLModel",
      "state": {
       "layout": "IPY_MODEL_19451492d09c4b289202afff5dad6b2d",
       "style": "IPY_MODEL_9423a661043d4bb3aa79a1873fdc67e8",
       "value": " 50/50 [00:05&lt;00:00,  9.57it/s]"
      }
     },
     "09ac86dde5e34163b02856b480ac9b5c": {
      "model_module": "@jupyter-widgets/controls",
      "model_module_version": "1.5.0",
      "model_name": "DescriptionStyleModel",
      "state": {
       "description_width": ""
      }
     },
     "0a0cdc6dfeb34edb85f281c95b363b50": {
      "model_module": "@jupyter-widgets/base",
      "model_module_version": "1.2.0",
      "model_name": "LayoutModel",
      "state": {
       "display": "flex"
      }
     },
     "0a1651e98aff4c90bfdb9c67345914f3": {
      "model_module": "@jupyter-widgets/controls",
      "model_module_version": "1.5.0",
      "model_name": "DescriptionStyleModel",
      "state": {
       "description_width": ""
      }
     },
     "0a29d314cdcd4ca48da65b9350ad060d": {
      "model_module": "@jupyter-widgets/base",
      "model_module_version": "1.2.0",
      "model_name": "LayoutModel",
      "state": {}
     },
     "0a387b28509d48fea0f2b12af35097ae": {
      "model_module": "@jupyter-widgets/output",
      "model_module_version": "1.0.0",
      "model_name": "OutputModel",
      "state": {
       "layout": "IPY_MODEL_651cea548e054a078c548d3b100097c4",
       "outputs": [
        {
         "data": {
          "application/vnd.jupyter.widget-view+json": {
           "model_id": "bee2b0cb880240e4a39777b8e550394a",
           "version_major": 2,
           "version_minor": 0
          },
          "text/plain": "  0%|          | 0/1 [00:00<?, ?it/s]"
         },
         "metadata": {},
         "output_type": "display_data"
        }
       ]
      }
     },
     "0a58476a6c1d404fba99dc24815e3f41": {
      "model_module": "@jupyter-widgets/controls",
      "model_module_version": "1.5.0",
      "model_name": "ProgressStyleModel",
      "state": {
       "description_width": ""
      }
     },
     "0aac9de3b01948909924ff55e2df2936": {
      "model_module": "@jupyter-widgets/controls",
      "model_module_version": "1.5.0",
      "model_name": "HTMLModel",
      "state": {
       "layout": "IPY_MODEL_d86e380335734532af46653298b4dca1",
       "style": "IPY_MODEL_02c3a302712c44e5ba291033359cefa8",
       "value": "100%"
      }
     },
     "0b1456eed6ce40c99200098c2dc32eb8": {
      "model_module": "@jupyter-widgets/controls",
      "model_module_version": "1.5.0",
      "model_name": "HBoxModel",
      "state": {
       "children": [
        "IPY_MODEL_85454e2f75994af29fa6f4e4d04bb092",
        "IPY_MODEL_c39baa9ab4e8401e89b6dfb4cfe47fbf",
        "IPY_MODEL_ce9567c50f5b4e44b83da574027b0eab"
       ],
       "layout": "IPY_MODEL_5deff192c5ab4a808be3e4e988385a2a"
      }
     },
     "0b14798482cc44dcaa9d73a1d9176d8d": {
      "model_module": "@jupyter-widgets/base",
      "model_module_version": "1.2.0",
      "model_name": "LayoutModel",
      "state": {}
     },
     "0b19fc4c3fdd4ebcac0d73efe9b318f3": {
      "model_module": "@jupyter-widgets/controls",
      "model_module_version": "1.5.0",
      "model_name": "DescriptionStyleModel",
      "state": {
       "description_width": ""
      }
     },
     "0b98c8514ab54b589cbd5e954bd11003": {
      "model_module": "@jupyter-widgets/base",
      "model_module_version": "1.2.0",
      "model_name": "LayoutModel",
      "state": {}
     },
     "0bac36e63df24d99b08441ee383525cc": {
      "model_module": "@jupyter-widgets/output",
      "model_module_version": "1.0.0",
      "model_name": "OutputModel",
      "state": {
       "layout": "IPY_MODEL_2281f16c9af648de936ced3e560aa61f",
       "outputs": [
        {
         "data": {
          "application/vnd.jupyter.widget-view+json": {
           "model_id": "b7bc7a3df43c4c5799fc2d0f44740c2c",
           "version_major": 2,
           "version_minor": 0
          },
          "text/plain": "  0%|          | 0/1 [00:00<?, ?it/s]"
         },
         "metadata": {},
         "output_type": "display_data"
        }
       ]
      }
     },
     "0c00e2f8255a48b499d6d8bff4865d57": {
      "model_module": "@jupyter-widgets/controls",
      "model_module_version": "1.5.0",
      "model_name": "HTMLModel",
      "state": {
       "layout": "IPY_MODEL_4ca37215e392430f8ffda739b3290c69",
       "style": "IPY_MODEL_dbd10bdbf7fd4bc99fc18595ae458470",
       "value": "100%"
      }
     },
     "0c09261529964ddaa3087b23ada8f88c": {
      "model_module": "@jupyter-widgets/controls",
      "model_module_version": "1.5.0",
      "model_name": "HTMLModel",
      "state": {
       "layout": "IPY_MODEL_d0432a73da834b5e9cd9875432f4ba47",
       "style": "IPY_MODEL_bddfe8fca4c34f6ea262c2c802866edb",
       "value": "100%"
      }
     },
     "0c2f3abfe4ab41799c67cefc76573656": {
      "model_module": "@jupyter-widgets/controls",
      "model_module_version": "1.5.0",
      "model_name": "DescriptionStyleModel",
      "state": {
       "description_width": ""
      }
     },
     "0c70923901bc48618f6e62b9d41fa823": {
      "model_module": "@jupyter-widgets/controls",
      "model_module_version": "1.5.0",
      "model_name": "HTMLModel",
      "state": {
       "layout": "IPY_MODEL_2c076e785e0a4287ab73404453b90192",
       "style": "IPY_MODEL_4492f9de6c25476081da51d3a1ef43d7",
       "value": " 4/4 [00:00&lt;00:00,  9.32it/s]"
      }
     },
     "0c793ace147a44209cc00be6a46f433b": {
      "model_module": "@jupyter-widgets/controls",
      "model_module_version": "1.5.0",
      "model_name": "DescriptionStyleModel",
      "state": {
       "description_width": ""
      }
     },
     "0c87d73337f84e05a21499fd56afce2c": {
      "model_module": "@jupyter-widgets/output",
      "model_module_version": "1.0.0",
      "model_name": "OutputModel",
      "state": {
       "layout": "IPY_MODEL_23a038570a18427a935b1a49628917fb",
       "outputs": [
        {
         "data": {
          "application/vnd.jupyter.widget-view+json": {
           "model_id": "1e21d39bbdb741f99c1f66c45038b60c",
           "version_major": 2,
           "version_minor": 0
          },
          "text/plain": "  0%|          | 0/50 [00:00<?, ?it/s]"
         },
         "metadata": {},
         "output_type": "display_data"
        },
        {
         "name": "stdout",
         "output_type": "stream",
         "text": "Simulation stopped at: 00:00:36.40; speed 37.5 x real time\n"
        }
       ]
      }
     },
     "0d04f20897ab49b9bdaebee37b0c0c94": {
      "model_module": "@jupyter-widgets/controls",
      "model_module_version": "1.5.0",
      "model_name": "FloatProgressModel",
      "state": {
       "bar_style": "success",
       "layout": "IPY_MODEL_ac03098dd57c4a32bce7413f4a879384",
       "style": "IPY_MODEL_98f734155376426f80f2b3db1449751f",
       "value": 100
      }
     },
     "0d29cd21c46b49449ba7dc8a87ab717a": {
      "model_module": "@jupyter-widgets/controls",
      "model_module_version": "1.5.0",
      "model_name": "HTMLModel",
      "state": {
       "layout": "IPY_MODEL_e14e3899aaee4af49af6052ce29643c7",
       "style": "IPY_MODEL_f2d5eff311cb4a91afeefd8fc6aa2eac",
       "value": " 1/1 [00:00&lt;00:00, 10.63it/s]"
      }
     },
     "0d71b074b1c04fe6808d4acd6e4fb8ea": {
      "model_module": "@jupyter-widgets/base",
      "model_module_version": "1.2.0",
      "model_name": "LayoutModel",
      "state": {}
     },
     "0df820c07c0e484eb599c8a3e3544995": {
      "model_module": "@jupyter-widgets/output",
      "model_module_version": "1.0.0",
      "model_name": "OutputModel",
      "state": {
       "layout": "IPY_MODEL_f1af7bdf9fb94de0a93328c574d98e2a",
       "outputs": [
        {
         "data": {
          "application/vnd.jupyter.widget-view+json": {
           "model_id": "d69a2db506844ad8983bc8620a88a113",
           "version_major": 2,
           "version_minor": 0
          },
          "text/plain": "  0%|          | 0/4 [00:00<?, ?it/s]"
         },
         "metadata": {},
         "output_type": "display_data"
        },
        {
         "name": "stdout",
         "output_type": "stream",
         "text": "Simulation stopped at: 00:00:16.40; speed 0.89 x real time\n"
        }
       ]
      }
     },
     "0e3d7b6e2aaa4107803f22cee215bf42": {
      "model_module": "@jupyter-widgets/base",
      "model_module_version": "1.2.0",
      "model_name": "LayoutModel",
      "state": {}
     },
     "0f8ea1fa685e42928182eecc541aa1a5": {
      "model_module": "@jupyter-widgets/base",
      "model_module_version": "1.2.0",
      "model_name": "LayoutModel",
      "state": {}
     },
     "0fcf0850bf324c23be8b34de221b642b": {
      "model_module": "@jupyter-widgets/base",
      "model_module_version": "1.2.0",
      "model_name": "LayoutModel",
      "state": {}
     },
     "1010e0d0aa0c4dc6b97a3d25af947c30": {
      "model_module": "@jupyter-widgets/controls",
      "model_module_version": "1.5.0",
      "model_name": "ProgressStyleModel",
      "state": {
       "description_width": ""
      }
     },
     "10137788e69c46b99fa4151abf8805a7": {
      "model_module": "@jupyter-widgets/controls",
      "model_module_version": "1.5.0",
      "model_name": "HBoxModel",
      "state": {
       "children": [
        "IPY_MODEL_a3df5065b6a2444fb3c8b0726cdb9bb5",
        "IPY_MODEL_bf7466725370443fbd7a6ca7584f7bb4",
        "IPY_MODEL_6e41f68310e648588d80b41cf8f33498"
       ],
       "layout": "IPY_MODEL_97cdfa311aea4aa8bc774d50a21aa65f"
      }
     },
     "10a6faa3e9cd457aa6108255a413ee8a": {
      "model_module": "@jupyter-widgets/base",
      "model_module_version": "1.2.0",
      "model_name": "LayoutModel",
      "state": {
       "grid_area": "widget004",
       "height": "50px",
       "margin": "0px",
       "max_height": "50px",
       "max_width": "50px",
       "width": "50px"
      }
     },
     "10ba5bf4838f48a6b5946ca380d5dc2b": {
      "model_module": "@jupyter-widgets/controls",
      "model_module_version": "1.5.0",
      "model_name": "ProgressStyleModel",
      "state": {
       "description_width": ""
      }
     },
     "10db0c25cef64330bc99aa7b83c6ad94": {
      "model_module": "@jupyter-widgets/controls",
      "model_module_version": "1.5.0",
      "model_name": "DescriptionStyleModel",
      "state": {
       "description_width": ""
      }
     },
     "10e35b2e29b045cc84df3beee4133268": {
      "model_module": "@jupyter-widgets/controls",
      "model_module_version": "1.5.0",
      "model_name": "TextModel",
      "state": {
       "description": "A:",
       "layout": "IPY_MODEL_e921dc4a4e2c43cbb9968f1ed5c1e922",
       "style": "IPY_MODEL_6bd9ccdb89cf41e6a289102e7e1e42db"
      }
     },
     "10f3048a70b44ae0806eccb1ef35419d": {
      "model_module": "@jupyter-widgets/base",
      "model_module_version": "1.2.0",
      "model_name": "LayoutModel",
      "state": {}
     },
     "10f7885d3a64415186973ab8382f809f": {
      "model_module": "@jupyter-widgets/controls",
      "model_module_version": "1.5.0",
      "model_name": "FloatProgressModel",
      "state": {
       "bar_style": "success",
       "layout": "IPY_MODEL_45ca26906e6a46cb9d0d5adfb5911e75",
       "max": 1,
       "style": "IPY_MODEL_1010e0d0aa0c4dc6b97a3d25af947c30",
       "value": 1
      }
     },
     "10fca634d67e48798aee783c672935de": {
      "model_module": "@jupyter-widgets/base",
      "model_module_version": "1.2.0",
      "model_name": "LayoutModel",
      "state": {}
     },
     "13c4c3454a2f4c9fb0b5dc94a763e677": {
      "model_module": "@jupyter-widgets/controls",
      "model_module_version": "1.5.0",
      "model_name": "ButtonModel",
      "state": {
       "description": "\u2572",
       "layout": "IPY_MODEL_1c5ebfdbdccc4dd6957d6defb5f31055",
       "style": "IPY_MODEL_f6322d3ffd454440a544f3f8e58ccefd"
      }
     },
     "1418755e473847be8c37002b42978ac1": {
      "model_module": "@jupyter-widgets/controls",
      "model_module_version": "1.5.0",
      "model_name": "DescriptionStyleModel",
      "state": {
       "description_width": ""
      }
     },
     "14712b4d4a0c422cbebf6ff4fc3e9d51": {
      "model_module": "@jupyter-widgets/controls",
      "model_module_version": "1.5.0",
      "model_name": "HTMLModel",
      "state": {
       "layout": "IPY_MODEL_0771fab24795423bb85dafb71a29f6af",
       "style": "IPY_MODEL_689ddb38b0bd4e31a418ac16b51834e8",
       "value": "100%"
      }
     },
     "14885f8f681b42fbb08a6550acec64f1": {
      "model_module": "@jupyter-widgets/base",
      "model_module_version": "1.2.0",
      "model_name": "LayoutModel",
      "state": {}
     },
     "14a5215dd28d446980d3ef55cb66a128": {
      "model_module": "@jupyter-widgets/controls",
      "model_module_version": "1.5.0",
      "model_name": "DescriptionStyleModel",
      "state": {
       "description_width": ""
      }
     },
     "156a2cc3fca4439e8f3239746160ca13": {
      "model_module": "@jupyter-widgets/base",
      "model_module_version": "1.2.0",
      "model_name": "LayoutModel",
      "state": {}
     },
     "15f21a87f91a49a8a49aa460412539d6": {
      "model_module": "@jupyter-widgets/controls",
      "model_module_version": "1.5.0",
      "model_name": "ButtonModel",
      "state": {
       "description": " ",
       "layout": "IPY_MODEL_10a6faa3e9cd457aa6108255a413ee8a",
       "style": "IPY_MODEL_ef8f5d825db14c0f9ffcf5f7f43d4b59"
      }
     },
     "1611cd41d0e04a899206ef7b67f38e4b": {
      "model_module": "@jupyter-widgets/controls",
      "model_module_version": "1.5.0",
      "model_name": "ProgressStyleModel",
      "state": {
       "description_width": ""
      }
     },
     "163cc09ce6364d199b8b54e63e749037": {
      "model_module": "@jupyter-widgets/controls",
      "model_module_version": "1.5.0",
      "model_name": "FloatProgressModel",
      "state": {
       "bar_style": "success",
       "layout": "IPY_MODEL_b9810ad0933a49b6862cc3e47e3a14db",
       "max": 50,
       "style": "IPY_MODEL_c957adfd3f4645e6a43186f7f8af0c59",
       "value": 50
      }
     },
     "1655203c4cd146e3a0de80a00b9f3cd6": {
      "model_module": "@jupyter-widgets/base",
      "model_module_version": "1.2.0",
      "model_name": "LayoutModel",
      "state": {}
     },
     "16a5d843eeb143269a96f83c8c3f2c1d": {
      "model_module": "@jupyter-widgets/controls",
      "model_module_version": "1.5.0",
      "model_name": "HTMLModel",
      "state": {
       "layout": "IPY_MODEL_57f7ef0f375649bebaf67dadb8c0f290",
       "style": "IPY_MODEL_9e618ad3ed63427a87e12bf520c5fcae",
       "value": " 1/1 [00:00&lt;00:00, 10.20it/s]"
      }
     },
     "16b14b830ebc48f892988dd57ca3f319": {
      "model_module": "@jupyter-widgets/base",
      "model_module_version": "1.2.0",
      "model_name": "LayoutModel",
      "state": {}
     },
     "179275668f5b4981b77a7cfc0b683294": {
      "model_module": "@jupyter-widgets/controls",
      "model_module_version": "1.5.0",
      "model_name": "ProgressStyleModel",
      "state": {
       "description_width": ""
      }
     },
     "1861a0134a98442ebb3d94676d98326d": {
      "model_module": "@jupyter-widgets/controls",
      "model_module_version": "1.5.0",
      "model_name": "HTMLModel",
      "state": {
       "layout": "IPY_MODEL_d67df6ac26574823a78af3af60a535bb",
       "style": "IPY_MODEL_33d275ac8727420fa7d85d51c9816c9a",
       "value": " 1/1 [00:00&lt;00:00, 10.28it/s]"
      }
     },
     "186fd3f523594751b8e294bea93f7216": {
      "model_module": "@jupyter-widgets/controls",
      "model_module_version": "1.5.0",
      "model_name": "HTMLModel",
      "state": {
       "layout": "IPY_MODEL_e0ccfa9a2518452980a51f9404d559ef",
       "style": "IPY_MODEL_5c72b2682361428fbe5863a65ad6c9e7",
       "value": " 1/1 [00:00&lt;00:00, 10.75it/s]"
      }
     },
     "18a3a2e12db94835bc4286bf3546f378": {
      "model_module": "@jupyter-widgets/controls",
      "model_module_version": "1.5.0",
      "model_name": "ButtonStyleModel",
      "state": {}
     },
     "18f6533d67a240b2b60e93d21c90a5a9": {
      "model_module": "@jupyter-widgets/controls",
      "model_module_version": "1.5.0",
      "model_name": "GridBoxModel",
      "state": {
       "children": [
        "IPY_MODEL_5f4d5637281a4adfa979689a82359026",
        "IPY_MODEL_7d40c15d71d145a2bba8ca21ea1446eb",
        "IPY_MODEL_8891ecd1c2944537abe2c95d1c41e0db",
        "IPY_MODEL_15f21a87f91a49a8a49aa460412539d6",
        "IPY_MODEL_32db228135994ea5a5271612fb4a0468",
        "IPY_MODEL_930fcc50ae3744ff80d0a15db54b1821",
        "IPY_MODEL_13c4c3454a2f4c9fb0b5dc94a763e677",
        "IPY_MODEL_d4329e4eb88d4a3c91af1e3c73af12be",
        "IPY_MODEL_471cc9207cf7472aaf4f3908857f10b7",
        "IPY_MODEL_232b24bfea0a4eb4a6682eadda6e5230",
        "IPY_MODEL_5518e4f4d1054b40beb875cf54f0e739",
        "IPY_MODEL_01762b2ba7134b7b9a4873bd22673a66",
        "IPY_MODEL_fdea85cdf317497d86a456a6c6f96772",
        "IPY_MODEL_46b9fa53d9984345bd5f2ec382ab3212",
        "IPY_MODEL_3b7f40dc177a498fa229bbaa6f915fa9",
        "IPY_MODEL_ee8e3afb4f6a4d338c5f30b2db4861b4",
        "IPY_MODEL_ffb00f3bf9c64076ac2931ed419faa40",
        "IPY_MODEL_26dc7efd81854fd09a5c661f32a7795f",
        "IPY_MODEL_d0fbe3dcb5b640d5916e5510cbb82873",
        "IPY_MODEL_4976feeee24b4707b1a0c37c96366b7a",
        "IPY_MODEL_88643331ab7648eb8292c48acd4e0adf",
        "IPY_MODEL_9a9a9b2a0f9d43169dfc1503c610e8db",
        "IPY_MODEL_d55551c9eb3844b1942cba7f52fa3525",
        "IPY_MODEL_34782cec767443448762669fa5ab982a",
        "IPY_MODEL_8989943ac25f4f3c850403bbf5b0f14b"
       ],
       "layout": "IPY_MODEL_b5cc051ef2ad46efb5c02bdf54066cb0"
      }
     },
     "19112a3727074127a2a16ec21b4c3088": {
      "model_module": "@jupyter-widgets/controls",
      "model_module_version": "1.5.0",
      "model_name": "FloatProgressModel",
      "state": {
       "bar_style": "success",
       "layout": "IPY_MODEL_5fd3df434390406ca204f8a7cf257644",
       "max": 1,
       "style": "IPY_MODEL_92f329d0dc4b45d394e53aae6a012926",
       "value": 1
      }
     },
     "19213b2fc22a42e6b64288cfcfd0cda2": {
      "model_module": "@jupyter-widgets/base",
      "model_module_version": "1.2.0",
      "model_name": "LayoutModel",
      "state": {}
     },
     "19451492d09c4b289202afff5dad6b2d": {
      "model_module": "@jupyter-widgets/base",
      "model_module_version": "1.2.0",
      "model_name": "LayoutModel",
      "state": {}
     },
     "197032a703c84d339715b3b251890250": {
      "model_module": "@jupyter-widgets/controls",
      "model_module_version": "1.5.0",
      "model_name": "ButtonStyleModel",
      "state": {}
     },
     "19e440e897ca4fd480ec148e0d6da342": {
      "model_module": "@jupyter-widgets/controls",
      "model_module_version": "1.5.0",
      "model_name": "HBoxModel",
      "state": {
       "children": [
        "IPY_MODEL_743b0a8d38a74872a7600bd2c2a7b7e6",
        "IPY_MODEL_661d48703512489ca7cfb7905b44ce3d",
        "IPY_MODEL_ad1df64e0c35447f8388538820120b7d"
       ],
       "layout": "IPY_MODEL_c84b9a5fe99b4186848fad4c48160cf6"
      }
     },
     "1b2cc95b49db46eababa96ad5069dc46": {
      "model_module": "@jupyter-widgets/controls",
      "model_module_version": "1.5.0",
      "model_name": "DescriptionStyleModel",
      "state": {
       "description_width": ""
      }
     },
     "1b3614819e9d4768b76f9deb7683677f": {
      "model_module": "@jupyter-widgets/output",
      "model_module_version": "1.0.0",
      "model_name": "OutputModel",
      "state": {
       "layout": "IPY_MODEL_3ed60ef8c1044d85b913787917902752",
       "outputs": [
        {
         "data": {
          "application/vnd.jupyter.widget-view+json": {
           "model_id": "605262cabd6640758a37ec0f921b44e5",
           "version_major": 2,
           "version_minor": 0
          },
          "text/plain": "  0%|          | 0/50 [00:00<?, ?it/s]"
         },
         "metadata": {},
         "output_type": "display_data"
        },
        {
         "name": "stdout",
         "output_type": "stream",
         "text": "Simulation stopped at: 00:01:01.40; speed 36.38 x real time\n"
        }
       ]
      }
     },
     "1c5e630e62114378bf3043d34fc825af": {
      "model_module": "@jupyter-widgets/controls",
      "model_module_version": "1.5.0",
      "model_name": "HBoxModel",
      "state": {
       "children": [
        "IPY_MODEL_9a16690b90834210a3056fdb79c8be81",
        "IPY_MODEL_9585ee23a50c4a479f9284cea19b0d34",
        "IPY_MODEL_336d43f1210b4ddc994e5346d0e7fa30"
       ],
       "layout": "IPY_MODEL_2aa147cc94fd450788ec5ef4e093b569"
      }
     },
     "1c5ebfdbdccc4dd6957d6defb5f31055": {
      "model_module": "@jupyter-widgets/base",
      "model_module_version": "1.2.0",
      "model_name": "LayoutModel",
      "state": {
       "grid_area": "widget007",
       "height": "50px",
       "margin": "0px",
       "max_height": "50px",
       "max_width": "50px",
       "width": "50px"
      }
     },
     "1c879360ae1948f7aa39a164708faa4d": {
      "model_module": "@jupyter-widgets/base",
      "model_module_version": "1.2.0",
      "model_name": "LayoutModel",
      "state": {}
     },
     "1c97ec18b7ae49e7b476d2ad2f6ebc20": {
      "model_module": "@jupyter-widgets/controls",
      "model_module_version": "1.5.0",
      "model_name": "ImageModel",
      "state": {
       "_dom_classes": [
        "pixelated"
       ],
       "layout": "IPY_MODEL_c813d73e633e4a4298d541354d234f3b"
      }
     },
     "1cb5d3ea8ba84b6fb4071932085146b3": {
      "model_module": "@jupyter-widgets/base",
      "model_module_version": "1.2.0",
      "model_name": "LayoutModel",
      "state": {}
     },
     "1cf3b237d5fb4f80bf75ad26e1230fd6": {
      "model_module": "@jupyter-widgets/controls",
      "model_module_version": "1.5.0",
      "model_name": "VBoxModel",
      "state": {
       "children": [
        "IPY_MODEL_ae7328471fc242518948c79e7fa846b6",
        "IPY_MODEL_64b4f8472085484a8188c8dbdeafd06f",
        "IPY_MODEL_518a0f8c6450461083c63e631497e82f",
        "IPY_MODEL_e537d143b8ac4e649c7f55f236f567d0",
        "IPY_MODEL_4543abcc92864844915e3a7b4a022d8a"
       ],
       "layout": "IPY_MODEL_5f6786c0806c494489b6db23b260927b"
      }
     },
     "1d02d52969d6471eae981d92e04a7ef9": {
      "model_module": "@jupyter-widgets/base",
      "model_module_version": "1.2.0",
      "model_name": "LayoutModel",
      "state": {}
     },
     "1e21d39bbdb741f99c1f66c45038b60c": {
      "model_module": "@jupyter-widgets/controls",
      "model_module_version": "1.5.0",
      "model_name": "HBoxModel",
      "state": {
       "children": [
        "IPY_MODEL_65e8f6f648d8407ba01bb88ca8e9fa4c",
        "IPY_MODEL_42ae2d85ae4f4e51a33a2e0df313f536",
        "IPY_MODEL_061b5997422a462eac5207f9bdcee916"
       ],
       "layout": "IPY_MODEL_c51eacfae3aa4bcb8e38df2f6c33d462"
      }
     },
     "1e37b4664c594922984a5153df70e84f": {
      "model_module": "@jupyter-widgets/base",
      "model_module_version": "1.2.0",
      "model_name": "LayoutModel",
      "state": {}
     },
     "1e5a6d2bd3384f018f7a8586a03bebfb": {
      "model_module": "@jupyter-widgets/controls",
      "model_module_version": "1.5.0",
      "model_name": "FloatProgressModel",
      "state": {
       "bar_style": "success",
       "layout": "IPY_MODEL_aacb7296600c41b8977dae2af6605942",
       "max": 1,
       "style": "IPY_MODEL_21a09d78ebff47ebbbd864f359d95296",
       "value": 1
      }
     },
     "1edd92213f1b4a1f8e3d3213e2c34d45": {
      "model_module": "@jupyter-widgets/base",
      "model_module_version": "1.2.0",
      "model_name": "LayoutModel",
      "state": {}
     },
     "1ee43feafdf743c8aeb86711e99eaac0": {
      "model_module": "@jupyter-widgets/base",
      "model_module_version": "1.2.0",
      "model_name": "LayoutModel",
      "state": {
       "grid_area": "widget017",
       "height": "50px",
       "margin": "0px",
       "max_height": "50px",
       "max_width": "50px",
       "width": "50px"
      }
     },
     "1f370b9ca26e450b84690c1bb75d32df": {
      "model_module": "@jupyter-widgets/controls",
      "model_module_version": "1.5.0",
      "model_name": "HTMLModel",
      "state": {
       "layout": "IPY_MODEL_4899be43e88947de90bb23d27bc77454",
       "style": "IPY_MODEL_0c793ace147a44209cc00be6a46f433b",
       "value": "100%"
      }
     },
     "1f96bb22e6b942cc92b6c44af3b97278": {
      "model_module": "@jupyter-widgets/base",
      "model_module_version": "1.2.0",
      "model_name": "LayoutModel",
      "state": {}
     },
     "20492474e91b436189947b96803fb8eb": {
      "model_module": "@jupyter-widgets/controls",
      "model_module_version": "1.5.0",
      "model_name": "FloatProgressModel",
      "state": {
       "bar_style": "success",
       "layout": "IPY_MODEL_ec56964f13134875a6c661228aa9a1f6",
       "max": 1,
       "style": "IPY_MODEL_670875bdcbcf48b39ab97da4ae5f6816",
       "value": 1
      }
     },
     "20b145bdeaaf466e9ae5938b05d40ff2": {
      "model_module": "@jupyter-widgets/base",
      "model_module_version": "1.2.0",
      "model_name": "LayoutModel",
      "state": {}
     },
     "216596c81d224da5b7591895d8cb520d": {
      "model_module": "@jupyter-widgets/output",
      "model_module_version": "1.0.0",
      "model_name": "OutputModel",
      "state": {
       "layout": "IPY_MODEL_dfbc7cb80fc741ec9fbf4322f861bced",
       "outputs": [
        {
         "data": {
          "application/vnd.jupyter.widget-view+json": {
           "model_id": "535d199e04bf4d5e9e4f9cd0dc29b771",
           "version_major": 2,
           "version_minor": 0
          },
          "text/plain": "  0%|          | 0/50 [00:00<?, ?it/s]"
         },
         "metadata": {},
         "output_type": "display_data"
        },
        {
         "name": "stdout",
         "output_type": "stream",
         "text": "Simulation stopped at: 00:00:31.40; speed 31.83 x real time\n"
        }
       ]
      }
     },
     "21789661966347e9b3c55a69745e9598": {
      "model_module": "@jupyter-widgets/base",
      "model_module_version": "1.2.0",
      "model_name": "LayoutModel",
      "state": {}
     },
     "21a09d78ebff47ebbbd864f359d95296": {
      "model_module": "@jupyter-widgets/controls",
      "model_module_version": "1.5.0",
      "model_name": "ProgressStyleModel",
      "state": {
       "description_width": ""
      }
     },
     "21d0c0932559429f9d799365baf4ea8d": {
      "model_module": "@jupyter-widgets/controls",
      "model_module_version": "1.5.0",
      "model_name": "ButtonStyleModel",
      "state": {}
     },
     "2281f16c9af648de936ced3e560aa61f": {
      "model_module": "@jupyter-widgets/base",
      "model_module_version": "1.2.0",
      "model_name": "LayoutModel",
      "state": {}
     },
     "230d4fd415e248edbd2e4031792750d2": {
      "model_module": "@jupyter-widgets/base",
      "model_module_version": "1.2.0",
      "model_name": "LayoutModel",
      "state": {
       "grid_area": "widget021",
       "height": "50px",
       "margin": "0px",
       "max_height": "50px",
       "max_width": "50px",
       "width": "50px"
      }
     },
     "232b24bfea0a4eb4a6682eadda6e5230": {
      "model_module": "@jupyter-widgets/controls",
      "model_module_version": "1.5.0",
      "model_name": "ButtonModel",
      "state": {
       "description": " ",
       "layout": "IPY_MODEL_5cc357b1c077440ebb2d4ebed7f4dc85",
       "style": "IPY_MODEL_7c98cc34710445df9d619782e741f77b"
      }
     },
     "236e48e7379a4f0c9d439e15133ae0bf": {
      "model_module": "@jupyter-widgets/base",
      "model_module_version": "1.2.0",
      "model_name": "LayoutModel",
      "state": {}
     },
     "237d53535bc4459bbf5e0e7377367196": {
      "model_module": "@jupyter-widgets/controls",
      "model_module_version": "1.5.0",
      "model_name": "HTMLModel",
      "state": {
       "layout": "IPY_MODEL_f67b78dc13ef4982bbb196a258119789",
       "style": "IPY_MODEL_3b19f0734622494799f0f3ca658d3bac",
       "value": " 1/1 [00:00&lt;00:00, 11.97it/s]"
      }
     },
     "23a038570a18427a935b1a49628917fb": {
      "model_module": "@jupyter-widgets/base",
      "model_module_version": "1.2.0",
      "model_name": "LayoutModel",
      "state": {}
     },
     "247776d60d9b433aad481b5c37cbca68": {
      "model_module": "@jupyter-widgets/controls",
      "model_module_version": "1.5.0",
      "model_name": "FloatProgressModel",
      "state": {
       "bar_style": "success",
       "layout": "IPY_MODEL_a29b6397cbd9439595373a2c6202bb55",
       "max": 1,
       "style": "IPY_MODEL_6995c63a76c04ae382d147ab92992bee",
       "value": 1
      }
     },
     "2482ee9c0b3f4ed583dd48a169b5ff73": {
      "model_module": "@jupyter-widgets/base",
      "model_module_version": "1.2.0",
      "model_name": "LayoutModel",
      "state": {}
     },
     "24b3fc76e2734e38af0b40cf29830efb": {
      "model_module": "@jupyter-widgets/controls",
      "model_module_version": "1.5.0",
      "model_name": "HTMLModel",
      "state": {
       "layout": "IPY_MODEL_d7908c2db0604e85a322946644e439fc",
       "style": "IPY_MODEL_88872c5d33b04570a1a23a9721be924b",
       "value": " 1/1 [00:00&lt;00:00,  7.97it/s]"
      }
     },
     "24cc82980c2841c988117b4b3cb3869e": {
      "model_module": "@jupyter-widgets/controls",
      "model_module_version": "1.5.0",
      "model_name": "ButtonStyleModel",
      "state": {}
     },
     "2503efe8a3104538b699fdd3be97e067": {
      "model_module": "@jupyter-widgets/controls",
      "model_module_version": "1.5.0",
      "model_name": "DescriptionStyleModel",
      "state": {
       "description_width": ""
      }
     },
     "263b28d33e964af5a2307ae1fa54aff8": {
      "model_module": "@jupyter-widgets/base",
      "model_module_version": "1.2.0",
      "model_name": "LayoutModel",
      "state": {}
     },
     "26d9bf15938d43f4a9837aeed8cd0794": {
      "model_module": "@jupyter-widgets/base",
      "model_module_version": "1.2.0",
      "model_name": "LayoutModel",
      "state": {}
     },
     "26dc7efd81854fd09a5c661f32a7795f": {
      "model_module": "@jupyter-widgets/controls",
      "model_module_version": "1.5.0",
      "model_name": "ButtonModel",
      "state": {
       "description": "\uff5c",
       "layout": "IPY_MODEL_8539b43e6ebc491eb467b646bb363c1d",
       "style": "IPY_MODEL_21d0c0932559429f9d799365baf4ea8d"
      }
     },
     "26e3e20c46024d6da44afe17c536a7fa": {
      "model_module": "@jupyter-widgets/controls",
      "model_module_version": "1.5.0",
      "model_name": "HTMLModel",
      "state": {
       "layout": "IPY_MODEL_f35ecaadeb8e4a5aa7123f359e6f6b47",
       "style": "IPY_MODEL_720cfa5a06ee409688bd4510f48b62d1",
       "value": "<style>img.pixelated {image-rendering: pixelated;}</style>"
      }
     },
     "271b01f0893b4750ba68b3fb818d4123": {
      "model_module": "@jupyter-widgets/controls",
      "model_module_version": "1.5.0",
      "model_name": "FloatProgressModel",
      "state": {
       "bar_style": "success",
       "layout": "IPY_MODEL_a393d8cb4c574d0c94f7953e20683132",
       "max": 1,
       "style": "IPY_MODEL_10ba5bf4838f48a6b5946ca380d5dc2b",
       "value": 1
      }
     },
     "277820211df548eebfefe1dcaf2d1c6a": {
      "model_module": "@jupyter-widgets/base",
      "model_module_version": "1.2.0",
      "model_name": "LayoutModel",
      "state": {
       "display": "none"
      }
     },
     "27a371232efb482cb1f7dd2d7f220b80": {
      "model_module": "@jupyter-widgets/controls",
      "model_module_version": "1.5.0",
      "model_name": "ButtonStyleModel",
      "state": {}
     },
     "27b1c03096db41dc9f33864ff2261f6b": {
      "model_module": "@jupyter-widgets/controls",
      "model_module_version": "1.5.0",
      "model_name": "HTMLModel",
      "state": {
       "layout": "IPY_MODEL_559cab7d8cfa4675af460152c674ebc9",
       "style": "IPY_MODEL_fb8a291faedf461880ff891764de999d",
       "value": " 1/1 [00:00&lt;00:00, 11.07it/s]"
      }
     },
     "27e0326939dc436dafecb13aadff4c70": {
      "model_module": "@jupyter-widgets/base",
      "model_module_version": "1.2.0",
      "model_name": "LayoutModel",
      "state": {}
     },
     "27e5d133921c4280a1779e8697d9f2ab": {
      "model_module": "@jupyter-widgets/output",
      "model_module_version": "1.0.0",
      "model_name": "OutputModel",
      "state": {
       "layout": "IPY_MODEL_26d9bf15938d43f4a9837aeed8cd0794",
       "outputs": [
        {
         "data": {
          "application/vnd.jupyter.widget-view+json": {
           "model_id": "1c5e630e62114378bf3043d34fc825af",
           "version_major": 2,
           "version_minor": 0
          },
          "text/plain": "  0%|          | 0/50 [00:00<?, ?it/s]"
         },
         "metadata": {},
         "output_type": "display_data"
        },
        {
         "name": "stdout",
         "output_type": "stream",
         "text": "Simulation stopped at: 00:00:56.40; speed 36.7 x real time\n"
        }
       ]
      }
     },
     "2802f0570c494455aa5734b587259b5b": {
      "model_module": "@jupyter-widgets/output",
      "model_module_version": "1.0.0",
      "model_name": "OutputModel",
      "state": {
       "layout": "IPY_MODEL_79357791853a438d97379fbded551aec",
       "outputs": [
        {
         "data": {
          "application/vnd.jupyter.widget-view+json": {
           "model_id": "c91f18a1f6a2474eaba3cb8001e4434f",
           "version_major": 2,
           "version_minor": 0
          },
          "text/plain": "  0%|          | 0/1 [00:00<?, ?it/s]"
         },
         "metadata": {},
         "output_type": "display_data"
        }
       ]
      }
     },
     "287861e1a03e4c53b16b7fe7006a0d44": {
      "model_module": "@jupyter-widgets/output",
      "model_module_version": "1.0.0",
      "model_name": "OutputModel",
      "state": {
       "layout": "IPY_MODEL_bd5b193939404cacb1ae053a087d4beb",
       "outputs": [
        {
         "data": {
          "application/vnd.jupyter.widget-view+json": {
           "model_id": "a6f3ad1cf2bb4fb38683e033941d4242",
           "version_major": 2,
           "version_minor": 0
          },
          "text/plain": "  0%|          | 0/50 [00:00<?, ?it/s]"
         },
         "metadata": {},
         "output_type": "display_data"
        },
        {
         "name": "stdout",
         "output_type": "stream",
         "text": "Simulation stopped at: 00:00:16.00; speed 0.96 x real time\n"
        }
       ]
      }
     },
     "2881cc24571346aa8f9ac728e9c97760": {
      "model_module": "@jupyter-widgets/controls",
      "model_module_version": "1.5.0",
      "model_name": "FloatProgressModel",
      "state": {
       "bar_style": "success",
       "layout": "IPY_MODEL_d8f998c648ed4fd3bd88452b498122cb",
       "max": 1,
       "style": "IPY_MODEL_6d6ecfaea2c84a30971498e4d4ec6a09",
       "value": 1
      }
     },
     "293efafc9f9e44e9b32be07e6e783377": {
      "model_module": "@jupyter-widgets/output",
      "model_module_version": "1.0.0",
      "model_name": "OutputModel",
      "state": {
       "layout": "IPY_MODEL_99e97bb80a7b4d929a88448ee75012c0",
       "outputs": [
        {
         "data": {
          "application/vnd.jupyter.widget-view+json": {
           "model_id": "83532f2ac236493d994c64f1a77f9b58",
           "version_major": 2,
           "version_minor": 0
          },
          "text/plain": "  0%|          | 0/1 [00:00<?, ?it/s]"
         },
         "metadata": {},
         "output_type": "display_data"
        }
       ]
      }
     },
     "29acfe45b1664a7d8c6ded1ff0e0fc13": {
      "model_module": "@jupyter-widgets/controls",
      "model_module_version": "1.5.0",
      "model_name": "HBoxModel",
      "state": {
       "children": [
        "IPY_MODEL_fd98943f82a440539b9a8b0e92e4ef08",
        "IPY_MODEL_247776d60d9b433aad481b5c37cbca68",
        "IPY_MODEL_a49356f083344402986a7b27e86b3448"
       ],
       "layout": "IPY_MODEL_34821f172d894070b9a6e0537c7bac50"
      }
     },
     "2a8d34de3eab44fb8ae8fcb5ea1f54b7": {
      "model_module": "@jupyter-widgets/base",
      "model_module_version": "1.2.0",
      "model_name": "LayoutModel",
      "state": {}
     },
     "2aa147cc94fd450788ec5ef4e093b569": {
      "model_module": "@jupyter-widgets/base",
      "model_module_version": "1.2.0",
      "model_name": "LayoutModel",
      "state": {}
     },
     "2b284bf9858e4e33819799e48715cfd8": {
      "buffers": [
       {
        "data": "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",
        "encoding": "base64",
        "path": [
         "value"
        ]
       }
      ],
      "model_module": "@jupyter-widgets/controls",
      "model_module_version": "1.5.0",
      "model_name": "ImageModel",
      "state": {
       "layout": "IPY_MODEL_97bfce87160d4bf6a628366073b17ad4"
      }
     },
     "2b7ac1571bf54a07a68d51c0aa135262": {
      "model_module": "@jupyter-widgets/controls",
      "model_module_version": "1.5.0",
      "model_name": "ProgressStyleModel",
      "state": {
       "description_width": ""
      }
     },
     "2ba0c2ce4488464fb5f7ee41d90e9ccd": {
      "model_module": "@jupyter-widgets/base",
      "model_module_version": "1.2.0",
      "model_name": "LayoutModel",
      "state": {}
     },
     "2c076e785e0a4287ab73404453b90192": {
      "model_module": "@jupyter-widgets/base",
      "model_module_version": "1.2.0",
      "model_name": "LayoutModel",
      "state": {}
     },
     "2c55a9043c3a43bf94909978d7a2d5fc": {
      "model_module": "@jupyter-widgets/controls",
      "model_module_version": "1.5.0",
      "model_name": "DescriptionStyleModel",
      "state": {
       "description_width": ""
      }
     },
     "2e37a5b268d0499a9bec28ba09f43cf0": {
      "model_module": "@jupyter-widgets/controls",
      "model_module_version": "1.5.0",
      "model_name": "FloatProgressModel",
      "state": {
       "bar_style": "success",
       "layout": "IPY_MODEL_accf09040b6542ae831661681d6e2c0e",
       "max": 50,
       "style": "IPY_MODEL_45d1e42d908041dbb10abdcc6486de7f",
       "value": 50
      }
     },
     "2e79560802a848b3bde988b7d1ca31ba": {
      "model_module": "@jupyter-widgets/base",
      "model_module_version": "1.2.0",
      "model_name": "LayoutModel",
      "state": {}
     },
     "2e7b88cbd96c451ea7e094e2e36d0f4e": {
      "model_module": "@jupyter-widgets/controls",
      "model_module_version": "1.5.0",
      "model_name": "FloatProgressModel",
      "state": {
       "bar_style": "success",
       "layout": "IPY_MODEL_09574a513b1e47e8a29ff3d934c817fd",
       "max": 1,
       "style": "IPY_MODEL_574d8dae7d1141d3a5c60f966fbebf24",
       "value": 1
      }
     },
     "2e89b73f2b1c481fb93ae3ea2354d614": {
      "model_module": "@jupyter-widgets/base",
      "model_module_version": "1.2.0",
      "model_name": "LayoutModel",
      "state": {}
     },
     "2f438c03e2c14e88a85edbc9985e2c79": {
      "model_module": "@jupyter-widgets/controls",
      "model_module_version": "1.5.0",
      "model_name": "HTMLModel",
      "state": {
       "layout": "IPY_MODEL_367f421373db4b958dad13a92520c74b",
       "style": "IPY_MODEL_b4e864f2a52a43e7b3bddd74c58031e6",
       "value": "100%"
      }
     },
     "2fb3a89dc6164b18a59355d70352ce4d": {
      "model_module": "@jupyter-widgets/base",
      "model_module_version": "1.2.0",
      "model_name": "LayoutModel",
      "state": {}
     },
     "2fce6f9fa43f406f889487070537128f": {
      "model_module": "@jupyter-widgets/controls",
      "model_module_version": "1.5.0",
      "model_name": "DescriptionStyleModel",
      "state": {
       "description_width": ""
      }
     },
     "302d2e26155d455fbae30790e794bcd3": {
      "model_module": "@jupyter-widgets/controls",
      "model_module_version": "1.5.0",
      "model_name": "LabelModel",
      "state": {
       "layout": "IPY_MODEL_fec7ee6f053a46549464f0bee05629f0",
       "style": "IPY_MODEL_bff5d03fb6a04b2e8a6a56ca6b65a92a",
       "value": "Left IR"
      }
     },
     "304f303cdf944c6598fb9f16ee3f2594": {
      "model_module": "@jupyter-widgets/base",
      "model_module_version": "1.2.0",
      "model_name": "LayoutModel",
      "state": {}
     },
     "30b6b906478d4c9fbfc05ffa97838647": {
      "model_module": "@jupyter-widgets/controls",
      "model_module_version": "1.5.0",
      "model_name": "DescriptionStyleModel",
      "state": {
       "description_width": ""
      }
     },
     "30c03997d876479e8f0bde2ed83ed924": {
      "model_module": "@jupyter-widgets/controls",
      "model_module_version": "1.5.0",
      "model_name": "DescriptionStyleModel",
      "state": {
       "description_width": ""
      }
     },
     "30ca3205ec254f08ae7706c86cc256e6": {
      "model_module": "@jupyter-widgets/base",
      "model_module_version": "1.2.0",
      "model_name": "LayoutModel",
      "state": {}
     },
     "3127949f0c2549f28a52153d4dc08481": {
      "model_module": "@jupyter-widgets/controls",
      "model_module_version": "1.5.0",
      "model_name": "HTMLModel",
      "state": {
       "layout": "IPY_MODEL_1655203c4cd146e3a0de80a00b9f3cd6",
       "style": "IPY_MODEL_eb9a13dd339d49eb8163c388a680955c",
       "value": " 1/1 [00:00&lt;00:00, 10.95it/s]"
      }
     },
     "314d0c0264f649ec8005f9822a87d5a5": {
      "model_module": "@jupyter-widgets/controls",
      "model_module_version": "1.5.0",
      "model_name": "HTMLModel",
      "state": {
       "layout": "IPY_MODEL_39962042ef994ac1ab83748cc45c8eb1",
       "style": "IPY_MODEL_ec7bca6229254d6c883147062e2bc29b",
       "value": " 1/1 [00:00&lt;00:00, 11.06it/s]"
      }
     },
     "31a24ba4e9154c798551ac058c663bc7": {
      "model_module": "@jupyter-widgets/controls",
      "model_module_version": "1.5.0",
      "model_name": "FloatProgressModel",
      "state": {
       "bar_style": "success",
       "layout": "IPY_MODEL_69782e50b3b0466cb2ac9b99b088ae51",
       "max": 4,
       "style": "IPY_MODEL_5e779a4d6847444c8ce101a97ae9a514",
       "value": 4
      }
     },
     "31b55420199241d39989f05791a85150": {
      "model_module": "@jupyter-widgets/base",
      "model_module_version": "1.2.0",
      "model_name": "LayoutModel",
      "state": {}
     },
     "3211d607f53b461f9896675df4eedf24": {
      "model_module": "@jupyter-widgets/base",
      "model_module_version": "1.2.0",
      "model_name": "LayoutModel",
      "state": {}
     },
     "3258726ae5e64452900be4a1a988e4c4": {
      "model_module": "@jupyter-widgets/controls",
      "model_module_version": "1.5.0",
      "model_name": "ProgressStyleModel",
      "state": {
       "description_width": ""
      }
     },
     "3294b50012224e2ca416fec44748a237": {
      "model_module": "@jupyter-widgets/base",
      "model_module_version": "1.2.0",
      "model_name": "LayoutModel",
      "state": {}
     },
     "32c26dc27de94ad98a721cd1010a394f": {
      "model_module": "@jupyter-widgets/controls",
      "model_module_version": "1.5.0",
      "model_name": "HTMLModel",
      "state": {
       "layout": "IPY_MODEL_b70fe3f0e7a749d88422009af40127dc",
       "style": "IPY_MODEL_1b2cc95b49db46eababa96ad5069dc46",
       "value": " 50/50 [00:00&lt;00:00,  9.51it/s]"
      }
     },
     "32db228135994ea5a5271612fb4a0468": {
      "model_module": "@jupyter-widgets/controls",
      "model_module_version": "1.5.0",
      "model_name": "ButtonModel",
      "state": {
       "description": "\u2b08",
       "layout": "IPY_MODEL_c67cd91b61ec4f53a99d7428c45e60b9",
       "style": "IPY_MODEL_6595f817a2764651b60209cc352d84f7"
      }
     },
     "33357535d50747c98cab299cdf5c2be7": {
      "model_module": "@jupyter-widgets/output",
      "model_module_version": "1.0.0",
      "model_name": "OutputModel",
      "state": {
       "layout": "IPY_MODEL_36ff82bc61284e25b296a2415e7c0579",
       "outputs": [
        {
         "data": {
          "application/vnd.jupyter.widget-view+json": {
           "model_id": "6b2266f599e248d89dfcdec98ddd8c35",
           "version_major": 2,
           "version_minor": 0
          },
          "text/plain": "  0%|          | 0/1 [00:00<?, ?it/s]"
         },
         "metadata": {},
         "output_type": "display_data"
        }
       ]
      }
     },
     "335cebc3937f4697b6b933d0a7ea6555": {
      "model_module": "@jupyter-widgets/output",
      "model_module_version": "1.0.0",
      "model_name": "OutputModel",
      "state": {
       "layout": "IPY_MODEL_9a91a0a9b6f44dc58f22fdb2784cceed",
       "outputs": [
        {
         "data": {
          "application/vnd.jupyter.widget-view+json": {
           "model_id": "f846cf4447d849fdac7270df6d5b4186",
           "version_major": 2,
           "version_minor": 0
          },
          "text/plain": "  0%|          | 0/1 [00:00<?, ?it/s]"
         },
         "metadata": {},
         "output_type": "display_data"
        }
       ]
      }
     },
     "336d43f1210b4ddc994e5346d0e7fa30": {
      "model_module": "@jupyter-widgets/controls",
      "model_module_version": "1.5.0",
      "model_name": "HTMLModel",
      "state": {
       "layout": "IPY_MODEL_67786de549ff46059f2f1440dfc8f8a8",
       "style": "IPY_MODEL_e2c79de6e5764b228c0dfcc9d902dc99",
       "value": " 50/50 [00:00&lt;00:00, 168.23it/s]"
      }
     },
     "33d275ac8727420fa7d85d51c9816c9a": {
      "model_module": "@jupyter-widgets/controls",
      "model_module_version": "1.5.0",
      "model_name": "DescriptionStyleModel",
      "state": {
       "description_width": ""
      }
     },
     "342e732ed1f54eb1b2f5cec39f332b05": {
      "model_module": "@jupyter-widgets/output",
      "model_module_version": "1.0.0",
      "model_name": "OutputModel",
      "state": {
       "layout": "IPY_MODEL_fa9b8ede38bd4b8195730e0a4f6e49dc",
       "outputs": [
        {
         "data": {
          "application/vnd.jupyter.widget-view+json": {
           "model_id": "eb529079c0c047598ff2813fad1da9ed",
           "version_major": 2,
           "version_minor": 0
          },
          "text/plain": "  0%|          | 0/1 [00:00<?, ?it/s]"
         },
         "metadata": {},
         "output_type": "display_data"
        }
       ]
      }
     },
     "34782cec767443448762669fa5ab982a": {
      "model_module": "@jupyter-widgets/controls",
      "model_module_version": "1.5.0",
      "model_name": "ButtonModel",
      "state": {
       "description": " ",
       "layout": "IPY_MODEL_35367f7d0160477ab6838a406a1e7328",
       "style": "IPY_MODEL_24cc82980c2841c988117b4b3cb3869e"
      }
     },
     "347b8f76bceb45b1a074c9b93ee9e6c1": {
      "model_module": "@jupyter-widgets/base",
      "model_module_version": "1.2.0",
      "model_name": "LayoutModel",
      "state": {}
     },
     "34821f172d894070b9a6e0537c7bac50": {
      "model_module": "@jupyter-widgets/base",
      "model_module_version": "1.2.0",
      "model_name": "LayoutModel",
      "state": {}
     },
     "34bc91b0bdb74fcf83723b94ac65c038": {
      "model_module": "@jupyter-widgets/controls",
      "model_module_version": "1.5.0",
      "model_name": "DescriptionStyleModel",
      "state": {
       "description_width": ""
      }
     },
     "35367f7d0160477ab6838a406a1e7328": {
      "model_module": "@jupyter-widgets/base",
      "model_module_version": "1.2.0",
      "model_name": "LayoutModel",
      "state": {
       "grid_area": "widget024",
       "height": "50px",
       "margin": "0px",
       "max_height": "50px",
       "max_width": "50px",
       "width": "50px"
      }
     },
     "3633766cd147408f80b7d18d83258014": {
      "model_module": "@jupyter-widgets/controls",
      "model_module_version": "1.5.0",
      "model_name": "DescriptionStyleModel",
      "state": {
       "description_width": ""
      }
     },
     "367f421373db4b958dad13a92520c74b": {
      "model_module": "@jupyter-widgets/base",
      "model_module_version": "1.2.0",
      "model_name": "LayoutModel",
      "state": {}
     },
     "36ff82bc61284e25b296a2415e7c0579": {
      "model_module": "@jupyter-widgets/base",
      "model_module_version": "1.2.0",
      "model_name": "LayoutModel",
      "state": {}
     },
     "3705096fb2434763bd9f87af704551e9": {
      "model_module": "@jupyter-widgets/controls",
      "model_module_version": "1.5.0",
      "model_name": "HBoxModel",
      "state": {
       "children": [
        "IPY_MODEL_eb996a0df8e14fca85e47a6e5c43a809",
        "IPY_MODEL_19112a3727074127a2a16ec21b4c3088",
        "IPY_MODEL_a4dfa026119a420e88b548186fc0799c"
       ],
       "layout": "IPY_MODEL_60276b83c9a042618165a852b3b383ad"
      }
     },
     "376d197cc29e4e57b14529bb0e29f0e9": {
      "model_module": "@jupyter-widgets/controls",
      "model_module_version": "1.5.0",
      "model_name": "DescriptionStyleModel",
      "state": {
       "description_width": ""
      }
     },
     "37f44f0382e8436cb25cdc5a5cb4d662": {
      "model_module": "@jupyter-widgets/base",
      "model_module_version": "1.2.0",
      "model_name": "LayoutModel",
      "state": {}
     },
     "3811e51a3a264b7bb18d1a25c72a8051": {
      "model_module": "@jupyter-widgets/base",
      "model_module_version": "1.2.0",
      "model_name": "LayoutModel",
      "state": {
       "grid_area": "widget003",
       "height": "50px",
       "margin": "0px",
       "max_height": "50px",
       "max_width": "50px",
       "width": "50px"
      }
     },
     "381404f0e5114828ace785a9b6e5d3e1": {
      "model_module": "@jupyter-widgets/base",
      "model_module_version": "1.2.0",
      "model_name": "LayoutModel",
      "state": {}
     },
     "387c5c2284e54cc8bac6e2f0aab47993": {
      "model_module": "@jupyter-widgets/base",
      "model_module_version": "1.2.0",
      "model_name": "LayoutModel",
      "state": {
       "display": "flex"
      }
     },
     "390f5f2714574ba39ff950797af58f9c": {
      "model_module": "@jupyter-widgets/base",
      "model_module_version": "1.2.0",
      "model_name": "LayoutModel",
      "state": {}
     },
     "394e7bb0fd214c7fb3ef1d893d24877e": {
      "model_module": "@jupyter-widgets/base",
      "model_module_version": "1.2.0",
      "model_name": "LayoutModel",
      "state": {}
     },
     "39962042ef994ac1ab83748cc45c8eb1": {
      "model_module": "@jupyter-widgets/base",
      "model_module_version": "1.2.0",
      "model_name": "LayoutModel",
      "state": {}
     },
     "39c15f71a67144c693fca69d25ed9c4f": {
      "model_module": "@jupyter-widgets/controls",
      "model_module_version": "1.5.0",
      "model_name": "FloatProgressModel",
      "state": {
       "bar_style": "success",
       "layout": "IPY_MODEL_655dc08523bd47569ff16f34a86a6b12",
       "max": 1,
       "style": "IPY_MODEL_fd05709470d6447aab83f0dfd6043574",
       "value": 1
      }
     },
     "39ff9d8d7014461292dc6e632b53304f": {
      "model_module": "@jupyter-widgets/base",
      "model_module_version": "1.2.0",
      "model_name": "LayoutModel",
      "state": {}
     },
     "3b19f0734622494799f0f3ca658d3bac": {
      "model_module": "@jupyter-widgets/controls",
      "model_module_version": "1.5.0",
      "model_name": "DescriptionStyleModel",
      "state": {
       "description_width": ""
      }
     },
     "3b37687a90ae45ffb0bfa4b33e9a2a78": {
      "model_module": "@jupyter-widgets/controls",
      "model_module_version": "1.5.0",
      "model_name": "DescriptionStyleModel",
      "state": {
       "description_width": ""
      }
     },
     "3b7f40dc177a498fa229bbaa6f915fa9": {
      "model_module": "@jupyter-widgets/controls",
      "model_module_version": "1.5.0",
      "model_name": "ButtonModel",
      "state": {
       "description": "\u27a1",
       "layout": "IPY_MODEL_9493e0ded99f46e1bb2f887173713da2",
       "style": "IPY_MODEL_18a3a2e12db94835bc4286bf3546f378"
      }
     },
     "3bb6e400703947848688295cfbb5ba11": {
      "model_module": "@jupyter-widgets/base",
      "model_module_version": "1.2.0",
      "model_name": "LayoutModel",
      "state": {}
     },
     "3beeba536be446eda00f572ae1d05509": {
      "model_module": "@jupyter-widgets/controls",
      "model_module_version": "1.5.0",
      "model_name": "HTMLModel",
      "state": {
       "layout": "IPY_MODEL_2482ee9c0b3f4ed583dd48a169b5ff73",
       "style": "IPY_MODEL_5d16b42b9c8046dd80196503c2cb2226",
       "value": " 50/50 [00:00&lt;00:00, 69.71it/s]"
      }
     },
     "3c97b818ec264cb593a611e426bf1406": {
      "model_module": "@jupyter-widgets/base",
      "model_module_version": "1.2.0",
      "model_name": "LayoutModel",
      "state": {}
     },
     "3d56a0c8fe1342a6a0c943d67186d7d9": {
      "model_module": "@jupyter-widgets/base",
      "model_module_version": "1.2.0",
      "model_name": "LayoutModel",
      "state": {}
     },
     "3dd10d66b9574eb48330c4ffb520a136": {
      "model_module": "@jupyter-widgets/base",
      "model_module_version": "1.2.0",
      "model_name": "LayoutModel",
      "state": {}
     },
     "3e793a2aa9b1461da7674f6ab3819155": {
      "model_module": "@jupyter-widgets/controls",
      "model_module_version": "1.5.0",
      "model_name": "HBoxModel",
      "state": {
       "children": [
        "IPY_MODEL_441f85a9a6b54fc897abee65b9653d4f",
        "IPY_MODEL_f6ad0517a63b44e28d908b6e4edc9f0f",
        "IPY_MODEL_ab3e9fb6191848c29e6a62a5de74a7dd"
       ],
       "layout": "IPY_MODEL_730d24fca72b475c8ad744de0fe50962"
      }
     },
     "3ed60ef8c1044d85b913787917902752": {
      "model_module": "@jupyter-widgets/base",
      "model_module_version": "1.2.0",
      "model_name": "LayoutModel",
      "state": {}
     },
     "3f837e72836a433a97b7bf7002a6c189": {
      "model_module": "@jupyter-widgets/base",
      "model_module_version": "1.2.0",
      "model_name": "LayoutModel",
      "state": {
       "grid_area": "widget006",
       "height": "50px",
       "margin": "0px",
       "max_height": "50px",
       "max_width": "50px",
       "width": "50px"
      }
     },
     "3f97476bd8884aa8960d6787b38e9850": {
      "model_module": "@jupyter-widgets/controls",
      "model_module_version": "1.5.0",
      "model_name": "DescriptionStyleModel",
      "state": {
       "description_width": ""
      }
     },
     "3fd7f3e535f742698e8c07bd29e6de42": {
      "model_module": "@jupyter-widgets/controls",
      "model_module_version": "1.5.0",
      "model_name": "FloatProgressModel",
      "state": {
       "bar_style": "success",
       "layout": "IPY_MODEL_5c5fcf3812bd456cbe97720bb9f08d76",
       "max": 1,
       "style": "IPY_MODEL_edf83e81e02344a2a2d30413c7257e95",
       "value": 1
      }
     },
     "40bb120175634d78970370736e677414": {
      "model_module": "@jupyter-widgets/base",
      "model_module_version": "1.2.0",
      "model_name": "LayoutModel",
      "state": {}
     },
     "41702280efe146debd9e7c02d15a81a4": {
      "model_module": "@jupyter-widgets/base",
      "model_module_version": "1.2.0",
      "model_name": "LayoutModel",
      "state": {}
     },
     "41ee04d5ba9341a4be9edd0dd0060ce0": {
      "model_module": "@jupyter-widgets/controls",
      "model_module_version": "1.5.0",
      "model_name": "FloatProgressModel",
      "state": {
       "bar_style": "success",
       "layout": "IPY_MODEL_7aacbb131f784ca2b414ee50f4217d2d",
       "max": 50,
       "style": "IPY_MODEL_f097a17692574adeb985cb39f0d01c17",
       "value": 50
      }
     },
     "422c4d24d3994d5bb27813840190f344": {
      "model_module": "@jupyter-widgets/base",
      "model_module_version": "1.2.0",
      "model_name": "LayoutModel",
      "state": {}
     },
     "4293a785d3eb46398c4182a0ae707162": {
      "model_module": "@jupyter-widgets/controls",
      "model_module_version": "1.5.0",
      "model_name": "FloatProgressModel",
      "state": {
       "bar_style": "success",
       "layout": "IPY_MODEL_2e89b73f2b1c481fb93ae3ea2354d614",
       "max": 1,
       "style": "IPY_MODEL_a0b17eff4ab24c8c8fa689824b672e20",
       "value": 1
      }
     },
     "42ae2d85ae4f4e51a33a2e0df313f536": {
      "model_module": "@jupyter-widgets/controls",
      "model_module_version": "1.5.0",
      "model_name": "FloatProgressModel",
      "state": {
       "bar_style": "success",
       "layout": "IPY_MODEL_263b28d33e964af5a2307ae1fa54aff8",
       "max": 50,
       "style": "IPY_MODEL_3258726ae5e64452900be4a1a988e4c4",
       "value": 50
      }
     },
     "4372700d246e4d2b946b751a55dcd324": {
      "model_module": "@jupyter-widgets/base",
      "model_module_version": "1.2.0",
      "model_name": "LayoutModel",
      "state": {
       "width": "760px"
      }
     },
     "4405512025d847f68b00bc4c497bf07d": {
      "model_module": "@jupyter-widgets/base",
      "model_module_version": "1.2.0",
      "model_name": "LayoutModel",
      "state": {}
     },
     "441f85a9a6b54fc897abee65b9653d4f": {
      "model_module": "@jupyter-widgets/controls",
      "model_module_version": "1.5.0",
      "model_name": "HTMLModel",
      "state": {
       "layout": "IPY_MODEL_10fca634d67e48798aee783c672935de",
       "style": "IPY_MODEL_a481c1aadba74caa8fe9a8ceb32a3229",
       "value": "100%"
      }
     },
     "442c7639f8eb49d18c40ca657b6fd294": {
      "model_module": "@jupyter-widgets/controls",
      "model_module_version": "1.5.0",
      "model_name": "ProgressStyleModel",
      "state": {
       "description_width": ""
      }
     },
     "44876cab86e5421793b7be9c08f1521d": {
      "model_module": "@jupyter-widgets/base",
      "model_module_version": "1.2.0",
      "model_name": "LayoutModel",
      "state": {}
     },
     "4492f9de6c25476081da51d3a1ef43d7": {
      "model_module": "@jupyter-widgets/controls",
      "model_module_version": "1.5.0",
      "model_name": "DescriptionStyleModel",
      "state": {
       "description_width": ""
      }
     },
     "44f5fc50dce243b98a76a1199929df42": {
      "model_module": "@jupyter-widgets/controls",
      "model_module_version": "1.5.0",
      "model_name": "DescriptionStyleModel",
      "state": {
       "description_width": ""
      }
     },
     "4543abcc92864844915e3a7b4a022d8a": {
      "model_module": "@jupyter-widgets/controls",
      "model_module_version": "1.5.0",
      "model_name": "VBoxModel",
      "state": {
       "children": [
        "IPY_MODEL_cbcdf9a9436448fb8507ac172ed04735",
        "IPY_MODEL_8727a61e9420441dacb0d2be5439f720",
        "IPY_MODEL_e8b05b0312cd41e588dd2c85cd9fa366",
        "IPY_MODEL_b9eb477b86964727b68acaa46f18b338"
       ],
       "layout": "IPY_MODEL_9d66ccc7d1534c5cac6f485049d26948"
      }
     },
     "45757960118346cc89f309a8da80d8d7": {
      "model_module": "@jupyter-widgets/output",
      "model_module_version": "1.0.0",
      "model_name": "OutputModel",
      "state": {
       "layout": "IPY_MODEL_ac04fdbdcfd14ac497fc4dd9e225a64f",
       "outputs": [
        {
         "data": {
          "application/vnd.jupyter.widget-view+json": {
           "model_id": "a6a67446bc1d4030b889a6e8feaed4aa",
           "version_major": 2,
           "version_minor": 0
          },
          "text/plain": "  0%|          | 0/1 [00:00<?, ?it/s]"
         },
         "metadata": {},
         "output_type": "display_data"
        }
       ]
      }
     },
     "45ca26906e6a46cb9d0d5adfb5911e75": {
      "model_module": "@jupyter-widgets/base",
      "model_module_version": "1.2.0",
      "model_name": "LayoutModel",
      "state": {}
     },
     "45d1e42d908041dbb10abdcc6486de7f": {
      "model_module": "@jupyter-widgets/controls",
      "model_module_version": "1.5.0",
      "model_name": "ProgressStyleModel",
      "state": {
       "description_width": ""
      }
     },
     "4673aec6355d43d79c31c6fcaea88bc5": {
      "model_module": "@jupyter-widgets/controls",
      "model_module_version": "1.5.0",
      "model_name": "TextareaModel",
      "state": {
       "description": "State:",
       "layout": "IPY_MODEL_4bbb4ffd9a874d61bc1a40a54a67cd28",
       "style": "IPY_MODEL_b965db48d9a748f586d23313d1a5fac3"
      }
     },
     "46b9fa53d9984345bd5f2ec382ab3212": {
      "model_module": "@jupyter-widgets/controls",
      "model_module_version": "1.5.0",
      "model_name": "ButtonModel",
      "state": {
       "description": "\uff0d",
       "layout": "IPY_MODEL_8c9ef88eeb5c400ebc07d4603d2adff4",
       "style": "IPY_MODEL_ada5de858a1f44d5a32ef5143c9905dd"
      }
     },
     "471cc9207cf7472aaf4f3908857f10b7": {
      "model_module": "@jupyter-widgets/controls",
      "model_module_version": "1.5.0",
      "model_name": "ButtonModel",
      "state": {
       "description": "\u2571",
       "layout": "IPY_MODEL_cc1c39ec3dc743aba5f7485176ee0c6f",
       "style": "IPY_MODEL_b04bb806bf744cb5a6096bca2efdefa6"
      }
     },
     "4760325ba074460bb6f5ad25ab93f216": {
      "model_module": "@jupyter-widgets/controls",
      "model_module_version": "1.5.0",
      "model_name": "FloatProgressModel",
      "state": {
       "bar_style": "success",
       "layout": "IPY_MODEL_21789661966347e9b3c55a69745e9598",
       "max": 1,
       "style": "IPY_MODEL_e77c561ccfb548428569875b5a263e55",
       "value": 1
      }
     },
     "4765554300e643818329d70c6b981b7b": {
      "model_module": "@jupyter-widgets/controls",
      "model_module_version": "1.5.0",
      "model_name": "FloatProgressModel",
      "state": {
       "bar_style": "success",
       "layout": "IPY_MODEL_2e79560802a848b3bde988b7d1ca31ba",
       "max": 50,
       "style": "IPY_MODEL_4e39a12c25e247e987d8ae1cc0513188",
       "value": 50
      }
     },
     "484bddbb579a4027ab418f055daf545f": {
      "model_module": "@jupyter-widgets/output",
      "model_module_version": "1.0.0",
      "model_name": "OutputModel",
      "state": {
       "layout": "IPY_MODEL_ba43722e6b4746b39db9593559155cd3",
       "outputs": [
        {
         "data": {
          "application/vnd.jupyter.widget-view+json": {
           "model_id": "f9d1c47bf3fe4137bd6972cd05f22eab",
           "version_major": 2,
           "version_minor": 0
          },
          "text/plain": "  0%|          | 0/50 [00:00<?, ?it/s]"
         },
         "metadata": {},
         "output_type": "display_data"
        },
        {
         "name": "stdout",
         "output_type": "stream",
         "text": "Simulation stopped at: 00:00:46.40; speed 37.74 x real time\n"
        }
       ]
      }
     },
     "488ff28dce434cc2937945620d4ae3d5": {
      "model_module": "@jupyter-widgets/base",
      "model_module_version": "1.2.0",
      "model_name": "LayoutModel",
      "state": {}
     },
     "4899be43e88947de90bb23d27bc77454": {
      "model_module": "@jupyter-widgets/base",
      "model_module_version": "1.2.0",
      "model_name": "LayoutModel",
      "state": {}
     },
     "48b36becf05346e7baa43f3b39bbbfad": {
      "model_module": "@jupyter-widgets/controls",
      "model_module_version": "1.5.0",
      "model_name": "DescriptionStyleModel",
      "state": {
       "description_width": ""
      }
     },
     "48e304db4daf432280fd220fcdc22511": {
      "model_module": "@jupyter-widgets/base",
      "model_module_version": "1.2.0",
      "model_name": "LayoutModel",
      "state": {}
     },
     "493ac468d5e2456285eb0c88c8547406": {
      "model_module": "@jupyter-widgets/controls",
      "model_module_version": "1.5.0",
      "model_name": "HTMLModel",
      "state": {
       "layout": "IPY_MODEL_dc19a549baef466786075b65149c8732",
       "style": "IPY_MODEL_2503efe8a3104538b699fdd3be97e067",
       "value": "100%"
      }
     },
     "4976feeee24b4707b1a0c37c96366b7a": {
      "model_module": "@jupyter-widgets/controls",
      "model_module_version": "1.5.0",
      "model_name": "ButtonModel",
      "state": {
       "description": " ",
       "layout": "IPY_MODEL_cb3ec5ba7a42439d86aa4a0e9cb7f3cc",
       "style": "IPY_MODEL_fac10e0e3c3f4190ae6d219c08948148"
      }
     },
     "4991207273d3439981b613f3da9c8592": {
      "model_module": "@jupyter-widgets/controls",
      "model_module_version": "1.5.0",
      "model_name": "HTMLModel",
      "state": {
       "layout": "IPY_MODEL_20b145bdeaaf466e9ae5938b05d40ff2",
       "style": "IPY_MODEL_68c9db69653f4d9c99a8fb74a608a7ff",
       "value": "100%"
      }
     },
     "49aa7a74ec3b4023a44d5f0b519a7cbd": {
      "model_module": "@jupyter-widgets/base",
      "model_module_version": "1.2.0",
      "model_name": "LayoutModel",
      "state": {}
     },
     "49c32f0522814862b8b57d110de6ee47": {
      "model_module": "@jupyter-widgets/base",
      "model_module_version": "1.2.0",
      "model_name": "LayoutModel",
      "state": {}
     },
     "4a207d835f3c45969d46de1a0de28075": {
      "model_module": "@jupyter-widgets/controls",
      "model_module_version": "1.5.0",
      "model_name": "DescriptionStyleModel",
      "state": {
       "description_width": ""
      }
     },
     "4abd98a33c294e50a433e026ee28fe29": {
      "model_module": "@jupyter-widgets/output",
      "model_module_version": "1.0.0",
      "model_name": "OutputModel",
      "state": {
       "layout": "IPY_MODEL_517697c3b4a545c2927b61b8860ff4bc",
       "outputs": [
        {
         "data": {
          "application/vnd.jupyter.widget-view+json": {
           "model_id": "df2ada0be49b43ec87256cefe4fb8663",
           "version_major": 2,
           "version_minor": 0
          },
          "text/plain": "  0%|          | 0/50 [00:00<?, ?it/s]"
         },
         "metadata": {},
         "output_type": "display_data"
        },
        {
         "name": "stdout",
         "output_type": "stream",
         "text": "Simulation stopped at: 00:00:51.40; speed 35.85 x real time\n"
        }
       ]
      }
     },
     "4b83bdc2ed1443c8939d048d01ebf641": {
      "model_module": "@jupyter-widgets/base",
      "model_module_version": "1.2.0",
      "model_name": "LayoutModel",
      "state": {}
     },
     "4ba600ecdc7c452285279ffe4e278fec": {
      "model_module": "@jupyter-widgets/controls",
      "model_module_version": "1.5.0",
      "model_name": "HTMLModel",
      "state": {
       "layout": "IPY_MODEL_ebd0ea0a49d845b1b7b713e31c2f9cc9",
       "style": "IPY_MODEL_ec8eba58b51547bcbe2e45e12931ef93",
       "value": "<style>img.pixelated {image-rendering: pixelated;}</style>"
      }
     },
     "4bbb4ffd9a874d61bc1a40a54a67cd28": {
      "model_module": "@jupyter-widgets/base",
      "model_module_version": "1.2.0",
      "model_name": "LayoutModel",
      "state": {
       "display": "none"
      }
     },
     "4ca37215e392430f8ffda739b3290c69": {
      "model_module": "@jupyter-widgets/base",
      "model_module_version": "1.2.0",
      "model_name": "LayoutModel",
      "state": {}
     },
     "4cdb3095d06543d0a8c4dbc20496babd": {
      "model_module": "@jupyter-widgets/controls",
      "model_module_version": "1.5.0",
      "model_name": "TextModel",
      "state": {
       "description": "Name:",
       "layout": "IPY_MODEL_739b49288105477580457e786ce79246",
       "style": "IPY_MODEL_035062335f194c64b80a6b75b2f20dda"
      }
     },
     "4d659e6235304ec89543e8cfc2eb188d": {
      "model_module": "@jupyter-widgets/base",
      "model_module_version": "1.2.0",
      "model_name": "LayoutModel",
      "state": {}
     },
     "4e01efa55733432f80c22a5ba2f00015": {
      "model_module": "@jupyter-widgets/base",
      "model_module_version": "1.2.0",
      "model_name": "LayoutModel",
      "state": {}
     },
     "4e39a12c25e247e987d8ae1cc0513188": {
      "model_module": "@jupyter-widgets/controls",
      "model_module_version": "1.5.0",
      "model_name": "ProgressStyleModel",
      "state": {
       "description_width": ""
      }
     },
     "4ecd82d2316a45089b5b3394463eeadf": {
      "model_module": "@jupyter-widgets/controls",
      "model_module_version": "1.5.0",
      "model_name": "HTMLModel",
      "state": {
       "layout": "IPY_MODEL_31b55420199241d39989f05791a85150",
       "style": "IPY_MODEL_9aac90b09cca4846b3c85a59447015cc",
       "value": "100%"
      }
     },
     "4eff0d26e20c4bd2a3ac4c36c4a61845": {
      "model_module": "@jupyter-widgets/controls",
      "model_module_version": "1.5.0",
      "model_name": "FloatProgressModel",
      "state": {
       "bar_style": "success",
       "layout": "IPY_MODEL_394e7bb0fd214c7fb3ef1d893d24877e",
       "max": 1,
       "style": "IPY_MODEL_a0056d741de24a2eb565717692490585",
       "value": 1
      }
     },
     "4f2bd0a1daf145d593020e39b33bddc4": {
      "model_module": "@jupyter-widgets/controls",
      "model_module_version": "1.5.0",
      "model_name": "HTMLModel",
      "state": {
       "layout": "IPY_MODEL_bb16ce0a17e742a19be7f2e26e62ac0f",
       "style": "IPY_MODEL_c2693a16efc646be8e5e1f83a921a6ad",
       "value": "100%"
      }
     },
     "4f944db183c64eeea75365d60ca8ec53": {
      "model_module": "@jupyter-widgets/base",
      "model_module_version": "1.2.0",
      "model_name": "LayoutModel",
      "state": {}
     },
     "517697c3b4a545c2927b61b8860ff4bc": {
      "model_module": "@jupyter-widgets/base",
      "model_module_version": "1.2.0",
      "model_name": "LayoutModel",
      "state": {}
     },
     "518a0f8c6450461083c63e631497e82f": {
      "model_module": "@jupyter-widgets/controls",
      "model_module_version": "1.5.0",
      "model_name": "VBoxModel",
      "state": {
       "children": [
        "IPY_MODEL_1c97ec18b7ae49e7b476d2ad2f6ebc20",
        "IPY_MODEL_7f4fa28b69804efa8860b131918361bb",
        "IPY_MODEL_aeae578a50a0447e987744527410312b",
        "IPY_MODEL_07d05e7d2ed74bcfb8ddb43fcc9e8934",
        "IPY_MODEL_10e35b2e29b045cc84df3beee4133268",
        "IPY_MODEL_7f0b1ba725b8437188a7bc2863321867",
        "IPY_MODEL_d1aec5c533004259959c964c79061800",
        "IPY_MODEL_063a14a9827e465c93c6e9091d7db05e",
        "IPY_MODEL_4673aec6355d43d79c31c6fcaea88bc5"
       ],
       "layout": "IPY_MODEL_8b61ad45ee4041eaa73348a79ed4d113"
      }
     },
     "518c2aa1572249388642c4be622c8541": {
      "model_module": "@jupyter-widgets/controls",
      "model_module_version": "1.5.0",
      "model_name": "HBoxModel",
      "state": {
       "children": [
        "IPY_MODEL_0c00e2f8255a48b499d6d8bff4865d57",
        "IPY_MODEL_39c15f71a67144c693fca69d25ed9c4f",
        "IPY_MODEL_eb9b921bdabd4785996cad3bcf33570d"
       ],
       "layout": "IPY_MODEL_8da6fba3b70845089fdcd3efaf389240"
      }
     },
     "51f046b6ef1048708922a4e6d7f11a49": {
      "model_module": "@jupyter-widgets/output",
      "model_module_version": "1.0.0",
      "model_name": "OutputModel",
      "state": {
       "layout": "IPY_MODEL_4d659e6235304ec89543e8cfc2eb188d",
       "outputs": [
        {
         "data": {
          "application/vnd.jupyter.widget-view+json": {
           "model_id": "e3a1ab76279048808663761fe5e48ca6",
           "version_major": 2,
           "version_minor": 0
          },
          "text/plain": "  0%|          | 0/1 [00:00<?, ?it/s]"
         },
         "metadata": {},
         "output_type": "display_data"
        }
       ]
      }
     },
     "5287daf8e2aa4e6b91eb108d8c957ee7": {
      "model_module": "@jupyter-widgets/controls",
      "model_module_version": "1.5.0",
      "model_name": "HTMLModel",
      "state": {
       "layout": "IPY_MODEL_7f8c8528fee94d96b3f47d66a62f732b",
       "style": "IPY_MODEL_cf83a02e465d41d7a3c2de87af01e817",
       "value": "100%"
      }
     },
     "529d338d624e47599f2529bededf0928": {
      "model_module": "@jupyter-widgets/base",
      "model_module_version": "1.2.0",
      "model_name": "LayoutModel",
      "state": {}
     },
     "532b49c75d5242009f0812c5d4b7dd6a": {
      "model_module": "@jupyter-widgets/output",
      "model_module_version": "1.0.0",
      "model_name": "OutputModel",
      "state": {
       "layout": "IPY_MODEL_b3e69aea593e4d389ae648b5af2c50fe",
       "outputs": [
        {
         "data": {
          "application/vnd.jupyter.widget-view+json": {
           "model_id": "d77ff0ec87a04501b280f85e044d1adf",
           "version_major": 2,
           "version_minor": 0
          },
          "text/plain": "  0%|          | 0/1 [00:00<?, ?it/s]"
         },
         "metadata": {},
         "output_type": "display_data"
        }
       ]
      }
     },
     "535d199e04bf4d5e9e4f9cd0dc29b771": {
      "model_module": "@jupyter-widgets/controls",
      "model_module_version": "1.5.0",
      "model_name": "HBoxModel",
      "state": {
       "children": [
        "IPY_MODEL_63d54ef6f6fc478d9fd6e88aa5f74a81",
        "IPY_MODEL_c8213afb0c024184ad9d9e5c184db5d9",
        "IPY_MODEL_06471db67ab0413f82aa40efba72c861"
       ],
       "layout": "IPY_MODEL_1d02d52969d6471eae981d92e04a7ef9"
      }
     },
     "53bf45de4c6644468b69d85c396d7681": {
      "model_module": "@jupyter-widgets/controls",
      "model_module_version": "1.5.0",
      "model_name": "FloatProgressModel",
      "state": {
       "bar_style": "success",
       "layout": "IPY_MODEL_b3571d0cfb6744cd95408b3d67d37870",
       "max": 1,
       "style": "IPY_MODEL_067c34745f824cdc8b9f43cbe423afd9",
       "value": 1
      }
     },
     "54bdd1f1dde84ea5b20b34997998847c": {
      "model_module": "@jupyter-widgets/base",
      "model_module_version": "1.2.0",
      "model_name": "LayoutModel",
      "state": {}
     },
     "5518e4f4d1054b40beb875cf54f0e739": {
      "model_module": "@jupyter-widgets/controls",
      "model_module_version": "1.5.0",
      "model_name": "ButtonModel",
      "state": {
       "description": "\u2b05",
       "layout": "IPY_MODEL_c35d05d9bfd249b4b86db4f506fc27b5",
       "style": "IPY_MODEL_8f1105df94914faa8bdd1966d6cb635b"
      }
     },
     "553ca13e6d3f4ebab0bd0ab9088c53dc": {
      "model_module": "@jupyter-widgets/base",
      "model_module_version": "1.2.0",
      "model_name": "LayoutModel",
      "state": {}
     },
     "559cab7d8cfa4675af460152c674ebc9": {
      "model_module": "@jupyter-widgets/base",
      "model_module_version": "1.2.0",
      "model_name": "LayoutModel",
      "state": {}
     },
     "55c2641124d0488e97a4546a1953adf3": {
      "model_module": "@jupyter-widgets/controls",
      "model_module_version": "1.5.0",
      "model_name": "FloatProgressModel",
      "state": {
       "bar_style": "success",
       "layout": "IPY_MODEL_64429d45d64d4e4ba5dd364cb1b33362",
       "max": 5,
       "style": "IPY_MODEL_d2265fb053244ed0b65dc9337598e7de",
       "value": 5
      }
     },
     "560abdf6f3cb4d2dab600d85ed3e6c78": {
      "model_module": "@jupyter-widgets/controls",
      "model_module_version": "1.5.0",
      "model_name": "HBoxModel",
      "state": {
       "children": [
        "IPY_MODEL_0c09261529964ddaa3087b23ada8f88c",
        "IPY_MODEL_163cc09ce6364d199b8b54e63e749037",
        "IPY_MODEL_02d7d007619f4b8daaac145e957ea504"
       ],
       "layout": "IPY_MODEL_df2f01241aad4a6aa8da60bd49d1463d"
      }
     },
     "5618e52194ea4cc99a3af842ae4ac694": {
      "model_module": "@jupyter-widgets/controls",
      "model_module_version": "1.5.0",
      "model_name": "DescriptionStyleModel",
      "state": {
       "description_width": ""
      }
     },
     "56a03b36023e42fd8801088e58ea830c": {
      "model_module": "@jupyter-widgets/controls",
      "model_module_version": "1.5.0",
      "model_name": "HBoxModel",
      "state": {
       "children": [
        "IPY_MODEL_4f2bd0a1daf145d593020e39b33bddc4",
        "IPY_MODEL_0d04f20897ab49b9bdaebee37b0c0c94",
        "IPY_MODEL_96196c55269546d2a33ad547c43de918"
       ],
       "layout": "IPY_MODEL_8b29baedf34c45fab49704b1a14e6291"
      }
     },
     "56e7da0501a147dc80ea5d8e722858d5": {
      "model_module": "@jupyter-widgets/output",
      "model_module_version": "1.0.0",
      "model_name": "OutputModel",
      "state": {
       "layout": "IPY_MODEL_666efde87457437b97f757c3a14f9e8b",
       "outputs": [
        {
         "data": {
          "application/vnd.jupyter.widget-view+json": {
           "model_id": "9d9bab3732e84aa6b8acfba385f68693",
           "version_major": 2,
           "version_minor": 0
          },
          "text/plain": "  0%|          | 0/1 [00:00<?, ?it/s]"
         },
         "metadata": {},
         "output_type": "display_data"
        }
       ]
      }
     },
     "574d8dae7d1141d3a5c60f966fbebf24": {
      "model_module": "@jupyter-widgets/controls",
      "model_module_version": "1.5.0",
      "model_name": "ProgressStyleModel",
      "state": {
       "description_width": ""
      }
     },
     "57798c272176407cbf4bbfa8c86383b6": {
      "model_module": "@jupyter-widgets/controls",
      "model_module_version": "1.5.0",
      "model_name": "DescriptionStyleModel",
      "state": {
       "description_width": ""
      }
     },
     "57cb0ca5111a4b79b3ba6962e36d3509": {
      "model_module": "@jupyter-widgets/controls",
      "model_module_version": "1.5.0",
      "model_name": "DescriptionStyleModel",
      "state": {
       "description_width": ""
      }
     },
     "57f7ef0f375649bebaf67dadb8c0f290": {
      "model_module": "@jupyter-widgets/base",
      "model_module_version": "1.2.0",
      "model_name": "LayoutModel",
      "state": {}
     },
     "5887e1ac7fe148a6a567dae50778dab0": {
      "model_module": "@jupyter-widgets/base",
      "model_module_version": "1.2.0",
      "model_name": "LayoutModel",
      "state": {
       "grid_area": "widget022",
       "height": "50px",
       "margin": "0px",
       "max_height": "50px",
       "max_width": "50px",
       "width": "50px"
      }
     },
     "5888e7befde740c79c1d804420496209": {
      "model_module": "@jupyter-widgets/controls",
      "model_module_version": "1.5.0",
      "model_name": "HTMLModel",
      "state": {
       "layout": "IPY_MODEL_0b14798482cc44dcaa9d73a1d9176d8d",
       "style": "IPY_MODEL_5adad3a6880e44a2bcc3a0922b370e02",
       "value": "100%"
      }
     },
     "58caabfd447941ffba9d34cbcee08ba2": {
      "model_module": "@jupyter-widgets/controls",
      "model_module_version": "1.5.0",
      "model_name": "HTMLModel",
      "state": {
       "layout": "IPY_MODEL_9e100795882a4968950585ae4ff8ba49",
       "style": "IPY_MODEL_a21238e2bc944b9db6d2ea05e79a255e",
       "value": "<style>img.pixelated {image-rendering: pixelated;}</style>"
      }
     },
     "595a99eb78c548b18f6c53ec6caf8aaf": {
      "model_module": "@jupyter-widgets/base",
      "model_module_version": "1.2.0",
      "model_name": "LayoutModel",
      "state": {}
     },
     "5a2c8e0c2fa649499920ab7a00158378": {
      "model_module": "@jupyter-widgets/base",
      "model_module_version": "1.2.0",
      "model_name": "LayoutModel",
      "state": {}
     },
     "5adad3a6880e44a2bcc3a0922b370e02": {
      "model_module": "@jupyter-widgets/controls",
      "model_module_version": "1.5.0",
      "model_name": "DescriptionStyleModel",
      "state": {
       "description_width": ""
      }
     },
     "5aef272e7e2d4ec6a96663acea933402": {
      "model_module": "@jupyter-widgets/controls",
      "model_module_version": "1.5.0",
      "model_name": "DescriptionStyleModel",
      "state": {
       "description_width": ""
      }
     },
     "5bab9756bd074d2aacc28f7ac9504da0": {
      "model_module": "@jupyter-widgets/controls",
      "model_module_version": "1.5.0",
      "model_name": "HTMLModel",
      "state": {
       "layout": "IPY_MODEL_5d1f55d6527f4fd59865c4f84d51c4a4",
       "style": "IPY_MODEL_4a207d835f3c45969d46de1a0de28075",
       "value": "100%"
      }
     },
     "5c2f484d7b084671a3a75badb35ec1e6": {
      "model_module": "@jupyter-widgets/controls",
      "model_module_version": "1.5.0",
      "model_name": "HTMLModel",
      "state": {
       "layout": "IPY_MODEL_bcd19e5b175841349c4a2da77a014c91",
       "style": "IPY_MODEL_9013967f353947d2bd89df57210c172a",
       "value": " 1/1 [00:00&lt;00:00,  9.12it/s]"
      }
     },
     "5c4e0fb036db422e907489afa05cbbf3": {
      "model_module": "@jupyter-widgets/base",
      "model_module_version": "1.2.0",
      "model_name": "LayoutModel",
      "state": {}
     },
     "5c5fcf3812bd456cbe97720bb9f08d76": {
      "model_module": "@jupyter-widgets/base",
      "model_module_version": "1.2.0",
      "model_name": "LayoutModel",
      "state": {}
     },
     "5c72b2682361428fbe5863a65ad6c9e7": {
      "model_module": "@jupyter-widgets/controls",
      "model_module_version": "1.5.0",
      "model_name": "DescriptionStyleModel",
      "state": {
       "description_width": ""
      }
     },
     "5c900e1b892344e48e7ce6146fe439ea": {
      "model_module": "@jupyter-widgets/base",
      "model_module_version": "1.2.0",
      "model_name": "LayoutModel",
      "state": {
       "display": "flex"
      }
     },
     "5cc357b1c077440ebb2d4ebed7f4dc85": {
      "model_module": "@jupyter-widgets/base",
      "model_module_version": "1.2.0",
      "model_name": "LayoutModel",
      "state": {
       "grid_area": "widget010",
       "height": "50px",
       "margin": "0px",
       "max_height": "50px",
       "max_width": "50px",
       "width": "50px"
      }
     },
     "5d04dde864a24a7395401132f1c38168": {
      "model_module": "@jupyter-widgets/output",
      "model_module_version": "1.0.0",
      "model_name": "OutputModel",
      "state": {
       "layout": "IPY_MODEL_74c22b53a1074eb3b61074d42f7abe7c",
       "outputs": [
        {
         "data": {
          "application/vnd.jupyter.widget-view+json": {
           "model_id": "72af9c027c554abb9dbe88fa1e429329",
           "version_major": 2,
           "version_minor": 0
          },
          "text/plain": "  0%|          | 0/1 [00:00<?, ?it/s]"
         },
         "metadata": {},
         "output_type": "display_data"
        }
       ]
      }
     },
     "5d16b42b9c8046dd80196503c2cb2226": {
      "model_module": "@jupyter-widgets/controls",
      "model_module_version": "1.5.0",
      "model_name": "DescriptionStyleModel",
      "state": {
       "description_width": ""
      }
     },
     "5d1f55d6527f4fd59865c4f84d51c4a4": {
      "model_module": "@jupyter-widgets/base",
      "model_module_version": "1.2.0",
      "model_name": "LayoutModel",
      "state": {}
     },
     "5d59a48713ca451c94bc17630d3bb3f0": {
      "model_module": "@jupyter-widgets/base",
      "model_module_version": "1.2.0",
      "model_name": "LayoutModel",
      "state": {}
     },
     "5d746379b8e7497e9673475860741e76": {
      "model_module": "@jupyter-widgets/output",
      "model_module_version": "1.0.0",
      "model_name": "OutputModel",
      "state": {
       "layout": "IPY_MODEL_dae8dace6826417d8611d9bd22a957ae",
       "outputs": [
        {
         "data": {
          "application/vnd.jupyter.widget-view+json": {
           "model_id": "83d676e8cefe4a3cbc03977fb4a177d2",
           "version_major": 2,
           "version_minor": 0
          },
          "text/plain": "  0%|          | 0/50 [00:00<?, ?it/s]"
         },
         "metadata": {},
         "output_type": "display_data"
        },
        {
         "name": "stdout",
         "output_type": "stream",
         "text": "Simulation stopped at: 00:00:41.40; speed 34.03 x real time\n"
        }
       ]
      }
     },
     "5deff192c5ab4a808be3e4e988385a2a": {
      "model_module": "@jupyter-widgets/base",
      "model_module_version": "1.2.0",
      "model_name": "LayoutModel",
      "state": {}
     },
     "5e779a4d6847444c8ce101a97ae9a514": {
      "model_module": "@jupyter-widgets/controls",
      "model_module_version": "1.5.0",
      "model_name": "ProgressStyleModel",
      "state": {
       "description_width": ""
      }
     },
     "5f4d5637281a4adfa979689a82359026": {
      "model_module": "@jupyter-widgets/controls",
      "model_module_version": "1.5.0",
      "model_name": "ButtonModel",
      "state": {
       "description": "\u2b09",
       "layout": "IPY_MODEL_ff6574aa98854f54beb0e5cd5689e15c",
       "style": "IPY_MODEL_6fd86e5f6c6d4772bb94cfef5e9a7948"
      }
     },
     "5f6786c0806c494489b6db23b260927b": {
      "model_module": "@jupyter-widgets/base",
      "model_module_version": "1.2.0",
      "model_name": "LayoutModel",
      "state": {}
     },
     "5f683f7c102749bdb33d6c91245d4226": {
      "model_module": "@jupyter-widgets/base",
      "model_module_version": "1.2.0",
      "model_name": "LayoutModel",
      "state": {}
     },
     "5fd3df434390406ca204f8a7cf257644": {
      "model_module": "@jupyter-widgets/base",
      "model_module_version": "1.2.0",
      "model_name": "LayoutModel",
      "state": {}
     },
     "601903ac5cee4166bad5fee0f8f09fa8": {
      "model_module": "@jupyter-widgets/controls",
      "model_module_version": "1.5.0",
      "model_name": "DescriptionStyleModel",
      "state": {
       "description_width": ""
      }
     },
     "60276b83c9a042618165a852b3b383ad": {
      "model_module": "@jupyter-widgets/base",
      "model_module_version": "1.2.0",
      "model_name": "LayoutModel",
      "state": {}
     },
     "604c6e8def5a46ba95466e847e554d20": {
      "model_module": "@jupyter-widgets/base",
      "model_module_version": "1.2.0",
      "model_name": "LayoutModel",
      "state": {}
     },
     "605262cabd6640758a37ec0f921b44e5": {
      "model_module": "@jupyter-widgets/controls",
      "model_module_version": "1.5.0",
      "model_name": "HBoxModel",
      "state": {
       "children": [
        "IPY_MODEL_2f438c03e2c14e88a85edbc9985e2c79",
        "IPY_MODEL_41ee04d5ba9341a4be9edd0dd0060ce0",
        "IPY_MODEL_751f3d84f8e9421781976bbcef8c3af8"
       ],
       "layout": "IPY_MODEL_8f0b0984ebaa437abc99b5235a14b728"
      }
     },
     "60ab534c0c454722af6d17a80ea58465": {
      "model_module": "@jupyter-widgets/controls",
      "model_module_version": "1.5.0",
      "model_name": "HTMLModel",
      "state": {
       "layout": "IPY_MODEL_fb115c48867149fe8130ce417811b126",
       "style": "IPY_MODEL_e776fcd5a83545998fab7e5cf613ee88",
       "value": "100%"
      }
     },
     "60d3b239b30d4451a7ffaae47ceba721": {
      "model_module": "@jupyter-widgets/base",
      "model_module_version": "1.2.0",
      "model_name": "LayoutModel",
      "state": {}
     },
     "60fc233f9fe6455498381590c9fd59a4": {
      "model_module": "@jupyter-widgets/base",
      "model_module_version": "1.2.0",
      "model_name": "LayoutModel",
      "state": {}
     },
     "61cca5ba72cd44a0900f4384fb2067fb": {
      "model_module": "@jupyter-widgets/base",
      "model_module_version": "1.2.0",
      "model_name": "LayoutModel",
      "state": {}
     },
     "625f607d74c741519bd36ebdd8cfb2a6": {
      "model_module": "@jupyter-widgets/base",
      "model_module_version": "1.2.0",
      "model_name": "LayoutModel",
      "state": {}
     },
     "62ae879fb683424285a0710220d63316": {
      "model_module": "@jupyter-widgets/base",
      "model_module_version": "1.2.0",
      "model_name": "LayoutModel",
      "state": {}
     },
     "62b3332b89f84bfb97b16607a5a2fba1": {
      "model_module": "@jupyter-widgets/output",
      "model_module_version": "1.0.0",
      "model_name": "OutputModel",
      "state": {
       "layout": "IPY_MODEL_cb52d0f728b3443b8ebd4ba7b0dc91fb",
       "outputs": [
        {
         "data": {
          "application/vnd.jupyter.widget-view+json": {
           "model_id": "a3038ddef9de4c2eba18ad6e18205d12",
           "version_major": 2,
           "version_minor": 0
          },
          "text/plain": "  0%|          | 0/1 [00:00<?, ?it/s]"
         },
         "metadata": {},
         "output_type": "display_data"
        }
       ]
      }
     },
     "62da895ae51f4d058d55b169305b4970": {
      "model_module": "@jupyter-widgets/controls",
      "model_module_version": "1.5.0",
      "model_name": "FloatProgressModel",
      "state": {
       "bar_style": "success",
       "layout": "IPY_MODEL_0b98c8514ab54b589cbd5e954bd11003",
       "max": 1,
       "style": "IPY_MODEL_8b3f8946136c4e7b941ad240d54d3c21",
       "value": 1
      }
     },
     "6309a6bab02d493e8f77e8493c354162": {
      "model_module": "@jupyter-widgets/controls",
      "model_module_version": "1.5.0",
      "model_name": "HTMLModel",
      "state": {
       "layout": "IPY_MODEL_3dd10d66b9574eb48330c4ffb520a136",
       "style": "IPY_MODEL_7a3318f29ccb45a8b93e93f3ba599d7b",
       "value": " 1/1 [00:00&lt;00:00, 10.83it/s]"
      }
     },
     "635d3540e1ae4b64be753d53ce5d6ccd": {
      "model_module": "@jupyter-widgets/base",
      "model_module_version": "1.2.0",
      "model_name": "LayoutModel",
      "state": {}
     },
     "63683d0fdaeb41dda9ab604209d8f2d7": {
      "model_module": "@jupyter-widgets/base",
      "model_module_version": "1.2.0",
      "model_name": "LayoutModel",
      "state": {}
     },
     "63be6586ce7f4cbfaa666595e084aaff": {
      "model_module": "@jupyter-widgets/base",
      "model_module_version": "1.2.0",
      "model_name": "LayoutModel",
      "state": {}
     },
     "63d54ef6f6fc478d9fd6e88aa5f74a81": {
      "model_module": "@jupyter-widgets/controls",
      "model_module_version": "1.5.0",
      "model_name": "HTMLModel",
      "state": {
       "layout": "IPY_MODEL_37f44f0382e8436cb25cdc5a5cb4d662",
       "style": "IPY_MODEL_72204befcc294daa8946b5ecb4f50cd9",
       "value": "100%"
      }
     },
     "640d4a93493c41a59f02b3471322e03f": {
      "model_module": "@jupyter-widgets/base",
      "model_module_version": "1.2.0",
      "model_name": "LayoutModel",
      "state": {}
     },
     "64429d45d64d4e4ba5dd364cb1b33362": {
      "model_module": "@jupyter-widgets/base",
      "model_module_version": "1.2.0",
      "model_name": "LayoutModel",
      "state": {}
     },
     "64b4f8472085484a8188c8dbdeafd06f": {
      "model_module": "@jupyter-widgets/controls",
      "model_module_version": "1.5.0",
      "model_name": "CheckboxModel",
      "state": {
       "description": "Real time",
       "disabled": false,
       "layout": "IPY_MODEL_888f11f4d2d442018a6c97c1fa0bf691",
       "style": "IPY_MODEL_10db0c25cef64330bc99aa7b83c6ad94",
       "value": false
      }
     },
     "651cea548e054a078c548d3b100097c4": {
      "model_module": "@jupyter-widgets/base",
      "model_module_version": "1.2.0",
      "model_name": "LayoutModel",
      "state": {}
     },
     "654b0db00ebb46eea5caee31bda9b398": {
      "model_module": "@jupyter-widgets/controls",
      "model_module_version": "1.5.0",
      "model_name": "ProgressStyleModel",
      "state": {
       "description_width": ""
      }
     },
     "655dc08523bd47569ff16f34a86a6b12": {
      "model_module": "@jupyter-widgets/base",
      "model_module_version": "1.2.0",
      "model_name": "LayoutModel",
      "state": {}
     },
     "6595f817a2764651b60209cc352d84f7": {
      "model_module": "@jupyter-widgets/controls",
      "model_module_version": "1.5.0",
      "model_name": "ButtonStyleModel",
      "state": {}
     },
     "65e8f6f648d8407ba01bb88ca8e9fa4c": {
      "model_module": "@jupyter-widgets/controls",
      "model_module_version": "1.5.0",
      "model_name": "HTMLModel",
      "state": {
       "layout": "IPY_MODEL_381404f0e5114828ace785a9b6e5d3e1",
       "style": "IPY_MODEL_2fce6f9fa43f406f889487070537128f",
       "value": "100%"
      }
     },
     "661d48703512489ca7cfb7905b44ce3d": {
      "model_module": "@jupyter-widgets/controls",
      "model_module_version": "1.5.0",
      "model_name": "FloatProgressModel",
      "state": {
       "bar_style": "success",
       "layout": "IPY_MODEL_0d71b074b1c04fe6808d4acd6e4fb8ea",
       "max": 1,
       "style": "IPY_MODEL_afd8d2d7541247e78ac0525e1855a879",
       "value": 1
      }
     },
     "666efde87457437b97f757c3a14f9e8b": {
      "model_module": "@jupyter-widgets/base",
      "model_module_version": "1.2.0",
      "model_name": "LayoutModel",
      "state": {}
     },
     "66dec05f09e44342bf2093ac47fb76c6": {
      "model_module": "@jupyter-widgets/controls",
      "model_module_version": "1.5.0",
      "model_name": "DescriptionStyleModel",
      "state": {
       "description_width": ""
      }
     },
     "670875bdcbcf48b39ab97da4ae5f6816": {
      "model_module": "@jupyter-widgets/controls",
      "model_module_version": "1.5.0",
      "model_name": "ProgressStyleModel",
      "state": {
       "description_width": ""
      }
     },
     "674ae62318d04d11bec4b82aa1f8352b": {
      "model_module": "@jupyter-widgets/controls",
      "model_module_version": "1.5.0",
      "model_name": "ButtonStyleModel",
      "state": {}
     },
     "67786de549ff46059f2f1440dfc8f8a8": {
      "model_module": "@jupyter-widgets/base",
      "model_module_version": "1.2.0",
      "model_name": "LayoutModel",
      "state": {}
     },
     "6813f20ca24446f6940ec78097fff27d": {
      "model_module": "@jupyter-widgets/base",
      "model_module_version": "1.2.0",
      "model_name": "LayoutModel",
      "state": {}
     },
     "689ddb38b0bd4e31a418ac16b51834e8": {
      "model_module": "@jupyter-widgets/controls",
      "model_module_version": "1.5.0",
      "model_name": "DescriptionStyleModel",
      "state": {
       "description_width": ""
      }
     },
     "68c9db69653f4d9c99a8fb74a608a7ff": {
      "model_module": "@jupyter-widgets/controls",
      "model_module_version": "1.5.0",
      "model_name": "DescriptionStyleModel",
      "state": {
       "description_width": ""
      }
     },
     "69252e37ee424ac496d585d8debb78e1": {
      "model_module": "@jupyter-widgets/controls",
      "model_module_version": "1.5.0",
      "model_name": "ProgressStyleModel",
      "state": {
       "description_width": ""
      }
     },
     "69782e50b3b0466cb2ac9b99b088ae51": {
      "model_module": "@jupyter-widgets/base",
      "model_module_version": "1.2.0",
      "model_name": "LayoutModel",
      "state": {}
     },
     "6987a177e4e046408d6953af7969af27": {
      "model_module": "@jupyter-widgets/base",
      "model_module_version": "1.2.0",
      "model_name": "LayoutModel",
      "state": {}
     },
     "6995c63a76c04ae382d147ab92992bee": {
      "model_module": "@jupyter-widgets/controls",
      "model_module_version": "1.5.0",
      "model_name": "ProgressStyleModel",
      "state": {
       "description_width": ""
      }
     },
     "69feb7fa75734d4a8ae7054ee63657f0": {
      "model_module": "@jupyter-widgets/controls",
      "model_module_version": "1.5.0",
      "model_name": "ProgressStyleModel",
      "state": {
       "description_width": ""
      }
     },
     "6a220e1de41e4703be0da3963c724543": {
      "model_module": "@jupyter-widgets/base",
      "model_module_version": "1.2.0",
      "model_name": "LayoutModel",
      "state": {}
     },
     "6b0ef6a37c3248fd998ea09db4d11475": {
      "model_module": "@jupyter-widgets/base",
      "model_module_version": "1.2.0",
      "model_name": "LayoutModel",
      "state": {}
     },
     "6b2266f599e248d89dfcdec98ddd8c35": {
      "model_module": "@jupyter-widgets/controls",
      "model_module_version": "1.5.0",
      "model_name": "HBoxModel",
      "state": {
       "children": [
        "IPY_MODEL_f92711c696e64a8f8fc2d631aa49cd0d",
        "IPY_MODEL_4760325ba074460bb6f5ad25ab93f216",
        "IPY_MODEL_959e33a5dc2543a8bdaa7aa823ed538a"
       ],
       "layout": "IPY_MODEL_6d32443285e442d8914acf3eccfe65bb"
      }
     },
     "6bd9ccdb89cf41e6a289102e7e1e42db": {
      "model_module": "@jupyter-widgets/controls",
      "model_module_version": "1.5.0",
      "model_name": "DescriptionStyleModel",
      "state": {
       "description_width": ""
      }
     },
     "6c4cda9d13f8461297e8f75ecf839c5a": {
      "model_module": "@jupyter-widgets/base",
      "model_module_version": "1.2.0",
      "model_name": "LayoutModel",
      "state": {}
     },
     "6d25bbb6cd8a442183ea5d795f5e6fa1": {
      "model_module": "@jupyter-widgets/base",
      "model_module_version": "1.2.0",
      "model_name": "LayoutModel",
      "state": {}
     },
     "6d32443285e442d8914acf3eccfe65bb": {
      "model_module": "@jupyter-widgets/base",
      "model_module_version": "1.2.0",
      "model_name": "LayoutModel",
      "state": {}
     },
     "6d6ecfaea2c84a30971498e4d4ec6a09": {
      "model_module": "@jupyter-widgets/controls",
      "model_module_version": "1.5.0",
      "model_name": "ProgressStyleModel",
      "state": {
       "description_width": ""
      }
     },
     "6d9adb667f774632a0b98228b44bb059": {
      "model_module": "@jupyter-widgets/controls",
      "model_module_version": "1.5.0",
      "model_name": "HTMLModel",
      "state": {
       "layout": "IPY_MODEL_595a99eb78c548b18f6c53ec6caf8aaf",
       "style": "IPY_MODEL_66dec05f09e44342bf2093ac47fb76c6",
       "value": " 1/1 [00:00&lt;00:00,  9.70it/s]"
      }
     },
     "6db02cdf39eb4484bfe82c8787098726": {
      "model_module": "@jupyter-widgets/controls",
      "model_module_version": "1.5.0",
      "model_name": "DescriptionStyleModel",
      "state": {
       "description_width": ""
      }
     },
     "6e269deff8aa403992b6df0f9018c4ee": {
      "model_module": "@jupyter-widgets/base",
      "model_module_version": "1.2.0",
      "model_name": "LayoutModel",
      "state": {}
     },
     "6e41f68310e648588d80b41cf8f33498": {
      "model_module": "@jupyter-widgets/controls",
      "model_module_version": "1.5.0",
      "model_name": "HTMLModel",
      "state": {
       "layout": "IPY_MODEL_9756a1ce9e1f4db1921075edc88c8896",
       "style": "IPY_MODEL_8ac59d6229e34996af2884163f341484",
       "value": " 1/1 [00:00&lt;00:00, 11.29it/s]"
      }
     },
     "6f4997b699894357bc1267ed3c5ed350": {
      "model_module": "@jupyter-widgets/output",
      "model_module_version": "1.0.0",
      "model_name": "OutputModel",
      "state": {
       "layout": "IPY_MODEL_981836c4ff794548925839b3b85eee51",
       "outputs": [
        {
         "data": {
          "application/vnd.jupyter.widget-view+json": {
           "model_id": "8384b0bb55d246e5b1718fbb63bcb55b",
           "version_major": 2,
           "version_minor": 0
          },
          "text/plain": "  0%|          | 0/1 [00:00<?, ?it/s]"
         },
         "metadata": {},
         "output_type": "display_data"
        }
       ]
      }
     },
     "6f72c04686834ebdb5d73a2eaef1200c": {
      "model_module": "@jupyter-widgets/controls",
      "model_module_version": "1.5.0",
      "model_name": "HTMLModel",
      "state": {
       "layout": "IPY_MODEL_6813f20ca24446f6940ec78097fff27d",
       "style": "IPY_MODEL_f7c75621d24b4ce69a45f3955f29b583",
       "value": "100%"
      }
     },
     "6f76ef5426154996b0b2d6ef4b3a7bdf": {
      "model_module": "@jupyter-widgets/controls",
      "model_module_version": "1.5.0",
      "model_name": "ProgressStyleModel",
      "state": {
       "description_width": ""
      }
     },
     "6fd86e5f6c6d4772bb94cfef5e9a7948": {
      "model_module": "@jupyter-widgets/controls",
      "model_module_version": "1.5.0",
      "model_name": "ButtonStyleModel",
      "state": {}
     },
     "706c8113e8c44114b60fb30e8609eccf": {
      "model_module": "@jupyter-widgets/controls",
      "model_module_version": "1.5.0",
      "model_name": "DescriptionStyleModel",
      "state": {
       "description_width": ""
      }
     },
     "720cfa5a06ee409688bd4510f48b62d1": {
      "model_module": "@jupyter-widgets/controls",
      "model_module_version": "1.5.0",
      "model_name": "DescriptionStyleModel",
      "state": {
       "description_width": ""
      }
     },
     "72204befcc294daa8946b5ecb4f50cd9": {
      "model_module": "@jupyter-widgets/controls",
      "model_module_version": "1.5.0",
      "model_name": "DescriptionStyleModel",
      "state": {
       "description_width": ""
      }
     },
     "72af9c027c554abb9dbe88fa1e429329": {
      "model_module": "@jupyter-widgets/controls",
      "model_module_version": "1.5.0",
      "model_name": "HBoxModel",
      "state": {
       "children": [
        "IPY_MODEL_4ecd82d2316a45089b5b3394463eeadf",
        "IPY_MODEL_53bf45de4c6644468b69d85c396d7681",
        "IPY_MODEL_237d53535bc4459bbf5e0e7377367196"
       ],
       "layout": "IPY_MODEL_d70eb79409cc4d2699b8f9c58423cbea"
      }
     },
     "730d24fca72b475c8ad744de0fe50962": {
      "model_module": "@jupyter-widgets/base",
      "model_module_version": "1.2.0",
      "model_name": "LayoutModel",
      "state": {}
     },
     "739b49288105477580457e786ce79246": {
      "model_module": "@jupyter-widgets/base",
      "model_module_version": "1.2.0",
      "model_name": "LayoutModel",
      "state": {
       "display": "none"
      }
     },
     "74172e925f824fa9872e974a86329bea": {
      "model_module": "@jupyter-widgets/base",
      "model_module_version": "1.2.0",
      "model_name": "LayoutModel",
      "state": {}
     },
     "743b0a8d38a74872a7600bd2c2a7b7e6": {
      "model_module": "@jupyter-widgets/controls",
      "model_module_version": "1.5.0",
      "model_name": "HTMLModel",
      "state": {
       "layout": "IPY_MODEL_1c879360ae1948f7aa39a164708faa4d",
       "style": "IPY_MODEL_a52f3a7768c1488bb8c610d68214ce5b",
       "value": "100%"
      }
     },
     "7448910f3601402bb8650cee92b9dd2f": {
      "model_module": "@jupyter-widgets/controls",
      "model_module_version": "1.5.0",
      "model_name": "DescriptionStyleModel",
      "state": {
       "description_width": ""
      }
     },
     "74c22b53a1074eb3b61074d42f7abe7c": {
      "model_module": "@jupyter-widgets/base",
      "model_module_version": "1.2.0",
      "model_name": "LayoutModel",
      "state": {}
     },
     "74cd934ce87849e4a1dfece7f49a9052": {
      "model_module": "@jupyter-widgets/controls",
      "model_module_version": "1.5.0",
      "model_name": "HTMLModel",
      "state": {
       "layout": "IPY_MODEL_304f303cdf944c6598fb9f16ee3f2594",
       "style": "IPY_MODEL_57798c272176407cbf4bbfa8c86383b6",
       "value": "<style>img.pixelated {image-rendering: pixelated;}</style>"
      }
     },
     "751f3d84f8e9421781976bbcef8c3af8": {
      "model_module": "@jupyter-widgets/controls",
      "model_module_version": "1.5.0",
      "model_name": "HTMLModel",
      "state": {
       "layout": "IPY_MODEL_fc350eeae14d4f7993ff64436d51a3c4",
       "style": "IPY_MODEL_788cbf58243842928953209ee3688352",
       "value": " 50/50 [00:00&lt;00:00, 207.81it/s]"
      }
     },
     "754d18c699f44f82915d6847e70dbe20": {
      "model_module": "@jupyter-widgets/controls",
      "model_module_version": "1.5.0",
      "model_name": "HTMLModel",
      "state": {
       "layout": "IPY_MODEL_fe75335b1eed433bb96a77ad2aa94fe7",
       "style": "IPY_MODEL_c0c17eca69d44ebb82c43d36684f0ffe",
       "value": "100%"
      }
     },
     "7674890e2e9e4ac281315e5b74b03f2a": {
      "model_module": "@jupyter-widgets/controls",
      "model_module_version": "1.5.0",
      "model_name": "DescriptionStyleModel",
      "state": {
       "description_width": ""
      }
     },
     "7781687d55824382a591023a7e8e5152": {
      "model_module": "@jupyter-widgets/controls",
      "model_module_version": "1.5.0",
      "model_name": "DescriptionStyleModel",
      "state": {
       "description_width": ""
      }
     },
     "788cbf58243842928953209ee3688352": {
      "model_module": "@jupyter-widgets/controls",
      "model_module_version": "1.5.0",
      "model_name": "DescriptionStyleModel",
      "state": {
       "description_width": ""
      }
     },
     "79003bc227a94bf18d63f3b3f509f535": {
      "model_module": "@jupyter-widgets/controls",
      "model_module_version": "1.5.0",
      "model_name": "HBoxModel",
      "state": {
       "children": [
        "IPY_MODEL_9d39752374c845c4b49a6dddfd5bdea1",
        "IPY_MODEL_8de43db746ff459d8812bb8e66a2c0b4",
        "IPY_MODEL_9450cc35339c4e52bcf52af9dba98211"
       ],
       "layout": "IPY_MODEL_c4cf52aab2464dd6adcd2bfbe0d3f287"
      }
     },
     "79357791853a438d97379fbded551aec": {
      "model_module": "@jupyter-widgets/base",
      "model_module_version": "1.2.0",
      "model_name": "LayoutModel",
      "state": {}
     },
     "799d533cb93e4768b666b813b5dba669": {
      "model_module": "@jupyter-widgets/base",
      "model_module_version": "1.2.0",
      "model_name": "LayoutModel",
      "state": {}
     },
     "7a3318f29ccb45a8b93e93f3ba599d7b": {
      "model_module": "@jupyter-widgets/controls",
      "model_module_version": "1.5.0",
      "model_name": "DescriptionStyleModel",
      "state": {
       "description_width": ""
      }
     },
     "7aacbb131f784ca2b414ee50f4217d2d": {
      "model_module": "@jupyter-widgets/base",
      "model_module_version": "1.2.0",
      "model_name": "LayoutModel",
      "state": {}
     },
     "7b803cccaa154a07b5f1b7ee8bd2d0b8": {
      "model_module": "@jupyter-widgets/base",
      "model_module_version": "1.2.0",
      "model_name": "LayoutModel",
      "state": {}
     },
     "7bd653f6aa7844719ac5d9193dc493b3": {
      "model_module": "@jupyter-widgets/base",
      "model_module_version": "1.2.0",
      "model_name": "LayoutModel",
      "state": {}
     },
     "7be5d43ea4064a46a2529ccbcf96e2d6": {
      "model_module": "@jupyter-widgets/controls",
      "model_module_version": "1.5.0",
      "model_name": "DescriptionStyleModel",
      "state": {
       "description_width": ""
      }
     },
     "7c4bc683d05c49b98b699cad29ee535e": {
      "model_module": "@jupyter-widgets/base",
      "model_module_version": "1.2.0",
      "model_name": "LayoutModel",
      "state": {
       "grid_area": "widget016",
       "height": "50px",
       "margin": "0px",
       "max_height": "50px",
       "max_width": "50px",
       "width": "50px"
      }
     },
     "7c72eed8f90944d9ae8fc68ed541dcff": {
      "model_module": "@jupyter-widgets/base",
      "model_module_version": "1.2.0",
      "model_name": "LayoutModel",
      "state": {}
     },
     "7c98cc34710445df9d619782e741f77b": {
      "model_module": "@jupyter-widgets/controls",
      "model_module_version": "1.5.0",
      "model_name": "ButtonStyleModel",
      "state": {}
     },
     "7ce4861b95f94f359ece2232905442ef": {
      "model_module": "@jupyter-widgets/controls",
      "model_module_version": "1.5.0",
      "model_name": "TextModel",
      "state": {
       "description": "Reading:",
       "layout": "IPY_MODEL_0a0cdc6dfeb34edb85f281c95b363b50",
       "style": "IPY_MODEL_7781687d55824382a591023a7e8e5152",
       "value": "0.09279758411378052"
      }
     },
     "7d40c15d71d145a2bba8ca21ea1446eb": {
      "model_module": "@jupyter-widgets/controls",
      "model_module_version": "1.5.0",
      "model_name": "ButtonModel",
      "state": {
       "description": " ",
       "layout": "IPY_MODEL_9dfaa5f9f2374cee806156064b236f1e",
       "style": "IPY_MODEL_8cbbdf1f2dc94ac3932cb61265cab6c9"
      }
     },
     "7d530848f1d448259166afbfbdbae95f": {
      "model_module": "@jupyter-widgets/controls",
      "model_module_version": "1.5.0",
      "model_name": "SliderStyleModel",
      "state": {
       "description_width": ""
      }
     },
     "7d5cb921437f4d5f80323c9437638a0a": {
      "model_module": "@jupyter-widgets/controls",
      "model_module_version": "1.5.0",
      "model_name": "ProgressStyleModel",
      "state": {
       "description_width": ""
      }
     },
     "7df12ce4bc504fab9dc777aa7d4d8f71": {
      "model_module": "@jupyter-widgets/controls",
      "model_module_version": "1.5.0",
      "model_name": "ProgressStyleModel",
      "state": {
       "description_width": ""
      }
     },
     "7e237b3850494c56ab1c8da07080df21": {
      "model_module": "@jupyter-widgets/controls",
      "model_module_version": "1.5.0",
      "model_name": "FloatProgressModel",
      "state": {
       "bar_style": "success",
       "layout": "IPY_MODEL_07056b8ab2314d5e8444f4805c16cde9",
       "max": 1,
       "style": "IPY_MODEL_fb3d26bb00394471bd841001107402e0",
       "value": 1
      }
     },
     "7f0b1ba725b8437188a7bc2863321867": {
      "model_module": "@jupyter-widgets/controls",
      "model_module_version": "1.5.0",
      "model_name": "TextModel",
      "state": {
       "description": "Stalled:",
       "layout": "IPY_MODEL_5c900e1b892344e48e7ce6146fe439ea",
       "style": "IPY_MODEL_9b7dfb3bd8f14b1abe94bbc8207250a4",
       "value": "True"
      }
     },
     "7f4fa28b69804efa8860b131918361bb": {
      "model_module": "@jupyter-widgets/controls",
      "model_module_version": "1.5.0",
      "model_name": "TextModel",
      "state": {
       "description": "Name:",
       "layout": "IPY_MODEL_d729b8eab26e4a72a142df3791056b4d",
       "style": "IPY_MODEL_a6bd9ac4349c420e918516f70a061696"
      }
     },
     "7f8c8528fee94d96b3f47d66a62f732b": {
      "model_module": "@jupyter-widgets/base",
      "model_module_version": "1.2.0",
      "model_name": "LayoutModel",
      "state": {}
     },
     "80f7f72d70e74cf496c87860bcb13646": {
      "model_module": "@jupyter-widgets/controls",
      "model_module_version": "1.5.0",
      "model_name": "DescriptionStyleModel",
      "state": {
       "description_width": ""
      }
     },
     "81031e8feafd4eb5af2ec7f808e4460f": {
      "model_module": "@jupyter-widgets/controls",
      "model_module_version": "1.5.0",
      "model_name": "FloatProgressModel",
      "state": {
       "bar_style": "success",
       "layout": "IPY_MODEL_81e005976e064c06b6334215ba2ca9b0",
       "max": 5,
       "style": "IPY_MODEL_d36a9385705345da82f6cdb4ada3e467",
       "value": 5
      }
     },
     "815dc78152f64f60a83d85d3f306eb03": {
      "model_module": "@jupyter-widgets/controls",
      "model_module_version": "1.5.0",
      "model_name": "FloatProgressModel",
      "state": {
       "bar_style": "success",
       "layout": "IPY_MODEL_bac337f914074426bb8291e87624a3af",
       "max": 50,
       "style": "IPY_MODEL_aeb60b7a97874d688110461638d501fe",
       "value": 50
      }
     },
     "81e005976e064c06b6334215ba2ca9b0": {
      "model_module": "@jupyter-widgets/base",
      "model_module_version": "1.2.0",
      "model_name": "LayoutModel",
      "state": {}
     },
     "8282de2bacb8411e9479c77cee3c17a7": {
      "model_module": "@jupyter-widgets/controls",
      "model_module_version": "1.5.0",
      "model_name": "DescriptionStyleModel",
      "state": {
       "description_width": ""
      }
     },
     "82a5595f68a44184a64bb6aaa71eca59": {
      "model_module": "@jupyter-widgets/base",
      "model_module_version": "1.2.0",
      "model_name": "LayoutModel",
      "state": {}
     },
     "832f77104cb44c9398833be5a78d6481": {
      "model_module": "@jupyter-widgets/controls",
      "model_module_version": "1.5.0",
      "model_name": "DescriptionStyleModel",
      "state": {
       "description_width": ""
      }
     },
     "833d207d9cdd46aeac9468d82a062598": {
      "model_module": "@jupyter-widgets/base",
      "model_module_version": "1.2.0",
      "model_name": "LayoutModel",
      "state": {}
     },
     "8344dc02959c4e26bcb5940f0c7b078a": {
      "model_module": "@jupyter-widgets/output",
      "model_module_version": "1.0.0",
      "model_name": "OutputModel",
      "state": {
       "layout": "IPY_MODEL_08a2f409f6b14ed6adeaf53d3531b45f",
       "outputs": [
        {
         "data": {
          "application/vnd.jupyter.widget-view+json": {
           "model_id": "560abdf6f3cb4d2dab600d85ed3e6c78",
           "version_major": 2,
           "version_minor": 0
          },
          "text/plain": "  0%|          | 0/50 [00:00<?, ?it/s]"
         },
         "metadata": {},
         "output_type": "display_data"
        },
        {
         "name": "stdout",
         "output_type": "stream",
         "text": "Simulation stopped at: 00:00:26.40; speed 33.28 x real time\n"
        }
       ]
      }
     },
     "83532f2ac236493d994c64f1a77f9b58": {
      "model_module": "@jupyter-widgets/controls",
      "model_module_version": "1.5.0",
      "model_name": "HBoxModel",
      "state": {
       "children": [
        "IPY_MODEL_886694f31f2e4e0f9266a559b15c3148",
        "IPY_MODEL_c01a3def9f2f421c98b96eca10927811",
        "IPY_MODEL_c06192c7b4ed4933ab201afbd301a0c2"
       ],
       "layout": "IPY_MODEL_f61a9c0938a445c8826ce507684806ff"
      }
     },
     "8384b0bb55d246e5b1718fbb63bcb55b": {
      "model_module": "@jupyter-widgets/controls",
      "model_module_version": "1.5.0",
      "model_name": "HBoxModel",
      "state": {
       "children": [
        "IPY_MODEL_5287daf8e2aa4e6b91eb108d8c957ee7",
        "IPY_MODEL_eb2afc888ecc4befac1d1634510c596d",
        "IPY_MODEL_27b1c03096db41dc9f33864ff2261f6b"
       ],
       "layout": "IPY_MODEL_b4efc55223c24ead89334ae46418ca12"
      }
     },
     "839c3616ef0d4bdd92d798d1ba2dd5b8": {
      "model_module": "@jupyter-widgets/base",
      "model_module_version": "1.2.0",
      "model_name": "LayoutModel",
      "state": {}
     },
     "83d676e8cefe4a3cbc03977fb4a177d2": {
      "model_module": "@jupyter-widgets/controls",
      "model_module_version": "1.5.0",
      "model_name": "HBoxModel",
      "state": {
       "children": [
        "IPY_MODEL_a70a4339f2b541b1a01cd0cd0129e836",
        "IPY_MODEL_2e37a5b268d0499a9bec28ba09f43cf0",
        "IPY_MODEL_3beeba536be446eda00f572ae1d05509"
       ],
       "layout": "IPY_MODEL_928d254f5f89410694958fe7148a477f"
      }
     },
     "843d2b1600aa454787aaed2419996a0b": {
      "model_module": "@jupyter-widgets/controls",
      "model_module_version": "1.5.0",
      "model_name": "HTMLModel",
      "state": {
       "layout": "IPY_MODEL_6b0ef6a37c3248fd998ea09db4d11475",
       "style": "IPY_MODEL_dfcb5addb7604776a21dd70019fa7879",
       "value": " 50/50 [00:05&lt;00:00,  9.70it/s]"
      }
     },
     "846318091a8f44a2b1e196fcab5712dc": {
      "model_module": "@jupyter-widgets/base",
      "model_module_version": "1.2.0",
      "model_name": "LayoutModel",
      "state": {
       "grid_area": "widget012",
       "height": "50px",
       "margin": "0px",
       "max_height": "50px",
       "max_width": "50px",
       "width": "50px"
      }
     },
     "8539b43e6ebc491eb467b646bb363c1d": {
      "model_module": "@jupyter-widgets/base",
      "model_module_version": "1.2.0",
      "model_name": "LayoutModel",
      "state": {
       "grid_area": "widget018",
       "height": "50px",
       "margin": "0px",
       "max_height": "50px",
       "max_width": "50px",
       "width": "50px"
      }
     },
     "85454e2f75994af29fa6f4e4d04bb092": {
      "model_module": "@jupyter-widgets/controls",
      "model_module_version": "1.5.0",
      "model_name": "HTMLModel",
      "state": {
       "layout": "IPY_MODEL_60d3b239b30d4451a7ffaae47ceba721",
       "style": "IPY_MODEL_f71812ee2cfe474cb55695dbac126f4a",
       "value": "100%"
      }
     },
     "85709bf351f74c6f9d5772e629fcb63b": {
      "model_module": "@jupyter-widgets/base",
      "model_module_version": "1.2.0",
      "model_name": "LayoutModel",
      "state": {}
     },
     "8583afbe76e744b8b69702e66bb1a589": {
      "model_module": "@jupyter-widgets/base",
      "model_module_version": "1.2.0",
      "model_name": "LayoutModel",
      "state": {
       "display": "none"
      }
     },
     "85b25d44d6c8416da54c0040e813a7e0": {
      "model_module": "@jupyter-widgets/controls",
      "model_module_version": "1.5.0",
      "model_name": "DescriptionStyleModel",
      "state": {
       "description_width": ""
      }
     },
     "85b7cf6a2dd749b9bf3c4dd946c140f8": {
      "model_module": "@jupyter-widgets/controls",
      "model_module_version": "1.5.0",
      "model_name": "HBoxModel",
      "state": {
       "children": [
        "IPY_MODEL_d2bd581f56124f5b84745163d30fadca",
        "IPY_MODEL_7e237b3850494c56ab1c8da07080df21",
        "IPY_MODEL_88cb2a43e33942a198e2adf93fe027d1"
       ],
       "layout": "IPY_MODEL_da531c45dc7a442bb408ca2dbdff6294"
      }
     },
     "8727a61e9420441dacb0d2be5439f720": {
      "model_module": "@jupyter-widgets/controls",
      "model_module_version": "1.5.0",
      "model_name": "TextModel",
      "state": {
       "description": "Name:",
       "layout": "IPY_MODEL_c865c73fbce344fd9bf0ed5cd7d7757a",
       "style": "IPY_MODEL_e3f70b24f9394de7a8a10d93670aa26c"
      }
     },
     "8773ffeb5d8841e9ae96459bbcc597b2": {
      "model_module": "@jupyter-widgets/controls",
      "model_module_version": "1.5.0",
      "model_name": "DescriptionStyleModel",
      "state": {
       "description_width": ""
      }
     },
     "877b555bb16c4370b3b85ef0da67cfd3": {
      "model_module": "@jupyter-widgets/output",
      "model_module_version": "1.0.0",
      "model_name": "OutputModel",
      "state": {
       "layout": "IPY_MODEL_9a847c13dd0f4b06964e435886dbbf49",
       "outputs": [
        {
         "data": {
          "application/vnd.jupyter.widget-view+json": {
           "model_id": "aec156c0bc474f1fbd86b99854334793",
           "version_major": 2,
           "version_minor": 0
          },
          "text/plain": "  0%|          | 0/1 [00:00<?, ?it/s]"
         },
         "metadata": {},
         "output_type": "display_data"
        }
       ]
      }
     },
     "88643331ab7648eb8292c48acd4e0adf": {
      "model_module": "@jupyter-widgets/controls",
      "model_module_version": "1.5.0",
      "model_name": "ButtonModel",
      "state": {
       "description": "\u2b0b",
       "layout": "IPY_MODEL_230d4fd415e248edbd2e4031792750d2",
       "style": "IPY_MODEL_a416290fe2f64f67aa6e621d6129abc6"
      }
     },
     "886694f31f2e4e0f9266a559b15c3148": {
      "model_module": "@jupyter-widgets/controls",
      "model_module_version": "1.5.0",
      "model_name": "HTMLModel",
      "state": {
       "layout": "IPY_MODEL_4b83bdc2ed1443c8939d048d01ebf641",
       "style": "IPY_MODEL_8d87e0d0ae6f4f389b08d8a6035f5539",
       "value": "100%"
      }
     },
     "886d5006115e4590bc52cd45373783a7": {
      "model_module": "@jupyter-widgets/base",
      "model_module_version": "1.2.0",
      "model_name": "LayoutModel",
      "state": {}
     },
     "88872c5d33b04570a1a23a9721be924b": {
      "model_module": "@jupyter-widgets/controls",
      "model_module_version": "1.5.0",
      "model_name": "DescriptionStyleModel",
      "state": {
       "description_width": ""
      }
     },
     "888f11f4d2d442018a6c97c1fa0bf691": {
      "model_module": "@jupyter-widgets/base",
      "model_module_version": "1.2.0",
      "model_name": "LayoutModel",
      "state": {}
     },
     "8891ecd1c2944537abe2c95d1c41e0db": {
      "model_module": "@jupyter-widgets/controls",
      "model_module_version": "1.5.0",
      "model_name": "ButtonModel",
      "state": {
       "description": "\u2b06",
       "layout": "IPY_MODEL_3811e51a3a264b7bb18d1a25c72a8051",
       "style": "IPY_MODEL_674ae62318d04d11bec4b82aa1f8352b"
      }
     },
     "88cb2a43e33942a198e2adf93fe027d1": {
      "model_module": "@jupyter-widgets/controls",
      "model_module_version": "1.5.0",
      "model_name": "HTMLModel",
      "state": {
       "layout": "IPY_MODEL_49aa7a74ec3b4023a44d5f0b519a7cbd",
       "style": "IPY_MODEL_8f0f9f6f435f4589a4f652beec22fe5c",
       "value": " 1/1 [00:00&lt;00:00, 10.57it/s]"
      }
     },
     "8989943ac25f4f3c850403bbf5b0f14b": {
      "model_module": "@jupyter-widgets/controls",
      "model_module_version": "1.5.0",
      "model_name": "ButtonModel",
      "state": {
       "description": "\u2b0a",
       "layout": "IPY_MODEL_d654d85fce7646fdaa859116a2b36a1b",
       "style": "IPY_MODEL_e026a82f6d9f4c7296fbb8b2218a5413"
      }
     },
     "8a470f15294b484d8a980e4107aa985b": {
      "model_module": "@jupyter-widgets/controls",
      "model_module_version": "1.5.0",
      "model_name": "DescriptionStyleModel",
      "state": {
       "description_width": ""
      }
     },
     "8a89e0fae94b4d679df9801493607e8c": {
      "model_module": "@jupyter-widgets/base",
      "model_module_version": "1.2.0",
      "model_name": "LayoutModel",
      "state": {}
     },
     "8ac59d6229e34996af2884163f341484": {
      "model_module": "@jupyter-widgets/controls",
      "model_module_version": "1.5.0",
      "model_name": "DescriptionStyleModel",
      "state": {
       "description_width": ""
      }
     },
     "8b04242f2a1b485ea4a7483df5e063b3": {
      "model_module": "@jupyter-widgets/controls",
      "model_module_version": "1.5.0",
      "model_name": "HTMLModel",
      "state": {
       "layout": "IPY_MODEL_14885f8f681b42fbb08a6550acec64f1",
       "style": "IPY_MODEL_eeeb05b30e6649519d882448347df7b3",
       "value": " 1/1 [00:00&lt;00:00,  9.68it/s]"
      }
     },
     "8b29baedf34c45fab49704b1a14e6291": {
      "model_module": "@jupyter-widgets/base",
      "model_module_version": "1.2.0",
      "model_name": "LayoutModel",
      "state": {}
     },
     "8b3f8946136c4e7b941ad240d54d3c21": {
      "model_module": "@jupyter-widgets/controls",
      "model_module_version": "1.5.0",
      "model_name": "ProgressStyleModel",
      "state": {
       "description_width": ""
      }
     },
     "8b61ad45ee4041eaa73348a79ed4d113": {
      "model_module": "@jupyter-widgets/base",
      "model_module_version": "1.2.0",
      "model_name": "LayoutModel",
      "state": {
       "border": "10px solid rgb(0 177 255)"
      }
     },
     "8c9ef88eeb5c400ebc07d4603d2adff4": {
      "model_module": "@jupyter-widgets/base",
      "model_module_version": "1.2.0",
      "model_name": "LayoutModel",
      "state": {
       "grid_area": "widget014",
       "height": "50px",
       "margin": "0px",
       "max_height": "50px",
       "max_width": "50px",
       "width": "50px"
      }
     },
     "8cbbdf1f2dc94ac3932cb61265cab6c9": {
      "model_module": "@jupyter-widgets/controls",
      "model_module_version": "1.5.0",
      "model_name": "ButtonStyleModel",
      "state": {}
     },
     "8d87e0d0ae6f4f389b08d8a6035f5539": {
      "model_module": "@jupyter-widgets/controls",
      "model_module_version": "1.5.0",
      "model_name": "DescriptionStyleModel",
      "state": {
       "description_width": ""
      }
     },
     "8da6fba3b70845089fdcd3efaf389240": {
      "model_module": "@jupyter-widgets/base",
      "model_module_version": "1.2.0",
      "model_name": "LayoutModel",
      "state": {}
     },
     "8de43db746ff459d8812bb8e66a2c0b4": {
      "model_module": "@jupyter-widgets/controls",
      "model_module_version": "1.5.0",
      "model_name": "FloatProgressModel",
      "state": {
       "bar_style": "success",
       "layout": "IPY_MODEL_94fcc8f005074d1a856fdd7d8e99967a",
       "max": 1,
       "style": "IPY_MODEL_442c7639f8eb49d18c40ca657b6fd294",
       "value": 1
      }
     },
     "8efb04f75ced47b0a8b6a97f04059865": {
      "model_module": "@jupyter-widgets/base",
      "model_module_version": "1.2.0",
      "model_name": "LayoutModel",
      "state": {}
     },
     "8f0b0984ebaa437abc99b5235a14b728": {
      "model_module": "@jupyter-widgets/base",
      "model_module_version": "1.2.0",
      "model_name": "LayoutModel",
      "state": {}
     },
     "8f0f9f6f435f4589a4f652beec22fe5c": {
      "model_module": "@jupyter-widgets/controls",
      "model_module_version": "1.5.0",
      "model_name": "DescriptionStyleModel",
      "state": {
       "description_width": ""
      }
     },
     "8f1105df94914faa8bdd1966d6cb635b": {
      "model_module": "@jupyter-widgets/controls",
      "model_module_version": "1.5.0",
      "model_name": "ButtonStyleModel",
      "state": {}
     },
     "8fe230f227484e1dac10e2358aaa2e04": {
      "model_module": "@jupyter-widgets/controls",
      "model_module_version": "1.5.0",
      "model_name": "HTMLModel",
      "state": {
       "layout": "IPY_MODEL_e22a04485d6545fa95857a2efd23ca12",
       "style": "IPY_MODEL_5aef272e7e2d4ec6a96663acea933402",
       "value": "100%"
      }
     },
     "9008af5ddd5a4d40bc6f726642cfd6f7": {
      "model_module": "@jupyter-widgets/controls",
      "model_module_version": "1.5.0",
      "model_name": "DescriptionStyleModel",
      "state": {
       "description_width": ""
      }
     },
     "9013967f353947d2bd89df57210c172a": {
      "model_module": "@jupyter-widgets/controls",
      "model_module_version": "1.5.0",
      "model_name": "DescriptionStyleModel",
      "state": {
       "description_width": ""
      }
     },
     "9042d386b80d4cfcb85041e5c8a0e6ce": {
      "model_module": "@jupyter-widgets/base",
      "model_module_version": "1.2.0",
      "model_name": "LayoutModel",
      "state": {}
     },
     "90e813537d6d4b1c8c05915ff5527ff7": {
      "model_module": "@jupyter-widgets/base",
      "model_module_version": "1.2.0",
      "model_name": "LayoutModel",
      "state": {}
     },
     "91922af9758c4bc8aa5a230a57990fe3": {
      "model_module": "@jupyter-widgets/output",
      "model_module_version": "1.0.0",
      "model_name": "OutputModel",
      "state": {
       "layout": "IPY_MODEL_422c4d24d3994d5bb27813840190f344",
       "outputs": [
        {
         "data": {
          "application/vnd.jupyter.widget-view+json": {
           "model_id": "a980039e0c9d443ab92ac6b66544ad66",
           "version_major": 2,
           "version_minor": 0
          },
          "text/plain": "  0%|          | 0/5 [00:00<?, ?it/s]"
         },
         "metadata": {},
         "output_type": "display_data"
        },
        {
         "name": "stdout",
         "output_type": "stream",
         "text": "Simulation stopped at: 00:00:11.00; speed 0.91 x real time\n"
        }
       ]
      }
     },
     "928d254f5f89410694958fe7148a477f": {
      "model_module": "@jupyter-widgets/base",
      "model_module_version": "1.2.0",
      "model_name": "LayoutModel",
      "state": {}
     },
     "92f329d0dc4b45d394e53aae6a012926": {
      "model_module": "@jupyter-widgets/controls",
      "model_module_version": "1.5.0",
      "model_name": "ProgressStyleModel",
      "state": {
       "description_width": ""
      }
     },
     "930fcc50ae3744ff80d0a15db54b1821": {
      "model_module": "@jupyter-widgets/controls",
      "model_module_version": "1.5.0",
      "model_name": "ButtonModel",
      "state": {
       "description": " ",
       "layout": "IPY_MODEL_3f837e72836a433a97b7bf7002a6c189",
       "style": "IPY_MODEL_a3dc99c7e88f40f2ba17114df7c60423"
      }
     },
     "935d68b54f904cc7a210699d90a5a4cb": {
      "model_module": "@jupyter-widgets/controls",
      "model_module_version": "1.5.0",
      "model_name": "HTMLModel",
      "state": {
       "layout": "IPY_MODEL_0716f72652dc48f38ba54c94c19c0c15",
       "style": "IPY_MODEL_5618e52194ea4cc99a3af842ae4ac694",
       "value": " 1/1 [00:00&lt;00:00, 10.53it/s]"
      }
     },
     "9423a661043d4bb3aa79a1873fdc67e8": {
      "model_module": "@jupyter-widgets/controls",
      "model_module_version": "1.5.0",
      "model_name": "DescriptionStyleModel",
      "state": {
       "description_width": ""
      }
     },
     "9450cc35339c4e52bcf52af9dba98211": {
      "model_module": "@jupyter-widgets/controls",
      "model_module_version": "1.5.0",
      "model_name": "HTMLModel",
      "state": {
       "layout": "IPY_MODEL_0775aa3382664fb4af9f1b38f226e3ec",
       "style": "IPY_MODEL_8a470f15294b484d8a980e4107aa985b",
       "value": " 1/1 [00:00&lt;00:00,  9.58it/s]"
      }
     },
     "9493e0ded99f46e1bb2f887173713da2": {
      "model_module": "@jupyter-widgets/base",
      "model_module_version": "1.2.0",
      "model_name": "LayoutModel",
      "state": {
       "grid_area": "widget015",
       "height": "50px",
       "margin": "0px",
       "max_height": "50px",
       "max_width": "50px",
       "width": "50px"
      }
     },
     "94c357529bd9465f833682c56c241467": {
      "model_module": "@jupyter-widgets/output",
      "model_module_version": "1.0.0",
      "model_name": "OutputModel",
      "state": {
       "layout": "IPY_MODEL_1edd92213f1b4a1f8e3d3213e2c34d45",
       "outputs": [
        {
         "data": {
          "application/vnd.jupyter.widget-view+json": {
           "model_id": "d6053259386144688d4eb19e5c39a79a",
           "version_major": 2,
           "version_minor": 0
          },
          "text/plain": "  0%|          | 0/50 [00:00<?, ?it/s]"
         },
         "metadata": {},
         "output_type": "display_data"
        },
        {
         "name": "stdout",
         "output_type": "stream",
         "text": "Simulation stopped at: 00:01:08.00; speed 31.85 x real time\n"
        }
       ]
      }
     },
     "94dad825e5d14a6184834bd1dd90093f": {
      "model_module": "@jupyter-widgets/controls",
      "model_module_version": "1.5.0",
      "model_name": "ProgressStyleModel",
      "state": {
       "description_width": ""
      }
     },
     "94fcc8f005074d1a856fdd7d8e99967a": {
      "model_module": "@jupyter-widgets/base",
      "model_module_version": "1.2.0",
      "model_name": "LayoutModel",
      "state": {}
     },
     "9545d9307ca64c6682c79c853e465408": {
      "model_module": "@jupyter-widgets/base",
      "model_module_version": "1.2.0",
      "model_name": "LayoutModel",
      "state": {
       "grid_area": "widget013",
       "height": "50px",
       "margin": "0px",
       "max_height": "50px",
       "max_width": "50px",
       "width": "50px"
      }
     },
     "9585ee23a50c4a479f9284cea19b0d34": {
      "model_module": "@jupyter-widgets/controls",
      "model_module_version": "1.5.0",
      "model_name": "FloatProgressModel",
      "state": {
       "bar_style": "success",
       "layout": "IPY_MODEL_095b57ba30bb450db6459574d6854e8b",
       "max": 50,
       "style": "IPY_MODEL_ad831c58fb3d40468291c7d5053a6c79",
       "value": 50
      }
     },
     "959e33a5dc2543a8bdaa7aa823ed538a": {
      "model_module": "@jupyter-widgets/controls",
      "model_module_version": "1.5.0",
      "model_name": "HTMLModel",
      "state": {
       "layout": "IPY_MODEL_fb7177d86f28404b860d4f167077e5f7",
       "style": "IPY_MODEL_30c03997d876479e8f0bde2ed83ed924",
       "value": " 1/1 [00:00&lt;00:00,  9.51it/s]"
      }
     },
     "96196c55269546d2a33ad547c43de918": {
      "model_module": "@jupyter-widgets/controls",
      "model_module_version": "1.5.0",
      "model_name": "HTMLModel",
      "state": {
       "layout": "IPY_MODEL_488ff28dce434cc2937945620d4ae3d5",
       "style": "IPY_MODEL_0c2f3abfe4ab41799c67cefc76573656",
       "value": " 100/100 [00:10&lt;00:00,  9.67it/s]"
      }
     },
     "96a581b15a784d8c9df83ac0db36bc47": {
      "model_module": "@jupyter-widgets/controls",
      "model_module_version": "1.5.0",
      "model_name": "DescriptionStyleModel",
      "state": {
       "description_width": ""
      }
     },
     "9756a1ce9e1f4db1921075edc88c8896": {
      "model_module": "@jupyter-widgets/base",
      "model_module_version": "1.2.0",
      "model_name": "LayoutModel",
      "state": {}
     },
     "97bfce87160d4bf6a628366073b17ad4": {
      "model_module": "@jupyter-widgets/base",
      "model_module_version": "1.2.0",
      "model_name": "LayoutModel",
      "state": {
       "border": "10px solid rgb(0 177 255)",
       "margin": "auto"
      }
     },
     "97cdfa311aea4aa8bc774d50a21aa65f": {
      "model_module": "@jupyter-widgets/base",
      "model_module_version": "1.2.0",
      "model_name": "LayoutModel",
      "state": {}
     },
     "981836c4ff794548925839b3b85eee51": {
      "model_module": "@jupyter-widgets/base",
      "model_module_version": "1.2.0",
      "model_name": "LayoutModel",
      "state": {}
     },
     "983f92e5ffbf4f7eae1efe26a62a6e50": {
      "model_module": "@jupyter-widgets/base",
      "model_module_version": "1.2.0",
      "model_name": "LayoutModel",
      "state": {}
     },
     "98f734155376426f80f2b3db1449751f": {
      "model_module": "@jupyter-widgets/controls",
      "model_module_version": "1.5.0",
      "model_name": "ProgressStyleModel",
      "state": {
       "description_width": ""
      }
     },
     "992ff324ee544d90b0d07927bfdb1082": {
      "model_module": "@jupyter-widgets/base",
      "model_module_version": "1.2.0",
      "model_name": "LayoutModel",
      "state": {}
     },
     "995950b9cf914e15ba35190c3fe020a1": {
      "model_module": "@jupyter-widgets/controls",
      "model_module_version": "1.5.0",
      "model_name": "DescriptionStyleModel",
      "state": {
       "description_width": ""
      }
     },
     "995b48650ddc4bf7a6802e6a24511123": {
      "model_module": "@jupyter-widgets/controls",
      "model_module_version": "1.5.0",
      "model_name": "HTMLModel",
      "state": {
       "layout": "IPY_MODEL_a945131230674b37bd55a4034d911852",
       "style": "IPY_MODEL_3b37687a90ae45ffb0bfa4b33e9a2a78",
       "value": "100%"
      }
     },
     "99e97bb80a7b4d929a88448ee75012c0": {
      "model_module": "@jupyter-widgets/base",
      "model_module_version": "1.2.0",
      "model_name": "LayoutModel",
      "state": {}
     },
     "9a16690b90834210a3056fdb79c8be81": {
      "model_module": "@jupyter-widgets/controls",
      "model_module_version": "1.5.0",
      "model_name": "HTMLModel",
      "state": {
       "layout": "IPY_MODEL_6e269deff8aa403992b6df0f9018c4ee",
       "style": "IPY_MODEL_8282de2bacb8411e9479c77cee3c17a7",
       "value": "100%"
      }
     },
     "9a847c13dd0f4b06964e435886dbbf49": {
      "model_module": "@jupyter-widgets/base",
      "model_module_version": "1.2.0",
      "model_name": "LayoutModel",
      "state": {}
     },
     "9a91a0a9b6f44dc58f22fdb2784cceed": {
      "model_module": "@jupyter-widgets/base",
      "model_module_version": "1.2.0",
      "model_name": "LayoutModel",
      "state": {}
     },
     "9a9a9b2a0f9d43169dfc1503c610e8db": {
      "model_module": "@jupyter-widgets/controls",
      "model_module_version": "1.5.0",
      "model_name": "ButtonModel",
      "state": {
       "description": " ",
       "layout": "IPY_MODEL_5887e1ac7fe148a6a567dae50778dab0",
       "style": "IPY_MODEL_a590a3815b114c30aea9392d5b1c7558"
      }
     },
     "9aac90b09cca4846b3c85a59447015cc": {
      "model_module": "@jupyter-widgets/controls",
      "model_module_version": "1.5.0",
      "model_name": "DescriptionStyleModel",
      "state": {
       "description_width": ""
      }
     },
     "9b64d9c9b8644d3eb9825256df75c0b1": {
      "model_module": "@jupyter-widgets/base",
      "model_module_version": "1.2.0",
      "model_name": "LayoutModel",
      "state": {
       "grid_area": "widget019",
       "height": "50px",
       "margin": "0px",
       "max_height": "50px",
       "max_width": "50px",
       "width": "50px"
      }
     },
     "9b7dfb3bd8f14b1abe94bbc8207250a4": {
      "model_module": "@jupyter-widgets/controls",
      "model_module_version": "1.5.0",
      "model_name": "DescriptionStyleModel",
      "state": {
       "description_width": ""
      }
     },
     "9c0f86333f7b4bb99537a83aea13f806": {
      "model_module": "@jupyter-widgets/controls",
      "model_module_version": "1.5.0",
      "model_name": "LabelModel",
      "state": {
       "layout": "IPY_MODEL_7b803cccaa154a07b5f1b7ee8bd2d0b8",
       "style": "IPY_MODEL_f49c83efea3b473ab4185340d5e78bd6",
       "value": "Time: 00:01:14.40"
      }
     },
     "9cfc915cef4d47d68c3ec67d2d0638e2": {
      "model_module": "@jupyter-widgets/controls",
      "model_module_version": "1.5.0",
      "model_name": "DescriptionStyleModel",
      "state": {
       "description_width": ""
      }
     },
     "9d39752374c845c4b49a6dddfd5bdea1": {
      "model_module": "@jupyter-widgets/controls",
      "model_module_version": "1.5.0",
      "model_name": "HTMLModel",
      "state": {
       "layout": "IPY_MODEL_d1a9cb30fe984c9ab4abc95e611ec3f9",
       "style": "IPY_MODEL_e29742b056e04bba8f2a23a62ff80ba8",
       "value": "100%"
      }
     },
     "9d66ccc7d1534c5cac6f485049d26948": {
      "model_module": "@jupyter-widgets/base",
      "model_module_version": "1.2.0",
      "model_name": "LayoutModel",
      "state": {
       "border": "10px solid rgb(0 177 255)"
      }
     },
     "9d9bab3732e84aa6b8acfba385f68693": {
      "model_module": "@jupyter-widgets/controls",
      "model_module_version": "1.5.0",
      "model_name": "HBoxModel",
      "state": {
       "children": [
        "IPY_MODEL_995b48650ddc4bf7a6802e6a24511123",
        "IPY_MODEL_1e5a6d2bd3384f018f7a8586a03bebfb",
        "IPY_MODEL_6d9adb667f774632a0b98228b44bb059"
       ],
       "layout": "IPY_MODEL_bab3a46d97514c2a964ed9eda16264ab"
      }
     },
     "9dfaa5f9f2374cee806156064b236f1e": {
      "model_module": "@jupyter-widgets/base",
      "model_module_version": "1.2.0",
      "model_name": "LayoutModel",
      "state": {
       "grid_area": "widget002",
       "height": "50px",
       "margin": "0px",
       "max_height": "50px",
       "max_width": "50px",
       "width": "50px"
      }
     },
     "9e100795882a4968950585ae4ff8ba49": {
      "model_module": "@jupyter-widgets/base",
      "model_module_version": "1.2.0",
      "model_name": "LayoutModel",
      "state": {}
     },
     "9e618ad3ed63427a87e12bf520c5fcae": {
      "model_module": "@jupyter-widgets/controls",
      "model_module_version": "1.5.0",
      "model_name": "DescriptionStyleModel",
      "state": {
       "description_width": ""
      }
     },
     "9e752149fded4d2fa7f1670a8da50fee": {
      "model_module": "@jupyter-widgets/controls",
      "model_module_version": "1.5.0",
      "model_name": "HTMLModel",
      "state": {
       "layout": "IPY_MODEL_833d207d9cdd46aeac9468d82a062598",
       "style": "IPY_MODEL_0b19fc4c3fdd4ebcac0d73efe9b318f3",
       "value": "100%"
      }
     },
     "a0056d741de24a2eb565717692490585": {
      "model_module": "@jupyter-widgets/controls",
      "model_module_version": "1.5.0",
      "model_name": "ProgressStyleModel",
      "state": {
       "description_width": ""
      }
     },
     "a05df9b84ee54f4294a2d5e5d138873b": {
      "model_module": "@jupyter-widgets/controls",
      "model_module_version": "1.5.0",
      "model_name": "DescriptionStyleModel",
      "state": {
       "description_width": ""
      }
     },
     "a0b17eff4ab24c8c8fa689824b672e20": {
      "model_module": "@jupyter-widgets/controls",
      "model_module_version": "1.5.0",
      "model_name": "ProgressStyleModel",
      "state": {
       "description_width": ""
      }
     },
     "a126b67f59b24e9081e240b0f445561a": {
      "model_module": "@jupyter-widgets/output",
      "model_module_version": "1.0.0",
      "model_name": "OutputModel",
      "state": {
       "layout": "IPY_MODEL_01a381ad2607412da61dc623119cd495",
       "outputs": [
        {
         "data": {
          "application/vnd.jupyter.widget-view+json": {
           "model_id": "d1e579c5fa5b4df5ba72fb772d49db8a",
           "version_major": 2,
           "version_minor": 0
          },
          "text/plain": "  0%|          | 0/50 [00:00<?, ?it/s]"
         },
         "metadata": {},
         "output_type": "display_data"
        },
        {
         "name": "stdout",
         "output_type": "stream",
         "text": "Simulation stopped at: 00:01:13.50; speed 36.25 x real time\n"
        }
       ]
      }
     },
     "a21238e2bc944b9db6d2ea05e79a255e": {
      "model_module": "@jupyter-widgets/controls",
      "model_module_version": "1.5.0",
      "model_name": "DescriptionStyleModel",
      "state": {
       "description_width": ""
      }
     },
     "a29b6397cbd9439595373a2c6202bb55": {
      "model_module": "@jupyter-widgets/base",
      "model_module_version": "1.2.0",
      "model_name": "LayoutModel",
      "state": {}
     },
     "a3038ddef9de4c2eba18ad6e18205d12": {
      "model_module": "@jupyter-widgets/controls",
      "model_module_version": "1.5.0",
      "model_name": "HBoxModel",
      "state": {
       "children": [
        "IPY_MODEL_4991207273d3439981b613f3da9c8592",
        "IPY_MODEL_2881cc24571346aa8f9ac728e9c97760",
        "IPY_MODEL_c083a19f02f949deb8ec32fb4dc18401"
       ],
       "layout": "IPY_MODEL_74172e925f824fa9872e974a86329bea"
      }
     },
     "a393d8cb4c574d0c94f7953e20683132": {
      "model_module": "@jupyter-widgets/base",
      "model_module_version": "1.2.0",
      "model_name": "LayoutModel",
      "state": {}
     },
     "a3a3788fbcbb4eb283331098ae1cdd6c": {
      "model_module": "@jupyter-widgets/base",
      "model_module_version": "1.2.0",
      "model_name": "LayoutModel",
      "state": {}
     },
     "a3cfc3a95e2f48f59d10b50c33582f10": {
      "model_module": "@jupyter-widgets/controls",
      "model_module_version": "1.5.0",
      "model_name": "HTMLModel",
      "state": {
       "layout": "IPY_MODEL_3bb6e400703947848688295cfbb5ba11",
       "style": "IPY_MODEL_706c8113e8c44114b60fb30e8609eccf",
       "value": " 1/1 [00:00&lt;00:00, 10.90it/s]"
      }
     },
     "a3dc99c7e88f40f2ba17114df7c60423": {
      "model_module": "@jupyter-widgets/controls",
      "model_module_version": "1.5.0",
      "model_name": "ButtonStyleModel",
      "state": {}
     },
     "a3df5065b6a2444fb3c8b0726cdb9bb5": {
      "model_module": "@jupyter-widgets/controls",
      "model_module_version": "1.5.0",
      "model_name": "HTMLModel",
      "state": {
       "layout": "IPY_MODEL_49c32f0522814862b8b57d110de6ee47",
       "style": "IPY_MODEL_7be5d43ea4064a46a2529ccbcf96e2d6",
       "value": "100%"
      }
     },
     "a416290fe2f64f67aa6e621d6129abc6": {
      "model_module": "@jupyter-widgets/controls",
      "model_module_version": "1.5.0",
      "model_name": "ButtonStyleModel",
      "state": {}
     },
     "a44486ef21a2452b8c82840832e16770": {
      "model_module": "@jupyter-widgets/base",
      "model_module_version": "1.2.0",
      "model_name": "LayoutModel",
      "state": {}
     },
     "a481c1aadba74caa8fe9a8ceb32a3229": {
      "model_module": "@jupyter-widgets/controls",
      "model_module_version": "1.5.0",
      "model_name": "DescriptionStyleModel",
      "state": {
       "description_width": ""
      }
     },
     "a49356f083344402986a7b27e86b3448": {
      "model_module": "@jupyter-widgets/controls",
      "model_module_version": "1.5.0",
      "model_name": "HTMLModel",
      "state": {
       "layout": "IPY_MODEL_017dbefc64f04c3ab068fa115c163613",
       "style": "IPY_MODEL_7674890e2e9e4ac281315e5b74b03f2a",
       "value": " 1/1 [00:00&lt;00:00, 10.70it/s]"
      }
     },
     "a4dfa026119a420e88b548186fc0799c": {
      "model_module": "@jupyter-widgets/controls",
      "model_module_version": "1.5.0",
      "model_name": "HTMLModel",
      "state": {
       "layout": "IPY_MODEL_5c4e0fb036db422e907489afa05cbbf3",
       "style": "IPY_MODEL_ffaf812122b04c7f813c16f7317b4813",
       "value": " 1/1 [00:00&lt;00:00, 11.17it/s]"
      }
     },
     "a52f3a7768c1488bb8c610d68214ce5b": {
      "model_module": "@jupyter-widgets/controls",
      "model_module_version": "1.5.0",
      "model_name": "DescriptionStyleModel",
      "state": {
       "description_width": ""
      }
     },
     "a590a3815b114c30aea9392d5b1c7558": {
      "model_module": "@jupyter-widgets/controls",
      "model_module_version": "1.5.0",
      "model_name": "ButtonStyleModel",
      "state": {}
     },
     "a669e324fe274d67a18de0cf3232eb92": {
      "model_module": "@jupyter-widgets/controls",
      "model_module_version": "1.5.0",
      "model_name": "HTMLModel",
      "state": {
       "layout": "IPY_MODEL_02e7c17fc3f74e77b52f9ae15aba88bf",
       "style": "IPY_MODEL_0438c31f8ac74cc89f902084b7355ba0",
       "value": "<style>img.pixelated {image-rendering: pixelated;}</style>"
      }
     },
     "a6a67446bc1d4030b889a6e8feaed4aa": {
      "model_module": "@jupyter-widgets/controls",
      "model_module_version": "1.5.0",
      "model_name": "HBoxModel",
      "state": {
       "children": [
        "IPY_MODEL_e3bfea5f0c2e44b3b17c24019a4cc5da",
        "IPY_MODEL_3fd7f3e535f742698e8c07bd29e6de42",
        "IPY_MODEL_6309a6bab02d493e8f77e8493c354162"
       ],
       "layout": "IPY_MODEL_3c97b818ec264cb593a611e426bf1406"
      }
     },
     "a6bd9ac4349c420e918516f70a061696": {
      "model_module": "@jupyter-widgets/controls",
      "model_module_version": "1.5.0",
      "model_name": "DescriptionStyleModel",
      "state": {
       "description_width": ""
      }
     },
     "a6f3ad1cf2bb4fb38683e033941d4242": {
      "model_module": "@jupyter-widgets/controls",
      "model_module_version": "1.5.0",
      "model_name": "HBoxModel",
      "state": {
       "children": [
        "IPY_MODEL_9e752149fded4d2fa7f1670a8da50fee",
        "IPY_MODEL_c572a7907763452cb525d8be90c8b351",
        "IPY_MODEL_843d2b1600aa454787aaed2419996a0b"
       ],
       "layout": "IPY_MODEL_85709bf351f74c6f9d5772e629fcb63b"
      }
     },
     "a70a4339f2b541b1a01cd0cd0129e836": {
      "model_module": "@jupyter-widgets/controls",
      "model_module_version": "1.5.0",
      "model_name": "HTMLModel",
      "state": {
       "layout": "IPY_MODEL_156a2cc3fca4439e8f3239746160ca13",
       "style": "IPY_MODEL_48b36becf05346e7baa43f3b39bbbfad",
       "value": "100%"
      }
     },
     "a74e7756839e48b7b3e96758175d5c24": {
      "model_module": "@jupyter-widgets/base",
      "model_module_version": "1.2.0",
      "model_name": "LayoutModel",
      "state": {}
     },
     "a84352c14d264e6094820e3e55d4f0ad": {
      "model_module": "@jupyter-widgets/base",
      "model_module_version": "1.2.0",
      "model_name": "LayoutModel",
      "state": {}
     },
     "a84cf8dac1b247aab8535fda163492a3": {
      "model_module": "@jupyter-widgets/base",
      "model_module_version": "1.2.0",
      "model_name": "LayoutModel",
      "state": {}
     },
     "a945131230674b37bd55a4034d911852": {
      "model_module": "@jupyter-widgets/base",
      "model_module_version": "1.2.0",
      "model_name": "LayoutModel",
      "state": {}
     },
     "a980039e0c9d443ab92ac6b66544ad66": {
      "model_module": "@jupyter-widgets/controls",
      "model_module_version": "1.5.0",
      "model_name": "HBoxModel",
      "state": {
       "children": [
        "IPY_MODEL_14712b4d4a0c422cbebf6ff4fc3e9d51",
        "IPY_MODEL_81031e8feafd4eb5af2ec7f808e4460f",
        "IPY_MODEL_cf5005a4913c46a3b8be1cfbd515abce"
       ],
       "layout": "IPY_MODEL_5a2c8e0c2fa649499920ab7a00158378"
      }
     },
     "aacb7296600c41b8977dae2af6605942": {
      "model_module": "@jupyter-widgets/base",
      "model_module_version": "1.2.0",
      "model_name": "LayoutModel",
      "state": {}
     },
     "ab3e9fb6191848c29e6a62a5de74a7dd": {
      "model_module": "@jupyter-widgets/controls",
      "model_module_version": "1.5.0",
      "model_name": "HTMLModel",
      "state": {
       "layout": "IPY_MODEL_d6d36dd9a7c64a1c8b24615b79f52090",
       "style": "IPY_MODEL_c84d8ea4737f41e18c7f9d0aedbd12a9",
       "value": " 1/1 [00:00&lt;00:00, 10.75it/s]"
      }
     },
     "ac03098dd57c4a32bce7413f4a879384": {
      "model_module": "@jupyter-widgets/base",
      "model_module_version": "1.2.0",
      "model_name": "LayoutModel",
      "state": {}
     },
     "ac04fdbdcfd14ac497fc4dd9e225a64f": {
      "model_module": "@jupyter-widgets/base",
      "model_module_version": "1.2.0",
      "model_name": "LayoutModel",
      "state": {}
     },
     "ac1721e72b054ae1b1e110091a8f792c": {
      "model_module": "@jupyter-widgets/controls",
      "model_module_version": "1.5.0",
      "model_name": "DescriptionStyleModel",
      "state": {
       "description_width": ""
      }
     },
     "ac836ca6cf29426abeffe422ffa1428d": {
      "model_module": "@jupyter-widgets/output",
      "model_module_version": "1.0.0",
      "model_name": "OutputModel",
      "state": {
       "layout": "IPY_MODEL_886d5006115e4590bc52cd45373783a7",
       "outputs": [
        {
         "data": {
          "application/vnd.jupyter.widget-view+json": {
           "model_id": "f6957e369bc845c19b51ed790ae2556e",
           "version_major": 2,
           "version_minor": 0
          },
          "text/plain": "  0%|          | 0/1 [00:00<?, ?it/s]"
         },
         "metadata": {},
         "output_type": "display_data"
        }
       ]
      }
     },
     "accf09040b6542ae831661681d6e2c0e": {
      "model_module": "@jupyter-widgets/base",
      "model_module_version": "1.2.0",
      "model_name": "LayoutModel",
      "state": {}
     },
     "ad1df64e0c35447f8388538820120b7d": {
      "model_module": "@jupyter-widgets/controls",
      "model_module_version": "1.5.0",
      "model_name": "HTMLModel",
      "state": {
       "layout": "IPY_MODEL_3294b50012224e2ca416fec44748a237",
       "style": "IPY_MODEL_34bc91b0bdb74fcf83723b94ac65c038",
       "value": " 1/1 [00:00&lt;00:00,  9.99it/s]"
      }
     },
     "ad831c58fb3d40468291c7d5053a6c79": {
      "model_module": "@jupyter-widgets/controls",
      "model_module_version": "1.5.0",
      "model_name": "ProgressStyleModel",
      "state": {
       "description_width": ""
      }
     },
     "ada5de858a1f44d5a32ef5143c9905dd": {
      "model_module": "@jupyter-widgets/controls",
      "model_module_version": "1.5.0",
      "model_name": "ButtonStyleModel",
      "state": {}
     },
     "ae2bfb60bfb84aeaac4981eaa1f0806f": {
      "model_module": "@jupyter-widgets/controls",
      "model_module_version": "1.5.0",
      "model_name": "HTMLModel",
      "state": {
       "layout": "IPY_MODEL_7c72eed8f90944d9ae8fc68ed541dcff",
       "style": "IPY_MODEL_c18042af9e9849b39e2ee7ce1a665188",
       "value": "100%"
      }
     },
     "ae7328471fc242518948c79e7fa846b6": {
      "model_module": "@jupyter-widgets/controls",
      "model_module_version": "1.5.0",
      "model_name": "FloatSliderModel",
      "state": {
       "description": "Seconds:",
       "layout": "IPY_MODEL_bee5744bb5c143ad828ef6d4f34b7315",
       "max": 5,
       "min": 0.1,
       "step": 0.1,
       "style": "IPY_MODEL_7d530848f1d448259166afbfbdbae95f",
       "value": 0.1
      }
     },
     "aeae578a50a0447e987744527410312b": {
      "model_module": "@jupyter-widgets/controls",
      "model_module_version": "1.5.0",
      "model_name": "TextModel",
      "state": {
       "description": "X:",
       "layout": "IPY_MODEL_03cd36658a064f07a7fc2716c8a41fde",
       "style": "IPY_MODEL_09ac86dde5e34163b02856b480ac9b5c"
      }
     },
     "aeb60b7a97874d688110461638d501fe": {
      "model_module": "@jupyter-widgets/controls",
      "model_module_version": "1.5.0",
      "model_name": "ProgressStyleModel",
      "state": {
       "description_width": ""
      }
     },
     "aec156c0bc474f1fbd86b99854334793": {
      "model_module": "@jupyter-widgets/controls",
      "model_module_version": "1.5.0",
      "model_name": "HBoxModel",
      "state": {
       "children": [
        "IPY_MODEL_5888e7befde740c79c1d804420496209",
        "IPY_MODEL_e31a803815ba42669198a93f1576e4e0",
        "IPY_MODEL_16a5d843eeb143269a96f83c8c3f2c1d"
       ],
       "layout": "IPY_MODEL_54bdd1f1dde84ea5b20b34997998847c"
      }
     },
     "afc31cac5b754e17b54690204f5e47f8": {
      "model_module": "@jupyter-widgets/controls",
      "model_module_version": "1.5.0",
      "model_name": "ProgressStyleModel",
      "state": {
       "description_width": ""
      }
     },
     "afd11358e2514fa7b1ff3ca1c499ef0a": {
      "model_module": "@jupyter-widgets/controls",
      "model_module_version": "1.5.0",
      "model_name": "DescriptionStyleModel",
      "state": {
       "description_width": ""
      }
     },
     "afd8d2d7541247e78ac0525e1855a879": {
      "model_module": "@jupyter-widgets/controls",
      "model_module_version": "1.5.0",
      "model_name": "ProgressStyleModel",
      "state": {
       "description_width": ""
      }
     },
     "b04bb806bf744cb5a6096bca2efdefa6": {
      "model_module": "@jupyter-widgets/controls",
      "model_module_version": "1.5.0",
      "model_name": "ButtonStyleModel",
      "state": {}
     },
     "b092f810b227450892b543d86beab91d": {
      "model_module": "@jupyter-widgets/base",
      "model_module_version": "1.2.0",
      "model_name": "LayoutModel",
      "state": {
       "display": "none"
      }
     },
     "b3571d0cfb6744cd95408b3d67d37870": {
      "model_module": "@jupyter-widgets/base",
      "model_module_version": "1.2.0",
      "model_name": "LayoutModel",
      "state": {}
     },
     "b3e69aea593e4d389ae648b5af2c50fe": {
      "model_module": "@jupyter-widgets/base",
      "model_module_version": "1.2.0",
      "model_name": "LayoutModel",
      "state": {}
     },
     "b407413c35ad4c8bb027c379e6d3944d": {
      "model_module": "@jupyter-widgets/controls",
      "model_module_version": "1.5.0",
      "model_name": "HTMLModel",
      "state": {
       "layout": "IPY_MODEL_8a89e0fae94b4d679df9801493607e8c",
       "style": "IPY_MODEL_cb2be3db8e954a5780b9d1c79abb8353",
       "value": "100%"
      }
     },
     "b441c9a8a6664b63aa769838a4144020": {
      "model_module": "@jupyter-widgets/output",
      "model_module_version": "1.0.0",
      "model_name": "OutputModel",
      "state": {
       "layout": "IPY_MODEL_e5bf7469db124e4d8c99944bb3621bbf",
       "outputs": [
        {
         "data": {
          "application/vnd.jupyter.widget-view+json": {
           "model_id": "bdb2d5c9986a47f0b93b511086e8aa67",
           "version_major": 2,
           "version_minor": 0
          },
          "text/plain": "  0%|          | 0/50 [00:00<?, ?it/s]"
         },
         "metadata": {},
         "output_type": "display_data"
        },
        {
         "name": "stdout",
         "output_type": "stream",
         "text": "Simulation stopped at: 00:00:21.40; speed 0.96 x real time\n"
        }
       ]
      }
     },
     "b4e864f2a52a43e7b3bddd74c58031e6": {
      "model_module": "@jupyter-widgets/controls",
      "model_module_version": "1.5.0",
      "model_name": "DescriptionStyleModel",
      "state": {
       "description_width": ""
      }
     },
     "b4efc55223c24ead89334ae46418ca12": {
      "model_module": "@jupyter-widgets/base",
      "model_module_version": "1.2.0",
      "model_name": "LayoutModel",
      "state": {}
     },
     "b570bc5490ca482f814ce27a8a61146d": {
      "model_module": "@jupyter-widgets/controls",
      "model_module_version": "1.5.0",
      "model_name": "HTMLModel",
      "state": {
       "layout": "IPY_MODEL_dbb855b600ce4be6ae2c0ec88b20125a",
       "style": "IPY_MODEL_08f7929a8ca04c2bb329c63eac287028",
       "value": "100%"
      }
     },
     "b58de386373f45159a2fb218a4b79673": {
      "model_module": "@jupyter-widgets/controls",
      "model_module_version": "1.5.0",
      "model_name": "HTMLModel",
      "state": {
       "layout": "IPY_MODEL_fc2e08d5bfb5458296a16863f54d946d",
       "style": "IPY_MODEL_afd11358e2514fa7b1ff3ca1c499ef0a",
       "value": " 1/1 [00:00&lt;00:00,  6.35it/s]"
      }
     },
     "b5c1978b68a743c5a9e600e004dc4d96": {
      "model_module": "@jupyter-widgets/controls",
      "model_module_version": "1.5.0",
      "model_name": "ProgressStyleModel",
      "state": {
       "description_width": ""
      }
     },
     "b5cc051ef2ad46efb5c02bdf54066cb0": {
      "model_module": "@jupyter-widgets/base",
      "model_module_version": "1.2.0",
      "model_name": "LayoutModel",
      "state": {
       "grid_template_areas": "\"widget001 widget002 widget003 widget004 widget005\"\n\"widget006 widget007 widget008 widget009 widget010\"\n\"widget011 widget012 widget013 widget014 widget015\"\n\"widget016 widget017 widget018 widget019 widget020\"\n\"widget021 widget022 widget023 widget024 widget025\"",
       "grid_template_columns": "repeat(5, 1fr)",
       "grid_template_rows": "repeat(5, 1fr)",
       "height": "250px",
       "width": "250px"
      }
     },
     "b64f30acae5b46dcbb474818132a58a1": {
      "model_module": "@jupyter-widgets/output",
      "model_module_version": "1.0.0",
      "model_name": "OutputModel",
      "state": {
       "layout": "IPY_MODEL_c8e81dfbed6e457b837ef0addf16872d",
       "outputs": [
        {
         "data": {
          "application/vnd.jupyter.widget-view+json": {
           "model_id": "ce6572c4d27e472e9f2a47bdbe056731",
           "version_major": 2,
           "version_minor": 0
          },
          "text/plain": "  0%|          | 0/1 [00:00<?, ?it/s]"
         },
         "metadata": {},
         "output_type": "display_data"
        }
       ]
      }
     },
     "b70fe3f0e7a749d88422009af40127dc": {
      "model_module": "@jupyter-widgets/base",
      "model_module_version": "1.2.0",
      "model_name": "LayoutModel",
      "state": {}
     },
     "b7930589b3454fcb818075544b3969c5": {
      "model_module": "@jupyter-widgets/controls",
      "model_module_version": "1.5.0",
      "model_name": "DescriptionStyleModel",
      "state": {
       "description_width": ""
      }
     },
     "b7bc7a3df43c4c5799fc2d0f44740c2c": {
      "model_module": "@jupyter-widgets/controls",
      "model_module_version": "1.5.0",
      "model_name": "HBoxModel",
      "state": {
       "children": [
        "IPY_MODEL_d89e504bf2f549669dacae7f66ef7e16",
        "IPY_MODEL_4293a785d3eb46398c4182a0ae707162",
        "IPY_MODEL_935d68b54f904cc7a210699d90a5a4cb"
       ],
       "layout": "IPY_MODEL_a74e7756839e48b7b3e96758175d5c24"
      }
     },
     "b8bbe7c682554ae7a06c18686528df9b": {
      "model_module": "@jupyter-widgets/output",
      "model_module_version": "1.0.0",
      "model_name": "OutputModel",
      "state": {
       "layout": "IPY_MODEL_d4550bcef15548ca949c69e0074cca7b",
       "outputs": [
        {
         "data": {
          "application/vnd.jupyter.widget-view+json": {
           "model_id": "06f28a60cbee4eae84a3b3ca0401886b",
           "version_major": 2,
           "version_minor": 0
          },
          "text/plain": "  0%|          | 0/1 [00:00<?, ?it/s]"
         },
         "metadata": {},
         "output_type": "display_data"
        }
       ]
      }
     },
     "b965db48d9a748f586d23313d1a5fac3": {
      "model_module": "@jupyter-widgets/controls",
      "model_module_version": "1.5.0",
      "model_name": "DescriptionStyleModel",
      "state": {
       "description_width": ""
      }
     },
     "b9810ad0933a49b6862cc3e47e3a14db": {
      "model_module": "@jupyter-widgets/base",
      "model_module_version": "1.2.0",
      "model_name": "LayoutModel",
      "state": {}
     },
     "b9eb477b86964727b68acaa46f18b338": {
      "model_module": "@jupyter-widgets/controls",
      "model_module_version": "1.5.0",
      "model_name": "TextModel",
      "state": {
       "description": "Distance:",
       "layout": "IPY_MODEL_277820211df548eebfefe1dcaf2d1c6a",
       "style": "IPY_MODEL_1418755e473847be8c37002b42978ac1"
      }
     },
     "ba43722e6b4746b39db9593559155cd3": {
      "model_module": "@jupyter-widgets/base",
      "model_module_version": "1.2.0",
      "model_name": "LayoutModel",
      "state": {}
     },
     "bab3a46d97514c2a964ed9eda16264ab": {
      "model_module": "@jupyter-widgets/base",
      "model_module_version": "1.2.0",
      "model_name": "LayoutModel",
      "state": {}
     },
     "bac337f914074426bb8291e87624a3af": {
      "model_module": "@jupyter-widgets/base",
      "model_module_version": "1.2.0",
      "model_name": "LayoutModel",
      "state": {}
     },
     "bb16ce0a17e742a19be7f2e26e62ac0f": {
      "model_module": "@jupyter-widgets/base",
      "model_module_version": "1.2.0",
      "model_name": "LayoutModel",
      "state": {}
     },
     "bcd19e5b175841349c4a2da77a014c91": {
      "model_module": "@jupyter-widgets/base",
      "model_module_version": "1.2.0",
      "model_name": "LayoutModel",
      "state": {}
     },
     "bd5b193939404cacb1ae053a087d4beb": {
      "model_module": "@jupyter-widgets/base",
      "model_module_version": "1.2.0",
      "model_name": "LayoutModel",
      "state": {}
     },
     "bdb2d5c9986a47f0b93b511086e8aa67": {
      "model_module": "@jupyter-widgets/controls",
      "model_module_version": "1.5.0",
      "model_name": "HBoxModel",
      "state": {
       "children": [
        "IPY_MODEL_cf9c65c90486464da74450a5bd38ade0",
        "IPY_MODEL_0440aef10f5744a782708489da25de8a",
        "IPY_MODEL_0989cbc44cd3448a958ea2ff4667dde5"
       ],
       "layout": "IPY_MODEL_6d25bbb6cd8a442183ea5d795f5e6fa1"
      }
     },
     "bddfe8fca4c34f6ea262c2c802866edb": {
      "model_module": "@jupyter-widgets/controls",
      "model_module_version": "1.5.0",
      "model_name": "DescriptionStyleModel",
      "state": {
       "description_width": ""
      }
     },
     "bde4e9cf969d4daa9bc785fefc696ccc": {
      "model_module": "@jupyter-widgets/controls",
      "model_module_version": "1.5.0",
      "model_name": "ProgressStyleModel",
      "state": {
       "description_width": ""
      }
     },
     "bee2b0cb880240e4a39777b8e550394a": {
      "model_module": "@jupyter-widgets/controls",
      "model_module_version": "1.5.0",
      "model_name": "HBoxModel",
      "state": {
       "children": [
        "IPY_MODEL_5bab9756bd074d2aacc28f7ac9504da0",
        "IPY_MODEL_befa27f4cbd845b681894679bb6019c4",
        "IPY_MODEL_8b04242f2a1b485ea4a7483df5e063b3"
       ],
       "layout": "IPY_MODEL_08630900886f4b84a42c9595f503c707"
      }
     },
     "bee5744bb5c143ad828ef6d4f34b7315": {
      "model_module": "@jupyter-widgets/base",
      "model_module_version": "1.2.0",
      "model_name": "LayoutModel",
      "state": {}
     },
     "befa27f4cbd845b681894679bb6019c4": {
      "model_module": "@jupyter-widgets/controls",
      "model_module_version": "1.5.0",
      "model_name": "FloatProgressModel",
      "state": {
       "bar_style": "success",
       "layout": "IPY_MODEL_635d3540e1ae4b64be753d53ce5d6ccd",
       "max": 1,
       "style": "IPY_MODEL_94dad825e5d14a6184834bd1dd90093f",
       "value": 1
      }
     },
     "bf3da70ea82e4ebe81151d98c6ed9a11": {
      "model_module": "@jupyter-widgets/controls",
      "model_module_version": "1.5.0",
      "model_name": "HBoxModel",
      "state": {
       "children": [
        "IPY_MODEL_c24d0da858bd4ffcae5ce44b803fd00a",
        "IPY_MODEL_20492474e91b436189947b96803fb8eb",
        "IPY_MODEL_186fd3f523594751b8e294bea93f7216"
       ],
       "layout": "IPY_MODEL_27e0326939dc436dafecb13aadff4c70"
      }
     },
     "bf651ebecc604dff8e91ee57c499bbc3": {
      "model_module": "@jupyter-widgets/base",
      "model_module_version": "1.2.0",
      "model_name": "LayoutModel",
      "state": {}
     },
     "bf7466725370443fbd7a6ca7584f7bb4": {
      "model_module": "@jupyter-widgets/controls",
      "model_module_version": "1.5.0",
      "model_name": "FloatProgressModel",
      "state": {
       "bar_style": "success",
       "layout": "IPY_MODEL_a44486ef21a2452b8c82840832e16770",
       "max": 1,
       "style": "IPY_MODEL_afc31cac5b754e17b54690204f5e47f8",
       "value": 1
      }
     },
     "bfaa866d41cb4cde803062df70f35fbb": {
      "model_module": "@jupyter-widgets/controls",
      "model_module_version": "1.5.0",
      "model_name": "DescriptionStyleModel",
      "state": {
       "description_width": ""
      }
     },
     "bff5d03fb6a04b2e8a6a56ca6b65a92a": {
      "model_module": "@jupyter-widgets/controls",
      "model_module_version": "1.5.0",
      "model_name": "DescriptionStyleModel",
      "state": {
       "description_width": ""
      }
     },
     "c01a3def9f2f421c98b96eca10927811": {
      "model_module": "@jupyter-widgets/controls",
      "model_module_version": "1.5.0",
      "model_name": "FloatProgressModel",
      "state": {
       "bar_style": "success",
       "layout": "IPY_MODEL_347b8f76bceb45b1a074c9b93ee9e6c1",
       "max": 1,
       "style": "IPY_MODEL_179275668f5b4981b77a7cfc0b683294",
       "value": 1
      }
     },
     "c06192c7b4ed4933ab201afbd301a0c2": {
      "model_module": "@jupyter-widgets/controls",
      "model_module_version": "1.5.0",
      "model_name": "HTMLModel",
      "state": {
       "layout": "IPY_MODEL_6c4cda9d13f8461297e8f75ecf839c5a",
       "style": "IPY_MODEL_dcf56a8d99754adda441a81519bd82d6",
       "value": " 1/1 [00:00&lt;00:00, 10.38it/s]"
      }
     },
     "c083a19f02f949deb8ec32fb4dc18401": {
      "model_module": "@jupyter-widgets/controls",
      "model_module_version": "1.5.0",
      "model_name": "HTMLModel",
      "state": {
       "layout": "IPY_MODEL_5f683f7c102749bdb33d6c91245d4226",
       "style": "IPY_MODEL_f86bc84692f7438caf48424bae31ad01",
       "value": " 1/1 [00:00&lt;00:00,  9.69it/s]"
      }
     },
     "c0c17eca69d44ebb82c43d36684f0ffe": {
      "model_module": "@jupyter-widgets/controls",
      "model_module_version": "1.5.0",
      "model_name": "DescriptionStyleModel",
      "state": {
       "description_width": ""
      }
     },
     "c10937af98b44dc28624f1db217953a6": {
      "model_module": "@jupyter-widgets/controls",
      "model_module_version": "1.5.0",
      "model_name": "HTMLModel",
      "state": {
       "layout": "IPY_MODEL_daa2798cd66d4dd293448d91bff87c53",
       "style": "IPY_MODEL_376d197cc29e4e57b14529bb0e29f0e9",
       "value": "100%"
      }
     },
     "c18042af9e9849b39e2ee7ce1a665188": {
      "model_module": "@jupyter-widgets/controls",
      "model_module_version": "1.5.0",
      "model_name": "DescriptionStyleModel",
      "state": {
       "description_width": ""
      }
     },
     "c1fdbe8d7277445db3eececb5db0f33c": {
      "model_module": "@jupyter-widgets/output",
      "model_module_version": "1.0.0",
      "model_name": "OutputModel",
      "state": {
       "layout": "IPY_MODEL_1cb5d3ea8ba84b6fb4071932085146b3",
       "outputs": [
        {
         "data": {
          "application/vnd.jupyter.widget-view+json": {
           "model_id": "10137788e69c46b99fa4151abf8805a7",
           "version_major": 2,
           "version_minor": 0
          },
          "text/plain": "  0%|          | 0/1 [00:00<?, ?it/s]"
         },
         "metadata": {},
         "output_type": "display_data"
        }
       ]
      }
     },
     "c22cd2423edd412ea8874dd1c8569f73": {
      "model_module": "@jupyter-widgets/base",
      "model_module_version": "1.2.0",
      "model_name": "LayoutModel",
      "state": {
       "display": "none"
      }
     },
     "c24d0da858bd4ffcae5ce44b803fd00a": {
      "model_module": "@jupyter-widgets/controls",
      "model_module_version": "1.5.0",
      "model_name": "HTMLModel",
      "state": {
       "layout": "IPY_MODEL_6a220e1de41e4703be0da3963c724543",
       "style": "IPY_MODEL_85b25d44d6c8416da54c0040e813a7e0",
       "value": "100%"
      }
     },
     "c2693a16efc646be8e5e1f83a921a6ad": {
      "model_module": "@jupyter-widgets/controls",
      "model_module_version": "1.5.0",
      "model_name": "DescriptionStyleModel",
      "state": {
       "description_width": ""
      }
     },
     "c31bfd95f3b544a5a7e191c4c9031406": {
      "model_module": "@jupyter-widgets/base",
      "model_module_version": "1.2.0",
      "model_name": "LayoutModel",
      "state": {}
     },
     "c33ff420ab34439dbc51f0a4d4af31f7": {
      "model_module": "@jupyter-widgets/controls",
      "model_module_version": "1.5.0",
      "model_name": "HTMLModel",
      "state": {
       "layout": "IPY_MODEL_799d533cb93e4768b666b813b5dba669",
       "style": "IPY_MODEL_14a5215dd28d446980d3ef55cb66a128",
       "value": " 1/1 [00:00&lt;00:00, 10.95it/s]"
      }
     },
     "c35d05d9bfd249b4b86db4f506fc27b5": {
      "model_module": "@jupyter-widgets/base",
      "model_module_version": "1.2.0",
      "model_name": "LayoutModel",
      "state": {
       "grid_area": "widget011",
       "height": "50px",
       "margin": "0px",
       "max_height": "50px",
       "max_width": "50px",
       "width": "50px"
      }
     },
     "c39baa9ab4e8401e89b6dfb4cfe47fbf": {
      "model_module": "@jupyter-widgets/controls",
      "model_module_version": "1.5.0",
      "model_name": "FloatProgressModel",
      "state": {
       "bar_style": "success",
       "layout": "IPY_MODEL_e16612e8be244b5d9b271209ba9dd9b7",
       "max": 1,
       "style": "IPY_MODEL_d3b9604987f8475cb8868b437cea11fe",
       "value": 1
      }
     },
     "c3b8c8002643435ab1f82d1bc8172bb8": {
      "model_module": "@jupyter-widgets/base",
      "model_module_version": "1.2.0",
      "model_name": "LayoutModel",
      "state": {
       "grid_area": "widget023",
       "height": "50px",
       "margin": "0px",
       "max_height": "50px",
       "max_width": "50px",
       "width": "50px"
      }
     },
     "c4cf52aab2464dd6adcd2bfbe0d3f287": {
      "model_module": "@jupyter-widgets/base",
      "model_module_version": "1.2.0",
      "model_name": "LayoutModel",
      "state": {}
     },
     "c51eacfae3aa4bcb8e38df2f6c33d462": {
      "model_module": "@jupyter-widgets/base",
      "model_module_version": "1.2.0",
      "model_name": "LayoutModel",
      "state": {}
     },
     "c572a7907763452cb525d8be90c8b351": {
      "model_module": "@jupyter-widgets/controls",
      "model_module_version": "1.5.0",
      "model_name": "FloatProgressModel",
      "state": {
       "bar_style": "success",
       "layout": "IPY_MODEL_82a5595f68a44184a64bb6aaa71eca59",
       "max": 50,
       "style": "IPY_MODEL_0a58476a6c1d404fba99dc24815e3f41",
       "value": 50
      }
     },
     "c5a6249fc3224700b19c2894d31407e3": {
      "model_module": "@jupyter-widgets/controls",
      "model_module_version": "1.5.0",
      "model_name": "HBoxModel",
      "state": {
       "children": [
        "IPY_MODEL_b570bc5490ca482f814ce27a8a61146d",
        "IPY_MODEL_271b01f0893b4750ba68b3fb818d4123",
        "IPY_MODEL_0d29cd21c46b49449ba7dc8a87ab717a"
       ],
       "layout": "IPY_MODEL_553ca13e6d3f4ebab0bd0ab9088c53dc"
      }
     },
     "c5b492f6e4344e1dbb5f3c1c79949ad8": {
      "model_module": "@jupyter-widgets/controls",
      "model_module_version": "1.5.0",
      "model_name": "HTMLModel",
      "state": {
       "layout": "IPY_MODEL_d8abfe515f534694a7d32128e75b7ab9",
       "style": "IPY_MODEL_ef1220fc197d461ba40ee628bafb8b77",
       "value": " 50/50 [00:00&lt;00:00, 129.41it/s]"
      }
     },
     "c5f04a6c09604154a21f7967997674b3": {
      "model_module": "@jupyter-widgets/controls",
      "model_module_version": "1.5.0",
      "model_name": "HBoxModel",
      "state": {
       "children": [
        "IPY_MODEL_18f6533d67a240b2b60e93d21c90a5a9",
        "IPY_MODEL_d32ba535c8fc4177831bf052b26d884d"
       ],
       "layout": "IPY_MODEL_6987a177e4e046408d6953af7969af27"
      }
     },
     "c67cd91b61ec4f53a99d7428c45e60b9": {
      "model_module": "@jupyter-widgets/base",
      "model_module_version": "1.2.0",
      "model_name": "LayoutModel",
      "state": {
       "grid_area": "widget005",
       "height": "50px",
       "margin": "0px",
       "max_height": "50px",
       "max_width": "50px",
       "width": "50px"
      }
     },
     "c7f38cfb35c944a6bdd564ad610bb93d": {
      "model_module": "@jupyter-widgets/base",
      "model_module_version": "1.2.0",
      "model_name": "LayoutModel",
      "state": {}
     },
     "c813d73e633e4a4298d541354d234f3b": {
      "model_module": "@jupyter-widgets/base",
      "model_module_version": "1.2.0",
      "model_name": "LayoutModel",
      "state": {
       "display": "none",
       "height": "auto",
       "width": "-webkit-fill-available"
      }
     },
     "c8213afb0c024184ad9d9e5c184db5d9": {
      "model_module": "@jupyter-widgets/controls",
      "model_module_version": "1.5.0",
      "model_name": "FloatProgressModel",
      "state": {
       "bar_style": "success",
       "layout": "IPY_MODEL_61cca5ba72cd44a0900f4384fb2067fb",
       "max": 50,
       "style": "IPY_MODEL_6f76ef5426154996b0b2d6ef4b3a7bdf",
       "value": 50
      }
     },
     "c84b9a5fe99b4186848fad4c48160cf6": {
      "model_module": "@jupyter-widgets/base",
      "model_module_version": "1.2.0",
      "model_name": "LayoutModel",
      "state": {}
     },
     "c84d8ea4737f41e18c7f9d0aedbd12a9": {
      "model_module": "@jupyter-widgets/controls",
      "model_module_version": "1.5.0",
      "model_name": "DescriptionStyleModel",
      "state": {
       "description_width": ""
      }
     },
     "c865c73fbce344fd9bf0ed5cd7d7757a": {
      "model_module": "@jupyter-widgets/base",
      "model_module_version": "1.2.0",
      "model_name": "LayoutModel",
      "state": {
       "display": "none"
      }
     },
     "c8e81dfbed6e457b837ef0addf16872d": {
      "model_module": "@jupyter-widgets/base",
      "model_module_version": "1.2.0",
      "model_name": "LayoutModel",
      "state": {}
     },
     "c91f18a1f6a2474eaba3cb8001e4434f": {
      "model_module": "@jupyter-widgets/controls",
      "model_module_version": "1.5.0",
      "model_name": "HBoxModel",
      "state": {
       "children": [
        "IPY_MODEL_fb29eb1ee1eb4444b067470df329e48b",
        "IPY_MODEL_2e7b88cbd96c451ea7e094e2e36d0f4e",
        "IPY_MODEL_1861a0134a98442ebb3d94676d98326d"
       ],
       "layout": "IPY_MODEL_10f3048a70b44ae0806eccb1ef35419d"
      }
     },
     "c91fa28fa26f4eceafefef3ec5f7084a": {
      "model_module": "@jupyter-widgets/output",
      "model_module_version": "1.0.0",
      "model_name": "OutputModel",
      "state": {
       "layout": "IPY_MODEL_30ca3205ec254f08ae7706c86cc256e6",
       "outputs": [
        {
         "data": {
          "application/vnd.jupyter.widget-view+json": {
           "model_id": "3e793a2aa9b1461da7674f6ab3819155",
           "version_major": 2,
           "version_minor": 0
          },
          "text/plain": "  0%|          | 0/1 [00:00<?, ?it/s]"
         },
         "metadata": {},
         "output_type": "display_data"
        }
       ]
      }
     },
     "c957adfd3f4645e6a43186f7f8af0c59": {
      "model_module": "@jupyter-widgets/controls",
      "model_module_version": "1.5.0",
      "model_name": "ProgressStyleModel",
      "state": {
       "description_width": ""
      }
     },
     "cb2be3db8e954a5780b9d1c79abb8353": {
      "model_module": "@jupyter-widgets/controls",
      "model_module_version": "1.5.0",
      "model_name": "DescriptionStyleModel",
      "state": {
       "description_width": ""
      }
     },
     "cb3ec5ba7a42439d86aa4a0e9cb7f3cc": {
      "model_module": "@jupyter-widgets/base",
      "model_module_version": "1.2.0",
      "model_name": "LayoutModel",
      "state": {
       "grid_area": "widget020",
       "height": "50px",
       "margin": "0px",
       "max_height": "50px",
       "max_width": "50px",
       "width": "50px"
      }
     },
     "cb52d0f728b3443b8ebd4ba7b0dc91fb": {
      "model_module": "@jupyter-widgets/base",
      "model_module_version": "1.2.0",
      "model_name": "LayoutModel",
      "state": {}
     },
     "cbad75cf9cd94c90960c9dffa3a64811": {
      "model_module": "@jupyter-widgets/controls",
      "model_module_version": "1.5.0",
      "model_name": "TextModel",
      "state": {
       "description": "Distance:",
       "layout": "IPY_MODEL_b092f810b227450892b543d86beab91d",
       "style": "IPY_MODEL_9008af5ddd5a4d40bc6f726642cfd6f7"
      }
     },
     "cbcdf9a9436448fb8507ac172ed04735": {
      "model_module": "@jupyter-widgets/controls",
      "model_module_version": "1.5.0",
      "model_name": "LabelModel",
      "state": {
       "layout": "IPY_MODEL_4405512025d847f68b00bc4c497bf07d",
       "style": "IPY_MODEL_96a581b15a784d8c9df83ac0db36bc47",
       "value": "Right IR"
      }
     },
     "cc1c39ec3dc743aba5f7485176ee0c6f": {
      "model_module": "@jupyter-widgets/base",
      "model_module_version": "1.2.0",
      "model_name": "LayoutModel",
      "state": {
       "grid_area": "widget009",
       "height": "50px",
       "margin": "0px",
       "max_height": "50px",
       "max_width": "50px",
       "width": "50px"
      }
     },
     "ccf948c795ea45b2b1fb13eca5156fdd": {
      "model_module": "@jupyter-widgets/controls",
      "model_module_version": "1.5.0",
      "model_name": "FloatProgressModel",
      "state": {
       "bar_style": "success",
       "layout": "IPY_MODEL_08e6b337faee422dbdc5b2ffd169ea10",
       "max": 1,
       "style": "IPY_MODEL_654b0db00ebb46eea5caee31bda9b398",
       "value": 1
      }
     },
     "cda21f8f88b744ce8f2d60cf5f82e7aa": {
      "model_module": "@jupyter-widgets/controls",
      "model_module_version": "1.5.0",
      "model_name": "HTMLModel",
      "state": {
       "layout": "IPY_MODEL_a84352c14d264e6094820e3e55d4f0ad",
       "style": "IPY_MODEL_d9234d52286b422685507e9db1185d16",
       "value": " 50/50 [00:00&lt;00:00, 129.78it/s]"
      }
     },
     "ce30405d5877447cb24b6fc1c9390a43": {
      "model_module": "@jupyter-widgets/output",
      "model_module_version": "1.0.0",
      "model_name": "OutputModel",
      "state": {
       "layout": "IPY_MODEL_d78b411c48804195915d79e1992126d7",
       "outputs": [
        {
         "data": {
          "application/vnd.jupyter.widget-view+json": {
           "model_id": "79003bc227a94bf18d63f3b3f509f535",
           "version_major": 2,
           "version_minor": 0
          },
          "text/plain": "  0%|          | 0/1 [00:00<?, ?it/s]"
         },
         "metadata": {},
         "output_type": "display_data"
        }
       ]
      }
     },
     "ce6572c4d27e472e9f2a47bdbe056731": {
      "model_module": "@jupyter-widgets/controls",
      "model_module_version": "1.5.0",
      "model_name": "HBoxModel",
      "state": {
       "children": [
        "IPY_MODEL_c10937af98b44dc28624f1db217953a6",
        "IPY_MODEL_08addf97b6bc4e0baf7fb368c28b871e",
        "IPY_MODEL_c33ff420ab34439dbc51f0a4d4af31f7"
       ],
       "layout": "IPY_MODEL_e52ae98f5bd14d07b7319ea467abe89a"
      }
     },
     "ce9567c50f5b4e44b83da574027b0eab": {
      "model_module": "@jupyter-widgets/controls",
      "model_module_version": "1.5.0",
      "model_name": "HTMLModel",
      "state": {
       "layout": "IPY_MODEL_48e304db4daf432280fd220fcdc22511",
       "style": "IPY_MODEL_3f97476bd8884aa8960d6787b38e9850",
       "value": " 1/1 [00:00&lt;00:00, 11.76it/s]"
      }
     },
     "ce9a3651b5014a97bef00abf06e912ad": {
      "model_module": "@jupyter-widgets/base",
      "model_module_version": "1.2.0",
      "model_name": "LayoutModel",
      "state": {
       "grid_area": "widget008",
       "height": "50px",
       "margin": "0px",
       "max_height": "50px",
       "max_width": "50px",
       "width": "50px"
      }
     },
     "cf5005a4913c46a3b8be1cfbd515abce": {
      "model_module": "@jupyter-widgets/controls",
      "model_module_version": "1.5.0",
      "model_name": "HTMLModel",
      "state": {
       "layout": "IPY_MODEL_c31bfd95f3b544a5a7e191c4c9031406",
       "style": "IPY_MODEL_03f3ad5a0a674726860f5f4aa2b42eb6",
       "value": " 5/5 [00:00&lt;00:00,  9.42it/s]"
      }
     },
     "cf83a02e465d41d7a3c2de87af01e817": {
      "model_module": "@jupyter-widgets/controls",
      "model_module_version": "1.5.0",
      "model_name": "DescriptionStyleModel",
      "state": {
       "description_width": ""
      }
     },
     "cf9c65c90486464da74450a5bd38ade0": {
      "model_module": "@jupyter-widgets/controls",
      "model_module_version": "1.5.0",
      "model_name": "HTMLModel",
      "state": {
       "layout": "IPY_MODEL_236e48e7379a4f0c9d439e15133ae0bf",
       "style": "IPY_MODEL_a05df9b84ee54f4294a2d5e5d138873b",
       "value": "100%"
      }
     },
     "d0432a73da834b5e9cd9875432f4ba47": {
      "model_module": "@jupyter-widgets/base",
      "model_module_version": "1.2.0",
      "model_name": "LayoutModel",
      "state": {}
     },
     "d0fbe3dcb5b640d5916e5510cbb82873": {
      "model_module": "@jupyter-widgets/controls",
      "model_module_version": "1.5.0",
      "model_name": "ButtonModel",
      "state": {
       "description": "\u2572",
       "layout": "IPY_MODEL_9b64d9c9b8644d3eb9825256df75c0b1",
       "style": "IPY_MODEL_27a371232efb482cb1f7dd2d7f220b80"
      }
     },
     "d1a9cb30fe984c9ab4abc95e611ec3f9": {
      "model_module": "@jupyter-widgets/base",
      "model_module_version": "1.2.0",
      "model_name": "LayoutModel",
      "state": {}
     },
     "d1aec5c533004259959c964c79061800": {
      "model_module": "@jupyter-widgets/controls",
      "model_module_version": "1.5.0",
      "model_name": "TextModel",
      "state": {
       "description": "Trans vel:",
       "layout": "IPY_MODEL_c22cd2423edd412ea8874dd1c8569f73",
       "style": "IPY_MODEL_832f77104cb44c9398833be5a78d6481"
      }
     },
     "d1e579c5fa5b4df5ba72fb772d49db8a": {
      "model_module": "@jupyter-widgets/controls",
      "model_module_version": "1.5.0",
      "model_name": "HBoxModel",
      "state": {
       "children": [
        "IPY_MODEL_0aac9de3b01948909924ff55e2df2936",
        "IPY_MODEL_815dc78152f64f60a83d85d3f306eb03",
        "IPY_MODEL_c5b492f6e4344e1dbb5f3c1c79949ad8"
       ],
       "layout": "IPY_MODEL_d9b5026c164a4f1595a0438214f8cdab"
      }
     },
     "d2265fb053244ed0b65dc9337598e7de": {
      "model_module": "@jupyter-widgets/controls",
      "model_module_version": "1.5.0",
      "model_name": "ProgressStyleModel",
      "state": {
       "description_width": ""
      }
     },
     "d2bd581f56124f5b84745163d30fadca": {
      "model_module": "@jupyter-widgets/controls",
      "model_module_version": "1.5.0",
      "model_name": "HTMLModel",
      "state": {
       "layout": "IPY_MODEL_41702280efe146debd9e7c02d15a81a4",
       "style": "IPY_MODEL_0a1651e98aff4c90bfdb9c67345914f3",
       "value": "100%"
      }
     },
     "d32ba535c8fc4177831bf052b26d884d": {
      "buffers": [
       {
        "data": "iVBORw0KGgoAAAANSUhEUgAAAIAAAABACAYAAADS1n9/AAABC0lEQVR4nO3cMU7DMBiAUReVXoErIk6RBa5Aj4i4QoewdelQCTfN8L03ZYr/4VMcLz6MsayDrJe9B2BfAogTQJwA4gQQJ4C4w+UyrsfA9R8HwtNpeeA4PJsvQJwA4gQQd5x9wcf4vT6v4/Yn4nu8zS7BhqYDuOd9/Gy9BBNsAXECiBNAnADiBBAngDgBxAkgTgBxAogTQJwA4gQQJ4A4AcQJIE4AcQKIE0CcAOIEECeAOAHECSBOAHECiBNAnADiBBAngDgBxAkgTgBxAogTQJwA4gQQJ4A4AcQJIG7ziyLPy3nrJZgwf1381yPH4dlsAXECiBNA3PH1c+8R2JMvQJwA4gQQJ4A4AcT9AW/BFI07Lz88AAAAAElFTkSuQmCC",
        "encoding": "base64",
        "path": [
         "value"
        ]
       }
      ],
      "model_module": "@jupyter-widgets/controls",
      "model_module_version": "1.5.0",
      "model_name": "ImageModel",
      "state": {
       "_dom_classes": [
        "pixelated"
       ],
       "layout": "IPY_MODEL_e51a591b532d4e8489d880cb9ac20f3e"
      }
     },
     "d36a9385705345da82f6cdb4ada3e467": {
      "model_module": "@jupyter-widgets/controls",
      "model_module_version": "1.5.0",
      "model_name": "ProgressStyleModel",
      "state": {
       "description_width": ""
      }
     },
     "d3a6f347d83840a1b355973bcd4a32df": {
      "model_module": "@jupyter-widgets/controls",
      "model_module_version": "1.5.0",
      "model_name": "HTMLModel",
      "state": {
       "layout": "IPY_MODEL_62ae879fb683424285a0710220d63316",
       "style": "IPY_MODEL_80f7f72d70e74cf496c87860bcb13646",
       "value": " 1/1 [00:00&lt;00:00, 11.02it/s]"
      }
     },
     "d3b9604987f8475cb8868b437cea11fe": {
      "model_module": "@jupyter-widgets/controls",
      "model_module_version": "1.5.0",
      "model_name": "ProgressStyleModel",
      "state": {
       "description_width": ""
      }
     },
     "d3c4ccc002134071ba476539d99a9c9f": {
      "model_module": "@jupyter-widgets/controls",
      "model_module_version": "1.5.0",
      "model_name": "FloatProgressModel",
      "state": {
       "bar_style": "success",
       "layout": "IPY_MODEL_3d56a0c8fe1342a6a0c943d67186d7d9",
       "max": 1,
       "style": "IPY_MODEL_69252e37ee424ac496d585d8debb78e1",
       "value": 1
      }
     },
     "d4329e4eb88d4a3c91af1e3c73af12be": {
      "model_module": "@jupyter-widgets/controls",
      "model_module_version": "1.5.0",
      "model_name": "ButtonModel",
      "state": {
       "description": "\uff5c",
       "layout": "IPY_MODEL_ce9a3651b5014a97bef00abf06e912ad",
       "style": "IPY_MODEL_e4f00a60792c4697b29b32bd48aeecbe"
      }
     },
     "d4550bcef15548ca949c69e0074cca7b": {
      "model_module": "@jupyter-widgets/base",
      "model_module_version": "1.2.0",
      "model_name": "LayoutModel",
      "state": {}
     },
     "d55551c9eb3844b1942cba7f52fa3525": {
      "model_module": "@jupyter-widgets/controls",
      "model_module_version": "1.5.0",
      "model_name": "ButtonModel",
      "state": {
       "description": "\u2b07",
       "layout": "IPY_MODEL_c3b8c8002643435ab1f82d1bc8172bb8",
       "style": "IPY_MODEL_197032a703c84d339715b3b251890250"
      }
     },
     "d556c7aa10b14be3a90893427d40cc13": {
      "model_module": "@jupyter-widgets/output",
      "model_module_version": "1.0.0",
      "model_name": "OutputModel",
      "state": {
       "layout": "IPY_MODEL_3211d607f53b461f9896675df4eedf24",
       "outputs": [
        {
         "data": {
          "application/vnd.jupyter.widget-view+json": {
           "model_id": "bf3da70ea82e4ebe81151d98c6ed9a11",
           "version_major": 2,
           "version_minor": 0
          },
          "text/plain": "  0%|          | 0/1 [00:00<?, ?it/s]"
         },
         "metadata": {},
         "output_type": "display_data"
        }
       ]
      }
     },
     "d6053259386144688d4eb19e5c39a79a": {
      "model_module": "@jupyter-widgets/controls",
      "model_module_version": "1.5.0",
      "model_name": "HBoxModel",
      "state": {
       "children": [
        "IPY_MODEL_754d18c699f44f82915d6847e70dbe20",
        "IPY_MODEL_fe314363a1f54f04b2d8e9a6edc04f2d",
        "IPY_MODEL_32c26dc27de94ad98a721cd1010a394f"
       ],
       "layout": "IPY_MODEL_c7f38cfb35c944a6bdd564ad610bb93d"
      }
     },
     "d654d85fce7646fdaa859116a2b36a1b": {
      "model_module": "@jupyter-widgets/base",
      "model_module_version": "1.2.0",
      "model_name": "LayoutModel",
      "state": {
       "grid_area": "widget025",
       "height": "50px",
       "margin": "0px",
       "max_height": "50px",
       "max_width": "50px",
       "width": "50px"
      }
     },
     "d66e52baad694e4882a3a2a4e8c66f09": {
      "model_module": "@jupyter-widgets/controls",
      "model_module_version": "1.5.0",
      "model_name": "DescriptionStyleModel",
      "state": {
       "description_width": ""
      }
     },
     "d67df6ac26574823a78af3af60a535bb": {
      "model_module": "@jupyter-widgets/base",
      "model_module_version": "1.2.0",
      "model_name": "LayoutModel",
      "state": {}
     },
     "d69a2db506844ad8983bc8620a88a113": {
      "model_module": "@jupyter-widgets/controls",
      "model_module_version": "1.5.0",
      "model_name": "HBoxModel",
      "state": {
       "children": [
        "IPY_MODEL_b407413c35ad4c8bb027c379e6d3944d",
        "IPY_MODEL_31a24ba4e9154c798551ac058c663bc7",
        "IPY_MODEL_0c70923901bc48618f6e62b9d41fa823"
       ],
       "layout": "IPY_MODEL_390f5f2714574ba39ff950797af58f9c"
      }
     },
     "d6a009fd34d54d8fa30df546b37ac69a": {
      "model_module": "@jupyter-widgets/controls",
      "model_module_version": "1.5.0",
      "model_name": "ButtonStyleModel",
      "state": {}
     },
     "d6d36dd9a7c64a1c8b24615b79f52090": {
      "model_module": "@jupyter-widgets/base",
      "model_module_version": "1.2.0",
      "model_name": "LayoutModel",
      "state": {}
     },
     "d70eb79409cc4d2699b8f9c58423cbea": {
      "model_module": "@jupyter-widgets/base",
      "model_module_version": "1.2.0",
      "model_name": "LayoutModel",
      "state": {}
     },
     "d729b8eab26e4a72a142df3791056b4d": {
      "model_module": "@jupyter-widgets/base",
      "model_module_version": "1.2.0",
      "model_name": "LayoutModel",
      "state": {
       "display": "none"
      }
     },
     "d77ff0ec87a04501b280f85e044d1adf": {
      "model_module": "@jupyter-widgets/controls",
      "model_module_version": "1.5.0",
      "model_name": "HBoxModel",
      "state": {
       "children": [
        "IPY_MODEL_fc195b68be734a6386cafb506925939e",
        "IPY_MODEL_01b26d70f865476ea6375cd8fd08d004",
        "IPY_MODEL_3127949f0c2549f28a52153d4dc08481"
       ],
       "layout": "IPY_MODEL_0a29d314cdcd4ca48da65b9350ad060d"
      }
     },
     "d78b411c48804195915d79e1992126d7": {
      "model_module": "@jupyter-widgets/base",
      "model_module_version": "1.2.0",
      "model_name": "LayoutModel",
      "state": {}
     },
     "d7908c2db0604e85a322946644e439fc": {
      "model_module": "@jupyter-widgets/base",
      "model_module_version": "1.2.0",
      "model_name": "LayoutModel",
      "state": {}
     },
     "d862adc59fdf44f596cd159e4d0663f0": {
      "model_module": "@jupyter-widgets/output",
      "model_module_version": "1.0.0",
      "model_name": "OutputModel",
      "state": {
       "layout": "IPY_MODEL_de50832aeefc4f98a13765eb43b5981f",
       "outputs": [
        {
         "data": {
          "application/vnd.jupyter.widget-view+json": {
           "model_id": "19e440e897ca4fd480ec148e0d6da342",
           "version_major": 2,
           "version_minor": 0
          },
          "text/plain": "  0%|          | 0/1 [00:00<?, ?it/s]"
         },
         "metadata": {},
         "output_type": "display_data"
        }
       ]
      }
     },
     "d86b3096d671485094e53be84279d218": {
      "model_module": "@jupyter-widgets/controls",
      "model_module_version": "1.5.0",
      "model_name": "VBoxModel",
      "state": {
       "children": [
        "IPY_MODEL_9c0f86333f7b4bb99537a83aea13f806",
        "IPY_MODEL_c5f04a6c09604154a21f7967997674b3",
        "IPY_MODEL_1cf3b237d5fb4f80bf75ad26e1230fd6"
       ],
       "layout": "IPY_MODEL_4372700d246e4d2b946b751a55dcd324"
      }
     },
     "d86e380335734532af46653298b4dca1": {
      "model_module": "@jupyter-widgets/base",
      "model_module_version": "1.2.0",
      "model_name": "LayoutModel",
      "state": {}
     },
     "d89e504bf2f549669dacae7f66ef7e16": {
      "model_module": "@jupyter-widgets/controls",
      "model_module_version": "1.5.0",
      "model_name": "HTMLModel",
      "state": {
       "layout": "IPY_MODEL_44876cab86e5421793b7be9c08f1521d",
       "style": "IPY_MODEL_8773ffeb5d8841e9ae96459bbcc597b2",
       "value": "100%"
      }
     },
     "d8abfe515f534694a7d32128e75b7ab9": {
      "model_module": "@jupyter-widgets/base",
      "model_module_version": "1.2.0",
      "model_name": "LayoutModel",
      "state": {}
     },
     "d8f998c648ed4fd3bd88452b498122cb": {
      "model_module": "@jupyter-widgets/base",
      "model_module_version": "1.2.0",
      "model_name": "LayoutModel",
      "state": {}
     },
     "d9234d52286b422685507e9db1185d16": {
      "model_module": "@jupyter-widgets/controls",
      "model_module_version": "1.5.0",
      "model_name": "DescriptionStyleModel",
      "state": {
       "description_width": ""
      }
     },
     "d9a7acd5788c4653a07b73ca6648d3fb": {
      "model_module": "@jupyter-widgets/controls",
      "model_module_version": "1.5.0",
      "model_name": "DescriptionStyleModel",
      "state": {
       "description_width": ""
      }
     },
     "d9b5026c164a4f1595a0438214f8cdab": {
      "model_module": "@jupyter-widgets/base",
      "model_module_version": "1.2.0",
      "model_name": "LayoutModel",
      "state": {}
     },
     "d9d5e1c165bb4e9dbfbbba81fe601f76": {
      "model_module": "@jupyter-widgets/output",
      "model_module_version": "1.0.0",
      "model_name": "OutputModel",
      "state": {
       "layout": "IPY_MODEL_8efb04f75ced47b0a8b6a97f04059865",
       "outputs": [
        {
         "data": {
          "application/vnd.jupyter.widget-view+json": {
           "model_id": "85b7cf6a2dd749b9bf3c4dd946c140f8",
           "version_major": 2,
           "version_minor": 0
          },
          "text/plain": "  0%|          | 0/1 [00:00<?, ?it/s]"
         },
         "metadata": {},
         "output_type": "display_data"
        }
       ]
      }
     },
     "da531c45dc7a442bb408ca2dbdff6294": {
      "model_module": "@jupyter-widgets/base",
      "model_module_version": "1.2.0",
      "model_name": "LayoutModel",
      "state": {}
     },
     "daa2798cd66d4dd293448d91bff87c53": {
      "model_module": "@jupyter-widgets/base",
      "model_module_version": "1.2.0",
      "model_name": "LayoutModel",
      "state": {}
     },
     "dae8dace6826417d8611d9bd22a957ae": {
      "model_module": "@jupyter-widgets/base",
      "model_module_version": "1.2.0",
      "model_name": "LayoutModel",
      "state": {}
     },
     "dbb855b600ce4be6ae2c0ec88b20125a": {
      "model_module": "@jupyter-widgets/base",
      "model_module_version": "1.2.0",
      "model_name": "LayoutModel",
      "state": {}
     },
     "dbd10bdbf7fd4bc99fc18595ae458470": {
      "model_module": "@jupyter-widgets/controls",
      "model_module_version": "1.5.0",
      "model_name": "DescriptionStyleModel",
      "state": {
       "description_width": ""
      }
     },
     "dc19a549baef466786075b65149c8732": {
      "model_module": "@jupyter-widgets/base",
      "model_module_version": "1.2.0",
      "model_name": "LayoutModel",
      "state": {}
     },
     "dca15d849142431bb58abbc0759a8e6d": {
      "model_module": "@jupyter-widgets/base",
      "model_module_version": "1.2.0",
      "model_name": "LayoutModel",
      "state": {}
     },
     "dcf56a8d99754adda441a81519bd82d6": {
      "model_module": "@jupyter-widgets/controls",
      "model_module_version": "1.5.0",
      "model_name": "DescriptionStyleModel",
      "state": {
       "description_width": ""
      }
     },
     "ddcd62216754429b8d7a29a77525a49b": {
      "model_module": "@jupyter-widgets/base",
      "model_module_version": "1.2.0",
      "model_name": "LayoutModel",
      "state": {}
     },
     "de50832aeefc4f98a13765eb43b5981f": {
      "model_module": "@jupyter-widgets/base",
      "model_module_version": "1.2.0",
      "model_name": "LayoutModel",
      "state": {}
     },
     "df2ada0be49b43ec87256cefe4fb8663": {
      "model_module": "@jupyter-widgets/controls",
      "model_module_version": "1.5.0",
      "model_name": "HBoxModel",
      "state": {
       "children": [
        "IPY_MODEL_60ab534c0c454722af6d17a80ea58465",
        "IPY_MODEL_fe94084dd41043af80c64234a578b87f",
        "IPY_MODEL_cda21f8f88b744ce8f2d60cf5f82e7aa"
       ],
       "layout": "IPY_MODEL_2fb3a89dc6164b18a59355d70352ce4d"
      }
     },
     "df2f01241aad4a6aa8da60bd49d1463d": {
      "model_module": "@jupyter-widgets/base",
      "model_module_version": "1.2.0",
      "model_name": "LayoutModel",
      "state": {}
     },
     "dfbc7cb80fc741ec9fbf4322f861bced": {
      "model_module": "@jupyter-widgets/base",
      "model_module_version": "1.2.0",
      "model_name": "LayoutModel",
      "state": {}
     },
     "dfcb5addb7604776a21dd70019fa7879": {
      "model_module": "@jupyter-widgets/controls",
      "model_module_version": "1.5.0",
      "model_name": "DescriptionStyleModel",
      "state": {
       "description_width": ""
      }
     },
     "e026a82f6d9f4c7296fbb8b2218a5413": {
      "model_module": "@jupyter-widgets/controls",
      "model_module_version": "1.5.0",
      "model_name": "ButtonStyleModel",
      "state": {}
     },
     "e0ccfa9a2518452980a51f9404d559ef": {
      "model_module": "@jupyter-widgets/base",
      "model_module_version": "1.2.0",
      "model_name": "LayoutModel",
      "state": {}
     },
     "e14e3899aaee4af49af6052ce29643c7": {
      "model_module": "@jupyter-widgets/base",
      "model_module_version": "1.2.0",
      "model_name": "LayoutModel",
      "state": {}
     },
     "e16612e8be244b5d9b271209ba9dd9b7": {
      "model_module": "@jupyter-widgets/base",
      "model_module_version": "1.2.0",
      "model_name": "LayoutModel",
      "state": {}
     },
     "e221a114f7fa4135a7efd7e511f74950": {
      "model_module": "@jupyter-widgets/controls",
      "model_module_version": "1.5.0",
      "model_name": "HTMLModel",
      "state": {
       "layout": "IPY_MODEL_e6fdc4643ba849f5931ced12647f87e4",
       "style": "IPY_MODEL_7448910f3601402bb8650cee92b9dd2f",
       "value": "100%"
      }
     },
     "e22a04485d6545fa95857a2efd23ca12": {
      "model_module": "@jupyter-widgets/base",
      "model_module_version": "1.2.0",
      "model_name": "LayoutModel",
      "state": {}
     },
     "e29742b056e04bba8f2a23a62ff80ba8": {
      "model_module": "@jupyter-widgets/controls",
      "model_module_version": "1.5.0",
      "model_name": "DescriptionStyleModel",
      "state": {
       "description_width": ""
      }
     },
     "e2c79de6e5764b228c0dfcc9d902dc99": {
      "model_module": "@jupyter-widgets/controls",
      "model_module_version": "1.5.0",
      "model_name": "DescriptionStyleModel",
      "state": {
       "description_width": ""
      }
     },
     "e31a803815ba42669198a93f1576e4e0": {
      "model_module": "@jupyter-widgets/controls",
      "model_module_version": "1.5.0",
      "model_name": "FloatProgressModel",
      "state": {
       "bar_style": "success",
       "layout": "IPY_MODEL_1f96bb22e6b942cc92b6c44af3b97278",
       "max": 1,
       "style": "IPY_MODEL_1611cd41d0e04a899206ef7b67f38e4b",
       "value": 1
      }
     },
     "e3a1ab76279048808663761fe5e48ca6": {
      "model_module": "@jupyter-widgets/controls",
      "model_module_version": "1.5.0",
      "model_name": "HBoxModel",
      "state": {
       "children": [
        "IPY_MODEL_ae2bfb60bfb84aeaac4981eaa1f0806f",
        "IPY_MODEL_d3c4ccc002134071ba476539d99a9c9f",
        "IPY_MODEL_b58de386373f45159a2fb218a4b79673"
       ],
       "layout": "IPY_MODEL_e88106063c3046c7987ab890cd386830"
      }
     },
     "e3bfea5f0c2e44b3b17c24019a4cc5da": {
      "model_module": "@jupyter-widgets/controls",
      "model_module_version": "1.5.0",
      "model_name": "HTMLModel",
      "state": {
       "layout": "IPY_MODEL_39ff9d8d7014461292dc6e632b53304f",
       "style": "IPY_MODEL_30b6b906478d4c9fbfc05ffa97838647",
       "value": "100%"
      }
     },
     "e3f70b24f9394de7a8a10d93670aa26c": {
      "model_module": "@jupyter-widgets/controls",
      "model_module_version": "1.5.0",
      "model_name": "DescriptionStyleModel",
      "state": {
       "description_width": ""
      }
     },
     "e449a1825cf240af987c035247f24cbe": {
      "model_module": "@jupyter-widgets/output",
      "model_module_version": "1.0.0",
      "model_name": "OutputModel",
      "state": {
       "layout": "IPY_MODEL_19213b2fc22a42e6b64288cfcfd0cda2",
       "outputs": [
        {
         "data": {
          "application/vnd.jupyter.widget-view+json": {
           "model_id": "e6a7341797f3428786426647504cc412",
           "version_major": 2,
           "version_minor": 0
          },
          "text/plain": "  0%|          | 0/1 [00:00<?, ?it/s]"
         },
         "metadata": {},
         "output_type": "display_data"
        }
       ]
      }
     },
     "e4d22cd243474d898ea593efb2c40de2": {
      "model_module": "@jupyter-widgets/base",
      "model_module_version": "1.2.0",
      "model_name": "LayoutModel",
      "state": {}
     },
     "e4f00a60792c4697b29b32bd48aeecbe": {
      "model_module": "@jupyter-widgets/controls",
      "model_module_version": "1.5.0",
      "model_name": "ButtonStyleModel",
      "state": {}
     },
     "e51a591b532d4e8489d880cb9ac20f3e": {
      "model_module": "@jupyter-widgets/base",
      "model_module_version": "1.2.0",
      "model_name": "LayoutModel",
      "state": {
       "border": "10px solid rgb(0 177 255)",
       "height": "auto",
       "max_width": "100%",
       "width": "500px"
      }
     },
     "e52ae98f5bd14d07b7319ea467abe89a": {
      "model_module": "@jupyter-widgets/base",
      "model_module_version": "1.2.0",
      "model_name": "LayoutModel",
      "state": {}
     },
     "e537d143b8ac4e649c7f55f236f567d0": {
      "model_module": "@jupyter-widgets/controls",
      "model_module_version": "1.5.0",
      "model_name": "VBoxModel",
      "state": {
       "children": [
        "IPY_MODEL_302d2e26155d455fbae30790e794bcd3",
        "IPY_MODEL_4cdb3095d06543d0a8c4dbc20496babd",
        "IPY_MODEL_7ce4861b95f94f359ece2232905442ef",
        "IPY_MODEL_cbad75cf9cd94c90960c9dffa3a64811"
       ],
       "layout": "IPY_MODEL_feac9a54e2b7437cbc2d98638f300b5d"
      }
     },
     "e5bf7469db124e4d8c99944bb3621bbf": {
      "model_module": "@jupyter-widgets/base",
      "model_module_version": "1.2.0",
      "model_name": "LayoutModel",
      "state": {}
     },
     "e6a7341797f3428786426647504cc412": {
      "model_module": "@jupyter-widgets/controls",
      "model_module_version": "1.5.0",
      "model_name": "HBoxModel",
      "state": {
       "children": [
        "IPY_MODEL_1f370b9ca26e450b84690c1bb75d32df",
        "IPY_MODEL_e7570ecff9794681b424720e95580c25",
        "IPY_MODEL_d3a6f347d83840a1b355973bcd4a32df"
       ],
       "layout": "IPY_MODEL_012bf340f81848c79b39881a75865c48"
      }
     },
     "e6fdc4643ba849f5931ced12647f87e4": {
      "model_module": "@jupyter-widgets/base",
      "model_module_version": "1.2.0",
      "model_name": "LayoutModel",
      "state": {}
     },
     "e7570ecff9794681b424720e95580c25": {
      "model_module": "@jupyter-widgets/controls",
      "model_module_version": "1.5.0",
      "model_name": "FloatProgressModel",
      "state": {
       "bar_style": "success",
       "layout": "IPY_MODEL_9042d386b80d4cfcb85041e5c8a0e6ce",
       "max": 1,
       "style": "IPY_MODEL_006047928a8e4fb28ea1b0e2022ee237",
       "value": 1
      }
     },
     "e776fcd5a83545998fab7e5cf613ee88": {
      "model_module": "@jupyter-widgets/controls",
      "model_module_version": "1.5.0",
      "model_name": "DescriptionStyleModel",
      "state": {
       "description_width": ""
      }
     },
     "e77c561ccfb548428569875b5a263e55": {
      "model_module": "@jupyter-widgets/controls",
      "model_module_version": "1.5.0",
      "model_name": "ProgressStyleModel",
      "state": {
       "description_width": ""
      }
     },
     "e84588783a604da4bf89e88613794a90": {
      "model_module": "@jupyter-widgets/output",
      "model_module_version": "1.0.0",
      "model_name": "OutputModel",
      "state": {
       "layout": "IPY_MODEL_992ff324ee544d90b0d07927bfdb1082",
       "outputs": [
        {
         "data": {
          "application/vnd.jupyter.widget-view+json": {
           "model_id": "c5a6249fc3224700b19c2894d31407e3",
           "version_major": 2,
           "version_minor": 0
          },
          "text/plain": "  0%|          | 0/1 [00:00<?, ?it/s]"
         },
         "metadata": {},
         "output_type": "display_data"
        }
       ]
      }
     },
     "e88106063c3046c7987ab890cd386830": {
      "model_module": "@jupyter-widgets/base",
      "model_module_version": "1.2.0",
      "model_name": "LayoutModel",
      "state": {}
     },
     "e8b05b0312cd41e588dd2c85cd9fa366": {
      "model_module": "@jupyter-widgets/controls",
      "model_module_version": "1.5.0",
      "model_name": "TextModel",
      "state": {
       "description": "Reading:",
       "layout": "IPY_MODEL_387c5c2284e54cc8bac6e2f0aab47993",
       "style": "IPY_MODEL_57cb0ca5111a4b79b3ba6962e36d3509",
       "value": "1.0"
      }
     },
     "e921dc4a4e2c43cbb9968f1ed5c1e922": {
      "model_module": "@jupyter-widgets/base",
      "model_module_version": "1.2.0",
      "model_name": "LayoutModel",
      "state": {
       "display": "none"
      }
     },
     "e9775b630d1d4e599cc2dde645e63267": {
      "model_module": "@jupyter-widgets/output",
      "model_module_version": "1.0.0",
      "model_name": "OutputModel",
      "state": {
       "layout": "IPY_MODEL_0fcf0850bf324c23be8b34de221b642b",
       "outputs": [
        {
         "data": {
          "application/vnd.jupyter.widget-view+json": {
           "model_id": "518c2aa1572249388642c4be622c8541",
           "version_major": 2,
           "version_minor": 0
          },
          "text/plain": "  0%|          | 0/1 [00:00<?, ?it/s]"
         },
         "metadata": {},
         "output_type": "display_data"
        }
       ]
      }
     },
     "eb2afc888ecc4befac1d1634510c596d": {
      "model_module": "@jupyter-widgets/controls",
      "model_module_version": "1.5.0",
      "model_name": "FloatProgressModel",
      "state": {
       "bar_style": "success",
       "layout": "IPY_MODEL_a84cf8dac1b247aab8535fda163492a3",
       "max": 1,
       "style": "IPY_MODEL_7df12ce4bc504fab9dc777aa7d4d8f71",
       "value": 1
      }
     },
     "eb529079c0c047598ff2813fad1da9ed": {
      "model_module": "@jupyter-widgets/controls",
      "model_module_version": "1.5.0",
      "model_name": "HBoxModel",
      "state": {
       "children": [
        "IPY_MODEL_f601ec56c11f4fdd96b6a3d87e559944",
        "IPY_MODEL_4eff0d26e20c4bd2a3ac4c36c4a61845",
        "IPY_MODEL_24b3fc76e2734e38af0b40cf29830efb"
       ],
       "layout": "IPY_MODEL_839c3616ef0d4bdd92d798d1ba2dd5b8"
      }
     },
     "eb996a0df8e14fca85e47a6e5c43a809": {
      "model_module": "@jupyter-widgets/controls",
      "model_module_version": "1.5.0",
      "model_name": "HTMLModel",
      "state": {
       "layout": "IPY_MODEL_90e813537d6d4b1c8c05915ff5527ff7",
       "style": "IPY_MODEL_d66e52baad694e4882a3a2a4e8c66f09",
       "value": "100%"
      }
     },
     "eb9a13dd339d49eb8163c388a680955c": {
      "model_module": "@jupyter-widgets/controls",
      "model_module_version": "1.5.0",
      "model_name": "DescriptionStyleModel",
      "state": {
       "description_width": ""
      }
     },
     "eb9b921bdabd4785996cad3bcf33570d": {
      "model_module": "@jupyter-widgets/controls",
      "model_module_version": "1.5.0",
      "model_name": "HTMLModel",
      "state": {
       "layout": "IPY_MODEL_63be6586ce7f4cbfaa666595e084aaff",
       "style": "IPY_MODEL_bfaa866d41cb4cde803062df70f35fbb",
       "value": " 1/1 [00:00&lt;00:00, 26.69it/s]"
      }
     },
     "ebd0ea0a49d845b1b7b713e31c2f9cc9": {
      "model_module": "@jupyter-widgets/base",
      "model_module_version": "1.2.0",
      "model_name": "LayoutModel",
      "state": {}
     },
     "ec56964f13134875a6c661228aa9a1f6": {
      "model_module": "@jupyter-widgets/base",
      "model_module_version": "1.2.0",
      "model_name": "LayoutModel",
      "state": {}
     },
     "ec7bca6229254d6c883147062e2bc29b": {
      "model_module": "@jupyter-widgets/controls",
      "model_module_version": "1.5.0",
      "model_name": "DescriptionStyleModel",
      "state": {
       "description_width": ""
      }
     },
     "ec8eba58b51547bcbe2e45e12931ef93": {
      "model_module": "@jupyter-widgets/controls",
      "model_module_version": "1.5.0",
      "model_name": "DescriptionStyleModel",
      "state": {
       "description_width": ""
      }
     },
     "ed8fb3f048d84dc18d926020e1623995": {
      "model_module": "@jupyter-widgets/controls",
      "model_module_version": "1.5.0",
      "model_name": "DescriptionStyleModel",
      "state": {
       "description_width": ""
      }
     },
     "edc46c14b80445daa1615de57db51ed9": {
      "model_module": "@jupyter-widgets/output",
      "model_module_version": "1.0.0",
      "model_name": "OutputModel",
      "state": {
       "layout": "IPY_MODEL_2ba0c2ce4488464fb5f7ee41d90e9ccd",
       "outputs": [
        {
         "data": {
          "application/vnd.jupyter.widget-view+json": {
           "model_id": "3705096fb2434763bd9f87af704551e9",
           "version_major": 2,
           "version_minor": 0
          },
          "text/plain": "  0%|          | 0/1 [00:00<?, ?it/s]"
         },
         "metadata": {},
         "output_type": "display_data"
        }
       ]
      }
     },
     "edf83e81e02344a2a2d30413c7257e95": {
      "model_module": "@jupyter-widgets/controls",
      "model_module_version": "1.5.0",
      "model_name": "ProgressStyleModel",
      "state": {
       "description_width": ""
      }
     },
     "ee8e3afb4f6a4d338c5f30b2db4861b4": {
      "model_module": "@jupyter-widgets/controls",
      "model_module_version": "1.5.0",
      "model_name": "ButtonModel",
      "state": {
       "description": " ",
       "layout": "IPY_MODEL_7c4bc683d05c49b98b699cad29ee535e",
       "style": "IPY_MODEL_d6a009fd34d54d8fa30df546b37ac69a"
      }
     },
     "eeeb05b30e6649519d882448347df7b3": {
      "model_module": "@jupyter-widgets/controls",
      "model_module_version": "1.5.0",
      "model_name": "DescriptionStyleModel",
      "state": {
       "description_width": ""
      }
     },
     "ef1220fc197d461ba40ee628bafb8b77": {
      "model_module": "@jupyter-widgets/controls",
      "model_module_version": "1.5.0",
      "model_name": "DescriptionStyleModel",
      "state": {
       "description_width": ""
      }
     },
     "ef8f5d825db14c0f9ffcf5f7f43d4b59": {
      "model_module": "@jupyter-widgets/controls",
      "model_module_version": "1.5.0",
      "model_name": "ButtonStyleModel",
      "state": {}
     },
     "f097a17692574adeb985cb39f0d01c17": {
      "model_module": "@jupyter-widgets/controls",
      "model_module_version": "1.5.0",
      "model_name": "ProgressStyleModel",
      "state": {
       "description_width": ""
      }
     },
     "f0ee2531e95f4822a2b19622d0aa3b0d": {
      "model_module": "@jupyter-widgets/output",
      "model_module_version": "1.0.0",
      "model_name": "OutputModel",
      "state": {
       "layout": "IPY_MODEL_529d338d624e47599f2529bededf0928",
       "outputs": [
        {
         "data": {
          "application/vnd.jupyter.widget-view+json": {
           "model_id": "f3bb884819144900b6333ec28da63540",
           "version_major": 2,
           "version_minor": 0
          },
          "text/plain": "  0%|          | 0/5 [00:00<?, ?it/s]"
         },
         "metadata": {},
         "output_type": "display_data"
        },
        {
         "name": "stdout",
         "output_type": "stream",
         "text": "Simulation stopped at: 00:00:10.50; speed 0.9 x real time\n"
        }
       ]
      }
     },
     "f13e3f5d3860444da055dc9fd7ea8f91": {
      "model_module": "@jupyter-widgets/controls",
      "model_module_version": "1.5.0",
      "model_name": "HTMLModel",
      "state": {
       "layout": "IPY_MODEL_f898f17d2bfe4ddbaf2ba9796567866e",
       "style": "IPY_MODEL_b7930589b3454fcb818075544b3969c5",
       "value": "100%"
      }
     },
     "f1af7bdf9fb94de0a93328c574d98e2a": {
      "model_module": "@jupyter-widgets/base",
      "model_module_version": "1.2.0",
      "model_name": "LayoutModel",
      "state": {}
     },
     "f2d5eff311cb4a91afeefd8fc6aa2eac": {
      "model_module": "@jupyter-widgets/controls",
      "model_module_version": "1.5.0",
      "model_name": "DescriptionStyleModel",
      "state": {
       "description_width": ""
      }
     },
     "f35ecaadeb8e4a5aa7123f359e6f6b47": {
      "model_module": "@jupyter-widgets/base",
      "model_module_version": "1.2.0",
      "model_name": "LayoutModel",
      "state": {}
     },
     "f3bb884819144900b6333ec28da63540": {
      "model_module": "@jupyter-widgets/controls",
      "model_module_version": "1.5.0",
      "model_name": "HBoxModel",
      "state": {
       "children": [
        "IPY_MODEL_8fe230f227484e1dac10e2358aaa2e04",
        "IPY_MODEL_55c2641124d0488e97a4546a1953adf3",
        "IPY_MODEL_04b23d2b1c7e4ff09a40c86b1e7a54f2"
       ],
       "layout": "IPY_MODEL_e4d22cd243474d898ea593efb2c40de2"
      }
     },
     "f3faa8fbdd9a4e01bed37be728c726b4": {
      "model_module": "@jupyter-widgets/controls",
      "model_module_version": "1.5.0",
      "model_name": "DescriptionStyleModel",
      "state": {
       "description_width": ""
      }
     },
     "f42fdbddaae247f496726304555e4d06": {
      "model_module": "@jupyter-widgets/controls",
      "model_module_version": "1.5.0",
      "model_name": "HTMLModel",
      "state": {
       "layout": "IPY_MODEL_a3a3788fbcbb4eb283331098ae1cdd6c",
       "style": "IPY_MODEL_3633766cd147408f80b7d18d83258014",
       "value": " 50/50 [00:00&lt;00:00, 178.36it/s]"
      }
     },
     "f49c83efea3b473ab4185340d5e78bd6": {
      "model_module": "@jupyter-widgets/controls",
      "model_module_version": "1.5.0",
      "model_name": "DescriptionStyleModel",
      "state": {
       "description_width": ""
      }
     },
     "f4cb44e88154463787bf9740c33ca411": {
      "model_module": "@jupyter-widgets/controls",
      "model_module_version": "1.5.0",
      "model_name": "ButtonStyleModel",
      "state": {}
     },
     "f601ec56c11f4fdd96b6a3d87e559944": {
      "model_module": "@jupyter-widgets/controls",
      "model_module_version": "1.5.0",
      "model_name": "HTMLModel",
      "state": {
       "layout": "IPY_MODEL_bf651ebecc604dff8e91ee57c499bbc3",
       "style": "IPY_MODEL_f997010de59e4481aa34d3ed584691ea",
       "value": "100%"
      }
     },
     "f61a9c0938a445c8826ce507684806ff": {
      "model_module": "@jupyter-widgets/base",
      "model_module_version": "1.2.0",
      "model_name": "LayoutModel",
      "state": {}
     },
     "f6322d3ffd454440a544f3f8e58ccefd": {
      "model_module": "@jupyter-widgets/controls",
      "model_module_version": "1.5.0",
      "model_name": "ButtonStyleModel",
      "state": {}
     },
     "f67b78dc13ef4982bbb196a258119789": {
      "model_module": "@jupyter-widgets/base",
      "model_module_version": "1.2.0",
      "model_name": "LayoutModel",
      "state": {}
     },
     "f6957e369bc845c19b51ed790ae2556e": {
      "model_module": "@jupyter-widgets/controls",
      "model_module_version": "1.5.0",
      "model_name": "HBoxModel",
      "state": {
       "children": [
        "IPY_MODEL_6f72c04686834ebdb5d73a2eaef1200c",
        "IPY_MODEL_62da895ae51f4d058d55b169305b4970",
        "IPY_MODEL_5c2f484d7b084671a3a75badb35ec1e6"
       ],
       "layout": "IPY_MODEL_625f607d74c741519bd36ebdd8cfb2a6"
      }
     },
     "f6ad0517a63b44e28d908b6e4edc9f0f": {
      "model_module": "@jupyter-widgets/controls",
      "model_module_version": "1.5.0",
      "model_name": "FloatProgressModel",
      "state": {
       "bar_style": "success",
       "layout": "IPY_MODEL_63683d0fdaeb41dda9ab604209d8f2d7",
       "max": 1,
       "style": "IPY_MODEL_bde4e9cf969d4daa9bc785fefc696ccc",
       "value": 1
      }
     },
     "f71812ee2cfe474cb55695dbac126f4a": {
      "model_module": "@jupyter-widgets/controls",
      "model_module_version": "1.5.0",
      "model_name": "DescriptionStyleModel",
      "state": {
       "description_width": ""
      }
     },
     "f762596efd82421f84b8c0428222f015": {
      "model_module": "@jupyter-widgets/base",
      "model_module_version": "1.2.0",
      "model_name": "LayoutModel",
      "state": {
       "display": "none"
      }
     },
     "f7c75621d24b4ce69a45f3955f29b583": {
      "model_module": "@jupyter-widgets/controls",
      "model_module_version": "1.5.0",
      "model_name": "DescriptionStyleModel",
      "state": {
       "description_width": ""
      }
     },
     "f846cf4447d849fdac7270df6d5b4186": {
      "model_module": "@jupyter-widgets/controls",
      "model_module_version": "1.5.0",
      "model_name": "HBoxModel",
      "state": {
       "children": [
        "IPY_MODEL_e221a114f7fa4135a7efd7e511f74950",
        "IPY_MODEL_10f7885d3a64415186973ab8382f809f",
        "IPY_MODEL_a3cfc3a95e2f48f59d10b50c33582f10"
       ],
       "layout": "IPY_MODEL_7bd653f6aa7844719ac5d9193dc493b3"
      }
     },
     "f86bc84692f7438caf48424bae31ad01": {
      "model_module": "@jupyter-widgets/controls",
      "model_module_version": "1.5.0",
      "model_name": "DescriptionStyleModel",
      "state": {
       "description_width": ""
      }
     },
     "f898f17d2bfe4ddbaf2ba9796567866e": {
      "model_module": "@jupyter-widgets/base",
      "model_module_version": "1.2.0",
      "model_name": "LayoutModel",
      "state": {}
     },
     "f92711c696e64a8f8fc2d631aa49cd0d": {
      "model_module": "@jupyter-widgets/controls",
      "model_module_version": "1.5.0",
      "model_name": "HTMLModel",
      "state": {
       "layout": "IPY_MODEL_604c6e8def5a46ba95466e847e554d20",
       "style": "IPY_MODEL_6db02cdf39eb4484bfe82c8787098726",
       "value": "100%"
      }
     },
     "f997010de59e4481aa34d3ed584691ea": {
      "model_module": "@jupyter-widgets/controls",
      "model_module_version": "1.5.0",
      "model_name": "DescriptionStyleModel",
      "state": {
       "description_width": ""
      }
     },
     "f9d1c47bf3fe4137bd6972cd05f22eab": {
      "model_module": "@jupyter-widgets/controls",
      "model_module_version": "1.5.0",
      "model_name": "HBoxModel",
      "state": {
       "children": [
        "IPY_MODEL_493ac468d5e2456285eb0c88c8547406",
        "IPY_MODEL_4765554300e643818329d70c6b981b7b",
        "IPY_MODEL_f42fdbddaae247f496726304555e4d06"
       ],
       "layout": "IPY_MODEL_5d59a48713ca451c94bc17630d3bb3f0"
      }
     },
     "fa3f82163d56427a9dfa5b6665725f6f": {
      "model_module": "@jupyter-widgets/controls",
      "model_module_version": "1.5.0",
      "model_name": "ButtonStyleModel",
      "state": {}
     },
     "fa9b8ede38bd4b8195730e0a4f6e49dc": {
      "model_module": "@jupyter-widgets/base",
      "model_module_version": "1.2.0",
      "model_name": "LayoutModel",
      "state": {}
     },
     "fac10e0e3c3f4190ae6d219c08948148": {
      "model_module": "@jupyter-widgets/controls",
      "model_module_version": "1.5.0",
      "model_name": "ButtonStyleModel",
      "state": {}
     },
     "fad44ef93d0545179748476b0aeb25de": {
      "model_module": "@jupyter-widgets/output",
      "model_module_version": "1.0.0",
      "model_name": "OutputModel",
      "state": {
       "layout": "IPY_MODEL_983f92e5ffbf4f7eae1efe26a62a6e50",
       "outputs": [
        {
         "data": {
          "application/vnd.jupyter.widget-view+json": {
           "model_id": "0b1456eed6ce40c99200098c2dc32eb8",
           "version_major": 2,
           "version_minor": 0
          },
          "text/plain": "  0%|          | 0/1 [00:00<?, ?it/s]"
         },
         "metadata": {},
         "output_type": "display_data"
        }
       ]
      }
     },
     "fb115c48867149fe8130ce417811b126": {
      "model_module": "@jupyter-widgets/base",
      "model_module_version": "1.2.0",
      "model_name": "LayoutModel",
      "state": {}
     },
     "fb29eb1ee1eb4444b067470df329e48b": {
      "model_module": "@jupyter-widgets/controls",
      "model_module_version": "1.5.0",
      "model_name": "HTMLModel",
      "state": {
       "layout": "IPY_MODEL_640d4a93493c41a59f02b3471322e03f",
       "style": "IPY_MODEL_44f5fc50dce243b98a76a1199929df42",
       "value": "100%"
      }
     },
     "fb3d26bb00394471bd841001107402e0": {
      "model_module": "@jupyter-widgets/controls",
      "model_module_version": "1.5.0",
      "model_name": "ProgressStyleModel",
      "state": {
       "description_width": ""
      }
     },
     "fb7177d86f28404b860d4f167077e5f7": {
      "model_module": "@jupyter-widgets/base",
      "model_module_version": "1.2.0",
      "model_name": "LayoutModel",
      "state": {}
     },
     "fb8a291faedf461880ff891764de999d": {
      "model_module": "@jupyter-widgets/controls",
      "model_module_version": "1.5.0",
      "model_name": "DescriptionStyleModel",
      "state": {
       "description_width": ""
      }
     },
     "fc195b68be734a6386cafb506925939e": {
      "model_module": "@jupyter-widgets/controls",
      "model_module_version": "1.5.0",
      "model_name": "HTMLModel",
      "state": {
       "layout": "IPY_MODEL_0f8ea1fa685e42928182eecc541aa1a5",
       "style": "IPY_MODEL_ed8fb3f048d84dc18d926020e1623995",
       "value": "100%"
      }
     },
     "fc2e08d5bfb5458296a16863f54d946d": {
      "model_module": "@jupyter-widgets/base",
      "model_module_version": "1.2.0",
      "model_name": "LayoutModel",
      "state": {}
     },
     "fc350eeae14d4f7993ff64436d51a3c4": {
      "model_module": "@jupyter-widgets/base",
      "model_module_version": "1.2.0",
      "model_name": "LayoutModel",
      "state": {}
     },
     "fd05709470d6447aab83f0dfd6043574": {
      "model_module": "@jupyter-widgets/controls",
      "model_module_version": "1.5.0",
      "model_name": "ProgressStyleModel",
      "state": {
       "description_width": ""
      }
     },
     "fd98943f82a440539b9a8b0e92e4ef08": {
      "model_module": "@jupyter-widgets/controls",
      "model_module_version": "1.5.0",
      "model_name": "HTMLModel",
      "state": {
       "layout": "IPY_MODEL_40bb120175634d78970370736e677414",
       "style": "IPY_MODEL_2c55a9043c3a43bf94909978d7a2d5fc",
       "value": "100%"
      }
     },
     "fdea85cdf317497d86a456a6c6f96772": {
      "model_module": "@jupyter-widgets/controls",
      "model_module_version": "1.5.0",
      "model_name": "ButtonModel",
      "state": {
       "description": "\u2299",
       "layout": "IPY_MODEL_9545d9307ca64c6682c79c853e465408",
       "style": "IPY_MODEL_fa3f82163d56427a9dfa5b6665725f6f"
      }
     },
     "fe314363a1f54f04b2d8e9a6edc04f2d": {
      "model_module": "@jupyter-widgets/controls",
      "model_module_version": "1.5.0",
      "model_name": "FloatProgressModel",
      "state": {
       "bar_style": "success",
       "layout": "IPY_MODEL_4e01efa55733432f80c22a5ba2f00015",
       "max": 50,
       "style": "IPY_MODEL_fee9cde67af64ab19b43dd4872fafce6",
       "value": 50
      }
     },
     "fe35d37215b34327ad40d597bb013890": {
      "model_module": "@jupyter-widgets/base",
      "model_module_version": "1.2.0",
      "model_name": "LayoutModel",
      "state": {}
     },
     "fe75335b1eed433bb96a77ad2aa94fe7": {
      "model_module": "@jupyter-widgets/base",
      "model_module_version": "1.2.0",
      "model_name": "LayoutModel",
      "state": {}
     },
     "fe94084dd41043af80c64234a578b87f": {
      "model_module": "@jupyter-widgets/controls",
      "model_module_version": "1.5.0",
      "model_name": "FloatProgressModel",
      "state": {
       "bar_style": "success",
       "layout": "IPY_MODEL_1e37b4664c594922984a5153df70e84f",
       "max": 50,
       "style": "IPY_MODEL_b5c1978b68a743c5a9e600e004dc4d96",
       "value": 50
      }
     },
     "feac9a54e2b7437cbc2d98638f300b5d": {
      "model_module": "@jupyter-widgets/base",
      "model_module_version": "1.2.0",
      "model_name": "LayoutModel",
      "state": {
       "border": "10px solid rgb(0 177 255)"
      }
     },
     "fec7ee6f053a46549464f0bee05629f0": {
      "model_module": "@jupyter-widgets/base",
      "model_module_version": "1.2.0",
      "model_name": "LayoutModel",
      "state": {}
     },
     "fee9cde67af64ab19b43dd4872fafce6": {
      "model_module": "@jupyter-widgets/controls",
      "model_module_version": "1.5.0",
      "model_name": "ProgressStyleModel",
      "state": {
       "description_width": ""
      }
     },
     "ff6574aa98854f54beb0e5cd5689e15c": {
      "model_module": "@jupyter-widgets/base",
      "model_module_version": "1.2.0",
      "model_name": "LayoutModel",
      "state": {
       "grid_area": "widget001",
       "height": "50px",
       "margin": "0px",
       "max_height": "50px",
       "max_width": "50px",
       "width": "50px"
      }
     },
     "ffaf812122b04c7f813c16f7317b4813": {
      "model_module": "@jupyter-widgets/controls",
      "model_module_version": "1.5.0",
      "model_name": "DescriptionStyleModel",
      "state": {
       "description_width": ""
      }
     },
     "ffb00f3bf9c64076ac2931ed419faa40": {
      "model_module": "@jupyter-widgets/controls",
      "model_module_version": "1.5.0",
      "model_name": "ButtonModel",
      "state": {
       "description": "\u2571",
       "layout": "IPY_MODEL_1ee43feafdf743c8aeb86711e99eaac0",
       "style": "IPY_MODEL_06f1577cfe9046d59beba3e844fd45ce"
      }
     }
    },
    "version_major": 2,
    "version_minor": 0
   }
  }
 },
 "nbformat": 4,
 "nbformat_minor": 4
}