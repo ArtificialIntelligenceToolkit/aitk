{
 "cells": [
  {
   "cell_type": "markdown",
   "metadata": {},
   "source": "<a target=\"_blank\" href=\"https://colab.research.google.com/github/ArtificialIntelligenceToolkit/aitk/blob/master/notebooks/StringGA.ipynb\"><img src=\"https://colab.research.google.com/assets/colab-badge.svg\" alt=\"Open In Colab\"/></a>"
  },
  {
   "cell_type": "code",
   "execution_count": null,
   "metadata": {
    "id": "AQMTpw5e_0cx"
   },
   "outputs": [],
   "source": [
    "%pip install aitk --upgrade --quiet"
   ]
  },
  {
   "cell_type": "code",
   "execution_count": 2,
   "metadata": {},
   "outputs": [],
   "source": [
    "from aitk.algorithms.ga import GeneticAlgorithm\n",
    "import string\n",
    "import random"
   ]
  },
  {
   "cell_type": "code",
   "execution_count": 3,
   "metadata": {},
   "outputs": [],
   "source": [
    "class StringGA(GeneticAlgorithm):\n",
    "    \"\"\"\n",
    "    An example of using the GeneticAlgorithm class to solve a particular\n",
    "    problem, in this case decoding a secret message.\n",
    "    \"\"\"\n",
    "    SECRET = list('ZRaUV[X`-Va-V`-YVXR-N-dRN`RY')\n",
    "    \n",
    "    def __init__(self, popSize, verbose=False):\n",
    "        length = len(self.SECRET)\n",
    "        super().__init__(length, popSize, verbose)\n",
    "        \n",
    "    def decode(self, s): return [chr(ord(ch) - 13) for ch in s]\n",
    "    def encode(self, s): return [chr(ord(ch) + 13) for ch in s]\n",
    "    \n",
    "    def fitness(self, chromosome, index=None):\n",
    "        \"\"\"\n",
    "        Fitness is the total number of matching characters.\n",
    "        \"\"\"\n",
    "        secret = self.decode(self.SECRET)\n",
    "        return sum([chromosome[i] == secret[i] for i in range(len(secret))])\n",
    "    \n",
    "    def is_done(self):\n",
    "        \"\"\"\n",
    "        Stop when the fitness of the the best member of the current\n",
    "        population is equal to the maximum fitness.\n",
    "        \"\"\"\n",
    "        return self.fitness(self.bestEver) == self.length\n",
    "\n",
    "    def report(self):\n",
    "        print(\"Generation %4d Fitness %3d String %s\" % \\\n",
    "              (self.generation, self.bestEverScore, \"\".join(self.bestEver)))\n",
    "    \n",
    "    def make_random_gene(self):\n",
    "        \"\"\"\n",
    "        Function to generate a new random chromosome.\n",
    "        \"\"\"\n",
    "        chars = string.ascii_uppercase + \" \"\n",
    "        return random.choice(chars)"
   ]
  },
  {
   "cell_type": "code",
   "execution_count": 4,
   "metadata": {},
   "outputs": [
    {
     "name": "stdout",
     "output_type": "stream",
     "text": [
      "Genetic algorithm\n",
      "  Chromosome length: 28\n",
      "  Population size: 500\n",
      "  Maximum number of generations: 1000\n",
      "  Crossover rate: 0.6\n",
      "  Mutation rate: 0.005\n",
      "  Elite percentage: 0.1\n",
      "  Elite count: 50\n",
      "Generation    0 Fitness   5 String LNYTHROSFNWODATJIRF ZNWI SIO\n",
      "Generation    1 Fitness   6 String ZETOHAMHIUTUGXQVVSSKG ZEKOEN\n",
      "Generation    2 Fitness   7 String XFYZYVKSICGRIFFPNVXLAVAYAZEL\n",
      "Generation    3 Fitness   7 String XFYZYVKSICGRIFFPNVXLAVAYAZEL\n",
      "Generation    4 Fitness   7 String XFYZYVKSICGRIFFPNVXLAVAYAZEL\n",
      "Generation    5 Fitness   9 String MEUQIIAO NYJXN LPGEP  WCTVLY\n",
      "Generation    6 Fitness  10 String LADUBNKIRIR ISQTGNGXAVAYAZEL\n",
      "Generation    7 Fitness  11 String VEJFCNKIRIR ISQTGNGXAVAYAZEL\n",
      "Generation    8 Fitness  11 String VEJFCNKIRIR ISQTGNGXAVAYAZEL\n",
      "Generation    9 Fitness  12 String MEUQIIAO NYJXN LPGE ZNWI SEL\n",
      "Generation   10 Fitness  12 String MEUQIIAO NYJXN LPGE ZNWI SEL\n",
      "Generation   11 Fitness  12 String MEUQIIAO NYJXN LPGE ZNWI SEL\n",
      "Generation   12 Fitness  13 String  DTIIAMHIUT CSWLIGEP  WBAZEL\n",
      "Generation   13 Fitness  15 String MENJINKBDIKKISWLIGEPAVAYAMEL\n",
      "Generation   14 Fitness  15 String MENJINKBDIKKISWLIGEPAVAYAMEL\n",
      "Generation   15 Fitness  15 String MENJINKBDIKKISWLIGEPAVAYAMEL\n",
      "Generation   16 Fitness  15 String MENJINKBDIKKISWLIGEPAVAYAMEL\n",
      "Generation   17 Fitness  16 String MENJINKBDIKKISWLIGEP  WBAZEL\n",
      "Generation   18 Fitness  16 String MENJINKBDIKKISWLIGEP  WBAZEL\n",
      "Generation   19 Fitness  16 String MENJINKBDIKKISWLIGEP  WBAZEL\n",
      "Generation   20 Fitness  17 String MEDHEAKLZITJDS LIGEPA CEAZEL\n",
      "Generation   21 Fitness  17 String MEDHEAKLZITJDS LIGEPA CEAZEL\n",
      "Generation   22 Fitness  17 String MEDHEAKLZITJDS LIGEPA CEAZEL\n",
      "Generation   23 Fitness  18 String MECJINKIRIR IS LIGEPAMWBAZEL\n",
      "Generation   24 Fitness  18 String MECJINKIRIR IS LIGEPAMWBAZEL\n",
      "Generation   25 Fitness  18 String MECJINKIRIR IS LIGEPAMWBAZEL\n",
      "Generation   26 Fitness  19 String MEUHINKBGIR IS LIGE ZNWI SEL\n",
      "Generation   27 Fitness  19 String MEUHINKBGIR IS LIGE ZNWI SEL\n",
      "Generation   28 Fitness  20 String MEDHINKO NY ISHLIGEP  WEASEL\n",
      "Generation   29 Fitness  20 String MEDHINKO NY ISHLIGEP  WEASEL\n",
      "Generation   30 Fitness  21 String MEDHINKIDIT IS LIGEPAMWE SEL\n",
      "Generation   31 Fitness  21 String MEDHINKIDIT IS LIGEPAMWE SEL\n",
      "Generation   32 Fitness  21 String MEDHINKIDIT IS LIGEPAMWE SEL\n",
      "Generation   33 Fitness  22 String METQINKIRST IS LIGE Z WEASEL\n",
      "Generation   34 Fitness  22 String METQINKIRST IS LIGE Z WEASEL\n",
      "Generation   35 Fitness  22 String METQINKIRST IS LIGE Z WEASEL\n",
      "Generation   36 Fitness  23 String MEDHINKO NT IS LIGE   WEASEL\n",
      "Generation   37 Fitness  23 String MEDHINKO NT IS LIGE   WEASEL\n",
      "Generation   38 Fitness  24 String METHINKSIST IS LIGE Z WEASEL\n",
      "Generation   39 Fitness  24 String METHINKSIST IS LIGE Z WEASEL\n",
      "Generation   40 Fitness  24 String METHINKSIST IS LIGE Z WEASEL\n",
      "Generation   41 Fitness  24 String METHINKSIST IS LIGE Z WEASEL\n",
      "Generation   42 Fitness  24 String METHINKSIST IS LIGE Z WEASEL\n",
      "Generation   43 Fitness  24 String METHINKSIST IS LIGE Z WEASEL\n",
      "Generation   44 Fitness  25 String METHINKSIST IS LIGE A WEASEL\n",
      "Generation   45 Fitness  25 String METHINKSIST IS LIGE A WEASEL\n",
      "Generation   46 Fitness  25 String METHINKSIST IS LIGE A WEASEL\n",
      "Generation   47 Fitness  25 String METHINKSIST IS LIGE A WEASEL\n",
      "Generation   48 Fitness  25 String METHINKSIST IS LIGE A WEASEL\n",
      "Generation   49 Fitness  25 String METHINKSIST IS LIGE A WEASEL\n",
      "Generation   50 Fitness  25 String METHINKSIST IS LIGE A WEASEL\n",
      "Generation   51 Fitness  26 String METHINKO IT IS LIGE A WEASEL\n",
      "Generation   52 Fitness  26 String METHINKO IT IS LIGE A WEASEL\n",
      "Generation   53 Fitness  26 String METHINKO IT IS LIGE A WEASEL\n",
      "Generation   54 Fitness  26 String METHINKO IT IS LIGE A WEASEL\n",
      "Generation   55 Fitness  26 String METHINKO IT IS LIGE A WEASEL\n",
      "Generation   56 Fitness  26 String METHINKO IT IS LIGE A WEASEL\n",
      "Generation   57 Fitness  26 String METHINKO IT IS LIGE A WEASEL\n",
      "Generation   58 Fitness  26 String METHINKO IT IS LIGE A WEASEL\n",
      "Generation   59 Fitness  27 String METHINKS IT IS LIGE A WEASEL\n",
      "Generation   60 Fitness  27 String METHINKS IT IS LIGE A WEASEL\n",
      "Generation   61 Fitness  27 String METHINKS IT IS LIGE A WEASEL\n",
      "Generation   62 Fitness  27 String METHINKS IT IS LIGE A WEASEL\n",
      "Generation   63 Fitness  27 String METHINKS IT IS LIGE A WEASEL\n",
      "Generation   64 Fitness  27 String METHINKS IT IS LIGE A WEASEL\n",
      "Generation   65 Fitness  27 String METHINKS IT IS LIGE A WEASEL\n",
      "Generation   66 Fitness  27 String METHINKS IT IS LIGE A WEASEL\n",
      "Generation   67 Fitness  27 String METHINKS IT IS LIGE A WEASEL\n",
      "Generation   68 Fitness  27 String METHINKS IT IS LIGE A WEASEL\n",
      "Generation   69 Fitness  27 String METHINKS IT IS LIGE A WEASEL\n",
      "Generation   70 Fitness  27 String METHINKS IT IS LIGE A WEASEL\n",
      "Generation   71 Fitness  27 String METHINKS IT IS LIGE A WEASEL\n",
      "Generation   72 Fitness  27 String METHINKS IT IS LIGE A WEASEL\n",
      "Generation   73 Fitness  28 String METHINKS IT IS LIKE A WEASEL\n",
      "Solution found\n"
     ]
    }
   ],
   "source": [
    "ga = StringGA(500) # population size\n",
    "bestFound = ga.evolve(\n",
    "    generations=1000, \n",
    "    crossover_rate=0.6, \n",
    "    mutation_rate=0.005, \n",
    "    elite_percent=0.1,\n",
    ")"
   ]
  },
  {
   "cell_type": "code",
   "execution_count": 6,
   "metadata": {},
   "outputs": [
    {
     "name": "stdout",
     "output_type": "stream",
     "text": [
      "METHINKS IT IS LIKE A WEASEL\n"
     ]
    },
    {
     "data": {
      "image/png": "[encoded data removed]",
      "text/plain": [
       "<Figure size 640x480 with 1 Axes>"
      ]
     },
     "metadata": {},
     "output_type": "display_data"
    }
   ],
   "source": [
    "print(\"\".join(bestFound))\n",
    "ga.plot_stats(\"String GA\")"
   ]
  },
  {
   "cell_type": "markdown",
   "metadata": {},
   "source": [
    "# References\n",
    "\n",
    "1. https://en.wikipedia.org/wiki/Weasel_program\n"
   ]
  },
  {
   "cell_type": "code",
   "execution_count": null,
   "metadata": {},
   "outputs": [],
   "source": []
  }
 ],
 "metadata": {
  "kernelspec": {
   "display_name": "Python 3",
   "language": "python",
   "name": "python3"
  },
  "language_info": {
   "codemirror_mode": {
    "name": "ipython",
    "version": 3
   },
   "file_extension": ".py",
   "mimetype": "text/x-python",
   "name": "python",
   "nbconvert_exporter": "python",
   "pygments_lexer": "ipython3",
   "version": "3.8.5"
  },
  "widgets": {
   "application/vnd.jupyter.widget-state+json": {
    "state": {},
    "version_major": 2,
    "version_minor": 0
   }
  }
 },
 "nbformat": 4,
 "nbformat_minor": 4
}