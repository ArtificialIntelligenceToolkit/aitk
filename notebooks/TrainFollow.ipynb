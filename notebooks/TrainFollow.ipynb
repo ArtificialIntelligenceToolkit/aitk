{
 "cells": [
  {
   "cell_type": "markdown",
   "metadata": {},
   "source": "<a target=\"_blank\" href=\"https://colab.research.google.com/github/ArtificialIntelligenceToolkit/aitk/blob/master/notebooks/TrainFollow.ipynb\"><img src=\"https://colab.research.google.com/assets/colab-badge.svg\" alt=\"Open In Colab\"/></a>"
  },
  {
   "cell_type": "code",
   "execution_count": null,
   "metadata": {
    "id": "AQMTpw5e_0cx"
   },
   "outputs": [],
   "source": [
    "%pip install aitk --upgrade --quiet"
   ]
  },
  {
   "cell_type": "code",
   "execution_count": 1,
   "metadata": {},
   "outputs": [
    {
     "data": {
      "text/plain": [
       "'0.8.0'"
      ]
     },
     "execution_count": 1,
     "metadata": {},
     "output_type": "execute_result"
    }
   ],
   "source": [
    "import aitk.robots\n",
    "aitk.robots.__version__"
   ]
  },
  {
   "cell_type": "markdown",
   "metadata": {},
   "source": [
    "### Create world and robot"
   ]
  },
  {
   "cell_type": "code",
   "execution_count": 3,
   "metadata": {},
   "outputs": [
    {
     "name": "stdout",
     "output_type": "stream",
     "text": [
      "Random seed set to: 3342977\n"
     ]
    }
   ],
   "source": [
    "world = aitk.robots.World(width=200, height=200)\n",
    "world.add_wall(\"blue\", 0, 0, 50, 50)\n",
    "world.add_wall(\"blue\", 75, 200, 125, 150)\n",
    "robot = aitk.robots.Scribbler()\n",
    "world.add_robot(robot)\n",
    "robot.add_device(aitk.robots.RangeSensor(width=45,max=20,name=\"front\"))\n",
    "robot.add_device(aitk.robots.RangeSensor(width=45,max=20,position=(6,-6),\n",
    "                                         a=90,name=\"front-left\"))\n",
    "robot.add_device(aitk.robots.RangeSensor(width=45,max=20,position=(-6,-6),\n",
    "                                         a=90,name=\"back-left\"))\n",
    "robot.set_pose(100,100,0)"
   ]
  },
  {
   "cell_type": "code",
   "execution_count": 4,
   "metadata": {},
   "outputs": [
    {
     "data": {
      "application/vnd.jupyter.widget-view+json": {
       "model_id": "3904efd544704c97922a9cdb50456f73",
       "version_major": 2,
       "version_minor": 0
      },
      "text/plain": [
       "Image(value=b'\\xff\\xd8\\xff\\xe0\\x00\\x10JFIF\\x00\\x01\\x01\\x00\\x00\\x01\\x00\\x01\\x00\\x00\\xff\\xdb\\x00C\\x00\\x08\\x06\\x0\u2026"
      ]
     },
     "metadata": {},
     "output_type": "display_data"
    }
   ],
   "source": [
    "world.watch()"
   ]
  },
  {
   "cell_type": "markdown",
   "metadata": {},
   "source": [
    "### Prepare the data\n",
    "\n",
    "You can explore using the balanced data or the original\n",
    "data."
   ]
  },
  {
   "cell_type": "code",
   "execution_count": 5,
   "metadata": {},
   "outputs": [],
   "source": [
    "import pandas as pd"
   ]
  },
  {
   "cell_type": "code",
   "execution_count": 6,
   "metadata": {},
   "outputs": [],
   "source": [
    "use_balanced = False\n",
    "if use_balanced:\n",
    "    df = pd.read_csv(\"balanced_follow_data.csv\", sep=',')\n",
    "else:\n",
    "    df = pd.read_csv(\"follow_data.csv\", sep=',')"
   ]
  },
  {
   "cell_type": "code",
   "execution_count": 7,
   "metadata": {},
   "outputs": [
    {
     "data": {
      "text/plain": [
       "follow     658\n",
       "adjustR    437\n",
       "blocked    385\n",
       "no_wall    349\n",
       "far        344\n",
       "adjustL    320\n",
       "close        7\n",
       "Name: situation, dtype: int64"
      ]
     },
     "execution_count": 7,
     "metadata": {},
     "output_type": "execute_result"
    }
   ],
   "source": [
    "df['situation'].value_counts()"
   ]
  },
  {
   "cell_type": "code",
   "execution_count": 8,
   "metadata": {},
   "outputs": [],
   "source": [
    "import tensorflow as tf"
   ]
  },
  {
   "cell_type": "code",
   "execution_count": 9,
   "metadata": {},
   "outputs": [],
   "source": [
    "dataset = tf.data.Dataset.from_tensor_slices(\n",
    "    ([[pattern] for pattern in df[['F_ir', 'FL_ir', 'BL_ir']].values],\n",
    "     [[pattern] for pattern in df[['translate','rotate']].values]))"
   ]
  },
  {
   "cell_type": "code",
   "execution_count": 10,
   "metadata": {},
   "outputs": [
    {
     "data": {
      "text/plain": [
       "TensorShape([2500, 1, 3])"
      ]
     },
     "execution_count": 10,
     "metadata": {},
     "output_type": "execute_result"
    }
   ],
   "source": [
    "dataset._tensors[0].shape"
   ]
  },
  {
   "cell_type": "code",
   "execution_count": 11,
   "metadata": {},
   "outputs": [
    {
     "data": {
      "text/plain": [
       "TensorShape([2500, 1, 2])"
      ]
     },
     "execution_count": 11,
     "metadata": {},
     "output_type": "execute_result"
    }
   ],
   "source": [
    "dataset._tensors[1].shape"
   ]
  },
  {
   "cell_type": "markdown",
   "metadata": {},
   "source": [
    "### Create a neural network"
   ]
  },
  {
   "cell_type": "code",
   "execution_count": 12,
   "metadata": {},
   "outputs": [],
   "source": [
    "from tensorflow.keras.layers import Input, Dense\n",
    "from tensorflow.keras.models import Model"
   ]
  },
  {
   "cell_type": "code",
   "execution_count": 13,
   "metadata": {},
   "outputs": [],
   "source": [
    "act = \"tanh\"\n",
    "input = Input((3,))\n",
    "hidden1 = Dense(10, activation=act, name=\"hid1\")(input)\n",
    "hidden2 = Dense(5, activation=act, name=\"hid2\")(hidden1)\n",
    "output = Dense(2, activation=act, name=\"out\")(hidden2)\n",
    "model = Model(input, output)\n",
    "model.compile(optimizer=\"sgd\", loss=\"mse\")"
   ]
  },
  {
   "cell_type": "code",
   "execution_count": 14,
   "metadata": {},
   "outputs": [],
   "source": [
    "from aitk.networks import Network"
   ]
  },
  {
   "cell_type": "code",
   "execution_count": 15,
   "metadata": {},
   "outputs": [],
   "source": [
    "model = Network(model)"
   ]
  },
  {
   "cell_type": "code",
   "execution_count": 16,
   "metadata": {},
   "outputs": [
    {
     "data": {
      "text/html": [
       "<svg id='keras-network' xmlns='http://www.w3.org/2000/svg' xmlns:xlink='http://www.w3.org/1999/xlink' image-rendering=\"pixelated\" width=\"384px\" height=\"400px\" style=\"background-color: #B0C4DE\">\n",
       " <g >\n",
       "  <svg viewBox=\"0 0 350 364\" width=\"384px\" height=\"400px\">\n",
       "    <defs>\n",
       "        <marker id=\"arrow\" markerWidth=\"10\" markerHeight=\"10\" refX=\"9\" refY=\"3\" orient=\"auto\" markerUnits=\"strokeWidth\">\n",
       "          <path d=\"M0,0 L0,6 L9,3 z\" fill=\"black\" />\n",
       "        </marker>\n",
       "    </defs><rect x=\"112.0\" y=\"24\" width=\"126\" height=\"64\" style=\"fill:none;stroke:black;stroke-width:2\"/><image id=\"keras-network_out\" class=\"keras-network\" x=\"113.0\" y=\"25\" height=\"62\" width=\"124\" preserveAspectRatio=\"none\" image-rendering=\"optimizeSpeed\" xlink:href=\"data:image/gif;base64,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\"><title>Layer: out 'Dense'\n",
       "Act function: tanh\n",
       "Act output range: (-1, 1)\n",
       "Shape = (None, 2)</title></image><text x=\"242.0\" y=\"58.0\" font-family=\"monospace\" font-size=\"12\" text-anchor=\"start\" fill=\"blue\" alignment-baseline=\"central\" >out</text><path d=\"M 175.0 116 L 175.0 89 \" stroke=\"black\" stroke-width=\"2\" marker-end=\"url(#arrow)\" fill=\"none\" /><rect x=\"74.0\" y=\"116\" width=\"202\" height=\"52\" style=\"fill:none;stroke:black;stroke-width:2\"/><image id=\"keras-network_hid2\" class=\"keras-network\" x=\"75.0\" y=\"117\" height=\"50\" width=\"200\" preserveAspectRatio=\"none\" image-rendering=\"optimizeSpeed\" xlink:href=\"data:image/gif;base64,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\"><title>Layer: hid2 'Dense'\n",
       "Act function: tanh\n",
       "Act output range: (-1, 1)\n",
       "Shape = (None, 5)</title></image><text x=\"280.0\" y=\"144.0\" font-family=\"monospace\" font-size=\"12\" text-anchor=\"start\" fill=\"blue\" alignment-baseline=\"central\" >hid2</text><path d=\"M 175.0 196 L 175.0 169 \" stroke=\"black\" stroke-width=\"2\" marker-end=\"url(#arrow)\" fill=\"none\" /><rect x=\"74.0\" y=\"196\" width=\"202\" height=\"52\" style=\"fill:none;stroke:black;stroke-width:2\"/><image id=\"keras-network_hid1\" class=\"keras-network\" x=\"75.0\" y=\"197\" height=\"50\" width=\"200\" preserveAspectRatio=\"none\" image-rendering=\"optimizeSpeed\" xlink:href=\"data:image/gif;base64,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\"><title>Layer: hid1 'Dense'\n",
       "Act function: tanh\n",
       "Act output range: (-1, 1)\n",
       "Shape = (None, 10)</title></image><text x=\"280.0\" y=\"224.0\" font-family=\"monospace\" font-size=\"12\" text-anchor=\"start\" fill=\"blue\" alignment-baseline=\"central\" >hid1</text><path d=\"M 175.0 276 L 175.0 249 \" stroke=\"black\" stroke-width=\"2\" marker-end=\"url(#arrow)\" fill=\"none\" /><rect x=\"81.0\" y=\"276\" width=\"188\" height=\"64\" style=\"fill:none;stroke:black;stroke-width:2\"/><image id=\"keras-network_input_1\" class=\"keras-network\" x=\"82.0\" y=\"277\" height=\"62\" width=\"186\" preserveAspectRatio=\"none\" image-rendering=\"optimizeSpeed\" xlink:href=\"data:image/gif;base64,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\"><title>Layer: input_1 'InputLayer'\n",
       "Shape = [(None, 3)]</title></image><text x=\"273.0\" y=\"310.0\" font-family=\"monospace\" font-size=\"12\" text-anchor=\"start\" fill=\"blue\" alignment-baseline=\"central\" >input_1</text><text x=\"175.0\" y=\"12.5\" font-family=\"monospace\" font-size=\"15\" text-anchor=\"middle\" fill=\"black\" alignment-baseline=\"central\" >Activations for model</text></svg></g></svg>"
      ],
      "text/plain": [
       "<IPython.core.display.HTML object>"
      ]
     },
     "metadata": {},
     "output_type": "display_data"
    }
   ],
   "source": [
    "model.display()"
   ]
  },
  {
   "cell_type": "markdown",
   "metadata": {},
   "source": [
    "### Train the network or reload it from a saved model"
   ]
  },
  {
   "cell_type": "code",
   "execution_count": 17,
   "metadata": {},
   "outputs": [
    {
     "data": {
      "text/html": [
       "<?xml version=\"1.0\" encoding=\"utf-8\" standalone=\"no\"?>\n",
       "<!DOCTYPE svg PUBLIC \"-//W3C//DTD SVG 1.1//EN\"\n",
       "  \"http://www.w3.org/Graphics/SVG/1.1/DTD/svg11.dtd\">\n",
       "<!-- Created with matplotlib (https://matplotlib.org/) -->\n",
       "<svg height=\"288pt\" version=\"1.1\" viewBox=\"0 0 432 288\" width=\"432pt\" xmlns=\"http://www.w3.org/2000/svg\" xmlns:xlink=\"http://www.w3.org/1999/xlink\">\n",
       " <metadata>\n",
       "  <rdf:RDF xmlns:cc=\"http://creativecommons.org/ns#\" xmlns:dc=\"http://purl.org/dc/elements/1.1/\" xmlns:rdf=\"http://www.w3.org/1999/02/22-rdf-syntax-ns#\">\n",
       "   <cc:Work>\n",
       "    <dc:type rdf:resource=\"http://purl.org/dc/dcmitype/StillImage\"/>\n",
       "    <dc:date>2021-03-13T11:12:12.399914</dc:date>\n",
       "    <dc:format>image/svg+xml</dc:format>\n",
       "    <dc:creator>\n",
       "     <cc:Agent>\n",
       "      <dc:title>Matplotlib v3.3.4, https://matplotlib.org/</dc:title>\n",
       "     </cc:Agent>\n",
       "    </dc:creator>\n",
       "   </cc:Work>\n",
       "  </rdf:RDF>\n",
       " </metadata>\n",
       " <defs>\n",
       "  <style type=\"text/css\">*{stroke-linecap:butt;stroke-linejoin:round;}</style>\n",
       " </defs>\n",
       " <g id=\"figure_1\">\n",
       "  <g id=\"patch_1\">\n",
       "   <path d=\"M 0 288 \n",
       "L 432 288 \n",
       "L 432 0 \n",
       "L 0 0 \n",
       "z\n",
       "\" style=\"fill:none;\"/>\n",
       "  </g>\n",
       "  <g id=\"axes_1\">\n",
       "   <g id=\"patch_2\">\n",
       "    <path d=\"M 54 252 \n",
       "L 388.8 252 \n",
       "L 388.8 34.56 \n",
       "L 54 34.56 \n",
       "z\n",
       "\" style=\"fill:#ffffff;\"/>\n",
       "   </g>\n",
       "   <g id=\"matplotlib.axis_1\">\n",
       "    <g id=\"xtick_1\">\n",
       "     <g id=\"line2d_1\">\n",
       "      <defs>\n",
       "       <path d=\"M 0 0 \n",
       "L 0 3.5 \n",
       "\" id=\"md9f392724b\" style=\"stroke:#000000;stroke-width:0.8;\"/>\n",
       "      </defs>\n",
       "      <g>\n",
       "       <use style=\"stroke:#000000;stroke-width:0.8;\" x=\"90.958442\" xlink:href=\"#md9f392724b\" y=\"252\"/>\n",
       "      </g>\n",
       "     </g>\n",
       "     <g id=\"text_1\">\n",
       "      <!-- 2 -->\n",
       "      <g transform=\"translate(87.777192 266.598437)scale(0.1 -0.1)\">\n",
       "       <defs>\n",
       "        <path d=\"M 19.1875 8.296875 \n",
       "L 53.609375 8.296875 \n",
       "L 53.609375 0 \n",
       "L 7.328125 0 \n",
       "L 7.328125 8.296875 \n",
       "Q 12.9375 14.109375 22.625 23.890625 \n",
       "Q 32.328125 33.6875 34.8125 36.53125 \n",
       "Q 39.546875 41.84375 41.421875 45.53125 \n",
       "Q 43.3125 49.21875 43.3125 52.78125 \n",
       "Q 43.3125 58.59375 39.234375 62.25 \n",
       "Q 35.15625 65.921875 28.609375 65.921875 \n",
       "Q 23.96875 65.921875 18.8125 64.3125 \n",
       "Q 13.671875 62.703125 7.8125 59.421875 \n",
       "L 7.8125 69.390625 \n",
       "Q 13.765625 71.78125 18.9375 73 \n",
       "Q 24.125 74.21875 28.421875 74.21875 \n",
       "Q 39.75 74.21875 46.484375 68.546875 \n",
       "Q 53.21875 62.890625 53.21875 53.421875 \n",
       "Q 53.21875 48.921875 51.53125 44.890625 \n",
       "Q 49.859375 40.875 45.40625 35.40625 \n",
       "Q 44.1875 33.984375 37.640625 27.21875 \n",
       "Q 31.109375 20.453125 19.1875 8.296875 \n",
       "z\n",
       "\" id=\"DejaVuSans-50\"/>\n",
       "       </defs>\n",
       "       <use xlink:href=\"#DejaVuSans-50\"/>\n",
       "      </g>\n",
       "     </g>\n",
       "    </g>\n",
       "    <g id=\"xtick_2\">\n",
       "     <g id=\"line2d_2\">\n",
       "      <g>\n",
       "       <use style=\"stroke:#000000;stroke-width:0.8;\" x=\"134.438961\" xlink:href=\"#md9f392724b\" y=\"252\"/>\n",
       "      </g>\n",
       "     </g>\n",
       "     <g id=\"text_2\">\n",
       "      <!-- 4 -->\n",
       "      <g transform=\"translate(131.257711 266.598437)scale(0.1 -0.1)\">\n",
       "       <defs>\n",
       "        <path d=\"M 37.796875 64.3125 \n",
       "L 12.890625 25.390625 \n",
       "L 37.796875 25.390625 \n",
       "z\n",
       "M 35.203125 72.90625 \n",
       "L 47.609375 72.90625 \n",
       "L 47.609375 25.390625 \n",
       "L 58.015625 25.390625 \n",
       "L 58.015625 17.1875 \n",
       "L 47.609375 17.1875 \n",
       "L 47.609375 0 \n",
       "L 37.796875 0 \n",
       "L 37.796875 17.1875 \n",
       "L 4.890625 17.1875 \n",
       "L 4.890625 26.703125 \n",
       "z\n",
       "\" id=\"DejaVuSans-52\"/>\n",
       "       </defs>\n",
       "       <use xlink:href=\"#DejaVuSans-52\"/>\n",
       "      </g>\n",
       "     </g>\n",
       "    </g>\n",
       "    <g id=\"xtick_3\">\n",
       "     <g id=\"line2d_3\">\n",
       "      <g>\n",
       "       <use style=\"stroke:#000000;stroke-width:0.8;\" x=\"177.919481\" xlink:href=\"#md9f392724b\" y=\"252\"/>\n",
       "      </g>\n",
       "     </g>\n",
       "     <g id=\"text_3\">\n",
       "      <!-- 6 -->\n",
       "      <g transform=\"translate(174.738231 266.598437)scale(0.1 -0.1)\">\n",
       "       <defs>\n",
       "        <path d=\"M 33.015625 40.375 \n",
       "Q 26.375 40.375 22.484375 35.828125 \n",
       "Q 18.609375 31.296875 18.609375 23.390625 \n",
       "Q 18.609375 15.53125 22.484375 10.953125 \n",
       "Q 26.375 6.390625 33.015625 6.390625 \n",
       "Q 39.65625 6.390625 43.53125 10.953125 \n",
       "Q 47.40625 15.53125 47.40625 23.390625 \n",
       "Q 47.40625 31.296875 43.53125 35.828125 \n",
       "Q 39.65625 40.375 33.015625 40.375 \n",
       "z\n",
       "M 52.59375 71.296875 \n",
       "L 52.59375 62.3125 \n",
       "Q 48.875 64.0625 45.09375 64.984375 \n",
       "Q 41.3125 65.921875 37.59375 65.921875 \n",
       "Q 27.828125 65.921875 22.671875 59.328125 \n",
       "Q 17.53125 52.734375 16.796875 39.40625 \n",
       "Q 19.671875 43.65625 24.015625 45.921875 \n",
       "Q 28.375 48.1875 33.59375 48.1875 \n",
       "Q 44.578125 48.1875 50.953125 41.515625 \n",
       "Q 57.328125 34.859375 57.328125 23.390625 \n",
       "Q 57.328125 12.15625 50.6875 5.359375 \n",
       "Q 44.046875 -1.421875 33.015625 -1.421875 \n",
       "Q 20.359375 -1.421875 13.671875 8.265625 \n",
       "Q 6.984375 17.96875 6.984375 36.375 \n",
       "Q 6.984375 53.65625 15.1875 63.9375 \n",
       "Q 23.390625 74.21875 37.203125 74.21875 \n",
       "Q 40.921875 74.21875 44.703125 73.484375 \n",
       "Q 48.484375 72.75 52.59375 71.296875 \n",
       "z\n",
       "\" id=\"DejaVuSans-54\"/>\n",
       "       </defs>\n",
       "       <use xlink:href=\"#DejaVuSans-54\"/>\n",
       "      </g>\n",
       "     </g>\n",
       "    </g>\n",
       "    <g id=\"xtick_4\">\n",
       "     <g id=\"line2d_4\">\n",
       "      <g>\n",
       "       <use style=\"stroke:#000000;stroke-width:0.8;\" x=\"221.4\" xlink:href=\"#md9f392724b\" y=\"252\"/>\n",
       "      </g>\n",
       "     </g>\n",
       "     <g id=\"text_4\">\n",
       "      <!-- 8 -->\n",
       "      <g transform=\"translate(218.21875 266.598437)scale(0.1 -0.1)\">\n",
       "       <defs>\n",
       "        <path d=\"M 31.78125 34.625 \n",
       "Q 24.75 34.625 20.71875 30.859375 \n",
       "Q 16.703125 27.09375 16.703125 20.515625 \n",
       "Q 16.703125 13.921875 20.71875 10.15625 \n",
       "Q 24.75 6.390625 31.78125 6.390625 \n",
       "Q 38.8125 6.390625 42.859375 10.171875 \n",
       "Q 46.921875 13.96875 46.921875 20.515625 \n",
       "Q 46.921875 27.09375 42.890625 30.859375 \n",
       "Q 38.875 34.625 31.78125 34.625 \n",
       "z\n",
       "M 21.921875 38.8125 \n",
       "Q 15.578125 40.375 12.03125 44.71875 \n",
       "Q 8.5 49.078125 8.5 55.328125 \n",
       "Q 8.5 64.0625 14.71875 69.140625 \n",
       "Q 20.953125 74.21875 31.78125 74.21875 \n",
       "Q 42.671875 74.21875 48.875 69.140625 \n",
       "Q 55.078125 64.0625 55.078125 55.328125 \n",
       "Q 55.078125 49.078125 51.53125 44.71875 \n",
       "Q 48 40.375 41.703125 38.8125 \n",
       "Q 48.828125 37.15625 52.796875 32.3125 \n",
       "Q 56.78125 27.484375 56.78125 20.515625 \n",
       "Q 56.78125 9.90625 50.3125 4.234375 \n",
       "Q 43.84375 -1.421875 31.78125 -1.421875 \n",
       "Q 19.734375 -1.421875 13.25 4.234375 \n",
       "Q 6.78125 9.90625 6.78125 20.515625 \n",
       "Q 6.78125 27.484375 10.78125 32.3125 \n",
       "Q 14.796875 37.15625 21.921875 38.8125 \n",
       "z\n",
       "M 18.3125 54.390625 \n",
       "Q 18.3125 48.734375 21.84375 45.5625 \n",
       "Q 25.390625 42.390625 31.78125 42.390625 \n",
       "Q 38.140625 42.390625 41.71875 45.5625 \n",
       "Q 45.3125 48.734375 45.3125 54.390625 \n",
       "Q 45.3125 60.0625 41.71875 63.234375 \n",
       "Q 38.140625 66.40625 31.78125 66.40625 \n",
       "Q 25.390625 66.40625 21.84375 63.234375 \n",
       "Q 18.3125 60.0625 18.3125 54.390625 \n",
       "z\n",
       "\" id=\"DejaVuSans-56\"/>\n",
       "       </defs>\n",
       "       <use xlink:href=\"#DejaVuSans-56\"/>\n",
       "      </g>\n",
       "     </g>\n",
       "    </g>\n",
       "    <g id=\"xtick_5\">\n",
       "     <g id=\"line2d_5\">\n",
       "      <g>\n",
       "       <use style=\"stroke:#000000;stroke-width:0.8;\" x=\"264.880519\" xlink:href=\"#md9f392724b\" y=\"252\"/>\n",
       "      </g>\n",
       "     </g>\n",
       "     <g id=\"text_5\">\n",
       "      <!-- 10 -->\n",
       "      <g transform=\"translate(258.518019 266.598437)scale(0.1 -0.1)\">\n",
       "       <defs>\n",
       "        <path d=\"M 12.40625 8.296875 \n",
       "L 28.515625 8.296875 \n",
       "L 28.515625 63.921875 \n",
       "L 10.984375 60.40625 \n",
       "L 10.984375 69.390625 \n",
       "L 28.421875 72.90625 \n",
       "L 38.28125 72.90625 \n",
       "L 38.28125 8.296875 \n",
       "L 54.390625 8.296875 \n",
       "L 54.390625 0 \n",
       "L 12.40625 0 \n",
       "z\n",
       "\" id=\"DejaVuSans-49\"/>\n",
       "        <path d=\"M 31.78125 66.40625 \n",
       "Q 24.171875 66.40625 20.328125 58.90625 \n",
       "Q 16.5 51.421875 16.5 36.375 \n",
       "Q 16.5 21.390625 20.328125 13.890625 \n",
       "Q 24.171875 6.390625 31.78125 6.390625 \n",
       "Q 39.453125 6.390625 43.28125 13.890625 \n",
       "Q 47.125 21.390625 47.125 36.375 \n",
       "Q 47.125 51.421875 43.28125 58.90625 \n",
       "Q 39.453125 66.40625 31.78125 66.40625 \n",
       "z\n",
       "M 31.78125 74.21875 \n",
       "Q 44.046875 74.21875 50.515625 64.515625 \n",
       "Q 56.984375 54.828125 56.984375 36.375 \n",
       "Q 56.984375 17.96875 50.515625 8.265625 \n",
       "Q 44.046875 -1.421875 31.78125 -1.421875 \n",
       "Q 19.53125 -1.421875 13.0625 8.265625 \n",
       "Q 6.59375 17.96875 6.59375 36.375 \n",
       "Q 6.59375 54.828125 13.0625 64.515625 \n",
       "Q 19.53125 74.21875 31.78125 74.21875 \n",
       "z\n",
       "\" id=\"DejaVuSans-48\"/>\n",
       "       </defs>\n",
       "       <use xlink:href=\"#DejaVuSans-49\"/>\n",
       "       <use x=\"63.623047\" xlink:href=\"#DejaVuSans-48\"/>\n",
       "      </g>\n",
       "     </g>\n",
       "    </g>\n",
       "    <g id=\"xtick_6\">\n",
       "     <g id=\"line2d_6\">\n",
       "      <g>\n",
       "       <use style=\"stroke:#000000;stroke-width:0.8;\" x=\"308.361039\" xlink:href=\"#md9f392724b\" y=\"252\"/>\n",
       "      </g>\n",
       "     </g>\n",
       "     <g id=\"text_6\">\n",
       "      <!-- 12 -->\n",
       "      <g transform=\"translate(301.998539 266.598437)scale(0.1 -0.1)\">\n",
       "       <use xlink:href=\"#DejaVuSans-49\"/>\n",
       "       <use x=\"63.623047\" xlink:href=\"#DejaVuSans-50\"/>\n",
       "      </g>\n",
       "     </g>\n",
       "    </g>\n",
       "    <g id=\"xtick_7\">\n",
       "     <g id=\"line2d_7\">\n",
       "      <g>\n",
       "       <use style=\"stroke:#000000;stroke-width:0.8;\" x=\"351.841558\" xlink:href=\"#md9f392724b\" y=\"252\"/>\n",
       "      </g>\n",
       "     </g>\n",
       "     <g id=\"text_7\">\n",
       "      <!-- 14 -->\n",
       "      <g transform=\"translate(345.479058 266.598437)scale(0.1 -0.1)\">\n",
       "       <use xlink:href=\"#DejaVuSans-49\"/>\n",
       "       <use x=\"63.623047\" xlink:href=\"#DejaVuSans-52\"/>\n",
       "      </g>\n",
       "     </g>\n",
       "    </g>\n",
       "    <g id=\"text_8\">\n",
       "     <!-- Epoch -->\n",
       "     <g transform=\"translate(206.089063 280.276563)scale(0.1 -0.1)\">\n",
       "      <defs>\n",
       "       <path d=\"M 9.8125 72.90625 \n",
       "L 55.90625 72.90625 \n",
       "L 55.90625 64.59375 \n",
       "L 19.671875 64.59375 \n",
       "L 19.671875 43.015625 \n",
       "L 54.390625 43.015625 \n",
       "L 54.390625 34.71875 \n",
       "L 19.671875 34.71875 \n",
       "L 19.671875 8.296875 \n",
       "L 56.78125 8.296875 \n",
       "L 56.78125 0 \n",
       "L 9.8125 0 \n",
       "z\n",
       "\" id=\"DejaVuSans-69\"/>\n",
       "       <path d=\"M 18.109375 8.203125 \n",
       "L 18.109375 -20.796875 \n",
       "L 9.078125 -20.796875 \n",
       "L 9.078125 54.6875 \n",
       "L 18.109375 54.6875 \n",
       "L 18.109375 46.390625 \n",
       "Q 20.953125 51.265625 25.265625 53.625 \n",
       "Q 29.59375 56 35.59375 56 \n",
       "Q 45.5625 56 51.78125 48.09375 \n",
       "Q 58.015625 40.1875 58.015625 27.296875 \n",
       "Q 58.015625 14.40625 51.78125 6.484375 \n",
       "Q 45.5625 -1.421875 35.59375 -1.421875 \n",
       "Q 29.59375 -1.421875 25.265625 0.953125 \n",
       "Q 20.953125 3.328125 18.109375 8.203125 \n",
       "z\n",
       "M 48.6875 27.296875 \n",
       "Q 48.6875 37.203125 44.609375 42.84375 \n",
       "Q 40.53125 48.484375 33.40625 48.484375 \n",
       "Q 26.265625 48.484375 22.1875 42.84375 \n",
       "Q 18.109375 37.203125 18.109375 27.296875 \n",
       "Q 18.109375 17.390625 22.1875 11.75 \n",
       "Q 26.265625 6.109375 33.40625 6.109375 \n",
       "Q 40.53125 6.109375 44.609375 11.75 \n",
       "Q 48.6875 17.390625 48.6875 27.296875 \n",
       "z\n",
       "\" id=\"DejaVuSans-112\"/>\n",
       "       <path d=\"M 30.609375 48.390625 \n",
       "Q 23.390625 48.390625 19.1875 42.75 \n",
       "Q 14.984375 37.109375 14.984375 27.296875 \n",
       "Q 14.984375 17.484375 19.15625 11.84375 \n",
       "Q 23.34375 6.203125 30.609375 6.203125 \n",
       "Q 37.796875 6.203125 41.984375 11.859375 \n",
       "Q 46.1875 17.53125 46.1875 27.296875 \n",
       "Q 46.1875 37.015625 41.984375 42.703125 \n",
       "Q 37.796875 48.390625 30.609375 48.390625 \n",
       "z\n",
       "M 30.609375 56 \n",
       "Q 42.328125 56 49.015625 48.375 \n",
       "Q 55.71875 40.765625 55.71875 27.296875 \n",
       "Q 55.71875 13.875 49.015625 6.21875 \n",
       "Q 42.328125 -1.421875 30.609375 -1.421875 \n",
       "Q 18.84375 -1.421875 12.171875 6.21875 \n",
       "Q 5.515625 13.875 5.515625 27.296875 \n",
       "Q 5.515625 40.765625 12.171875 48.375 \n",
       "Q 18.84375 56 30.609375 56 \n",
       "z\n",
       "\" id=\"DejaVuSans-111\"/>\n",
       "       <path d=\"M 48.78125 52.59375 \n",
       "L 48.78125 44.1875 \n",
       "Q 44.96875 46.296875 41.140625 47.34375 \n",
       "Q 37.3125 48.390625 33.40625 48.390625 \n",
       "Q 24.65625 48.390625 19.8125 42.84375 \n",
       "Q 14.984375 37.3125 14.984375 27.296875 \n",
       "Q 14.984375 17.28125 19.8125 11.734375 \n",
       "Q 24.65625 6.203125 33.40625 6.203125 \n",
       "Q 37.3125 6.203125 41.140625 7.25 \n",
       "Q 44.96875 8.296875 48.78125 10.40625 \n",
       "L 48.78125 2.09375 \n",
       "Q 45.015625 0.34375 40.984375 -0.53125 \n",
       "Q 36.96875 -1.421875 32.421875 -1.421875 \n",
       "Q 20.0625 -1.421875 12.78125 6.34375 \n",
       "Q 5.515625 14.109375 5.515625 27.296875 \n",
       "Q 5.515625 40.671875 12.859375 48.328125 \n",
       "Q 20.21875 56 33.015625 56 \n",
       "Q 37.15625 56 41.109375 55.140625 \n",
       "Q 45.0625 54.296875 48.78125 52.59375 \n",
       "z\n",
       "\" id=\"DejaVuSans-99\"/>\n",
       "       <path d=\"M 54.890625 33.015625 \n",
       "L 54.890625 0 \n",
       "L 45.90625 0 \n",
       "L 45.90625 32.71875 \n",
       "Q 45.90625 40.484375 42.875 44.328125 \n",
       "Q 39.84375 48.1875 33.796875 48.1875 \n",
       "Q 26.515625 48.1875 22.3125 43.546875 \n",
       "Q 18.109375 38.921875 18.109375 30.90625 \n",
       "L 18.109375 0 \n",
       "L 9.078125 0 \n",
       "L 9.078125 75.984375 \n",
       "L 18.109375 75.984375 \n",
       "L 18.109375 46.1875 \n",
       "Q 21.34375 51.125 25.703125 53.5625 \n",
       "Q 30.078125 56 35.796875 56 \n",
       "Q 45.21875 56 50.046875 50.171875 \n",
       "Q 54.890625 44.34375 54.890625 33.015625 \n",
       "z\n",
       "\" id=\"DejaVuSans-104\"/>\n",
       "      </defs>\n",
       "      <use xlink:href=\"#DejaVuSans-69\"/>\n",
       "      <use x=\"63.183594\" xlink:href=\"#DejaVuSans-112\"/>\n",
       "      <use x=\"126.660156\" xlink:href=\"#DejaVuSans-111\"/>\n",
       "      <use x=\"187.841797\" xlink:href=\"#DejaVuSans-99\"/>\n",
       "      <use x=\"242.822266\" xlink:href=\"#DejaVuSans-104\"/>\n",
       "     </g>\n",
       "    </g>\n",
       "   </g>\n",
       "   <g id=\"matplotlib.axis_2\">\n",
       "    <g id=\"ytick_1\">\n",
       "     <g id=\"line2d_8\">\n",
       "      <defs>\n",
       "       <path d=\"M 0 0 \n",
       "L -3.5 0 \n",
       "\" id=\"me5a383f123\" style=\"stroke:#000000;stroke-width:0.8;\"/>\n",
       "      </defs>\n",
       "      <g>\n",
       "       <use style=\"stroke:#000000;stroke-width:0.8;\" x=\"54\" xlink:href=\"#me5a383f123\" y=\"252\"/>\n",
       "      </g>\n",
       "     </g>\n",
       "     <g id=\"text_9\">\n",
       "      <!-- 0.000 -->\n",
       "      <g transform=\"translate(18.371875 255.799219)scale(0.1 -0.1)\">\n",
       "       <defs>\n",
       "        <path d=\"M 10.6875 12.40625 \n",
       "L 21 12.40625 \n",
       "L 21 0 \n",
       "L 10.6875 0 \n",
       "z\n",
       "\" id=\"DejaVuSans-46\"/>\n",
       "       </defs>\n",
       "       <use xlink:href=\"#DejaVuSans-48\"/>\n",
       "       <use x=\"63.623047\" xlink:href=\"#DejaVuSans-46\"/>\n",
       "       <use x=\"95.410156\" xlink:href=\"#DejaVuSans-48\"/>\n",
       "       <use x=\"159.033203\" xlink:href=\"#DejaVuSans-48\"/>\n",
       "       <use x=\"222.65625\" xlink:href=\"#DejaVuSans-48\"/>\n",
       "      </g>\n",
       "     </g>\n",
       "    </g>\n",
       "    <g id=\"ytick_2\">\n",
       "     <g id=\"line2d_9\">\n",
       "      <g>\n",
       "       <use style=\"stroke:#000000;stroke-width:0.8;\" x=\"54\" xlink:href=\"#me5a383f123\" y=\"225.442207\"/>\n",
       "      </g>\n",
       "     </g>\n",
       "     <g id=\"text_10\">\n",
       "      <!-- 0.025 -->\n",
       "      <g transform=\"translate(18.371875 229.241425)scale(0.1 -0.1)\">\n",
       "       <defs>\n",
       "        <path d=\"M 10.796875 72.90625 \n",
       "L 49.515625 72.90625 \n",
       "L 49.515625 64.59375 \n",
       "L 19.828125 64.59375 \n",
       "L 19.828125 46.734375 \n",
       "Q 21.96875 47.46875 24.109375 47.828125 \n",
       "Q 26.265625 48.1875 28.421875 48.1875 \n",
       "Q 40.625 48.1875 47.75 41.5 \n",
       "Q 54.890625 34.8125 54.890625 23.390625 \n",
       "Q 54.890625 11.625 47.5625 5.09375 \n",
       "Q 40.234375 -1.421875 26.90625 -1.421875 \n",
       "Q 22.3125 -1.421875 17.546875 -0.640625 \n",
       "Q 12.796875 0.140625 7.71875 1.703125 \n",
       "L 7.71875 11.625 \n",
       "Q 12.109375 9.234375 16.796875 8.0625 \n",
       "Q 21.484375 6.890625 26.703125 6.890625 \n",
       "Q 35.15625 6.890625 40.078125 11.328125 \n",
       "Q 45.015625 15.765625 45.015625 23.390625 \n",
       "Q 45.015625 31 40.078125 35.4375 \n",
       "Q 35.15625 39.890625 26.703125 39.890625 \n",
       "Q 22.75 39.890625 18.8125 39.015625 \n",
       "Q 14.890625 38.140625 10.796875 36.28125 \n",
       "z\n",
       "\" id=\"DejaVuSans-53\"/>\n",
       "       </defs>\n",
       "       <use xlink:href=\"#DejaVuSans-48\"/>\n",
       "       <use x=\"63.623047\" xlink:href=\"#DejaVuSans-46\"/>\n",
       "       <use x=\"95.410156\" xlink:href=\"#DejaVuSans-48\"/>\n",
       "       <use x=\"159.033203\" xlink:href=\"#DejaVuSans-50\"/>\n",
       "       <use x=\"222.65625\" xlink:href=\"#DejaVuSans-53\"/>\n",
       "      </g>\n",
       "     </g>\n",
       "    </g>\n",
       "    <g id=\"ytick_3\">\n",
       "     <g id=\"line2d_10\">\n",
       "      <g>\n",
       "       <use style=\"stroke:#000000;stroke-width:0.8;\" x=\"54\" xlink:href=\"#me5a383f123\" y=\"198.884413\"/>\n",
       "      </g>\n",
       "     </g>\n",
       "     <g id=\"text_11\">\n",
       "      <!-- 0.050 -->\n",
       "      <g transform=\"translate(18.371875 202.683632)scale(0.1 -0.1)\">\n",
       "       <use xlink:href=\"#DejaVuSans-48\"/>\n",
       "       <use x=\"63.623047\" xlink:href=\"#DejaVuSans-46\"/>\n",
       "       <use x=\"95.410156\" xlink:href=\"#DejaVuSans-48\"/>\n",
       "       <use x=\"159.033203\" xlink:href=\"#DejaVuSans-53\"/>\n",
       "       <use x=\"222.65625\" xlink:href=\"#DejaVuSans-48\"/>\n",
       "      </g>\n",
       "     </g>\n",
       "    </g>\n",
       "    <g id=\"ytick_4\">\n",
       "     <g id=\"line2d_11\">\n",
       "      <g>\n",
       "       <use style=\"stroke:#000000;stroke-width:0.8;\" x=\"54\" xlink:href=\"#me5a383f123\" y=\"172.32662\"/>\n",
       "      </g>\n",
       "     </g>\n",
       "     <g id=\"text_12\">\n",
       "      <!-- 0.075 -->\n",
       "      <g transform=\"translate(18.371875 176.125839)scale(0.1 -0.1)\">\n",
       "       <defs>\n",
       "        <path d=\"M 8.203125 72.90625 \n",
       "L 55.078125 72.90625 \n",
       "L 55.078125 68.703125 \n",
       "L 28.609375 0 \n",
       "L 18.3125 0 \n",
       "L 43.21875 64.59375 \n",
       "L 8.203125 64.59375 \n",
       "z\n",
       "\" id=\"DejaVuSans-55\"/>\n",
       "       </defs>\n",
       "       <use xlink:href=\"#DejaVuSans-48\"/>\n",
       "       <use x=\"63.623047\" xlink:href=\"#DejaVuSans-46\"/>\n",
       "       <use x=\"95.410156\" xlink:href=\"#DejaVuSans-48\"/>\n",
       "       <use x=\"159.033203\" xlink:href=\"#DejaVuSans-55\"/>\n",
       "       <use x=\"222.65625\" xlink:href=\"#DejaVuSans-53\"/>\n",
       "      </g>\n",
       "     </g>\n",
       "    </g>\n",
       "    <g id=\"ytick_5\">\n",
       "     <g id=\"line2d_12\">\n",
       "      <g>\n",
       "       <use style=\"stroke:#000000;stroke-width:0.8;\" x=\"54\" xlink:href=\"#me5a383f123\" y=\"145.768827\"/>\n",
       "      </g>\n",
       "     </g>\n",
       "     <g id=\"text_13\">\n",
       "      <!-- 0.100 -->\n",
       "      <g transform=\"translate(18.371875 149.568046)scale(0.1 -0.1)\">\n",
       "       <use xlink:href=\"#DejaVuSans-48\"/>\n",
       "       <use x=\"63.623047\" xlink:href=\"#DejaVuSans-46\"/>\n",
       "       <use x=\"95.410156\" xlink:href=\"#DejaVuSans-49\"/>\n",
       "       <use x=\"159.033203\" xlink:href=\"#DejaVuSans-48\"/>\n",
       "       <use x=\"222.65625\" xlink:href=\"#DejaVuSans-48\"/>\n",
       "      </g>\n",
       "     </g>\n",
       "    </g>\n",
       "    <g id=\"ytick_6\">\n",
       "     <g id=\"line2d_13\">\n",
       "      <g>\n",
       "       <use style=\"stroke:#000000;stroke-width:0.8;\" x=\"54\" xlink:href=\"#me5a383f123\" y=\"119.211034\"/>\n",
       "      </g>\n",
       "     </g>\n",
       "     <g id=\"text_14\">\n",
       "      <!-- 0.125 -->\n",
       "      <g transform=\"translate(18.371875 123.010252)scale(0.1 -0.1)\">\n",
       "       <use xlink:href=\"#DejaVuSans-48\"/>\n",
       "       <use x=\"63.623047\" xlink:href=\"#DejaVuSans-46\"/>\n",
       "       <use x=\"95.410156\" xlink:href=\"#DejaVuSans-49\"/>\n",
       "       <use x=\"159.033203\" xlink:href=\"#DejaVuSans-50\"/>\n",
       "       <use x=\"222.65625\" xlink:href=\"#DejaVuSans-53\"/>\n",
       "      </g>\n",
       "     </g>\n",
       "    </g>\n",
       "    <g id=\"ytick_7\">\n",
       "     <g id=\"line2d_14\">\n",
       "      <g>\n",
       "       <use style=\"stroke:#000000;stroke-width:0.8;\" x=\"54\" xlink:href=\"#me5a383f123\" y=\"92.65324\"/>\n",
       "      </g>\n",
       "     </g>\n",
       "     <g id=\"text_15\">\n",
       "      <!-- 0.150 -->\n",
       "      <g transform=\"translate(18.371875 96.452459)scale(0.1 -0.1)\">\n",
       "       <use xlink:href=\"#DejaVuSans-48\"/>\n",
       "       <use x=\"63.623047\" xlink:href=\"#DejaVuSans-46\"/>\n",
       "       <use x=\"95.410156\" xlink:href=\"#DejaVuSans-49\"/>\n",
       "       <use x=\"159.033203\" xlink:href=\"#DejaVuSans-53\"/>\n",
       "       <use x=\"222.65625\" xlink:href=\"#DejaVuSans-48\"/>\n",
       "      </g>\n",
       "     </g>\n",
       "    </g>\n",
       "    <g id=\"ytick_8\">\n",
       "     <g id=\"line2d_15\">\n",
       "      <g>\n",
       "       <use style=\"stroke:#000000;stroke-width:0.8;\" x=\"54\" xlink:href=\"#me5a383f123\" y=\"66.095447\"/>\n",
       "      </g>\n",
       "     </g>\n",
       "     <g id=\"text_16\">\n",
       "      <!-- 0.175 -->\n",
       "      <g transform=\"translate(18.371875 69.894666)scale(0.1 -0.1)\">\n",
       "       <use xlink:href=\"#DejaVuSans-48\"/>\n",
       "       <use x=\"63.623047\" xlink:href=\"#DejaVuSans-46\"/>\n",
       "       <use x=\"95.410156\" xlink:href=\"#DejaVuSans-49\"/>\n",
       "       <use x=\"159.033203\" xlink:href=\"#DejaVuSans-55\"/>\n",
       "       <use x=\"222.65625\" xlink:href=\"#DejaVuSans-53\"/>\n",
       "      </g>\n",
       "     </g>\n",
       "    </g>\n",
       "    <g id=\"ytick_9\">\n",
       "     <g id=\"line2d_16\">\n",
       "      <g>\n",
       "       <use style=\"stroke:#000000;stroke-width:0.8;\" x=\"54\" xlink:href=\"#me5a383f123\" y=\"39.537654\"/>\n",
       "      </g>\n",
       "     </g>\n",
       "     <g id=\"text_17\">\n",
       "      <!-- 0.200 -->\n",
       "      <g transform=\"translate(18.371875 43.336873)scale(0.1 -0.1)\">\n",
       "       <use xlink:href=\"#DejaVuSans-48\"/>\n",
       "       <use x=\"63.623047\" xlink:href=\"#DejaVuSans-46\"/>\n",
       "       <use x=\"95.410156\" xlink:href=\"#DejaVuSans-50\"/>\n",
       "       <use x=\"159.033203\" xlink:href=\"#DejaVuSans-48\"/>\n",
       "       <use x=\"222.65625\" xlink:href=\"#DejaVuSans-48\"/>\n",
       "      </g>\n",
       "     </g>\n",
       "    </g>\n",
       "    <g id=\"text_18\">\n",
       "     <!-- Loss -->\n",
       "     <g transform=\"translate(12.292187 154.247187)rotate(-90)scale(0.1 -0.1)\">\n",
       "      <defs>\n",
       "       <path d=\"M 9.8125 72.90625 \n",
       "L 19.671875 72.90625 \n",
       "L 19.671875 8.296875 \n",
       "L 55.171875 8.296875 \n",
       "L 55.171875 0 \n",
       "L 9.8125 0 \n",
       "z\n",
       "\" id=\"DejaVuSans-76\"/>\n",
       "       <path d=\"M 44.28125 53.078125 \n",
       "L 44.28125 44.578125 \n",
       "Q 40.484375 46.53125 36.375 47.5 \n",
       "Q 32.28125 48.484375 27.875 48.484375 \n",
       "Q 21.1875 48.484375 17.84375 46.4375 \n",
       "Q 14.5 44.390625 14.5 40.28125 \n",
       "Q 14.5 37.15625 16.890625 35.375 \n",
       "Q 19.28125 33.59375 26.515625 31.984375 \n",
       "L 29.59375 31.296875 \n",
       "Q 39.15625 29.25 43.1875 25.515625 \n",
       "Q 47.21875 21.78125 47.21875 15.09375 \n",
       "Q 47.21875 7.46875 41.1875 3.015625 \n",
       "Q 35.15625 -1.421875 24.609375 -1.421875 \n",
       "Q 20.21875 -1.421875 15.453125 -0.5625 \n",
       "Q 10.6875 0.296875 5.421875 2 \n",
       "L 5.421875 11.28125 \n",
       "Q 10.40625 8.6875 15.234375 7.390625 \n",
       "Q 20.0625 6.109375 24.8125 6.109375 \n",
       "Q 31.15625 6.109375 34.5625 8.28125 \n",
       "Q 37.984375 10.453125 37.984375 14.40625 \n",
       "Q 37.984375 18.0625 35.515625 20.015625 \n",
       "Q 33.0625 21.96875 24.703125 23.78125 \n",
       "L 21.578125 24.515625 \n",
       "Q 13.234375 26.265625 9.515625 29.90625 \n",
       "Q 5.8125 33.546875 5.8125 39.890625 \n",
       "Q 5.8125 47.609375 11.28125 51.796875 \n",
       "Q 16.75 56 26.8125 56 \n",
       "Q 31.78125 56 36.171875 55.265625 \n",
       "Q 40.578125 54.546875 44.28125 53.078125 \n",
       "z\n",
       "\" id=\"DejaVuSans-115\"/>\n",
       "      </defs>\n",
       "      <use xlink:href=\"#DejaVuSans-76\"/>\n",
       "      <use x=\"53.962891\" xlink:href=\"#DejaVuSans-111\"/>\n",
       "      <use x=\"115.144531\" xlink:href=\"#DejaVuSans-115\"/>\n",
       "      <use x=\"167.244141\" xlink:href=\"#DejaVuSans-115\"/>\n",
       "     </g>\n",
       "    </g>\n",
       "   </g>\n",
       "   <g id=\"line2d_17\">\n",
       "    <path clip-path=\"url(#pb5005025ea)\" d=\"M 69.218182 40.987633 \n",
       "L 90.958442 88.082209 \n",
       "L 112.698701 137.897098 \n",
       "L 134.438961 154.959078 \n",
       "L 156.179221 160.682464 \n",
       "L 177.919481 163.783292 \n",
       "L 199.65974 165.903741 \n",
       "L 221.4 167.32804 \n",
       "L 243.14026 168.234044 \n",
       "L 264.880519 168.783975 \n",
       "L 286.620779 169.109227 \n",
       "L 308.361039 169.301637 \n",
       "L 330.101299 169.418499 \n",
       "L 351.841558 169.491981 \n",
       "L 373.581818 169.540301 \n",
       "\" style=\"fill:none;stroke:#ff0000;stroke-linecap:square;stroke-width:1.5;\"/>\n",
       "   </g>\n",
       "   <g id=\"patch_3\">\n",
       "    <path d=\"M 54 252 \n",
       "L 54 34.56 \n",
       "\" style=\"fill:none;stroke:#000000;stroke-linecap:square;stroke-linejoin:miter;stroke-width:0.8;\"/>\n",
       "   </g>\n",
       "   <g id=\"patch_4\">\n",
       "    <path d=\"M 388.8 252 \n",
       "L 388.8 34.56 \n",
       "\" style=\"fill:none;stroke:#000000;stroke-linecap:square;stroke-linejoin:miter;stroke-width:0.8;\"/>\n",
       "   </g>\n",
       "   <g id=\"patch_5\">\n",
       "    <path d=\"M 54 252 \n",
       "L 388.8 252 \n",
       "\" style=\"fill:none;stroke:#000000;stroke-linecap:square;stroke-linejoin:miter;stroke-width:0.8;\"/>\n",
       "   </g>\n",
       "   <g id=\"patch_6\">\n",
       "    <path d=\"M 54 34.56 \n",
       "L 388.8 34.56 \n",
       "\" style=\"fill:none;stroke:#000000;stroke-linecap:square;stroke-linejoin:miter;stroke-width:0.8;\"/>\n",
       "   </g>\n",
       "   <g id=\"text_19\">\n",
       "    <!-- model: Training Loss -->\n",
       "    <g transform=\"translate(160.05 28.56)scale(0.12 -0.12)\">\n",
       "     <defs>\n",
       "      <path d=\"M 52 44.1875 \n",
       "Q 55.375 50.25 60.0625 53.125 \n",
       "Q 64.75 56 71.09375 56 \n",
       "Q 79.640625 56 84.28125 50.015625 \n",
       "Q 88.921875 44.046875 88.921875 33.015625 \n",
       "L 88.921875 0 \n",
       "L 79.890625 0 \n",
       "L 79.890625 32.71875 \n",
       "Q 79.890625 40.578125 77.09375 44.375 \n",
       "Q 74.3125 48.1875 68.609375 48.1875 \n",
       "Q 61.625 48.1875 57.5625 43.546875 \n",
       "Q 53.515625 38.921875 53.515625 30.90625 \n",
       "L 53.515625 0 \n",
       "L 44.484375 0 \n",
       "L 44.484375 32.71875 \n",
       "Q 44.484375 40.625 41.703125 44.40625 \n",
       "Q 38.921875 48.1875 33.109375 48.1875 \n",
       "Q 26.21875 48.1875 22.15625 43.53125 \n",
       "Q 18.109375 38.875 18.109375 30.90625 \n",
       "L 18.109375 0 \n",
       "L 9.078125 0 \n",
       "L 9.078125 54.6875 \n",
       "L 18.109375 54.6875 \n",
       "L 18.109375 46.1875 \n",
       "Q 21.1875 51.21875 25.484375 53.609375 \n",
       "Q 29.78125 56 35.6875 56 \n",
       "Q 41.65625 56 45.828125 52.96875 \n",
       "Q 50 49.953125 52 44.1875 \n",
       "z\n",
       "\" id=\"DejaVuSans-109\"/>\n",
       "      <path d=\"M 45.40625 46.390625 \n",
       "L 45.40625 75.984375 \n",
       "L 54.390625 75.984375 \n",
       "L 54.390625 0 \n",
       "L 45.40625 0 \n",
       "L 45.40625 8.203125 \n",
       "Q 42.578125 3.328125 38.25 0.953125 \n",
       "Q 33.9375 -1.421875 27.875 -1.421875 \n",
       "Q 17.96875 -1.421875 11.734375 6.484375 \n",
       "Q 5.515625 14.40625 5.515625 27.296875 \n",
       "Q 5.515625 40.1875 11.734375 48.09375 \n",
       "Q 17.96875 56 27.875 56 \n",
       "Q 33.9375 56 38.25 53.625 \n",
       "Q 42.578125 51.265625 45.40625 46.390625 \n",
       "z\n",
       "M 14.796875 27.296875 \n",
       "Q 14.796875 17.390625 18.875 11.75 \n",
       "Q 22.953125 6.109375 30.078125 6.109375 \n",
       "Q 37.203125 6.109375 41.296875 11.75 \n",
       "Q 45.40625 17.390625 45.40625 27.296875 \n",
       "Q 45.40625 37.203125 41.296875 42.84375 \n",
       "Q 37.203125 48.484375 30.078125 48.484375 \n",
       "Q 22.953125 48.484375 18.875 42.84375 \n",
       "Q 14.796875 37.203125 14.796875 27.296875 \n",
       "z\n",
       "\" id=\"DejaVuSans-100\"/>\n",
       "      <path d=\"M 56.203125 29.59375 \n",
       "L 56.203125 25.203125 \n",
       "L 14.890625 25.203125 \n",
       "Q 15.484375 15.921875 20.484375 11.0625 \n",
       "Q 25.484375 6.203125 34.421875 6.203125 \n",
       "Q 39.59375 6.203125 44.453125 7.46875 \n",
       "Q 49.3125 8.734375 54.109375 11.28125 \n",
       "L 54.109375 2.78125 \n",
       "Q 49.265625 0.734375 44.1875 -0.34375 \n",
       "Q 39.109375 -1.421875 33.890625 -1.421875 \n",
       "Q 20.796875 -1.421875 13.15625 6.1875 \n",
       "Q 5.515625 13.8125 5.515625 26.8125 \n",
       "Q 5.515625 40.234375 12.765625 48.109375 \n",
       "Q 20.015625 56 32.328125 56 \n",
       "Q 43.359375 56 49.78125 48.890625 \n",
       "Q 56.203125 41.796875 56.203125 29.59375 \n",
       "z\n",
       "M 47.21875 32.234375 \n",
       "Q 47.125 39.59375 43.09375 43.984375 \n",
       "Q 39.0625 48.390625 32.421875 48.390625 \n",
       "Q 24.90625 48.390625 20.390625 44.140625 \n",
       "Q 15.875 39.890625 15.1875 32.171875 \n",
       "z\n",
       "\" id=\"DejaVuSans-101\"/>\n",
       "      <path d=\"M 9.421875 75.984375 \n",
       "L 18.40625 75.984375 \n",
       "L 18.40625 0 \n",
       "L 9.421875 0 \n",
       "z\n",
       "\" id=\"DejaVuSans-108\"/>\n",
       "      <path d=\"M 11.71875 12.40625 \n",
       "L 22.015625 12.40625 \n",
       "L 22.015625 0 \n",
       "L 11.71875 0 \n",
       "z\n",
       "M 11.71875 51.703125 \n",
       "L 22.015625 51.703125 \n",
       "L 22.015625 39.3125 \n",
       "L 11.71875 39.3125 \n",
       "z\n",
       "\" id=\"DejaVuSans-58\"/>\n",
       "      <path id=\"DejaVuSans-32\"/>\n",
       "      <path d=\"M -0.296875 72.90625 \n",
       "L 61.375 72.90625 \n",
       "L 61.375 64.59375 \n",
       "L 35.5 64.59375 \n",
       "L 35.5 0 \n",
       "L 25.59375 0 \n",
       "L 25.59375 64.59375 \n",
       "L -0.296875 64.59375 \n",
       "z\n",
       "\" id=\"DejaVuSans-84\"/>\n",
       "      <path d=\"M 41.109375 46.296875 \n",
       "Q 39.59375 47.171875 37.8125 47.578125 \n",
       "Q 36.03125 48 33.890625 48 \n",
       "Q 26.265625 48 22.1875 43.046875 \n",
       "Q 18.109375 38.09375 18.109375 28.8125 \n",
       "L 18.109375 0 \n",
       "L 9.078125 0 \n",
       "L 9.078125 54.6875 \n",
       "L 18.109375 54.6875 \n",
       "L 18.109375 46.1875 \n",
       "Q 20.953125 51.171875 25.484375 53.578125 \n",
       "Q 30.03125 56 36.53125 56 \n",
       "Q 37.453125 56 38.578125 55.875 \n",
       "Q 39.703125 55.765625 41.0625 55.515625 \n",
       "z\n",
       "\" id=\"DejaVuSans-114\"/>\n",
       "      <path d=\"M 34.28125 27.484375 \n",
       "Q 23.390625 27.484375 19.1875 25 \n",
       "Q 14.984375 22.515625 14.984375 16.5 \n",
       "Q 14.984375 11.71875 18.140625 8.90625 \n",
       "Q 21.296875 6.109375 26.703125 6.109375 \n",
       "Q 34.1875 6.109375 38.703125 11.40625 \n",
       "Q 43.21875 16.703125 43.21875 25.484375 \n",
       "L 43.21875 27.484375 \n",
       "z\n",
       "M 52.203125 31.203125 \n",
       "L 52.203125 0 \n",
       "L 43.21875 0 \n",
       "L 43.21875 8.296875 \n",
       "Q 40.140625 3.328125 35.546875 0.953125 \n",
       "Q 30.953125 -1.421875 24.3125 -1.421875 \n",
       "Q 15.921875 -1.421875 10.953125 3.296875 \n",
       "Q 6 8.015625 6 15.921875 \n",
       "Q 6 25.140625 12.171875 29.828125 \n",
       "Q 18.359375 34.515625 30.609375 34.515625 \n",
       "L 43.21875 34.515625 \n",
       "L 43.21875 35.40625 \n",
       "Q 43.21875 41.609375 39.140625 45 \n",
       "Q 35.0625 48.390625 27.6875 48.390625 \n",
       "Q 23 48.390625 18.546875 47.265625 \n",
       "Q 14.109375 46.140625 10.015625 43.890625 \n",
       "L 10.015625 52.203125 \n",
       "Q 14.9375 54.109375 19.578125 55.046875 \n",
       "Q 24.21875 56 28.609375 56 \n",
       "Q 40.484375 56 46.34375 49.84375 \n",
       "Q 52.203125 43.703125 52.203125 31.203125 \n",
       "z\n",
       "\" id=\"DejaVuSans-97\"/>\n",
       "      <path d=\"M 9.421875 54.6875 \n",
       "L 18.40625 54.6875 \n",
       "L 18.40625 0 \n",
       "L 9.421875 0 \n",
       "z\n",
       "M 9.421875 75.984375 \n",
       "L 18.40625 75.984375 \n",
       "L 18.40625 64.59375 \n",
       "L 9.421875 64.59375 \n",
       "z\n",
       "\" id=\"DejaVuSans-105\"/>\n",
       "      <path d=\"M 54.890625 33.015625 \n",
       "L 54.890625 0 \n",
       "L 45.90625 0 \n",
       "L 45.90625 32.71875 \n",
       "Q 45.90625 40.484375 42.875 44.328125 \n",
       "Q 39.84375 48.1875 33.796875 48.1875 \n",
       "Q 26.515625 48.1875 22.3125 43.546875 \n",
       "Q 18.109375 38.921875 18.109375 30.90625 \n",
       "L 18.109375 0 \n",
       "L 9.078125 0 \n",
       "L 9.078125 54.6875 \n",
       "L 18.109375 54.6875 \n",
       "L 18.109375 46.1875 \n",
       "Q 21.34375 51.125 25.703125 53.5625 \n",
       "Q 30.078125 56 35.796875 56 \n",
       "Q 45.21875 56 50.046875 50.171875 \n",
       "Q 54.890625 44.34375 54.890625 33.015625 \n",
       "z\n",
       "\" id=\"DejaVuSans-110\"/>\n",
       "      <path d=\"M 45.40625 27.984375 \n",
       "Q 45.40625 37.75 41.375 43.109375 \n",
       "Q 37.359375 48.484375 30.078125 48.484375 \n",
       "Q 22.859375 48.484375 18.828125 43.109375 \n",
       "Q 14.796875 37.75 14.796875 27.984375 \n",
       "Q 14.796875 18.265625 18.828125 12.890625 \n",
       "Q 22.859375 7.515625 30.078125 7.515625 \n",
       "Q 37.359375 7.515625 41.375 12.890625 \n",
       "Q 45.40625 18.265625 45.40625 27.984375 \n",
       "z\n",
       "M 54.390625 6.78125 \n",
       "Q 54.390625 -7.171875 48.1875 -13.984375 \n",
       "Q 42 -20.796875 29.203125 -20.796875 \n",
       "Q 24.46875 -20.796875 20.265625 -20.09375 \n",
       "Q 16.0625 -19.390625 12.109375 -17.921875 \n",
       "L 12.109375 -9.1875 \n",
       "Q 16.0625 -11.328125 19.921875 -12.34375 \n",
       "Q 23.78125 -13.375 27.78125 -13.375 \n",
       "Q 36.625 -13.375 41.015625 -8.765625 \n",
       "Q 45.40625 -4.15625 45.40625 5.171875 \n",
       "L 45.40625 9.625 \n",
       "Q 42.625 4.78125 38.28125 2.390625 \n",
       "Q 33.9375 0 27.875 0 \n",
       "Q 17.828125 0 11.671875 7.65625 \n",
       "Q 5.515625 15.328125 5.515625 27.984375 \n",
       "Q 5.515625 40.671875 11.671875 48.328125 \n",
       "Q 17.828125 56 27.875 56 \n",
       "Q 33.9375 56 38.28125 53.609375 \n",
       "Q 42.625 51.21875 45.40625 46.390625 \n",
       "L 45.40625 54.6875 \n",
       "L 54.390625 54.6875 \n",
       "z\n",
       "\" id=\"DejaVuSans-103\"/>\n",
       "     </defs>\n",
       "     <use xlink:href=\"#DejaVuSans-109\"/>\n",
       "     <use x=\"97.412109\" xlink:href=\"#DejaVuSans-111\"/>\n",
       "     <use x=\"158.59375\" xlink:href=\"#DejaVuSans-100\"/>\n",
       "     <use x=\"222.070312\" xlink:href=\"#DejaVuSans-101\"/>\n",
       "     <use x=\"283.59375\" xlink:href=\"#DejaVuSans-108\"/>\n",
       "     <use x=\"311.376953\" xlink:href=\"#DejaVuSans-58\"/>\n",
       "     <use x=\"345.068359\" xlink:href=\"#DejaVuSans-32\"/>\n",
       "     <use x=\"376.855469\" xlink:href=\"#DejaVuSans-84\"/>\n",
       "     <use x=\"423.189453\" xlink:href=\"#DejaVuSans-114\"/>\n",
       "     <use x=\"464.302734\" xlink:href=\"#DejaVuSans-97\"/>\n",
       "     <use x=\"525.582031\" xlink:href=\"#DejaVuSans-105\"/>\n",
       "     <use x=\"553.365234\" xlink:href=\"#DejaVuSans-110\"/>\n",
       "     <use x=\"616.744141\" xlink:href=\"#DejaVuSans-105\"/>\n",
       "     <use x=\"644.527344\" xlink:href=\"#DejaVuSans-110\"/>\n",
       "     <use x=\"707.90625\" xlink:href=\"#DejaVuSans-103\"/>\n",
       "     <use x=\"771.382812\" xlink:href=\"#DejaVuSans-32\"/>\n",
       "     <use x=\"803.169922\" xlink:href=\"#DejaVuSans-76\"/>\n",
       "     <use x=\"857.132812\" xlink:href=\"#DejaVuSans-111\"/>\n",
       "     <use x=\"918.314453\" xlink:href=\"#DejaVuSans-115\"/>\n",
       "     <use x=\"970.414062\" xlink:href=\"#DejaVuSans-115\"/>\n",
       "    </g>\n",
       "   </g>\n",
       "   <g id=\"legend_1\">\n",
       "    <g id=\"patch_7\">\n",
       "     <path d=\"M 330.484375 57.238125 \n",
       "L 381.8 57.238125 \n",
       "Q 383.8 57.238125 383.8 55.238125 \n",
       "L 383.8 41.56 \n",
       "Q 383.8 39.56 381.8 39.56 \n",
       "L 330.484375 39.56 \n",
       "Q 328.484375 39.56 328.484375 41.56 \n",
       "L 328.484375 55.238125 \n",
       "Q 328.484375 57.238125 330.484375 57.238125 \n",
       "z\n",
       "\" style=\"fill:#ffffff;opacity:0.8;stroke:#cccccc;stroke-linejoin:miter;\"/>\n",
       "    </g>\n",
       "    <g id=\"line2d_18\">\n",
       "     <path d=\"M 332.484375 47.658437 \n",
       "L 352.484375 47.658437 \n",
       "\" style=\"fill:none;stroke:#ff0000;stroke-linecap:square;stroke-width:1.5;\"/>\n",
       "    </g>\n",
       "    <g id=\"line2d_19\"/>\n",
       "    <g id=\"text_20\">\n",
       "     <!-- loss -->\n",
       "     <g transform=\"translate(360.484375 51.158437)scale(0.1 -0.1)\">\n",
       "      <use xlink:href=\"#DejaVuSans-108\"/>\n",
       "      <use x=\"27.783203\" xlink:href=\"#DejaVuSans-111\"/>\n",
       "      <use x=\"88.964844\" xlink:href=\"#DejaVuSans-115\"/>\n",
       "      <use x=\"141.064453\" xlink:href=\"#DejaVuSans-115\"/>\n",
       "     </g>\n",
       "    </g>\n",
       "   </g>\n",
       "  </g>\n",
       " </g>\n",
       " <defs>\n",
       "  <clipPath id=\"pb5005025ea\">\n",
       "   <rect height=\"217.44\" width=\"334.8\" x=\"54\" y=\"34.56\"/>\n",
       "  </clipPath>\n",
       " </defs>\n",
       "</svg>\n"
      ],
      "text/plain": [
       "<IPython.core.display.HTML object>"
      ]
     },
     "metadata": {},
     "output_type": "display_data"
    },
    {
     "name": "stdout",
     "output_type": "stream",
     "text": [
      "Epoch 15/15 loss: 0.07762288302183151\n"
     ]
    }
   ],
   "source": [
    "# train from scratch\n",
    "history = model.fit(dataset, epochs=15, verbose=1, batch_size=32)"
   ]
  },
  {
   "cell_type": "code",
   "execution_count": 18,
   "metadata": {},
   "outputs": [],
   "source": [
    "# OR load a set of successul weights trained previously\n",
    "#from tensorflow.keras.models import load_model\n",
    "#model = load_model(\"wall_follow_model\")"
   ]
  },
  {
   "cell_type": "markdown",
   "metadata": {},
   "source": [
    "### Analyze the results"
   ]
  },
  {
   "cell_type": "code",
   "execution_count": 19,
   "metadata": {},
   "outputs": [],
   "source": [
    "results = model.predict(dataset)"
   ]
  },
  {
   "cell_type": "code",
   "execution_count": 20,
   "metadata": {},
   "outputs": [],
   "source": [
    "results_df = pd.DataFrame(results,columns=['translate','rotate'])"
   ]
  },
  {
   "cell_type": "code",
   "execution_count": 21,
   "metadata": {},
   "outputs": [
    {
     "data": {
      "text/html": [
       "<div>\n",
       "<style scoped>\n",
       "    .dataframe tbody tr th:only-of-type {\n",
       "        vertical-align: middle;\n",
       "    }\n",
       "\n",
       "    .dataframe tbody tr th {\n",
       "        vertical-align: top;\n",
       "    }\n",
       "\n",
       "    .dataframe thead th {\n",
       "        text-align: right;\n",
       "    }\n",
       "</style>\n",
       "<table border=\"1\" class=\"dataframe\">\n",
       "  <thead>\n",
       "    <tr style=\"text-align: right;\">\n",
       "      <th></th>\n",
       "      <th>translate</th>\n",
       "      <th>rotate</th>\n",
       "    </tr>\n",
       "  </thead>\n",
       "  <tbody>\n",
       "    <tr>\n",
       "      <th>0</th>\n",
       "      <td>0.454443</td>\n",
       "      <td>0.336843</td>\n",
       "    </tr>\n",
       "    <tr>\n",
       "      <th>1</th>\n",
       "      <td>0.454443</td>\n",
       "      <td>0.336843</td>\n",
       "    </tr>\n",
       "    <tr>\n",
       "      <th>2</th>\n",
       "      <td>0.454443</td>\n",
       "      <td>0.336843</td>\n",
       "    </tr>\n",
       "    <tr>\n",
       "      <th>3</th>\n",
       "      <td>0.454443</td>\n",
       "      <td>0.336843</td>\n",
       "    </tr>\n",
       "    <tr>\n",
       "      <th>4</th>\n",
       "      <td>0.454443</td>\n",
       "      <td>0.336843</td>\n",
       "    </tr>\n",
       "    <tr>\n",
       "      <th>...</th>\n",
       "      <td>...</td>\n",
       "      <td>...</td>\n",
       "    </tr>\n",
       "    <tr>\n",
       "      <th>2495</th>\n",
       "      <td>0.289770</td>\n",
       "      <td>-0.387805</td>\n",
       "    </tr>\n",
       "    <tr>\n",
       "      <th>2496</th>\n",
       "      <td>0.248241</td>\n",
       "      <td>0.009967</td>\n",
       "    </tr>\n",
       "    <tr>\n",
       "      <th>2497</th>\n",
       "      <td>0.228445</td>\n",
       "      <td>0.318681</td>\n",
       "    </tr>\n",
       "    <tr>\n",
       "      <th>2498</th>\n",
       "      <td>0.221026</td>\n",
       "      <td>0.494101</td>\n",
       "    </tr>\n",
       "    <tr>\n",
       "      <th>2499</th>\n",
       "      <td>0.220412</td>\n",
       "      <td>0.571516</td>\n",
       "    </tr>\n",
       "  </tbody>\n",
       "</table>\n",
       "<p>2500 rows \u00d7 2 columns</p>\n",
       "</div>"
      ],
      "text/plain": [
       "      translate    rotate\n",
       "0      0.454443  0.336843\n",
       "1      0.454443  0.336843\n",
       "2      0.454443  0.336843\n",
       "3      0.454443  0.336843\n",
       "4      0.454443  0.336843\n",
       "...         ...       ...\n",
       "2495   0.289770 -0.387805\n",
       "2496   0.248241  0.009967\n",
       "2497   0.228445  0.318681\n",
       "2498   0.221026  0.494101\n",
       "2499   0.220412  0.571516\n",
       "\n",
       "[2500 rows x 2 columns]"
      ]
     },
     "execution_count": 21,
     "metadata": {},
     "output_type": "execute_result"
    }
   ],
   "source": [
    "results_df"
   ]
  },
  {
   "cell_type": "code",
   "execution_count": 22,
   "metadata": {},
   "outputs": [
    {
     "data": {
      "text/plain": [
       "<AxesSubplot:xlabel='translate', ylabel='rotate'>"
      ]
     },
     "execution_count": 22,
     "metadata": {},
     "output_type": "execute_result"
    },
    {
     "data": {
      "image/png": "[encoded data removed]",
      "text/plain": [
       "<Figure size 432x288 with 1 Axes>"
      ]
     },
     "metadata": {
      "needs_background": "light"
     },
     "output_type": "display_data"
    }
   ],
   "source": [
    "results_df.plot.scatter(x='translate',y='rotate')"
   ]
  },
  {
   "cell_type": "code",
   "execution_count": 23,
   "metadata": {},
   "outputs": [
    {
     "data": {
      "text/plain": [
       "<AxesSubplot:xlabel='translate', ylabel='rotate'>"
      ]
     },
     "execution_count": 23,
     "metadata": {},
     "output_type": "execute_result"
    },
    {
     "data": {
      "image/png": "[encoded data removed]",
      "text/plain": [
       "<Figure size 432x288 with 1 Axes>"
      ]
     },
     "metadata": {
      "needs_background": "light"
     },
     "output_type": "display_data"
    }
   ],
   "source": [
    "df.plot.scatter(x='translate', y='rotate')"
   ]
  },
  {
   "cell_type": "markdown",
   "metadata": {},
   "source": [
    "### Test the network"
   ]
  },
  {
   "cell_type": "code",
   "execution_count": 24,
   "metadata": {},
   "outputs": [],
   "source": [
    "def scale(v, max):\n",
    "    return v/max\n",
    "\n",
    "def test_controller(robot):\n",
    "    f = robot[\"front\"].get_distance()\n",
    "    fl = robot[\"front-left\"].get_distance()\n",
    "    bl = robot[\"back-left\"].get_distance()\n",
    "    max_dist = robot[\"front\"].get_max()\n",
    "    reading = [f, fl, bl]\n",
    "    scaled = [scale(v, max_dist) for v in reading]\n",
    "    outputs = model.predict([scaled])\n",
    "    robot.move(outputs[0][0], outputs[0][1])"
   ]
  },
  {
   "cell_type": "code",
   "execution_count": 25,
   "metadata": {},
   "outputs": [
    {
     "data": {
      "application/vnd.jupyter.widget-view+json": {
       "model_id": "9ca82d7f105c495b82b06c2b4a5895c3",
       "version_major": 2,
       "version_minor": 0
      },
      "text/plain": [
       "  0%|          | 0/300 [00:00<?, ?it/s]"
      ]
     },
     "metadata": {},
     "output_type": "display_data"
    },
    {
     "name": "stdout",
     "output_type": "stream",
     "text": [
      "Simulation stopped at: 00:00:30.0; speed 2.44 x real time\n"
     ]
    }
   ],
   "source": [
    "# test when close to wall in front\n",
    "robot.set_pose(100, 30, -90)\n",
    "world.seconds(30,[test_controller], show=True, real_time=False)"
   ]
  },
  {
   "cell_type": "code",
   "execution_count": 26,
   "metadata": {},
   "outputs": [
    {
     "data": {
      "application/vnd.jupyter.widget-view+json": {
       "model_id": "bba2918c25d7463a98c2797e2c65ecb5",
       "version_major": 2,
       "version_minor": 0
      },
      "text/plain": [
       "  0%|          | 0/300 [00:00<?, ?it/s]"
      ]
     },
     "metadata": {},
     "output_type": "display_data"
    },
    {
     "name": "stdout",
     "output_type": "stream",
     "text": [
      "Simulation stopped at: 00:01:00.0; speed 2.48 x real time\n"
     ]
    }
   ],
   "source": [
    "# test near bottom obstacle\n",
    "robot.set_pose(145, 180, -90)\n",
    "world.seconds(30,[test_controller], show=True, real_time=False)"
   ]
  },
  {
   "cell_type": "code",
   "execution_count": 27,
   "metadata": {},
   "outputs": [
    {
     "data": {
      "application/vnd.jupyter.widget-view+json": {
       "model_id": "55ecd24286064b3d97f9540e06abedf6",
       "version_major": 2,
       "version_minor": 0
      },
      "text/plain": [
       "  0%|          | 0/300 [00:00<?, ?it/s]"
      ]
     },
     "metadata": {},
     "output_type": "display_data"
    },
    {
     "name": "stdout",
     "output_type": "stream",
     "text": [
      "Simulation stopped at: 00:01:30.0; speed 2.47 x real time\n"
     ]
    }
   ],
   "source": [
    "# test near top obstacle\n",
    "robot.set_pose(25, 100, -90)\n",
    "world.seconds(30,[test_controller], show=True, real_time=False)"
   ]
  },
  {
   "cell_type": "code",
   "execution_count": 28,
   "metadata": {},
   "outputs": [
    {
     "data": {
      "application/vnd.jupyter.widget-view+json": {
       "model_id": "6790d6f2949a44ecba15b6f8a129f493",
       "version_major": 2,
       "version_minor": 0
      },
      "text/plain": [
       "  0%|          | 0/300 [00:00<?, ?it/s]"
      ]
     },
     "metadata": {},
     "output_type": "display_data"
    },
    {
     "name": "stdout",
     "output_type": "stream",
     "text": [
      "Simulation stopped at: 00:02:00.0; speed 2.46 x real time\n"
     ]
    }
   ],
   "source": [
    "# test from middle\n",
    "robot.set_pose(100, 100, 0)\n",
    "world.seconds(30,[test_controller], show=True, real_time=False)"
   ]
  },
  {
   "cell_type": "code",
   "execution_count": 29,
   "metadata": {},
   "outputs": [
    {
     "data": {
      "application/vnd.jupyter.widget-view+json": {
       "model_id": "f40c86e8f43b4b52a001d9dc4d7a82ef",
       "version_major": 2,
       "version_minor": 0
      },
      "text/plain": [
       "  0%|          | 0/1200 [00:00<?, ?it/s]"
      ]
     },
     "metadata": {},
     "output_type": "display_data"
    },
    {
     "name": "stdout",
     "output_type": "stream",
     "text": [
      "Simulation stopped at: 00:02:23.5; speed 2.46 x real time\n"
     ]
    }
   ],
   "source": [
    "# longer test from a random starting location\n",
    "from random import randrange\n",
    "\n",
    "robot.set_pose(randrange(50, 150), \n",
    "                   randrange(90,110), \n",
    "                   randrange(0,360))\n",
    "world.seconds(120,[test_controller], show=True, real_time=False)"
   ]
  },
  {
   "cell_type": "code",
   "execution_count": 26,
   "metadata": {},
   "outputs": [],
   "source": [
    "#Uncomment the next line to save your network model \n",
    "#model.save(\"my_wallfollow_model\")"
   ]
  },
  {
   "cell_type": "markdown",
   "metadata": {},
   "source": [
    "### Try visualizing the model"
   ]
  },
  {
   "cell_type": "code",
   "execution_count": 30,
   "metadata": {},
   "outputs": [],
   "source": [
    "from aitk.networks import Network"
   ]
  },
  {
   "cell_type": "code",
   "execution_count": 31,
   "metadata": {},
   "outputs": [],
   "source": [
    "net = Network(model)"
   ]
  },
  {
   "cell_type": "code",
   "execution_count": 32,
   "metadata": {},
   "outputs": [
    {
     "data": {
      "text/html": [
       "<svg id='keras-network' xmlns='http://www.w3.org/2000/svg' xmlns:xlink='http://www.w3.org/1999/xlink' image-rendering=\"pixelated\" width=\"384px\" height=\"400px\" style=\"background-color: #B0C4DE\">\n",
       " <g >\n",
       "  <svg viewBox=\"0 0 350 364\" width=\"384px\" height=\"400px\">\n",
       "    <defs>\n",
       "        <marker id=\"arrow\" markerWidth=\"10\" markerHeight=\"10\" refX=\"9\" refY=\"3\" orient=\"auto\" markerUnits=\"strokeWidth\">\n",
       "          <path d=\"M0,0 L0,6 L9,3 z\" fill=\"black\" />\n",
       "        </marker>\n",
       "    </defs><rect x=\"112.0\" y=\"24\" width=\"126\" height=\"64\" style=\"fill:none;stroke:black;stroke-width:2\"/><image id=\"keras-network_out\" class=\"keras-network\" x=\"113.0\" y=\"25\" height=\"62\" width=\"124\" preserveAspectRatio=\"none\" image-rendering=\"optimizeSpeed\" xlink:href=\"data:image/gif;base64,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\"><title>Layer: out 'Dense'\n",
       "Act function: tanh\n",
       "Act output range: (-1, 1)\n",
       "Shape = (None, 2)</title></image><text x=\"242.0\" y=\"58.0\" font-family=\"monospace\" font-size=\"12\" text-anchor=\"start\" fill=\"blue\" alignment-baseline=\"central\" >out</text><path d=\"M 175.0 116 L 175.0 89 \" stroke=\"black\" stroke-width=\"2\" marker-end=\"url(#arrow)\" fill=\"none\" /><rect x=\"74.0\" y=\"116\" width=\"202\" height=\"52\" style=\"fill:none;stroke:black;stroke-width:2\"/><image id=\"keras-network_hid2\" class=\"keras-network\" x=\"75.0\" y=\"117\" height=\"50\" width=\"200\" preserveAspectRatio=\"none\" image-rendering=\"optimizeSpeed\" xlink:href=\"data:image/gif;base64,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\"><title>Layer: hid2 'Dense'\n",
       "Act function: tanh\n",
       "Act output range: (-1, 1)\n",
       "Shape = (None, 5)</title></image><text x=\"280.0\" y=\"144.0\" font-family=\"monospace\" font-size=\"12\" text-anchor=\"start\" fill=\"blue\" alignment-baseline=\"central\" >hid2</text><path d=\"M 175.0 196 L 175.0 169 \" stroke=\"black\" stroke-width=\"2\" marker-end=\"url(#arrow)\" fill=\"none\" /><rect x=\"74.0\" y=\"196\" width=\"202\" height=\"52\" style=\"fill:none;stroke:black;stroke-width:2\"/><image id=\"keras-network_hid1\" class=\"keras-network\" x=\"75.0\" y=\"197\" height=\"50\" width=\"200\" preserveAspectRatio=\"none\" image-rendering=\"optimizeSpeed\" xlink:href=\"data:image/gif;base64,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\"><title>Layer: hid1 'Dense'\n",
       "Act function: tanh\n",
       "Act output range: (-1, 1)\n",
       "Shape = (None, 10)</title></image><text x=\"280.0\" y=\"224.0\" font-family=\"monospace\" font-size=\"12\" text-anchor=\"start\" fill=\"blue\" alignment-baseline=\"central\" >hid1</text><path d=\"M 175.0 276 L 175.0 249 \" stroke=\"black\" stroke-width=\"2\" marker-end=\"url(#arrow)\" fill=\"none\" /><rect x=\"81.0\" y=\"276\" width=\"188\" height=\"64\" style=\"fill:none;stroke:black;stroke-width:2\"/><image id=\"keras-network_input_1\" class=\"keras-network\" x=\"82.0\" y=\"277\" height=\"62\" width=\"186\" preserveAspectRatio=\"none\" image-rendering=\"optimizeSpeed\" xlink:href=\"data:image/gif;base64,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\"><title>Layer: input_1 'InputLayer'\n",
       "Shape = [(None, 3)]</title></image><text x=\"273.0\" y=\"310.0\" font-family=\"monospace\" font-size=\"12\" text-anchor=\"start\" fill=\"blue\" alignment-baseline=\"central\" >input_1</text><text x=\"175.0\" y=\"12.5\" font-family=\"monospace\" font-size=\"15\" text-anchor=\"middle\" fill=\"black\" alignment-baseline=\"central\" >Activations for model</text></svg></g></svg>"
      ],
      "text/plain": [
       "<IPython.core.display.HTML object>"
      ]
     },
     "metadata": {},
     "output_type": "display_data"
    }
   ],
   "source": [
    "net.display()"
   ]
  },
  {
   "cell_type": "code",
   "execution_count": 33,
   "metadata": {},
   "outputs": [
    {
     "data": {
      "text/html": [
       "<svg id='keras-network' xmlns='http://www.w3.org/2000/svg' xmlns:xlink='http://www.w3.org/1999/xlink' image-rendering=\"pixelated\" width=\"384px\" height=\"400px\" style=\"background-color: #B0C4DE\">\n",
       " <g >\n",
       "  <svg viewBox=\"0 0 350 364\" width=\"384px\" height=\"400px\">\n",
       "    <defs>\n",
       "        <marker id=\"arrow\" markerWidth=\"10\" markerHeight=\"10\" refX=\"9\" refY=\"3\" orient=\"auto\" markerUnits=\"strokeWidth\">\n",
       "          <path d=\"M0,0 L0,6 L9,3 z\" fill=\"black\" />\n",
       "        </marker>\n",
       "    </defs><rect x=\"112.0\" y=\"24\" width=\"126\" height=\"64\" style=\"fill:none;stroke:black;stroke-width:2\"/><image id=\"keras-network_out\" class=\"keras-network\" x=\"113.0\" y=\"25\" height=\"62\" width=\"124\" preserveAspectRatio=\"none\" image-rendering=\"optimizeSpeed\" xlink:href=\"data:image/gif;base64,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\"><title>Layer: out 'Dense'\n",
       "Act function: tanh\n",
       "Act output range: (-1, 1)\n",
       "Shape = (None, 2)</title></image><text x=\"242.0\" y=\"58.0\" font-family=\"monospace\" font-size=\"12\" text-anchor=\"start\" fill=\"blue\" alignment-baseline=\"central\" >out</text><path d=\"M 175.0 116 L 175.0 89 \" stroke=\"black\" stroke-width=\"2\" marker-end=\"url(#arrow)\" fill=\"none\" /><rect x=\"74.0\" y=\"116\" width=\"202\" height=\"52\" style=\"fill:none;stroke:black;stroke-width:2\"/><image id=\"keras-network_hid2\" class=\"keras-network\" x=\"75.0\" y=\"117\" height=\"50\" width=\"200\" preserveAspectRatio=\"none\" image-rendering=\"optimizeSpeed\" xlink:href=\"data:image/gif;base64,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\"><title>Layer: hid2 'Dense'\n",
       "Act function: tanh\n",
       "Act output range: (-1, 1)\n",
       "Shape = (None, 5)</title></image><text x=\"280.0\" y=\"144.0\" font-family=\"monospace\" font-size=\"12\" text-anchor=\"start\" fill=\"blue\" alignment-baseline=\"central\" >hid2</text><path d=\"M 175.0 196 L 175.0 169 \" stroke=\"black\" stroke-width=\"2\" marker-end=\"url(#arrow)\" fill=\"none\" /><rect x=\"74.0\" y=\"196\" width=\"202\" height=\"52\" style=\"fill:none;stroke:black;stroke-width:2\"/><image id=\"keras-network_hid1\" class=\"keras-network\" x=\"75.0\" y=\"197\" height=\"50\" width=\"200\" preserveAspectRatio=\"none\" image-rendering=\"optimizeSpeed\" xlink:href=\"data:image/gif;base64,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\"><title>Layer: hid1 'Dense'\n",
       "Act function: tanh\n",
       "Act output range: (-1, 1)\n",
       "Shape = (None, 10)</title></image><text x=\"280.0\" y=\"224.0\" font-family=\"monospace\" font-size=\"12\" text-anchor=\"start\" fill=\"blue\" alignment-baseline=\"central\" >hid1</text><path d=\"M 175.0 276 L 175.0 249 \" stroke=\"black\" stroke-width=\"2\" marker-end=\"url(#arrow)\" fill=\"none\" /><rect x=\"81.0\" y=\"276\" width=\"188\" height=\"64\" style=\"fill:none;stroke:black;stroke-width:2\"/><image id=\"keras-network_input_1\" class=\"keras-network\" x=\"82.0\" y=\"277\" height=\"62\" width=\"186\" preserveAspectRatio=\"none\" image-rendering=\"optimizeSpeed\" xlink:href=\"data:image/gif;base64,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\"><title>Layer: input_1 'InputLayer'\n",
       "Shape = [(None, 3)]</title></image><text x=\"273.0\" y=\"310.0\" font-family=\"monospace\" font-size=\"12\" text-anchor=\"start\" fill=\"blue\" alignment-baseline=\"central\" >input_1</text><text x=\"175.0\" y=\"12.5\" font-family=\"monospace\" font-size=\"15\" text-anchor=\"middle\" fill=\"black\" alignment-baseline=\"central\" >Activations for model</text></svg></g></svg>"
      ],
      "text/plain": [
       "<IPython.core.display.HTML object>"
      ]
     },
     "metadata": {},
     "output_type": "display_data"
    }
   ],
   "source": [
    "net.display([1,1,1])"
   ]
  },
  {
   "cell_type": "code",
   "execution_count": 34,
   "metadata": {},
   "outputs": [
    {
     "data": {
      "text/plain": [
       "array([[0.4544426 , 0.33684337]], dtype=float32)"
      ]
     },
     "execution_count": 34,
     "metadata": {},
     "output_type": "execute_result"
    }
   ],
   "source": [
    "net.predict_to([[1,1,1]],\"out\")"
   ]
  },
  {
   "cell_type": "code",
   "execution_count": 36,
   "metadata": {},
   "outputs": [
    {
     "data": {
      "image/png": "[encoded data removed]",
      "text/plain": [
       "<PIL.Image.Image image mode=RGBA size=250x25 at 0x7FA59C78E430>"
      ]
     },
     "execution_count": 36,
     "metadata": {},
     "output_type": "execute_result"
    }
   ],
   "source": [
    "net.predict_to([[1,1,1]],\"hid1\", format=\"image\")"
   ]
  },
  {
   "cell_type": "code",
   "execution_count": 37,
   "metadata": {},
   "outputs": [
    {
     "data": {
      "text/plain": [
       "array([[ 0.11981942,  0.13637786,  0.22321099, -0.36456242,  0.25506067,\n",
       "        -0.31501156,  0.6480239 ,  0.11845856, -0.02668676,  0.06081781]],\n",
       "      dtype=float32)"
      ]
     },
     "execution_count": 37,
     "metadata": {},
     "output_type": "execute_result"
    }
   ],
   "source": [
    "net.predict_to([[1,1,1]],\"hid1\")"
   ]
  },
  {
   "cell_type": "code",
   "execution_count": null,
   "metadata": {},
   "outputs": [],
   "source": []
  }
 ],
 "metadata": {
  "kernelspec": {
   "display_name": "Python 3",
   "language": "python",
   "name": "python3"
  },
  "language_info": {
   "codemirror_mode": {
    "name": "ipython",
    "version": 3
   },
   "file_extension": ".py",
   "mimetype": "text/x-python",
   "name": "python",
   "nbconvert_exporter": "python",
   "pygments_lexer": "ipython3",
   "version": "3.8.5"
  },
  "widgets": {
   "application/vnd.jupyter.widget-state+json": {
    "state": {
     "04c3dca101ce44acb89886311b5a54d8": {
      "model_module": "@jupyter-widgets/base",
      "model_module_version": "1.2.0",
      "model_name": "LayoutModel",
      "state": {}
     },
     "0b4eb2c6951e4fd890cb6ba2fe179b67": {
      "model_module": "@jupyter-widgets/controls",
      "model_module_version": "1.5.0",
      "model_name": "DescriptionStyleModel",
      "state": {
       "description_width": ""
      }
     },
     "11fdf808c1e344eb9a27783a2420bdef": {
      "model_module": "@jupyter-widgets/base",
      "model_module_version": "1.2.0",
      "model_name": "LayoutModel",
      "state": {}
     },
     "14ac09cf23794cd695a7a624948c9a21": {
      "model_module": "@jupyter-widgets/controls",
      "model_module_version": "1.5.0",
      "model_name": "ProgressStyleModel",
      "state": {
       "description_width": ""
      }
     },
     "16908f9ac2f54d5bbd313f9169559fa8": {
      "model_module": "@jupyter-widgets/base",
      "model_module_version": "1.2.0",
      "model_name": "LayoutModel",
      "state": {}
     },
     "1a5a33f4407b4933bff2588b3082344e": {
      "model_module": "@jupyter-widgets/base",
      "model_module_version": "1.2.0",
      "model_name": "LayoutModel",
      "state": {}
     },
     "23d7a693825245b787833650ca9188b4": {
      "model_module": "@jupyter-widgets/controls",
      "model_module_version": "1.5.0",
      "model_name": "DescriptionStyleModel",
      "state": {
       "description_width": ""
      }
     },
     "24e7e558cff84f8387bc60a6f2176ba4": {
      "model_module": "@jupyter-widgets/base",
      "model_module_version": "1.2.0",
      "model_name": "LayoutModel",
      "state": {}
     },
     "27985e6942454348b7d21d566f68e2df": {
      "model_module": "@jupyter-widgets/controls",
      "model_module_version": "1.5.0",
      "model_name": "DescriptionStyleModel",
      "state": {
       "description_width": ""
      }
     },
     "2cc0da93189c43c2b9ed233f42beb737": {
      "model_module": "@jupyter-widgets/base",
      "model_module_version": "1.2.0",
      "model_name": "LayoutModel",
      "state": {}
     },
     "2e62b3b6bc4445e38b5022089a1504f7": {
      "model_module": "@jupyter-widgets/controls",
      "model_module_version": "1.5.0",
      "model_name": "FloatProgressModel",
      "state": {
       "bar_style": "success",
       "layout": "IPY_MODEL_16908f9ac2f54d5bbd313f9169559fa8",
       "max": 300,
       "style": "IPY_MODEL_dbcbeb02fe46476eb4e6cd5eca6fedcc",
       "value": 300
      }
     },
     "2f3a911c16214cc8b531425906dc49cb": {
      "model_module": "@jupyter-widgets/base",
      "model_module_version": "1.2.0",
      "model_name": "LayoutModel",
      "state": {}
     },
     "3076f4a5496349e28934ecedeb200f5f": {
      "model_module": "@jupyter-widgets/controls",
      "model_module_version": "1.5.0",
      "model_name": "HTMLModel",
      "state": {
       "layout": "IPY_MODEL_5dab381da58e484299d20651cf1c3e94",
       "style": "IPY_MODEL_94063ef5a2a84e37bb1205ba399cffc5",
       "value": " 300/300 [00:12&lt;00:00, 25.59it/s]"
      }
     },
     "38b3d166646a468dbfafde2c8e5c594e": {
      "model_module": "@jupyter-widgets/controls",
      "model_module_version": "1.5.0",
      "model_name": "FloatProgressModel",
      "state": {
       "bar_style": "danger",
       "layout": "IPY_MODEL_824c860912754ba19ab31ca16deb6cf2",
       "max": 1200,
       "style": "IPY_MODEL_8280404f5b9d48c08768c8dbb079532e",
       "value": 235
      }
     },
     "3904efd544704c97922a9cdb50456f73": {
      "buffers": [
       {
        "data": "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",
        "encoding": "base64",
        "path": [
         "value"
        ]
       }
      ],
      "model_module": "@jupyter-widgets/controls",
      "model_module_version": "1.5.0",
      "model_name": "ImageModel",
      "state": {
       "layout": "IPY_MODEL_61197db3f30444d2a6a741d7815ca721"
      }
     },
     "3ae638e39e1149e197d62f6bfb046201": {
      "model_module": "@jupyter-widgets/controls",
      "model_module_version": "1.5.0",
      "model_name": "HTMLModel",
      "state": {
       "layout": "IPY_MODEL_2cc0da93189c43c2b9ed233f42beb737",
       "style": "IPY_MODEL_9a1262f0a5c34c6e97df1ef89aae9ece",
       "value": "100%"
      }
     },
     "3c61eb7607c04bf4acb008716d3b9369": {
      "model_module": "@jupyter-widgets/controls",
      "model_module_version": "1.5.0",
      "model_name": "ProgressStyleModel",
      "state": {
       "description_width": ""
      }
     },
     "46d8de9bf0cd4fbcad1893300c0ced0c": {
      "model_module": "@jupyter-widgets/base",
      "model_module_version": "1.2.0",
      "model_name": "LayoutModel",
      "state": {}
     },
     "499865eeddad4166ac32281d8ab8c58f": {
      "model_module": "@jupyter-widgets/controls",
      "model_module_version": "1.5.0",
      "model_name": "HTMLModel",
      "state": {
       "layout": "IPY_MODEL_9786ba28182648d1881ccc77ddc1a865",
       "style": "IPY_MODEL_63b648839faa44b7a2edb7035fa433f4",
       "value": " 300/300 [00:12&lt;00:00, 24.00it/s]"
      }
     },
     "55ecd24286064b3d97f9540e06abedf6": {
      "model_module": "@jupyter-widgets/controls",
      "model_module_version": "1.5.0",
      "model_name": "HBoxModel",
      "state": {
       "children": [
        "IPY_MODEL_a4f2d966df794554b51cf90b80efb016",
        "IPY_MODEL_84297d5777e5480cb834e2e00387e8a1",
        "IPY_MODEL_77c90abb33bf4e7ba503bd37f1c6d5a4"
       ],
       "layout": "IPY_MODEL_1a5a33f4407b4933bff2588b3082344e"
      }
     },
     "5dab381da58e484299d20651cf1c3e94": {
      "model_module": "@jupyter-widgets/base",
      "model_module_version": "1.2.0",
      "model_name": "LayoutModel",
      "state": {}
     },
     "61197db3f30444d2a6a741d7815ca721": {
      "model_module": "@jupyter-widgets/base",
      "model_module_version": "1.2.0",
      "model_name": "LayoutModel",
      "state": {
       "margin": "auto"
      }
     },
     "63b648839faa44b7a2edb7035fa433f4": {
      "model_module": "@jupyter-widgets/controls",
      "model_module_version": "1.5.0",
      "model_name": "DescriptionStyleModel",
      "state": {
       "description_width": ""
      }
     },
     "6790d6f2949a44ecba15b6f8a129f493": {
      "model_module": "@jupyter-widgets/controls",
      "model_module_version": "1.5.0",
      "model_name": "HBoxModel",
      "state": {
       "children": [
        "IPY_MODEL_ebd873f381b84712a1b7bc04b66bd005",
        "IPY_MODEL_91ad14fff671444db9b06591c45fd424",
        "IPY_MODEL_cffbc09991c24d43a784da4ed84d8ac6"
       ],
       "layout": "IPY_MODEL_d0a8e9e67a004ff3841c9cb23d20474c"
      }
     },
     "6dc25e46021a4f5b86d9abad2521dea6": {
      "model_module": "@jupyter-widgets/controls",
      "model_module_version": "1.5.0",
      "model_name": "FloatProgressModel",
      "state": {
       "bar_style": "success",
       "layout": "IPY_MODEL_04c3dca101ce44acb89886311b5a54d8",
       "max": 300,
       "style": "IPY_MODEL_3c61eb7607c04bf4acb008716d3b9369",
       "value": 300
      }
     },
     "74f97ac964bf435ebae4cbb8d4e6147f": {
      "model_module": "@jupyter-widgets/controls",
      "model_module_version": "1.5.0",
      "model_name": "DescriptionStyleModel",
      "state": {
       "description_width": ""
      }
     },
     "77c90abb33bf4e7ba503bd37f1c6d5a4": {
      "model_module": "@jupyter-widgets/controls",
      "model_module_version": "1.5.0",
      "model_name": "HTMLModel",
      "state": {
       "layout": "IPY_MODEL_cd35c0370ca541839adeac1d24d63e7e",
       "style": "IPY_MODEL_ed730410799f4608a11bd48f0fd067ec",
       "value": " 300/300 [00:12&lt;00:00, 25.23it/s]"
      }
     },
     "7978901efcfb4351a632e7ad0f5e4d21": {
      "model_module": "@jupyter-widgets/base",
      "model_module_version": "1.2.0",
      "model_name": "LayoutModel",
      "state": {}
     },
     "824c860912754ba19ab31ca16deb6cf2": {
      "model_module": "@jupyter-widgets/base",
      "model_module_version": "1.2.0",
      "model_name": "LayoutModel",
      "state": {}
     },
     "8280404f5b9d48c08768c8dbb079532e": {
      "model_module": "@jupyter-widgets/controls",
      "model_module_version": "1.5.0",
      "model_name": "ProgressStyleModel",
      "state": {
       "description_width": ""
      }
     },
     "84297d5777e5480cb834e2e00387e8a1": {
      "model_module": "@jupyter-widgets/controls",
      "model_module_version": "1.5.0",
      "model_name": "FloatProgressModel",
      "state": {
       "bar_style": "success",
       "layout": "IPY_MODEL_b82c85df49ca4b6ea70695ffd128e172",
       "max": 300,
       "style": "IPY_MODEL_a3c573e62f884e4b865037d49e9b1cd6",
       "value": 300
      }
     },
     "90059a513e7e4fafb681ea937c01d884": {
      "model_module": "@jupyter-widgets/base",
      "model_module_version": "1.2.0",
      "model_name": "LayoutModel",
      "state": {}
     },
     "91ad14fff671444db9b06591c45fd424": {
      "model_module": "@jupyter-widgets/controls",
      "model_module_version": "1.5.0",
      "model_name": "FloatProgressModel",
      "state": {
       "bar_style": "success",
       "layout": "IPY_MODEL_24e7e558cff84f8387bc60a6f2176ba4",
       "max": 300,
       "style": "IPY_MODEL_14ac09cf23794cd695a7a624948c9a21",
       "value": 300
      }
     },
     "94063ef5a2a84e37bb1205ba399cffc5": {
      "model_module": "@jupyter-widgets/controls",
      "model_module_version": "1.5.0",
      "model_name": "DescriptionStyleModel",
      "state": {
       "description_width": ""
      }
     },
     "9786ba28182648d1881ccc77ddc1a865": {
      "model_module": "@jupyter-widgets/base",
      "model_module_version": "1.2.0",
      "model_name": "LayoutModel",
      "state": {}
     },
     "9a1262f0a5c34c6e97df1ef89aae9ece": {
      "model_module": "@jupyter-widgets/controls",
      "model_module_version": "1.5.0",
      "model_name": "DescriptionStyleModel",
      "state": {
       "description_width": ""
      }
     },
     "9c5d9caea3004f8bad335ea527fb074c": {
      "model_module": "@jupyter-widgets/base",
      "model_module_version": "1.2.0",
      "model_name": "LayoutModel",
      "state": {}
     },
     "9ca82d7f105c495b82b06c2b4a5895c3": {
      "model_module": "@jupyter-widgets/controls",
      "model_module_version": "1.5.0",
      "model_name": "HBoxModel",
      "state": {
       "children": [
        "IPY_MODEL_eb1399ebb81f495cb936ac10d6f47dfd",
        "IPY_MODEL_2e62b3b6bc4445e38b5022089a1504f7",
        "IPY_MODEL_499865eeddad4166ac32281d8ab8c58f"
       ],
       "layout": "IPY_MODEL_d06918617be647c58006dccafae5262f"
      }
     },
     "a3c573e62f884e4b865037d49e9b1cd6": {
      "model_module": "@jupyter-widgets/controls",
      "model_module_version": "1.5.0",
      "model_name": "ProgressStyleModel",
      "state": {
       "description_width": ""
      }
     },
     "a4f2d966df794554b51cf90b80efb016": {
      "model_module": "@jupyter-widgets/controls",
      "model_module_version": "1.5.0",
      "model_name": "HTMLModel",
      "state": {
       "layout": "IPY_MODEL_7978901efcfb4351a632e7ad0f5e4d21",
       "style": "IPY_MODEL_74f97ac964bf435ebae4cbb8d4e6147f",
       "value": "100%"
      }
     },
     "a96a0c37f014460fa7a373d5b5e75512": {
      "model_module": "@jupyter-widgets/controls",
      "model_module_version": "1.5.0",
      "model_name": "DescriptionStyleModel",
      "state": {
       "description_width": ""
      }
     },
     "ad7e84e682ae436eaf34db17808fc570": {
      "model_module": "@jupyter-widgets/base",
      "model_module_version": "1.2.0",
      "model_name": "LayoutModel",
      "state": {}
     },
     "b2cbbf5595b04dc291714bd93e06a227": {
      "model_module": "@jupyter-widgets/controls",
      "model_module_version": "1.5.0",
      "model_name": "DescriptionStyleModel",
      "state": {
       "description_width": ""
      }
     },
     "b82c85df49ca4b6ea70695ffd128e172": {
      "model_module": "@jupyter-widgets/base",
      "model_module_version": "1.2.0",
      "model_name": "LayoutModel",
      "state": {}
     },
     "bba2918c25d7463a98c2797e2c65ecb5": {
      "model_module": "@jupyter-widgets/controls",
      "model_module_version": "1.5.0",
      "model_name": "HBoxModel",
      "state": {
       "children": [
        "IPY_MODEL_3ae638e39e1149e197d62f6bfb046201",
        "IPY_MODEL_6dc25e46021a4f5b86d9abad2521dea6",
        "IPY_MODEL_3076f4a5496349e28934ecedeb200f5f"
       ],
       "layout": "IPY_MODEL_fee9e79e95724fc4897d11f992e4cbd3"
      }
     },
     "c1e307a3743b4ed1aa5c93988ccbef34": {
      "model_module": "@jupyter-widgets/controls",
      "model_module_version": "1.5.0",
      "model_name": "HTMLModel",
      "state": {
       "layout": "IPY_MODEL_90059a513e7e4fafb681ea937c01d884",
       "style": "IPY_MODEL_a96a0c37f014460fa7a373d5b5e75512",
       "value": " 20%"
      }
     },
     "cd35c0370ca541839adeac1d24d63e7e": {
      "model_module": "@jupyter-widgets/base",
      "model_module_version": "1.2.0",
      "model_name": "LayoutModel",
      "state": {}
     },
     "cffbc09991c24d43a784da4ed84d8ac6": {
      "model_module": "@jupyter-widgets/controls",
      "model_module_version": "1.5.0",
      "model_name": "HTMLModel",
      "state": {
       "layout": "IPY_MODEL_46d8de9bf0cd4fbcad1893300c0ced0c",
       "style": "IPY_MODEL_b2cbbf5595b04dc291714bd93e06a227",
       "value": " 300/300 [00:12&lt;00:00, 24.53it/s]"
      }
     },
     "d06918617be647c58006dccafae5262f": {
      "model_module": "@jupyter-widgets/base",
      "model_module_version": "1.2.0",
      "model_name": "LayoutModel",
      "state": {}
     },
     "d0a8e9e67a004ff3841c9cb23d20474c": {
      "model_module": "@jupyter-widgets/base",
      "model_module_version": "1.2.0",
      "model_name": "LayoutModel",
      "state": {}
     },
     "dbcbeb02fe46476eb4e6cd5eca6fedcc": {
      "model_module": "@jupyter-widgets/controls",
      "model_module_version": "1.5.0",
      "model_name": "ProgressStyleModel",
      "state": {
       "description_width": ""
      }
     },
     "eb1399ebb81f495cb936ac10d6f47dfd": {
      "model_module": "@jupyter-widgets/controls",
      "model_module_version": "1.5.0",
      "model_name": "HTMLModel",
      "state": {
       "layout": "IPY_MODEL_11fdf808c1e344eb9a27783a2420bdef",
       "style": "IPY_MODEL_0b4eb2c6951e4fd890cb6ba2fe179b67",
       "value": "100%"
      }
     },
     "ebd873f381b84712a1b7bc04b66bd005": {
      "model_module": "@jupyter-widgets/controls",
      "model_module_version": "1.5.0",
      "model_name": "HTMLModel",
      "state": {
       "layout": "IPY_MODEL_2f3a911c16214cc8b531425906dc49cb",
       "style": "IPY_MODEL_23d7a693825245b787833650ca9188b4",
       "value": "100%"
      }
     },
     "ed730410799f4608a11bd48f0fd067ec": {
      "model_module": "@jupyter-widgets/controls",
      "model_module_version": "1.5.0",
      "model_name": "DescriptionStyleModel",
      "state": {
       "description_width": ""
      }
     },
     "f40c86e8f43b4b52a001d9dc4d7a82ef": {
      "model_module": "@jupyter-widgets/controls",
      "model_module_version": "1.5.0",
      "model_name": "HBoxModel",
      "state": {
       "children": [
        "IPY_MODEL_c1e307a3743b4ed1aa5c93988ccbef34",
        "IPY_MODEL_38b3d166646a468dbfafde2c8e5c594e",
        "IPY_MODEL_f6ad8b8d4b85458ca376fbd6ace4d655"
       ],
       "layout": "IPY_MODEL_9c5d9caea3004f8bad335ea527fb074c"
      }
     },
     "f6ad8b8d4b85458ca376fbd6ace4d655": {
      "model_module": "@jupyter-widgets/controls",
      "model_module_version": "1.5.0",
      "model_name": "HTMLModel",
      "state": {
       "layout": "IPY_MODEL_ad7e84e682ae436eaf34db17808fc570",
       "style": "IPY_MODEL_27985e6942454348b7d21d566f68e2df",
       "value": " 235/1200 [00:09&lt;00:38, 25.19it/s]"
      }
     },
     "fee9e79e95724fc4897d11f992e4cbd3": {
      "model_module": "@jupyter-widgets/base",
      "model_module_version": "1.2.0",
      "model_name": "LayoutModel",
      "state": {}
     }
    },
    "version_major": 2,
    "version_minor": 0
   }
  }
 },
 "nbformat": 4,
 "nbformat_minor": 4
}