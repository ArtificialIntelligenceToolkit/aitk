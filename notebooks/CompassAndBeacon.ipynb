{
 "cells": [
  {
   "cell_type": "markdown",
   "metadata": {},
   "source": "<a target=\"_blank\" href=\"https://colab.research.google.com/github/ArtificialIntelligenceToolkit/aitk/blob/master/notebooks/CompassAndBeacon.ipynb\"><img src=\"https://colab.research.google.com/assets/colab-badge.svg\" alt=\"Open In Colab\"/></a>"
  },
  {
   "cell_type": "code",
   "execution_count": null,
   "metadata": {
    "id": "AQMTpw5e_0cx"
   },
   "outputs": [],
   "source": [
    "%pip install aitk --upgrade --quiet"
   ]
  },
  {
   "cell_type": "code",
   "execution_count": 1,
   "id": "277dbca5-f69c-4f77-a618-ac7dd3cb6162",
   "metadata": {},
   "outputs": [],
   "source": [
    "from aitk.robots import World, load_world, Scribbler, Beacon, Compass"
   ]
  },
  {
   "cell_type": "code",
   "execution_count": 2,
   "id": "af1c3e53-7b2d-41be-bd3f-7320bc3208ac",
   "metadata": {},
   "outputs": [
    {
     "name": "stdout",
     "output_type": "stream",
     "text": [
      "Random seed set to: 1124080\n"
     ]
    }
   ],
   "source": [
    "w = World(200, 200)"
   ]
  },
  {
   "cell_type": "code",
   "execution_count": 3,
   "id": "13016302-8c89-42b2-be36-987a13c04943",
   "metadata": {
    "tags": []
   },
   "outputs": [
    {
     "data": {
      "application/vnd.jupyter.widget-view+json": {
       "model_id": "9163e39f2b8a44eaa97d8d75307e13bd",
       "version_major": 2,
       "version_minor": 0
      },
      "text/plain": [
       "Image(value=b'\\xff\\xd8\\xff\\xe0\\x00\\x10JFIF\\x00\\x01\\x01\\x00\\x00\\x01\\x00\\x01\\x00\\x00\\xff\\xdb\\x00C\\x00\\x08\\x06\\x0\u2026"
      ]
     },
     "metadata": {},
     "output_type": "display_data"
    }
   ],
   "source": [
    "w.watch()"
   ]
  },
  {
   "cell_type": "code",
   "execution_count": 4,
   "id": "6b7a8e2c-322f-47ce-83c2-edb1efae1de1",
   "metadata": {},
   "outputs": [],
   "source": [
    "w.add_beacon(100, 100, 0)"
   ]
  },
  {
   "cell_type": "code",
   "execution_count": 5,
   "id": "b2f1175c-f0db-4e52-a30d-88b6ccf24ef8",
   "metadata": {},
   "outputs": [],
   "source": [
    "robot = Scribbler()"
   ]
  },
  {
   "cell_type": "code",
   "execution_count": 6,
   "id": "7ae2ca02-4439-4dc7-9b54-5f1d5ec07d7e",
   "metadata": {},
   "outputs": [],
   "source": [
    "w.add_robot(robot)"
   ]
  },
  {
   "cell_type": "code",
   "execution_count": 7,
   "id": "81e5ea6b-3da7-4342-ab59-2c17fa31c621",
   "metadata": {},
   "outputs": [],
   "source": [
    "robot.add_device(Compass())"
   ]
  },
  {
   "cell_type": "code",
   "execution_count": 8,
   "id": "f7148db0-1aa3-4b58-b9a9-ae9564aa042b",
   "metadata": {},
   "outputs": [
    {
     "data": {
      "application/vnd.jupyter.widget-view+json": {
       "model_id": "c5c08fa6fa824a30b0cbc880eb98a542",
       "version_major": 2,
       "version_minor": 0
      },
      "text/plain": [
       "VBox(children=(Label(value='Compass:'), Text(value='compass', description='Name:', layout=Layout(display='flex\u2026"
      ]
     },
     "metadata": {},
     "output_type": "display_data"
    }
   ],
   "source": [
    "robot[0].watch()"
   ]
  },
  {
   "cell_type": "code",
   "execution_count": 9,
   "id": "54d6a440-debc-4232-b18b-faf868b348b3",
   "metadata": {},
   "outputs": [
    {
     "name": "stdout",
     "output_type": "stream",
     "text": [
      "This world is not running\n"
     ]
    }
   ],
   "source": [
    "import random\n",
    "\n",
    "robot.move(1,0)\n",
    "def wander(robot):\n",
    "    if robot.stalled:\n",
    "        robot.reverse()\n",
    "    else:\n",
    "        robot.rotate(random.random())"
   ]
  },
  {
   "cell_type": "code",
   "execution_count": 10,
   "id": "3433c226-ba05-40b8-8f23-942ea622a3b0",
   "metadata": {},
   "outputs": [
    {
     "data": {
      "application/vnd.jupyter.widget-view+json": {
       "model_id": "fffbf0e2fbc346e0938240cb9ac34eea",
       "version_major": 2,
       "version_minor": 0
      },
      "text/plain": [
       "0it [00:00, ?it/s]"
      ]
     },
     "metadata": {},
     "output_type": "display_data"
    },
    {
     "name": "stdout",
     "output_type": "stream",
     "text": [
      "Simulation stopped at: 00:01:26.7; speed 0.99 x real time\n"
     ]
    }
   ],
   "source": [
    "w.run([wander])"
   ]
  },
  {
   "cell_type": "code",
   "execution_count": null,
   "id": "29b89841-b6c0-4a2a-b841-757a872aca5c",
   "metadata": {},
   "outputs": [],
   "source": []
  }
 ],
 "metadata": {
  "kernelspec": {
   "display_name": "Python 3",
   "language": "python",
   "name": "python3"
  },
  "language_info": {
   "codemirror_mode": {
    "name": "ipython",
    "version": 3
   },
   "file_extension": ".py",
   "mimetype": "text/x-python",
   "name": "python",
   "nbconvert_exporter": "python",
   "pygments_lexer": "ipython3",
   "version": "3.8.5"
  },
  "widgets": {
   "application/vnd.jupyter.widget-state+json": {
    "state": {
     "0998dd19c0e44cffb5c22e59b7ca2f43": {
      "model_module": "@jupyter-widgets/controls",
      "model_module_version": "1.5.0",
      "model_name": "TextModel",
      "state": {
       "description": "Values:",
       "layout": "IPY_MODEL_730343058ed146c6a69de261a16b3d18",
       "style": "IPY_MODEL_bf4af3c456974af39ccecaf9dad8afc9",
       "value": "[0, 1, 0, 0]"
      }
     },
     "10653e9d29904d16a63880a4c491178b": {
      "model_module": "@jupyter-widgets/controls",
      "model_module_version": "1.5.0",
      "model_name": "DescriptionStyleModel",
      "state": {
       "description_width": ""
      }
     },
     "18bbeec0e23042cdbc6e122889d76e6e": {
      "model_module": "@jupyter-widgets/controls",
      "model_module_version": "1.5.0",
      "model_name": "LabelModel",
      "state": {
       "layout": "IPY_MODEL_4a8cd9dc5683496483668349200d71a8",
       "style": "IPY_MODEL_ddf3b41fd2b64f00998315960b9e79c8",
       "value": "Compass:"
      }
     },
     "1f67dc57db76482784e3a7f225248f66": {
      "model_module": "@jupyter-widgets/base",
      "model_module_version": "1.2.0",
      "model_name": "LayoutModel",
      "state": {
       "border": "10px solid rgb(0 177 255)",
       "margin": "auto"
      }
     },
     "2446beee2b1747c19a011a935ea7b49b": {
      "model_module": "@jupyter-widgets/base",
      "model_module_version": "1.2.0",
      "model_name": "LayoutModel",
      "state": {}
     },
     "2c5830832ee74997a30a224049b38e07": {
      "model_module": "@jupyter-widgets/base",
      "model_module_version": "1.2.0",
      "model_name": "LayoutModel",
      "state": {
       "width": "20px"
      }
     },
     "41146e473f194551bb8b92d70cbb2d6b": {
      "model_module": "@jupyter-widgets/base",
      "model_module_version": "1.2.0",
      "model_name": "LayoutModel",
      "state": {}
     },
     "4945a89862574c91a99667439fbe0705": {
      "model_module": "@jupyter-widgets/controls",
      "model_module_version": "1.5.0",
      "model_name": "ProgressStyleModel",
      "state": {
       "description_width": ""
      }
     },
     "4a8cd9dc5683496483668349200d71a8": {
      "model_module": "@jupyter-widgets/base",
      "model_module_version": "1.2.0",
      "model_name": "LayoutModel",
      "state": {}
     },
     "686cf6d791fa4587ba09144f85b3e603": {
      "model_module": "@jupyter-widgets/controls",
      "model_module_version": "1.5.0",
      "model_name": "FloatProgressModel",
      "state": {
       "bar_style": "danger",
       "layout": "IPY_MODEL_2c5830832ee74997a30a224049b38e07",
       "max": 1,
       "style": "IPY_MODEL_4945a89862574c91a99667439fbe0705",
       "value": 1
      }
     },
     "6b2ac5907de24f6cae09447092cad52d": {
      "model_module": "@jupyter-widgets/base",
      "model_module_version": "1.2.0",
      "model_name": "LayoutModel",
      "state": {
       "display": "flex"
      }
     },
     "730343058ed146c6a69de261a16b3d18": {
      "model_module": "@jupyter-widgets/base",
      "model_module_version": "1.2.0",
      "model_name": "LayoutModel",
      "state": {
       "display": "flex"
      }
     },
     "74eeb9bebf2d41ad95128e2a4960c9f8": {
      "model_module": "@jupyter-widgets/base",
      "model_module_version": "1.2.0",
      "model_name": "LayoutModel",
      "state": {}
     },
     "767b1fa8536d4b66af2e4b565e8e4d0a": {
      "model_module": "@jupyter-widgets/controls",
      "model_module_version": "1.5.0",
      "model_name": "TextModel",
      "state": {
       "description": "Compass:",
       "layout": "IPY_MODEL_b3c0b54dfa7643a3a1a919b390b41a0c",
       "style": "IPY_MODEL_ec2b126056da4499a12248e8b17e6499",
       "value": "1.3560748455933131"
      }
     },
     "7dd0c378ebae44d48780a5f04484de92": {
      "model_module": "@jupyter-widgets/controls",
      "model_module_version": "1.5.0",
      "model_name": "DescriptionStyleModel",
      "state": {
       "description_width": ""
      }
     },
     "8bf1c1fc5e07479aa707267101608082": {
      "model_module": "@jupyter-widgets/controls",
      "model_module_version": "1.5.0",
      "model_name": "HTMLModel",
      "state": {
       "layout": "IPY_MODEL_41146e473f194551bb8b92d70cbb2d6b",
       "style": "IPY_MODEL_7dd0c378ebae44d48780a5f04484de92"
      }
     },
     "8da1688db5c540238120854e27a847e7": {
      "model_module": "@jupyter-widgets/controls",
      "model_module_version": "1.5.0",
      "model_name": "DescriptionStyleModel",
      "state": {
       "description_width": ""
      }
     },
     "9163e39f2b8a44eaa97d8d75307e13bd": {
      "buffers": [
       {
        "data": "/9j/4AAQSkZJRgABAQAAAQABAAD/2wBDAAgGBgcGBQgHBwcJCQgKDBQNDAsLDBkSEw8UHRofHh0aHBwgJC4nICIsIxwcKDcpLDAxNDQ0Hyc5PTgyPC4zNDL/2wBDAQkJCQwLDBgNDRgyIRwhMjIyMjIyMjIyMjIyMjIyMjIyMjIyMjIyMjIyMjIyMjIyMjIyMjIyMjIyMjIyMjIyMjL/wAARCAKCAlgDASIAAhEBAxEB/8QAHwAAAQUBAQEBAQEAAAAAAAAAAAECAwQFBgcICQoL/8QAtRAAAgEDAwIEAwUFBAQAAAF9AQIDAAQRBRIhMUEGE1FhByJxFDKBkaEII0KxwRVS0fAkM2JyggkKFhcYGRolJicoKSo0NTY3ODk6Q0RFRkdISUpTVFVWV1hZWmNkZWZnaGlqc3R1dnd4eXqDhIWGh4iJipKTlJWWl5iZmqKjpKWmp6ipqrKztLW2t7i5usLDxMXGx8jJytLT1NXW19jZ2uHi4+Tl5ufo6erx8vP09fb3+Pn6/8QAHwEAAwEBAQEBAQEBAQAAAAAAAAECAwQFBgcICQoL/8QAtREAAgECBAQDBAcFBAQAAQJ3AAECAxEEBSExBhJBUQdhcRMiMoEIFEKRobHBCSMzUvAVYnLRChYkNOEl8RcYGRomJygpKjU2Nzg5OkNERUZHSElKU1RVVldYWVpjZGVmZ2hpanN0dXZ3eHl6goOEhYaHiImKkpOUlZaXmJmaoqOkpaanqKmqsrO0tba3uLm6wsPExcbHyMnK0tPU1dbX2Nna4uPk5ebn6Onq8vP09fb3+Pn6/9oADAMBAAIRAxEAPwDzeKJpWKqQDjPNS/Y5P7y/nRZ/64/7tXqrM8zxGGxDp02rWXQvOc5xWExTpUmrWT1V9yj9jk/vL+dH2OT+8v51eorz/wC3MZ3X3f8ABPK/1kx/df8AgK/zKP2OT+8v50fY5P7y/nV6ij+3MZ3X3f8ABD/WTH91/wCAr/Mo/Y5P7y/nR9jk/vL+dXqKP7cxndfd/wAEP9ZMf3X/AICv8yj9jk/vL+dH2OT+8v51eoo/tzGd193/AAQ/1kx/df8AgK/zKP2OT+8v50fY5P7y/nV6ij+3MZ3X3f8ABD/WTH91/wCAr/Mo/Y5P7y/nR9jk/vL+dXqKP7cxndfd/wAEP9ZMf3X/AICv8yj9jk/vL+dH2OT+8v51eoo/tzGd193/AAQ/1kx/df8AgK/zKP2OT+8v50fY5P7y/nV6ij+3MZ3X3f8ABD/WTH91/wCAr/Mo/Y5P7y/nR9jk/vL+dXqKP7cxndfd/wAEP9ZMf3X/AICv8yj9jk/vL+dH2OT+8v51eoo/tzGd193/AAQ/1kx/df8AgK/zKP2OT+8v50fY5P7y/nV6ij+3MZ3X3f8ABD/WTH91/wCAr/Mo/Y5P7y/nR9jk/vL+dXqKP7cxndfd/wAEP9ZMf3X/AICv8yj9jk/vL+dH2OT+8v51eoo/tzGd193/AAQ/1kx/df8AgK/zKP2OT+8v50fY5P7y/nV6ij+3MZ3X3f8ABD/WTH91/wCAr/Mo/Y5P7y/nR9jk/vL+dXqKP7cxndfd/wAEP9ZMf3X/AICv8yj9jk/vL+dH2OT+8v51eoo/tzGd193/AAQ/1kx/df8AgK/zKP2OT+8v50fY5P7y/nV6ij+3MZ3X3f8ABD/WTH91/wCAr/Mo/Y5P7y/nR9jk/vL+dXqKP7cxndfd/wAEP9ZMf3X/AICv8yj9jk/vL+dH2OT+8v51eoo/tzGd193/AAQ/1kx/df8AgK/zKP2OT+8v50fY5P7y/nV6ij+3MZ3X3f8ABD/WTH91/wCAr/Mo/Y5P7y/nR9jk/vL+dXqKP7cxndfd/wAEP9ZMf3X/AICv8yj9jk/vL+dH2OT+8v51eoo/tzGd193/AAQ/1kx/df8AgK/zKP2OT+8v50fY5P7y/nV6ij+3MZ3X3f8ABD/WTH91/wCAr/Mo/Y5P7y/nR9jk/vL+dXqKP7cxndfd/wAEP9ZMf3X/AICv8yj9jk/vL+dH2OT+8v51eoo/tzGd193/AAQ/1kx/df8AgK/zKP2OT+8v50fY5P7y/nV6ij+3MZ3X3f8ABD/WTH91/wCAr/Mo/Y5P7y/nR9jk/vL+dXqKP7cxndfd/wAEP9ZMf3X/AICv8yj9jk/vL+dH2OT+8v51eoo/tzGd193/AAQ/1kx/df8AgK/zKP2OT+8v50fY5P7y/nV6ij+3MZ3X3f8ABD/WTH91/wCAr/Mo/Y5P7y/nR9jk/vL+dXqKP7cxndfd/wAEP9ZMf3X/AICv8yj9jk/vL+dH2OT+8v51eoo/tzGd193/AAQ/1kx/df8AgK/zKP2OT+8v50fY5P7y/nV6ij+3MZ3X3f8ABD/WTH91/wCAr/Mo/Y5P7y/nR9jk/vL+dXqKP7cxndfd/wAEP9ZMf3X/AICv8yj9jk/vL+dH2OT+8v51eoo/tzGd193/AAQ/1kx/df8AgK/zKP2OT+8v50fY5P7y/nV6ij+3MZ3X3f8ABD/WTH91/wCAr/Mo/Y5P7y/nR9jk/vL+dXqKP7cxndfd/wAEP9ZMf3X/AICv8zNlhaHG4g59KKnvf+Wf4/0or6fL686+GjUnu7/mfZZViamJwkK1Td38urQyz/1x/wB2r1UbP/XH/dq9XzGef74/RfqfG8Sf7+/SP5MKKKK8g8EKKKKACiiigAooooAKKKKACiiigAooooAKKKKACiiigAooooAKKKKACiiigAooooAKKKKACiiigAooooAKKKKACiiigAooooAKKKKACiiigAooooAKKKKACiiigAooooAKKKKACiiigAooooAKKKKACiiigAooooAKKKKACiiigAooooAKKKKACiiigCpe/wDLP8f6UUXv/LP8f6UV9xk/+5Q+f5s/SMg/5F9P5/mxln/rj/u1eqjZ/wCuP+7V6vns8/3x+i/U+V4k/wB/fpH8mFFFFeQeCFFFFABRRRQAUUUUAFFFFABRRRQAUUUUAFFFFABRRRQAUUUUAFFFFABRRRQAUUUUAFFFFABRRRQAUUUUAFFFFABRRRQAUUUUAFFFFABRRRQAUUUUAFFFFABRRRQAUUUUAFFFFABRRRQAUUUUAFFFFABRRRQAUUUUAFFFFABRRRQAUUUUAFFFFABRRRQBUvf+Wf4/0oovf+Wf4/0or7jJ/wDcofP82fpGQf8AIvp/P82Ms/8AXH/dq9VGz/1x/wB2r1fPZ5/vj9F+p8rxJ/v79I/kwoooryDwQooooAKKKKACiiigAooooAKKKKACiiigAooooAKKKKACiiigAooooAKKKKACiiigAooooAKKKKACiiigAooooAKKKKACiiigAooooAKKKKACiiigAooooAKKKKACiiigAooooAKKKKACiiigAooooAKKKKACiiigAooooAKKKKACiiigAooooAKKKKAKl7/yz/H+lFF7/wAs/wAf6UV9xk/+5Q+f5s/SMg/5F9P5/mxln/rj/u1eqjZ/64/7tXq+ezz/AHx+i/U+V4k/39+kfyYUUUV5B4IUUUUAFFFFABRRRQAUUUUAFFFFABRRRQAUUUUAFFFFABRRRQAUUUUAFFFFABRRRQAUUUUAFFFFABRRRQAUUUUAFFFFABRRRQAUUUUAFFFFABRRRQAUUUUAFFFFABRRRQAUUUUAFFFFABRRRQAUUUUAFFFFABRRRQAUUUUAFFFFABRRRQAUUUUAFFFFAFS9/wCWf4/0oovf+Wf4/wBKK+4yf/cofP8ANn6RkH/Ivp/P82Ms/wDXH/dq9VGz/wBcf92r1fPZ5/vj9F+p8rxJ/v79I/kwoooryDwQooooAKKKKACiiigAooooAKKRSXkEcal2PGFrRh0aeQAyyCMHsoyf1qlBsuNOT1M4sFGSQB71LDbXFwcRRE46lvlFbtvpltb8hNz/AN5jn/Iq4AAAAMAdq0VNLc1VKK3MFNFuiilpolYjkbTx+tL/AGJc/wDPeL/vk1u0U+WPYvkj2ML+xLn/AJ7xf98mnf2Fc+U0nnxnaQMBTznP+FbdSN/x7J/vt/JaajHsChHscpLZXUAzJCcdSUOcVBuG7bnDeh4P5V11RTW0E4IliVs9cjrUuCZLpRexy9FbE+iRlD9ndkf3PH/1qyZoZrRtsynb/fxj8/8AGodNrVGcqUkrrUbRQDkZHSioMgooooAKKKKACiiigAooooAKKKKACiiigAooooAKKKKACiiigAooooAKKKKACiiigAooooAKKKKACiiigAooooAKKKKACiiigAooooAKKKKACiiigAooooAKKKKACiiigCpe/wDLP8f6UUXv/LP8f6UV9xk/+5Q+f5s/SMg/5F9P5/mxln/rj/u1eqjZ/wCuP+7V6vns8/3x+i/U+V4k/wB/fpH8mFFFFeQeCFFFFABRRRQAUUU13CLk/p3oBK44nAyelPtraW9fbHlUP8RHJ+n+NWbLTHuX3zqVj7L/AJ61vRRLEgRBgfzraMLas6IUktZENpZR2sSqqjcO/p9Ks0Ux5QpwOT6Cr1Z10MPVxM+SlG7/AK+SXqPoqP8AeN6KPzNMcRp1yze5p2O2jlqqVPZOd5dorm+93UV97JDKg75PoKQyntGx+opFVyOyD2HNKYgerMfqaeiOv2WW4efLUfNbfVy/9ItH8X6iea3/ADyNSyStsh/dt9z/ANmNRiEDozD6GpZ1cOMPn5F4I/2RRoVKeWSdqcY/P2i/WSI/NGcEFfqKeCCMg5qIyFeHTj1FL5asMoce4pWOetgqUYqc04J7ST54P5qzX9aElMliSZdrjPoe4pgd4+HBI9alBDDIOaLNHHisDVw1pvWL2ktU/n09HZmDeaTJBmS35Tn5P1/Dv7VQDZYqeGHVT1rrqzr/AEyK5jLKCrLyNvH5VDipHBKCn5Mw6KQZVzG/319sZHrS1g007M5mmnZhRRRQIKKKKACiiigAooooAKKKKACiiigAooooAKKKKACiiigAooooAKKKKACiiigAooooAKKKKACiiigAooooAKKKKACiiigAooooAKKKKACiiigAooooAKKKKAKl7/yz/H+lFF7/AMs/x/pRX3GT/wC5Q+f5s/SMg/5F9P5/mxln/rj/ALtXqo2f+uP+7V6vns8/3x+i/U+V4k/39+kfyYUUUV5B4IUUUUAFFFFABVnTbU3c/mHPlr0IP5n+lVQjTSLCvJbrjsK6e1gW3gVQoDY5x/Ktacbe8dFGNveZMqhVCqAABgAdqXpRULkyPsHAHWtErno4LCPEzab5YxV5Psv8+3mDSM52x/iaekap7n1pyqFGBS02+iNsTjlyfV8KuWn+MvOT/TZEcsmwcdTRHHt+ZuWNIvzzMT0XgVLQ9FY2xNX6ph44SlpKSTm+rurqPola/dsKKKKR4wVJcf8AHzL/AL5/nRb/APHzF/vj+dR0D6AQCMEZqFlMXzIeO4NTUEZGDTTsduCxs8NOz1g/ii9U16d+zGgh0Bxwe1RMphbcvK9xQuYpNvJU9KnIyMGnsd8p/wBn1rR9+hUV7dHF/lKO197r7kBDAEd6WoAfJkwc7TU9Jqxw4/BrDzUoO9OWsX5dvVbMy9VsPOTzYlAdec+n+e9YoJOQVKsDgg9q66sLVNP8km4h/FfX2/wqJR5l5nnzhzrzM+ikVgygg5BpawOQKKKKACiiigAooooAKKKKACiiigAooooAKKKKACiiigAooooAKKKKACiiigAooooAKKKKACiiigAooooAKKKKACiiigAooooAKKKKACiiigAooooAKKKKAKl7/wAs/wAf6UUXv/LP8f6UV9xk/wDuUPn+bP0jIP8AkX0/n+bGWf8Arj/u1eqjZ/64/wC7V6vns8/3x+i/U+V4k/39+kfyYUUUV5B4IUUUUAFIx2qSegGaWlRTJNGgBJLA8D05/wDrfjTiruxUVzNI1dGtAI/tDjLMe4xz/wDWrXpqLsjVM52gDNOroZ1vyEdtqk+lMhXame5olySq9ieak6U+h6UpewwEYJ61Hd+kdEvvu/kgpHOEJ9qWmTf6o0lucuDpqpiacHs5JfigiGIx780+mp9xfoKdQ9x42o6mJqTlu5P83/kFFFFBykkH+sP+43/oJqOpI/8AVzf7n/swqOgYUUUUCGSrujPtzSo25AadUUPG5fQ0+h6dP97gJxe9OSa9JaP8UmPkTeuO/akhbdGPbin1EvyzMP73IoW1h4aTr4Oph39n34/lL8Gn8iWmyRrLG0bjKsMEU6ikeYcrNF5FzJFxwcjH+fUGmVpa1DtmjmGcHg/y/wAPzrNrGorSOeqrSv3CiiioMgooooAKKKKACiiigAooooAKKKKACiiigAooooAKKKKACiiigAooooAKKKKACiiigAooooAKKKKACiiigAooooAKKKKACiiigAooooAKKKKACiiigCpe/wDLP8f6UUXv/LP8f6UV9xk/+5Q+f5s/SMg/5F9P5/mxln/rj/u1eqjZ/wCuP+7V6vns8/3x+i/U+V4k/wB/fpH8mFFFFeQeCFFFFABVzSofNvt/OEHUfn/h+dU62dEhxbtMcZc/5/TFaU1rc2orW5qUUUVqbET8ToT0PFS1FNxtb0NS03sj0sZ7+Gw9Tycf/AZf5SCmyDMbZ9KdRSOGlUdOpGoujT+5pjIjmNafUUPAZT1BpLm6htIy8rgccDu30FOzbsjrzGjyYypCPV3Xo9V+DJWYKpZiAoGST2qCG8huDMISXMRwcd/oawLm/udTkEEalUYjEa85Puf8ir+nWBtXDZZrojBAzsQH1Pc+2e4+tdDoKEbzepVLL51GqcVeb2S/X/PZGpFcyPZvJ5DeWXUAA5fOG6joOeOvHfHOGrK4kVZUC7wSnPTHY+/fj39MmxHH5VmgzkmR2J6DJA6Dt/nvzUcsYliZGyAR1HUe496xbje1j7b/AFSw88M7XjUaXW6Ulv2vd6eXQdRUcchLNG+BIoBOOhB6EfkeP/1mSoasfntejUoVJUqqtJaNBUUX35PrUtRL/wAfDfSmtmd2B96hiIf3U/ukn+pLUUnEqHv0qWopOZYwOuc0R3DKdcQ77cs7+nK9/wAPwJaKKKR5hT1KDz7Nx3HIOM4/z1/CudU5UEjB7j0rrWUMpU8gjBrkyCssgJHDdh6gH+tRUV43Iqq8b9gooorE5gooooAKKKKACiiigAooooAKKKKACiiigAooooAKKKKACiiigAooooAKKKKACiiigAooooAKKKKACiiigAooooAKKKKACiiigAooooAKKKKACiiigCpe/wDLP8f6UUXv/LP8f6UV9xk/+5Q+f5s/SMg/5F9P5/mxln/rj/u1eqjZ/wCuP+7V6vns8/3x+i/U+V4k/wB/fpH8mFFFFeQeCFFFFADZM+U+Dg7TyK6axULZoFAA56D3rmZP9U/+6a6ey/49E/H+dbU9mdFH4WWTjtQccY/GkoqzUR13RkZ5PamRNuTB4K8dakqKSM53p1prsepgZ0q1KWDrPlu7xfRS218mtPIlopkcgceh9KkBIzg9etJqxw4jD1MPUdOqrNf19xBJlJQ/Y9aoajBFfSBMrGyf8tm6epX8iD+fTmtQjKkccjHIqGyVTZQllDbgJCD0yTu/ma0hLl97qfT5ThIZvBRcuWpTVr919m/pqvSxXtLRIoyluCsLHLSk/O/09B7/AJdc1eRFjQKowBTqhdbkuxSWILngGMkgfXdUuTk9Wfb4DLaGXwtTi5Se8ur/ACsvJaFqT/Vw/wC5/wCzGo65s6+39tz2s0k7x2wVXIjVdzAD0OeoJ/D3rUXWrFlBMpUnsUOR+Va1MNUg9jpwmKjiIc6TSu1r5PX8S3NGXXcmBKoOwn+R9j/nnFLHIJFyAQQcMp6g+hqNb+0dQwuYsH1cA/kaZaus7POjptY7Sqc4I9T6/T9eDWfK7arY+T4wwlD2UcTtO9tt15+a6X9C1USczO3pxUvSo4eQzEck1K2Z8fhPcwtep3UY/e7v8IklR/euP90U6R9i579qSIYTJ6tyaFtceGjKhhqmJf2k4R9Xbmfolp6sfRRRSPMCuXu0Ed9Mq9M5/mP6V1Fczff8hGX/AD3NTP4WTU+BkFFFFYHKFFFFABRRRQAUUUUAFFFFABRRRQAUUUUAFFFFABRRRQAUUUUAFFFFABRRRQAUUUUAFFFFABRRRQAUUUUAFFFFABRRRQAUUUUAFFFFABRRRQAUUUUAVL3/AJZ/j/Sii9/5Z/j/AEor7jJ/9yh8/wA2fpGQf8i+n8/zYyz/ANcf92r1UbP/AFx/3avV89nn++P0X6nyvEn+/v0j+TCiiivIPBCiiigAre0ck6dHk9AMfkKwa3dFIbTkxnt1GOwrWlszejszQooorQ1CiiigBjRqxzyD6ik/eL6MPyNSUUXO2GOqqKp1EpxWiUle3o9GvkyPzcDJRh+FRQyrHL5POxz+7/2ePu/oSPy4wKs010WRCrDINUmtj0stzijgKvtadJpvf3na3o192v6j6KigduYpDmVANx/vDsfxweP/ANdSNwpPtStrY/U6GIp4iiq1J3i1c4UQtDLMJGZpWlZnZjk5z/QYH4U2STZhVG6Rvurnr7n0HvST3LNJIRgvyzyNgKnfJ/ngfpnNc/eaj5263tFbDnDyfxy/59P5dK+ihTlUlc+bzHOKeCgsLhdZpW8o+b7vrb5s1llWW5eJZg93GAcgELjPK9/x69fbAtwx+VEqZ3HqzYxknkn881k6VpJjKXM5ZZAcqgOMfX/CtlmCLk0qtk+WLufn+KxFfEzVHnc7u/f3npp/VhXvLiGMRxTyKD2ViKsx6re28AUXDED1AY/mazA43mRhk9hT9rynLfKvYVlKnF7o9itgI0KNOhWfLTj7031lL+WK3dlpe1lds04tcvX5kEbAd2Xk/kRV5PELhf3lurN6q2B/WsUDAAHQUVjKjTl9k8PG46WJklFcsI6RXZf5vqzoU8QQFf3kMit6Lgj+lTR63ZOCWd4/Zl6/lmuYorN4Smzi5mddHqVnKCVuIxj+8dv86xdSmil1DMUiP8vO1gfSsulsxkSSf3jx61y4mhGnTckwlL3WWqKKK805gooooAKKKKACiiigAooooAKKKKACiiigAooooAKKKKACiiigAooooAKKKKACiiigAooooAKKKKACiiigAooooAKKKKACiiigAooooAKKKKACiiigCpe/8s/x/pRRe/8ALP8AH+lFfcZP/uUPn+bP0jIP+RfT+f5sZZ/64/7tXqo2f+uP+7V6vns8/wB8fov1PleJP9/fpH8mFFFFeQeCFFFFABWlos22aSE5weR/P/H86zadHIYZ45QcbTyfb/8AXirpuzNKUrS9Tq6KajiRFdehGadWx0hRRRQIKKKKACiiigCOWMsAyECRTlSf1H0P/wBftVe6ubmC1mlNujbUJASTPOPcDj8auVT1STytNmOM5Xb19eK1pazirdT1cDnWMwMHToy93ezV/wCvkcBNpzXm8Sr5SMd6bXyQ3uMY9/rnnmlsdJWzxJv3TYwTjIH0rSprKHAB6V7ntp25b6HP/aNarWdSrLffRP7k9PkQl5AcCQMewApVjeTmQke1TBQvQAUtRzdjrqZyoK2GpqL/AJrRUvwVlf5sYsSLyBz70+iipueRWr1a0uarJyfm7hRRRQZBRRRQAyY4ib1PFW4V2QovPA71UI8yeOPt941ery8wndqBNR6JBRRRXnGIUUUUAFFFFABRRRQAUUUUAFFFFABRRRQAUUUUAFFFFABRRRQAUUUUAFFFFABRRRQAUUUUAFFFFABRRRQAUUUUAFFFFABRRRQAUUUUAFFFFABRRRQBUvf+Wf4/0oovf+Wf4/0or7jJ/wDcofP82fpGQf8AIvp/P82Ms/8AXH/dq9VGz/1x/wB2r1fPZ5/vj9F+p8rxJ/v79I/kwoooryDwQooooAKQgEEHoaWigDc0i5EtsI2bMi9Rx+P6/wAxWjXKQTG0uROAcfxe3v8A4108MomiDjjPUeldCfMrnYnzLmJKKKKYBRRRQAUUUUAFZutyBNOZTnLsAP5/0rSrH8QOotokz8xfIHsB/wDXrbDK9VA9jn6KKK9YzCiiigAooooAKKKKACkZgqknoKWogv2iYKPuL196ic1CLkxpdySzRmdpmzz90Ht9KuUiqFUADAFLXg1ajqTcmYTlzO4UUUVmSFFFFABRRRQAUUUUAFFFFABRRRQAUUUUAFFFFABRRRQAUUUUAFFFFABRRRQAUUUUAFFFFABRRRQAUUUUAFFFFABRRRQAUUUUAFFFFABRRRQAUUUUAVL3/ln+P9KKL3/ln+P9KK+4yf8A3KHz/Nn6RkH/ACL6fz/NjLP/AFx/3avVRs/9cf8Adq9Xz2ef74/RfqfK8Sf7+/SP5MKKKK8g8EKKKKACiiigAIyMHpVnTrw2c3luSY24XP8AL/Cq1Iw3DGSPcdqqEuVl058rOtVgyhhyCMilrF0rUQD9nmY7h36Ae/0P862gQQCDkHvW51eaCiiigQUUUUAFYPiFgZIFyMgMSPyrerm9e/5CC/8AXMfzNdOEX7z5A9jLooor0zMKKKKACiiigAooqN5cEKnzMf0pNpK7GlcSVzkImdx9PSrkEIhj29T3NRW9t5bmRzlzVmvHxeI9q+WOyM6kl8KCiiiuMyCiiigAooooAKKKKACiiigAooooAKKKKACiiigAooooAKKKKACiiigAooooAKKKKACiiigAooooAKKKKACiiigAooooAKKKKACiiigAooooAKKKKACiiigCpe/8s/x/pRRe/wDLP8f6UV9xk/8AuUPn+bP0jIP+RfT+f5sZZ/64/wC7V6qNn/rj/u1er57PP98fov1PleJP9/fpH8mFFFFeQeCFFFFABRRRQAUUUUANZQ3XqOhHUVctdTmtTtl+eP19PwHTvzVWiqjNxLhUcTqYZ47hN0bZFSVycUktq4eBun8J6fh6Vs2esQTHy5W8t+B83GTWyalsdMZKWxp0UiurjKsGHqDmlpjCuU1b/kKT/UfyFdXXHXrFr2csST5jDn6124Jatky2IKKKK7yAooooAKKZ5ik4XLH0XmlNvNMBuIRc8r3NZVK1On8THtuMLPKxSIZ9Wq1BAsKjgFvWnxxpEuFGKfXkYjEyqu2yMpzvotgooormMwooooAKKKKACiiigAooooAKKKKACiiigAooooAKKKKACiiigAooooAKKKKACiiigAooooAKKKKACiiigAooooAKKKKACiiigAooooAKKKKACiiigAooooAKKKKAKl7/AMs/x/pRRe/8s/x/pRX3GT/7lD5/mz9IyD/kX0/n+bGWf+uP+7V6qNn/AK4/7tXq+ezz/fH6L9T5XiT/AH9+kfyYUUUV5B4IUUUUAFFFFABRRRQAUUUUAFBGRg9KKKABC8RBikdCOm09Pw6Vci1W8i4JSUYxhhg/XNU6KpTki1UkupsJrkWw+bFJGQOuMg/4VzjySSOztFIWY5J296t0V0UsVKmtEinVv0KWX/55SflRl/8AnlJ+VXaK0/tCp2QvaeRSAmdiFiIHHLcVKtqDgysX9ugqxRWVTF1Z6Xt6A6j6aDVRUGFUD6U6iiuYzCiiigAooooAKKKKACiiigAooooAKKKKACiiigAooooAKKKKACiiigAooooAKKKKACiiigAooooAKKKKACiiigAooooAKKKKACiiigAooooAKKKKACiiigAooooAKKKKACiiigCpe/8ALP8AH+lFF7/yz/H+lFfcZP8A7lD5/mz9IyD/AJF9P5/mxln/AK4/7tXqo2f+uP8Au1er57PP98fov1PleJP9/fpH8mFFFFeQeCFFFFABRRRQAUUUUAFFFFABRRRQAUUUUAFFFFABRRRQAUUUUAFFFFABRRRQAUUUUAFFFFABRRRQAUUUUAFFFFABRUU9zDbLumkCDtnqfoKotrtqGICykA9Qo5/Wu3DZZjMVHmoUnJd0tPv0NI0pz1irmnRUEF5b3OfJlDEdR0P5Gp65atKpSk4VIuLXRqz/ABIacXZhRRRUCCiiigAooooAKKKKACiiigAooooAKKKKACiiigAooooAKKKKACiiigAooooAKKKKACiiigAooooAKKKKACiiigCpe/8ALP8AH+lFF7/yz/H+lFfcZP8A7lD5/mz9IyD/AJF9P5/mxln/AK4/7tXqo2f+uP8Au1er57PP98fov1PleJP9/fpH8mFFFFeQeCFFFFABRRRQAUUUUAFFFFABRRRQAUUUUAFFFFABRRRQAUUUUAFFFFABRRRQAUUUUAFFFFABRRRQAUUUUAFRXM621u8zchRnHqewqWszXWIsFAJAMgB9+DXblmGjisZSoS2k0n6dfyNKUeeai+pjSyyXUpmmOWPQdgPQU2iiv6Cw+Hp4emqdNWS00PZ20QKzxSLJE2115BFdLYXYvLVZcANnDAdjXNVq6CT/AKSuTtBUgdu9fGccZdRngvrSVpxa18m7W/G5zYuClT5uqNmiiivyM8sKKKKACiiigAooooAKKKKACiiigAooooAKKKKACiiigAooooAKKKKACiiigAooooAKKKKACiiigAooooAKKKKAKl7/AMs/x/pRRe/8s/x/pRX3GT/7lD5/mz9IyD/kX0/n+bGWf+uP+7V6qNn/AK4/7tXq+ezz/fH6L9T5XiT/AH9+kfyYUUUV5B4IUUUUAFFFFABRRRQAUUUUAFFFFABRRRQAUUUUAFFFFABRRRQAUUUUAFFFFABRRRQAUUUUAFFFFABRRRQAVBeQfabSSHOCw4Pv1FT0VdKrKlUjUg7OLTXqtRpuLujkWV4nMUilXXgg0V0t3YQXgHmqdwGAynBFZ50H5jtuiF7Apn+tfrOXccYKdFLFXjNb6Nr5Wv8AienDF05L3tGZJJyFUEseAB3ro9NtWtLMI/32O5hnODRa6bb2jb0BZ+zMckVcr5PifidZolQoK1Na67t/5HNiMQqi5Y7BRRRXx5yBRRRQAUUUUAFFFFABRRRQAUUUUAFFFFABRRRQAUUUUAFFFFABRRRQAUUUUAFFFFABRRRQAUUUUAFFFFABRRRQBUvf+Wf4/wBKKL3/AJZ/j/SivuMn/wByh8/zZ+kZB/yL6fz/ADYyz/1x/wB2r1UbP/XH/dq9Xz2ef74/RfqfK8Sf7+/SP5MKKKK8g8EKKKKACiiigAooooAKKKKACiiigAooooAKKKKACiiigAooooAKKKKACiiigAooooAKKKKACiiigAooooAKKKKACiiigAooooAKKKKACiiigAooooAKKKKACiiigAooooAKKKKACiiigAooooAKKKKACiiigAooooAKKKKACiiigAooooAKKKKACiiigCpe/wDLP8f6UUXv/LP8f6UV9xk/+5Q+f5s/SMg/5F9P5/mxln/rj/u1eqjZ/wCuP+7V6vns8/3x+i/U+V4k/wB/fpH8mFFFFeQeCFFFFABRRRQAUUUUAFFFFABRRRQAUUUUAFFFFABRRRQAUUUUAFFFFABRRRQAUUUUAFFFFABRRRQAUUUUAFFFFABRRRQAUUUUAFFFFABRRRQAUUUUAFFFFABRRRQAUUUUAFFFFABRRRQAUUUUAFFFFABRRRQAUUUUAFFFFABRRRQAUUUUAFFFFABRRRQBUvf+Wf4/0oovf+Wf4/0or7jJ/wDcofP82fpGQf8AIvp/P82Ms/8AXH/dq9VGz/1x/wB2r1fPZ5/vj9F+p8rxJ/v79I/kwoooryDwQooooAKKKKACiiigAooooAKKKKACiiigAooooAKKKKACiiigAooooAKKKKACiiigAooooAKKKKACiiigAooooAKKKKACiiigAooooAKKKKACiiigAooooAKKKKACiiigAooooAKKKKACiiigAooooAKKKKACiiigAooooAKKKKACiiigAooooAKKKKAKl7/yz/H+lFF7/wAs/wAf6UV9xk/+5Q+f5s/SMg/5F9P5/mxln/rj/u1eqjZ/64/7tXq+ezz/AHx+i/U+V4k/39+kfyYUUUV5B4IUUUUAFFFFABRRRQAUUUUAFFFFABRRRQAUUUUAFFFFABRRRQAUUUUAFFFFABRRRQAUUUUAFFFFABRRRQAUUUUAFFFFABRRRQAUUUUAFFFFABRRRQAUUUUAFFFFABRRRQAUUUUAFFFFABRRRQAUUUUAFFFFABRRRQAUUUUAFFFFABRRRQAUUUUAFFFFAFS9/wCWf4/0oovf+Wf4/wBKK+4yf/cofP8ANn6RkH/Ivp/P82Ms/wDXH/dq9VGz/wBcf92r1fPZ5/vj9F+p8rxJ/v79I/kwoooryDwQooooAKKKKACiiigAooooAKKKKACiiigAooooAKKKKACiiigAooooAKKKKACiiigAooooAKKKKACiiigAooooAKKKKACiiigAooooAKKKKACiiigAooooAKKKKACiiigAooooAKKKKACiiigAooooAKKKKACiiigAooooAKKKKACiiigAooooAKKKKAKl7/yz/H+lFF7/AMs/x/pRX3GT/wC5Q+f5s/SMg/5F9P5/mxln/rj/ALtXqo2f+uP+7V6vns8/3x+i/U+V4k/39+kfyYUUUV5B4IUUUUAFFFFABRRRQAUUUUAFFFFABRRRQAUUUUAFFFFABRRRQAUUUUAFFFFABRRRQAUUUUAFFFFABRRRQAUUUUAFFFFABRRRQAUUUUAFFFFABRRRQAUUUUAFFFFABRRRQAUUUUAFFFFABRRRQAUUUUAFFFFABRRRQAUUUUAFFFFABRRRQAUUUUAFFFFAFS9/5Z/j/Sii9/5Z/j/SivuMn/3KHz/Nn6RkH/Ivp/P82Ms/9cf92r1UbP8A1x/3avV89nn++P0X6nyvEn+/v0j+TCiiivIPBCiiigAooooAKKKKACiiigAooooAKKKKACiiigAooooAKKKKACiiigAooooAKKKKACiiigAooooAKKKKACiiigAooooAKKKKACiiigAooooAKKKKACiiigAooooAKKKKACiiigAooooAKKKKACiiigAooooAKKKKACiiigAooooAKKKKACiiigAooooAqXv/ACz/AB/pRRe/8s/x/pRX3GT/AO5Q+f5s/SMg/wCRfT+f5sZZ/wCuP+7V6qNn/rj/ALtXq+ezz/fH6L9T5XiT/f36R/JhRRRXkHghRRRQAUUUUAFFFFABRRRQAUUUUAFFFFABRRRQAUUUUAFFFFABRRRQAUUUUAFFFFABRRRQAUUUUAFFFFABRRRQAUUUUAFFFFABRRRQAUUUUAFFFFABRRRQAUUUUAFFFFABRRRQAUUUUAFFFFABRRRQAUUUUAFFFFABRRRQAUUUUAFFFFABRRRQAUUUUAVL3/ln+P8ASii9/wCWf4/0or7jJ/8AcofP82fpGQf8i+n8/wA2Ms/9cf8Adq9VGz/1x/3avV89nn++P0X6nyvEn+/v0j+TCiiivIPBCiiigAooooAKKKKACiiigAooooAKKKKACiiigAooooAKKKKACiiigAooooAKKKKACiiigAooooAKKKKACiiigAooooAKKKKACiiigAooooAKKKKACiiigAooooAKKKKACiiigAooooAKKKKACiiigAooooAKKKKACiiigAooooAKKKKACiiigAooooAqXv8Ayz/H+lFF7/yz/H+lFfcZP/uUPn+bP0jIP+RfT+f5sZZ/64/7tXqo2f8Arj/u1er57PP98fov1PleJP8Af36R/JhRRRXkHghRRRQAUUUUAFFFFABRRRQAUUUUAFFFFABRRRQAUUUUAFFFFABRRRQAUUUUAFFFFABRRRQAUUUUAFFFFABRRRQAUUUUAFFFFABRRRQAUUUUAFFFFABRRRQAUUUUAFFFFABRRRQAUUUUAFFFFABRRRQAUUUUAFFFFABRRRQAUUUUAFFFFABRRRQAUUUUAVL3/ln+P9KKL3/ln+P9KK+4yf8A3KHz/Nn6RkH/ACL6fz/NjLP/AFx/3avVRs/9cf8Adq9Xz2ef74/RfqfK8Sf7+/SP5MKKKK8g8EKKKKACiiigAooooAKKKKACiiigAooooAKKKKACiiigAooooAKKKKACiiigAooooAKKKKACiiigAooooAKKKKACiiigAooooAKKKKACiiigAooooAKKKKACiiigAooooAKKKKACiiigAooooAKKKKACiiigAooooAKKKKACiiigAooooAKKKKACiiigCpe/8s/x/pRRe/8ALP8AH+lFfcZP/uUPn+bP0jIP+RfT+f5sZZ/64/7tXqo2f+uP+7V6vns8/wB8fov1PleJP9/fpH8mFFFFeQeCFFFFABRRRQAUUUUAFFFFABRRRQAUUUUAFFFFABRRRQAUUUUAFFFFABRRRQAUUUUAFFFFABRRRQAUUUUAFFFFABRRRQAUUUUAFFFFABRRRQAUUUUAFFFFABRRRQAUUUUAFFFFABRRRQAUUUUAFFFFABRRRQAUUUUAFFFFABRRRQAUUUUAFFFFABRRRQBUvf8Aln+P9KKL3/ln+P8ASivuMn/3KHz/ADZ+kZB/yL6fz/NjLP8A1x/3avVRs/8AXH/dq9Xz2ef74/RfqfK8Sf7+/SP5MKKKK8g8EKKKKACiiigAooooAKKKKACiiigAooooAKKKKACiiigAooooAKKKKACiiigAooooAKKKKACiiigAooooAKKKKACiiigAooooAKKKKACiiigAooooAKKKKACiiigAooooAKKKKACiiigAooooAKKKKACiiigAooooAKKKKACiiigAooooAKKKKACiiigCpe/8s/x/pRRe/wDLP8f6UV9xk/8AuUPn+bP0jIP+RfT+f5sZZ/64/wC7V6qNn/rj/u1er57PP98fov1PleJP9/fpH8mFFFFeQeCFFFFABRRRQAUUUUAFFFFABRRRQAUUUUAFFFFABRRRQAUUUUAFFFFABRRRQAUUUUAFFFFABRRRQAUUUUAFFFFABRRRQAUUUUAFFFFABRRRQAUUUUAFFFFABRRRQAUUUUAFFFFABRRRQAUUUUAFFFFABRRRQAUUUUAFFFFABRRRQAUUUUAFFFFABRRRQBUvf+Wf4/0oovf+Wf4/0or7jJ/9yh8/zZ+kZB/yL6fz/NjLP/XH/dq9VGz/ANcf92r1fPZ5/vj9F+p8rxJ/v79I/kwoooryDwQooooAKKKKACiiigAooooAKKKKACiiigAooooAKKKKACiiigAooooAKKKKACiiigAooooAKKKKACiiigAooooAKKKKACiiigAooooAKKKKACiiigAooooAKKKKACiiigAooooAKKKKACiiigAooooAKKKKACiiigAooooAKKKKACiiigAooooAKKKKAKl7/wAs/wAf6UUXv/LP8f6UV9xk/wDuUPn+bP0jIP8AkX0/n+bGWf8Arj/u1eqjZ/64/wC7V6vns8/3x+i/U+V4k/39+kfyYUUUV5B4IUUUUAFFFFABRRRQAUUUUAFFFFABRRRQAUUUUAFFFFABRRRQAUUUUAFFFFABRRRQAUUUUAFFFFABRRRQAUUUUAFFFFABRRRQAUUUUAFFFFABRRRQAUUUUAFFFFABRRRQAUUUUAFFFFABRRRQAUUUUAFFFFABRRRQAUUUUAFFFFABRRRQAUUUUAFFFFAFS9/5Z/j/AEoovf8Aln+P9KK+4yf/AHKHz/Nn6RkH/Ivp/P8ANjLP/XH/AHavVRs/9cf92r1fPZ5/vj9F+p8rxJ/v79I/kwoooryDwQooooAKKKKACiiigAooooAKKKKACiiigAooooAKKKKACiiigAooooAKKKKACiiigAooooAKKKKACiiigAooooAKKKKACiiigAooooAKKKKACiiigAooooAKKKKACiiigAooooAKKKKACiiigAooooAKKKKACiiigAooooAKKKKACiiigAooooAKKKKAKl7/AMs/x/pRRe/8s/x/pRX3GT/7lD5/mz9IyD/kX0/n+bIIZfJcttzxjrU/23/pn/49XCW1vNd3UVtbxtJPM4jjRRksxOAB+Ne32/wU8KaJY2qeM/FosdTulysMc8caqfT5wSwHTPArir/Vq8+epTu/Vnn4l4TE1PaVqV3/AIn09Di/tv8A0z/8eo+2/wDTP/x6q/xJ+G934A1CDFx9s027BNvchcHI6qw7HkfUfiBieEPCmoeM/EUGj6cFEkmWklf7sSDqx/zySBWPsMF/z6/8mZz/AFbL/wDnx/5Mzo/tv/TP/wAeo+2/9M//AB6u9/4Ul4Gku20OHxo58QKpBi8yI/MBn/Vfe98bs14z4n8N3/hPxDdaNqKgTwNwy/dkU8qy+xH+FHsMF/z6/wDJmH1bL/8Anx/5Mzqftv8A0z/8eo+2/wDTP/x6vP6KPYYL/n1/5Mw+rZf/AM+P/Jmegfbf+mf/AI9R9t/6Z/8Aj1ef1634N+EFhe+F08TeMda/sfTJgDAoZUZlPRizZAz2GCSOaPYYL/n1/wCTMPq2X/8APj/yZmJ9t/6Z/wDj1H23/pn/AOPVreOvhHaaP4aHifwrrH9r6OuPN+ZXZBnG4MvDAHgjAI/PHmml6Ze61qdvp2nW73F3cPsiiTqx/p657UewwX/Pr/yZh9Wy/wD58f8AkzO1+2/9M/8Ax6j7b/0z/wDHq73S/wBn3ToNBuZdf1idtVigM7W9i6BIhg7Q25SWyVPPA4OM4zXgVHsMF/z6/wDJmH1bL/8Anx/5Mz0D7b/0z/8AHqPtv/TP/wAerz+ij2GC/wCfX/kzD6tl/wDz4/8AJmegfbf+mf8A49R9t/6Z/wDj1ef16Z8P/hMfFGjyeIdc1NNJ0GMnEzYDSYOCQW4VQeMnPIxij2GC/wCfX/kzD6tl/wDz4/8AJmU/tv8A0z/8eo+2/wDTP/x6uxuvgp4a13S7ibwL4rXULy3XJgmmjkDH0yoBTPYkEfzrxGaKSCaSGZGSWNirowwVIOCDR7DBf8+v/JmH1bL/APnx/wCTM737b/0z/wDHqPtv/TP/AMerN8B/DzV/H2pPBY7YLSHH2i7kBKR56AD+Jj6fnivSrr4QfDmyWWxufHqw6pGp3eZcwKqkeqdfw3Zo9hgv+fX/AJMw+rZf/wA+P/JmcP8Abf8Apn/49R9t/wCmf/j1cFKqpK6K4dVYgOOjD1plHsMF/wA+v/JmH1bL/wDnx/5Mz0D7b/0z/wDHqPtv/TP/AMerz+vSPhj8NLHx5Yard3urvp6WDJkqikbSGJJJIwBto9hgv+fX/kzD6tl//Pj/AMmZX+2/9M//AB6j7b/0z/8AHq7WP4K+CZZFjj+Idq7uQqqskJJJ6ADfXB/FDwHb/D/W7PT7e/kvBcW3nlpEClfmK4wD7UewwX/Pr/yZh9Wy/wD58f8AkzJ/tv8A0z/8eo+2/wDTP/x6vP6KPYYL/n1/5Mw+rZf/AM+P/Jmegfbf+mf/AI9R9t/6Z/8Aj1ef0UewwX/Pr/yZh9Wy/wD58f8AkzPQPtv/AEz/APHqPtv/AEz/APHq8/oo9hgv+fX/AJMw+rZf/wA+P/Jmegfbf+mf/j1H23/pn/49Xn9FHsMF/wA+v/JmH1bL/wDnx/5Mz0D7b/0z/wDHqPtv/TP/AMerz+ij2GC/59f+TMPq2X/8+P8AyZnoH23/AKZ/+PUfbf8Apn/49Xn9FHsMF/z6/wDJmH1bL/8Anx/5Mz0D7b/0z/8AHqPtv/TP/wAerz+ij2GC/wCfX/kzD6tl/wDz4/8AJmegfbf+mf8A49R9t/6Z/wDj1ef0UewwX/Pr/wAmYfVsv/58f+TM9A+2/wDTP/x6j7b/ANM//Hq8/oo9hgv+fX/kzD6tl/8Az4/8mZ6B9t/6Z/8Aj1H23/pn/wCPV5/RR7DBf8+v/JmH1bL/APnx/wCTM9A+2/8ATP8A8eo+2/8ATP8A8erz+ij2GC/59f8AkzD6tl//AD4/8mZ6B9t/6Z/+PUfbf+mf/j1ef0UewwX/AD6/8mYfVsv/AOfH/kzPQPtv/TP/AMeo+2/9M/8Ax6vP6KPYYL/n1/5Mw+rZf/z4/wDJmegfbf8Apn/49R9t/wCmf/j1ef0UewwX/Pr/AMmYfVsv/wCfH/kzPQPtv/TP/wAeo+2/9M//AB6vP6KPYYL/AJ9f+TMPq2X/APPj/wAmZ6B9t/6Z/wDj1H23/pn/AOPV5/RR7DBf8+v/ACZh9Wy//nx/5Mz0D7b/ANM//HqPtv8A0z/8erz+ij2GC/59f+TMPq2X/wDPj/yZnoH23/pn/wCPUfbf+mf/AI9Xn9FHsMF/z6/8mYfVsv8A+fH/AJMz0D7b/wBM/wDx6j7b/wBM/wDx6vP6KPYYL/n1/wCTMPq2X/8APj/yZnoH23/pn/49R9t/6Z/+PV5/RR7DBf8APr/yZh9Wy/8A58f+TM9A+2/9M/8Ax6j7b/0z/wDHq8/oo9hgv+fX/kzD6tl//Pj/AMmZ6B9t/wCmf/j1H23/AKZ/+PV5/RR7DBf8+v8AyZh9Wy//AJ8f+TM9A+2/9M//AB6j7b/0z/8AHq8/oo9hgv8An1/5Mw+rZf8A8+P/ACZndTz+dt+XGPeiuForuo4uFGCp04WS8z0sPjqeHpqlSp2ivM7r4N20d38WdBjlUMqySSAH1SJ2H6gUvxjvJrz4qa35zlhC6QxgnhVVF4H45P1JrP8AhnrUHh/4j6JqV04SBJzHI56IrqULH2G7P4V3Pxd+G3iS5+IN1qek6Vc39nqJSRHt037H2hWDY6cjOTxg9etcJ5poa+7at+y3ol3dkyTW06rGzckBZZIh/wCO8Uz9nZFgi8W6kqgz21tEEJ7A+YxH5ov5VP8AEiAeC/gd4f8ACFzIh1KaUSSRq2doDNI/4BnVfes79njVLVNb1vQblwh1S1Ux5P3im7Kj32ux/wCAmgDyO31K7ttWi1RJ3+2Rzi4EpPzbw27OfXNexftJW0aeJtFulUCSWzZGPqFfI/8AQjXK2nwb8Wv4xTRp9LnW1WcLJfbf3PlZ5cN0PHOOvbFbf7Q2tW+oeOLXT7dw/wDZ9qElIP3ZGJYr+A2/nQB5Vp0drNqdpFfTNDaPMizyqMlELDcwHqBk16B8VdA8C6LHpZ8H6nHdSyhvtEcV0J1CjG1iR90nnj9BXnUEEt1cRW8EbSTSuERFGSzE4AHvmt3xP4G8ReDhbNrmnm2W5B8phIrgkYyMqTg8jigDnq90/aLdrNfDGjwkpZwQSMsY6ZG1R+QHH1NeF19C/FfQr/4i+EPDXivw9bvfFYCJ4IBucbtucAckqyspA5/I0AZ3wLdtR8E+N9IuCXtPIVgh6AyRyq36Iv5V4rp2pXukahDf6fcyW13Cd0csZwynGP5EivefAWi3vw3+FXirXdfhayuL6EJBby8PkKyx5HUEtIeOuBmvBtO0291fUIbDT7aS5u5jtjijXLMcZ/kCaAPcfgZqF5qll49vb+6lubqWCAvLK5ZmO2fua8Er6P8Agv4O8Q+HdJ8Wxavpc1o95BEtusmP3hCy5Awf9pfzrxDW/A3ifw5ZC81fRbq0tiwTzXAKgnoCQTigDn69SuvDnw7T4QR6rDrKt4lMSMYftIMhlLDchi6hRzzjsDmvLa6WXwB4nh8Jr4nk0txpLKHE29c7ScBtud2Ce+PfpQBzVdJdeOdcvPBVp4TknjGlWz71VEwzckgMe4BJP5egrm6+gPhb8HbaHTbbxX4kh+2b4VubTToxvBUjcrOP4iRjC9PX0ABX+C3hSbwtbXfj7xDcHTtOW1ZYUk+UyISDvI9OAFHVicjtnxnxDqSaz4l1XVI4zHHeXctwqHqodywH617T4t0P4jfFDxHDYXWlS6JoKMTEs7AomAcPJtJ3MegHQZx6k+J63pM+ha5faTcsjTWc7wuyfdYqcZHsaAPp3QfCmqW/wb0fRfDtxHp9xqUKT3t+33olkXe5GOS2CqDpgDqMCvL/ABV8DLzSdBm1nQ9ah1uC3UtOiR7HAH3iuGYNjqRwfrXa3p1Xx1+zvpsXhqWR7u2jit7u2hbDyrEuxk/H5Xx3H1xVf4GeH9d8LW+v6h4htp9N0kwgmK7UpuK5LPtPIAXjJ6574oA+dqKfKUaZ2jXahYlR6DtXQ+GvAXiXxda3Nzommtcw2x2yP5ioN2M7RuIycdh7etAHN1btNU1Cwt7m3s765t4bpPLuI4pWVZV9GAPI5PX1NVnRo3ZHUq6nDKRgg+lNoA9E+Cnh7+3viTYvIm6304G8kyOMrgJ/4+VP4GqHxY8Qf8JH8R9VuUfdb28n2SDnjbHwSPYtuP416J8LwPBXwb8ReM5AFuboNHasf9n5E/8AIjHP+7Xg5JYkkkk8kmgBKKKKACiiigAooooAKKKKACiiigAooooAKKKKACiiigAooooAKKKKACiiigAooooAKKKKACiiigAooooAKKKKACiiigAooooAKKKKACiiigAooooAKKKKACiiigAooooAK73RPjH410LTI9Pt9TSa3iXZELmFZGjHYBjzge+a4KigDR1zXtU8SapJqWr3kl3duMF3wMAdAAOAPYVUtbq4sbuK6tJpILiFg8csbFWRh0II6VDRQB6K/wAcfHr6ebU6rEGK7TOtsgkx9cYz74rz2aaS4meaaRpJZGLO7nLMTyST3NMooAltrmazu4bq3kMc8LrJG69VYHII/EV0Xi34geIfGy2ia1dRyR2ufLSOIIMnGWOOp4H9K5iigArqfCnxE8TeDI3h0fUNltI25reVBJHu9QD0P0xmuWooA6XxX498R+NHi/tq/MsURzHAihI1PrtHU+5yax9J1a/0LVINT0y5a2vLclopVAJUkEHg8HgkYPrVKigD0D/hdvxD/wChh/8AJK3/APjdZPiH4j+LfFWnDT9a1hrm0Dh/KEMcYJHTOxRn8a5WigArrJviT4nn8Gr4UkvlOlqgix5Y3mMHITd1xwPwGOlcnRQAV3Fj8YPHem6fbWNprvl21tEsMSfZIDtRQABkpk8Ada4eigD0D/hdvxD/AOhh/wDJK3/+N1xOpajd6vqdzqN9L5t3cyGWWTaF3MepwAAPwqrRQBv+F/GviDwdcyTaJqD24lx5sRUPHJj1U8Z9+tanib4qeLvFlgbDUdRC2bffgt4xGr/72OSPbOK4yigArqvCnxF8SeDLK6tNFvEiguW3sskSvtfGNy56HGPyFcrRQA6SR5ZXkkYs7kszE8knqabRRQBry+KNbn8Mw+HJNQkbSIJDLHbYGAxJPXGSMknGcZNZFFFABRRRQAUUUUAFFFFABRRRQAUUUUAFFFFABRRRQAUUUUAFFFFABRRRQAUUUUAFFFFABRRRQAUUUUAFFFFABRRRQAUUUUAFFFFABRRRQAUUUUAFFFFABRRRQAUUUUAFFFFABRRRQAUUUUAFFFFABRRRQAUUUUAFFFFABRRRQAUUUUAFFFFABRRRQAUUUUAFFFFABRRRQAUUUUAFFFFABRRRQAUUUUAFFFFABRRRQAUUUUAFFFFABRRRQAUUUUAFFFFABRRRQAUUUUAFFFFABRRRQAUUUUAFFFFABRRRQAUUUUAFFFFABRRRQAUUUUAFFFFABRRRQAUUUUAf/9k=",
        "encoding": "base64",
        "path": [
         "value"
        ]
       }
      ],
      "model_module": "@jupyter-widgets/controls",
      "model_module_version": "1.5.0",
      "model_name": "ImageModel",
      "state": {
       "layout": "IPY_MODEL_1f67dc57db76482784e3a7f225248f66"
      }
     },
     "a3cccf75aea54b05b6958b1966355722": {
      "model_module": "@jupyter-widgets/base",
      "model_module_version": "1.2.0",
      "model_name": "LayoutModel",
      "state": {
       "border": "10px solid rgb(0 177 255)"
      }
     },
     "b0deab9d41cf47c6be2ded9b02463ab2": {
      "model_module": "@jupyter-widgets/controls",
      "model_module_version": "1.5.0",
      "model_name": "TextModel",
      "state": {
       "description": "Name:",
       "layout": "IPY_MODEL_6b2ac5907de24f6cae09447092cad52d",
       "style": "IPY_MODEL_8da1688db5c540238120854e27a847e7",
       "value": "compass"
      }
     },
     "b3c0b54dfa7643a3a1a919b390b41a0c": {
      "model_module": "@jupyter-widgets/base",
      "model_module_version": "1.2.0",
      "model_name": "LayoutModel",
      "state": {
       "display": "flex"
      }
     },
     "bf4af3c456974af39ccecaf9dad8afc9": {
      "model_module": "@jupyter-widgets/controls",
      "model_module_version": "1.5.0",
      "model_name": "DescriptionStyleModel",
      "state": {
       "description_width": ""
      }
     },
     "c5c08fa6fa824a30b0cbc880eb98a542": {
      "model_module": "@jupyter-widgets/controls",
      "model_module_version": "1.5.0",
      "model_name": "VBoxModel",
      "state": {
       "children": [
        "IPY_MODEL_18bbeec0e23042cdbc6e122889d76e6e",
        "IPY_MODEL_b0deab9d41cf47c6be2ded9b02463ab2",
        "IPY_MODEL_767b1fa8536d4b66af2e4b565e8e4d0a",
        "IPY_MODEL_0998dd19c0e44cffb5c22e59b7ca2f43"
       ],
       "layout": "IPY_MODEL_a3cccf75aea54b05b6958b1966355722"
      }
     },
     "ddf3b41fd2b64f00998315960b9e79c8": {
      "model_module": "@jupyter-widgets/controls",
      "model_module_version": "1.5.0",
      "model_name": "DescriptionStyleModel",
      "state": {
       "description_width": ""
      }
     },
     "e89a258ec0364f0088a0b5355890838d": {
      "model_module": "@jupyter-widgets/controls",
      "model_module_version": "1.5.0",
      "model_name": "HTMLModel",
      "state": {
       "layout": "IPY_MODEL_74eeb9bebf2d41ad95128e2a4960c9f8",
       "style": "IPY_MODEL_10653e9d29904d16a63880a4c491178b",
       "value": " 867/? [01:27&lt;00:00,  9.87it/s]"
      }
     },
     "ec2b126056da4499a12248e8b17e6499": {
      "model_module": "@jupyter-widgets/controls",
      "model_module_version": "1.5.0",
      "model_name": "DescriptionStyleModel",
      "state": {
       "description_width": ""
      }
     },
     "fffbf0e2fbc346e0938240cb9ac34eea": {
      "model_module": "@jupyter-widgets/controls",
      "model_module_version": "1.5.0",
      "model_name": "HBoxModel",
      "state": {
       "children": [
        "IPY_MODEL_8bf1c1fc5e07479aa707267101608082",
        "IPY_MODEL_686cf6d791fa4587ba09144f85b3e603",
        "IPY_MODEL_e89a258ec0364f0088a0b5355890838d"
       ],
       "layout": "IPY_MODEL_2446beee2b1747c19a011a935ea7b49b"
      }
     }
    },
    "version_major": 2,
    "version_minor": 0
   }
  }
 },
 "nbformat": 4,
 "nbformat_minor": 5
}