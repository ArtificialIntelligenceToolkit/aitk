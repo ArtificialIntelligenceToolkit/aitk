{
 "cells": [
  {
   "cell_type": "markdown",
   "metadata": {},
   "source": "<a target=\"_blank\" href=\"https://colab.research.google.com/github/ArtificialIntelligenceToolkit/aitk/blob/master/notebooks/NNGA.ipynb\"><img src=\"https://colab.research.google.com/assets/colab-badge.svg\" alt=\"Open In Colab\"/></a>"
  },
  {
   "cell_type": "code",
   "execution_count": null,
   "metadata": {
    "id": "AQMTpw5e_0cx"
   },
   "outputs": [],
   "source": [
    "%pip install aitk --upgrade --quiet"
   ]
  },
  {
   "cell_type": "markdown",
   "metadata": {
    "id": "V6THckODUGu6"
   },
   "source": [
    "# Computational Essays on Artificial Intelligence\n",
    "## Evolving Robot Control\n",
    "\n",
    "In this essay, we explore the Genetic Algorithm to evolve a Robot control network.\n",
    "\n",
    "1. A `chromosome` will be composed of a series of `genes`, each representing a weight in a neural network\n",
    "2. A `population` of chromosomes is generated randomly\n",
    "3. For a number of generations the chromosomes are `mutated` by a small amount"
   ]
  },
  {
   "cell_type": "markdown",
   "metadata": {
    "id": "qu0oA5NWUGu-"
   },
   "source": [
    "### 1. Setup"
   ]
  },
  {
   "cell_type": "markdown",
   "metadata": {},
   "source": [
    "<div class=\"alert alert-block alert-info\">\n",
    "    <b>Note</b>: if running this notebook on Google Colab, you will need to install the required Python packages each time you start a session. Otherwise, you only need to install the packages once.\n",
    "</div>"
   ]
  },
  {
   "cell_type": "markdown",
   "metadata": {},
   "source": [
    "To install the required Python packages:"
   ]
  },
  {
   "cell_type": "code",
   "execution_count": 1,
   "metadata": {
    "colab": {
     "base_uri": "https://localhost:8080/"
    },
    "id": "baekK6oGUGu9",
    "outputId": "df8356cd-2624-4698-f439-051aed1c82d3"
   },
   "outputs": [],
   "source": [
    "#%pip install aitk --upgrade --quiet"
   ]
  },
  {
   "cell_type": "markdown",
   "metadata": {
    "id": "1X8RdoEyUGu-"
   },
   "source": [
    "For this demonstration, we will need:\n",
    "\n",
    "* `GeneticAlgorithm` defined in aitk.algorithms.ga\n",
    "* `World`, `Scribbler`, `RangeSensor` from aitk.robots \n",
    "* `SimpleNetwork` from aitk.networks\n",
    "* a few other support functions"
   ]
  },
  {
   "cell_type": "markdown",
   "metadata": {
    "id": "Fd1XrIsHUGu_"
   },
   "source": [
    "We import everything need in this cell:"
   ]
  },
  {
   "cell_type": "code",
   "execution_count": 2,
   "metadata": {
    "id": "AIR4jwkRUGu_"
   },
   "outputs": [],
   "source": [
    "from aitk.algorithms.ga import GeneticAlgorithm\n",
    "from aitk.robots import World, Scribbler, RangeSensor\n",
    "from aitk.networks import SimpleNetwork\n",
    "from aitk.robots.utils import distance\n",
    "import random"
   ]
  },
  {
   "cell_type": "markdown",
   "metadata": {},
   "source": [
    "## 2. The Genetic Algorithm"
   ]
  },
  {
   "cell_type": "markdown",
   "metadata": {},
   "source": [
    "The [Genetic Algorithm](https://en.wikipedia.org/wiki/Genetic_algorithm) (GA) is an approach inside the category of machine learning systems called [Evolutionary Algorithms](https://en.wikipedia.org/wiki/Evolutionary_algorithm) (EA). For this essay, we will use the GA as follows:\n",
    "\n",
    "1. We will define a `gene` to be a floating-point number that represents the weight or bias of a Neural Network.\n",
    "2. We will define a `chromosome` as a sequence of genes. The chromosome (sometimes called a `geneotype`) will represent all of the weights and biases of a network.\n",
    "3. `A population` will be composed of a set of random chromosomes."
   ]
  },
  {
   "cell_type": "markdown",
   "metadata": {
    "id": "eyh7XntqUGvA"
   },
   "source": [
    "The length of the chromosome is determined by the size of the Neural Network. Therefore, we will call `self.build_model()` (defined below) and see how many weights it has. \n",
    "\n",
    "We'll use a ring of 16 laser sensors as senses. We create a small simulated world (100 x 100) to allow the robot to move around.\n",
    "\n",
    "The basic idea is that we will have a list of weights (the chromosome) that we load into the neural network. The sensors will be read, and propagated through the neural network. The output of the neural network will be interpreted as movement controls. We'll let the neural network \"drive\" the robot around the world starting from a few poses."
   ]
  },
  {
   "cell_type": "code",
   "execution_count": 3,
   "metadata": {
    "id": "QEeYh6UwUGvA"
   },
   "outputs": [],
   "source": [
    "class NNGA(GeneticAlgorithm):\n",
    "    \"\"\"\n",
    "    An example of using the GeneticAlgorithm class to \n",
    "    evolve the weights of a neural network to control \n",
    "    a simulated robot.\n",
    "    \"\"\"\n",
    "    def __init__(self, popsize, sensors=16):\n",
    "        self.show = False\n",
    "        self.sensors = sensors\n",
    "        self.world = World(100, 100)\n",
    "        self.robot = Scribbler()\n",
    "        # We add a ring of RangeSensors, 8cm from\n",
    "        # the robot center, starting and ending \n",
    "        # at the back of the robot\n",
    "        # with 75cm max range, and sensor width 0\n",
    "        # which makes it a laser range finder\n",
    "        self.robot.add_device_ring(\n",
    "            RangeSensor, 8, -180, 180, \n",
    "            self.sensors, max=75, width=0)\n",
    "        self.world.add_robot(self.robot)\n",
    "        self.network = self.build_model()\n",
    "        # Starting poses to test from:\n",
    "        self.poses = [\n",
    "            (20, 20, 0), \n",
    "            (20, 20, 45), \n",
    "            (20, 20, 90), \n",
    "            (20, 20, 180), \n",
    "            (20, 20, -45),\n",
    "        ]\n",
    "        # Length of a chromosome:\n",
    "        length = len(self.network.get_weights(flat=True))\n",
    "        super().__init__(length, popsize)"
   ]
  },
  {
   "cell_type": "markdown",
   "metadata": {
    "id": "HNvM7oeWUGvB"
   },
   "source": [
    "As mentioned, a chromosome will be a sequence of floating-point numbers, between -2 and +2. When we mutate such a gene, we will increase or decrease it a small amount. To define these two aspects of a gene, we define the following methods:"
   ]
  },
  {
   "cell_type": "code",
   "execution_count": 4,
   "metadata": {
    "id": "61igCPUsUGvB"
   },
   "outputs": [],
   "source": [
    "class NNGA(NNGA):        \n",
    "    def make_random_gene(self):\n",
    "        \"\"\"\n",
    "        Generate a random weight for the neural network.\n",
    "        \"\"\"\n",
    "        # range of [-2, +2]\n",
    "        return 2 - random.random() * 4\n",
    "    \n",
    "    def mutate_gene(self, gene):\n",
    "        \"\"\"\n",
    "        Given a gene, mutate it a little.\n",
    "        \"\"\"\n",
    "        # range of [-0.5, +0.5]\n",
    "        return gene + (0.5 - random.random())"
   ]
  },
  {
   "cell_type": "markdown",
   "metadata": {
    "id": "8zDTWbLNUGvC"
   },
   "source": [
    "## 2.1 The Fitness Function\n",
    "\n",
    "To use a GA we need to define a \"fitness function\". A fitness function tests a chromosome in the simulated world, and returns a value that represents how \"apt\" (or fit) it is relative to the other chromosomes in the population at this generation.\n",
    "\n",
    "Finding a good fitness function is difficult. We don't want to be too prescriptive, or the system will evolve exactly what we have defined it to do. On the other hand, we don't want to be too open, as that can leave the system to evolve solutions that don't really \"solve a problem.\"\n",
    "\n",
    "For example, let's say that we want the robot to move around this world and not bump into walls. We could define a fitness that is the total number of steps where the robot did not hit a wall (e.g., `robot.stalled` is not True).\n",
    "\n",
    "<div class=\"alert alert-block alert-warning\">\n",
    "    <b>Warning</b>: the implementation of a GA that we use here requires that the fitness function be greater or equal to zero.\n",
    "</div>\n",
    "\n",
    "However, you would very quickly evolve a robot that doesn't move. No movement, no crashing into walls! Well, ok, then. How about we define a fitness function that rewards the robot when it keeps moving. The evolutionary system could \"solve that problem\" by simply spinning the robot in circles. Foiled again!\n",
    "\n",
    "You could then define a fitness function that rewards the robot when it has forward movement, thereby circumventing the solution for the robot to spin in circles. However, the system could then just drive the robot in small circles, and we inadvently didn't reward a robot for moving backwards (which should be fine).\n",
    "\n",
    "The search the human performs in attempting to find a good fitness function that will drive the robot into interesting control patterns while not settling on simplistic solutions is quite common. However, if you can train yourself to think more like nature, you can end up with some very clever robots.\n",
    "\n",
    "To that end, we will define the fitness function to be the distance between where the robot started, and where it ended up after a given number of seconds. Plus, we will add all of the distances travel on each individual step. However, if it ends up against a wall, it will get a score of zero.\n",
    "\n",
    "This is a fairly easy fitness function to compute (the sum of all distance traveled, plus distance from where it started) and should bypass some of the solutions defined above."
   ]
  },
  {
   "cell_type": "code",
   "execution_count": 5,
   "metadata": {
    "id": "TN_laHoPUGvC"
   },
   "outputs": [],
   "source": [
    "class NNGA(NNGA):        \n",
    "    def fitness(self, chromosome, index=None, poses=None, seconds=None, interrupt=True, real_time=False,\n",
    "                show=False, show_progress=False, quiet=True):\n",
    "        \"\"\"\n",
    "        Fitness is based on the distance the robot travels \n",
    "        from starting pose to ending pose.\n",
    "        \n",
    "        Args:\n",
    "            poses: default None, all of the poses; \n",
    "                otherwise list of poses (x, y, a).\n",
    "            seconds: default 10\n",
    "            interrupt: default True\n",
    "            real_time: default False\n",
    "            show: default True\n",
    "            show_progress: default False\n",
    "            quiet: default True\n",
    "        \"\"\"\n",
    "        if seconds is None:\n",
    "            seconds = min(self.generation / 10, 10)\n",
    "        self.show = show\n",
    "        self.network.set_weights(chromosome)\n",
    "        score = 0\n",
    "        poses = poses if poses is not None else self.poses\n",
    "        for pose in poses:\n",
    "            self.robot.set_pose(*pose, show=self.show)\n",
    "            self.world.seconds(\n",
    "                seconds, self.controller, \n",
    "                interrupt=interrupt, \n",
    "                real_time=real_time, show=show,\n",
    "                show_progress=show_progress, quiet=quiet)\n",
    "            if not self.robot.stalled:\n",
    "                end_pose = self.robot.get_pose()\n",
    "                score += distance(pose[0], pose[1], end_pose[0], end_pose[1])\n",
    "        return score   "
   ]
  },
  {
   "cell_type": "markdown",
   "metadata": {
    "id": "hGDuszABUGvD"
   },
   "source": [
    "We can now add some methods for the specific problem:\n",
    "\n",
    "* build_model - creates the neural network that takes as input the number of inputs, and outputs the movement commands (one for translate, one for rotate)\n",
    "* controller - the method to drive the robot\n",
    "* get_sensors - a convenience method to get the sensor readings from the range sensors as a list\n",
    "* get_move - a method that takes the input to the network (the sensor readings) and propagates them through the network to get the output values, which are scaled to [-1, +1]"
   ]
  },
  {
   "cell_type": "code",
   "execution_count": 6,
   "metadata": {
    "id": "gv41Bn_QUGvD"
   },
   "outputs": [],
   "source": [
    "class NNGA(NNGA):        \n",
    "    def build_model(self):\n",
    "        \"\"\"\n",
    "        We build a simple network. \n",
    "        \"\"\"\n",
    "        return SimpleNetwork(\n",
    "            self.sensors,\n",
    "            4,\n",
    "            2,\n",
    "            activation=\"sigmoid\"\n",
    "        )\n",
    "        \n",
    "    def controller(self, world):\n",
    "        \"\"\"\n",
    "        The controller for the robot.\n",
    "        \"\"\"\n",
    "        sensors = self.get_sensors()\n",
    "        output = self.get_move(sensors)\n",
    "        self.robot.move(output[0], output[1])\n",
    "        \n",
    "    def get_sensors(self):\n",
    "        \"\"\"\n",
    "        We return the sensors from the robot.\n",
    "        \"\"\"\n",
    "        return [sensor.get_reading() \n",
    "                for sensor in self.robot]\n",
    "    \n",
    "    def get_move(self, sensors):\n",
    "        \"\"\"\n",
    "        Given the dataset (a single )\n",
    "        \"\"\"\n",
    "        # Propagate takes a single pattern:\n",
    "        output = self.network.propagate(\n",
    "            sensors, show=self.show)\n",
    "        # Scale the output in [-1, 1]\n",
    "        return 1 - output * 2\n",
    "    "
   ]
  },
  {
   "cell_type": "markdown",
   "metadata": {},
   "source": [
    "Now, we are ready to create a GA. We'll define the population size to be 30, which isn't too small, but big enough to evolve a solution in a few minutes."
   ]
  },
  {
   "cell_type": "code",
   "execution_count": 7,
   "metadata": {
    "colab": {
     "base_uri": "https://localhost:8080/"
    },
    "id": "IyVFhghhUGvE",
    "outputId": "2988c304-fc9b-45d8-e793-e180625de46d"
   },
   "outputs": [
    {
     "name": "stdout",
     "output_type": "stream",
     "text": [
      "Random seed set to: 6672195\n",
      "Genetic algorithm\n",
      "  Chromosome length: 78\n",
      "  Population size: 30\n"
     ]
    }
   ],
   "source": [
    "ga = NNGA(popsize=30)"
   ]
  },
  {
   "cell_type": "markdown",
   "metadata": {},
   "source": [
    "We can get a snapshot of the world with:"
   ]
  },
  {
   "cell_type": "code",
   "execution_count": 8,
   "metadata": {},
   "outputs": [
    {
     "data": {
      "image/png": "[encoded data removed]",
      "text/plain": [
       "<PIL.Image.Image image mode=RGB size=300x342 at 0x7FD30C091130>"
      ]
     },
     "metadata": {},
     "output_type": "display_data"
    }
   ],
   "source": [
    "ga.world.display()"
   ]
  },
  {
   "cell_type": "markdown",
   "metadata": {},
   "source": [
    "But we can do better than just a snapshot. We can actually dynamically \"watch\" the world update.\n",
    "\n",
    "<div class=\"alert alert-block alert-warning\">\n",
    "    <b>Warning</b>: unfortunately the dynamic update may not work on all Jupyter Notebook systems. But it should work in: Jupyter Lab, Jupyter Notebook, Google Colab, and many others.\n",
    "</div>\n",
    "\n",
    "We'll create two watch windows: one for the world, and one for the network. This will update dynamically when `show=True`. "
   ]
  },
  {
   "cell_type": "markdown",
   "metadata": {},
   "source": [
    "<div class=\"alert alert-block alert-success\">\n",
    "    <b>Idea</b>: when running in Jupyter Lab, you can right-click on the two watch cells (after running them) and select \"Create New View for Output\" for each. You can then drag the panels over so that you can see them along side the notebook.\n",
    "</div>"
   ]
  },
  {
   "cell_type": "code",
   "execution_count": 9,
   "metadata": {
    "colab": {
     "base_uri": "https://localhost:8080/",
     "height": 382,
     "referenced_widgets": [
      "686027ec8d104a65a28c531cff802a49",
      "edfd80f163844472afcad4ac980bb73b"
     ]
    },
    "id": "npHXLuo8UGvF",
    "outputId": "e48d4e46-5ea4-4899-947e-c6c85e4d3b4b",
    "tags": []
   },
   "outputs": [
    {
     "data": {
      "application/vnd.jupyter.widget-view+json": {
       "model_id": "7f3c8b2b6f074c64be246108219dbfb2",
       "version_major": 2,
       "version_minor": 0
      },
      "text/plain": [
       "Image(value=b'\\xff\\xd8\\xff\\xe0\\x00\\x10JFIF\\x00\\x01\\x01\\x00\\x00\\x01\\x00\\x01\\x00\\x00\\xff\\xdb\\x00C\\x00\\x08\\x06\\x0\u2026"
      ]
     },
     "metadata": {},
     "output_type": "display_data"
    }
   ],
   "source": [
    "ga.world.watch()"
   ]
  },
  {
   "cell_type": "markdown",
   "metadata": {},
   "source": [
    "Likewise, we can get a snapshot of the network architecture:"
   ]
  },
  {
   "cell_type": "code",
   "execution_count": 10,
   "metadata": {},
   "outputs": [
    {
     "data": {
      "text/html": [
       "<svg id='keras-network' xmlns='http://www.w3.org/2000/svg' xmlns:xlink='http://www.w3.org/1999/xlink' image-rendering=\"pixelated\" width=\"400px\" height=\"297px\" style=\"background-color: #B0C4DE\">\n",
       " <g >\n",
       "  <svg viewBox=\"0 0 350 260\" width=\"400px\" height=\"297px\">\n",
       "    <defs>\n",
       "        <marker id=\"arrow\" markerWidth=\"10\" markerHeight=\"10\" refX=\"9\" refY=\"3\" orient=\"auto\" markerUnits=\"strokeWidth\">\n",
       "          <path d=\"M0,0 L0,6 L9,3 z\" fill=\"black\" />\n",
       "        </marker>\n",
       "    </defs><rect x=\"74.0\" y=\"24\" width=\"202\" height=\"52\" style=\"fill:none;stroke:black;stroke-width:2\"/><image id=\"keras-network_output\" class=\"keras-network\" x=\"75.0\" y=\"25\" height=\"50\" width=\"200\" preserveAspectRatio=\"none\" image-rendering=\"optimizeSpeed\" xlink:href=\"data:image/gif;base64,R0lGODdhAwACAIEAAAAAAP///wAAAAAAACwAAAAAAwACAAAICAADAAAgEEBAADs=\"><title>Layer: output 'Dense'\n",
       "Act function: sigmoid\n",
       "Act output range: (0, 1)\n",
       "Shape = (None, 2)</title></image><text x=\"280.0\" y=\"52.0\" font-family=\"monospace\" font-size=\"12\" text-anchor=\"start\" fill=\"blue\" alignment-baseline=\"central\" >output</text><path d=\"M 175.0 104 L 175.0 77 \" stroke=\"black\" stroke-width=\"2\" marker-end=\"url(#arrow)\" fill=\"none\" /><rect x=\"74.0\" y=\"104\" width=\"202\" height=\"52\" style=\"fill:none;stroke:black;stroke-width:2\"/><image id=\"keras-network_hidden\" class=\"keras-network\" x=\"75.0\" y=\"105\" height=\"50\" width=\"200\" preserveAspectRatio=\"none\" image-rendering=\"optimizeSpeed\" xlink:href=\"data:image/gif;base64,R0lGODdhAwACAIEAAAAAAP///wAAAAAAACwAAAAAAwACAAAICAADAAAgEEBAADs=\"><title>Layer: hidden 'Dense'\n",
       "Act function: sigmoid\n",
       "Act output range: (0, 1)\n",
       "Shape = (None, 4)</title></image><text x=\"280.0\" y=\"132.0\" font-family=\"monospace\" font-size=\"12\" text-anchor=\"start\" fill=\"blue\" alignment-baseline=\"central\" >hidden</text><path d=\"M 175.0 184 L 175.0 157 \" stroke=\"black\" stroke-width=\"2\" marker-end=\"url(#arrow)\" fill=\"none\" /><rect x=\"74.0\" y=\"184\" width=\"202\" height=\"52\" style=\"fill:none;stroke:black;stroke-width:2\"/><image id=\"keras-network_input\" class=\"keras-network\" x=\"75.0\" y=\"185\" height=\"50\" width=\"200\" preserveAspectRatio=\"none\" image-rendering=\"optimizeSpeed\" xlink:href=\"data:image/gif;base64,R0lGODdhEAABAIMAAAAAAAQEBDIyMkxMTFZWVl1dXXR0dHZ2dn19fYCAgJubm6WlpaqqqtjY2Obm5v///ywAAAAAEAABAAAIFQADPACgwECDBQMQJDhAwAGDAgICAgA7\"><title>Layer: input 'InputLayer'\n",
       "Shape = [(None, 16)]</title></image><text x=\"280.0\" y=\"212.0\" font-family=\"monospace\" font-size=\"12\" text-anchor=\"start\" fill=\"blue\" alignment-baseline=\"central\" >input</text><text x=\"175.0\" y=\"12.5\" font-family=\"monospace\" font-size=\"15\" text-anchor=\"middle\" fill=\"black\" alignment-baseline=\"central\" >Activations for SimpleNetwork</text></svg></g></svg>"
      ],
      "text/plain": [
       "<IPython.core.display.HTML object>"
      ]
     },
     "metadata": {},
     "output_type": "display_data"
    }
   ],
   "source": [
    "ga.network.display()"
   ]
  },
  {
   "cell_type": "markdown",
   "metadata": {},
   "source": [
    "But, again we can do even better by creating a dynamically updating view:"
   ]
  },
  {
   "cell_type": "code",
   "execution_count": 13,
   "metadata": {
    "colab": {
     "base_uri": "https://localhost:8080/",
     "height": 345,
     "referenced_widgets": [
      "85948e04362d4b658808951c4635bf00",
      "dc52a3313d1f45bd9e8e9d10dd2bfcd7",
      "6203182779304d9c88d259968b51864b"
     ]
    },
    "id": "9dE6sMacUGvF",
    "outputId": "4c9b57c0-acb5-42ae-f841-c5a3fc8910fa",
    "tags": []
   },
   "outputs": [
    {
     "data": {
      "application/vnd.jupyter.widget-view+json": {
       "model_id": "dee532729b844bf9b2146ef88eab0373",
       "version_major": 2,
       "version_minor": 0
      },
      "text/plain": [
       "HTML(value='<div style=\"outline: 5px solid #1976D2FF; width: 400px; height: 297px;\"><svg id=\\'keras-network\\' \u2026"
      ]
     },
     "metadata": {},
     "output_type": "display_data"
    }
   ],
   "source": [
    "ga.network.watch()"
   ]
  },
  {
   "cell_type": "markdown",
   "metadata": {},
   "source": [
    "## 2.2 Testing\n",
    "\n",
    "Let's test everything to make sure it is working.\n",
    "\n",
    "Let's see what a chromosome looks like:"
   ]
  },
  {
   "cell_type": "code",
   "execution_count": 14,
   "metadata": {},
   "outputs": [
    {
     "data": {
      "text/plain": [
       "78"
      ]
     },
     "execution_count": 14,
     "metadata": {},
     "output_type": "execute_result"
    }
   ],
   "source": [
    "len(ga.make_random_chromosome())"
   ]
  },
  {
   "cell_type": "markdown",
   "metadata": {},
   "source": [
    "Therefore a chromome will be a length of 78 \"genes\". Each gene is an individual weight or bias in the neural network.\n",
    "\n",
    "Let's see what the sensor readings look like:"
   ]
  },
  {
   "cell_type": "code",
   "execution_count": 15,
   "metadata": {},
   "outputs": [
    {
     "data": {
      "text/plain": [
       "[0.4008604452266712,\n",
       " 0.46369681517112005,\n",
       " 0.3031526572431741,\n",
       " 0.2241064260505019,\n",
       " 0.2176297090380893,\n",
       " 0.2763583807056545,\n",
       " 0.4862557336859234,\n",
       " 0.7295404107429727,\n",
       " 0.7505266160259179,\n",
       " 0.9621608634699556,\n",
       " 1.0,\n",
       " 0.9077623213598845,\n",
       " 0.9812338881655623,\n",
       " 0.6056930166979474,\n",
       " 0.43483426373215794,\n",
       " 0.4008604452266712]"
      ]
     },
     "execution_count": 15,
     "metadata": {},
     "output_type": "execute_result"
    }
   ],
   "source": [
    "sensors = ga.get_sensors()\n",
    "sensors"
   ]
  },
  {
   "cell_type": "markdown",
   "metadata": {},
   "source": [
    "And let's see what movements the sensors give when propagated through the network and scaled:"
   ]
  },
  {
   "cell_type": "code",
   "execution_count": 16,
   "metadata": {},
   "outputs": [
    {
     "data": {
      "text/plain": [
       "array([0.1188004 , 0.13000482], dtype=float32)"
      ]
     },
     "execution_count": 16,
     "metadata": {},
     "output_type": "execute_result"
    }
   ],
   "source": [
    "ga.get_move(sensors)"
   ]
  },
  {
   "cell_type": "markdown",
   "metadata": {},
   "source": [
    "You should see the activations in the network display change. The robot won't actually move in the simulator until we update it."
   ]
  },
  {
   "cell_type": "markdown",
   "metadata": {
    "id": "ocq9cHWvUGvG"
   },
   "source": [
    "Ok, let's put all of this together and move the robot around the simulated world. We can test out a random chromosome to see what this does.\n",
    "\n",
    "We pass in:\n",
    "\n",
    "1. a random chromosome (like the that from the initial population)\n",
    "2. A list of poses (x, y, angle) to test\n",
    "3. number of seconds to run the simulation\n",
    "4. Whether we should show the robot and network updates\n",
    "5. Whether the simulation should run in real_time (setting to False will run as fast as possible)\n",
    "\n",
    "Let's go!"
   ]
  },
  {
   "cell_type": "code",
   "execution_count": 17,
   "metadata": {
    "colab": {
     "base_uri": "https://localhost:8080/",
     "height": 85,
     "referenced_widgets": [
      "24370d9d5e054008af5d1547ae1e06ad",
      "d50d56b63cfc44278489faee93999b82",
      "a038bba8c4514aadb3ef388bb80578fb",
      "2112fa546d854613ab9ce5a0cbb31e05",
      "7c0ae88a94904d5e8f06937e44eee86c",
      "780648e92fc645a9b8dd73254f252c2e",
      "a9c3ad6214a04c33baad9842454be573",
      "4c02aaa7d86348a08cdaab1e0b2758e3"
     ]
    },
    "id": "Xv19whtMUGvG",
    "outputId": "4929a03e-1d0e-4eca-9733-91e97f36e37c"
   },
   "outputs": [
    {
     "data": {
      "text/plain": [
       "31.607512851540683"
      ]
     },
     "execution_count": 17,
     "metadata": {},
     "output_type": "execute_result"
    }
   ],
   "source": [
    "ga.fitness(\n",
    "    ga.make_random_chromosome(), \n",
    "    poses=[(50, 50, 0)], \n",
    "    seconds=5,\n",
    "    show=True, \n",
    "    real_time=True,\n",
    ")"
   ]
  },
  {
   "cell_type": "markdown",
   "metadata": {},
   "source": [
    "Interesting! You can try that cell over and over again to see many possible behaviors of these random weights.\n",
    "\n",
    "Some questions you might be interested in answering at this point?\n",
    "\n",
    "1. What percentage of random genes spin in circles?\n",
    "2. What percentage of random genes change movement during the 5 seconds of training?\n",
    "3. What percentage of gense actually make it to a wall?\n",
    "4. What is the range of \"fitness\" values returned for these random chromosomes?"
   ]
  },
  {
   "cell_type": "markdown",
   "metadata": {
    "id": "aoo2YGEVUGvK"
   },
   "source": [
    "### 3. Evolve!"
   ]
  },
  {
   "cell_type": "markdown",
   "metadata": {
    "id": "kEUDFqS-UGvG"
   },
   "source": [
    "To run 10 epochs (plus one to test initial population) of 30 generations, in the 5 test poses for 3 seconds each will take 1 hour, 22 minutes, and 30 seconds of simulated time."
   ]
  },
  {
   "cell_type": "markdown",
   "metadata": {
    "id": "omwTjbx-UGvK"
   },
   "source": [
    "Typically, 10 generations can performed in a few actual minutes on a typical computer. One can get about a 50 x speed-up over real time when not watching the network, and about 10 x speed-up when watching the network."
   ]
  },
  {
   "cell_type": "markdown",
   "metadata": {
    "id": "7Xy3jw6EUGvL"
   },
   "source": [
    "You can run without watching by setting `show=False`."
   ]
  },
  {
   "cell_type": "code",
   "execution_count": 18,
   "metadata": {
    "colab": {
     "base_uri": "https://localhost:8080/"
    },
    "id": "NqqfhTNoUGvL",
    "outputId": "15deae95-61be-4af3-b741-8acfd2e8c135"
   },
   "outputs": [
    {
     "name": "stdout",
     "output_type": "stream",
     "text": [
      "Using random seed: 6672195\n",
      "  Maximum number of generations: 10\n",
      "  Crossover rate: 0.0\n",
      "  Mutation rate: 0.6\n",
      "  Elite percentage 0.05\n",
      "  Elite count: 1\n",
      "Generation    0 Best fitness 150.14\n",
      "Generation    1 Best fitness 150.14\n",
      "Generation    2 Best fitness 167.47\n",
      "Generation    3 Best fitness 170.08\n",
      "Generation    4 Best fitness 170.08\n",
      "Generation    5 Best fitness 197.70\n",
      "Generation    6 Best fitness 197.70\n",
      "Generation    7 Best fitness 199.58\n",
      "Generation    8 Best fitness 206.02\n",
      "Generation    9 Best fitness 208.41\n",
      "Generation   10 Best fitness 217.30\n",
      "Max generations reached\n",
      "CPU times: user 59.1 s, sys: 2.43 ms, total: 59.1 s\n",
      "Wall time: 59.1 s\n"
     ]
    }
   ],
   "source": [
    "%%time\n",
    "ga.reset()\n",
    "ga.world.reset()\n",
    "bestFound = ga.evolve(\n",
    "    generations=10, \n",
    "    crossover_rate=0.0, \n",
    "    mutation_rate=0.6, \n",
    "    elite_percent=0.05, \n",
    "    seconds=3,\n",
    "    show=False,\n",
    ") "
   ]
  },
  {
   "cell_type": "markdown",
   "metadata": {
    "id": "CbCDQPkJUGvL"
   },
   "source": [
    "### 4. Analysis\n",
    "\n",
    "We can see a bird's eye view of the populations over time:"
   ]
  },
  {
   "cell_type": "code",
   "execution_count": 19,
   "metadata": {
    "colab": {
     "base_uri": "https://localhost:8080/",
     "height": 295
    },
    "id": "NxX8912mUGvM",
    "outputId": "c7550553-df7f-4b87-c730-a4ddd8e35387"
   },
   "outputs": [
    {
     "data": {
      "image/png": "[encoded data removed]",
      "text/plain": [
       "<Figure size 640x480 with 1 Axes>"
      ]
     },
     "metadata": {},
     "output_type": "display_data"
    }
   ],
   "source": [
    "ga.plot_stats(\"NNGA\")"
   ]
  },
  {
   "cell_type": "markdown",
   "metadata": {
    "id": "IPm0T3vOUGvM"
   },
   "source": [
    "Let's see the results by trying the best ever over the poses, for 5 seconds each:"
   ]
  },
  {
   "cell_type": "code",
   "execution_count": 20,
   "metadata": {
    "colab": {
     "base_uri": "https://localhost:8080/",
     "height": 285,
     "referenced_widgets": [
      "8ad2ce156ec745d187f0b182345b655f",
      "75b5f1165faf4949a9065abec1c2532b",
      "d9c797c19dd5465ba5e4576f460f11fa",
      "4bc107b0fdfe431c845e58cf143ac15d",
      "8e68efa968d849e6b52b408f2cf6785c",
      "d72ff6dce2f4474caa50979834bba248",
      "84bb4ccf6acc42d9a48141295b7127f3",
      "0706330888c84838970071882bb77045",
      "f01ce7d4998f4cd18793c55b977cd44c",
      "e0f6d576022b4c3f8731377f4c16b2b2",
      "c57c8a5a7cf046babd6a571dea10425d",
      "b700450539e24b3f958ab82cb4c61ba7",
      "f7880b7cb8234171973ae8fe3d885c5a",
      "adee9b75ac91429bbda90174d6040d80",
      "11b25aefe3464744b0363f568b70ff7a",
      "b19a2c494a144ace9d3abb736fee833f",
      "9c4c52242d064e90b5da368e1a469632",
      "14fb98746a0141b3a19d4ddc2f8bfbf7",
      "6fddbded18e9420ab53fa31b562d97bd",
      "469f3917098844d0af203e6b977eed1b",
      "035bbb9735a34758bae96160426f7d9a",
      "f3e7c40d8aad4e30a33f6f4bc05bd140",
      "0975fa7125874869bb1ed29c7aea16d1",
      "8f378d82408e41d287b655a59c952c9a",
      "ebcfb91f4b434d6ab43cd99e345ce5ec",
      "3bc9276ac4974a03be28b2833b3c01c4",
      "b9e7ada87a93489fa6dec933a4d0c569",
      "29cd109ab212478aa65e835c2817d681",
      "72c0466433c344be8cd1ca5e2318c683",
      "bd16fcf2b7c64c468196e8e943597a72",
      "45ffbc451cc74c828c122c7278667a74",
      "5ea147a8f055448c8c9db986bb3a4bde",
      "471f0b80f59e43a39333e263102dc92d",
      "83f09a58fcd4407684012f5fa19382f2",
      "ac274c57aaab4939b6c912bcfa37682f",
      "cf3e41e28e0e40fd84f8ee99a94e16dd",
      "256452ae51354eaea44d4714edfb8bde",
      "19497de06b24405fb512395602693b79",
      "315ee295b7604620b68534d662a5b6d6",
      "2f3513979be0412c8be18ccae97f113b"
     ]
    },
    "id": "WmajpIM1UGvM",
    "outputId": "7b928ca7-7275-4847-9f6b-39a47c5ab00e"
   },
   "outputs": [
    {
     "data": {
      "text/plain": [
       "286.4581634198368"
      ]
     },
     "execution_count": 20,
     "metadata": {},
     "output_type": "execute_result"
    }
   ],
   "source": [
    "ga.fitness(\n",
    "    ga.bestEver, \n",
    "    real_time=True, \n",
    "    show=True, \n",
    "    seconds=5,\n",
    ")"
   ]
  },
  {
   "cell_type": "markdown",
   "metadata": {},
   "source": [
    "That might create lots of behaviors that crash into walls. \n",
    "\n",
    "What is the most interesting behavior that you observer after 10 generations?\n",
    "\n",
    "Let's run a few more generations."
   ]
  },
  {
   "cell_type": "markdown",
   "metadata": {
    "id": "h9hjrUWiUGvM"
   },
   "source": [
    "If you wish, you can increase the maximum generations, change any of the parameters, and continue to evolve:"
   ]
  },
  {
   "cell_type": "code",
   "execution_count": 19,
   "metadata": {
    "id": "xYj9oS8NUGvN"
   },
   "outputs": [
    {
     "name": "stdout",
     "output_type": "stream",
     "text": [
      "  Maximum number of generations: 20\n",
      "  Crossover rate: 0.6\n",
      "  Mutation rate: 0.001\n",
      "  Elite percentage: 0.1\n",
      "  Elite count: 3\n",
      "Generation   11 Best fitness 181.50\n",
      "Generation   12 Best fitness 181.50\n",
      "Generation   13 Best fitness 182.21\n",
      "Generation   14 Best fitness 182.21\n",
      "Generation   15 Best fitness 182.21\n",
      "Generation   16 Best fitness 182.21\n",
      "Generation   17 Best fitness 182.21\n",
      "Generation   18 Best fitness 182.94\n",
      "Generation   19 Best fitness 182.94\n",
      "Generation   20 Best fitness 182.94\n",
      "Max generations reached\n"
     ]
    }
   ],
   "source": [
    "bestFound = ga.evolve(\n",
    "    generations=20, \n",
    "    crossover_rate=0.6, \n",
    "    mutation_rate=0.001, \n",
    "    elite_percent=0.1, \n",
    "    seconds=3,\n",
    "    show=False,\n",
    ")"
   ]
  },
  {
   "cell_type": "code",
   "execution_count": 20,
   "metadata": {},
   "outputs": [
    {
     "data": {
      "image/png": "[encoded data removed]",
      "text/plain": [
       "<Figure size 640x480 with 1 Axes>"
      ]
     },
     "metadata": {},
     "output_type": "display_data"
    }
   ],
   "source": [
    "ga.plot_stats(\"NNGA\")"
   ]
  },
  {
   "cell_type": "code",
   "execution_count": null,
   "metadata": {},
   "outputs": [],
   "source": [
    "ga.fitness(\n",
    "    ga.bestEver, \n",
    "    real_time=True, \n",
    "    show=True, \n",
    "    seconds=5,\n",
    ")"
   ]
  },
  {
   "cell_type": "markdown",
   "metadata": {},
   "source": [
    "Was the best from the second 10 generations significantly different from the best from the first 10 generations?\n",
    "\n",
    "Did the fitness change dramatically during the second 10 generations? \n",
    "\n",
    "Do you think there will be a point where the fitness won't get any higher?"
   ]
  },
  {
   "cell_type": "markdown",
   "metadata": {},
   "source": [
    "## 6. Further Exploration"
   ]
  },
  {
   "cell_type": "markdown",
   "metadata": {},
   "source": [
    "There is one additional aspect added to the fitness measure: if you don't specify the number of seconds to use explicitly, it will compute the number of seconds based on the generation. This allows the GA to focus on initial movements first, and longer control as the generations increase. You can test this effect by running without explicitly setting seconds. "
   ]
  },
  {
   "cell_type": "markdown",
   "metadata": {},
   "source": [
    "<div class=\"alert alert-block alert-info\">\n",
    "    <b>Tip</b>: the best fitness measure will increase with the increased simulation time. So you can't really compare the fitness in the begining generations with following generations when seconds is `None`. \n",
    "</div>"
   ]
  },
  {
   "cell_type": "markdown",
   "metadata": {},
   "source": [
    "Some ideas to try:\n",
    "\n",
    "1. Try evolving with seconds=None. How does this compare with a fixed number of seconds?\n",
    "2. What happens if you try with a larger, fixed number of seconds, such as 10?\n",
    "3. The above experiments used 0.0 crossover with a high mutation rate. What happens if you try with a higher crossover rate (say 30%) and with a much smaller mutation rate?\n",
    "4. Anything that you can represent with a list of numbers and create a fitness function for, you could conceivably evole. What else could you try? What are the limitations of the GA?"
   ]
  },
  {
   "cell_type": "markdown",
   "metadata": {},
   "source": [
    "## 5. References\n",
    "\n",
    "1. Turing\n",
    "2. Holland"
   ]
  }
 ],
 "metadata": {
  "accelerator": "GPU",
  "colab": {
   "collapsed_sections": [],
   "name": "NNGA.ipynb",
   "provenance": []
  },
  "kernelspec": {
   "display_name": "Python 3",
   "language": "python",
   "name": "python3"
  },
  "language_info": {
   "codemirror_mode": {
    "name": "ipython",
    "version": 3
   },
   "file_extension": ".py",
   "mimetype": "text/x-python",
   "name": "python",
   "nbconvert_exporter": "python",
   "pygments_lexer": "ipython3",
   "version": "3.8.5"
  },
  "widgets": {
   "application/vnd.jupyter.widget-state+json": {
    "state": {
     "0aaf68d14dfc40f0bd02f7d361817d2d": {
      "model_module": "@jupyter-widgets/base",
      "model_module_version": "1.2.0",
      "model_name": "LayoutModel",
      "state": {}
     },
     "7f3c8b2b6f074c64be246108219dbfb2": {
      "buffers": [
       {
        "data": "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",
        "encoding": "base64",
        "path": [
         "value"
        ]
       }
      ],
      "model_module": "@jupyter-widgets/controls",
      "model_module_version": "1.5.0",
      "model_name": "ImageModel",
      "state": {
       "layout": "IPY_MODEL_88a19892615343528f0116f5e0a3c074"
      }
     },
     "88a19892615343528f0116f5e0a3c074": {
      "model_module": "@jupyter-widgets/base",
      "model_module_version": "1.2.0",
      "model_name": "LayoutModel",
      "state": {
       "border": "10px solid rgb(0 177 255)",
       "margin": "auto"
      }
     },
     "dee532729b844bf9b2146ef88eab0373": {
      "model_module": "@jupyter-widgets/controls",
      "model_module_version": "1.5.0",
      "model_name": "HTMLModel",
      "state": {
       "layout": "IPY_MODEL_0aaf68d14dfc40f0bd02f7d361817d2d",
       "style": "IPY_MODEL_f7638aa824d6419cb7d03f74432134bc",
       "value": "<div style=\"outline: 5px solid #1976D2FF; width: 400px; height: 297px;\"><svg id='keras-network' xmlns='http://www.w3.org/2000/svg' xmlns:xlink='http://www.w3.org/1999/xlink' image-rendering=\"pixelated\" width=\"400px\" height=\"297px\" style=\"background-color: #B0C4DE\">\n <g >\n  <svg viewBox=\"0 0 350 260\" width=\"400px\" height=\"297px\">\n    <defs>\n        <marker id=\"arrow\" markerWidth=\"10\" markerHeight=\"10\" refX=\"9\" refY=\"3\" orient=\"auto\" markerUnits=\"strokeWidth\">\n          <path d=\"M0,0 L0,6 L9,3 z\" fill=\"black\" />\n        </marker>\n    </defs><rect x=\"74.0\" y=\"24\" width=\"202\" height=\"52\" style=\"fill:none;stroke:black;stroke-width:2\"/><image id=\"keras-network_output\" class=\"keras-network\" x=\"75.0\" y=\"25\" height=\"50\" width=\"200\" preserveAspectRatio=\"none\" image-rendering=\"optimizeSpeed\" xlink:href=\"data:image/gif;base64,R0lGODdhAgABAIEAAAAAAP///wAAAAAAACwAAAAAAgABAAAIBQABBAgIADs=\"><title>Layer: output 'Dense'\nAct function: sigmoid\nAct output range: (0, 1)\nShape = (None, 2)</title></image><text x=\"280.0\" y=\"52.0\" font-family=\"monospace\" font-size=\"12\" text-anchor=\"start\" fill=\"blue\" alignment-baseline=\"central\" >output</text><path d=\"M 175.0 104 L 175.0 77 \" stroke=\"black\" stroke-width=\"2\" marker-end=\"url(#arrow)\" fill=\"none\" /><rect x=\"74.0\" y=\"104\" width=\"202\" height=\"52\" style=\"fill:none;stroke:black;stroke-width:2\"/><image id=\"keras-network_hidden\" class=\"keras-network\" x=\"75.0\" y=\"105\" height=\"50\" width=\"200\" preserveAspectRatio=\"none\" image-rendering=\"optimizeSpeed\" xlink:href=\"data:image/gif;base64,R0lGODdhBAABAIEAAAAAABUVFX19ff///ywAAAAABAABAAAIBwABBBAwICAAOw==\"><title>Layer: hidden 'Dense'\nAct function: sigmoid\nAct output range: (0, 1)\nShape = (None, 4)</title></image><text x=\"280.0\" y=\"132.0\" font-family=\"monospace\" font-size=\"12\" text-anchor=\"start\" fill=\"blue\" alignment-baseline=\"central\" >hidden</text><path d=\"M 175.0 184 L 175.0 157 \" stroke=\"black\" stroke-width=\"2\" marker-end=\"url(#arrow)\" fill=\"none\" /><rect x=\"74.0\" y=\"184\" width=\"202\" height=\"52\" style=\"fill:none;stroke:black;stroke-width:2\"/><image id=\"keras-network_input\" class=\"keras-network\" x=\"75.0\" y=\"185\" height=\"50\" width=\"200\" preserveAspectRatio=\"none\" image-rendering=\"optimizeSpeed\" xlink:href=\"data:image/gif;base64,R0lGODdhEAABAIMAAAAAAAYGBhoaGjQ0NEVFRUZGRnR0dHh4eHp6epGRkZWVlbu7u87Ozu3t7f///wAAACwAAAAAEAABAAAIFQALIGiwgIGDBAcUDAgAQIABAgUCAgA7\"><title>Layer: input 'InputLayer'\nShape = [(None, 16)]</title></image><text x=\"280.0\" y=\"212.0\" font-family=\"monospace\" font-size=\"12\" text-anchor=\"start\" fill=\"blue\" alignment-baseline=\"central\" >input</text><text x=\"175.0\" y=\"12.5\" font-family=\"monospace\" font-size=\"15\" text-anchor=\"middle\" fill=\"black\" alignment-baseline=\"central\" >Activations for SimpleNetwork</text></svg></g></svg></div>"
      }
     },
     "f7638aa824d6419cb7d03f74432134bc": {
      "model_module": "@jupyter-widgets/controls",
      "model_module_version": "1.5.0",
      "model_name": "DescriptionStyleModel",
      "state": {
       "description_width": ""
      }
     }
    },
    "version_major": 2,
    "version_minor": 0
   }
  }
 },
 "nbformat": 4,
 "nbformat_minor": 4
}