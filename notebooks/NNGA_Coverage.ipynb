{
 "cells": [
  {
   "cell_type": "markdown",
   "metadata": {},
   "source": "<a target=\"_blank\" href=\"https://colab.research.google.com/github/ArtificialIntelligenceToolkit/aitk/blob/master/notebooks/NNGA_Coverage.ipynb\"><img src=\"https://colab.research.google.com/assets/colab-badge.svg\" alt=\"Open In Colab\"/></a>"
  },
  {
   "cell_type": "code",
   "execution_count": null,
   "metadata": {
    "id": "AQMTpw5e_0cx"
   },
   "outputs": [],
   "source": [
    "%pip install aitk --upgrade --quiet"
   ]
  },
  {
   "cell_type": "markdown",
   "metadata": {
    "id": "V6THckODUGu6"
   },
   "source": [
    "# Computational Essays on Artificial Intelligence\n",
    "## Evolving Robot Controller for Coverage\n",
    "\n",
    "In this essay, we explore the Genetic Algorithm to evolve a Robot control network.\n",
    "\n",
    "1. A `chromosome` will be composed of a series of `genes`, each representing a weight in a neural network\n",
    "2. A `population` of chromosomes is generated randomly\n",
    "3. For a number of generations the chromosomes are `mutated` by a small amount"
   ]
  },
  {
   "cell_type": "markdown",
   "metadata": {
    "id": "qu0oA5NWUGu-"
   },
   "source": [
    "### 1. Setup"
   ]
  },
  {
   "cell_type": "markdown",
   "metadata": {},
   "source": [
    "<div class=\"alert alert-block alert-info\">\n",
    "    <b>Note</b>: if running this notebook on Google Colab, you will need to install the required Python packages each time you start a session. Otherwise, you only need to install the packages once.\n",
    "</div>"
   ]
  },
  {
   "cell_type": "markdown",
   "metadata": {},
   "source": [
    "To install the required Python packages:"
   ]
  },
  {
   "cell_type": "code",
   "execution_count": 1,
   "metadata": {
    "colab": {
     "base_uri": "https://localhost:8080/"
    },
    "id": "baekK6oGUGu9",
    "outputId": "df8356cd-2624-4698-f439-051aed1c82d3"
   },
   "outputs": [
    {
     "name": "stdout",
     "output_type": "stream",
     "text": [
      "Note: you may need to restart the kernel to use updated packages.\n"
     ]
    }
   ],
   "source": [
    "%pip install aitk --upgrade --quiet"
   ]
  },
  {
   "cell_type": "markdown",
   "metadata": {
    "id": "1X8RdoEyUGu-"
   },
   "source": [
    "For this demonstration, we will need:\n",
    "\n",
    "* `GeneticAlgorithm` defined in aitk.algorithms.ga\n",
    "* `World`, `Scribbler`, `RangeSensor` from aitk.robots \n",
    "* `SimpleNetwork` from aitk.networks\n",
    "* a few other support functions"
   ]
  },
  {
   "cell_type": "markdown",
   "metadata": {
    "id": "Fd1XrIsHUGu_"
   },
   "source": [
    "We import everything need in this cell:"
   ]
  },
  {
   "cell_type": "code",
   "execution_count": 1,
   "metadata": {
    "id": "AIR4jwkRUGu_"
   },
   "outputs": [],
   "source": [
    "from aitk.algorithms.ga import GeneticAlgorithm\n",
    "from aitk.robots import World, Scribbler, RangeSensor\n",
    "from aitk.networks import SimpleNetwork\n",
    "from aitk.robots.utils import distance, Grid\n",
    "from aitk.utils import Grid\n",
    "import random"
   ]
  },
  {
   "cell_type": "markdown",
   "metadata": {},
   "source": [
    "## 2. The Genetic Algorithm"
   ]
  },
  {
   "cell_type": "markdown",
   "metadata": {},
   "source": [
    "The [Genetic Algorithm](https://en.wikipedia.org/wiki/Genetic_algorithm) (GA) is an approach inside the category of machine learning systems called [Evolutionary Algorithms](https://en.wikipedia.org/wiki/Evolutionary_algorithm) (EA). For this essay, we will use the GA as follows:\n",
    "\n",
    "1. We will define a `gene` to be a floating-point number that represents the weight or bias of a Neural Network.\n",
    "2. We will define a `chromosome` as a sequence of genes. The chromosome (sometimes called a `geneotype`) will represent all of the weights and biases of a network.\n",
    "3. A`population` will be composed of a set of random chromosomes."
   ]
  },
  {
   "cell_type": "markdown",
   "metadata": {
    "id": "eyh7XntqUGvA"
   },
   "source": [
    "The length of the chromosome is determined by the size of the Neural Network. Therefore, we will call `self.build_model()` (defined below) and see how many weights it has. \n",
    "\n",
    "We'll use a ring of 16 laser sensors as senses. We create a small simulated world (200 x 200) to allow the robot to move around.\n",
    "\n",
    "The basic idea is that we will have a list of weights (the chromosome) that we load into the neural network. The sensors will be read, and propagated through the neural network. The output of the neural network will be interpreted as movement controls. We'll let the neural network \"drive\" the robot around the world starting from the center of the world.  "
   ]
  },
  {
   "cell_type": "code",
   "execution_count": 2,
   "metadata": {
    "id": "QEeYh6UwUGvA"
   },
   "outputs": [],
   "source": [
    "class NNGA(GeneticAlgorithm):\n",
    "    \"\"\"\n",
    "    An example of using the GeneticAlgorithm class to \n",
    "    evolve the weights of a neural network to control \n",
    "    a simulated robot.\n",
    "    \"\"\"\n",
    "    def __init__(self, popsize, sensors=16):\n",
    "        self.show = False\n",
    "        self.sensors = sensors\n",
    "        self.world = World(200, 200)\n",
    "        self.robot = Scribbler(x=100, y=100, a=87, \n",
    "                              max_trace_length=60)\n",
    "        # We add a ring of RangeSensors, 8cm from\n",
    "        # the robot center, starting and ending \n",
    "        # at the back of the robot\n",
    "        # with 75cm max range, and sensor width 0\n",
    "        # which makes it a laser range finder\n",
    "        self.robot.add_device_ring(\n",
    "            RangeSensor, 8, -180, 180, \n",
    "            self.sensors, max=100, width=0)\n",
    "        self.world.add_robot(self.robot)\n",
    "        self.network = self.build_model()\n",
    "        # Length of a chromosome:\n",
    "        length = len(self.network.get_weights(flat=True))\n",
    "        super().__init__(length, popsize)"
   ]
  },
  {
   "cell_type": "markdown",
   "metadata": {
    "id": "HNvM7oeWUGvB"
   },
   "source": [
    "As mentioned, a chromosome will be a sequence of floating-point numbers, between -2 and +2. When we mutate such a gene, we will increase or decrease it a small amount. To define these two aspects of a gene, we define the following methods:"
   ]
  },
  {
   "cell_type": "code",
   "execution_count": 3,
   "metadata": {
    "id": "61igCPUsUGvB"
   },
   "outputs": [],
   "source": [
    "class NNGA(NNGA):        \n",
    "    def make_random_gene(self):\n",
    "        \"\"\"\n",
    "        Generate a random weight for the neural network.\n",
    "        \"\"\"\n",
    "        # range of [-2, +2]\n",
    "        return 2 - random.random() * 4\n",
    "    \n",
    "    def mutate_gene(self, gene):\n",
    "        \"\"\"\n",
    "        Given a gene, mutate it a little.\n",
    "        \"\"\"\n",
    "        # range of [-0.5, +0.5]\n",
    "        return gene + (0.5 - random.random())"
   ]
  },
  {
   "cell_type": "markdown",
   "metadata": {
    "id": "8zDTWbLNUGvC"
   },
   "source": [
    "## 2.1 The Fitness Function\n",
    "\n",
    "To use a GA we need to define a `fitness function`. A fitness function tests a chromosome in the simulated world, and returns a value that represents how \"apt\" (or fit) it is relative to the other chromosomes in the population at this generation.\n",
    "\n",
    "Finding a good fitness function is difficult. We don't want to be too prescriptive, or the system will evolve exactly what we have defined it to do. On the other hand, we don't want to be too open, as that can leave the system to evolve solutions that don't really \"solve a problem.\"\n",
    "\n",
    "For example, let's say that we want the robot to move around this world and visit as much of the world as possible, like a vacuum cleaning robot.  We will need a way to keep track of where it has been."
   ]
  },
  {
   "cell_type": "markdown",
   "metadata": {},
   "source": [
    "### Picking an appropriate fitness function \n",
    "\n",
    "<div class=\"alert alert-block alert-warning\">\n",
    "    <b>Warning</b>: the implementation of a GA that we use here requires that the fitness function returns a number greater or equal to zero.\n",
    "</div>\n",
    "\n",
    "We will define the fitness function to be the percentage of grid locations visited (using the class `aitk.utils.grid` imported above) during a 60 second run where the neural network is given the current sensor readings and outputs the translation and rotation commands for moving."
   ]
  },
  {
   "cell_type": "code",
   "execution_count": 4,
   "metadata": {
    "id": "TN_laHoPUGvC"
   },
   "outputs": [],
   "source": [
    "class NNGA(NNGA):        \n",
    "    def fitness(self, chromosome, index=None, seconds=60, interrupt=True, real_time=False,\n",
    "                show=False, show_progress=False, quiet=True):\n",
    "        self.show = show\n",
    "        self.network.set_weights(chromosome)\n",
    "        self.robot.set_pose(100, 100, 87)\n",
    "        self.grid = Grid((10, 10), self.world)\n",
    "        self.world.seconds(seconds, self.controller, interrupt=interrupt, \n",
    "                           real_time=real_time, show=show, show_progress=show_progress, \n",
    "                           quiet=quiet)\n",
    "        score = self.grid.analyze_visits()\n",
    "        return score"
   ]
  },
  {
   "cell_type": "markdown",
   "metadata": {
    "id": "hGDuszABUGvD"
   },
   "source": [
    "We can now add some methods for the specific problem:\n",
    "\n",
    "* build_model - creates the neural network that takes as input the number of sensors, and outputs the movement commands (one for translate, one for rotate)\n",
    "* controller - the method to drive the robot\n",
    "* get_sensors - a convenience method to get the sensor readings from the range sensors as a list\n",
    "* get_move - a method that takes the input to the network (the sensor readings) and propagates them through the network to get the output values, which are scaled to [-1, +1]"
   ]
  },
  {
   "cell_type": "code",
   "execution_count": 5,
   "metadata": {
    "id": "gv41Bn_QUGvD"
   },
   "outputs": [],
   "source": [
    "class NNGA(NNGA):        \n",
    "    def build_model(self):\n",
    "        \"\"\"\n",
    "        We build a simple network. \n",
    "        \"\"\"\n",
    "        return SimpleNetwork(\n",
    "            self.sensors,\n",
    "            4,\n",
    "            2,\n",
    "            activation=\"sigmoid\"\n",
    "        )\n",
    "        \n",
    "    def controller(self, world):\n",
    "        \"\"\"\n",
    "        The controller for the robot.\n",
    "        Updates the grid for visited locations.\n",
    "        \"\"\"\n",
    "        sensors = self.get_sensors()\n",
    "        output = self.get_move(sensors)\n",
    "        self.robot.move(output[0], output[1])\n",
    "        x, y, a = self.robot.get_pose()\n",
    "        self.grid.update(x, y)\n",
    "        self.grid.draw()\n",
    "        if self.robot.stalled:\n",
    "            return True\n",
    "        \n",
    "    def get_sensors(self):\n",
    "        \"\"\"\n",
    "        We return the sensors from the robot.\n",
    "        Make close readings be closer to 1.\n",
    "        \"\"\"\n",
    "        return [1-sensor.get_reading() \n",
    "                for sensor in self.robot]\n",
    "    \n",
    "    def get_move(self, sensors):\n",
    "        \"\"\"\n",
    "        Given the dataset (a single )\n",
    "        \"\"\"\n",
    "        # Propagate takes a single pattern:\n",
    "        output = self.network.propagate(\n",
    "            sensors, show=self.show)\n",
    "        # Scale the output in [-1, 1]\n",
    "        return 1 - output * 2\n",
    "    "
   ]
  },
  {
   "cell_type": "markdown",
   "metadata": {},
   "source": [
    "Now, we are ready to create a GA. We'll define the population size to be 30, which isn't too small, but big enough to evolve a solution in a few minutes."
   ]
  },
  {
   "cell_type": "code",
   "execution_count": 6,
   "metadata": {
    "colab": {
     "base_uri": "https://localhost:8080/"
    },
    "id": "IyVFhghhUGvE",
    "outputId": "2988c304-fc9b-45d8-e793-e180625de46d"
   },
   "outputs": [
    {
     "name": "stdout",
     "output_type": "stream",
     "text": [
      "Random seed set to: 4807237\n",
      "Genetic algorithm\n",
      "  Chromosome length: 78\n",
      "  Population size: 30\n"
     ]
    }
   ],
   "source": [
    "ga = NNGA(popsize=30)"
   ]
  },
  {
   "cell_type": "markdown",
   "metadata": {},
   "source": [
    "We can observe the world with:"
   ]
  },
  {
   "cell_type": "markdown",
   "metadata": {},
   "source": [
    "<div class=\"alert alert-block alert-success\">\n",
    "    <b>Idea</b>: when running in Jupyter Lab, you can right-click on the two watch cells (after running them) and select \"Create New View for Output\" for each. You can then drag the panels over so that you can see them along side the notebook.\n",
    "</div>"
   ]
  },
  {
   "cell_type": "code",
   "execution_count": 7,
   "metadata": {
    "colab": {
     "base_uri": "https://localhost:8080/",
     "height": 382,
     "referenced_widgets": [
      "686027ec8d104a65a28c531cff802a49",
      "edfd80f163844472afcad4ac980bb73b"
     ]
    },
    "collapsed": true,
    "id": "npHXLuo8UGvF",
    "jupyter": {
     "outputs_hidden": true
    },
    "outputId": "e48d4e46-5ea4-4899-947e-c6c85e4d3b4b",
    "tags": []
   },
   "outputs": [
    {
     "data": {
      "application/vnd.jupyter.widget-view+json": {
       "model_id": "40bc3b9ae30a4d52a170cfdb404ba864",
       "version_major": 2,
       "version_minor": 0
      },
      "text/plain": [
       "Image(value=b'\\xff\\xd8\\xff\\xe0\\x00\\x10JFIF\\x00\\x01\\x01\\x00\\x00\\x01\\x00\\x01\\x00\\x00\\xff\\xdb\\x00C\\x00\\x08\\x06\\x0\u2026"
      ]
     },
     "metadata": {},
     "output_type": "display_data"
    }
   ],
   "source": [
    "ga.world.watch()"
   ]
  },
  {
   "cell_type": "markdown",
   "metadata": {},
   "source": [
    "We can also dynamically observe the network:"
   ]
  },
  {
   "cell_type": "code",
   "execution_count": 8,
   "metadata": {
    "colab": {
     "base_uri": "https://localhost:8080/",
     "height": 345,
     "referenced_widgets": [
      "85948e04362d4b658808951c4635bf00",
      "dc52a3313d1f45bd9e8e9d10dd2bfcd7",
      "6203182779304d9c88d259968b51864b"
     ]
    },
    "id": "9dE6sMacUGvF",
    "outputId": "4c9b57c0-acb5-42ae-f841-c5a3fc8910fa",
    "tags": []
   },
   "outputs": [
    {
     "data": {
      "application/vnd.jupyter.widget-view+json": {
       "model_id": "47d37164acee4cf49a22d0458b20b039",
       "version_major": 2,
       "version_minor": 0
      },
      "text/plain": [
       "HTML(value='<div style=\"outline: 5px solid #1976D2FF; width: 400px; height: 324px;\"><svg id=\\'keras-network\\' \u2026"
      ]
     },
     "metadata": {},
     "output_type": "display_data"
    }
   ],
   "source": [
    "ga.network.watch()"
   ]
  },
  {
   "cell_type": "markdown",
   "metadata": {},
   "source": [
    "## 2.2 Testing\n",
    "\n",
    "Let's test everything to make sure it is working.\n",
    "\n",
    "Let's see what a chromosome looks like:"
   ]
  },
  {
   "cell_type": "code",
   "execution_count": 9,
   "metadata": {},
   "outputs": [
    {
     "data": {
      "text/plain": [
       "78"
      ]
     },
     "execution_count": 9,
     "metadata": {},
     "output_type": "execute_result"
    }
   ],
   "source": [
    "len(ga.make_random_chromosome())"
   ]
  },
  {
   "cell_type": "markdown",
   "metadata": {},
   "source": [
    "Therefore a chromome will be a length of 78 \"genes\". Each gene is an individual weight or bias in the neural network.\n",
    "\n",
    "Let's see what the sensor readings look like:"
   ]
  },
  {
   "cell_type": "code",
   "execution_count": 10,
   "metadata": {},
   "outputs": [
    {
     "data": {
      "text/plain": [
       "[0.07862765400207938,\n",
       " 0.008855006362971207,\n",
       " 0.0,\n",
       " 0.008855006362970985,\n",
       " 0.07862765400207938,\n",
       " 0.0,\n",
       " 0.0,\n",
       " 0.04472381958991678,\n",
       " 0.06753487421199689,\n",
       " 0.0,\n",
       " 0.0,\n",
       " 0.06753487421199733,\n",
       " 0.04472381958991678,\n",
       " 0.0,\n",
       " 0.0,\n",
       " 0.07862765400207938]"
      ]
     },
     "execution_count": 10,
     "metadata": {},
     "output_type": "execute_result"
    }
   ],
   "source": [
    "sensors = ga.get_sensors()\n",
    "sensors"
   ]
  },
  {
   "cell_type": "markdown",
   "metadata": {},
   "source": [
    "And let's see what movements the sensors give when propagated through the network and scaled:"
   ]
  },
  {
   "cell_type": "code",
   "execution_count": 11,
   "metadata": {},
   "outputs": [
    {
     "data": {
      "text/plain": [
       "array([-0.1029774, -0.6174847], dtype=float32)"
      ]
     },
     "execution_count": 11,
     "metadata": {},
     "output_type": "execute_result"
    }
   ],
   "source": [
    "ga.get_move(sensors)"
   ]
  },
  {
   "cell_type": "markdown",
   "metadata": {},
   "source": [
    "You should see the activations in the network display change. The robot won't actually move in the simulator until we update it."
   ]
  },
  {
   "cell_type": "markdown",
   "metadata": {
    "id": "ocq9cHWvUGvG"
   },
   "source": [
    "Ok, let's put all of this together and move the robot around the simulated world. We can test out a random chromosome to see what this does.\n",
    "\n",
    "We pass in:\n",
    "\n",
    "1. a random chromosome (like the that from the initial population)\n",
    "2. number of seconds to run the simulation\n",
    "4. whether we should show the robot and network updates\n",
    "5. whether the simulation should run in real_time (setting to False will run as fast as possible)\n",
    "\n",
    "Let's go!"
   ]
  },
  {
   "cell_type": "code",
   "execution_count": 12,
   "metadata": {
    "colab": {
     "base_uri": "https://localhost:8080/",
     "height": 85,
     "referenced_widgets": [
      "24370d9d5e054008af5d1547ae1e06ad",
      "d50d56b63cfc44278489faee93999b82",
      "a038bba8c4514aadb3ef388bb80578fb",
      "2112fa546d854613ab9ce5a0cbb31e05",
      "7c0ae88a94904d5e8f06937e44eee86c",
      "780648e92fc645a9b8dd73254f252c2e",
      "a9c3ad6214a04c33baad9842454be573",
      "4c02aaa7d86348a08cdaab1e0b2758e3"
     ]
    },
    "id": "Xv19whtMUGvG",
    "outputId": "4929a03e-1d0e-4eca-9733-91e97f36e37c"
   },
   "outputs": [
    {
     "data": {
      "text/plain": [
       "0.06"
      ]
     },
     "execution_count": 12,
     "metadata": {},
     "output_type": "execute_result"
    }
   ],
   "source": [
    "ga.fitness(\n",
    "    ga.make_random_chromosome(), \n",
    "    seconds=5,\n",
    "    show=True, \n",
    "    real_time=True)"
   ]
  },
  {
   "cell_type": "markdown",
   "metadata": {},
   "source": [
    "You can try the above cell over and over again to see many possible behaviors of these random weights.\n",
    "\n",
    "Notice that there is a grid imposed on the world.  As the robot visits cells within this grid they light up. "
   ]
  },
  {
   "cell_type": "markdown",
   "metadata": {
    "id": "aoo2YGEVUGvK"
   },
   "source": [
    "Some questions you might be interested in considering at this point?\n",
    "\n",
    "1. What percentage of random genes spin in circles?\n",
    "2. What percentage of random genes change movement during the 5 seconds of testing?\n",
    "3. What is the range of \"fitness\" values returned for these random chromosomes?### 3. Evolve!"
   ]
  },
  {
   "cell_type": "markdown",
   "metadata": {},
   "source": [
    "## 3. Evolving"
   ]
  },
  {
   "cell_type": "markdown",
   "metadata": {
    "id": "kEUDFqS-UGvG"
   },
   "source": [
    "To run 10 generations (plus one to test initial population) with a population of size 30 for 60 seconds each will take a significant amount of simulated time. "
   ]
  },
  {
   "cell_type": "markdown",
   "metadata": {
    "id": "omwTjbx-UGvK"
   },
   "source": [
    "We can get about a 50 x speed-up over real time when not watching the network, and about 10 x speed-up when watching the network."
   ]
  },
  {
   "cell_type": "markdown",
   "metadata": {
    "id": "7Xy3jw6EUGvL"
   },
   "source": [
    "You can run without watching by setting `show=False`."
   ]
  },
  {
   "cell_type": "code",
   "execution_count": 13,
   "metadata": {
    "colab": {
     "base_uri": "https://localhost:8080/"
    },
    "id": "NqqfhTNoUGvL",
    "outputId": "15deae95-61be-4af3-b741-8acfd2e8c135"
   },
   "outputs": [
    {
     "name": "stdout",
     "output_type": "stream",
     "text": [
      "Using random seed: 4807237\n",
      "  Maximum number of generations: 5\n",
      "  Crossover rate: 0.0\n",
      "  Mutation rate: 0.6\n",
      "  Elite percentage: 0.05\n",
      "  Elite count: 1\n",
      "Generation    0 Best fitness 0.41\n",
      "Generation    1 Best fitness 0.41\n",
      "Generation    2 Best fitness 0.50\n",
      "Generation    3 Best fitness 0.50\n",
      "Generation    4 Best fitness 0.50\n",
      "Generation    5 Best fitness 0.56\n",
      "Max generations reached\n",
      "CPU times: user 3min 15s, sys: 133 ms, total: 3min 15s\n",
      "Wall time: 3min 15s\n"
     ]
    }
   ],
   "source": [
    "%%time\n",
    "ga.reset()\n",
    "ga.world.reset()\n",
    "bestFound = ga.evolve(\n",
    "    generations=5, \n",
    "    crossover_rate=0.0, \n",
    "    mutation_rate=0.6, \n",
    "    elite_percent=0.05, \n",
    "    seconds=60,\n",
    "    show=False,\n",
    ") "
   ]
  },
  {
   "cell_type": "markdown",
   "metadata": {
    "id": "CbCDQPkJUGvL"
   },
   "source": [
    "### 4. Analysis\n",
    "\n",
    "We can see a summary of the best and average fitness in the population over time:"
   ]
  },
  {
   "cell_type": "code",
   "execution_count": 14,
   "metadata": {
    "colab": {
     "base_uri": "https://localhost:8080/",
     "height": 295
    },
    "id": "NxX8912mUGvM",
    "outputId": "c7550553-df7f-4b87-c730-a4ddd8e35387"
   },
   "outputs": [
    {
     "data": {
      "image/png": "[encoded data removed]",
      "text/plain": [
       "<Figure size 432x288 with 1 Axes>"
      ]
     },
     "metadata": {
      "needs_background": "light"
     },
     "output_type": "display_data"
    }
   ],
   "source": [
    "ga.plot_stats(\"NNGA\")"
   ]
  },
  {
   "cell_type": "markdown",
   "metadata": {
    "id": "IPm0T3vOUGvM"
   },
   "source": [
    "Let's see the results by trying the best ever controller:"
   ]
  },
  {
   "cell_type": "code",
   "execution_count": 15,
   "metadata": {
    "colab": {
     "base_uri": "https://localhost:8080/",
     "height": 285,
     "referenced_widgets": [
      "8ad2ce156ec745d187f0b182345b655f",
      "75b5f1165faf4949a9065abec1c2532b",
      "d9c797c19dd5465ba5e4576f460f11fa",
      "4bc107b0fdfe431c845e58cf143ac15d",
      "8e68efa968d849e6b52b408f2cf6785c",
      "d72ff6dce2f4474caa50979834bba248",
      "84bb4ccf6acc42d9a48141295b7127f3",
      "0706330888c84838970071882bb77045",
      "f01ce7d4998f4cd18793c55b977cd44c",
      "e0f6d576022b4c3f8731377f4c16b2b2",
      "c57c8a5a7cf046babd6a571dea10425d",
      "b700450539e24b3f958ab82cb4c61ba7",
      "f7880b7cb8234171973ae8fe3d885c5a",
      "adee9b75ac91429bbda90174d6040d80",
      "11b25aefe3464744b0363f568b70ff7a",
      "b19a2c494a144ace9d3abb736fee833f",
      "9c4c52242d064e90b5da368e1a469632",
      "14fb98746a0141b3a19d4ddc2f8bfbf7",
      "6fddbded18e9420ab53fa31b562d97bd",
      "469f3917098844d0af203e6b977eed1b",
      "035bbb9735a34758bae96160426f7d9a",
      "f3e7c40d8aad4e30a33f6f4bc05bd140",
      "0975fa7125874869bb1ed29c7aea16d1",
      "8f378d82408e41d287b655a59c952c9a",
      "ebcfb91f4b434d6ab43cd99e345ce5ec",
      "3bc9276ac4974a03be28b2833b3c01c4",
      "b9e7ada87a93489fa6dec933a4d0c569",
      "29cd109ab212478aa65e835c2817d681",
      "72c0466433c344be8cd1ca5e2318c683",
      "bd16fcf2b7c64c468196e8e943597a72",
      "45ffbc451cc74c828c122c7278667a74",
      "5ea147a8f055448c8c9db986bb3a4bde",
      "471f0b80f59e43a39333e263102dc92d",
      "83f09a58fcd4407684012f5fa19382f2",
      "ac274c57aaab4939b6c912bcfa37682f",
      "cf3e41e28e0e40fd84f8ee99a94e16dd",
      "256452ae51354eaea44d4714edfb8bde",
      "19497de06b24405fb512395602693b79",
      "315ee295b7604620b68534d662a5b6d6",
      "2f3513979be0412c8be18ccae97f113b"
     ]
    },
    "id": "WmajpIM1UGvM",
    "outputId": "7b928ca7-7275-4847-9f6b-39a47c5ab00e"
   },
   "outputs": [
    {
     "data": {
      "text/plain": [
       "0.56"
      ]
     },
     "execution_count": 15,
     "metadata": {},
     "output_type": "execute_result"
    }
   ],
   "source": [
    "ga.fitness(\n",
    "    ga.bestEver, \n",
    "    real_time=False, \n",
    "    show=True, \n",
    "    seconds=60,\n",
    ")"
   ]
  },
  {
   "cell_type": "code",
   "execution_count": 16,
   "metadata": {},
   "outputs": [
    {
     "name": "stdout",
     "output_type": "stream",
     "text": [
      "  0  14  10  11  10  11  11   2  10   0 \n",
      "  9  12   0   0   0   0   0  34   2  11 \n",
      "  8  20  10   0   0   0   0  12   0  11 \n",
      " 11   0   0   0   0   0   0   0   0  11 \n",
      " 10   0   0   9  21   1   0   0   0  10 \n",
      " 11   0   0  13   0   1   0   0   0  11 \n",
      " 11   0   0  13   0   0   0   0   3   8 \n",
      " 10   0   9   6  12  10   0  16  27   0 \n",
      " 14  12  21   0   0   1  11   2   6   7 \n",
      "  0   9   8  11  10  11  10  11  14   0 \n",
      "\n"
     ]
    }
   ],
   "source": [
    "ga.grid.show()"
   ]
  },
  {
   "cell_type": "code",
   "execution_count": 17,
   "metadata": {},
   "outputs": [],
   "source": [
    "ga.network.save(\"nnga_best.h5\")"
   ]
  },
  {
   "cell_type": "code",
   "execution_count": 18,
   "metadata": {},
   "outputs": [
    {
     "data": {
      "text/plain": [
       "0.56"
      ]
     },
     "execution_count": 18,
     "metadata": {},
     "output_type": "execute_result"
    }
   ],
   "source": [
    "ga.grid.analyze_visits()"
   ]
  },
  {
   "cell_type": "code",
   "execution_count": null,
   "metadata": {},
   "outputs": [],
   "source": []
  }
 ],
 "metadata": {
  "accelerator": "GPU",
  "colab": {
   "collapsed_sections": [],
   "name": "NNGA.ipynb",
   "provenance": []
  },
  "kernelspec": {
   "display_name": "Python 3",
   "language": "python",
   "name": "python3"
  },
  "language_info": {
   "codemirror_mode": {
    "name": "ipython",
    "version": 3
   },
   "file_extension": ".py",
   "mimetype": "text/x-python",
   "name": "python",
   "nbconvert_exporter": "python",
   "pygments_lexer": "ipython3",
   "version": "3.8.5"
  },
  "widgets": {
   "application/vnd.jupyter.widget-state+json": {
    "state": {
     "40bc3b9ae30a4d52a170cfdb404ba864": {
      "buffers": [
       {
        "data": "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",
        "encoding": "base64",
        "path": [
         "value"
        ]
       }
      ],
      "model_module": "@jupyter-widgets/controls",
      "model_module_version": "1.5.0",
      "model_name": "ImageModel",
      "state": {
       "layout": "IPY_MODEL_6f99b070cc4945bcb6ae053216732bdf"
      }
     },
     "47d37164acee4cf49a22d0458b20b039": {
      "model_module": "@jupyter-widgets/controls",
      "model_module_version": "1.5.0",
      "model_name": "HTMLModel",
      "state": {
       "layout": "IPY_MODEL_f2926301d7204bbd9821949e0137b78e",
       "style": "IPY_MODEL_50064070933e448d91121a447c78bb05",
       "value": "<div style=\"outline: 5px solid #1976D2FF; width: 400px; height: 324px;\"><svg id='keras-network' xmlns='http://www.w3.org/2000/svg' xmlns:xlink='http://www.w3.org/1999/xlink' image-rendering=\"pixelated\" width=\"400px\" height=\"324px\" style=\"background-color: #B0C4DE\">\n <g >\n  <svg viewBox=\"0 0 350 284\" width=\"400px\" height=\"324px\">\n    <defs>\n        <marker id=\"arrow\" markerWidth=\"10\" markerHeight=\"10\" refX=\"9\" refY=\"3\" orient=\"auto\" markerUnits=\"strokeWidth\">\n          <path d=\"M0,0 L0,6 L9,3 z\" fill=\"black\" />\n        </marker>\n    </defs><rect x=\"112.0\" y=\"24\" width=\"126\" height=\"64\" style=\"fill:none;stroke:black;stroke-width:2\"/><image id=\"keras-network_output\" class=\"keras-network\" x=\"113.0\" y=\"25\" height=\"62\" width=\"124\" preserveAspectRatio=\"none\" image-rendering=\"optimizeSpeed\" xlink:href=\"data:image/gif;base64,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\"><title>Layer: output 'Dense'\nAct function: sigmoid\nAct output range: (0, 1)\nShape = (None, 2)</title></image><text x=\"242.0\" y=\"58.0\" font-family=\"monospace\" font-size=\"12\" text-anchor=\"start\" fill=\"blue\" alignment-baseline=\"central\" >output</text><path d=\"M 175.0 116 L 175.0 89 \" stroke=\"black\" stroke-width=\"2\" marker-end=\"url(#arrow)\" fill=\"none\" /><rect x=\"74.0\" y=\"116\" width=\"202\" height=\"64\" style=\"fill:none;stroke:black;stroke-width:2\"/><image id=\"keras-network_hidden\" class=\"keras-network\" x=\"75.0\" y=\"117\" height=\"62\" width=\"200\" preserveAspectRatio=\"none\" image-rendering=\"optimizeSpeed\" xlink:href=\"data:image/gif;base64,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\"><title>Layer: hidden 'Dense'\nAct function: sigmoid\nAct output range: (0, 1)\nShape = (None, 4)</title></image><text x=\"280.0\" y=\"150.0\" font-family=\"monospace\" font-size=\"12\" text-anchor=\"start\" fill=\"blue\" alignment-baseline=\"central\" >hidden</text><path d=\"M 175.0 208 L 175.0 181 \" stroke=\"black\" stroke-width=\"2\" marker-end=\"url(#arrow)\" fill=\"none\" /><rect x=\"74.0\" y=\"208\" width=\"202\" height=\"52\" style=\"fill:none;stroke:black;stroke-width:2\"/><image id=\"keras-network_input\" class=\"keras-network\" x=\"75.0\" y=\"209\" height=\"50\" width=\"200\" preserveAspectRatio=\"none\" image-rendering=\"optimizeSpeed\" xlink:href=\"data:image/gif;base64,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\"><title>Layer: input 'InputLayer'\nShape = [(None, 16)]</title></image><text x=\"280.0\" y=\"236.0\" font-family=\"monospace\" font-size=\"12\" text-anchor=\"start\" fill=\"blue\" alignment-baseline=\"central\" >input</text><text x=\"175.0\" y=\"12.5\" font-family=\"monospace\" font-size=\"15\" text-anchor=\"middle\" fill=\"black\" alignment-baseline=\"central\" >Activations for SimpleNetwork</text></svg></g></svg></div>"
      }
     },
     "50064070933e448d91121a447c78bb05": {
      "model_module": "@jupyter-widgets/controls",
      "model_module_version": "1.5.0",
      "model_name": "DescriptionStyleModel",
      "state": {
       "description_width": ""
      }
     },
     "6f99b070cc4945bcb6ae053216732bdf": {
      "model_module": "@jupyter-widgets/base",
      "model_module_version": "1.2.0",
      "model_name": "LayoutModel",
      "state": {
       "border": "10px solid rgb(0 177 255)",
       "margin": "auto"
      }
     },
     "f2926301d7204bbd9821949e0137b78e": {
      "model_module": "@jupyter-widgets/base",
      "model_module_version": "1.2.0",
      "model_name": "LayoutModel",
      "state": {}
     }
    },
    "version_major": 2,
    "version_minor": 0
   }
  }
 },
 "nbformat": 4,
 "nbformat_minor": 4
}