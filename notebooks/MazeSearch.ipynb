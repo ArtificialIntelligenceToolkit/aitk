{
 "cells": [
  {
   "cell_type": "markdown",
   "metadata": {},
   "source": "<a target=\"_blank\" href=\"https://colab.research.google.com/github/ArtificialIntelligenceToolkit/aitk/blob/master/notebooks/MazeSearch.ipynb\"><img src=\"https://colab.research.google.com/assets/colab-badge.svg\" alt=\"Open In Colab\"/></a>"
  },
  {
   "cell_type": "code",
   "execution_count": null,
   "metadata": {
    "id": "AQMTpw5e_0cx"
   },
   "outputs": [],
   "source": [
    "%pip install aitk --upgrade --quiet"
   ]
  },
  {
   "cell_type": "markdown",
   "metadata": {},
   "source": [
    "## Maze Search\n",
    "\n",
    "Try to reproduce the maze search task in Lehman and Stanley's paper *Abandoning Objectives: Evolution through the Search for Novelty Alone*.  \n",
    "\n",
    "There is a beacon that the robot is trying to reach (represented by a blue circle in the world).  The signal from the beacon is not blocked by walls. The robot is equipped with a compass sensor that indicates one of four possible directions where the beacon is located relative to the robot. The robot is also equipped with 6 range sensors that are more concentrated on its front end.\n",
    "\n",
    "The robot has a total of 10 sensors."
   ]
  },
  {
   "cell_type": "code",
   "execution_count": 1,
   "metadata": {},
   "outputs": [],
   "source": [
    "from aitk.robots import World, Scribbler, Beacon, Compass, RangeSensor"
   ]
  },
  {
   "cell_type": "code",
   "execution_count": 2,
   "metadata": {},
   "outputs": [
    {
     "name": "stdout",
     "output_type": "stream",
     "text": [
      "Random seed set to: 2629030\n"
     ]
    },
    {
     "data": {
      "application/vnd.jupyter.widget-view+json": {
       "model_id": "244b043f407d4e01a71de3e6042c493c",
       "version_major": 2,
       "version_minor": 0
      },
      "text/plain": [
       "Image(value=b'\\xff\\xd8\\xff\\xe0\\x00\\x10JFIF\\x00\\x01\\x01\\x00\\x00\\x01\\x00\\x01\\x00\\x00\\xff\\xdb\\x00C\\x00\\x08\\x06\\x0\u2026"
      ]
     },
     "metadata": {},
     "output_type": "display_data"
    }
   ],
   "source": [
    "world = World(200,200)\n",
    "world.add_wall(\"black\",0,50,125,55)\n",
    "world.add_wall(\"black\",65,50,70,150)\n",
    "world.add_wall(\"black\",65,150,125,155)\n",
    "world.add_wall(\"black\",125,100,200,105)\n",
    "world.add_beacon(25, 25, 0)\n",
    "world.watch()"
   ]
  },
  {
   "cell_type": "code",
   "execution_count": 3,
   "metadata": {},
   "outputs": [],
   "source": [
    "robot = Scribbler(25, 175, 89)\n",
    "robot.add_device(Compass())\n",
    "robot.add_device_ring(RangeSensor,8,-90,90,5,max=40,width=0)\n",
    "robot.add_device(RangeSensor(position=(-8,0),a=180,max=40,width=0))"
   ]
  },
  {
   "cell_type": "code",
   "execution_count": 4,
   "metadata": {},
   "outputs": [],
   "source": [
    "world.add_robot(robot)"
   ]
  },
  {
   "cell_type": "markdown",
   "metadata": {},
   "source": [
    "## Evolving a robot controller\n",
    "\n",
    "We will use a Genetic Algorithm to evolve a neural network controller for the robot.  To evaluate the fitness of each network we will allow it to control the robot for a fixed amount of time, and then record its ending point in the world\n",
    "\n",
    "We will use Novelty Search to assign each ending point a score.  Ending points that are close in distance to previously seen ending points will be given low scores, while ending points that reach new territory in the world will be given high scores.  \n"
   ]
  },
  {
   "cell_type": "code",
   "execution_count": 5,
   "metadata": {},
   "outputs": [],
   "source": [
    "from aitk.algorithms import GeneticAlgorithm, NoveltySearch\n",
    "from aitk.networks import SimpleNetwork\n",
    "from aitk.robots.utils import distance\n",
    "import random"
   ]
  },
  {
   "cell_type": "code",
   "execution_count": 19,
   "metadata": {},
   "outputs": [],
   "source": [
    "class NoveltyGA(GeneticAlgorithm):\n",
    "    def __init__(self, popsize, world, robot, sensors=10):\n",
    "        self.novelty_search = NoveltySearch(\n",
    "            k=15, \n",
    "            limit=100, \n",
    "            threshold=0.25,\n",
    "            max_dist=distance((0,0),(200,200)),\n",
    "        )\n",
    "        self.show = False\n",
    "        self.sensors = sensors\n",
    "        self.world = world\n",
    "        self.robot = robot\n",
    "        self.network = self.build_model()\n",
    "        # Length of a chromosome:\n",
    "        length = len(self.network.get_weights(flat=True))\n",
    "        super().__init__(length, popsize)\n",
    "    def make_random_gene(self):\n",
    "        return 2 - random.random() * 4 \n",
    "    def mutate_gene(self, gene):\n",
    "        return gene + (0.5 - random.random())\n",
    "    def fitness(self, chromosome, index=None, seconds=60, interrupt=True, real_time=False,\n",
    "                show=False, show_progress=False, quiet=True):\n",
    "        \"\"\"During search, fitness is based on novelty\"\"\"\n",
    "        self.show = show\n",
    "        self.network.set_weights(chromosome)\n",
    "        self.robot.set_pose(25,175,89)\n",
    "        self.world.seconds(seconds, self.controller, interrupt=interrupt, \n",
    "                           real_time=real_time, show=show, show_progress=show_progress, \n",
    "                           quiet=quiet)\n",
    "        x, y, a = self.robot.get_pose()\n",
    "        score = self.novelty_search.check_archive([(x, y)],chromosome)\n",
    "        return score\n",
    "    def test_chromo(self, chromosome, seconds=60):\n",
    "        \"\"\"During testing, see how well behavior covers grid\"\"\"\n",
    "        self.network.set_weights(chromosome)\n",
    "        self.robot.set_pose(25,175,89)\n",
    "        self.world.seconds(seconds, self.controller, interrupt=True, \n",
    "                           real_time=False, show=True, show_progress=True, \n",
    "                           quiet=True)\n",
    "        r_x, r_y, r_a = self.robot.get_pose()\n",
    "        b_x, b_y, = self.world.beacon.get_position()\n",
    "        return distance((r_x,r_y), (b_x, b_y))"
   ]
  },
  {
   "cell_type": "code",
   "execution_count": 7,
   "metadata": {},
   "outputs": [],
   "source": [
    "class NoveltyGA(NoveltyGA):        \n",
    "    def build_model(self):\n",
    "        return SimpleNetwork(\n",
    "            self.sensors,\n",
    "            4,\n",
    "            2,\n",
    "            activation=\"sigmoid\"\n",
    "        )\n",
    "    def controller(self, world):\n",
    "        sensors = self.get_sensors()\n",
    "        output = self.get_move(sensors)\n",
    "        self.robot.move(output[0], output[1])\n",
    "        if self.robot.stalled:\n",
    "            return True\n",
    "    def get_sensors(self):\n",
    "        compass = robot['compass'].values\n",
    "        ranges = [1-robot[i].get_reading() for i in range(1,7)]\n",
    "        return compass+ranges\n",
    "    def get_move(self, sensors):\n",
    "        # Propagate takes a single pattern:\n",
    "        output = self.network.propagate(\n",
    "            sensors, show=self.show)\n",
    "        # Scale the output in [-1, 1]\n",
    "        return 1 - output * 2 "
   ]
  },
  {
   "cell_type": "code",
   "execution_count": 8,
   "metadata": {},
   "outputs": [
    {
     "name": "stdout",
     "output_type": "stream",
     "text": [
      "Genetic algorithm\n",
      "  Chromosome length: 54\n",
      "  Population size: 30\n"
     ]
    }
   ],
   "source": [
    "ga = NoveltyGA(30, world, robot)"
   ]
  },
  {
   "cell_type": "markdown",
   "metadata": {},
   "source": [
    "### Checkpoint 1\n",
    "\n",
    "Why is the chromosome length 54?\n",
    "\n",
    "Answer: There are 10x4 weights from input to hidden, plus 4x2 weights from hidden to output, and all non-input units have a bias, so 6 of those: 40+8+6 is 54."
   ]
  },
  {
   "cell_type": "code",
   "execution_count": 9,
   "metadata": {},
   "outputs": [
    {
     "data": {
      "text/plain": [
       "1.0"
      ]
     },
     "execution_count": 9,
     "metadata": {},
     "output_type": "execute_result"
    }
   ],
   "source": [
    "chromosome = ga.make_random_chromosome()\n",
    "ga.fitness(chromosome, seconds=10, real_time=False, show=True)"
   ]
  },
  {
   "cell_type": "code",
   "execution_count": 10,
   "metadata": {},
   "outputs": [
    {
     "data": {
      "text/plain": [
       "0.2004227965233836"
      ]
     },
     "execution_count": 10,
     "metadata": {},
     "output_type": "execute_result"
    }
   ],
   "source": [
    "chromosome = ga.make_random_chromosome()\n",
    "ga.fitness(chromosome, seconds=10, real_time=False, show=True)"
   ]
  },
  {
   "cell_type": "code",
   "execution_count": 15,
   "metadata": {},
   "outputs": [
    {
     "name": "stdout",
     "output_type": "stream",
     "text": [
      "  Maximum number of generations: 10\n",
      "  Crossover rate: 0.0\n",
      "  Mutation rate: 0.6\n",
      "  Elite percentage 0\n",
      "  Elite count: 0\n",
      "Generation    0 Best fitness 0.27\n",
      "Generation    1 Best fitness 0.40\n",
      "Generation    2 Best fitness 0.40\n",
      "Generation    3 Best fitness 0.45\n",
      "Generation    4 Best fitness 0.45\n",
      "Generation    5 Best fitness 0.45\n",
      "Generation    6 Best fitness 0.45\n",
      "Generation    7 Best fitness 0.45\n",
      "Generation    8 Best fitness 0.45\n",
      "Generation    9 Best fitness 0.45\n",
      "Generation   10 Best fitness 0.45\n",
      "Max generations reached\n",
      "CPU times: user 3min 19s, sys: 498 ms, total: 3min 20s\n",
      "Wall time: 3min 20s\n"
     ]
    }
   ],
   "source": [
    "%%time\n",
    "bestFound = ga.evolve(\n",
    "    generations=10, \n",
    "    crossover_rate=0.0, \n",
    "    mutation_rate=0.6, \n",
    "    elite_percent=0, \n",
    "    seconds=60,\n",
    "    show=False,\n",
    ") "
   ]
  },
  {
   "cell_type": "code",
   "execution_count": 16,
   "metadata": {},
   "outputs": [
    {
     "data": {
      "image/png": "[encoded data removed]",
      "text/plain": [
       "<Figure size 432x288 with 1 Axes>"
      ]
     },
     "metadata": {
      "needs_background": "light"
     },
     "output_type": "display_data"
    }
   ],
   "source": [
    "ga.novelty_search.plot_growth()"
   ]
  },
  {
   "cell_type": "code",
   "execution_count": 27,
   "metadata": {},
   "outputs": [],
   "source": [
    "archive = ga.novelty_search.archive\n",
    "end_points = []\n",
    "for i in range(len(archive)):\n",
    "    end_points.append(archive[i][0][0])"
   ]
  },
  {
   "cell_type": "code",
   "execution_count": 28,
   "metadata": {},
   "outputs": [
    {
     "data": {
      "text/plain": [
       "[(84.41040876605078, 190.69665797491143),\n",
       " (28.352946324537577, 182.26429804908838),\n",
       " (32.202354914181264, 190.16991644538038),\n",
       " (21.98518749311637, 190.1504959060541),\n",
       " (54.95419332045088, 153.05389967826807),\n",
       " (24.869458384413004, 176.69497577762445),\n",
       " (29.974317434903643, 190.77169539786055),\n",
       " (9.592136306916933, 179.41202378693856),\n",
       " (28.35965928924027, 189.415128854549),\n",
       " (41.15621635676185, 176.869114968029),\n",
       " (22.61410558898892, 189.8236056019716),\n",
       " (63.26597742812399, 162.94685710125628),\n",
       " (27.59072782779972, 189.97347294651632),\n",
       " (14.810377686345767, 189.70223989468295),\n",
       " (15.358367445235388, 190.55041215189087),\n",
       " (15.403049454173622, 110.16322476461777),\n",
       " (27.676736493203514, 65.33453913182197),\n",
       " (109.07346544985572, 180.25403404026568),\n",
       " (53.940547684326106, 71.53629341114893),\n",
       " (128.05314544497023, 163.7608644308619),\n",
       " (126.88473539373354, 162.86335038403476),\n",
       " (54.230206217085794, 77.30122966614312),\n",
       " (144.9225273106187, 169.76016777250084),\n",
       " (27.365876927672687, 77.36875573106667),\n",
       " (36.1671818242499, 64.02248405308764),\n",
       " (188.45649908250843, 154.92027879469555),\n",
       " (13.57050382217786, 77.4929940774949),\n",
       " (156.75869307227762, 167.92909004456797),\n",
       " (190.16714251745756, 164.3120071768174),\n",
       " (18.099441737548325, 64.74305341467314),\n",
       " (189.95365611095156, 168.94618118504158),\n",
       " (185.9763532641286, 149.7814191974268),\n",
       " (177.39048128341835, 191.62817470522748)]"
      ]
     },
     "execution_count": 28,
     "metadata": {},
     "output_type": "execute_result"
    }
   ],
   "source": [
    "end_points"
   ]
  },
  {
   "cell_type": "markdown",
   "metadata": {},
   "source": [
    "## Plot the end points on the world"
   ]
  },
  {
   "cell_type": "code",
   "execution_count": null,
   "metadata": {},
   "outputs": [],
   "source": []
  }
 ],
 "metadata": {
  "kernelspec": {
   "display_name": "Python 3",
   "language": "python",
   "name": "python3"
  },
  "language_info": {
   "codemirror_mode": {
    "name": "ipython",
    "version": 3
   },
   "file_extension": ".py",
   "mimetype": "text/x-python",
   "name": "python",
   "nbconvert_exporter": "python",
   "pygments_lexer": "ipython3",
   "version": "3.8.2"
  },
  "widgets": {
   "application/vnd.jupyter.widget-state+json": {
    "state": {
     "244b043f407d4e01a71de3e6042c493c": {
      "buffers": [
       {
        "data": "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",
        "encoding": "base64",
        "path": [
         "value"
        ]
       }
      ],
      "model_module": "@jupyter-widgets/controls",
      "model_module_version": "1.5.0",
      "model_name": "ImageModel",
      "state": {
       "layout": "IPY_MODEL_fd393e0be5cd408c9374d3d10570bc2f"
      }
     },
     "fd393e0be5cd408c9374d3d10570bc2f": {
      "model_module": "@jupyter-widgets/base",
      "model_module_version": "1.2.0",
      "model_name": "LayoutModel",
      "state": {
       "border": "10px solid rgb(0 177 255)",
       "margin": "auto"
      }
     }
    },
    "version_major": 2,
    "version_minor": 0
   }
  }
 },
 "nbformat": 4,
 "nbformat_minor": 4
}