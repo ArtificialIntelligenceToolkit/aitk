{
 "cells": [
  {
   "cell_type": "markdown",
   "metadata": {},
   "source": "<a target=\"_blank\" href=\"https://colab.research.google.com/github/ArtificialIntelligenceToolkit/aitk/blob/master/notebooks/CartWorld.ipynb\"><img src=\"https://colab.research.google.com/assets/colab-badge.svg\" alt=\"Open In Colab\"/></a>"
  },
  {
   "cell_type": "code",
   "execution_count": null,
   "metadata": {
    "id": "AQMTpw5e_0cx"
   },
   "outputs": [],
   "source": [
    "%pip install aitk --upgrade --quiet"
   ]
  },
  {
   "cell_type": "code",
   "execution_count": 1,
   "metadata": {},
   "outputs": [],
   "source": [
    "from aitk.robots.cart import CartWorld"
   ]
  },
  {
   "cell_type": "code",
   "execution_count": 2,
   "metadata": {},
   "outputs": [],
   "source": [
    "world = CartWorld(quiet=True)"
   ]
  },
  {
   "cell_type": "code",
   "execution_count": 3,
   "metadata": {
    "tags": []
   },
   "outputs": [
    {
     "data": {
      "application/vnd.jupyter.widget-view+json": {
       "model_id": "dfa561b9eed9435d9beecbed25a1172c",
       "version_major": 2,
       "version_minor": 0
      },
      "text/plain": [
       "Image(value=b'\\xff\\xd8\\xff\\xe0\\x00\\x10JFIF\\x00\\x01\\x01\\x00\\x00\\x01\\x00\\x01\\x00\\x00\\xff\\xdb\\x00C\\x00\\x08\\x06\\x0\u2026"
      ]
     },
     "metadata": {},
     "output_type": "display_data"
    }
   ],
   "source": [
    "world.watch()"
   ]
  },
  {
   "cell_type": "code",
   "execution_count": 4,
   "metadata": {},
   "outputs": [
    {
     "data": {
      "application/vnd.jupyter.widget-view+json": {
       "model_id": "b04433659d074acb9d06a9e60f73c6f8",
       "version_major": 2,
       "version_minor": 0
      },
      "text/plain": [
       "HTML(value='<style>img.pixelated {image-rendering: pixelated;}</style>')"
      ]
     },
     "metadata": {},
     "output_type": "display_data"
    },
    {
     "data": {
      "application/vnd.jupyter.widget-view+json": {
       "model_id": "7bb99abdbb814e7c8e20da6fac4bb79e",
       "version_major": 2,
       "version_minor": 0
      },
      "text/plain": [
       "VBox(children=(Image(value=b'', layout=\"Layout(display='none', height='auto', width='-webkit-fill-available')\"\u2026"
      ]
     },
     "metadata": {},
     "output_type": "display_data"
    }
   ],
   "source": [
    "robot = world.robots[0]\n",
    "robot.watch(show_robot=False)"
   ]
  },
  {
   "cell_type": "code",
   "execution_count": 5,
   "metadata": {},
   "outputs": [
    {
     "name": "stdout",
     "output_type": "stream",
     "text": [
      "theta_max is 0.20943951023931953\n"
     ]
    }
   ],
   "source": [
    "import random\n",
    "import math\n",
    "# 12 degrees:\n",
    "theta_max = 12 * math.pi / 180\n",
    "print(\"theta_max is\", theta_max)\n",
    "\n",
    "def balance(robot):\n",
    "    robot.reward += 1\n",
    "    x, x_v, theta, theta_v = robot.get_observation()\n",
    "    ok = ((-2.4 < x < 2.4) and\n",
    "          (-theta_max < theta < theta_max) and\n",
    "          (robot.reward < 200))\n",
    "    if ok:\n",
    "        if theta > 0:\n",
    "            robot.move(1)\n",
    "        else:\n",
    "            robot.move(-1)\n",
    "    else:\n",
    "        return robot.reward # out of bounds"
   ]
  },
  {
   "cell_type": "code",
   "execution_count": 6,
   "metadata": {},
   "outputs": [
    {
     "data": {
      "application/vnd.jupyter.widget-view+json": {
       "model_id": "821966101e9b4c33ab1a841053faeb21",
       "version_major": 2,
       "version_minor": 0
      },
      "text/plain": [
       "0it [00:00, ?it/s]"
      ]
     },
     "metadata": {},
     "output_type": "display_data"
    },
    {
     "name": "stdout",
     "output_type": "stream",
     "text": [
      "Reward: 40\n"
     ]
    }
   ],
   "source": [
    "world.reset()\n",
    "reward = world.run([balance], real_time=True)\n",
    "print(\"Reward:\", reward)"
   ]
  },
  {
   "cell_type": "markdown",
   "metadata": {},
   "source": [
    "# Finding a Winning Policy"
   ]
  },
  {
   "cell_type": "code",
   "execution_count": 7,
   "metadata": {},
   "outputs": [],
   "source": [
    "from aitk.algorithms import GeneticAlgorithm\n",
    "from aitk.networks import SimpleNetwork"
   ]
  },
  {
   "cell_type": "code",
   "execution_count": 8,
   "metadata": {},
   "outputs": [],
   "source": [
    "class GA(GeneticAlgorithm):\n",
    "    def __init__(self, popSize, world):\n",
    "        self.network = SimpleNetwork(\n",
    "            4,\n",
    "            24,\n",
    "            24,\n",
    "            2,\n",
    "            activation=\"linear\"\n",
    "        )\n",
    "        self.world = world\n",
    "        length = len(self.network.get_weights(flat=True))\n",
    "        super().__init__(length, popSize)\n",
    "        \n",
    "    def balance(self, robot):\n",
    "        robot.reward += 1\n",
    "        x, x_v, theta, theta_v = robot.get_observation()\n",
    "        ok = ((-2.4 < x < 2.4) and\n",
    "              (-theta_max < theta < theta_max) and\n",
    "              (robot.reward < 200))\n",
    "        if ok:\n",
    "            outputs = self.network.propagate([x, x_v, theta, theta_v])\n",
    "            index = outputs.argmax()\n",
    "            action = 1 if index == 1 else -1\n",
    "            robot.move(action)\n",
    "        else:\n",
    "            return robot.reward # out of bounds\n",
    "\n",
    "    def fitness(self, chromosome, index=None, \n",
    "                real_time=False, \n",
    "                show_progress=False):\n",
    "        self.network.set_weights(chromosome)\n",
    "        self.world.reset()\n",
    "        reward = self.world.run([self.balance], real_time=real_time, \n",
    "                                show_progress=show_progress, quiet=True, \n",
    "                                interrupt=True)\n",
    "        return reward\n",
    "    \n",
    "    def make_random_gene(self):\n",
    "        return 1.0 - random.random() * 2.0\n",
    "    \n",
    "    def mutate_gene(self, gene):\n",
    "        return gene + 0.5 - random.random() * 1.0\n",
    "    \n",
    "    def is_done(self):\n",
    "        return self.bestEverScore == 200"
   ]
  },
  {
   "cell_type": "code",
   "execution_count": 9,
   "metadata": {},
   "outputs": [
    {
     "name": "stdout",
     "output_type": "stream",
     "text": [
      "Genetic algorithm\n",
      "  Chromosome length: 770\n",
      "  Population size: 50\n"
     ]
    }
   ],
   "source": [
    "ga = GA(50, world)"
   ]
  },
  {
   "cell_type": "code",
   "execution_count": 10,
   "metadata": {},
   "outputs": [
    {
     "data": {
      "application/vnd.jupyter.widget-view+json": {
       "model_id": "56e0fa14bda1467cbe2720933eb2f642",
       "version_major": 2,
       "version_minor": 0
      },
      "text/plain": [
       "HTML(value='<div style=\"outline: 5px solid #1976D2FF; width: 400px; height: 388px;\"><svg id=\\'keras-network\\' \u2026"
      ]
     },
     "metadata": {},
     "output_type": "display_data"
    }
   ],
   "source": [
    "ga.network.watch()"
   ]
  },
  {
   "cell_type": "code",
   "execution_count": 11,
   "metadata": {},
   "outputs": [
    {
     "name": "stdout",
     "output_type": "stream",
     "text": [
      "  Maximum number of generations: 10\n",
      "  Crossover rate: 0.7\n",
      "  Mutation rate: 0.001\n",
      "  Elite percentage 0.0\n",
      "  Elite count: 0\n",
      "Generation    0 Best fitness 200.00\n",
      "Solution found\n"
     ]
    }
   ],
   "source": [
    "best = ga.evolve(10)"
   ]
  },
  {
   "cell_type": "code",
   "execution_count": 12,
   "metadata": {},
   "outputs": [
    {
     "data": {
      "text/plain": [
       "200"
      ]
     },
     "execution_count": 12,
     "metadata": {},
     "output_type": "execute_result"
    }
   ],
   "source": [
    "ga.fitness(best, real_time=True)"
   ]
  }
 ],
 "metadata": {
  "kernelspec": {
   "display_name": "Python 3",
   "language": "python",
   "name": "python3"
  },
  "language_info": {
   "codemirror_mode": {
    "name": "ipython",
    "version": 3
   },
   "file_extension": ".py",
   "mimetype": "text/x-python",
   "name": "python",
   "nbconvert_exporter": "python",
   "pygments_lexer": "ipython3",
   "version": "3.8.5"
  },
  "widgets": {
   "application/vnd.jupyter.widget-state+json": {
    "state": {
     "09a821d848274af1935bedbe0b26a4d4": {
      "model_module": "@jupyter-widgets/base",
      "model_module_version": "1.2.0",
      "model_name": "LayoutModel",
      "state": {}
     },
     "0b402fd294c9402a88e6bd5614955581": {
      "model_module": "@jupyter-widgets/base",
      "model_module_version": "1.2.0",
      "model_name": "LayoutModel",
      "state": {}
     },
     "185117243073457db80c33680875ae41": {
      "model_module": "@jupyter-widgets/base",
      "model_module_version": "1.2.0",
      "model_name": "LayoutModel",
      "state": {
       "width": "20px"
      }
     },
     "1d660ff5224b4ca68e724f10324c575e": {
      "model_module": "@jupyter-widgets/controls",
      "model_module_version": "1.5.0",
      "model_name": "DescriptionStyleModel",
      "state": {
       "description_width": ""
      }
     },
     "251bbd8b33344b2e9a7f856ac005a858": {
      "model_module": "@jupyter-widgets/controls",
      "model_module_version": "1.5.0",
      "model_name": "DescriptionStyleModel",
      "state": {
       "description_width": ""
      }
     },
     "279cba2b871349e3a7f579704c6c88f2": {
      "model_module": "@jupyter-widgets/controls",
      "model_module_version": "1.5.0",
      "model_name": "HTMLModel",
      "state": {
       "layout": "IPY_MODEL_6d5832e1987f4cec860e4dfc22d59ffe",
       "style": "IPY_MODEL_d6d8dcf5df34412eb01b41ac26352ab2"
      }
     },
     "2cb5cf774e6d4f92865edb4f049f3ee4": {
      "model_module": "@jupyter-widgets/base",
      "model_module_version": "1.2.0",
      "model_name": "LayoutModel",
      "state": {
       "border": "10px solid rgb(0 177 255)",
       "margin": "auto"
      }
     },
     "3f65056cf675442b9cf391fd71a6e830": {
      "model_module": "@jupyter-widgets/controls",
      "model_module_version": "1.5.0",
      "model_name": "FloatProgressModel",
      "state": {
       "bar_style": "danger",
       "layout": "IPY_MODEL_185117243073457db80c33680875ae41",
       "max": 1,
       "style": "IPY_MODEL_c5df53cc47f440c18ddd2bd856b100e8",
       "value": 1
      }
     },
     "42a468e584c1425bbbb5620361ecbb61": {
      "model_module": "@jupyter-widgets/base",
      "model_module_version": "1.2.0",
      "model_name": "LayoutModel",
      "state": {
       "display": "flex"
      }
     },
     "484445fd5c884c67a7f2ba03e96988b1": {
      "model_module": "@jupyter-widgets/controls",
      "model_module_version": "1.5.0",
      "model_name": "TextModel",
      "state": {
       "description": "Rotate vel:",
       "layout": "IPY_MODEL_7ecfffaccc8646d8914befa44275c079",
       "style": "IPY_MODEL_738a3626b9c54887bcd5ce3cce4ae06e",
       "value": "0.28945061002184597"
      }
     },
     "4abb1d0bc4e24600baef440465e99903": {
      "model_module": "@jupyter-widgets/base",
      "model_module_version": "1.2.0",
      "model_name": "LayoutModel",
      "state": {
       "display": "flex"
      }
     },
     "51c4d62532f64c5a914b3be1478f5a4f": {
      "model_module": "@jupyter-widgets/base",
      "model_module_version": "1.2.0",
      "model_name": "LayoutModel",
      "state": {
       "display": "flex"
      }
     },
     "5403f5dea3cb46da8eb0751d3910af3d": {
      "model_module": "@jupyter-widgets/controls",
      "model_module_version": "1.5.0",
      "model_name": "DescriptionStyleModel",
      "state": {
       "description_width": ""
      }
     },
     "54a2afa5937a40469b1a1384f73e2ffd": {
      "model_module": "@jupyter-widgets/base",
      "model_module_version": "1.2.0",
      "model_name": "LayoutModel",
      "state": {
       "display": "flex"
      }
     },
     "56e0fa14bda1467cbe2720933eb2f642": {
      "model_module": "@jupyter-widgets/controls",
      "model_module_version": "1.5.0",
      "model_name": "HTMLModel",
      "state": {
       "layout": "IPY_MODEL_0b402fd294c9402a88e6bd5614955581",
       "style": "IPY_MODEL_a0085d0753424e5faeb3d1e9c0cb160f",
       "value": "<div style=\"outline: 5px solid #1976D2FF; width: 400px; height: 388px;\"><svg id='keras-network' xmlns='http://www.w3.org/2000/svg' xmlns:xlink='http://www.w3.org/1999/xlink' image-rendering=\"pixelated\" width=\"400px\" height=\"388px\" style=\"background-color: #B0C4DE\">\n <g >\n  <svg viewBox=\"0 0 350 340\" width=\"400px\" height=\"388px\">\n    <defs>\n        <marker id=\"arrow\" markerWidth=\"10\" markerHeight=\"10\" refX=\"9\" refY=\"3\" orient=\"auto\" markerUnits=\"strokeWidth\">\n          <path d=\"M0,0 L0,6 L9,3 z\" fill=\"black\" />\n        </marker>\n    </defs><rect x=\"74.0\" y=\"24\" width=\"202\" height=\"52\" style=\"fill:none;stroke:black;stroke-width:2\"/><image id=\"keras-network_output\" class=\"keras-network\" x=\"75.0\" y=\"25\" height=\"50\" width=\"200\" preserveAspectRatio=\"none\" image-rendering=\"optimizeSpeed\" xlink:href=\"data:image/gif;base64,R0lGODdhAgABAIEAAAAAAP///wAAAAAAACwAAAAAAgABAAAIBQADAAgIADs=\"><title>Layer: output 'Dense'\nAct function: linear\nAct output range: (-Infinity, +Infinity)\nShape = (None, 2)</title></image><text x=\"280.0\" y=\"52.0\" font-family=\"monospace\" font-size=\"12\" text-anchor=\"start\" fill=\"blue\" alignment-baseline=\"central\" >output</text><path d=\"M 175.0 104 L 175.0 77 \" stroke=\"black\" stroke-width=\"2\" marker-end=\"url(#arrow)\" fill=\"none\" /><rect x=\"74.0\" y=\"104\" width=\"202\" height=\"52\" style=\"fill:none;stroke:black;stroke-width:2\"/><image id=\"keras-network_hidden_2\" class=\"keras-network\" x=\"75.0\" y=\"105\" height=\"50\" width=\"200\" preserveAspectRatio=\"none\" image-rendering=\"optimizeSpeed\" xlink:href=\"data:image/gif;base64,R0lGODdhGAABAIQAAAAAABQUFC4uLjY2Njw8PEhISE1NTU9PT1ZWVmJiYmNjY25ubnh4eKenp62trbKysrS0tLu7u729vdHR0f7+/gAAAAAAAAAAAAAAAAAAAAAAAAAAAAAAAAAAAAAAAAAAACwAAAAAGAABAAAIHgAZUIgAYcGBAQEmGGjQQMEDAA4IFEggAYGABQACAgA7\"><title>Layer: hidden_2 'Dense'\nAct function: linear\nAct output range: (-Infinity, +Infinity)\nShape = (None, 24)</title></image><text x=\"280.0\" y=\"132.0\" font-family=\"monospace\" font-size=\"12\" text-anchor=\"start\" fill=\"blue\" alignment-baseline=\"central\" >hidden_2</text><path d=\"M 175.0 184 L 175.0 157 \" stroke=\"black\" stroke-width=\"2\" marker-end=\"url(#arrow)\" fill=\"none\" /><rect x=\"74.0\" y=\"184\" width=\"202\" height=\"52\" style=\"fill:none;stroke:black;stroke-width:2\"/><image id=\"keras-network_hidden_1\" class=\"keras-network\" x=\"75.0\" y=\"185\" height=\"50\" width=\"200\" preserveAspectRatio=\"none\" image-rendering=\"optimizeSpeed\" xlink:href=\"data:image/gif;base64,R0lGODdhGAABAIQAAAAAACQkJCUlJS4uLjExMUhISFxcXGhoaGpqamxsbHBwcHp6eoKCgomJiZKSkpqamq6urr6+vsvLy9/f3+Li4vn5+f///wAAAAAAAAAAAAAAAAAAAAAAAAAAAAAAAAAAACwAAAAAGAABAAAIHgArEEAw4EEABQwOAIDgIAGFCAUSTLBgQIKABQ0CAgA7\"><title>Layer: hidden_1 'Dense'\nAct function: linear\nAct output range: (-Infinity, +Infinity)\nShape = (None, 24)</title></image><text x=\"280.0\" y=\"212.0\" font-family=\"monospace\" font-size=\"12\" text-anchor=\"start\" fill=\"blue\" alignment-baseline=\"central\" >hidden_1</text><path d=\"M 175.0 264 L 175.0 237 \" stroke=\"black\" stroke-width=\"2\" marker-end=\"url(#arrow)\" fill=\"none\" /><rect x=\"74.0\" y=\"264\" width=\"202\" height=\"52\" style=\"fill:none;stroke:black;stroke-width:2\"/><image id=\"keras-network_input\" class=\"keras-network\" x=\"75.0\" y=\"265\" height=\"50\" width=\"200\" preserveAspectRatio=\"none\" image-rendering=\"optimizeSpeed\" xlink:href=\"data:image/gif;base64,R0lGODdhBAABAIEAAAAAAAYGBjExMf///ywAAAAABAABAAAIBwAHCAAQICAAOw==\"><title>Layer: input 'InputLayer'\nShape = [(None, 4)]</title></image><text x=\"280.0\" y=\"292.0\" font-family=\"monospace\" font-size=\"12\" text-anchor=\"start\" fill=\"blue\" alignment-baseline=\"central\" >input</text><text x=\"175.0\" y=\"12.5\" font-family=\"monospace\" font-size=\"15\" text-anchor=\"middle\" fill=\"black\" alignment-baseline=\"central\" >Activations for SimpleNetwork</text></svg></g></svg></div>"
      }
     },
     "5cd59705aaa043ccb46119a0aba4095e": {
      "model_module": "@jupyter-widgets/controls",
      "model_module_version": "1.5.0",
      "model_name": "DescriptionStyleModel",
      "state": {
       "description_width": ""
      }
     },
     "5d1563cf56d04d718d6505de60963446": {
      "model_module": "@jupyter-widgets/controls",
      "model_module_version": "1.5.0",
      "model_name": "TextModel",
      "state": {
       "description": "X:",
       "layout": "IPY_MODEL_adc6a99037504fca9f8569912d08ff9f",
       "style": "IPY_MODEL_5cd59705aaa043ccb46119a0aba4095e",
       "value": "0.15684822703548698"
      }
     },
     "6d5832e1987f4cec860e4dfc22d59ffe": {
      "model_module": "@jupyter-widgets/base",
      "model_module_version": "1.2.0",
      "model_name": "LayoutModel",
      "state": {}
     },
     "738a3626b9c54887bcd5ce3cce4ae06e": {
      "model_module": "@jupyter-widgets/controls",
      "model_module_version": "1.5.0",
      "model_name": "DescriptionStyleModel",
      "state": {
       "description_width": ""
      }
     },
     "78dc5ea442884a799ff345457d6ea36c": {
      "model_module": "@jupyter-widgets/base",
      "model_module_version": "1.2.0",
      "model_name": "LayoutModel",
      "state": {
       "border": "10px solid rgb(0 177 255)"
      }
     },
     "79e188eaf64e4f178757ff399555b96d": {
      "model_module": "@jupyter-widgets/base",
      "model_module_version": "1.2.0",
      "model_name": "LayoutModel",
      "state": {
       "display": "none",
       "height": "auto",
       "width": "-webkit-fill-available"
      }
     },
     "7bb99abdbb814e7c8e20da6fac4bb79e": {
      "model_module": "@jupyter-widgets/controls",
      "model_module_version": "1.5.0",
      "model_name": "VBoxModel",
      "state": {
       "children": [
        "IPY_MODEL_b42f189649a34c14b5d8d42f414cec2f",
        "IPY_MODEL_90136512d7dc40859dd9054e24e7de84",
        "IPY_MODEL_5d1563cf56d04d718d6505de60963446",
        "IPY_MODEL_bd7c5f7fdf5148a181aff0a85f0a2c36",
        "IPY_MODEL_d98c2b93c33e4aa3b6fc9076187d74db",
        "IPY_MODEL_f785d2c721fb480d9fef816f18642dff",
        "IPY_MODEL_e2b6f4b8330b4e038bec4a51038930c1",
        "IPY_MODEL_484445fd5c884c67a7f2ba03e96988b1",
        "IPY_MODEL_8525ab9a191c4757b78022360e6f6829"
       ],
       "layout": "IPY_MODEL_78dc5ea442884a799ff345457d6ea36c"
      }
     },
     "7ecfffaccc8646d8914befa44275c079": {
      "model_module": "@jupyter-widgets/base",
      "model_module_version": "1.2.0",
      "model_name": "LayoutModel",
      "state": {
       "display": "flex"
      }
     },
     "821966101e9b4c33ab1a841053faeb21": {
      "model_module": "@jupyter-widgets/controls",
      "model_module_version": "1.5.0",
      "model_name": "HBoxModel",
      "state": {
       "children": [
        "IPY_MODEL_279cba2b871349e3a7f579704c6c88f2",
        "IPY_MODEL_3f65056cf675442b9cf391fd71a6e830",
        "IPY_MODEL_8e0f83ec617f4f358e25491af38c5f83"
       ],
       "layout": "IPY_MODEL_09a821d848274af1935bedbe0b26a4d4"
      }
     },
     "8525ab9a191c4757b78022360e6f6829": {
      "model_module": "@jupyter-widgets/controls",
      "model_module_version": "1.5.0",
      "model_name": "TextareaModel",
      "state": {
       "description": "State:",
       "layout": "IPY_MODEL_aef048930e414d5aad4273b4ec8301f3",
       "style": "IPY_MODEL_1d660ff5224b4ca68e724f10324c575e",
       "value": "{}"
      }
     },
     "8c74cb5d592847e18baff02c88f38950": {
      "model_module": "@jupyter-widgets/base",
      "model_module_version": "1.2.0",
      "model_name": "LayoutModel",
      "state": {}
     },
     "8e0f83ec617f4f358e25491af38c5f83": {
      "model_module": "@jupyter-widgets/controls",
      "model_module_version": "1.5.0",
      "model_name": "HTMLModel",
      "state": {
       "layout": "IPY_MODEL_f8060e51f5d242de9a92c0d591dec511",
       "style": "IPY_MODEL_5403f5dea3cb46da8eb0751d3910af3d",
       "value": " 39/? [00:01&lt;00:00, 33.37it/s]"
      }
     },
     "90136512d7dc40859dd9054e24e7de84": {
      "model_module": "@jupyter-widgets/controls",
      "model_module_version": "1.5.0",
      "model_name": "TextModel",
      "state": {
       "description": "Name:",
       "layout": "IPY_MODEL_54a2afa5937a40469b1a1384f73e2ffd",
       "style": "IPY_MODEL_f4c1d1004cd145148e2ed394fda06a15",
       "value": "Robbie"
      }
     },
     "988d931cf47846c6941e5ee2c7f223fa": {
      "model_module": "@jupyter-widgets/controls",
      "model_module_version": "1.5.0",
      "model_name": "DescriptionStyleModel",
      "state": {
       "description_width": ""
      }
     },
     "a0085d0753424e5faeb3d1e9c0cb160f": {
      "model_module": "@jupyter-widgets/controls",
      "model_module_version": "1.5.0",
      "model_name": "DescriptionStyleModel",
      "state": {
       "description_width": ""
      }
     },
     "a8d3dd465fef43e98739b63220243eca": {
      "model_module": "@jupyter-widgets/controls",
      "model_module_version": "1.5.0",
      "model_name": "DescriptionStyleModel",
      "state": {
       "description_width": ""
      }
     },
     "abaff55e0e4f4a618d2c0d28c6ec7f32": {
      "model_module": "@jupyter-widgets/controls",
      "model_module_version": "1.5.0",
      "model_name": "DescriptionStyleModel",
      "state": {
       "description_width": ""
      }
     },
     "ad5b393ed52240ebbd52d8318f8e6931": {
      "model_module": "@jupyter-widgets/controls",
      "model_module_version": "1.5.0",
      "model_name": "DescriptionStyleModel",
      "state": {
       "description_width": ""
      }
     },
     "adc6a99037504fca9f8569912d08ff9f": {
      "model_module": "@jupyter-widgets/base",
      "model_module_version": "1.2.0",
      "model_name": "LayoutModel",
      "state": {
       "display": "flex"
      }
     },
     "aef048930e414d5aad4273b4ec8301f3": {
      "model_module": "@jupyter-widgets/base",
      "model_module_version": "1.2.0",
      "model_name": "LayoutModel",
      "state": {
       "display": "flex"
      }
     },
     "b04433659d074acb9d06a9e60f73c6f8": {
      "model_module": "@jupyter-widgets/controls",
      "model_module_version": "1.5.0",
      "model_name": "HTMLModel",
      "state": {
       "layout": "IPY_MODEL_8c74cb5d592847e18baff02c88f38950",
       "style": "IPY_MODEL_abaff55e0e4f4a618d2c0d28c6ec7f32",
       "value": "<style>img.pixelated {image-rendering: pixelated;}</style>"
      }
     },
     "b42f189649a34c14b5d8d42f414cec2f": {
      "model_module": "@jupyter-widgets/controls",
      "model_module_version": "1.5.0",
      "model_name": "ImageModel",
      "state": {
       "_dom_classes": [
        "pixelated"
       ],
       "layout": "IPY_MODEL_79e188eaf64e4f178757ff399555b96d"
      }
     },
     "bd7c5f7fdf5148a181aff0a85f0a2c36": {
      "model_module": "@jupyter-widgets/controls",
      "model_module_version": "1.5.0",
      "model_name": "TextModel",
      "state": {
       "description": "Y:",
       "layout": "IPY_MODEL_51c4d62532f64c5a914b3be1478f5a4f",
       "style": "IPY_MODEL_988d931cf47846c6941e5ee2c7f223fa",
       "value": "0"
      }
     },
     "c5df53cc47f440c18ddd2bd856b100e8": {
      "model_module": "@jupyter-widgets/controls",
      "model_module_version": "1.5.0",
      "model_name": "ProgressStyleModel",
      "state": {
       "description_width": ""
      }
     },
     "d6d8dcf5df34412eb01b41ac26352ab2": {
      "model_module": "@jupyter-widgets/controls",
      "model_module_version": "1.5.0",
      "model_name": "DescriptionStyleModel",
      "state": {
       "description_width": ""
      }
     },
     "d98c2b93c33e4aa3b6fc9076187d74db": {
      "model_module": "@jupyter-widgets/controls",
      "model_module_version": "1.5.0",
      "model_name": "TextModel",
      "state": {
       "description": "A:",
       "layout": "IPY_MODEL_4abb1d0bc4e24600baef440465e99903",
       "style": "IPY_MODEL_a8d3dd465fef43e98739b63220243eca",
       "value": "-0.005427824958114006"
      }
     },
     "dfa561b9eed9435d9beecbed25a1172c": {
      "buffers": [
       {
        "data": "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",
        "encoding": "base64",
        "path": [
         "value"
        ]
       }
      ],
      "model_module": "@jupyter-widgets/controls",
      "model_module_version": "1.5.0",
      "model_name": "ImageModel",
      "state": {
       "layout": "IPY_MODEL_2cb5cf774e6d4f92865edb4f049f3ee4"
      }
     },
     "e2b6f4b8330b4e038bec4a51038930c1": {
      "model_module": "@jupyter-widgets/controls",
      "model_module_version": "1.5.0",
      "model_name": "TextModel",
      "state": {
       "description": "Trans vel:",
       "layout": "IPY_MODEL_42a468e584c1425bbbb5620361ecbb61",
       "style": "IPY_MODEL_251bbd8b33344b2e9a7f856ac005a858",
       "value": "-0.16921898879115807"
      }
     },
     "ed737bc00a6d4739baca17c25689cb50": {
      "model_module": "@jupyter-widgets/base",
      "model_module_version": "1.2.0",
      "model_name": "LayoutModel",
      "state": {
       "display": "flex"
      }
     },
     "f4c1d1004cd145148e2ed394fda06a15": {
      "model_module": "@jupyter-widgets/controls",
      "model_module_version": "1.5.0",
      "model_name": "DescriptionStyleModel",
      "state": {
       "description_width": ""
      }
     },
     "f785d2c721fb480d9fef816f18642dff": {
      "model_module": "@jupyter-widgets/controls",
      "model_module_version": "1.5.0",
      "model_name": "TextModel",
      "state": {
       "description": "Stalled:",
       "layout": "IPY_MODEL_ed737bc00a6d4739baca17c25689cb50",
       "style": "IPY_MODEL_ad5b393ed52240ebbd52d8318f8e6931",
       "value": "False"
      }
     },
     "f8060e51f5d242de9a92c0d591dec511": {
      "model_module": "@jupyter-widgets/base",
      "model_module_version": "1.2.0",
      "model_name": "LayoutModel",
      "state": {}
     }
    },
    "version_major": 2,
    "version_minor": 0
   }
  }
 },
 "nbformat": 4,
 "nbformat_minor": 4
}