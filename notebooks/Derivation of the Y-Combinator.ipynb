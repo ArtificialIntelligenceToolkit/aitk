{
 "cells": [
  {
   "cell_type": "markdown",
   "metadata": {},
   "source": "<a target=\"_blank\" href=\"https://colab.research.google.com/github/ArtificialIntelligenceToolkit/aitk/blob/master/notebooks/Derivation of the Y-Combinator.ipynb\"><img src=\"https://colab.research.google.com/assets/colab-badge.svg\" alt=\"Open In Colab\"/></a>"
  },
  {
   "cell_type": "code",
   "execution_count": null,
   "metadata": {
    "id": "AQMTpw5e_0cx"
   },
   "outputs": [],
   "source": [
    "%pip install aitk --upgrade --quiet"
   ]
  },
  {
   "cell_type": "markdown",
   "metadata": {},
   "source": [
    "# Derivation of the Y-Combinator\n",
    "\n",
    "## Douglas Blank\n",
    "\n",
    "### Based on work by Jim Marshall\n",
    "\n",
    "This is the derivation of the applicative-order Y-combinator from scratch, in Python. The following derivation is similar in flavor to the derivation found in The Little LISPer by Friedman/Felleisen, but uses a slightly different starting approach (for one thing, I begin with the \"sum\" function). Maybe this version will be a little easier to follow."
   ]
  },
  {
   "cell_type": "markdown",
   "metadata": {},
   "source": [
    "For these examples, we're going to write some little, often recursive, functions. But instead of use `def function():` we'll use lambda without any return statement, just a simple expression. \n",
    "\n",
    "For example, here is a named function that can add two numbers together:"
   ]
  },
  {
   "cell_type": "code",
   "execution_count": 7,
   "metadata": {
    "tags": []
   },
   "outputs": [],
   "source": [
    "def add(a, b):\n",
    "    return a + b"
   ]
  },
  {
   "cell_type": "markdown",
   "metadata": {},
   "source": [
    "And here is the same function, but this time unnamed:"
   ]
  },
  {
   "cell_type": "code",
   "execution_count": 8,
   "metadata": {
    "tags": []
   },
   "outputs": [
    {
     "data": {
      "text/plain": [
       "<function __main__.<lambda>(a, b)>"
      ]
     },
     "execution_count": 8,
     "metadata": {},
     "output_type": "execute_result"
    }
   ],
   "source": [
    "(lambda a, b: a + b)"
   ]
  },
  {
   "cell_type": "markdown",
   "metadata": {
    "tags": []
   },
   "source": [
    "And (just like its named counterpart) here is how we can apply it to two numbers:"
   ]
  },
  {
   "cell_type": "code",
   "execution_count": 9,
   "metadata": {
    "tags": []
   },
   "outputs": [
    {
     "data": {
      "text/plain": [
       "11"
      ]
     },
     "execution_count": 9,
     "metadata": {},
     "output_type": "execute_result"
    }
   ],
   "source": [
    "add(4, 7)"
   ]
  },
  {
   "cell_type": "code",
   "execution_count": 10,
   "metadata": {
    "tags": []
   },
   "outputs": [
    {
     "data": {
      "text/plain": [
       "11"
      ]
     },
     "execution_count": 10,
     "metadata": {},
     "output_type": "execute_result"
    }
   ],
   "source": [
    "(lambda a, b: a + b)(4, 7)"
   ]
  },
  {
   "cell_type": "markdown",
   "metadata": {
    "tags": []
   },
   "source": [
    "Also, one other trick we can do to give it a name internally: we can use the default argument syntax of Python's lambda:"
   ]
  },
  {
   "cell_type": "code",
   "execution_count": 11,
   "metadata": {
    "tags": []
   },
   "outputs": [
    {
     "data": {
      "text/plain": [
       "<function __main__.<lambda>(add=<function <lambda> at 0x7f1da7930ee0>)>"
      ]
     },
     "execution_count": 11,
     "metadata": {},
     "output_type": "execute_result"
    }
   ],
   "source": [
    "(lambda add=(lambda a, b: a + b): add(4, 7))"
   ]
  },
  {
   "cell_type": "markdown",
   "metadata": {},
   "source": [
    "To evaluate, we call it with no arguments:"
   ]
  },
  {
   "cell_type": "code",
   "execution_count": 12,
   "metadata": {
    "tags": []
   },
   "outputs": [
    {
     "data": {
      "text/plain": [
       "11"
      ]
     },
     "execution_count": 12,
     "metadata": {},
     "output_type": "execute_result"
    }
   ],
   "source": [
    "(lambda add=(lambda a, b: a + b): add(4, 7))()"
   ]
  },
  {
   "cell_type": "markdown",
   "metadata": {},
   "source": [
    "And, one final trick: we can pull the default value out and pass it in:"
   ]
  },
  {
   "cell_type": "code",
   "execution_count": 13,
   "metadata": {
    "tags": []
   },
   "outputs": [
    {
     "data": {
      "text/plain": [
       "<function __main__.<lambda>(add)>"
      ]
     },
     "execution_count": 13,
     "metadata": {},
     "output_type": "execute_result"
    }
   ],
   "source": [
    "(lambda add: add(4, 7))"
   ]
  },
  {
   "cell_type": "code",
   "execution_count": 14,
   "metadata": {
    "tags": []
   },
   "outputs": [
    {
     "data": {
      "text/plain": [
       "11"
      ]
     },
     "execution_count": 14,
     "metadata": {},
     "output_type": "execute_result"
    }
   ],
   "source": [
    "(lambda add: add(4, 7))(lambda a, b: a + b)"
   ]
  },
  {
   "cell_type": "markdown",
   "metadata": {},
   "source": [
    "Ok, with those brief examples, let's get going!"
   ]
  },
  {
   "cell_type": "markdown",
   "metadata": {},
   "source": [
    "**Step 0**. We wish to write the recursive function \"sum.\" No problem! Here is a recursive version written as one expression. It says, return 0 if `not list` (there is nothing in the list, thus length zero). Otherwise, recursively call \"sum()\" on everything but the first element (`sum(list[1:])`), and add the first element to that."
   ]
  },
  {
   "cell_type": "code",
   "execution_count": 15,
   "metadata": {
    "tags": []
   },
   "outputs": [],
   "source": [
    "def sum(list): \n",
    "    return (0 if not list else \n",
    "            sum(list[1:]) + list[0])"
   ]
  },
  {
   "cell_type": "code",
   "execution_count": 16,
   "metadata": {
    "tags": []
   },
   "outputs": [
    {
     "data": {
      "text/plain": [
       "28"
      ]
     },
     "execution_count": 16,
     "metadata": {},
     "output_type": "execute_result"
    }
   ],
   "source": [
    "sum([4, 7, 5, 6, 2, 4])"
   ]
  },
  {
   "cell_type": "markdown",
   "metadata": {},
   "source": [
    "Ok, but can we write it without having to give it a name, with `lambda` and no `return`? Sorta:"
   ]
  },
  {
   "cell_type": "code",
   "execution_count": 17,
   "metadata": {
    "tags": []
   },
   "outputs": [
    {
     "data": {
      "text/plain": [
       "<function __main__.<lambda>(list)>"
      ]
     },
     "execution_count": 17,
     "metadata": {},
     "output_type": "execute_result"
    }
   ],
   "source": [
    "(lambda list: 0 if not list else \n",
    "    QQQ(list[1:]) + list[0])"
   ]
  },
  {
   "cell_type": "markdown",
   "metadata": {},
   "source": [
    "And as above, we could apply it to a list of numbers:"
   ]
  },
  {
   "cell_type": "markdown",
   "metadata": {},
   "source": [
    "I put in a QQQ in the place of where we used the name \"sum\" above. Does that work? Let's apply it to a list:"
   ]
  },
  {
   "cell_type": "code",
   "execution_count": 18,
   "metadata": {
    "tags": []
   },
   "outputs": [
    {
     "ename": "NameError",
     "evalue": "name 'QQQ' is not defined",
     "output_type": "error",
     "traceback": [
      "\u001b[0;31m---------------------------------------------------------------------------\u001b[0m",
      "\u001b[0;31mNameError\u001b[0m                                 Traceback (most recent call last)",
      "Cell \u001b[0;32mIn[18], line 1\u001b[0m\n\u001b[0;32m----> 1\u001b[0m \u001b[43m(\u001b[49m\u001b[38;5;28;43;01mlambda\u001b[39;49;00m\u001b[43m \u001b[49m\u001b[38;5;28;43mlist\u001b[39;49m\u001b[43m:\u001b[49m\u001b[43m \u001b[49m\u001b[38;5;241;43m0\u001b[39;49m\u001b[43m \u001b[49m\u001b[38;5;28;43;01mif\u001b[39;49;00m\u001b[43m \u001b[49m\u001b[38;5;129;43;01mnot\u001b[39;49;00m\u001b[43m \u001b[49m\u001b[38;5;28;43mlist\u001b[39;49m\u001b[43m \u001b[49m\u001b[38;5;28;43;01melse\u001b[39;49;00m\u001b[43m \u001b[49m\n\u001b[1;32m      2\u001b[0m \u001b[43m    \u001b[49m\u001b[43mQQQ\u001b[49m\u001b[43m(\u001b[49m\u001b[38;5;28;43mlist\u001b[39;49m\u001b[43m[\u001b[49m\u001b[38;5;241;43m1\u001b[39;49m\u001b[43m:\u001b[49m\u001b[43m]\u001b[49m\u001b[43m)\u001b[49m\u001b[43m \u001b[49m\u001b[38;5;241;43m+\u001b[39;49m\u001b[43m \u001b[49m\u001b[38;5;28;43mlist\u001b[39;49m\u001b[43m[\u001b[49m\u001b[38;5;241;43m0\u001b[39;49m\u001b[43m]\u001b[49m\u001b[43m)\u001b[49m\u001b[43m(\u001b[49m\n\u001b[1;32m      3\u001b[0m \u001b[43m        \u001b[49m\u001b[43m[\u001b[49m\u001b[38;5;241;43m4\u001b[39;49m\u001b[43m,\u001b[49m\u001b[43m \u001b[49m\u001b[38;5;241;43m7\u001b[39;49m\u001b[43m,\u001b[49m\u001b[43m \u001b[49m\u001b[38;5;241;43m5\u001b[39;49m\u001b[43m,\u001b[49m\u001b[43m \u001b[49m\u001b[38;5;241;43m6\u001b[39;49m\u001b[43m,\u001b[49m\u001b[43m \u001b[49m\u001b[38;5;241;43m2\u001b[39;49m\u001b[43m,\u001b[49m\u001b[43m \u001b[49m\u001b[38;5;241;43m4\u001b[39;49m\u001b[43m]\u001b[49m\n\u001b[1;32m      4\u001b[0m \u001b[43m)\u001b[49m\n",
      "Cell \u001b[0;32mIn[18], line 2\u001b[0m, in \u001b[0;36m<lambda>\u001b[0;34m(list)\u001b[0m\n\u001b[1;32m      1\u001b[0m (\u001b[38;5;28;01mlambda\u001b[39;00m \u001b[38;5;28mlist\u001b[39m: \u001b[38;5;241m0\u001b[39m \u001b[38;5;28;01mif\u001b[39;00m \u001b[38;5;129;01mnot\u001b[39;00m \u001b[38;5;28mlist\u001b[39m \u001b[38;5;28;01melse\u001b[39;00m \n\u001b[0;32m----> 2\u001b[0m     \u001b[43mQQQ\u001b[49m(\u001b[38;5;28mlist\u001b[39m[\u001b[38;5;241m1\u001b[39m:]) \u001b[38;5;241m+\u001b[39m \u001b[38;5;28mlist\u001b[39m[\u001b[38;5;241m0\u001b[39m])(\n\u001b[1;32m      3\u001b[0m         [\u001b[38;5;241m4\u001b[39m, \u001b[38;5;241m7\u001b[39m, \u001b[38;5;241m5\u001b[39m, \u001b[38;5;241m6\u001b[39m, \u001b[38;5;241m2\u001b[39m, \u001b[38;5;241m4\u001b[39m]\n\u001b[1;32m      4\u001b[0m )\n",
      "\u001b[0;31mNameError\u001b[0m: name 'QQQ' is not defined"
     ]
    }
   ],
   "source": [
    "(lambda list: 0 if not list else \n",
    "    QQQ(list[1:]) + list[0])(\n",
    "        [4, 7, 5, 6, 2, 4]\n",
    ")"
   ]
  },
  {
   "cell_type": "markdown",
   "metadata": {},
   "source": [
    "No. What can we replace QQQ that would work here? A copy of the function itself! Let's try replacing QQQ with the function defintion, apply it to a short list:"
   ]
  },
  {
   "cell_type": "code",
   "execution_count": 19,
   "metadata": {
    "tags": []
   },
   "outputs": [
    {
     "data": {
      "text/plain": [
       "4"
      ]
     },
     "execution_count": 19,
     "metadata": {},
     "output_type": "execute_result"
    }
   ],
   "source": [
    "(lambda list: 0 if not list else \n",
    "    (lambda list: 0 if not list else \n",
    "         QQQ(list[1:]) + list[0])(list[1:]) + list[0])(\n",
    "            [4]\n",
    ")"
   ]
  },
  {
   "cell_type": "markdown",
   "metadata": {},
   "source": [
    "It works! Well, for a list with one number in it. What about two numbers?"
   ]
  },
  {
   "cell_type": "code",
   "execution_count": 20,
   "metadata": {
    "tags": []
   },
   "outputs": [
    {
     "ename": "NameError",
     "evalue": "name 'QQQ' is not defined",
     "output_type": "error",
     "traceback": [
      "\u001b[0;31m---------------------------------------------------------------------------\u001b[0m",
      "\u001b[0;31mNameError\u001b[0m                                 Traceback (most recent call last)",
      "Cell \u001b[0;32mIn[20], line 1\u001b[0m\n\u001b[0;32m----> 1\u001b[0m \u001b[43m(\u001b[49m\u001b[38;5;28;43;01mlambda\u001b[39;49;00m\u001b[43m \u001b[49m\u001b[38;5;28;43mlist\u001b[39;49m\u001b[43m:\u001b[49m\u001b[43m \u001b[49m\u001b[38;5;241;43m0\u001b[39;49m\u001b[43m \u001b[49m\u001b[38;5;28;43;01mif\u001b[39;49;00m\u001b[43m \u001b[49m\u001b[38;5;129;43;01mnot\u001b[39;49;00m\u001b[43m \u001b[49m\u001b[38;5;28;43mlist\u001b[39;49m\u001b[43m \u001b[49m\u001b[38;5;28;43;01melse\u001b[39;49;00m\u001b[43m \u001b[49m\n\u001b[1;32m      2\u001b[0m \u001b[43m   \u001b[49m\u001b[43m(\u001b[49m\u001b[38;5;28;43;01mlambda\u001b[39;49;00m\u001b[43m \u001b[49m\u001b[38;5;28;43mlist\u001b[39;49m\u001b[43m:\u001b[49m\u001b[43m \u001b[49m\u001b[38;5;241;43m0\u001b[39;49m\u001b[43m \u001b[49m\u001b[38;5;28;43;01mif\u001b[39;49;00m\u001b[43m \u001b[49m\u001b[38;5;129;43;01mnot\u001b[39;49;00m\u001b[43m \u001b[49m\u001b[38;5;28;43mlist\u001b[39;49m\u001b[43m \u001b[49m\u001b[38;5;28;43;01melse\u001b[39;49;00m\u001b[43m \u001b[49m\n\u001b[1;32m      3\u001b[0m \u001b[43m        \u001b[49m\u001b[43mQQQ\u001b[49m\u001b[43m(\u001b[49m\u001b[38;5;28;43mlist\u001b[39;49m\u001b[43m[\u001b[49m\u001b[38;5;241;43m1\u001b[39;49m\u001b[43m:\u001b[49m\u001b[43m]\u001b[49m\u001b[43m)\u001b[49m\u001b[43m \u001b[49m\u001b[38;5;241;43m+\u001b[39;49m\u001b[43m \u001b[49m\u001b[38;5;28;43mlist\u001b[39;49m\u001b[43m[\u001b[49m\u001b[38;5;241;43m0\u001b[39;49m\u001b[43m]\u001b[49m\u001b[43m)\u001b[49m\u001b[43m(\u001b[49m\u001b[38;5;28;43mlist\u001b[39;49m\u001b[43m[\u001b[49m\u001b[38;5;241;43m1\u001b[39;49m\u001b[43m:\u001b[49m\u001b[43m]\u001b[49m\u001b[43m)\u001b[49m\u001b[43m \u001b[49m\u001b[38;5;241;43m+\u001b[39;49m\u001b[43m \u001b[49m\u001b[38;5;28;43mlist\u001b[39;49m\u001b[43m[\u001b[49m\u001b[38;5;241;43m0\u001b[39;49m\u001b[43m]\u001b[49m\u001b[43m)\u001b[49m\u001b[43m(\u001b[49m\n\u001b[1;32m      4\u001b[0m \u001b[43m            \u001b[49m\u001b[43m[\u001b[49m\u001b[38;5;241;43m4\u001b[39;49m\u001b[43m,\u001b[49m\u001b[43m \u001b[49m\u001b[38;5;241;43m7\u001b[39;49m\u001b[43m]\u001b[49m\n\u001b[1;32m      5\u001b[0m \u001b[43m)\u001b[49m\n",
      "Cell \u001b[0;32mIn[20], line 2\u001b[0m, in \u001b[0;36m<lambda>\u001b[0;34m(list)\u001b[0m\n\u001b[1;32m      1\u001b[0m (\u001b[38;5;28;01mlambda\u001b[39;00m \u001b[38;5;28mlist\u001b[39m: \u001b[38;5;241m0\u001b[39m \u001b[38;5;28;01mif\u001b[39;00m \u001b[38;5;129;01mnot\u001b[39;00m \u001b[38;5;28mlist\u001b[39m \u001b[38;5;28;01melse\u001b[39;00m \n\u001b[0;32m----> 2\u001b[0m    \u001b[43m(\u001b[49m\u001b[38;5;28;43;01mlambda\u001b[39;49;00m\u001b[43m \u001b[49m\u001b[38;5;28;43mlist\u001b[39;49m\u001b[43m:\u001b[49m\u001b[43m \u001b[49m\u001b[38;5;241;43m0\u001b[39;49m\u001b[43m \u001b[49m\u001b[38;5;28;43;01mif\u001b[39;49;00m\u001b[43m \u001b[49m\u001b[38;5;129;43;01mnot\u001b[39;49;00m\u001b[43m \u001b[49m\u001b[38;5;28;43mlist\u001b[39;49m\u001b[43m \u001b[49m\u001b[38;5;28;43;01melse\u001b[39;49;00m\u001b[43m \u001b[49m\n\u001b[1;32m      3\u001b[0m \u001b[43m        \u001b[49m\u001b[43mQQQ\u001b[49m\u001b[43m(\u001b[49m\u001b[38;5;28;43mlist\u001b[39;49m\u001b[43m[\u001b[49m\u001b[38;5;241;43m1\u001b[39;49m\u001b[43m:\u001b[49m\u001b[43m]\u001b[49m\u001b[43m)\u001b[49m\u001b[43m \u001b[49m\u001b[38;5;241;43m+\u001b[39;49m\u001b[43m \u001b[49m\u001b[38;5;28;43mlist\u001b[39;49m\u001b[43m[\u001b[49m\u001b[38;5;241;43m0\u001b[39;49m\u001b[43m]\u001b[49m\u001b[43m)\u001b[49m\u001b[43m(\u001b[49m\u001b[38;5;28;43mlist\u001b[39;49m\u001b[43m[\u001b[49m\u001b[38;5;241;43m1\u001b[39;49m\u001b[43m:\u001b[49m\u001b[43m]\u001b[49m\u001b[43m)\u001b[49m \u001b[38;5;241m+\u001b[39m \u001b[38;5;28mlist\u001b[39m[\u001b[38;5;241m0\u001b[39m])(\n\u001b[1;32m      4\u001b[0m             [\u001b[38;5;241m4\u001b[39m, \u001b[38;5;241m7\u001b[39m]\n\u001b[1;32m      5\u001b[0m )\n",
      "Cell \u001b[0;32mIn[20], line 3\u001b[0m, in \u001b[0;36m<lambda>.<locals>.<lambda>\u001b[0;34m(list)\u001b[0m\n\u001b[1;32m      1\u001b[0m (\u001b[38;5;28;01mlambda\u001b[39;00m \u001b[38;5;28mlist\u001b[39m: \u001b[38;5;241m0\u001b[39m \u001b[38;5;28;01mif\u001b[39;00m \u001b[38;5;129;01mnot\u001b[39;00m \u001b[38;5;28mlist\u001b[39m \u001b[38;5;28;01melse\u001b[39;00m \n\u001b[1;32m      2\u001b[0m    (\u001b[38;5;28;01mlambda\u001b[39;00m \u001b[38;5;28mlist\u001b[39m: \u001b[38;5;241m0\u001b[39m \u001b[38;5;28;01mif\u001b[39;00m \u001b[38;5;129;01mnot\u001b[39;00m \u001b[38;5;28mlist\u001b[39m \u001b[38;5;28;01melse\u001b[39;00m \n\u001b[0;32m----> 3\u001b[0m         \u001b[43mQQQ\u001b[49m(\u001b[38;5;28mlist\u001b[39m[\u001b[38;5;241m1\u001b[39m:]) \u001b[38;5;241m+\u001b[39m \u001b[38;5;28mlist\u001b[39m[\u001b[38;5;241m0\u001b[39m])(\u001b[38;5;28mlist\u001b[39m[\u001b[38;5;241m1\u001b[39m:]) \u001b[38;5;241m+\u001b[39m \u001b[38;5;28mlist\u001b[39m[\u001b[38;5;241m0\u001b[39m])(\n\u001b[1;32m      4\u001b[0m             [\u001b[38;5;241m4\u001b[39m, \u001b[38;5;241m7\u001b[39m]\n\u001b[1;32m      5\u001b[0m )\n",
      "\u001b[0;31mNameError\u001b[0m: name 'QQQ' is not defined"
     ]
    }
   ],
   "source": [
    "(lambda list: 0 if not list else \n",
    "   (lambda list: 0 if not list else \n",
    "        QQQ(list[1:]) + list[0])(list[1:]) + list[0])(\n",
    "            [4, 7]\n",
    ")"
   ]
  },
  {
   "cell_type": "markdown",
   "metadata": {},
   "source": [
    "Oh, no. We need another copy:"
   ]
  },
  {
   "cell_type": "code",
   "execution_count": 21,
   "metadata": {
    "tags": []
   },
   "outputs": [
    {
     "data": {
      "text/plain": [
       "11"
      ]
     },
     "execution_count": 21,
     "metadata": {},
     "output_type": "execute_result"
    }
   ],
   "source": [
    "(lambda list: 0 if not list else \n",
    "   (lambda list: 0 if not list else \n",
    "        (lambda list:  0 if not list else \n",
    "             QQQ(list[1:]) + list[0])(list[1:]) \n",
    "                + list[0])(list[1:]) + list[0])(\n",
    "                    [4, 7]\n",
    ")"
   ]
  },
  {
   "cell_type": "markdown",
   "metadata": {},
   "source": [
    "Yahoo! The problem, of course, is that we can't keep plugging in the function expression itself directly in place of the QQQ's forever because that immediately leads to an infinite regress. It's like trying to quote an entire sentence inside the sentence itself. "
   ]
  },
  {
   "cell_type": "markdown",
   "metadata": {},
   "source": [
    "**Step 1**. This is the only step in the entire derivation that requires any real thought. We can get around the above problem by passing in a copy of the sum function as an extra argument and then using that in place of the QQQ. But we must ensure that the copy of our function looks exactly like the function itself at all times. WE WILL ADHERE TO THIS REQUIREMENT IN EVERY STEP THAT FOLLOWS. Notice that since f is a copy of the function, and the function takes a copy of itself as a second argument, we must also pass f to f (as a second argument). Passing a copy of the function to itself is the whole secret of the Y-combinator. The following expression will evaluate to 28 (the sum of the example list): "
   ]
  },
  {
   "cell_type": "code",
   "execution_count": 22,
   "metadata": {
    "tags": []
   },
   "outputs": [
    {
     "data": {
      "text/plain": [
       "28"
      ]
     },
     "execution_count": 22,
     "metadata": {},
     "output_type": "execute_result"
    }
   ],
   "source": [
    "(lambda list, sum: 0 if not list else \n",
    "     sum(list[1:], sum) + list[0])(\n",
    "        [4, 7, 5, 6, 2, 4], \n",
    "        (lambda list, sum: 0 if not list else \n",
    "             sum(list[1:], sum) + list[0]))"
   ]
  },
  {
   "cell_type": "markdown",
   "metadata": {},
   "source": [
    "To keep the code abstract (and a little shorter) we'll replace \"sum\" with \"f\":"
   ]
  },
  {
   "cell_type": "code",
   "execution_count": 23,
   "metadata": {
    "tags": []
   },
   "outputs": [
    {
     "data": {
      "text/plain": [
       "28"
      ]
     },
     "execution_count": 23,
     "metadata": {},
     "output_type": "execute_result"
    }
   ],
   "source": [
    "(lambda list, f: 0 if not list else \n",
    "     f(list[1:], f) + list[0])(\n",
    "        [4, 7, 5, 6, 2, 4], \n",
    "        (lambda list, f: 0 if not list else \n",
    "             f(list[1:], f) + list[0]))"
   ]
  },
  {
   "cell_type": "markdown",
   "metadata": {},
   "source": [
    "**Step 2**. We just switch the order of the function arguments, list and f. `f(list[1:], f)` changes to `f(f, list[1:])`, and the arguments to the top-level invocation also switch places: "
   ]
  },
  {
   "cell_type": "code",
   "execution_count": 24,
   "metadata": {
    "collapsed": false,
    "jupyter": {
     "outputs_hidden": false
    },
    "tags": []
   },
   "outputs": [
    {
     "data": {
      "text/plain": [
       "28"
      ]
     },
     "execution_count": 24,
     "metadata": {},
     "output_type": "execute_result"
    }
   ],
   "source": [
    "(lambda f, list: 0 if not list else f(f, list[1:]) + list[0])(\n",
    "    (lambda f, list: 0 if not list else f(f, list[1:]) + list[0]),\n",
    "    [4, 7, 5, 6, 2, 4]\n",
    ")"
   ]
  },
  {
   "cell_type": "markdown",
   "metadata": {},
   "source": [
    "**Step 3**. We simply \"curry\" the function so that it takes its two arguments one at a time. Note the weird f(f)(). This expression still evaluates to 28: "
   ]
  },
  {
   "cell_type": "code",
   "execution_count": 26,
   "metadata": {
    "tags": []
   },
   "outputs": [
    {
     "data": {
      "text/plain": [
       "28"
      ]
     },
     "execution_count": 26,
     "metadata": {},
     "output_type": "execute_result"
    }
   ],
   "source": [
    "(lambda f: lambda list: 0 if not list else f(f)(list[1:]) + list[0])(\n",
    "    (lambda f: lambda list: 0 if not list else f(f)(list[1:]) + list[0]))(\n",
    "        [4, 7, 5, 6, 2, 4]\n",
    "    )"
   ]
  },
  {
   "cell_type": "markdown",
   "metadata": {},
   "source": [
    "**Step 4**. The above expression is now of the form `function([4, 7, 5, 6, 2, 4])`, where `function` is now a self-contained recursive version of \"sum\", although still in a clumsy form. We can forget about `[4, 7, 5, 6, 2, 4]` for the remainder of the derivation and concentrate on just the `function` part, since that's what we're interested in. So here it is by itself, followed by the application:"
   ]
  },
  {
   "cell_type": "code",
   "execution_count": 27,
   "metadata": {
    "collapsed": false,
    "jupyter": {
     "outputs_hidden": false
    },
    "tags": []
   },
   "outputs": [
    {
     "data": {
      "text/plain": [
       "<function __main__.<lambda>.<locals>.<lambda>(list)>"
      ]
     },
     "execution_count": 27,
     "metadata": {},
     "output_type": "execute_result"
    }
   ],
   "source": [
    "(lambda f: lambda list: 0 if not list else f(f)(list[1:]) + list[0])(\n",
    "    (lambda f: lambda list: 0 if not list else f(f)(list[1:]) + list[0]))"
   ]
  },
  {
   "cell_type": "markdown",
   "metadata": {},
   "source": [
    "And, to make sure it still works:"
   ]
  },
  {
   "cell_type": "code",
   "execution_count": 28,
   "metadata": {
    "tags": []
   },
   "outputs": [
    {
     "data": {
      "text/plain": [
       "28"
      ]
     },
     "execution_count": 28,
     "metadata": {},
     "output_type": "execute_result"
    }
   ],
   "source": [
    "(lambda f: lambda list: 0 if not list else f(f)(list[1:]) + list[0])(\n",
    "    (lambda f: lambda list: 0 if not list else f(f)(list[1:]) + list[0]))(\n",
    "        [4, 7, 5, 6, 2, 4]\n",
    ")"
   ]
  },
  {
   "cell_type": "markdown",
   "metadata": {},
   "source": [
    "**Step 5**. Notice that in the above expression f(f) returns a function which gets applied to `list[1:]`. In the same way that the `add` function is equivalent to the function `(lambda a, b: add(a, b)`, the \"f(f) function\" is equivalent to the function `(lambda a: f(f)(a))`. [This is just an inverse eta step to you lambda-calculus pros out there]. This step is necessary to avoid infinite loops as we move forward, since we're assuming applicative order (i.e, Python). "
   ]
  },
  {
   "cell_type": "code",
   "execution_count": 29,
   "metadata": {
    "tags": []
   },
   "outputs": [
    {
     "data": {
      "text/plain": [
       "<function __main__.<lambda>.<locals>.<lambda>(list)>"
      ]
     },
     "execution_count": 29,
     "metadata": {},
     "output_type": "execute_result"
    }
   ],
   "source": [
    "(lambda f: lambda list: 0 if not list else (lambda a: f(f)(a))(list[1:]) + list[0])(\n",
    "    (lambda f: lambda list: 0 if not list else (lambda a: f(f)(a))(list[1:]) + list[0]))"
   ]
  },
  {
   "cell_type": "code",
   "execution_count": 30,
   "metadata": {
    "tags": []
   },
   "outputs": [
    {
     "data": {
      "text/plain": [
       "28"
      ]
     },
     "execution_count": 30,
     "metadata": {},
     "output_type": "execute_result"
    }
   ],
   "source": [
    "(lambda f: lambda list: 0 if not list else (lambda a: f(f)(a))(list[1:]) + list[0])(\n",
    "    (lambda f: lambda list: 0 if not list else (lambda a: f(f)(a))(list[1:]) + list[0]))(\n",
    "       [4, 7, 5, 6, 2, 4]\n",
    ")"
   ]
  },
  {
   "cell_type": "markdown",
   "metadata": {},
   "source": [
    "**Step 6**. Here we just give the (lambda a: f(f)(a)) function the name \"r\" using the default argument value. Simple. (Notice how every change to our function requires an identical change to the copy of the function, as mentioned earlier). "
   ]
  },
  {
   "cell_type": "code",
   "execution_count": 31,
   "metadata": {
    "tags": []
   },
   "outputs": [
    {
     "data": {
      "text/plain": [
       "<function __main__.<lambda>.<locals>.<lambda>(list, r=<function <lambda>.<locals>.<lambda> at 0x7f1da7821940>)>"
      ]
     },
     "execution_count": 31,
     "metadata": {},
     "output_type": "execute_result"
    }
   ],
   "source": [
    "(lambda f: lambda list, r=(lambda a: f(f)(a)): 0 if not list else r(list[1:]) + list[0])(\n",
    "    (lambda f: lambda list, r=(lambda a: f(f)(a)): 0 if not list else r(list[1:]) + list[0]))"
   ]
  },
  {
   "cell_type": "code",
   "execution_count": 32,
   "metadata": {
    "collapsed": false,
    "jupyter": {
     "outputs_hidden": false
    },
    "tags": []
   },
   "outputs": [
    {
     "data": {
      "text/plain": [
       "28"
      ]
     },
     "execution_count": 32,
     "metadata": {},
     "output_type": "execute_result"
    }
   ],
   "source": [
    "(lambda f: lambda list, r=(lambda a: f(f)(a)): 0 if not list else r(list[1:]) + list[0])(\n",
    "    (lambda f: lambda list, r=(lambda a: f(f)(a)): 0 if not list else r(list[1:]) + list[0]))(\n",
    "        [4, 7, 5, 6, 2, 4]\n",
    ")"
   ]
  },
  {
   "cell_type": "markdown",
   "metadata": {
    "tags": []
   },
   "source": [
    "**Step 7**. Now we just expand the default lambda value into their equivalent lambda. In general, \"(lambda x=val: body)\" is equivalent to \"(lambda x: body)(val)\"."
   ]
  },
  {
   "cell_type": "code",
   "execution_count": 33,
   "metadata": {
    "tags": []
   },
   "outputs": [
    {
     "data": {
      "text/plain": [
       "<function __main__.<lambda>.<locals>.<lambda>(list)>"
      ]
     },
     "execution_count": 33,
     "metadata": {},
     "output_type": "execute_result"
    }
   ],
   "source": [
    "(lambda f: lambda list: (lambda r: 0 if not list else r(list[1:]) + list[0])(lambda a: f(f)(a)))(\n",
    "    (lambda f: lambda list: (lambda r: 0 if not list else r(list[1:]) + list[0])(lambda a: f(f)(a))))"
   ]
  },
  {
   "cell_type": "code",
   "execution_count": 34,
   "metadata": {
    "tags": []
   },
   "outputs": [
    {
     "data": {
      "text/plain": [
       "28"
      ]
     },
     "execution_count": 34,
     "metadata": {},
     "output_type": "execute_result"
    }
   ],
   "source": [
    "(lambda f: lambda list: (lambda r: 0 if not list else r(list[1:]) + list[0])(lambda a: f(f)(a)))(\n",
    "    (lambda f: lambda list: (lambda r: 0 if not list else r(list[1:]) + list[0])(lambda a: f(f)(a))))(\n",
    "        [4, 7, 5, 6, 2, 4]\n",
    ")"
   ]
  },
  {
   "cell_type": "markdown",
   "metadata": {},
   "source": [
    "**Step 7b**: Rearrange the order of the curry: f, r, list:"
   ]
  },
  {
   "cell_type": "code",
   "execution_count": 35,
   "metadata": {
    "tags": []
   },
   "outputs": [
    {
     "data": {
      "text/plain": [
       "<function __main__.<lambda>.<locals>.<lambda>.<locals>.<lambda>(list)>"
      ]
     },
     "execution_count": 35,
     "metadata": {},
     "output_type": "execute_result"
    }
   ],
   "source": [
    "(lambda f: (lambda r: (lambda list: 0 if not list else r(list[1:]) + list[0]))(\n",
    "                (lambda a: f(f)(a))\n",
    "))(\n",
    "  (lambda f: (lambda r: (lambda list: 0 if not list else r(list[1:]) + list[0]))(\n",
    "                (lambda a: f(f)(a))\n",
    "  ))\n",
    ")"
   ]
  },
  {
   "cell_type": "code",
   "execution_count": 36,
   "metadata": {
    "tags": []
   },
   "outputs": [
    {
     "data": {
      "text/plain": [
       "28"
      ]
     },
     "execution_count": 36,
     "metadata": {},
     "output_type": "execute_result"
    }
   ],
   "source": [
    "(lambda f: (lambda r: (lambda list: 0 if not list else r(list[1:]) + list[0]))(\n",
    "                (lambda a: f(f)(a))\n",
    "))(\n",
    "  (lambda f: (lambda r: (lambda list: 0 if not list else r(list[1:]) + list[0]))(\n",
    "                (lambda a: f(f)(a))\n",
    "  ))\n",
    ")(\n",
    "    [4, 7, 5, 6, 2, 4]\n",
    ")"
   ]
  },
  {
   "cell_type": "markdown",
   "metadata": {},
   "source": [
    "**Step 8**. Now we can give the (lambda r: (lambda list: ...)) expression a name also (\"m\") using the default lambda syntax, since it has no free variables (except for primitives, but they're bound globally anyway). This step is just like Step 6. "
   ]
  },
  {
   "cell_type": "code",
   "execution_count": 37,
   "metadata": {
    "tags": []
   },
   "outputs": [
    {
     "data": {
      "text/plain": [
       "<function __main__.<lambda>.<locals>.<lambda>(list)>"
      ]
     },
     "execution_count": 37,
     "metadata": {},
     "output_type": "execute_result"
    }
   ],
   "source": [
    "(lambda m=(lambda r: (lambda list: 0 if not list else r(list[1:]) + list[0])):\n",
    "    (lambda f: m(lambda a: f(f)(a)))(\n",
    "        (lambda f: m(lambda a: f(f)(a))))\n",
    ")()"
   ]
  },
  {
   "cell_type": "code",
   "execution_count": 38,
   "metadata": {
    "tags": []
   },
   "outputs": [
    {
     "data": {
      "text/plain": [
       "28"
      ]
     },
     "execution_count": 38,
     "metadata": {},
     "output_type": "execute_result"
    }
   ],
   "source": [
    "(lambda m=(lambda r: (lambda list: 0 if not list else r(list[1:]) + list[0])):\n",
    "    (lambda f: m(lambda a: f(f)(a)))(\n",
    "        (lambda f: m(lambda a: f(f)(a))))\n",
    ")()(\n",
    " [4, 7, 5, 6, 2, 4]\n",
    ")"
   ]
  },
  {
   "cell_type": "markdown",
   "metadata": {},
   "source": [
    "**Step 9**. Now we replace the let-expression for \"m\" by its equivalent lambda-form, just like in Step 7, and out pops the applicative-order Y-combinator! The expression below still represents the self-contained recursive sum function, but now it's in a nicer form. In particular, the (lambda m: ...) sub-expression is Y: "
   ]
  },
  {
   "cell_type": "code",
   "execution_count": 39,
   "metadata": {
    "tags": []
   },
   "outputs": [
    {
     "data": {
      "text/plain": [
       "<function __main__.<lambda>.<locals>.<lambda>(list)>"
      ]
     },
     "execution_count": 39,
     "metadata": {},
     "output_type": "execute_result"
    }
   ],
   "source": [
    "(lambda m:\n",
    "    (lambda f: m(lambda a: f(f)(a)))(\n",
    "      (lambda f: m(lambda a: f(f)(a)))\n",
    "    )\n",
    ")(\n",
    "    lambda r: (lambda list: 0 if not list else r(list[1:]) + list[0])\n",
    ")"
   ]
  },
  {
   "cell_type": "code",
   "execution_count": 40,
   "metadata": {
    "tags": []
   },
   "outputs": [
    {
     "data": {
      "text/plain": [
       "28"
      ]
     },
     "execution_count": 40,
     "metadata": {},
     "output_type": "execute_result"
    }
   ],
   "source": [
    "(lambda m:\n",
    "    (lambda f: m(lambda a: f(f)(a)))(\n",
    "      (lambda f: m(lambda a: f(f)(a)))\n",
    "    )\n",
    ")(\n",
    "    lambda r: (lambda list: 0 if not list else r(list[1:]) + list[0])\n",
    ")(\n",
    " [4, 7, 5, 6, 2, 4]\n",
    ")"
   ]
  },
  {
   "cell_type": "markdown",
   "metadata": {},
   "source": [
    "**Step 10**. We just pull out the (lambda m: ...) sub-expression and call it Y, since all of its variables are bound (after all, it's a combinator). Then the expression above for the recursive sum function can be rewritten as shown below. The expression passed to Y is a \"template\" for the recursive sum function. Instead of \"QQQ\", we call the recursive invocation \"r\", wrap the whole thing with (lambda r: ...), and hand it over to Y, which returns a self-contained recursive function. You can give it a name with define if you want, but you don't have to. "
   ]
  },
  {
   "cell_type": "code",
   "execution_count": 41,
   "metadata": {
    "tags": []
   },
   "outputs": [],
   "source": [
    "def Y(m):\n",
    "    return (lambda f: m(lambda a: f(f)(a)))(\n",
    "                (lambda f: m(lambda a: f(f)(a)))\n",
    "            )"
   ]
  },
  {
   "cell_type": "code",
   "execution_count": 42,
   "metadata": {
    "collapsed": false,
    "jupyter": {
     "outputs_hidden": false
    },
    "tags": []
   },
   "outputs": [
    {
     "data": {
      "text/plain": [
       "<function __main__.<lambda>.<locals>.<lambda>(list)>"
      ]
     },
     "execution_count": 42,
     "metadata": {},
     "output_type": "execute_result"
    }
   ],
   "source": [
    "Y(lambda r: (lambda list: 0 if not list else r(list[1:]) + list[0]))"
   ]
  },
  {
   "cell_type": "code",
   "execution_count": 43,
   "metadata": {
    "collapsed": false,
    "jupyter": {
     "outputs_hidden": false
    },
    "tags": []
   },
   "outputs": [
    {
     "data": {
      "text/plain": [
       "28"
      ]
     },
     "execution_count": 43,
     "metadata": {},
     "output_type": "execute_result"
    }
   ],
   "source": [
    "Y(lambda r: (lambda list: 0 if not list else r(list[1:]) + list[0]))([4, 7, 5, 6, 2, 4])"
   ]
  },
  {
   "cell_type": "markdown",
   "metadata": {},
   "source": [
    "We can use Y for any recursive function, such as length:"
   ]
  },
  {
   "cell_type": "code",
   "execution_count": 44,
   "metadata": {
    "tags": []
   },
   "outputs": [
    {
     "data": {
      "text/plain": [
       "5"
      ]
     },
     "execution_count": 44,
     "metadata": {},
     "output_type": "execute_result"
    }
   ],
   "source": [
    "Y(lambda r: (lambda list: 0 if not list else r(list[1:]) + 1))([\"any\", \"old\", \"list\", \"you\", \"like\"])"
   ]
  },
  {
   "cell_type": "raw",
   "metadata": {},
   "source": [
    "Or even Fibonacci: "
   ]
  },
  {
   "cell_type": "code",
   "execution_count": 45,
   "metadata": {
    "tags": []
   },
   "outputs": [
    {
     "data": {
      "text/plain": [
       "34"
      ]
     },
     "execution_count": 45,
     "metadata": {},
     "output_type": "execute_result"
    }
   ],
   "source": [
    "Y(lambda fib: (lambda number: 1 if number in [1, 2] else fib(number - 1) + fib(number - 2)))(9)"
   ]
  },
  {
   "cell_type": "code",
   "execution_count": 46,
   "metadata": {
    "tags": []
   },
   "outputs": [
    {
     "name": "stdout",
     "output_type": "stream",
     "text": [
      "1\n",
      "1\n",
      "2\n",
      "3\n",
      "5\n",
      "8\n",
      "13\n",
      "21\n",
      "34\n"
     ]
    }
   ],
   "source": [
    "for i in range(1, 10):\n",
    "    print(Y(lambda fib: (lambda number: 1 if number in [1, 2] else fib(number - 1) + fib(number - 2)))(i))"
   ]
  },
  {
   "cell_type": "markdown",
   "metadata": {},
   "source": [
    "I hope that you have enjoyed this derivation of the Y-combinator!"
   ]
  }
 ],
 "metadata": {
  "kernelspec": {
   "display_name": "Python 3 (ipykernel)",
   "language": "python",
   "name": "python3"
  },
  "language_info": {
   "codemirror_mode": {
    "name": "ipython",
    "version": 3
   },
   "file_extension": ".py",
   "mimetype": "text/x-python",
   "name": "python",
   "nbconvert_exporter": "python",
   "pygments_lexer": "ipython3",
   "version": "3.8.5"
  },
  "widgets": {
   "application/vnd.jupyter.widget-state+json": {
    "state": {},
    "version_major": 2,
    "version_minor": 0
   }
  }
 },
 "nbformat": 4,
 "nbformat_minor": 4
}