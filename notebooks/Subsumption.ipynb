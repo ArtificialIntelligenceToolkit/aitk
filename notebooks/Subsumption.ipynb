{
 "cells": [
  {
   "cell_type": "markdown",
   "metadata": {},
   "source": "<a target=\"_blank\" href=\"https://colab.research.google.com/github/ArtificialIntelligenceToolkit/aitk/blob/master/notebooks/Subsumption.ipynb\"><img src=\"https://colab.research.google.com/assets/colab-badge.svg\" alt=\"Open In Colab\"/></a>"
  },
  {
   "cell_type": "code",
   "execution_count": null,
   "metadata": {
    "id": "AQMTpw5e_0cx"
   },
   "outputs": [],
   "source": [
    "%pip install aitk --upgrade --quiet"
   ]
  },
  {
   "cell_type": "markdown",
   "metadata": {},
   "source": [
    "# Subsumption Architecture\n",
    "\n",
    "This notebook provides several python classes that allow you to simulate a Subsumption Architecture, first described by Rodney Brooks."
   ]
  },
  {
   "cell_type": "code",
   "execution_count": 1,
   "metadata": {},
   "outputs": [
    {
     "data": {
      "text/plain": [
       "'0.9.23'"
      ]
     },
     "execution_count": 1,
     "metadata": {},
     "output_type": "execute_result"
    }
   ],
   "source": [
    "import aitk.robots\n",
    "aitk.robots.__version__"
   ]
  },
  {
   "cell_type": "code",
   "execution_count": 2,
   "metadata": {},
   "outputs": [],
   "source": [
    "import random"
   ]
  },
  {
   "cell_type": "code",
   "execution_count": 3,
   "metadata": {},
   "outputs": [],
   "source": [
    "class SubsumptionBehavior(object):\n",
    "    \"\"\"\n",
    "    Each subsumption behavior maintains it's own desired actuator values.\n",
    "    Each behavior also maintains a flag. When this flag is True,\n",
    "    the behavior wants to respond to the current situation. However, only\n",
    "    the actuator values of the highest priority behavior will control the\n",
    "    robot.\n",
    "    \n",
    "    The move method updates translate, rotate, and flag.\n",
    "    The controller's add method updates robot and controller.\n",
    "    \"\"\"\n",
    "    def __init__(self):\n",
    "        self.translate = 0\n",
    "        self.rotate = 0\n",
    "        self.flag = False     \n",
    "        self.robot = None      \n",
    "        self.controller = None \n",
    "        \n",
    "    def set_robot(self, robot):\n",
    "        self.robot = robot\n",
    "        \n",
    "    def set_controller(self, controller):\n",
    "        self.controller = controller\n",
    "\n",
    "    def move(self, translate, rotate):\n",
    "        self.flag = True\n",
    "        self.translate = translate\n",
    "        self.rotate = rotate\n",
    "        \n",
    "    def update(self):\n",
    "        \"\"\"\n",
    "        Each behavior overrides this method to check whether it wants to control \n",
    "        the robot in the current situation.\n",
    "        \"\"\"\n",
    "        pass"
   ]
  },
  {
   "cell_type": "code",
   "execution_count": 4,
   "metadata": {},
   "outputs": [],
   "source": [
    "class SubsumptionController(object):\n",
    "    \"\"\"\n",
    "    A SubsumptionBrain maintains a list of behaviors from lowest to\n",
    "    highest priority.  On each time step, it determines the highest\n",
    "    level behavior that wants to respond, and allows it to control the\n",
    "    robot.\n",
    "    \"\"\"\n",
    "    def __init__(self, robot):\n",
    "        self.behaviors = []\n",
    "        self.robot = robot\n",
    "        self.prev_behavior = None\n",
    "        self.robot.state[\"timer\"] = 0 \n",
    "        self.done = False\n",
    "        \n",
    "    def reset(self):\n",
    "        \"\"\"\n",
    "        Reset key variables prior to each new run\n",
    "        \"\"\"\n",
    "        self.prev_behavior = None\n",
    "        self.robot.state[\"timer\"] = 0 \n",
    "        self.done = False\n",
    "\n",
    "    def add(self, behavior):\n",
    "        \"\"\"\n",
    "        Adds a behavior to the list of behaviors.\n",
    "        \"\"\"\n",
    "        behavior.set_robot(self.robot)\n",
    "        behavior.set_controller(self)\n",
    "        self.behaviors.append(behavior)\n",
    "\n",
    "    def step(self):\n",
    "        \"\"\"\n",
    "        This method is called on every time step and determines the\n",
    "        robot's action.\n",
    "        \"\"\"\n",
    "        b = self.update_all()\n",
    "        # check whether any of the behaviors have achieved the goal\n",
    "        if self.done:\n",
    "            self.robot.speak(\"Goal achieved!\")\n",
    "            return True\n",
    "        curr_behavior = self.behaviors[b].__class__.__name__\n",
    "        if curr_behavior != self.prev_behavior:\n",
    "            self.robot.speak(curr_behavior)\n",
    "            #print(curr_behavior, end=\" \")\n",
    "            self.prev_behavior = curr_behavior\n",
    "        self.robot.move(self.behaviors[b].translate,self.behaviors[b].rotate)\n",
    "    \n",
    "    def update_all(self):\n",
    "        \"\"\"\n",
    "        Returns the index of the highest priority behavior that wants\n",
    "        to control the robot in the current situation.\n",
    "        \"\"\"\n",
    "        # for all except lowest\n",
    "        for b in range(len(self.behaviors) - 1, 0, -1):\n",
    "            self.behaviors[b].flag = False\n",
    "            self.behaviors[b].update()\n",
    "            # if it fired, return number\n",
    "            if self.behaviors[b].flag:\n",
    "                return b\n",
    "        # if none of the higher priority behaviors fired, return lowest\n",
    "        self.behaviors[0].update()\n",
    "        return 0"
   ]
  },
  {
   "cell_type": "markdown",
   "metadata": {},
   "source": [
    "## Example: Find light\n",
    "\n",
    "Implement several behaviors that when used together allow a robot to find a bulb in various worlds where the light is hidden behind walls. "
   ]
  },
  {
   "cell_type": "code",
   "execution_count": 5,
   "metadata": {},
   "outputs": [],
   "source": [
    "class Wander(SubsumptionBehavior):\n",
    "    \"\"\"\n",
    "    Moves forward and randomly chooses a small rotation amount.\n",
    "    \"\"\"\n",
    "    def update(self):\n",
    "        self.move(.75, random.random() - 0.5)\n"
   ]
  },
  {
   "cell_type": "code",
   "execution_count": 6,
   "metadata": {},
   "outputs": [],
   "source": [
    "class SeekLight(SubsumptionBehavior):\n",
    "    \"\"\"\n",
    "    When light is sensed, moves forward slowly while turning towards\n",
    "    the side which is sensing more light.\n",
    "    \"\"\"\n",
    "    def update(self):\n",
    "        left_light = self.robot[\"left-light\"].get_brightness()\n",
    "        right_light = self.robot[\"right-light\"].get_brightness()\n",
    "        diff_light = left_light - right_light\n",
    "        if  max(left_light, right_light) > 0.0 and abs(diff_light) > 0.02:\n",
    "            if diff_light < 0:\n",
    "                # light stronger to right\n",
    "                self.move(0.2, -0.1)\n",
    "            else:\n",
    "                # light stronger to left\n",
    "                self.move(0.2, 0.1)"
   ]
  },
  {
   "cell_type": "code",
   "execution_count": 7,
   "metadata": {},
   "outputs": [],
   "source": [
    "class Avoid(SubsumptionBehavior):\n",
    "    \"\"\"\n",
    "    Turns away from obstacles. Uses a timer to repeatedly turn in the same direction\n",
    "    to alleviate dithering in corners.\n",
    "    \"\"\"\n",
    "    def update(self):\n",
    "        left_ir = self.robot[\"left-ir\"].get_distance()\n",
    "        right_ir = self.robot[\"right-ir\"].get_distance()\n",
    "        if self.robot.state[\"timer\"] > 0 or \\\n",
    "            left_ir < self.robot[\"left-ir\"].get_max() or \\\n",
    "            right_ir < self.robot[1].get_max():\n",
    "            if self.robot.state[\"timer\"] == 0:\n",
    "                self.robot.state[\"timer\"] += 1\n",
    "                if left_ir < right_ir:\n",
    "                    # obstacle closer on left, rotate right\n",
    "                    self.move(0.05, -0.4)\n",
    "                else:\n",
    "                    # obstacle closer on right, rotate left\n",
    "                    self.move(0.05, 0.4)\n",
    "            elif self.robot.state[\"timer\"] > 5:\n",
    "                self.robot.state[\"timer\"] = 0\n",
    "            else:\n",
    "                # otherwise continue turning in the same direction as before\n",
    "                self.robot.state[\"timer\"] += 1\n",
    "                self.move(self.translate, self.rotate)"
   ]
  },
  {
   "cell_type": "code",
   "execution_count": 8,
   "metadata": {},
   "outputs": [],
   "source": [
    "class FoundLight(SubsumptionBehavior):\n",
    "    \"\"\"\n",
    "    When the light sensed is above a certain threshold, stops the robot.\n",
    "    \"\"\"\n",
    "    def update(self):\n",
    "        left_light = self.robot[\"left-light\"].get_brightness()\n",
    "        right_light = self.robot[\"right-light\"].get_brightness()\n",
    "        total_light = left_light + right_light\n",
    "        if total_light > 1.95:\n",
    "            # goal achieved so tell controller to stop running\n",
    "            self.move(0, 0)\n",
    "            self.controller.done = True"
   ]
  },
  {
   "cell_type": "code",
   "execution_count": 9,
   "metadata": {},
   "outputs": [
    {
     "name": "stdout",
     "output_type": "stream",
     "text": [
      "Loading ./worlds/LightEnclosed.json...\n",
      "Using random seed: 2121138\n"
     ]
    }
   ],
   "source": [
    "world = aitk.robots.load_world(\"LightEnclosed\")"
   ]
  },
  {
   "cell_type": "code",
   "execution_count": 10,
   "metadata": {},
   "outputs": [],
   "source": [
    "subsumption = SubsumptionController(world.robots[0])"
   ]
  },
  {
   "cell_type": "code",
   "execution_count": 11,
   "metadata": {},
   "outputs": [],
   "source": [
    "# Uses 4 layered behaviors to find a light source, layers are added from lowest to highest priority\n",
    "\n",
    "# Layer 0: By default robot will wander, moving forward and choosing random rotations\n",
    "subsumption.add(Wander())\n",
    "\n",
    "# Layer 1: If light is detected, then turn towards it\n",
    "subsumption.add(SeekLight())\n",
    "\n",
    "# Layer 2: When an obstacle is encountered, turn away from it\n",
    "subsumption.add(Avoid())\n",
    "\n",
    "# Layer 3: When the light readings are high enough, stop\n",
    "subsumption.add(FoundLight())"
   ]
  },
  {
   "cell_type": "code",
   "execution_count": 12,
   "metadata": {},
   "outputs": [],
   "source": [
    "def controller(robot):\n",
    "    return subsumption.step()"
   ]
  },
  {
   "cell_type": "code",
   "execution_count": 13,
   "metadata": {},
   "outputs": [
    {
     "data": {
      "application/vnd.jupyter.widget-view+json": {
       "model_id": "5b5b9efc2b014f63b408cce0401dd775",
       "version_major": 2,
       "version_minor": 0
      },
      "text/plain": [
       "Image(value=b'\\xff\\xd8\\xff\\xe0\\x00\\x10JFIF\\x00\\x01\\x01\\x00\\x00\\x01\\x00\\x01\\x00\\x00\\xff\\xdb\\x00C\\x00\\x08\\x06\\x0\u2026"
      ]
     },
     "metadata": {},
     "output_type": "display_data"
    }
   ],
   "source": [
    "world.watch()"
   ]
  },
  {
   "cell_type": "code",
   "execution_count": 14,
   "metadata": {},
   "outputs": [
    {
     "name": "stdout",
     "output_type": "stream",
     "text": [
      "Using random seed: 2121138\n",
      "Using random seed: 2121138\n",
      "Simulation stopped at: 00:00:46.9; speed 102.7 x real time\n"
     ]
    }
   ],
   "source": [
    "world.reset()\n",
    "world.robots[0].set_random_pose()\n",
    "subsumption.robot.set_max_trace_length(120)\n",
    "subsumption.reset()\n",
    "recorder = world.record()\n",
    "world.seconds(120, [controller], real_time=False)"
   ]
  },
  {
   "cell_type": "code",
   "execution_count": 15,
   "metadata": {},
   "outputs": [
    {
     "data": {
      "application/vnd.jupyter.widget-view+json": {
       "model_id": "c3f7f98949614d94ad161024e68a5841",
       "version_major": 2,
       "version_minor": 0
      },
      "text/plain": [
       "HTML(value='<style>img.pixelated {image-rendering: pixelated;}</style>')"
      ]
     },
     "metadata": {},
     "output_type": "display_data"
    },
    {
     "data": {
      "application/vnd.jupyter.widget-view+json": {
       "model_id": "44381ebd5e7d48f589023d7a2b3e18a9",
       "version_major": 2,
       "version_minor": 0
      },
      "text/plain": [
       "Player(children=(VBox(children=(HBox(children=(FloatSlider(value=0.0, continuous_update=False, description='Ti\u2026"
      ]
     },
     "metadata": {},
     "output_type": "display_data"
    },
    {
     "data": {
      "image/png": "[encoded data removed]",
      "text/plain": [
       "<PIL.Image.Image image mode=RGB size=600x642 at 0x7F90D8426640>"
      ]
     },
     "metadata": {},
     "output_type": "display_data"
    }
   ],
   "source": [
    "recorder.watch()"
   ]
  },
  {
   "cell_type": "code",
   "execution_count": null,
   "metadata": {},
   "outputs": [],
   "source": []
  }
 ],
 "metadata": {
  "kernelspec": {
   "display_name": "Python 3",
   "language": "python",
   "name": "python3"
  },
  "language_info": {
   "codemirror_mode": {
    "name": "ipython",
    "version": 3
   },
   "file_extension": ".py",
   "mimetype": "text/x-python",
   "name": "python",
   "nbconvert_exporter": "python",
   "pygments_lexer": "ipython3",
   "version": "3.8.2"
  },
  "widgets": {
   "application/vnd.jupyter.widget-state+json": {
    "state": {
     "01988e460c2a4266936a80eab35e6f98": {
      "model_module": "@jupyter-widgets/controls",
      "model_module_version": "1.5.0",
      "model_name": "ButtonModel",
      "state": {
       "icon": "forward",
       "layout": "IPY_MODEL_86e719176574442fb7638f1da6e0dc52",
       "style": "IPY_MODEL_1366878d2de6446f9ef0f5c6abd0cd3c"
      }
     },
     "1366878d2de6446f9ef0f5c6abd0cd3c": {
      "model_module": "@jupyter-widgets/controls",
      "model_module_version": "1.5.0",
      "model_name": "ButtonStyleModel",
      "state": {}
     },
     "16413d1fd9e54b4786b2d64af33e3dc9": {
      "model_module": "@jupyter-widgets/controls",
      "model_module_version": "1.5.0",
      "model_name": "VBoxModel",
      "state": {
       "children": [
        "IPY_MODEL_44f2bbcbf97c48d1913d073f7527667a",
        "IPY_MODEL_8ff298d5969b42f6a7443567d651da44"
       ],
       "layout": "IPY_MODEL_4df23cb5e0e14ba282760d3d52769c71"
      }
     },
     "167d4bda77f441c6bb93ba76989c3d8d": {
      "model_module": "@jupyter-widgets/base",
      "model_module_version": "1.2.0",
      "model_name": "LayoutModel",
      "state": {}
     },
     "1923e62fc0f641dd9b8d9fbe790629da": {
      "model_module": "@jupyter-widgets/controls",
      "model_module_version": "1.5.0",
      "model_name": "ButtonStyleModel",
      "state": {}
     },
     "1f4e400dab1c41b38a15aac69514e67d": {
      "model_module": "@jupyter-widgets/base",
      "model_module_version": "1.2.0",
      "model_name": "LayoutModel",
      "state": {}
     },
     "1ff674c0ec4745d995e84b85dc126071": {
      "model_module": "@jupyter-widgets/base",
      "model_module_version": "1.2.0",
      "model_name": "LayoutModel",
      "state": {
       "height": "50px",
       "width": "100%"
      }
     },
     "311b8d567ab045e48315ca1d5882f2d5": {
      "model_module": "@jupyter-widgets/base",
      "model_module_version": "1.2.0",
      "model_name": "LayoutModel",
      "state": {
       "width": "100%"
      }
     },
     "39c3a765462b4744a4e046f1a5b2f86f": {
      "model_module": "@jupyter-widgets/controls",
      "model_module_version": "1.5.0",
      "model_name": "ButtonModel",
      "state": {
       "icon": "fast-backward",
       "layout": "IPY_MODEL_470fe0816f774332a44b9c84a5fde817",
       "style": "IPY_MODEL_727c9aa5f82349a0ad987bf25e396817"
      }
     },
     "3fbe5b989cdb44ca8487b4741fa6821d": {
      "model_module": "@jupyter-widgets/base",
      "model_module_version": "1.2.0",
      "model_name": "LayoutModel",
      "state": {
       "width": "100px"
      }
     },
     "43095933df7d4db593c25a5e365fe399": {
      "model_module": "@jupyter-widgets/base",
      "model_module_version": "1.2.0",
      "model_name": "LayoutModel",
      "state": {
       "height": "40px"
      }
     },
     "44f2bbcbf97c48d1913d073f7527667a": {
      "model_module": "@jupyter-widgets/controls",
      "model_module_version": "1.5.0",
      "model_name": "HBoxModel",
      "state": {
       "children": [
        "IPY_MODEL_9807c66d9ec24d98b69ee94ab93d9e76",
        "IPY_MODEL_8c603f1880e44f89a7c34acc609dc893"
       ],
       "layout": "IPY_MODEL_43095933df7d4db593c25a5e365fe399"
      }
     },
     "470fe0816f774332a44b9c84a5fde817": {
      "model_module": "@jupyter-widgets/base",
      "model_module_version": "1.2.0",
      "model_name": "LayoutModel",
      "state": {
       "width": "100%"
      }
     },
     "476583c39e4a4b048a737b2b5f024a11": {
      "model_module": "@jupyter-widgets/base",
      "model_module_version": "1.2.0",
      "model_name": "LayoutModel",
      "state": {}
     },
     "4870d5d3fc2b4a08a1ff95b600bbd52a": {
      "model_module": "@jupyter-widgets/controls",
      "model_module_version": "1.5.0",
      "model_name": "VBoxModel",
      "state": {
       "children": [
        "IPY_MODEL_16413d1fd9e54b4786b2d64af33e3dc9",
        "IPY_MODEL_cf6501ef32e24ee38484b838a984230a"
       ],
       "layout": "IPY_MODEL_476583c39e4a4b048a737b2b5f024a11"
      }
     },
     "4df23cb5e0e14ba282760d3d52769c71": {
      "model_module": "@jupyter-widgets/base",
      "model_module_version": "1.2.0",
      "model_name": "LayoutModel",
      "state": {
       "width": "100%"
      }
     },
     "4f13dec66d854286b08ea1eeb367c736": {
      "model_module": "@jupyter-widgets/controls",
      "model_module_version": "1.5.0",
      "model_name": "FloatProgressModel",
      "state": {
       "bar_style": "danger",
       "layout": "IPY_MODEL_ca34474ee46040f2b1c02f9c0116354b",
       "max": 1200,
       "style": "IPY_MODEL_4f7e01d66cf941ecbef3cc71d0910530",
       "value": 673
      }
     },
     "4f7e01d66cf941ecbef3cc71d0910530": {
      "model_module": "@jupyter-widgets/controls",
      "model_module_version": "1.5.0",
      "model_name": "ProgressStyleModel",
      "state": {
       "description_width": ""
      }
     },
     "5fdac5c75de84c76a019454a8e7d1d76": {
      "model_module": "@jupyter-widgets/controls",
      "model_module_version": "1.5.0",
      "model_name": "DescriptionStyleModel",
      "state": {
       "description_width": ""
      }
     },
     "6ee0ebc5409446d1b17ed1e017b2d2bc": {
      "model_module": "@jupyter-widgets/controls",
      "model_module_version": "1.5.0",
      "model_name": "HTMLModel",
      "state": {
       "layout": "IPY_MODEL_b135fafad8e74b1daacdb34d45cb8bf0",
       "style": "IPY_MODEL_9d6436e7f8a24cf0a11b40f91743e9be",
       "value": " 673/1200 [01:09&lt;00:54,  9.70it/s]"
      }
     },
     "6fde8d6f59a44770a49aedf4ccdda05a": {
      "model_module": "@jupyter-widgets/controls",
      "model_module_version": "1.5.0",
      "model_name": "ButtonStyleModel",
      "state": {}
     },
     "727c9aa5f82349a0ad987bf25e396817": {
      "model_module": "@jupyter-widgets/controls",
      "model_module_version": "1.5.0",
      "model_name": "ButtonStyleModel",
      "state": {}
     },
     "735bf68d87ec43fc9423819e2328e5a8": {
      "model_module": "@jupyter-widgets/base",
      "model_module_version": "1.2.0",
      "model_name": "LayoutModel",
      "state": {
       "margin": "auto"
      }
     },
     "86e719176574442fb7638f1da6e0dc52": {
      "model_module": "@jupyter-widgets/base",
      "model_module_version": "1.2.0",
      "model_name": "LayoutModel",
      "state": {
       "width": "100%"
      }
     },
     "8804fe94fd8440f49398b60dc90bfff0": {
      "model_module": "@jupyter-widgets/controls",
      "model_module_version": "1.5.0",
      "model_name": "ButtonModel",
      "state": {
       "description": "Play",
       "icon": "play",
       "layout": "IPY_MODEL_c9c199e11dd84eada6fba90ec0fbcf8e",
       "style": "IPY_MODEL_d90f51b27379420ea11e509502e159a4"
      }
     },
     "89fa250fa3954b75aad956bf44ab419e": {
      "model_module": "@jupyter-widgets/controls",
      "model_module_version": "1.5.0",
      "model_name": "DescriptionStyleModel",
      "state": {
       "description_width": ""
      }
     },
     "8a94e34f44954174ae4b4c0f6b2317f6": {
      "model_module": "@jupyter-widgets/controls",
      "model_module_version": "1.5.0",
      "model_name": "SliderStyleModel",
      "state": {
       "description_width": "initial"
      }
     },
     "8c603f1880e44f89a7c34acc609dc893": {
      "model_module": "@jupyter-widgets/controls",
      "model_module_version": "1.5.0",
      "model_name": "LabelModel",
      "state": {
       "layout": "IPY_MODEL_3fbe5b989cdb44ca8487b4741fa6821d",
       "style": "IPY_MODEL_e07ad235194e41298655f5f0a35cff0b",
       "value": "of 67.3"
      }
     },
     "8ff298d5969b42f6a7443567d651da44": {
      "model_module": "@jupyter-widgets/controls",
      "model_module_version": "1.5.0",
      "model_name": "HBoxModel",
      "state": {
       "children": [
        "IPY_MODEL_39c3a765462b4744a4e046f1a5b2f86f",
        "IPY_MODEL_cf319b24723048408e4d3d0cad2d554c",
        "IPY_MODEL_e1f240ea2b574a2990968cdf0d49cc50",
        "IPY_MODEL_01988e460c2a4266936a80eab35e6f98",
        "IPY_MODEL_9841da49c2104616a3b96e79740f89bf",
        "IPY_MODEL_8804fe94fd8440f49398b60dc90bfff0"
       ],
       "layout": "IPY_MODEL_1ff674c0ec4745d995e84b85dc126071"
      }
     },
     "9807c66d9ec24d98b69ee94ab93d9e76": {
      "model_module": "@jupyter-widgets/controls",
      "model_module_version": "1.5.0",
      "model_name": "FloatSliderModel",
      "state": {
       "continuous_update": false,
       "description": "Time:",
       "layout": "IPY_MODEL_b640908d882743c09cbf74a74f76837d",
       "max": 67.3,
       "readout_format": ".1f",
       "step": 0.1,
       "style": "IPY_MODEL_8a94e34f44954174ae4b4c0f6b2317f6"
      }
     },
     "9841da49c2104616a3b96e79740f89bf": {
      "model_module": "@jupyter-widgets/controls",
      "model_module_version": "1.5.0",
      "model_name": "ButtonModel",
      "state": {
       "icon": "fast-forward",
       "layout": "IPY_MODEL_311b8d567ab045e48315ca1d5882f2d5",
       "style": "IPY_MODEL_1923e62fc0f641dd9b8d9fbe790629da"
      }
     },
     "9d6436e7f8a24cf0a11b40f91743e9be": {
      "model_module": "@jupyter-widgets/controls",
      "model_module_version": "1.5.0",
      "model_name": "DescriptionStyleModel",
      "state": {
       "description_width": ""
      }
     },
     "b135fafad8e74b1daacdb34d45cb8bf0": {
      "model_module": "@jupyter-widgets/base",
      "model_module_version": "1.2.0",
      "model_name": "LayoutModel",
      "state": {}
     },
     "b2bfc41740af426397f92016e501dd76": {
      "buffers": [
       {
        "data": "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",
        "encoding": "base64",
        "path": [
         "value"
        ]
       }
      ],
      "model_module": "@jupyter-widgets/controls",
      "model_module_version": "1.5.0",
      "model_name": "ImageModel",
      "state": {
       "layout": "IPY_MODEL_735bf68d87ec43fc9423819e2328e5a8",
       "value": {}
      }
     },
     "b640908d882743c09cbf74a74f76837d": {
      "model_module": "@jupyter-widgets/base",
      "model_module_version": "1.2.0",
      "model_name": "LayoutModel",
      "state": {
       "width": "100%"
      }
     },
     "c9c199e11dd84eada6fba90ec0fbcf8e": {
      "model_module": "@jupyter-widgets/base",
      "model_module_version": "1.2.0",
      "model_name": "LayoutModel",
      "state": {
       "width": "100%"
      }
     },
     "ca34474ee46040f2b1c02f9c0116354b": {
      "model_module": "@jupyter-widgets/base",
      "model_module_version": "1.2.0",
      "model_name": "LayoutModel",
      "state": {}
     },
     "cf319b24723048408e4d3d0cad2d554c": {
      "model_module": "@jupyter-widgets/controls",
      "model_module_version": "1.5.0",
      "model_name": "ButtonModel",
      "state": {
       "icon": "backward",
       "layout": "IPY_MODEL_d8bed28cb4ab44c69cd438d195c9e3c5",
       "style": "IPY_MODEL_6fde8d6f59a44770a49aedf4ccdda05a"
      }
     },
     "cf6501ef32e24ee38484b838a984230a": {
      "model_module": "@jupyter-widgets/output",
      "model_module_version": "1.0.0",
      "model_name": "OutputModel",
      "state": {
       "layout": "IPY_MODEL_dbba056e36ce45b4b9c881f4f594cc7e"
      }
     },
     "d2539660f3c24a8390b42261b744ff34": {
      "model_module": "@jupyter-widgets/controls",
      "model_module_version": "1.5.0",
      "model_name": "HBoxModel",
      "state": {
       "children": [
        "IPY_MODEL_e829999da95e48fa863f4cde6ae7c35e",
        "IPY_MODEL_4f13dec66d854286b08ea1eeb367c736",
        "IPY_MODEL_6ee0ebc5409446d1b17ed1e017b2d2bc"
       ],
       "layout": "IPY_MODEL_167d4bda77f441c6bb93ba76989c3d8d"
      }
     },
     "d8bed28cb4ab44c69cd438d195c9e3c5": {
      "model_module": "@jupyter-widgets/base",
      "model_module_version": "1.2.0",
      "model_name": "LayoutModel",
      "state": {
       "width": "100%"
      }
     },
     "d90f51b27379420ea11e509502e159a4": {
      "model_module": "@jupyter-widgets/controls",
      "model_module_version": "1.5.0",
      "model_name": "ButtonStyleModel",
      "state": {}
     },
     "d92b2ddfe84a45b1be8439fac23187b7": {
      "model_module": "@jupyter-widgets/base",
      "model_module_version": "1.2.0",
      "model_name": "LayoutModel",
      "state": {
       "width": "100%"
      }
     },
     "dbba056e36ce45b4b9c881f4f594cc7e": {
      "model_module": "@jupyter-widgets/base",
      "model_module_version": "1.2.0",
      "model_name": "LayoutModel",
      "state": {}
     },
     "e07ad235194e41298655f5f0a35cff0b": {
      "model_module": "@jupyter-widgets/controls",
      "model_module_version": "1.5.0",
      "model_name": "DescriptionStyleModel",
      "state": {
       "description_width": ""
      }
     },
     "e1f240ea2b574a2990968cdf0d49cc50": {
      "model_module": "@jupyter-widgets/controls",
      "model_module_version": "1.5.0",
      "model_name": "FloatTextModel",
      "state": {
       "layout": "IPY_MODEL_d92b2ddfe84a45b1be8439fac23187b7",
       "step": null,
       "style": "IPY_MODEL_89fa250fa3954b75aad956bf44ab419e"
      }
     },
     "e829999da95e48fa863f4cde6ae7c35e": {
      "model_module": "@jupyter-widgets/controls",
      "model_module_version": "1.5.0",
      "model_name": "HTMLModel",
      "state": {
       "layout": "IPY_MODEL_1f4e400dab1c41b38a15aac69514e67d",
       "style": "IPY_MODEL_5fdac5c75de84c76a019454a8e7d1d76",
       "value": " 56%"
      }
     }
    },
    "version_major": 2,
    "version_minor": 0
   }
  }
 },
 "nbformat": 4,
 "nbformat_minor": 5
}