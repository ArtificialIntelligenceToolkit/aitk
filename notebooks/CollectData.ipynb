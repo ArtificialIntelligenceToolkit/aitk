{
 "cells": [
  {
   "cell_type": "markdown",
   "metadata": {},
   "source": "<a target=\"_blank\" href=\"https://colab.research.google.com/github/ArtificialIntelligenceToolkit/aitk/blob/master/notebooks/CollectData.ipynb\"><img src=\"https://colab.research.google.com/assets/colab-badge.svg\" alt=\"Open In Colab\"/></a>"
  },
  {
   "cell_type": "code",
   "execution_count": null,
   "metadata": {
    "id": "AQMTpw5e_0cx"
   },
   "outputs": [],
   "source": [
    "%pip install aitk --upgrade --quiet"
   ]
  },
  {
   "cell_type": "code",
   "execution_count": 1,
   "metadata": {},
   "outputs": [
    {
     "data": {
      "text/plain": [
       "'0.8.0'"
      ]
     },
     "execution_count": 1,
     "metadata": {},
     "output_type": "execute_result"
    }
   ],
   "source": [
    "import aitk.robots\n",
    "aitk.robots.__version__"
   ]
  },
  {
   "cell_type": "markdown",
   "metadata": {},
   "source": [
    "### Collect wall following data\n",
    "\n",
    "Create a world with several obstacles.  Use a controller to follow walls on the robot's left\n",
    "side.  Collect the robot's IR data and movements so as to eventually be able to train a neural\n",
    "network to learn how to wall follow. Save the data to a CSV file."
   ]
  },
  {
   "cell_type": "code",
   "execution_count": 2,
   "metadata": {},
   "outputs": [
    {
     "name": "stdout",
     "output_type": "stream",
     "text": [
      "Random seed set to: 1573328\n"
     ]
    }
   ],
   "source": [
    "world = aitk.robots.World(width=200, height=200)\n",
    "world.add_wall(\"blue\", 0, 0, 50, 50)\n",
    "world.add_wall(\"blue\", 75, 200, 125, 150)\n",
    "robot = aitk.robots.Scribbler()\n",
    "world.add_robot(robot)\n",
    "robot.add_device(aitk.robots.RangeSensor(width=45,max=20,name=\"front\"))\n",
    "robot.add_device(aitk.robots.RangeSensor(width=45,max=20,position=(6,-6),\n",
    "                                         a=90,name=\"front-left\"))\n",
    "robot.add_device(aitk.robots.RangeSensor(width=45,max=20,position=(-6,-6),\n",
    "                                         a=90,name=\"back-left\"))\n",
    "robot.set_pose(100,100,0)"
   ]
  },
  {
   "cell_type": "code",
   "execution_count": 3,
   "metadata": {},
   "outputs": [
    {
     "data": {
      "application/vnd.jupyter.widget-view+json": {
       "model_id": "2a09b86cd8044631ade44fc533a7bad9",
       "version_major": 2,
       "version_minor": 0
      },
      "text/plain": [
       "Image(value=b'\\xff\\xd8\\xff\\xe0\\x00\\x10JFIF\\x00\\x01\\x01\\x00\\x00\\x01\\x00\\x01\\x00\\x00\\xff\\xdb\\x00C\\x00\\x08\\x06\\x0\u2026"
      ]
     },
     "metadata": {},
     "output_type": "display_data"
    }
   ],
   "source": [
    "world.watch()"
   ]
  },
  {
   "cell_type": "code",
   "execution_count": 4,
   "metadata": {},
   "outputs": [],
   "source": [
    "def scale(v, max):\n",
    "    return v/max\n",
    "\n",
    "def wall_follow(robot):\n",
    "    \"\"\"Find and follow a wall on the robot's left side\"\"\"\n",
    "    f = robot[\"front\"].get_distance()\n",
    "    fl = robot[\"front-left\"].get_distance()\n",
    "    bl = robot[\"back-left\"].get_distance()\n",
    "    max_dist = robot[\"front\"].get_max()\n",
    "    readings = [f, fl, bl]\n",
    "    inputs = [scale(v, max_dist) for v in readings]\n",
    "    tolerance = 1.5\n",
    "    difference = fl - bl\n",
    "    translate = None\n",
    "    rotate = None\n",
    "    situation = None\n",
    "    if f < max_dist:\n",
    "        # wall in front, turn right\n",
    "        translate = 0.05\n",
    "        rotate = -0.3\n",
    "        situation = \"blocked\"\n",
    "        robot.speak(\"blocked\")\n",
    "    elif fl < max_dist or bl < max_dist:\n",
    "        # left side is against a wall\n",
    "        if abs(difference) > tolerance and difference < 0:\n",
    "            # keep left side aligned with wall\n",
    "            translate = 0.3\n",
    "            rotate = -1\n",
    "            situation = \"adjustR\"\n",
    "            robot.speak(\"adjustR\")\n",
    "        elif abs(difference) > tolerance and difference > 0:\n",
    "            # keep left side aligned with wall\n",
    "            translate = 0.3\n",
    "            rotate = 1\n",
    "            situation = \"adjustL\"\n",
    "            robot.speak(\"adjustL\")\n",
    "        elif min(fl, bl) < 10:\n",
    "            # robot is too close to wall, move right\n",
    "            translate = 0.5\n",
    "            rotate = -0.1\n",
    "            situation = \"close\"\n",
    "            robot.speak(\"close\")\n",
    "        elif max(fl, bl) > 15:\n",
    "            # robot is too far from wall, move left\n",
    "            translate = 0.2\n",
    "            rotate =0.4\n",
    "            situation = \"far\"\n",
    "            robot.speak(\"far\")\n",
    "        else:\n",
    "            # alignment is good, go straight\n",
    "            translate = 0.5\n",
    "            rotate = 0\n",
    "            robot.move(0.5, 0)\n",
    "            situation = \"follow\"\n",
    "            robot.speak(\"follow\")\n",
    "    else:\n",
    "        # no wall sensed, move forward to find a wall\n",
    "        translate = 1.0\n",
    "        rotate = 0.0\n",
    "        situation = \"no_wall\"\n",
    "        robot.speak(\"no_wall\")\n",
    "    if abs(rotate) > 1:\n",
    "        print(rotate)\n",
    "    robot.move(translate, rotate)\n",
    "    targets = [translate, rotate, situation]\n",
    "    data.append(inputs + targets)"
   ]
  },
  {
   "cell_type": "markdown",
   "metadata": {},
   "source": [
    "### Try several random starting points\n",
    "\n",
    "Collect data from many different random poses so as to create a good variety of data."
   ]
  },
  {
   "cell_type": "code",
   "execution_count": 5,
   "metadata": {},
   "outputs": [],
   "source": [
    "from random import randrange\n",
    "data = []\n",
    "\n",
    "for i in range(10):\n",
    "    robot.set_pose(randrange(50, 150), \n",
    "                   randrange(90,110), \n",
    "                   randrange(0,360))\n",
    "    world.seconds(25, [wall_follow], real_time=False, quiet=True)"
   ]
  },
  {
   "cell_type": "code",
   "execution_count": 6,
   "metadata": {},
   "outputs": [],
   "source": [
    "import pandas as pd"
   ]
  },
  {
   "cell_type": "code",
   "execution_count": 7,
   "metadata": {},
   "outputs": [],
   "source": [
    "df = pd.DataFrame(data, columns=['F_ir', 'FL_ir', 'BL_ir', 'translate', 'rotate', 'situation'])"
   ]
  },
  {
   "cell_type": "code",
   "execution_count": 8,
   "metadata": {},
   "outputs": [
    {
     "data": {
      "text/plain": [
       "follow     658\n",
       "adjustR    437\n",
       "blocked    385\n",
       "no_wall    349\n",
       "far        344\n",
       "adjustL    320\n",
       "close        7\n",
       "Name: situation, dtype: int64"
      ]
     },
     "execution_count": 8,
     "metadata": {},
     "output_type": "execute_result"
    }
   ],
   "source": [
    "df['situation'].value_counts()"
   ]
  },
  {
   "cell_type": "code",
   "execution_count": 9,
   "metadata": {},
   "outputs": [],
   "source": [
    "df.to_csv(\"follow_data.csv\")"
   ]
  },
  {
   "cell_type": "code",
   "execution_count": null,
   "metadata": {},
   "outputs": [],
   "source": []
  }
 ],
 "metadata": {
  "jupytext": {
   "formats": "ipynb,md"
  },
  "kernelspec": {
   "display_name": "Python 3",
   "language": "python",
   "name": "python3"
  },
  "language_info": {
   "codemirror_mode": {
    "name": "ipython",
    "version": 3
   },
   "file_extension": ".py",
   "mimetype": "text/x-python",
   "name": "python",
   "nbconvert_exporter": "python",
   "pygments_lexer": "ipython3",
   "version": "3.8.5"
  },
  "widgets": {
   "application/vnd.jupyter.widget-state+json": {
    "state": {},
    "version_major": 2,
    "version_minor": 0
   }
  }
 },
 "nbformat": 4,
 "nbformat_minor": 4
}