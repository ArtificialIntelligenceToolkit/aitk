{
 "cells": [
  {
   "cell_type": "markdown",
   "metadata": {},
   "source": "<a target=\"_blank\" href=\"https://colab.research.google.com/github/ArtificialIntelligenceToolkit/aitk/blob/master/notebooks/CollectReinforcementData.ipynb\"><img src=\"https://colab.research.google.com/assets/colab-badge.svg\" alt=\"Open In Colab\"/></a>"
  },
  {
   "cell_type": "code",
   "execution_count": null,
   "metadata": {
    "id": "AQMTpw5e_0cx"
   },
   "outputs": [],
   "source": [
    "%pip install aitk --upgrade --quiet"
   ]
  },
  {
   "cell_type": "code",
   "execution_count": null,
   "id": "quantitative-wright",
   "metadata": {},
   "outputs": [],
   "source": [
    "import aitk.robots\n",
    "aitk.robots.__version__"
   ]
  },
  {
   "cell_type": "markdown",
   "id": "german-dating",
   "metadata": {},
   "source": [
    "### Collect wall following data\n",
    "\n",
    "Create a world with several obstacles.  Use a controller to follow walls on the robot's left\n",
    "side.  Collect the robot's IR data and movements so as to eventually be able to train a neural\n",
    "network to learn how to wall follow. Save the data to a CSV file."
   ]
  },
  {
   "cell_type": "code",
   "execution_count": null,
   "id": "regulated-appearance",
   "metadata": {},
   "outputs": [],
   "source": [
    "world = aitk.robots.World(width=200, height=200)\n",
    "world.add_wall(\"blue\", 0, 0, 50, 50)\n",
    "world.add_wall(\"blue\", 75, 200, 125, 150)\n",
    "robot = aitk.robots.Scribbler()\n",
    "world.add_robot(robot)\n",
    "robot.add_device(aitk.robots.RangeSensor(width=45,max=20,name=\"front\"))\n",
    "robot.add_device(aitk.robots.RangeSensor(width=45,max=20,position=(6,-6),\n",
    "                                         a=90,name=\"front-left\"))\n",
    "robot.add_device(aitk.robots.RangeSensor(width=45,max=20,position=(-6,-6),\n",
    "                                         a=90,name=\"back-left\"))\n",
    "robot.set_pose(100,100,0)"
   ]
  },
  {
   "cell_type": "code",
   "execution_count": null,
   "id": "communist-nurse",
   "metadata": {
    "tags": []
   },
   "outputs": [],
   "source": [
    "world.watch()"
   ]
  },
  {
   "cell_type": "code",
   "execution_count": null,
   "id": "explicit-october",
   "metadata": {},
   "outputs": [],
   "source": [
    "import random\n",
    "\n",
    "def scale(v, max):\n",
    "    return v/max\n",
    "\n",
    "def controller(robot):\n",
    "    f = robot[\"front\"].get_distance()\n",
    "    fl = robot[\"front-left\"].get_distance()\n",
    "    bl = robot[\"back-left\"].get_distance()\n",
    "    max_dist = robot[\"front\"].get_max()\n",
    "    readings = [f, fl, bl]\n",
    "    inputs = [scale(v, max_dist) for v in readings]\n",
    "    tolerance = 1.5\n",
    "    difference = fl - bl\n",
    "    if robot.stalled:\n",
    "        situation = \"stalled\"\n",
    "        robot.state[\"stalled\"] += 1\n",
    "    elif f < max_dist:\n",
    "        # wall in front, turn right\n",
    "        situation = \"blocked\"\n",
    "    elif fl < max_dist or bl < max_dist:\n",
    "        # left side is against a wall\n",
    "        if abs(difference) > tolerance and difference < 0:\n",
    "            # keep left side aligned with wall\n",
    "            situation = \"adjustR\"\n",
    "        elif abs(difference) > tolerance and difference > 0:\n",
    "            # keep left side aligned with wall\n",
    "            situation = \"adjustL\"\n",
    "        elif min(fl, bl) < 10:\n",
    "            # robot is too close to wall, move right\n",
    "            situation = \"close\"\n",
    "        elif max(fl, bl) > 15:\n",
    "            # robot is too far from wall, move left\n",
    "            situation = \"far\"\n",
    "        else:\n",
    "            # alignment is good, go straight\n",
    "            situation = \"follow\"\n",
    "    else:\n",
    "        # no wall sensed, move forward to find a wall\n",
    "        situation = \"no_wall\"\n",
    "\n",
    "    if situation == robot.state[\"situation\"]:\n",
    "        translate, rotate = robot.get_velocity(target=True)\n",
    "    else:\n",
    "        robot.state[\"situation\"] = situation\n",
    "        translate = 1 - random.random() * 2\n",
    "        rotate = 1 - random.random() * 2\n",
    "    robot.speak(situation)\n",
    "    robot.move(translate, rotate)\n",
    "    targets = [translate, rotate, situation]\n",
    "    data.append(inputs + targets)\n"
   ]
  },
  {
   "cell_type": "markdown",
   "id": "fossil-glass",
   "metadata": {},
   "source": [
    "### Test it out"
   ]
  },
  {
   "cell_type": "code",
   "execution_count": null,
   "id": "included-pepper",
   "metadata": {},
   "outputs": [],
   "source": [
    "data = []\n",
    "robot.set_random_pose()\n",
    "robot.move(1, 0)\n",
    "world.seconds(5, [controller])"
   ]
  },
  {
   "cell_type": "markdown",
   "id": "personal-playback",
   "metadata": {},
   "source": [
    "### Try several random starting points\n",
    "\n",
    "Collect data from many different random poses so as to create a good variety of data."
   ]
  },
  {
   "cell_type": "code",
   "execution_count": null,
   "id": "distant-documentation",
   "metadata": {},
   "outputs": [],
   "source": [
    "%%time\n",
    "from aitk.robots.utils import distance\n",
    "\n",
    "command_sequence = []\n",
    "TEST_TIME = 10 # in seconds\n",
    "TOTAL_TIME = 30 * 60 # in seconds\n",
    "world.time = 0.0\n",
    "\n",
    "for i in range(TOTAL_TIME // TEST_TIME): \n",
    "    data = []\n",
    "    robot.set_random_pose()\n",
    "    robot.move(1, 0)\n",
    "    robot.state[\"stalled\"] = 0\n",
    "    start_pose = robot.get_pose()\n",
    "    world.seconds(TEST_TIME, [controller], real_time=False, quiet=True)\n",
    "    stop_pose = robot.get_pose()\n",
    "    total_distance = distance(start_pose[0], start_pose[1], stop_pose[0], stop_pose[1])\n",
    "    score = total_distance - robot.state[\"stalled\"] * 100\n",
    "    command_sequence.append([data, score])\n",
    "    "
   ]
  },
  {
   "cell_type": "markdown",
   "id": "commercial-effectiveness",
   "metadata": {},
   "source": [
    "### Sort by total distance traveled"
   ]
  },
  {
   "cell_type": "code",
   "execution_count": null,
   "id": "precise-tennessee",
   "metadata": {},
   "outputs": [],
   "source": [
    "command_sequence = sorted(command_sequence, key=lambda item: item[1], reverse=True)"
   ]
  },
  {
   "cell_type": "code",
   "execution_count": null,
   "id": "colored-wildlife",
   "metadata": {},
   "outputs": [],
   "source": [
    "print(\"Best score:\", command_sequence[0][-1])\n",
    "print(\"Worst score:\", command_sequence[-1][-1])"
   ]
  },
  {
   "cell_type": "code",
   "execution_count": null,
   "id": "subtle-input",
   "metadata": {},
   "outputs": [],
   "source": [
    "good_sequence = [sequence for (sequence, score) in command_sequence if score > 0]\n",
    "len(good_sequence)"
   ]
  },
  {
   "cell_type": "code",
   "execution_count": null,
   "id": "center-mission",
   "metadata": {},
   "outputs": [],
   "source": [
    "good_sequence[0]"
   ]
  },
  {
   "cell_type": "code",
   "execution_count": null,
   "id": "opening-portal",
   "metadata": {},
   "outputs": [],
   "source": [
    "data = []\n",
    "for sequence in good_sequence:\n",
    "    data.extend(sequence)"
   ]
  },
  {
   "cell_type": "code",
   "execution_count": null,
   "id": "norwegian-reasoning",
   "metadata": {},
   "outputs": [],
   "source": [
    "len(data)"
   ]
  },
  {
   "cell_type": "code",
   "execution_count": null,
   "id": "filled-hawaii",
   "metadata": {},
   "outputs": [],
   "source": [
    "import pandas as pd"
   ]
  },
  {
   "cell_type": "code",
   "execution_count": null,
   "id": "hollywood-heather",
   "metadata": {},
   "outputs": [],
   "source": [
    "df = pd.DataFrame(data, columns=['F_ir', 'FL_ir', 'BL_ir', 'translate', 'rotate', 'situation'])"
   ]
  },
  {
   "cell_type": "code",
   "execution_count": null,
   "id": "exempt-marking",
   "metadata": {},
   "outputs": [],
   "source": [
    "df['situation'].value_counts()"
   ]
  },
  {
   "cell_type": "code",
   "execution_count": null,
   "id": "eight-stomach",
   "metadata": {},
   "outputs": [],
   "source": [
    "df.to_csv(\"unsupervised_data.csv\")"
   ]
  },
  {
   "cell_type": "code",
   "execution_count": null,
   "id": "demanding-frederick",
   "metadata": {},
   "outputs": [],
   "source": []
  }
 ],
 "metadata": {
  "jupytext": {
   "formats": "ipynb,md",
   "text_representation": {
    "extension": ".md",
    "format_name": "markdown",
    "format_version": "1.3",
    "jupytext_version": "1.11.2"
   }
  },
  "kernelspec": {
   "display_name": "Python 3",
   "language": "python",
   "name": "python3"
  },
  "language_info": {
   "codemirror_mode": {
    "name": "ipython",
    "version": 3
   },
   "file_extension": ".py",
   "mimetype": "text/x-python",
   "name": "python",
   "nbconvert_exporter": "python",
   "pygments_lexer": "ipython3",
   "version": "3.8.5"
  },
  "widgets": {
   "application/vnd.jupyter.widget-state+json": {
    "state": {},
    "version_major": 2,
    "version_minor": 0
   }
  }
 },
 "nbformat": 4,
 "nbformat_minor": 5
}