{
 "cells": [
  {
   "cell_type": "markdown",
   "metadata": {},
   "source": "<a target=\"_blank\" href=\"https://colab.research.google.com/github/ArtificialIntelligenceToolkit/aitk/blob/master/notebooks/BuildABot.ipynb\"><img src=\"https://colab.research.google.com/assets/colab-badge.svg\" alt=\"Open In Colab\"/></a>"
  },
  {
   "cell_type": "code",
   "execution_count": null,
   "metadata": {
    "id": "AQMTpw5e_0cx"
   },
   "outputs": [],
   "source": [
    "%pip install aitk --upgrade --quiet"
   ]
  },
  {
   "cell_type": "code",
   "execution_count": 1,
   "id": "official-lithuania",
   "metadata": {},
   "outputs": [],
   "source": [
    "from aitk.robots import World, Robot, Scribbler"
   ]
  },
  {
   "cell_type": "code",
   "execution_count": 2,
   "id": "opened-ordinary",
   "metadata": {},
   "outputs": [
    {
     "name": "stdout",
     "output_type": "stream",
     "text": [
      "Random seed set to: 3508950\n"
     ]
    }
   ],
   "source": [
    "w = World(50, 75, scale=10.0, ground_color=\"white\")"
   ]
  },
  {
   "cell_type": "code",
   "execution_count": 3,
   "id": "revised-entrance",
   "metadata": {},
   "outputs": [],
   "source": [
    "robot = Scribbler(x=25, y=25, a=0)"
   ]
  },
  {
   "cell_type": "code",
   "execution_count": 4,
   "id": "promotional-value",
   "metadata": {},
   "outputs": [],
   "source": [
    "w.add_robot(robot)"
   ]
  },
  {
   "cell_type": "code",
   "execution_count": 5,
   "id": "developmental-thanks",
   "metadata": {},
   "outputs": [
    {
     "data": {
      "application/vnd.jupyter.widget-view+json": {
       "model_id": "41e38be201374a609c996a185c91090c",
       "version_major": 2,
       "version_minor": 0
      },
      "text/plain": [
       "Image(value=b'\\xff\\xd8\\xff\\xe0\\x00\\x10JFIF\\x00\\x01\\x01\\x00\\x00\\x01\\x00\\x01\\x00\\x00\\xff\\xdb\\x00C\\x00\\x08\\x06\\x0\u2026"
      ]
     },
     "metadata": {},
     "output_type": "display_data"
    }
   ],
   "source": [
    "w.watch()"
   ]
  },
  {
   "cell_type": "code",
   "execution_count": 7,
   "id": "effective-breed",
   "metadata": {},
   "outputs": [
    {
     "data": {
      "text/plain": [
       "0.0"
      ]
     },
     "execution_count": 7,
     "metadata": {},
     "output_type": "execute_result"
    }
   ],
   "source": [
    "robot.a"
   ]
  },
  {
   "cell_type": "code",
   "execution_count": 8,
   "id": "parliamentary-daisy",
   "metadata": {},
   "outputs": [],
   "source": [
    "robot.turn(1)"
   ]
  },
  {
   "cell_type": "code",
   "execution_count": 9,
   "id": "specific-meter",
   "metadata": {},
   "outputs": [
    {
     "data": {
      "application/vnd.jupyter.widget-view+json": {
       "model_id": "23b195200e6a407faf7b91a40f25e65f",
       "version_major": 2,
       "version_minor": 0
      },
      "text/plain": [
       "  0%|          | 0/10 [00:00<?, ?it/s]"
      ]
     },
     "metadata": {},
     "output_type": "display_data"
    },
    {
     "name": "stdout",
     "output_type": "stream",
     "text": [
      "Simulation stopped at: 00:00:01.0; speed 0.93 x real time\n"
     ]
    }
   ],
   "source": [
    "w.steps(10)"
   ]
  },
  {
   "cell_type": "code",
   "execution_count": 10,
   "id": "quarterly-spokesman",
   "metadata": {},
   "outputs": [
    {
     "data": {
      "text/plain": [
       "(25.0, 25.0, 89.10000000000002)"
      ]
     },
     "execution_count": 10,
     "metadata": {},
     "output_type": "execute_result"
    }
   ],
   "source": [
    "robot.get_pose()"
   ]
  },
  {
   "cell_type": "code",
   "execution_count": 11,
   "id": "falling-wyoming",
   "metadata": {},
   "outputs": [],
   "source": [
    "robot.set_pose(25, 25, 90)"
   ]
  },
  {
   "cell_type": "code",
   "execution_count": 12,
   "id": "employed-seeker",
   "metadata": {},
   "outputs": [
    {
     "data": {
      "text/plain": [
       "(25, 25, 90.0)"
      ]
     },
     "execution_count": 12,
     "metadata": {},
     "output_type": "execute_result"
    }
   ],
   "source": [
    "robot.get_pose()"
   ]
  },
  {
   "cell_type": "code",
   "execution_count": 14,
   "id": "incident-sacrifice",
   "metadata": {},
   "outputs": [
    {
     "data": {
      "text/plain": [
       "4.71238898038469"
      ]
     },
     "execution_count": 14,
     "metadata": {},
     "output_type": "execute_result"
    }
   ],
   "source": [
    "robot.a"
   ]
  },
  {
   "cell_type": "code",
   "execution_count": null,
   "id": "subject-modem",
   "metadata": {},
   "outputs": [],
   "source": []
  }
 ],
 "metadata": {
  "kernelspec": {
   "display_name": "Python 3",
   "language": "python",
   "name": "python3"
  },
  "language_info": {
   "codemirror_mode": {
    "name": "ipython",
    "version": 3
   },
   "file_extension": ".py",
   "mimetype": "text/x-python",
   "name": "python",
   "nbconvert_exporter": "python",
   "pygments_lexer": "ipython3",
   "version": "3.8.5"
  },
  "widgets": {
   "application/vnd.jupyter.widget-state+json": {
    "state": {
     "19b2dfaad6b1459888b69ad0edf71f25": {
      "model_module": "@jupyter-widgets/controls",
      "model_module_version": "1.5.0",
      "model_name": "DescriptionStyleModel",
      "state": {
       "description_width": ""
      }
     },
     "23b195200e6a407faf7b91a40f25e65f": {
      "model_module": "@jupyter-widgets/controls",
      "model_module_version": "1.5.0",
      "model_name": "HBoxModel",
      "state": {
       "children": [
        "IPY_MODEL_87d0dab103dd40469fefc03fbf72b731",
        "IPY_MODEL_2af1b0247ee84c32b012fefcedf1e5da",
        "IPY_MODEL_400763f214924bce97f0a3cb2e9ece92"
       ],
       "layout": "IPY_MODEL_ada706cb6fbf41edacd73b3bed425503"
      }
     },
     "2602f8c18ac14a71b6fabada33a5aebf": {
      "model_module": "@jupyter-widgets/base",
      "model_module_version": "1.2.0",
      "model_name": "LayoutModel",
      "state": {
       "margin": "auto"
      }
     },
     "2af1b0247ee84c32b012fefcedf1e5da": {
      "model_module": "@jupyter-widgets/controls",
      "model_module_version": "1.5.0",
      "model_name": "FloatProgressModel",
      "state": {
       "bar_style": "success",
       "layout": "IPY_MODEL_6cfbed1b720143e8bc40cdfb88643349",
       "max": 10,
       "style": "IPY_MODEL_79c5a87900c9412fbe6472ae49f47a08",
       "value": 10
      }
     },
     "400763f214924bce97f0a3cb2e9ece92": {
      "model_module": "@jupyter-widgets/controls",
      "model_module_version": "1.5.0",
      "model_name": "HTMLModel",
      "state": {
       "layout": "IPY_MODEL_dec53a19e12e494db66b40ac1e4e1856",
       "style": "IPY_MODEL_19b2dfaad6b1459888b69ad0edf71f25",
       "value": " 10/10 [00:01&lt;00:00,  9.68it/s]"
      }
     },
     "41e38be201374a609c996a185c91090c": {
      "buffers": [
       {
        "data": "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",
        "encoding": "base64",
        "path": [
         "value"
        ]
       }
      ],
      "model_module": "@jupyter-widgets/controls",
      "model_module_version": "1.5.0",
      "model_name": "ImageModel",
      "state": {
       "layout": "IPY_MODEL_2602f8c18ac14a71b6fabada33a5aebf"
      }
     },
     "6cfbed1b720143e8bc40cdfb88643349": {
      "model_module": "@jupyter-widgets/base",
      "model_module_version": "1.2.0",
      "model_name": "LayoutModel",
      "state": {}
     },
     "79c5a87900c9412fbe6472ae49f47a08": {
      "model_module": "@jupyter-widgets/controls",
      "model_module_version": "1.5.0",
      "model_name": "ProgressStyleModel",
      "state": {
       "description_width": ""
      }
     },
     "87d0dab103dd40469fefc03fbf72b731": {
      "model_module": "@jupyter-widgets/controls",
      "model_module_version": "1.5.0",
      "model_name": "HTMLModel",
      "state": {
       "layout": "IPY_MODEL_d36d0b41202f47d8b31bd7c8a8df2c47",
       "style": "IPY_MODEL_a9b9fd6283264e6999a49a0480935558",
       "value": "100%"
      }
     },
     "a9b9fd6283264e6999a49a0480935558": {
      "model_module": "@jupyter-widgets/controls",
      "model_module_version": "1.5.0",
      "model_name": "DescriptionStyleModel",
      "state": {
       "description_width": ""
      }
     },
     "ada706cb6fbf41edacd73b3bed425503": {
      "model_module": "@jupyter-widgets/base",
      "model_module_version": "1.2.0",
      "model_name": "LayoutModel",
      "state": {}
     },
     "d36d0b41202f47d8b31bd7c8a8df2c47": {
      "model_module": "@jupyter-widgets/base",
      "model_module_version": "1.2.0",
      "model_name": "LayoutModel",
      "state": {}
     },
     "dec53a19e12e494db66b40ac1e4e1856": {
      "model_module": "@jupyter-widgets/base",
      "model_module_version": "1.2.0",
      "model_name": "LayoutModel",
      "state": {}
     }
    },
    "version_major": 2,
    "version_minor": 0
   }
  }
 },
 "nbformat": 4,
 "nbformat_minor": 5
}