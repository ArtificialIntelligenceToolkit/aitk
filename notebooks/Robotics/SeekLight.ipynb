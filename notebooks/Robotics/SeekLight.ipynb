{
 "cells": [
  {
   "cell_type": "markdown",
   "metadata": {},
   "source": [
    "<a target=\"_blank\" href=\"https://colab.research.google.com/github/ArtificialIntelligenceToolkit/aitk/blob/master/notebooks/Robotics/SeekLight.ipynb\"><img src=\"https://colab.research.google.com/assets/colab-badge.svg\" alt=\"Open In Colab\"/></a>"
   ]
  },
  {
   "cell_type": "code",
   "execution_count": null,
   "metadata": {
    "id": "AQMTpw5e_0cx"
   },
   "outputs": [],
   "source": [
    "%pip install aitk --upgrade --quiet"
   ]
  },
  {
   "cell_type": "code",
   "execution_count": 1,
   "metadata": {},
   "outputs": [
    {
     "data": {
      "text/plain": [
       "'0.8.2'"
      ]
     },
     "execution_count": 1,
     "metadata": {},
     "output_type": "execute_result"
    }
   ],
   "source": [
    "import aitk.robots\n",
    "aitk.robots.__version__"
   ]
  },
  {
   "cell_type": "code",
   "execution_count": 2,
   "metadata": {},
   "outputs": [],
   "source": [
    "from random import randrange"
   ]
  },
  {
   "cell_type": "code",
   "execution_count": 3,
   "metadata": {},
   "outputs": [],
   "source": [
    "# Try using the worlds: LightBehindWall, LightInCorral, LightEnclosed, or LightInMaze (this one is challenging)"
   ]
  },
  {
   "cell_type": "code",
   "execution_count": 4,
   "metadata": {},
   "outputs": [
    {
     "name": "stdout",
     "output_type": "stream",
     "text": [
      "Loading ./worlds/LightEnclosed.json...\n",
      "Using random seed: 2121138\n"
     ]
    }
   ],
   "source": [
    "world = aitk.robots.load_world(\"LightEnclosed\")"
   ]
  },
  {
   "cell_type": "code",
   "execution_count": 5,
   "metadata": {},
   "outputs": [],
   "source": [
    "robot = world.robots[0]"
   ]
  },
  {
   "cell_type": "code",
   "execution_count": 6,
   "metadata": {},
   "outputs": [
    {
     "data": {
      "application/vnd.jupyter.widget-view+json": {
       "model_id": "f8ebd364ad084ee2b856508bb40ed434",
       "version_major": 2,
       "version_minor": 0
      },
      "text/plain": [
       "Image(value=b'\\xff\\xd8\\xff\\xe0\\x00\\x10JFIF\\x00\\x01\\x01\\x00\\x00\\x01\\x00\\x01\\x00\\x00\\xff\\xdb\\x00C\\x00\\x08\\x06\\x0…"
      ]
     },
     "metadata": {},
     "output_type": "display_data"
    }
   ],
   "source": [
    "world.watch()"
   ]
  },
  {
   "cell_type": "code",
   "execution_count": 7,
   "metadata": {},
   "outputs": [
    {
     "data": {
      "application/vnd.jupyter.widget-view+json": {
       "model_id": "a685555a17124450aeba3b792015f95f",
       "version_major": 2,
       "version_minor": 0
      },
      "text/plain": [
       "VBox(children=(Label(value='Range Sensor:'), Text(value='left-ir', description='Name:', layout=Layout(display=…"
      ]
     },
     "metadata": {},
     "output_type": "display_data"
    },
    {
     "data": {
      "application/vnd.jupyter.widget-view+json": {
       "model_id": "04fe8dff0bdf441f8d86af33ed85bd6b",
       "version_major": 2,
       "version_minor": 0
      },
      "text/plain": [
       "VBox(children=(Label(value='Range Sensor:'), Text(value='right-ir', description='Name:', layout=Layout(display…"
      ]
     },
     "metadata": {},
     "output_type": "display_data"
    },
    {
     "data": {
      "application/vnd.jupyter.widget-view+json": {
       "model_id": "fc23cae6799a488fb5dc71da1e3c3eec",
       "version_major": 2,
       "version_minor": 0
      },
      "text/plain": [
       "VBox(children=(Label(value='Light Sensor:'), Text(value='left-light', description='Name:', layout=Layout(displ…"
      ]
     },
     "metadata": {},
     "output_type": "display_data"
    },
    {
     "data": {
      "application/vnd.jupyter.widget-view+json": {
       "model_id": "6aeeb05c3f5441ae897e8685607aee68",
       "version_major": 2,
       "version_minor": 0
      },
      "text/plain": [
       "VBox(children=(Label(value='Light Sensor:'), Text(value='right-light', description='Name:', layout=Layout(disp…"
      ]
     },
     "metadata": {},
     "output_type": "display_data"
    }
   ],
   "source": [
    "for robot in world.robots:\n",
    "    for device in robot:\n",
    "        device.watch()"
   ]
  },
  {
   "cell_type": "code",
   "execution_count": 8,
   "metadata": {},
   "outputs": [],
   "source": [
    "def seekLight(robot):\n",
    "    left_ir = robot[\"left-ir\"].get_distance()\n",
    "    right_ir = robot[\"right-ir\"].get_distance()\n",
    "    left_light = robot[\"left-light\"].get_reading()\n",
    "    right_light = robot[\"right-light\"].get_reading()\n",
    "    total_light = left_light + right_light\n",
    "    diff_light = left_light - right_light\n",
    "    if total_light > 2.5:\n",
    "        print(\"\\nFound light!\")\n",
    "        return True\n",
    "    elif left_ir == robot[0].get_max() and right_ir == robot[1].get_max() and \\\n",
    "        robot.state[\"timer\"] == 0:\n",
    "        if abs(diff_light) <= robot.state[\"light-diff\"]:\n",
    "            # move forward\n",
    "            robot.move(0.5, 0)\n",
    "            #if robot.state[\"debug\"]: print(\"F\",end=\"\")\n",
    "        elif diff_light < 0:\n",
    "            # light stronger to right\n",
    "            robot.move(0.2, -0.1)\n",
    "            #if robot.state[\"debug\"]: print(\"r\",end=\"\")\n",
    "        else:\n",
    "            # light stronger to left\n",
    "            robot.move(0.2, 0.1)\n",
    "            #if robot.state[\"debug\"]: print(\"l\", end=\"\")\n",
    "    elif robot.state[\"timer\"] > 0 and robot.state[\"timer\"] < 5:\n",
    "        # timer triggered, continue current rotation\n",
    "        robot.state[\"timer\"] += 1\n",
    "        #if robot.state[\"debug\"]: print(\"T\",end=\"\")\n",
    "    elif left_ir < robot[0].get_max():\n",
    "        # obstacle on left, turn right, trigger timer\n",
    "        robot.move(0.1, -0.4)\n",
    "        robot.state[\"timer\"] = 1\n",
    "        #if robot.state[\"debug\"]: print(\"R\",end=\"\")\n",
    "    elif right_ir < robot[1].get_max():\n",
    "        # obstacle on right, turn left, trigger timer\n",
    "        robot.move(0.1, 0.4)\n",
    "        robot.state[\"timer\"] = 1\n",
    "        #if robot.state[\"debug\"]: print(\"L\",end=\"\")\n",
    "    else:\n",
    "        # reset timer to zero\n",
    "        robot.state[\"timer\"] = 0\n",
    "        #if robot.state[\"debug\"]: print(\"t\",end=\"\")\n",
    "            "
   ]
  },
  {
   "cell_type": "code",
   "execution_count": 9,
   "metadata": {},
   "outputs": [],
   "source": [
    "world.robots[0].set_random_pose()\n",
    "world.update()"
   ]
  },
  {
   "cell_type": "code",
   "execution_count": 10,
   "metadata": {},
   "outputs": [
    {
     "data": {
      "application/vnd.jupyter.widget-view+json": {
       "model_id": "d3a12ca15dc44db79ccb57b5a629b4c3",
       "version_major": 2,
       "version_minor": 0
      },
      "text/plain": [
       "  0%|          | 0/1200 [00:00<?, ?it/s]"
      ]
     },
     "metadata": {},
     "output_type": "display_data"
    },
    {
     "name": "stdout",
     "output_type": "stream",
     "text": [
      "\n",
      "Found light!\n",
      "Simulation stopped at: 00:00:52.4; speed 0.98 x real time\n"
     ]
    }
   ],
   "source": [
    "robot.state[\"debug\"] = True\n",
    "robot.state[\"timer\"] = 0\n",
    "robot.state[\"light-diff\"] = 0.02\n",
    "\n",
    "robot.set_max_trace_length(120)\n",
    "\n",
    "#world.run([seekLight])\n",
    "world.seconds(120, [seekLight], real_time=True)"
   ]
  },
  {
   "cell_type": "code",
   "execution_count": null,
   "metadata": {},
   "outputs": [],
   "source": []
  }
 ],
 "metadata": {
  "kernelspec": {
   "display_name": "Python 3 (ipykernel)",
   "language": "python",
   "name": "python3"
  },
  "language_info": {
   "codemirror_mode": {
    "name": "ipython",
    "version": 3
   },
   "file_extension": ".py",
   "mimetype": "text/x-python",
   "name": "python",
   "nbconvert_exporter": "python",
   "pygments_lexer": "ipython3",
   "version": "3.10.12"
  },
  "widgets": {
   "application/vnd.jupyter.widget-state+json": {
    "state": {
     "03e9a3dda0604ade99f32b24bca2cf95": {
      "model_module": "@jupyter-widgets/controls",
      "model_module_version": "1.5.0",
      "model_name": "TextModel",
      "state": {
       "description": "Name:",
       "layout": "IPY_MODEL_86b0f31d55824a589dd8bef7abaec2fd",
       "style": "IPY_MODEL_e25e20fadc504c4293a12e95b58f6991",
       "value": "right-ir"
      }
     },
     "04fe8dff0bdf441f8d86af33ed85bd6b": {
      "model_module": "@jupyter-widgets/controls",
      "model_module_version": "1.5.0",
      "model_name": "VBoxModel",
      "state": {
       "children": [
        "IPY_MODEL_7c2c7e032ef9490c86c3ce4c06c6b538",
        "IPY_MODEL_03e9a3dda0604ade99f32b24bca2cf95",
        "IPY_MODEL_fc253ecaad44429dbf793d6f0d5b31b8",
        "IPY_MODEL_57d20666abfb4a96ad7d83a6271baf2b"
       ],
       "layout": "IPY_MODEL_d898519617b64a4c89b47f40ad207e98"
      }
     },
     "13d6eedc436b4c0b9998ea61766b6b35": {
      "model_module": "@jupyter-widgets/controls",
      "model_module_version": "1.5.0",
      "model_name": "DescriptionStyleModel",
      "state": {
       "description_width": ""
      }
     },
     "1763549ec9c343a69c747cf16e6e1c40": {
      "model_module": "@jupyter-widgets/base",
      "model_module_version": "1.2.0",
      "model_name": "LayoutModel",
      "state": {}
     },
     "192b2ed000434d3b9f5614d0e9a39b5e": {
      "model_module": "@jupyter-widgets/controls",
      "model_module_version": "1.5.0",
      "model_name": "LabelModel",
      "state": {
       "layout": "IPY_MODEL_c8c44a69f54745df94a7ca2e7ea3327c",
       "style": "IPY_MODEL_3df12eb9ccbd4ed7a8f38d75ac4f24ec",
       "value": "Range Sensor:"
      }
     },
     "19a5ac127bfd40fda9c731c79bc27944": {
      "model_module": "@jupyter-widgets/base",
      "model_module_version": "1.2.0",
      "model_name": "LayoutModel",
      "state": {}
     },
     "19c2c6eb4b7f41979bb0a581f136e5b3": {
      "model_module": "@jupyter-widgets/controls",
      "model_module_version": "1.5.0",
      "model_name": "FloatProgressModel",
      "state": {
       "bar_style": "danger",
       "layout": "IPY_MODEL_19a5ac127bfd40fda9c731c79bc27944",
       "max": 1200,
       "style": "IPY_MODEL_82cba5326b814a5f84dc8c94fe9303ad",
       "value": 524
      }
     },
     "1fd3df2cb0c74faebaf5600f7c5af7b8": {
      "model_module": "@jupyter-widgets/base",
      "model_module_version": "1.2.0",
      "model_name": "LayoutModel",
      "state": {}
     },
     "2741576122fd430ebeb74f6846f44b3a": {
      "model_module": "@jupyter-widgets/controls",
      "model_module_version": "1.5.0",
      "model_name": "TextModel",
      "state": {
       "description": "Name:",
       "layout": "IPY_MODEL_77ee17c76ea54ef790c09e3718025e65",
       "style": "IPY_MODEL_c2c6ecf06199477faa41f2afdb72b770",
       "value": "left-light"
      }
     },
     "3135e3cc7f50484f99986070a9dd9ca8": {
      "model_module": "@jupyter-widgets/controls",
      "model_module_version": "1.5.0",
      "model_name": "DescriptionStyleModel",
      "state": {
       "description_width": ""
      }
     },
     "340f1c83017043089f034cba63f26978": {
      "model_module": "@jupyter-widgets/controls",
      "model_module_version": "1.5.0",
      "model_name": "TextModel",
      "state": {
       "description": "Distance:",
       "layout": "IPY_MODEL_f80ddc3b65e64546b85b8b73d7b7e7a5",
       "style": "IPY_MODEL_8838980da1fb41479b66a1a9cf8f391b",
       "value": "20.0"
      }
     },
     "3a63b68b6c404df7936441855fead579": {
      "model_module": "@jupyter-widgets/controls",
      "model_module_version": "1.5.0",
      "model_name": "TextModel",
      "state": {
       "description": "Name:",
       "layout": "IPY_MODEL_459826762f1f492788e6cefc845caceb",
       "style": "IPY_MODEL_fc8e985cef294a8da8114776d8a11010",
       "value": "left-ir"
      }
     },
     "3bc2ed1c8de441dfa73ee8a6e99a4fe4": {
      "model_module": "@jupyter-widgets/controls",
      "model_module_version": "1.5.0",
      "model_name": "DescriptionStyleModel",
      "state": {
       "description_width": ""
      }
     },
     "3df12eb9ccbd4ed7a8f38d75ac4f24ec": {
      "model_module": "@jupyter-widgets/controls",
      "model_module_version": "1.5.0",
      "model_name": "DescriptionStyleModel",
      "state": {
       "description_width": ""
      }
     },
     "3e49564466524114be346685fb3c54c6": {
      "model_module": "@jupyter-widgets/base",
      "model_module_version": "1.2.0",
      "model_name": "LayoutModel",
      "state": {}
     },
     "459826762f1f492788e6cefc845caceb": {
      "model_module": "@jupyter-widgets/base",
      "model_module_version": "1.2.0",
      "model_name": "LayoutModel",
      "state": {
       "display": "flex"
      }
     },
     "4e621efe31784c76bbb4070e14bc36ad": {
      "model_module": "@jupyter-widgets/controls",
      "model_module_version": "1.5.0",
      "model_name": "DescriptionStyleModel",
      "state": {
       "description_width": ""
      }
     },
     "53b3273645d847c58c30efd217bc74e6": {
      "model_module": "@jupyter-widgets/controls",
      "model_module_version": "1.5.0",
      "model_name": "TextModel",
      "state": {
       "description": "Reading:",
       "layout": "IPY_MODEL_578e573fcff040bd8206dc4551b5c807",
       "style": "IPY_MODEL_6cf8b34aa4d0417dbfdcda0b22d115f4",
       "value": "1.0"
      }
     },
     "557e0cbdfba84b78bb558b88469191a3": {
      "model_module": "@jupyter-widgets/controls",
      "model_module_version": "1.5.0",
      "model_name": "DescriptionStyleModel",
      "state": {
       "description_width": ""
      }
     },
     "560d825563ca4ab2993be7ad1aac8dcf": {
      "model_module": "@jupyter-widgets/controls",
      "model_module_version": "1.5.0",
      "model_name": "LabelModel",
      "state": {
       "layout": "IPY_MODEL_f2339c0a734e447a9341074e98b0591c",
       "style": "IPY_MODEL_b779d22e76e94356844aa01e619e1754",
       "value": "Light Sensor:"
      }
     },
     "578e573fcff040bd8206dc4551b5c807": {
      "model_module": "@jupyter-widgets/base",
      "model_module_version": "1.2.0",
      "model_name": "LayoutModel",
      "state": {
       "display": "flex"
      }
     },
     "57d20666abfb4a96ad7d83a6271baf2b": {
      "model_module": "@jupyter-widgets/controls",
      "model_module_version": "1.5.0",
      "model_name": "TextModel",
      "state": {
       "description": "Distance:",
       "layout": "IPY_MODEL_fe407042f6b742b8b6cac0ac70e43424",
       "style": "IPY_MODEL_d3223f6fbe6d4211aaa6d88a07d245de",
       "value": "20.0"
      }
     },
     "59f59d16500a4358b327cd25b486c61f": {
      "model_module": "@jupyter-widgets/base",
      "model_module_version": "1.2.0",
      "model_name": "LayoutModel",
      "state": {
       "display": "flex"
      }
     },
     "626c976bf5414d15abae6c47ae3fa659": {
      "model_module": "@jupyter-widgets/base",
      "model_module_version": "1.2.0",
      "model_name": "LayoutModel",
      "state": {}
     },
     "6aeeb05c3f5441ae897e8685607aee68": {
      "model_module": "@jupyter-widgets/controls",
      "model_module_version": "1.5.0",
      "model_name": "VBoxModel",
      "state": {
       "children": [
        "IPY_MODEL_560d825563ca4ab2993be7ad1aac8dcf",
        "IPY_MODEL_762bb0a7fa6146749c9c3c3a2edf20e9",
        "IPY_MODEL_c5096d40c34844c593fee84c1c9e501f"
       ],
       "layout": "IPY_MODEL_1763549ec9c343a69c747cf16e6e1c40"
      }
     },
     "6cf8b34aa4d0417dbfdcda0b22d115f4": {
      "model_module": "@jupyter-widgets/controls",
      "model_module_version": "1.5.0",
      "model_name": "DescriptionStyleModel",
      "state": {
       "description_width": ""
      }
     },
     "762bb0a7fa6146749c9c3c3a2edf20e9": {
      "model_module": "@jupyter-widgets/controls",
      "model_module_version": "1.5.0",
      "model_name": "TextModel",
      "state": {
       "description": "Name:",
       "layout": "IPY_MODEL_ec96ec80b49e45b1bb2883780b48cdf6",
       "style": "IPY_MODEL_557e0cbdfba84b78bb558b88469191a3",
       "value": "right-light"
      }
     },
     "769e59a275dc43909dea4ce53d643e33": {
      "model_module": "@jupyter-widgets/base",
      "model_module_version": "1.2.0",
      "model_name": "LayoutModel",
      "state": {
       "margin": "auto"
      }
     },
     "77ee17c76ea54ef790c09e3718025e65": {
      "model_module": "@jupyter-widgets/base",
      "model_module_version": "1.2.0",
      "model_name": "LayoutModel",
      "state": {
       "display": "flex"
      }
     },
     "7c2c7e032ef9490c86c3ce4c06c6b538": {
      "model_module": "@jupyter-widgets/controls",
      "model_module_version": "1.5.0",
      "model_name": "LabelModel",
      "state": {
       "layout": "IPY_MODEL_626c976bf5414d15abae6c47ae3fa659",
       "style": "IPY_MODEL_3135e3cc7f50484f99986070a9dd9ca8",
       "value": "Range Sensor:"
      }
     },
     "829e2ce882704fc2aafb7cfe451752aa": {
      "model_module": "@jupyter-widgets/controls",
      "model_module_version": "1.5.0",
      "model_name": "LabelModel",
      "state": {
       "layout": "IPY_MODEL_dda04770d4da4f99b86e4baccaf6938e",
       "style": "IPY_MODEL_b15152a774f94a1a8f9988b055e0f402",
       "value": "Light Sensor:"
      }
     },
     "82cba5326b814a5f84dc8c94fe9303ad": {
      "model_module": "@jupyter-widgets/controls",
      "model_module_version": "1.5.0",
      "model_name": "ProgressStyleModel",
      "state": {
       "description_width": ""
      }
     },
     "86b0f31d55824a589dd8bef7abaec2fd": {
      "model_module": "@jupyter-widgets/base",
      "model_module_version": "1.2.0",
      "model_name": "LayoutModel",
      "state": {
       "display": "flex"
      }
     },
     "8838980da1fb41479b66a1a9cf8f391b": {
      "model_module": "@jupyter-widgets/controls",
      "model_module_version": "1.5.0",
      "model_name": "DescriptionStyleModel",
      "state": {
       "description_width": ""
      }
     },
     "a0bef691d2c4432da19f85b98bfb213a": {
      "model_module": "@jupyter-widgets/base",
      "model_module_version": "1.2.0",
      "model_name": "LayoutModel",
      "state": {
       "display": "flex"
      }
     },
     "a685555a17124450aeba3b792015f95f": {
      "model_module": "@jupyter-widgets/controls",
      "model_module_version": "1.5.0",
      "model_name": "VBoxModel",
      "state": {
       "children": [
        "IPY_MODEL_192b2ed000434d3b9f5614d0e9a39b5e",
        "IPY_MODEL_3a63b68b6c404df7936441855fead579",
        "IPY_MODEL_53b3273645d847c58c30efd217bc74e6",
        "IPY_MODEL_340f1c83017043089f034cba63f26978"
       ],
       "layout": "IPY_MODEL_3e49564466524114be346685fb3c54c6"
      }
     },
     "b15152a774f94a1a8f9988b055e0f402": {
      "model_module": "@jupyter-widgets/controls",
      "model_module_version": "1.5.0",
      "model_name": "DescriptionStyleModel",
      "state": {
       "description_width": ""
      }
     },
     "b24dfd29a3f04a9a9e0cbbf0d31c248e": {
      "model_module": "@jupyter-widgets/base",
      "model_module_version": "1.2.0",
      "model_name": "LayoutModel",
      "state": {}
     },
     "b4cbcd04976340628fb3776b3f45d890": {
      "model_module": "@jupyter-widgets/controls",
      "model_module_version": "1.5.0",
      "model_name": "DescriptionStyleModel",
      "state": {
       "description_width": ""
      }
     },
     "b779d22e76e94356844aa01e619e1754": {
      "model_module": "@jupyter-widgets/controls",
      "model_module_version": "1.5.0",
      "model_name": "DescriptionStyleModel",
      "state": {
       "description_width": ""
      }
     },
     "c2c6ecf06199477faa41f2afdb72b770": {
      "model_module": "@jupyter-widgets/controls",
      "model_module_version": "1.5.0",
      "model_name": "DescriptionStyleModel",
      "state": {
       "description_width": ""
      }
     },
     "c3ad6a60f0da48e1aa027be5003a3052": {
      "model_module": "@jupyter-widgets/base",
      "model_module_version": "1.2.0",
      "model_name": "LayoutModel",
      "state": {}
     },
     "c5096d40c34844c593fee84c1c9e501f": {
      "model_module": "@jupyter-widgets/controls",
      "model_module_version": "1.5.0",
      "model_name": "TextModel",
      "state": {
       "description": "Light:",
       "layout": "IPY_MODEL_59f59d16500a4358b327cd25b486c61f",
       "style": "IPY_MODEL_eca1ff52667c4c97a6fcf5d9588cf246",
       "value": "1.3030101885049967"
      }
     },
     "c6a70baf34b34ee0a65867ac97879db6": {
      "model_module": "@jupyter-widgets/base",
      "model_module_version": "1.2.0",
      "model_name": "LayoutModel",
      "state": {}
     },
     "c76a50b086c8416c9f24b64f3a9a7465": {
      "model_module": "@jupyter-widgets/base",
      "model_module_version": "1.2.0",
      "model_name": "LayoutModel",
      "state": {
       "display": "flex"
      }
     },
     "c8c44a69f54745df94a7ca2e7ea3327c": {
      "model_module": "@jupyter-widgets/base",
      "model_module_version": "1.2.0",
      "model_name": "LayoutModel",
      "state": {}
     },
     "d18d49621ba6426fb82cc729988840a0": {
      "model_module": "@jupyter-widgets/controls",
      "model_module_version": "1.5.0",
      "model_name": "HTMLModel",
      "state": {
       "layout": "IPY_MODEL_c3ad6a60f0da48e1aa027be5003a3052",
       "style": "IPY_MODEL_13d6eedc436b4c0b9998ea61766b6b35",
       "value": " 524/1200 [00:53&lt;01:09,  9.77it/s]"
      }
     },
     "d3223f6fbe6d4211aaa6d88a07d245de": {
      "model_module": "@jupyter-widgets/controls",
      "model_module_version": "1.5.0",
      "model_name": "DescriptionStyleModel",
      "state": {
       "description_width": ""
      }
     },
     "d3a12ca15dc44db79ccb57b5a629b4c3": {
      "model_module": "@jupyter-widgets/controls",
      "model_module_version": "1.5.0",
      "model_name": "HBoxModel",
      "state": {
       "children": [
        "IPY_MODEL_fec74b1bfb1f480d8eb89a13eb730548",
        "IPY_MODEL_19c2c6eb4b7f41979bb0a581f136e5b3",
        "IPY_MODEL_d18d49621ba6426fb82cc729988840a0"
       ],
       "layout": "IPY_MODEL_c6a70baf34b34ee0a65867ac97879db6"
      }
     },
     "d6f8012ec43d4002bfc06ebf2b212152": {
      "model_module": "@jupyter-widgets/controls",
      "model_module_version": "1.5.0",
      "model_name": "TextModel",
      "state": {
       "description": "Light:",
       "layout": "IPY_MODEL_c76a50b086c8416c9f24b64f3a9a7465",
       "style": "IPY_MODEL_b4cbcd04976340628fb3776b3f45d890",
       "value": "1.3005713001740027"
      }
     },
     "d898519617b64a4c89b47f40ad207e98": {
      "model_module": "@jupyter-widgets/base",
      "model_module_version": "1.2.0",
      "model_name": "LayoutModel",
      "state": {}
     },
     "dda04770d4da4f99b86e4baccaf6938e": {
      "model_module": "@jupyter-widgets/base",
      "model_module_version": "1.2.0",
      "model_name": "LayoutModel",
      "state": {}
     },
     "e25e20fadc504c4293a12e95b58f6991": {
      "model_module": "@jupyter-widgets/controls",
      "model_module_version": "1.5.0",
      "model_name": "DescriptionStyleModel",
      "state": {
       "description_width": ""
      }
     },
     "ec96ec80b49e45b1bb2883780b48cdf6": {
      "model_module": "@jupyter-widgets/base",
      "model_module_version": "1.2.0",
      "model_name": "LayoutModel",
      "state": {
       "display": "flex"
      }
     },
     "eca1ff52667c4c97a6fcf5d9588cf246": {
      "model_module": "@jupyter-widgets/controls",
      "model_module_version": "1.5.0",
      "model_name": "DescriptionStyleModel",
      "state": {
       "description_width": ""
      }
     },
     "f2339c0a734e447a9341074e98b0591c": {
      "model_module": "@jupyter-widgets/base",
      "model_module_version": "1.2.0",
      "model_name": "LayoutModel",
      "state": {}
     },
     "f80ddc3b65e64546b85b8b73d7b7e7a5": {
      "model_module": "@jupyter-widgets/base",
      "model_module_version": "1.2.0",
      "model_name": "LayoutModel",
      "state": {
       "display": "flex"
      }
     },
     "f8ebd364ad084ee2b856508bb40ed434": {
      "buffers": [
       {
        "data": "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",
        "encoding": "base64",
        "path": [
         "value"
        ]
       }
      ],
      "model_module": "@jupyter-widgets/controls",
      "model_module_version": "1.5.0",
      "model_name": "ImageModel",
      "state": {
       "layout": "IPY_MODEL_769e59a275dc43909dea4ce53d643e33"
      }
     },
     "fc23cae6799a488fb5dc71da1e3c3eec": {
      "model_module": "@jupyter-widgets/controls",
      "model_module_version": "1.5.0",
      "model_name": "VBoxModel",
      "state": {
       "children": [
        "IPY_MODEL_829e2ce882704fc2aafb7cfe451752aa",
        "IPY_MODEL_2741576122fd430ebeb74f6846f44b3a",
        "IPY_MODEL_d6f8012ec43d4002bfc06ebf2b212152"
       ],
       "layout": "IPY_MODEL_b24dfd29a3f04a9a9e0cbbf0d31c248e"
      }
     },
     "fc253ecaad44429dbf793d6f0d5b31b8": {
      "model_module": "@jupyter-widgets/controls",
      "model_module_version": "1.5.0",
      "model_name": "TextModel",
      "state": {
       "description": "Reading:",
       "layout": "IPY_MODEL_a0bef691d2c4432da19f85b98bfb213a",
       "style": "IPY_MODEL_3bc2ed1c8de441dfa73ee8a6e99a4fe4",
       "value": "1.0"
      }
     },
     "fc8e985cef294a8da8114776d8a11010": {
      "model_module": "@jupyter-widgets/controls",
      "model_module_version": "1.5.0",
      "model_name": "DescriptionStyleModel",
      "state": {
       "description_width": ""
      }
     },
     "fe407042f6b742b8b6cac0ac70e43424": {
      "model_module": "@jupyter-widgets/base",
      "model_module_version": "1.2.0",
      "model_name": "LayoutModel",
      "state": {
       "display": "flex"
      }
     },
     "fec74b1bfb1f480d8eb89a13eb730548": {
      "model_module": "@jupyter-widgets/controls",
      "model_module_version": "1.5.0",
      "model_name": "HTMLModel",
      "state": {
       "layout": "IPY_MODEL_1fd3df2cb0c74faebaf5600f7c5af7b8",
       "style": "IPY_MODEL_4e621efe31784c76bbb4070e14bc36ad",
       "value": " 44%"
      }
     }
    },
    "version_major": 2,
    "version_minor": 0
   }
  }
 },
 "nbformat": 4,
 "nbformat_minor": 4
}
