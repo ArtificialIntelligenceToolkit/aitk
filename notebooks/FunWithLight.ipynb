{
 "cells": [
  {
   "cell_type": "markdown",
   "metadata": {},
   "source": "<a target=\"_blank\" href=\"https://colab.research.google.com/github/ArtificialIntelligenceToolkit/aitk/blob/master/notebooks/FunWithLight.ipynb\"><img src=\"https://colab.research.google.com/assets/colab-badge.svg\" alt=\"Open In Colab\"/></a>"
  },
  {
   "cell_type": "code",
   "execution_count": null,
   "metadata": {
    "id": "AQMTpw5e_0cx"
   },
   "outputs": [],
   "source": [
    "%pip install aitk --upgrade --quiet"
   ]
  },
  {
   "cell_type": "markdown",
   "metadata": {},
   "source": [
    "# Fun with light\n",
    "\n",
    "Suppose we have a robot that's goal is to seek light.  In the world there is a single light source which is attached to another robot. The second robot's goal is to keep moving and avoid obstacles.  What happens when we put these two robots together?  Let's find out..."
   ]
  },
  {
   "cell_type": "code",
   "execution_count": 15,
   "metadata": {},
   "outputs": [
    {
     "data": {
      "text/plain": [
       "'0.9.2'"
      ]
     },
     "execution_count": 15,
     "metadata": {},
     "output_type": "execute_result"
    }
   ],
   "source": [
    "from aitk.robots import World, Scribbler, RangeSensor, LightSensor, Bulb"
   ]
  },
  {
   "cell_type": "code",
   "execution_count": 16,
   "metadata": {},
   "outputs": [
    {
     "name": "stdout",
     "output_type": "stream",
     "text": [
      "Random seed set to: 3962240\n"
     ]
    }
   ],
   "source": [
    "world = World(width=150, height=150, scale=3.0)"
   ]
  },
  {
   "cell_type": "code",
   "execution_count": 17,
   "metadata": {},
   "outputs": [],
   "source": [
    "avoider = Scribbler(x=50, y=40, a=135, color=\"red\")\n",
    "ir1 = RangeSensor(position=(6,-6),width=57.3,max=20,angle=90,name=\"left-ir\")\n",
    "ir2 = RangeSensor(position=(6,6),width=57.3,max=20,angle=90,name=\"right-ir\")\n",
    "avoider.add_device(ir1)\n",
    "avoider.add_device(ir2)\n",
    "avoider.add_device(Bulb(\"yellow\",brightness=50))\n",
    "world.add_robot(avoider)"
   ]
  },
  {
   "cell_type": "code",
   "execution_count": 18,
   "metadata": {},
   "outputs": [],
   "source": [
    "seeker = Scribbler(x=60, y=100, a=270, color=\"yellow\")\n",
    "seeker.add_device(LightSensor(position=(6,-6), name=\"left-light\"))\n",
    "seeker.add_device(LightSensor(position=(6,6), name=\"right-light\"))\n",
    "world.add_robot(seeker)"
   ]
  },
  {
   "cell_type": "code",
   "execution_count": 19,
   "metadata": {},
   "outputs": [
    {
     "data": {
      "application/vnd.jupyter.widget-view+json": {
       "model_id": "3d6cd82a85a249239a79783f8c16a2a6",
       "version_major": 2,
       "version_minor": 0
      },
      "text/plain": [
       "Image(value=b'\\xff\\xd8\\xff\\xe0\\x00\\x10JFIF\\x00\\x01\\x01\\x00\\x00\\x01\\x00\\x01\\x00\\x00\\xff\\xdb\\x00C\\x00\\x08\\x06\\x0\u2026"
      ]
     },
     "metadata": {},
     "output_type": "display_data"
    }
   ],
   "source": [
    "world.watch()"
   ]
  },
  {
   "cell_type": "code",
   "execution_count": 20,
   "metadata": {},
   "outputs": [],
   "source": [
    "from random import random"
   ]
  },
  {
   "cell_type": "code",
   "execution_count": 21,
   "metadata": {},
   "outputs": [],
   "source": [
    "def wander_avoid(robot):\n",
    "    max_val = robot[\"left-ir\"].get_max()\n",
    "    if robot[\"left-ir\"].get_distance() < max_val:\n",
    "        robot.move(0.1, -0.3)\n",
    "    elif robot[\"right-ir\"].get_distance() < max_val:\n",
    "        robot.move(0.1, 0.3)\n",
    "    else:\n",
    "        robot.move(1, random()-0.5)"
   ]
  },
  {
   "cell_type": "code",
   "execution_count": 24,
   "metadata": {},
   "outputs": [],
   "source": [
    "def seek_light(robot):\n",
    "    robot.speak(\"\")\n",
    "    left_light = robot[\"left-light\"].get_brightness()\n",
    "    right_light = robot[\"right-light\"].get_brightness()\n",
    "    diff = left_light - right_light\n",
    "    if robot.stalled:\n",
    "        robot.reverse()\n",
    "    elif left_light + right_light > 1.9:\n",
    "        robot.move(0,0)\n",
    "        robot.speak(\"gotcha\")\n",
    "    elif diff > 0.01:\n",
    "        robot.move(1,0.3)\n",
    "    elif diff < -0.01:\n",
    "        robot.move(1,-0.3)   \n",
    "    elif robot.world.time%2 == 0.0:\n",
    "        robot.move(1.0, random()*0.5-0.25)"
   ]
  },
  {
   "cell_type": "code",
   "execution_count": 25,
   "metadata": {},
   "outputs": [
    {
     "name": "stdout",
     "output_type": "stream",
     "text": [
      "Using random seed: 0.37299892226419673\n",
      "Using random seed: 0.04949634142924597\n",
      "Simulation stopped at: 00:00:45.2; speed 0.97 x real time\n"
     ]
    }
   ],
   "source": [
    "world.reset()\n",
    "world.set_seed(random())\n",
    "world.run([wander_avoid,seek_light],real_time=True)"
   ]
  },
  {
   "cell_type": "code",
   "execution_count": null,
   "metadata": {},
   "outputs": [],
   "source": []
  }
 ],
 "metadata": {
  "kernelspec": {
   "display_name": "Python 3",
   "language": "python",
   "name": "python3"
  },
  "language_info": {
   "codemirror_mode": {
    "name": "ipython",
    "version": 3
   },
   "file_extension": ".py",
   "mimetype": "text/x-python",
   "name": "python",
   "nbconvert_exporter": "python",
   "pygments_lexer": "ipython3",
   "version": "3.8.2"
  }
 },
 "nbformat": 4,
 "nbformat_minor": 4
}