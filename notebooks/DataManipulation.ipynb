{
  "cells": [
    {
      "cell_type": "markdown",
      "metadata": {
        "id": "oKKbI7kMvSok"
      },
      "source": [
        "# Data Manipulation\n",
        "In this notebook, we explore how the composition of the training set for neural networks can lead to biased outcomes. We explore this in a categorization task with two classes by manipulating the balance of training examples across these classes."
        "<a target=\"_blank\" href=\"https://colab.research.google.com/github/ArtificialIntelligenceToolkit/aitk/blob/master/notebooks/DataManipulation.ipynb\"><img src=\"https://colab.research.google.com/assets/colab-badge.svg\" alt=\"Open In Colab\"/></a>"
      ]
    },
    {
      "cell_type": "markdown",
      "metadata": {
        "id": "zhwI5C5VzKDa"
      },
      "source": [
        "Here we will install the relevant library in order for this notebook to run."
      ]
    },
    {
      "cell_type": "code",
      "execution_count": 20,
      "metadata": {
        "id": "79TEzrOUtBpl"
      },
      "outputs": [],
      "source": [
        "%pip install aitk --quiet"
      ]
    },
    {
      "cell_type": "markdown",
      "metadata": {
        "id": "8RdbSwNB1SIC"
      },
      "source": [
        "Running this next code block will allow us to import the additional libraries for this notebook."
      ]
    },
    {
      "cell_type": "code",
      "execution_count": 21,
      "metadata": {
        "id": "ssblrxpV9eVu"
      },
      "outputs": [],
      "source": [
        "from aitk.utils import gallery, array_to_image\n",
        "from aitk.networks import SimpleNetwork\n",
        "\n",
        "import tensorflow\n",
        "from tensorflow.keras.datasets import mnist\n",
        "\n",
        "import numpy as np\n",
        "\n",
        "from random import shuffle"
      ]
    },
    {
      "cell_type": "markdown",
      "metadata": {
        "id": "eGocrfH8L4OD"
      },
      "source": [
        "## Manipulating the Data\n",
        "In this section, we will perform some manipulations on a dataset in order to show how the composition of a dataset can affect the efficacy of a network."
      ]
    },
    {
      "cell_type": "markdown",
      "metadata": {
        "id": "53F-RO-vLY4T"
      },
      "source": [
        "To demonstrate dataset composition's relevance to network efficacy, we will use a part of the MNIST dataset. MNIST is a data set composed of hand-written digits. Specifically, we will use the 4's and 5's in this dataset in order to demonstrate how over or underrepresenting one of these two digits will affect the network's ability to accurately recognize both digits. The reason we chose 4 and 5 is that they have some similarities, such as the horizontal bar through the middle, and some differences, such as the pointed top for the 4 and the flat top for the 5.\n",
        "\n",
        "We will start with an equal number of 4's and 5's, and then we will change the percentages of 4's and 5's in the overall dataset to explore how dataset manipulation impacts a network."
      ]
    },
    {
      "cell_type": "markdown",
      "metadata": {
        "id": "uJEQC2GJO_d7"
      },
      "source": [
        "This code block loads in the MNIST dataset."
      ]
    },
    {
      "cell_type": "code",
      "execution_count": 22,
      "metadata": {
        "id": "G9D1Spe3zPzH"
      },
      "outputs": [],
      "source": [
        "(train_x, train_y), (test_x, test_y) = mnist.load_data()"
      ]
    },
    {
      "cell_type": "markdown",
      "metadata": {
        "id": "6e1bDkc9PGuS"
      },
      "source": [
        "This next code block will create an array of the 4's in the dataset and an array of the 5's, as well as corresponding arrays for the labels for these datasets. Then we will print the number of 4's and 5's to make sure there is an equal number."
      ]
    },
    {
      "cell_type": "code",
      "source": [
        "four_train_x = []\n",
        "four_train_y = []\n",
        "five_train_x = []\n",
        "five_train_y = []\n",
        "num_train_four = 0\n",
        "num_train_five = 0\n",
        "\n",
        "for i in range(len(train_x)):\n",
        "  if train_y[i] == 4 and num_train_four < 5000:\n",
        "    four_train_x.append(train_x[i])\n",
        "    four_train_y.append([1,0])\n",
        "    num_train_four += 1\n",
        "  elif train_y[i] == 5 and num_train_five < 5000:\n",
        "    five_train_x.append(train_x[i])\n",
        "    five_train_y.append([0,1])\n",
        "    num_train_five += 1\n",
        "\n",
        "print(\"number of fours: \", len(four_train_x))\n",
        "print(\"number of fives: \", len(five_train_x))"
      ],
      "metadata": {
        "colab": {
          "base_uri": "https://localhost:8080/"
        },
        "id": "cpAk1htBuA_J",
        "outputId": "e47d614f-1581-42d3-946d-863b2c372f2c"
      },
      "execution_count": 23,
      "outputs": [
        {
          "output_type": "stream",
          "name": "stdout",
          "text": [
            "number of fours:  5000\n",
            "number of fives:  5000\n"
          ]
        }
      ]
    },
    {
      "cell_type": "markdown",
      "source": [
        "Now, we must create arrays that contain only 4's and 5's to test the network. We additionally need this set to have an equal number of 4's and 5's, so we will print out the number of 4's and 5's to check that they are equal."
      ],
      "metadata": {
        "id": "QgZnzunCfg2P"
      }
    },
    {
      "cell_type": "code",
      "execution_count": 24,
      "metadata": {
        "colab": {
          "base_uri": "https://localhost:8080/"
        },
        "id": "gR8upW9NC4kP",
        "outputId": "6f39728a-6202-4368-f2cb-aaf49ad3b434"
      },
      "outputs": [
        {
          "output_type": "stream",
          "name": "stdout",
          "text": [
            "number of fours:  750\n",
            "number of fives:  750\n"
          ]
        }
      ],
      "source": [
        "new_test_x = []\n",
        "new_test_y = []\n",
        "num_four = 0\n",
        "num_five = 0\n",
        "\n",
        "for i in range(len(test_x)):\n",
        "  if test_y[i] == 4 and num_four < 750:\n",
        "    new_test_x.append(test_x[i])\n",
        "    new_test_y.append([1,0])\n",
        "    num_four += 1\n",
        "  elif test_y[i] == 5 and num_five < 750:\n",
        "    new_test_x.append(test_x[i])\n",
        "    new_test_y.append([0,1])\n",
        "    num_five += 1\n",
        "\n",
        "new_test_x = np.array(new_test_x)\n",
        "new_test_y = np.array(new_test_y)\n",
        "\n",
        "new_test_x_normalized = new_test_x/255\n",
        "\n",
        "print(\"number of fours: \", num_four)\n",
        "print(\"number of fives: \", num_five)"
      ]
    },
    {
      "cell_type": "markdown",
      "source": [
        "Here, we define a function that will allow us to split the data by percentages of 4's and 5's. This will then create an array that contains the entered percentages of 4's and 5's."
      ],
      "metadata": {
        "id": "_R8h4DaG5CZG"
      }
    },
    {
      "cell_type": "code",
      "source": [
        "def split_data(pct4, pct5):\n",
        "  assert pct4+pct5 == 1, \"percentages must sum to 1\"\n",
        "  num4 = int(pct4*(len(four_train_x)))\n",
        "  num5 = int(pct5*(len(five_train_x)))\n",
        "  shuffle(four_train_x)\n",
        "  shuffle(five_train_x)\n",
        "  print(\"four train length:\", num4)\n",
        "  print(\"five train length:\", num5)\n",
        "  inputs = four_train_x[:num4] + five_train_x[:num5]\n",
        "  targets = ([[1,0]]*num4) + ([[0,1]]*num5)\n",
        "  mix = list(zip(inputs, targets))\n",
        "  shuffle(mix)\n",
        "  inputs, targets = zip(*mix)\n",
        "\n",
        "  inputs = np.array(inputs)/255\n",
        "  targets = np.array(targets)\n",
        "\n",
        "  return inputs, targets\n"
      ],
      "metadata": {
        "id": "BzAeR_EMwl_A"
      },
      "execution_count": 25,
      "outputs": []
    },
    {
      "cell_type": "markdown",
      "source": [
        "Now, **enter the percentage of 4's** you want in the dataset as a decimal. For example, if you want 25% 4's, enter 0.25. To start, split the data evenly. After seeing how the network looks with an even split of data, change the percentages and rerun all the code blocks below to see how the network changes."
      ],
      "metadata": {
        "id": "nSSabDe77w55"
      }
    },
    {
      "cell_type": "code",
      "source": [
        "pct4 = 0.5"
      ],
      "metadata": {
        "id": "h3JoM5BJ4O77"
      },
      "execution_count": 26,
      "outputs": []
    },
    {
      "cell_type": "markdown",
      "source": [
        "**Enter the percentage of 5's** you want to be in the dataset. Make sure that the decimal percentage of 4's and 5's adds to one."
      ],
      "metadata": {
        "id": "kh0Fromb8QDS"
      }
    },
    {
      "cell_type": "code",
      "source": [
        "pct5 = 0.5"
      ],
      "metadata": {
        "id": "MSISoLoN4SDT"
      },
      "execution_count": 27,
      "outputs": []
    },
    {
      "cell_type": "markdown",
      "source": [
        "Run this code block to split up the data and put the composition of 4's and 5's into input and target arrays. Additionally, the number of 4's and 5's will be outputted; verify that the numbers look correct given the percentages of 4's and 5's you entered."
      ],
      "metadata": {
        "id": "GMsOZm_P8V2a"
      }
    },
    {
      "cell_type": "code",
      "source": [
        "inputs, targets = split_data(pct4, pct5)"
      ],
      "metadata": {
        "colab": {
          "base_uri": "https://localhost:8080/"
        },
        "id": "11CCyt921x9f",
        "outputId": "6dec476a-1d17-4f40-ed24-b7d34951c7e5"
      },
      "execution_count": 28,
      "outputs": [
        {
          "output_type": "stream",
          "name": "stdout",
          "text": [
            "four train length: 2500\n",
            "five train length: 2500\n"
          ]
        }
      ]
    },
    {
      "cell_type": "markdown",
      "source": [
        "Now, we can see what the new dataset we will use looks like. Notice how the number of 4's and 5's varies based on the percentages you inputted."
      ],
      "metadata": {
        "id": "MBYsp30e8clA"
      }
    },
    {
      "cell_type": "code",
      "execution_count": 29,
      "metadata": {
        "colab": {
          "base_uri": "https://localhost:8080/",
          "height": 233
        },
        "id": "MTUkPmHPTrkc",
        "outputId": "9aa677f8-e143-4ca5-fc18-29d58860f6f1"
      },
      "outputs": [
        {
          "output_type": "display_data",
          "data": {
            "text/plain": [
              "<IPython.core.display.HTML object>"
            ],
            "text/html": [
              "<table><tr style=\"padding: 1px\"><td style=\"text-align: center; padding: 1px\">0<br/><img src=\"data:image/PNG;base64,iVBORw0KGgoAAAANSUhEUgAAABwAAAAcCAAAAABXZoBIAAAAgElEQVR4nM1SSxYDIQyivdjkZsWTaU9GF35GY+yyr6x8IQgxAn+Gx3S2F1IBAaAU35glUhV552440nqZu7lJEi0M1nQ5ZIdZcGlNyrN4JD6yNrNPR5YE4CgFJR2UVf7NlGtlDeS6e28wSi9YNGZ7uLozx82bXPY4vokZcL2JH+AD/y+E0tNBs+EAAAAASUVORK5CYII=\" alt=\"0\" title=\"0\"></img></td><td style=\"text-align: center; padding: 1px\">1<br/><img src=\"data:image/PNG;base64,iVBORw0KGgoAAAANSUhEUgAAABwAAAAcCAAAAABXZoBIAAAAt0lEQVR4nGNgGORA8MT//bjkBA78/TsDl+Txv3//yuKQy/nz9+9fSexyak9/zvuOQ5Llwd/uSBw6Wab8PcGPSzLy719jBhySnGf+LuZkiPy7gwVTjn/v38cMDAx597AZOufv3xenTp36+N0KU27in78Q8MMWIcgIpV8JMzBs+7Tuz8xvSpg6Jcvd+JkZGBgOYLUTCvBJqn1HlmRClWRhY8AtycDAp4hT8vtnQXXclk59wotbkkoAADGMS9iN1rYfAAAAAElFTkSuQmCC\" alt=\"1\" title=\"1\"></img></td><td style=\"text-align: center; padding: 1px\">2<br/><img src=\"data:image/PNG;base64,iVBORw0KGgoAAAANSUhEUgAAABwAAAAcCAAAAABXZoBIAAAAiElEQVR4nN2QwQ3DMAwDie7hQbRH4e7hPbKIBhE6h9A9rg8HSOLY/6L8SMCJtCXpP5UuWZFUejkraAGQAFxZxYtHJ7BdWEnGqIMFADEdiD0Om/00mklq5DJcypP1McKXnmunMkdnPR76vIdpJ+veFtoNQlaTZHE/xdavFjHfszoAvtrSfIl+RF+AWVadC7YAcgAAAABJRU5ErkJggg==\" alt=\"2\" title=\"2\"></img></td><td style=\"text-align: center; padding: 1px\">3<br/><img src=\"data:image/PNG;base64,iVBORw0KGgoAAAANSUhEUgAAABwAAAAcCAAAAABXZoBIAAAA/klEQVR4nMWQv0tCURiGn5tcpB8iKOQSNASSg+2REDi1R4RTSOBQrYaTf4GLg0s2FIjintMVamlwDdEEQVSEaAmcuoKfDZqn9J61nu3jOe8573fgn/Hn4np5L/lf88rPwUtfGzz9bJla2ZQGcH4RcHCpiZyBpysHDvJNLBe4HiS6XGjbrjyOYZwntpRzP8seAGW1zzyZ3ceenlKBmTRTiffDFgAGBvgLqtVWUeRjZx1grS61TLNfWgUMAEK1DaDdAMM8Auyb5EjdftmTjnzTebpi9sIU3249HN6sBiPHXutk6PALALzK9WJbxYQXXY7QcODRSkvutI7btE8v/4IvU5RPMympCbEAAAAASUVORK5CYII=\" alt=\"3\" title=\"3\"></img></td><td style=\"text-align: center; padding: 1px\">4<br/><img src=\"data:image/PNG;base64,iVBORw0KGgoAAAANSUhEUgAAABwAAAAcCAAAAABXZoBIAAABBklEQVR4nL2SIUhDURSG/4kGdbwyBDWYHohhM42Bc0XENgURk0G0mu2iYDQIItjFbLaJ6QVlYJgKwmAMLEMUlr7zDM/H5r3PqH/6ud895/zncqX/V65vq+vlyxkd9jJuDR8ZgM1mtVjBAB7zgwWpWZKk5+uHz4zCWovO6cJIdrA1s10/R2piNaTx+cXwJTxou5UgVRoYcOG1Bc01SSKXvw+H+rwUhZKiWqSiHyg2s86ZVLfYeYn8ybvRfdqQNNGykjt1+Xx1MnG3dpy9bwJvvEADKv6EhWqQkrEgd+ek5XV/WpIUXOHOrPSw5l6owmYbD2oLg4+3LsD9lANHt5OfALDz+yZ/ri99IHV1rTLvEwAAAABJRU5ErkJggg==\" alt=\"4\" title=\"4\"></img></td></tr><tr style=\"padding: 1px\"><td style=\"text-align: center; padding: 1px\">5<br/><img src=\"data:image/PNG;base64,iVBORw0KGgoAAAANSUhEUgAAABwAAAAcCAAAAABXZoBIAAABB0lEQVR4nM3RLUuDURjG8UsdqMijYb4syCxaDILDqjBQZFhWFoZbMFgMBhk29QvY9hEUm01B0Lg0g6CbCG5p4dlAMDzBl+l/hqec43aqeKWb+8d1c+BI/yXeVXPaiauw4LKlMmQl9ffCjRmpaq9yB8PhkPyktB0xKXbkd/bDMfPGsVVbvqNDfVyS9p5g08JzoH02JmkygHvPoL7Db2jvSNLELdhX14BSXNJIvgpU9AuLEUnKA1BPhevwxdHW1GwusRhcFCVJwaDZLGDEX7FMA1vPL680fODjOqquxOdSo6fAZTdJknaBE6+3JR6glXQUC/CVHjI3xpc9Ss3KuwPndbNec1z9u/wAprt0VRLXY3sAAAAASUVORK5CYII=\" alt=\"5\" title=\"5\"></img></td><td style=\"text-align: center; padding: 1px\">6<br/><img src=\"data:image/PNG;base64,iVBORw0KGgoAAAANSUhEUgAAABwAAAAcCAAAAABXZoBIAAAA5UlEQVR4nMWPL09CcRiFzwQcznS362YwUmRzNhMkCARmI1AYiYSZYCRb/ARGN2lsJH7BL0CAZHEDChFGgbvLAwGu2+V3L1FOec/eZ+f9I/2LHvomHU9nvJ6C4z9/cag3n5VkbKAEL7FJDeRK0v1VRDJ5Oe1LUh1+raTvbfPXe/tmj5VSjX19ioKSJLPQXSTMPt9qulbGvqjsAZNa6JVArTkAq5lvw8Q3sPQAmJfb1RAsAl0VzArYwlcIdoCmpGL1BzC5Y/iekCRVNhg3vDM/HAadEb3jixwncG0+7EcDuYvHeHhm7QCc92CasCWnsAAAAABJRU5ErkJggg==\" alt=\"6\" title=\"6\"></img></td><td style=\"text-align: center; padding: 1px\">7<br/><img src=\"data:image/PNG;base64,iVBORw0KGgoAAAANSUhEUgAAABwAAAAcCAAAAABXZoBIAAAA90lEQVR4nM2RIUhDURSGz8LCGC+M8RAWDAuCLA6WVkRhzeIEEZ5VjHMmi7A8sQgvGS1iFtFmWFdhSURBVHgDcQxfkO/XMti8z9f3w4HD+fjO4XLNZiyZf6cl325ThNzhO/dp2w4EWylsTT/aSUyrvX5gVnlCN57L8l1xbdaHuJHwTtGgZusxhImlPUnHZpIUJNg3XBS9c0GYc+6dCEbL2VXEcMHx9hCj7WAfxFdYrjanWEd/81mesPkIxLiO5jbb9SnxDBDD11YT4g3n4hWgQc3MeyAqOLD+EV+umJkVnnXnvMPM98fN0svj7kR1Pju7aG+Rq85OfgGfGIRra5/M3wAAAABJRU5ErkJggg==\" alt=\"7\" title=\"7\"></img></td><td style=\"text-align: center; padding: 1px\">8<br/><img src=\"data:image/PNG;base64,iVBORw0KGgoAAAANSUhEUgAAABwAAAAcCAAAAABXZoBIAAABCElEQVR4nGNgGMSAXVZYWFbW7pYZTIARxohmdNU0ec4gycDA8E7tHUSMBUIJrXZkYGBgkPx2nIFhy8X3qDrVr/+evfYpA8PPh1isq/u3BIsoEwMDAwMDXzLDAw5MSYix7tsZGO78Ytjw4d2mX5/QlTz+BwfPF/mjSW6748PHx8fHF5S/5/2/f9fCUSR5JOFMxdQ7v74vZ8PiPAgwu/hvoxpOWcnz/64heDX7PViQZUX7fjTCOWIv/52qMUCSdfn3D8FRmPX+3/fLDerMEC7jyv97GZBiRdkl2JGZ4fRfhlPXpNwYzT+a30J1h3Dy7hOQkPi725wBWScEsIk7yjMwfFz3BKdPBhQAAEgFX2/69HZAAAAAAElFTkSuQmCC\" alt=\"8\" title=\"8\"></img></td><td style=\"text-align: center; padding: 1px\">9<br/><img src=\"data:image/PNG;base64,iVBORw0KGgoAAAANSUhEUgAAABwAAAAcCAAAAABXZoBIAAAA4klEQVR4nGNgGLJAXICBgYHhzN8VWOTsX+1jYGBg+LvXAlNu8qsH2gwMDJF/QzDljP8+1mZgYFB7iEXSYP//NgYGBobQv9cw5HjX/LnnyMDAwLDgjxqG5IQ/fyQZGBgYgj78aV9wNA8iyAKVlGRgeO6jylAoyMlQ9v/WA1TJd7/Z/v1nYGD8f3HxobMY5jq1Hj1yJOHvnz5Mf8DA35eqeCQnIvOYUOTqGA/j1Cf8/JUMTsnQP7tx27jzDy+EkVq0ZxqanNvffVCW8aOHKWiSK19a4zRU/BW2FAAFsn9ccEuSCACQVkjEZxZeZgAAAABJRU5ErkJggg==\" alt=\"9\" title=\"9\"></img></td></tr><tr style=\"padding: 1px\"><td style=\"text-align: center; padding: 1px\">10<br/><img src=\"data:image/PNG;base64,iVBORw0KGgoAAAANSUhEUgAAABwAAAAcCAAAAABXZoBIAAAA5ElEQVR4nGNgGBqAmx2nlHDNu/MRWGXYbOY+//v3718MHalmDEnb/v79+/fvs2eoUkJpF//+3X7/79+/f89EqqmhSnr+/fv377+/n7fE2fBgWLb679+b+WYpmlhdEvX37wRUESYE88IbrHqgwOjNETbcslf/d+GWjPiN4XUGBgYRAahWVEmIgw7trWZgYGBgeInNvP9/ExgYGBgk3mAz9t/f45IMDAz70IKbkYGBgYHhmjrDw8v3NBzYbmhj6pS88vfv379//16WwGYpX/LSv3//zpdEFWWEMZg5GBi+/8OmkeoAACjEVfdx7UC3AAAAAElFTkSuQmCC\" alt=\"10\" title=\"10\"></img></td><td style=\"text-align: center; padding: 1px\">11<br/><img src=\"data:image/PNG;base64,iVBORw0KGgoAAAANSUhEUgAAABwAAAAcCAAAAABXZoBIAAAAxElEQVR4nGNgGAzAfh1uOdajkbglhX5xwtlM6JK6DN+xSqoZMTAw6P5gwCppkMTAwOC0DrukzSkGBjG7I1id4vRXlYHB8rMUVp0hm+4wMDj+eoZNo8snQwYGjgvzkIQQOi1unmdgUNU7jdXKU3MYGBiCn/EyCml5YtrJyMTAEMJavuOl814Mnb3/j65a9eXr8lAZhHI4i8VdXCqN0eQlVjsZGBgYju1H4aIEPI/WLpz6GDx+6OLWyXDmMm7J579wm0ovAAABTSyya7o7jAAAAABJRU5ErkJggg==\" alt=\"11\" title=\"11\"></img></td><td style=\"text-align: center; padding: 1px\">12<br/><img src=\"data:image/PNG;base64,iVBORw0KGgoAAAANSUhEUgAAABwAAAAcCAAAAABXZoBIAAABFklEQVR4nGNgGMRA6er/f//+/XsPF2CBMfTKVISU/zEwvHw5DS7JCKXDljAzMDBs2cVw5iSGiXq//v79+/c+M6ooE4SSYP70nYGh6y+qJNRO0TLONGmG2wzaCQwMDAe3oBs84e/fv5/ff/779+/f7+97DFHkcn7/RQYPFJG9osbEwMDAsOcQAwMDezUDgywPss70338vb5jLzcDAwMAktubvX10Uc718lOFs4b0QSXgIbUNSyCOI7lwEULgANZYJU44xVpfh5z8cGsP//v3pj1WGze7Yx7/vYlDEZGct0uVglFy0aNXfv39/xqBr+f73b+m1v3///v27BdPMyr9///79++b4cXt+TMtUk7f/fZXsisORVAUAHDdx1Xv+c0UAAAAASUVORK5CYII=\" alt=\"12\" title=\"12\"></img></td><td style=\"text-align: center; padding: 1px\">13<br/><img src=\"data:image/PNG;base64,iVBORw0KGgoAAAANSUhEUgAAABwAAAAcCAAAAABXZoBIAAAAxklEQVR4nGNgGGSAEVMol4fBLf0WFrVsOas//vn7928AhoxIXNzav//+/v272ZYDQzLx79+/l9etNVXnxDRy/oe/3zZLYneazYe/N3JwuTvt7w0c2hgYGK79PYvFLijo+Pt3PisuSbWHf/8uxqk1+/6/f6twyqrd+ft3lSUuWfXbf/9uwmmvZNXff/Nxupnr3r+/UjjtVf73txbOYUKT/MzIoATnsCDLCMcZGDIwrMFu5rq/f//+2M6NXTL4zN9tDjidQzUAAGaHSIKUXcOHAAAAAElFTkSuQmCC\" alt=\"13\" title=\"13\"></img></td><td style=\"text-align: center; padding: 1px\">14<br/><img src=\"data:image/PNG;base64,iVBORw0KGgoAAAANSUhEUgAAABwAAAAcCAAAAABXZoBIAAAAe0lEQVR4nN1QwQ3CQAxzEXthJqs7WdLJzKOQ9uAOCcELvxI7TiIDf4PplRJwAZGrpmIySWC+9wsyyxks5wLoaRlt2yEeuHMzcc2mLZHd5x6wYyyGzU/U016uwDz2yu82y7aGKuO7n6s+xkdKILJ/cct+J9o8BWTf+EvcAGNbN/AVzktUAAAAAElFTkSuQmCC\" alt=\"14\" title=\"14\"></img></td></tr><tr style=\"padding: 1px\"><td style=\"text-align: center; padding: 1px\">15<br/><img src=\"data:image/PNG;base64,iVBORw0KGgoAAAANSUhEUgAAABwAAAAcCAAAAABXZoBIAAAAzklEQVR4nGNgGHDA03b6338/GI8FWUrUYg3r/z+v1bHo4vb78PfvrcnBWI30/Pv3RRSKCBMKb8UyPJJLGPBIPsEpqY/hCiSveDFcivjHcPAiNsda//779+/ff98famIzlpGRkfHbNybZfWpYtAZPebqRlcHry9/JbNhMhqj5+9cG01gJCHUJIYKQbDrQy4nTOI83f+ewMzAwqCKMRZZ9+3ceCwND+98zPFj0un34uzBp2Ye/kVhNFmk98u/v3xeaWCUZGNi6/r4xxOksegAAKUJFqRFx2coAAAAASUVORK5CYII=\" alt=\"15\" title=\"15\"></img></td><td style=\"text-align: center; padding: 1px\">16<br/><img src=\"data:image/PNG;base64,iVBORw0KGgoAAAANSUhEUgAAABwAAAAcCAAAAABXZoBIAAABKElEQVR4nM2QPUsDQRRFz0iyIIYQSCxEsBSD2Cg2MYJIRLvF2Gkh/gAbRfA/WFqI2qtVCtkUNjaBlOJHEEQLo1iYFLq4agi8HQtjshs3nYWvmTf3vDvvMvDPSrXaaPJuiMn5cehqn+pJ3dcfRFyReqHd2XcyrDRwXDt0TtuNRlWcs42pePDyimz+0kKN00xQ6giz+tKCUCw9+H3ff/HAKBUzG41MKw0ojd5qwfgcmRkNfJQhX13v9T6rDKB2YOfergBWfNA5GsiXrGYSpbywtuSLqTUQ8I0AyX46wlgxgh1kAjI3ruyFPUJ4YvSnnb1w9Y5vOiWfywAktm15XzPwpk1jLL7C2IipKa6e+/dci4grIuJWdrubasN5+2gvPFvYOZ7KHXL+XX0BIhVf8PcIne4AAAAASUVORK5CYII=\" alt=\"16\" title=\"16\"></img></td><td style=\"text-align: center; padding: 1px\">17<br/><img src=\"data:image/PNG;base64,iVBORw0KGgoAAAANSUhEUgAAABwAAAAcCAAAAABXZoBIAAAA+klEQVR4nGNgGEqAEZUrrKFmzW5zhv3Vuo8Mlz/Bhbl2ZjOw5j/6+/ff378QYidCj8jfj5pzoOIH/h78fnZdJwMLTNKU4RtH0n+G25uO/jjzie8T77cfSLYd+FvKsOlrBCuyC+A6xRkZGPxwOfvaXyUMMRYE01LXWm759l/Ydf79++/v39dVeCT//i3CYuwV0RtbX/+X8zHq/TgXQyezNAMDAwMD25F/t3C5mYFB7t9L3JIMSJJM6HJF6AIMDAziEEq4/t//VxiS91ZGiIiU1T76+/d2BIZkPSwW78lhGsvqcfXX339/H07iQRJESiZmWgy3brzD6QuSAADHiXS+/bAPMwAAAABJRU5ErkJggg==\" alt=\"17\" title=\"17\"></img></td><td style=\"text-align: center; padding: 1px\">18<br/><img src=\"data:image/PNG;base64,iVBORw0KGgoAAAANSUhEUgAAABwAAAAcCAAAAABXZoBIAAAA1klEQVR4nGNgGLxArIqBgYGBwfo1H0yECSFZmczAwMDAwPz3P6akUDyEDrjxGVOSQ+AXAwMDA4MiwiwkYxk2MTAwMGh6YJX8t4eBgYGBj/0OFknVp7sZGBgYHBlWY5EMgbqL4RKmJLc3hNZgwAJE/+1gYGBgYLh3jhWbg64yMDBwBkh/+w0XYUHSzK5jXiaHzVQGwY8fHv3793jOvyPYZJ2OHGlI5jP+twGrXgYGBgaGrH+FCA4TmuRJhnO4JY0Z7+E2dtc7Udw6Ff5K4JZ8IsyL21gqAQCFxi2LDr7HgQAAAABJRU5ErkJggg==\" alt=\"18\" title=\"18\"></img></td><td style=\"text-align: center; padding: 1px\">19<br/><img src=\"data:image/PNG;base64,iVBORw0KGgoAAAANSUhEUgAAABwAAAAcCAAAAABXZoBIAAAAy0lEQVR4nGNgGBLA7J09TjnzN4ckccnxPfmugVPj7P/1mIJqRgwMDAyM+X/vi2DIsW/bzsDAwMDx/4kqpsaG/zEMDAy8Z/4nYMpl/l/FyMDrMfn/JmZ0KYVNv//vnvL8w///z9jQ5QKf//////2lSy//f/XBMLP3x/0ZLnIMDBP/T8e0kF+fgYGBgcHkxwNeTEkIMHv4PwWXnMy9/1W45Bjy/q9jxCVn/eOaPi45ltn/Y3AamvB/A7qhTHCGOcOc/7g0uvzfhtNQKgMA6ttCTVWZaVEAAAAASUVORK5CYII=\" alt=\"19\" title=\"19\"></img></td></tr></table>"
            ]
          },
          "metadata": {}
        }
      ],
      "source": [
        "images = [array_to_image(inputs[i]) for i in range(20)]\n",
        "gallery(images)"
      ]
    },
    {
      "cell_type": "markdown",
      "source": [
        "Here we are creating the neural network. We will utilize a very simple network which first flattens the two-dimensional input, passes it through a single hidden layer, and then on to the output layer."
      ],
      "metadata": {
        "id": "eBcWmdw-ZzHF"
      }
    },
    {
      "cell_type": "code",
      "execution_count": 30,
      "metadata": {
        "id": "ZYhRl_wAPRQr"
      },
      "outputs": [],
      "source": [
        "net = SimpleNetwork((28, 28), \"Flatten\", 25, (2, \"softmax\"))"
      ]
    },
    {
      "cell_type": "markdown",
      "source": [
        "Summarizing the network allows us to make sure it looks as it is expected."
      ],
      "metadata": {
        "id": "EhaHl4jNaptW"
      }
    },
    {
      "cell_type": "code",
      "execution_count": 31,
      "metadata": {
        "colab": {
          "base_uri": "https://localhost:8080/"
        },
        "id": "0T6j_nRrP6Xd",
        "outputId": "3bcd97ee-69cd-4cd8-a085-f9727edfe378"
      },
      "outputs": [
        {
          "output_type": "stream",
          "name": "stdout",
          "text": [
            "Model: \"SimpleNetwork\"\n",
            "_________________________________________________________________\n",
            " Layer (type)                Output Shape              Param #   \n",
            "=================================================================\n",
            " input (InputLayer)          [(None, 28, 28)]          0         \n",
            "                                                                 \n",
            " flatten_1 (Flatten)         (None, 784)               0         \n",
            "                                                                 \n",
            " hidden_2 (Dense)            (None, 25)                19625     \n",
            "                                                                 \n",
            " output (Dense)              (None, 2)                 52        \n",
            "                                                                 \n",
            "=================================================================\n",
            "Total params: 19677 (76.86 KB)\n",
            "Trainable params: 19677 (76.86 KB)\n",
            "Non-trainable params: 0 (0.00 Byte)\n",
            "_________________________________________________________________\n"
          ]
        }
      ],
      "source": [
        "net.summary()"
      ]
    },
    {
      "cell_type": "markdown",
      "metadata": {
        "id": "PHHfikpM4jAv"
      },
      "source": [
        "This is a fairly simple task for the network so it only needs 5 epochs of training to achieve high accuracy (each epoch is one pass through the training data)."
      ]
    },
    {
      "cell_type": "code",
      "execution_count": 32,
      "metadata": {
        "colab": {
          "base_uri": "https://localhost:8080/",
          "height": 423
        },
        "id": "djrFqGdI0DG9",
        "outputId": "9e1a8384-0f3d-41e9-b9d2-47975bf5fc3a"
      },
      "outputs": [
        {
          "output_type": "display_data",
          "data": {
            "text/plain": [
              "<IPython.core.display.HTML object>"
            ],
            "text/html": [
              "<?xml version=\"1.0\" encoding=\"utf-8\" standalone=\"no\"?>\n",
              "<!DOCTYPE svg PUBLIC \"-//W3C//DTD SVG 1.1//EN\"\n",
              "  \"http://www.w3.org/Graphics/SVG/1.1/DTD/svg11.dtd\">\n",
              "<svg xmlns:xlink=\"http://www.w3.org/1999/xlink\" width=\"720pt\" height=\"288pt\" viewBox=\"0 0 720 288\" xmlns=\"http://www.w3.org/2000/svg\" version=\"1.1\">\n",
              " <metadata>\n",
              "  <rdf:RDF xmlns:dc=\"http://purl.org/dc/elements/1.1/\" xmlns:cc=\"http://creativecommons.org/ns#\" xmlns:rdf=\"http://www.w3.org/1999/02/22-rdf-syntax-ns#\">\n",
              "   <cc:Work>\n",
              "    <dc:type rdf:resource=\"http://purl.org/dc/dcmitype/StillImage\"/>\n",
              "    <dc:date>2024-06-24T19:27:35.262604</dc:date>\n",
              "    <dc:format>image/svg+xml</dc:format>\n",
              "    <dc:creator>\n",
              "     <cc:Agent>\n",
              "      <dc:title>Matplotlib v3.7.1, https://matplotlib.org/</dc:title>\n",
              "     </cc:Agent>\n",
              "    </dc:creator>\n",
              "   </cc:Work>\n",
              "  </rdf:RDF>\n",
              " </metadata>\n",
              " <defs>\n",
              "  <style type=\"text/css\">*{stroke-linejoin: round; stroke-linecap: butt}</style>\n",
              " </defs>\n",
              " <g id=\"figure_1\">\n",
              "  <g id=\"patch_1\">\n",
              "   <path d=\"M 0 288 \n",
              "L 720 288 \n",
              "L 720 0 \n",
              "L 0 0 \n",
              "z\n",
              "\" style=\"fill: #ffffff\"/>\n",
              "  </g>\n",
              "  <g id=\"axes_1\">\n",
              "   <g id=\"patch_2\">\n",
              "    <path d=\"M 90 256.32 \n",
              "L 343.636364 256.32 \n",
              "L 343.636364 34.56 \n",
              "L 90 34.56 \n",
              "z\n",
              "\" style=\"fill: #ffffff\"/>\n",
              "   </g>\n",
              "   <g id=\"matplotlib.axis_1\">\n",
              "    <g id=\"xtick_1\">\n",
              "     <g id=\"line2d_1\">\n",
              "      <defs>\n",
              "       <path id=\"m43d38a268b\" d=\"M 0 0 \n",
              "L 0 3.5 \n",
              "\" style=\"stroke: #000000; stroke-width: 0.8\"/>\n",
              "      </defs>\n",
              "      <g>\n",
              "       <use xlink:href=\"#m43d38a268b\" x=\"101.528926\" y=\"256.32\" style=\"stroke: #000000; stroke-width: 0.8\"/>\n",
              "      </g>\n",
              "     </g>\n",
              "     <g id=\"text_1\">\n",
              "      <!-- 1 -->\n",
              "      <g transform=\"translate(98.347676 270.918437) scale(0.1 -0.1)\">\n",
              "       <defs>\n",
              "        <path id=\"DejaVuSans-31\" d=\"M 794 531 \n",
              "L 1825 531 \n",
              "L 1825 4091 \n",
              "L 703 3866 \n",
              "L 703 4441 \n",
              "L 1819 4666 \n",
              "L 2450 4666 \n",
              "L 2450 531 \n",
              "L 3481 531 \n",
              "L 3481 0 \n",
              "L 794 0 \n",
              "L 794 531 \n",
              "z\n",
              "\" transform=\"scale(0.015625)\"/>\n",
              "       </defs>\n",
              "       <use xlink:href=\"#DejaVuSans-31\"/>\n",
              "      </g>\n",
              "     </g>\n",
              "    </g>\n",
              "    <g id=\"xtick_2\">\n",
              "     <g id=\"line2d_2\">\n",
              "      <g>\n",
              "       <use xlink:href=\"#m43d38a268b\" x=\"159.173554\" y=\"256.32\" style=\"stroke: #000000; stroke-width: 0.8\"/>\n",
              "      </g>\n",
              "     </g>\n",
              "     <g id=\"text_2\">\n",
              "      <!-- 2 -->\n",
              "      <g transform=\"translate(155.992304 270.918437) scale(0.1 -0.1)\">\n",
              "       <defs>\n",
              "        <path id=\"DejaVuSans-32\" d=\"M 1228 531 \n",
              "L 3431 531 \n",
              "L 3431 0 \n",
              "L 469 0 \n",
              "L 469 531 \n",
              "Q 828 903 1448 1529 \n",
              "Q 2069 2156 2228 2338 \n",
              "Q 2531 2678 2651 2914 \n",
              "Q 2772 3150 2772 3378 \n",
              "Q 2772 3750 2511 3984 \n",
              "Q 2250 4219 1831 4219 \n",
              "Q 1534 4219 1204 4116 \n",
              "Q 875 4013 500 3803 \n",
              "L 500 4441 \n",
              "Q 881 4594 1212 4672 \n",
              "Q 1544 4750 1819 4750 \n",
              "Q 2544 4750 2975 4387 \n",
              "Q 3406 4025 3406 3419 \n",
              "Q 3406 3131 3298 2873 \n",
              "Q 3191 2616 2906 2266 \n",
              "Q 2828 2175 2409 1742 \n",
              "Q 1991 1309 1228 531 \n",
              "z\n",
              "\" transform=\"scale(0.015625)\"/>\n",
              "       </defs>\n",
              "       <use xlink:href=\"#DejaVuSans-32\"/>\n",
              "      </g>\n",
              "     </g>\n",
              "    </g>\n",
              "    <g id=\"xtick_3\">\n",
              "     <g id=\"line2d_3\">\n",
              "      <g>\n",
              "       <use xlink:href=\"#m43d38a268b\" x=\"216.818182\" y=\"256.32\" style=\"stroke: #000000; stroke-width: 0.8\"/>\n",
              "      </g>\n",
              "     </g>\n",
              "     <g id=\"text_3\">\n",
              "      <!-- 3 -->\n",
              "      <g transform=\"translate(213.636932 270.918437) scale(0.1 -0.1)\">\n",
              "       <defs>\n",
              "        <path id=\"DejaVuSans-33\" d=\"M 2597 2516 \n",
              "Q 3050 2419 3304 2112 \n",
              "Q 3559 1806 3559 1356 \n",
              "Q 3559 666 3084 287 \n",
              "Q 2609 -91 1734 -91 \n",
              "Q 1441 -91 1130 -33 \n",
              "Q 819 25 488 141 \n",
              "L 488 750 \n",
              "Q 750 597 1062 519 \n",
              "Q 1375 441 1716 441 \n",
              "Q 2309 441 2620 675 \n",
              "Q 2931 909 2931 1356 \n",
              "Q 2931 1769 2642 2001 \n",
              "Q 2353 2234 1838 2234 \n",
              "L 1294 2234 \n",
              "L 1294 2753 \n",
              "L 1863 2753 \n",
              "Q 2328 2753 2575 2939 \n",
              "Q 2822 3125 2822 3475 \n",
              "Q 2822 3834 2567 4026 \n",
              "Q 2313 4219 1838 4219 \n",
              "Q 1578 4219 1281 4162 \n",
              "Q 984 4106 628 3988 \n",
              "L 628 4550 \n",
              "Q 988 4650 1302 4700 \n",
              "Q 1616 4750 1894 4750 \n",
              "Q 2613 4750 3031 4423 \n",
              "Q 3450 4097 3450 3541 \n",
              "Q 3450 3153 3228 2886 \n",
              "Q 3006 2619 2597 2516 \n",
              "z\n",
              "\" transform=\"scale(0.015625)\"/>\n",
              "       </defs>\n",
              "       <use xlink:href=\"#DejaVuSans-33\"/>\n",
              "      </g>\n",
              "     </g>\n",
              "    </g>\n",
              "    <g id=\"xtick_4\">\n",
              "     <g id=\"line2d_4\">\n",
              "      <g>\n",
              "       <use xlink:href=\"#m43d38a268b\" x=\"274.46281\" y=\"256.32\" style=\"stroke: #000000; stroke-width: 0.8\"/>\n",
              "      </g>\n",
              "     </g>\n",
              "     <g id=\"text_4\">\n",
              "      <!-- 4 -->\n",
              "      <g transform=\"translate(271.28156 270.918437) scale(0.1 -0.1)\">\n",
              "       <defs>\n",
              "        <path id=\"DejaVuSans-34\" d=\"M 2419 4116 \n",
              "L 825 1625 \n",
              "L 2419 1625 \n",
              "L 2419 4116 \n",
              "z\n",
              "M 2253 4666 \n",
              "L 3047 4666 \n",
              "L 3047 1625 \n",
              "L 3713 1625 \n",
              "L 3713 1100 \n",
              "L 3047 1100 \n",
              "L 3047 0 \n",
              "L 2419 0 \n",
              "L 2419 1100 \n",
              "L 313 1100 \n",
              "L 313 1709 \n",
              "L 2253 4666 \n",
              "z\n",
              "\" transform=\"scale(0.015625)\"/>\n",
              "       </defs>\n",
              "       <use xlink:href=\"#DejaVuSans-34\"/>\n",
              "      </g>\n",
              "     </g>\n",
              "    </g>\n",
              "    <g id=\"xtick_5\">\n",
              "     <g id=\"line2d_5\">\n",
              "      <g>\n",
              "       <use xlink:href=\"#m43d38a268b\" x=\"332.107438\" y=\"256.32\" style=\"stroke: #000000; stroke-width: 0.8\"/>\n",
              "      </g>\n",
              "     </g>\n",
              "     <g id=\"text_5\">\n",
              "      <!-- 5 -->\n",
              "      <g transform=\"translate(328.926188 270.918437) scale(0.1 -0.1)\">\n",
              "       <defs>\n",
              "        <path id=\"DejaVuSans-35\" d=\"M 691 4666 \n",
              "L 3169 4666 \n",
              "L 3169 4134 \n",
              "L 1269 4134 \n",
              "L 1269 2991 \n",
              "Q 1406 3038 1543 3061 \n",
              "Q 1681 3084 1819 3084 \n",
              "Q 2600 3084 3056 2656 \n",
              "Q 3513 2228 3513 1497 \n",
              "Q 3513 744 3044 326 \n",
              "Q 2575 -91 1722 -91 \n",
              "Q 1428 -91 1123 -41 \n",
              "Q 819 9 494 109 \n",
              "L 494 744 \n",
              "Q 775 591 1075 516 \n",
              "Q 1375 441 1709 441 \n",
              "Q 2250 441 2565 725 \n",
              "Q 2881 1009 2881 1497 \n",
              "Q 2881 1984 2565 2268 \n",
              "Q 2250 2553 1709 2553 \n",
              "Q 1456 2553 1204 2497 \n",
              "Q 953 2441 691 2322 \n",
              "L 691 4666 \n",
              "z\n",
              "\" transform=\"scale(0.015625)\"/>\n",
              "       </defs>\n",
              "       <use xlink:href=\"#DejaVuSans-35\"/>\n",
              "      </g>\n",
              "     </g>\n",
              "    </g>\n",
              "    <g id=\"text_6\">\n",
              "     <!-- Epoch -->\n",
              "     <g transform=\"translate(201.507244 284.596563) scale(0.1 -0.1)\">\n",
              "      <defs>\n",
              "       <path id=\"DejaVuSans-45\" d=\"M 628 4666 \n",
              "L 3578 4666 \n",
              "L 3578 4134 \n",
              "L 1259 4134 \n",
              "L 1259 2753 \n",
              "L 3481 2753 \n",
              "L 3481 2222 \n",
              "L 1259 2222 \n",
              "L 1259 531 \n",
              "L 3634 531 \n",
              "L 3634 0 \n",
              "L 628 0 \n",
              "L 628 4666 \n",
              "z\n",
              "\" transform=\"scale(0.015625)\"/>\n",
              "       <path id=\"DejaVuSans-70\" d=\"M 1159 525 \n",
              "L 1159 -1331 \n",
              "L 581 -1331 \n",
              "L 581 3500 \n",
              "L 1159 3500 \n",
              "L 1159 2969 \n",
              "Q 1341 3281 1617 3432 \n",
              "Q 1894 3584 2278 3584 \n",
              "Q 2916 3584 3314 3078 \n",
              "Q 3713 2572 3713 1747 \n",
              "Q 3713 922 3314 415 \n",
              "Q 2916 -91 2278 -91 \n",
              "Q 1894 -91 1617 61 \n",
              "Q 1341 213 1159 525 \n",
              "z\n",
              "M 3116 1747 \n",
              "Q 3116 2381 2855 2742 \n",
              "Q 2594 3103 2138 3103 \n",
              "Q 1681 3103 1420 2742 \n",
              "Q 1159 2381 1159 1747 \n",
              "Q 1159 1113 1420 752 \n",
              "Q 1681 391 2138 391 \n",
              "Q 2594 391 2855 752 \n",
              "Q 3116 1113 3116 1747 \n",
              "z\n",
              "\" transform=\"scale(0.015625)\"/>\n",
              "       <path id=\"DejaVuSans-6f\" d=\"M 1959 3097 \n",
              "Q 1497 3097 1228 2736 \n",
              "Q 959 2375 959 1747 \n",
              "Q 959 1119 1226 758 \n",
              "Q 1494 397 1959 397 \n",
              "Q 2419 397 2687 759 \n",
              "Q 2956 1122 2956 1747 \n",
              "Q 2956 2369 2687 2733 \n",
              "Q 2419 3097 1959 3097 \n",
              "z\n",
              "M 1959 3584 \n",
              "Q 2709 3584 3137 3096 \n",
              "Q 3566 2609 3566 1747 \n",
              "Q 3566 888 3137 398 \n",
              "Q 2709 -91 1959 -91 \n",
              "Q 1206 -91 779 398 \n",
              "Q 353 888 353 1747 \n",
              "Q 353 2609 779 3096 \n",
              "Q 1206 3584 1959 3584 \n",
              "z\n",
              "\" transform=\"scale(0.015625)\"/>\n",
              "       <path id=\"DejaVuSans-63\" d=\"M 3122 3366 \n",
              "L 3122 2828 \n",
              "Q 2878 2963 2633 3030 \n",
              "Q 2388 3097 2138 3097 \n",
              "Q 1578 3097 1268 2742 \n",
              "Q 959 2388 959 1747 \n",
              "Q 959 1106 1268 751 \n",
              "Q 1578 397 2138 397 \n",
              "Q 2388 397 2633 464 \n",
              "Q 2878 531 3122 666 \n",
              "L 3122 134 \n",
              "Q 2881 22 2623 -34 \n",
              "Q 2366 -91 2075 -91 \n",
              "Q 1284 -91 818 406 \n",
              "Q 353 903 353 1747 \n",
              "Q 353 2603 823 3093 \n",
              "Q 1294 3584 2113 3584 \n",
              "Q 2378 3584 2631 3529 \n",
              "Q 2884 3475 3122 3366 \n",
              "z\n",
              "\" transform=\"scale(0.015625)\"/>\n",
              "       <path id=\"DejaVuSans-68\" d=\"M 3513 2113 \n",
              "L 3513 0 \n",
              "L 2938 0 \n",
              "L 2938 2094 \n",
              "Q 2938 2591 2744 2837 \n",
              "Q 2550 3084 2163 3084 \n",
              "Q 1697 3084 1428 2787 \n",
              "Q 1159 2491 1159 1978 \n",
              "L 1159 0 \n",
              "L 581 0 \n",
              "L 581 4863 \n",
              "L 1159 4863 \n",
              "L 1159 2956 \n",
              "Q 1366 3272 1645 3428 \n",
              "Q 1925 3584 2291 3584 \n",
              "Q 2894 3584 3203 3211 \n",
              "Q 3513 2838 3513 2113 \n",
              "z\n",
              "\" transform=\"scale(0.015625)\"/>\n",
              "      </defs>\n",
              "      <use xlink:href=\"#DejaVuSans-45\"/>\n",
              "      <use xlink:href=\"#DejaVuSans-70\" x=\"63.183594\"/>\n",
              "      <use xlink:href=\"#DejaVuSans-6f\" x=\"126.660156\"/>\n",
              "      <use xlink:href=\"#DejaVuSans-63\" x=\"187.841797\"/>\n",
              "      <use xlink:href=\"#DejaVuSans-68\" x=\"242.822266\"/>\n",
              "     </g>\n",
              "    </g>\n",
              "   </g>\n",
              "   <g id=\"matplotlib.axis_2\">\n",
              "    <g id=\"ytick_1\">\n",
              "     <g id=\"line2d_6\">\n",
              "      <defs>\n",
              "       <path id=\"m2ee8712bcb\" d=\"M 0 0 \n",
              "L -3.5 0 \n",
              "\" style=\"stroke: #000000; stroke-width: 0.8\"/>\n",
              "      </defs>\n",
              "      <g>\n",
              "       <use xlink:href=\"#m2ee8712bcb\" x=\"90\" y=\"256.32\" style=\"stroke: #000000; stroke-width: 0.8\"/>\n",
              "      </g>\n",
              "     </g>\n",
              "     <g id=\"text_7\">\n",
              "      <!-- 0.000 -->\n",
              "      <g transform=\"translate(54.371875 260.119219) scale(0.1 -0.1)\">\n",
              "       <defs>\n",
              "        <path id=\"DejaVuSans-30\" d=\"M 2034 4250 \n",
              "Q 1547 4250 1301 3770 \n",
              "Q 1056 3291 1056 2328 \n",
              "Q 1056 1369 1301 889 \n",
              "Q 1547 409 2034 409 \n",
              "Q 2525 409 2770 889 \n",
              "Q 3016 1369 3016 2328 \n",
              "Q 3016 3291 2770 3770 \n",
              "Q 2525 4250 2034 4250 \n",
              "z\n",
              "M 2034 4750 \n",
              "Q 2819 4750 3233 4129 \n",
              "Q 3647 3509 3647 2328 \n",
              "Q 3647 1150 3233 529 \n",
              "Q 2819 -91 2034 -91 \n",
              "Q 1250 -91 836 529 \n",
              "Q 422 1150 422 2328 \n",
              "Q 422 3509 836 4129 \n",
              "Q 1250 4750 2034 4750 \n",
              "z\n",
              "\" transform=\"scale(0.015625)\"/>\n",
              "        <path id=\"DejaVuSans-2e\" d=\"M 684 794 \n",
              "L 1344 794 \n",
              "L 1344 0 \n",
              "L 684 0 \n",
              "L 684 794 \n",
              "z\n",
              "\" transform=\"scale(0.015625)\"/>\n",
              "       </defs>\n",
              "       <use xlink:href=\"#DejaVuSans-30\"/>\n",
              "       <use xlink:href=\"#DejaVuSans-2e\" x=\"63.623047\"/>\n",
              "       <use xlink:href=\"#DejaVuSans-30\" x=\"95.410156\"/>\n",
              "       <use xlink:href=\"#DejaVuSans-30\" x=\"159.033203\"/>\n",
              "       <use xlink:href=\"#DejaVuSans-30\" x=\"222.65625\"/>\n",
              "      </g>\n",
              "     </g>\n",
              "    </g>\n",
              "    <g id=\"ytick_2\">\n",
              "     <g id=\"line2d_7\">\n",
              "      <g>\n",
              "       <use xlink:href=\"#m2ee8712bcb\" x=\"90\" y=\"224.466075\" style=\"stroke: #000000; stroke-width: 0.8\"/>\n",
              "      </g>\n",
              "     </g>\n",
              "     <g id=\"text_8\">\n",
              "      <!-- 0.005 -->\n",
              "      <g transform=\"translate(54.371875 228.265293) scale(0.1 -0.1)\">\n",
              "       <use xlink:href=\"#DejaVuSans-30\"/>\n",
              "       <use xlink:href=\"#DejaVuSans-2e\" x=\"63.623047\"/>\n",
              "       <use xlink:href=\"#DejaVuSans-30\" x=\"95.410156\"/>\n",
              "       <use xlink:href=\"#DejaVuSans-30\" x=\"159.033203\"/>\n",
              "       <use xlink:href=\"#DejaVuSans-35\" x=\"222.65625\"/>\n",
              "      </g>\n",
              "     </g>\n",
              "    </g>\n",
              "    <g id=\"ytick_3\">\n",
              "     <g id=\"line2d_8\">\n",
              "      <g>\n",
              "       <use xlink:href=\"#m2ee8712bcb\" x=\"90\" y=\"192.612149\" style=\"stroke: #000000; stroke-width: 0.8\"/>\n",
              "      </g>\n",
              "     </g>\n",
              "     <g id=\"text_9\">\n",
              "      <!-- 0.010 -->\n",
              "      <g transform=\"translate(54.371875 196.411368) scale(0.1 -0.1)\">\n",
              "       <use xlink:href=\"#DejaVuSans-30\"/>\n",
              "       <use xlink:href=\"#DejaVuSans-2e\" x=\"63.623047\"/>\n",
              "       <use xlink:href=\"#DejaVuSans-30\" x=\"95.410156\"/>\n",
              "       <use xlink:href=\"#DejaVuSans-31\" x=\"159.033203\"/>\n",
              "       <use xlink:href=\"#DejaVuSans-30\" x=\"222.65625\"/>\n",
              "      </g>\n",
              "     </g>\n",
              "    </g>\n",
              "    <g id=\"ytick_4\">\n",
              "     <g id=\"line2d_9\">\n",
              "      <g>\n",
              "       <use xlink:href=\"#m2ee8712bcb\" x=\"90\" y=\"160.758224\" style=\"stroke: #000000; stroke-width: 0.8\"/>\n",
              "      </g>\n",
              "     </g>\n",
              "     <g id=\"text_10\">\n",
              "      <!-- 0.015 -->\n",
              "      <g transform=\"translate(54.371875 164.557442) scale(0.1 -0.1)\">\n",
              "       <use xlink:href=\"#DejaVuSans-30\"/>\n",
              "       <use xlink:href=\"#DejaVuSans-2e\" x=\"63.623047\"/>\n",
              "       <use xlink:href=\"#DejaVuSans-30\" x=\"95.410156\"/>\n",
              "       <use xlink:href=\"#DejaVuSans-31\" x=\"159.033203\"/>\n",
              "       <use xlink:href=\"#DejaVuSans-35\" x=\"222.65625\"/>\n",
              "      </g>\n",
              "     </g>\n",
              "    </g>\n",
              "    <g id=\"ytick_5\">\n",
              "     <g id=\"line2d_10\">\n",
              "      <g>\n",
              "       <use xlink:href=\"#m2ee8712bcb\" x=\"90\" y=\"128.904298\" style=\"stroke: #000000; stroke-width: 0.8\"/>\n",
              "      </g>\n",
              "     </g>\n",
              "     <g id=\"text_11\">\n",
              "      <!-- 0.020 -->\n",
              "      <g transform=\"translate(54.371875 132.703517) scale(0.1 -0.1)\">\n",
              "       <use xlink:href=\"#DejaVuSans-30\"/>\n",
              "       <use xlink:href=\"#DejaVuSans-2e\" x=\"63.623047\"/>\n",
              "       <use xlink:href=\"#DejaVuSans-30\" x=\"95.410156\"/>\n",
              "       <use xlink:href=\"#DejaVuSans-32\" x=\"159.033203\"/>\n",
              "       <use xlink:href=\"#DejaVuSans-30\" x=\"222.65625\"/>\n",
              "      </g>\n",
              "     </g>\n",
              "    </g>\n",
              "    <g id=\"ytick_6\">\n",
              "     <g id=\"line2d_11\">\n",
              "      <g>\n",
              "       <use xlink:href=\"#m2ee8712bcb\" x=\"90\" y=\"97.050373\" style=\"stroke: #000000; stroke-width: 0.8\"/>\n",
              "      </g>\n",
              "     </g>\n",
              "     <g id=\"text_12\">\n",
              "      <!-- 0.025 -->\n",
              "      <g transform=\"translate(54.371875 100.849591) scale(0.1 -0.1)\">\n",
              "       <use xlink:href=\"#DejaVuSans-30\"/>\n",
              "       <use xlink:href=\"#DejaVuSans-2e\" x=\"63.623047\"/>\n",
              "       <use xlink:href=\"#DejaVuSans-30\" x=\"95.410156\"/>\n",
              "       <use xlink:href=\"#DejaVuSans-32\" x=\"159.033203\"/>\n",
              "       <use xlink:href=\"#DejaVuSans-35\" x=\"222.65625\"/>\n",
              "      </g>\n",
              "     </g>\n",
              "    </g>\n",
              "    <g id=\"ytick_7\">\n",
              "     <g id=\"line2d_12\">\n",
              "      <g>\n",
              "       <use xlink:href=\"#m2ee8712bcb\" x=\"90\" y=\"65.196447\" style=\"stroke: #000000; stroke-width: 0.8\"/>\n",
              "      </g>\n",
              "     </g>\n",
              "     <g id=\"text_13\">\n",
              "      <!-- 0.030 -->\n",
              "      <g transform=\"translate(54.371875 68.995666) scale(0.1 -0.1)\">\n",
              "       <use xlink:href=\"#DejaVuSans-30\"/>\n",
              "       <use xlink:href=\"#DejaVuSans-2e\" x=\"63.623047\"/>\n",
              "       <use xlink:href=\"#DejaVuSans-30\" x=\"95.410156\"/>\n",
              "       <use xlink:href=\"#DejaVuSans-33\" x=\"159.033203\"/>\n",
              "       <use xlink:href=\"#DejaVuSans-30\" x=\"222.65625\"/>\n",
              "      </g>\n",
              "     </g>\n",
              "    </g>\n",
              "    <g id=\"text_14\">\n",
              "     <!-- Loss -->\n",
              "     <g transform=\"translate(48.292188 156.407187) rotate(-90) scale(0.1 -0.1)\">\n",
              "      <defs>\n",
              "       <path id=\"DejaVuSans-4c\" d=\"M 628 4666 \n",
              "L 1259 4666 \n",
              "L 1259 531 \n",
              "L 3531 531 \n",
              "L 3531 0 \n",
              "L 628 0 \n",
              "L 628 4666 \n",
              "z\n",
              "\" transform=\"scale(0.015625)\"/>\n",
              "       <path id=\"DejaVuSans-73\" d=\"M 2834 3397 \n",
              "L 2834 2853 \n",
              "Q 2591 2978 2328 3040 \n",
              "Q 2066 3103 1784 3103 \n",
              "Q 1356 3103 1142 2972 \n",
              "Q 928 2841 928 2578 \n",
              "Q 928 2378 1081 2264 \n",
              "Q 1234 2150 1697 2047 \n",
              "L 1894 2003 \n",
              "Q 2506 1872 2764 1633 \n",
              "Q 3022 1394 3022 966 \n",
              "Q 3022 478 2636 193 \n",
              "Q 2250 -91 1575 -91 \n",
              "Q 1294 -91 989 -36 \n",
              "Q 684 19 347 128 \n",
              "L 347 722 \n",
              "Q 666 556 975 473 \n",
              "Q 1284 391 1588 391 \n",
              "Q 1994 391 2212 530 \n",
              "Q 2431 669 2431 922 \n",
              "Q 2431 1156 2273 1281 \n",
              "Q 2116 1406 1581 1522 \n",
              "L 1381 1569 \n",
              "Q 847 1681 609 1914 \n",
              "Q 372 2147 372 2553 \n",
              "Q 372 3047 722 3315 \n",
              "Q 1072 3584 1716 3584 \n",
              "Q 2034 3584 2315 3537 \n",
              "Q 2597 3491 2834 3397 \n",
              "z\n",
              "\" transform=\"scale(0.015625)\"/>\n",
              "      </defs>\n",
              "      <use xlink:href=\"#DejaVuSans-4c\"/>\n",
              "      <use xlink:href=\"#DejaVuSans-6f\" x=\"53.962891\"/>\n",
              "      <use xlink:href=\"#DejaVuSans-73\" x=\"115.144531\"/>\n",
              "      <use xlink:href=\"#DejaVuSans-73\" x=\"167.244141\"/>\n",
              "     </g>\n",
              "    </g>\n",
              "   </g>\n",
              "   <g id=\"line2d_13\">\n",
              "    <path d=\"M 101.528926 185.997502 \n",
              "L 159.173554 187.609899 \n",
              "L 216.818182 206.388441 \n",
              "L 274.46281 207.40188 \n",
              "L 332.107438 202.260942 \n",
              "\" clip-path=\"url(#p41c91f96e8)\" style=\"fill: none; stroke: #ffa500; stroke-width: 1.5; stroke-linecap: square\"/>\n",
              "   </g>\n",
              "   <g id=\"line2d_14\">\n",
              "    <path d=\"M 101.528926 42.794221 \n",
              "L 159.173554 187.466475 \n",
              "L 216.818182 196.022574 \n",
              "L 274.46281 202.759466 \n",
              "L 332.107438 207.478644 \n",
              "\" clip-path=\"url(#p41c91f96e8)\" style=\"fill: none; stroke: #ff0000; stroke-width: 1.5; stroke-linecap: square\"/>\n",
              "   </g>\n",
              "   <g id=\"patch_3\">\n",
              "    <path d=\"M 90 256.32 \n",
              "L 90 34.56 \n",
              "\" style=\"fill: none; stroke: #000000; stroke-width: 0.8; stroke-linejoin: miter; stroke-linecap: square\"/>\n",
              "   </g>\n",
              "   <g id=\"patch_4\">\n",
              "    <path d=\"M 343.636364 256.32 \n",
              "L 343.636364 34.56 \n",
              "\" style=\"fill: none; stroke: #000000; stroke-width: 0.8; stroke-linejoin: miter; stroke-linecap: square\"/>\n",
              "   </g>\n",
              "   <g id=\"patch_5\">\n",
              "    <path d=\"M 90 256.32 \n",
              "L 343.636364 256.32 \n",
              "\" style=\"fill: none; stroke: #000000; stroke-width: 0.8; stroke-linejoin: miter; stroke-linecap: square\"/>\n",
              "   </g>\n",
              "   <g id=\"patch_6\">\n",
              "    <path d=\"M 90 34.56 \n",
              "L 343.636364 34.56 \n",
              "\" style=\"fill: none; stroke: #000000; stroke-width: 0.8; stroke-linejoin: miter; stroke-linecap: square\"/>\n",
              "   </g>\n",
              "   <g id=\"text_15\">\n",
              "    <!-- SimpleNetwork: Training Loss -->\n",
              "    <g transform=\"translate(128.611619 28.56) scale(0.12 -0.12)\">\n",
              "     <defs>\n",
              "      <path id=\"DejaVuSans-53\" d=\"M 3425 4513 \n",
              "L 3425 3897 \n",
              "Q 3066 4069 2747 4153 \n",
              "Q 2428 4238 2131 4238 \n",
              "Q 1616 4238 1336 4038 \n",
              "Q 1056 3838 1056 3469 \n",
              "Q 1056 3159 1242 3001 \n",
              "Q 1428 2844 1947 2747 \n",
              "L 2328 2669 \n",
              "Q 3034 2534 3370 2195 \n",
              "Q 3706 1856 3706 1288 \n",
              "Q 3706 609 3251 259 \n",
              "Q 2797 -91 1919 -91 \n",
              "Q 1588 -91 1214 -16 \n",
              "Q 841 59 441 206 \n",
              "L 441 856 \n",
              "Q 825 641 1194 531 \n",
              "Q 1563 422 1919 422 \n",
              "Q 2459 422 2753 634 \n",
              "Q 3047 847 3047 1241 \n",
              "Q 3047 1584 2836 1778 \n",
              "Q 2625 1972 2144 2069 \n",
              "L 1759 2144 \n",
              "Q 1053 2284 737 2584 \n",
              "Q 422 2884 422 3419 \n",
              "Q 422 4038 858 4394 \n",
              "Q 1294 4750 2059 4750 \n",
              "Q 2388 4750 2728 4690 \n",
              "Q 3069 4631 3425 4513 \n",
              "z\n",
              "\" transform=\"scale(0.015625)\"/>\n",
              "      <path id=\"DejaVuSans-69\" d=\"M 603 3500 \n",
              "L 1178 3500 \n",
              "L 1178 0 \n",
              "L 603 0 \n",
              "L 603 3500 \n",
              "z\n",
              "M 603 4863 \n",
              "L 1178 4863 \n",
              "L 1178 4134 \n",
              "L 603 4134 \n",
              "L 603 4863 \n",
              "z\n",
              "\" transform=\"scale(0.015625)\"/>\n",
              "      <path id=\"DejaVuSans-6d\" d=\"M 3328 2828 \n",
              "Q 3544 3216 3844 3400 \n",
              "Q 4144 3584 4550 3584 \n",
              "Q 5097 3584 5394 3201 \n",
              "Q 5691 2819 5691 2113 \n",
              "L 5691 0 \n",
              "L 5113 0 \n",
              "L 5113 2094 \n",
              "Q 5113 2597 4934 2840 \n",
              "Q 4756 3084 4391 3084 \n",
              "Q 3944 3084 3684 2787 \n",
              "Q 3425 2491 3425 1978 \n",
              "L 3425 0 \n",
              "L 2847 0 \n",
              "L 2847 2094 \n",
              "Q 2847 2600 2669 2842 \n",
              "Q 2491 3084 2119 3084 \n",
              "Q 1678 3084 1418 2786 \n",
              "Q 1159 2488 1159 1978 \n",
              "L 1159 0 \n",
              "L 581 0 \n",
              "L 581 3500 \n",
              "L 1159 3500 \n",
              "L 1159 2956 \n",
              "Q 1356 3278 1631 3431 \n",
              "Q 1906 3584 2284 3584 \n",
              "Q 2666 3584 2933 3390 \n",
              "Q 3200 3197 3328 2828 \n",
              "z\n",
              "\" transform=\"scale(0.015625)\"/>\n",
              "      <path id=\"DejaVuSans-6c\" d=\"M 603 4863 \n",
              "L 1178 4863 \n",
              "L 1178 0 \n",
              "L 603 0 \n",
              "L 603 4863 \n",
              "z\n",
              "\" transform=\"scale(0.015625)\"/>\n",
              "      <path id=\"DejaVuSans-65\" d=\"M 3597 1894 \n",
              "L 3597 1613 \n",
              "L 953 1613 \n",
              "Q 991 1019 1311 708 \n",
              "Q 1631 397 2203 397 \n",
              "Q 2534 397 2845 478 \n",
              "Q 3156 559 3463 722 \n",
              "L 3463 178 \n",
              "Q 3153 47 2828 -22 \n",
              "Q 2503 -91 2169 -91 \n",
              "Q 1331 -91 842 396 \n",
              "Q 353 884 353 1716 \n",
              "Q 353 2575 817 3079 \n",
              "Q 1281 3584 2069 3584 \n",
              "Q 2775 3584 3186 3129 \n",
              "Q 3597 2675 3597 1894 \n",
              "z\n",
              "M 3022 2063 \n",
              "Q 3016 2534 2758 2815 \n",
              "Q 2500 3097 2075 3097 \n",
              "Q 1594 3097 1305 2825 \n",
              "Q 1016 2553 972 2059 \n",
              "L 3022 2063 \n",
              "z\n",
              "\" transform=\"scale(0.015625)\"/>\n",
              "      <path id=\"DejaVuSans-4e\" d=\"M 628 4666 \n",
              "L 1478 4666 \n",
              "L 3547 763 \n",
              "L 3547 4666 \n",
              "L 4159 4666 \n",
              "L 4159 0 \n",
              "L 3309 0 \n",
              "L 1241 3903 \n",
              "L 1241 0 \n",
              "L 628 0 \n",
              "L 628 4666 \n",
              "z\n",
              "\" transform=\"scale(0.015625)\"/>\n",
              "      <path id=\"DejaVuSans-74\" d=\"M 1172 4494 \n",
              "L 1172 3500 \n",
              "L 2356 3500 \n",
              "L 2356 3053 \n",
              "L 1172 3053 \n",
              "L 1172 1153 \n",
              "Q 1172 725 1289 603 \n",
              "Q 1406 481 1766 481 \n",
              "L 2356 481 \n",
              "L 2356 0 \n",
              "L 1766 0 \n",
              "Q 1100 0 847 248 \n",
              "Q 594 497 594 1153 \n",
              "L 594 3053 \n",
              "L 172 3053 \n",
              "L 172 3500 \n",
              "L 594 3500 \n",
              "L 594 4494 \n",
              "L 1172 4494 \n",
              "z\n",
              "\" transform=\"scale(0.015625)\"/>\n",
              "      <path id=\"DejaVuSans-77\" d=\"M 269 3500 \n",
              "L 844 3500 \n",
              "L 1563 769 \n",
              "L 2278 3500 \n",
              "L 2956 3500 \n",
              "L 3675 769 \n",
              "L 4391 3500 \n",
              "L 4966 3500 \n",
              "L 4050 0 \n",
              "L 3372 0 \n",
              "L 2619 2869 \n",
              "L 1863 0 \n",
              "L 1184 0 \n",
              "L 269 3500 \n",
              "z\n",
              "\" transform=\"scale(0.015625)\"/>\n",
              "      <path id=\"DejaVuSans-72\" d=\"M 2631 2963 \n",
              "Q 2534 3019 2420 3045 \n",
              "Q 2306 3072 2169 3072 \n",
              "Q 1681 3072 1420 2755 \n",
              "Q 1159 2438 1159 1844 \n",
              "L 1159 0 \n",
              "L 581 0 \n",
              "L 581 3500 \n",
              "L 1159 3500 \n",
              "L 1159 2956 \n",
              "Q 1341 3275 1631 3429 \n",
              "Q 1922 3584 2338 3584 \n",
              "Q 2397 3584 2469 3576 \n",
              "Q 2541 3569 2628 3553 \n",
              "L 2631 2963 \n",
              "z\n",
              "\" transform=\"scale(0.015625)\"/>\n",
              "      <path id=\"DejaVuSans-6b\" d=\"M 581 4863 \n",
              "L 1159 4863 \n",
              "L 1159 1991 \n",
              "L 2875 3500 \n",
              "L 3609 3500 \n",
              "L 1753 1863 \n",
              "L 3688 0 \n",
              "L 2938 0 \n",
              "L 1159 1709 \n",
              "L 1159 0 \n",
              "L 581 0 \n",
              "L 581 4863 \n",
              "z\n",
              "\" transform=\"scale(0.015625)\"/>\n",
              "      <path id=\"DejaVuSans-3a\" d=\"M 750 794 \n",
              "L 1409 794 \n",
              "L 1409 0 \n",
              "L 750 0 \n",
              "L 750 794 \n",
              "z\n",
              "M 750 3309 \n",
              "L 1409 3309 \n",
              "L 1409 2516 \n",
              "L 750 2516 \n",
              "L 750 3309 \n",
              "z\n",
              "\" transform=\"scale(0.015625)\"/>\n",
              "      <path id=\"DejaVuSans-20\" transform=\"scale(0.015625)\"/>\n",
              "      <path id=\"DejaVuSans-54\" d=\"M -19 4666 \n",
              "L 3928 4666 \n",
              "L 3928 4134 \n",
              "L 2272 4134 \n",
              "L 2272 0 \n",
              "L 1638 0 \n",
              "L 1638 4134 \n",
              "L -19 4134 \n",
              "L -19 4666 \n",
              "z\n",
              "\" transform=\"scale(0.015625)\"/>\n",
              "      <path id=\"DejaVuSans-61\" d=\"M 2194 1759 \n",
              "Q 1497 1759 1228 1600 \n",
              "Q 959 1441 959 1056 \n",
              "Q 959 750 1161 570 \n",
              "Q 1363 391 1709 391 \n",
              "Q 2188 391 2477 730 \n",
              "Q 2766 1069 2766 1631 \n",
              "L 2766 1759 \n",
              "L 2194 1759 \n",
              "z\n",
              "M 3341 1997 \n",
              "L 3341 0 \n",
              "L 2766 0 \n",
              "L 2766 531 \n",
              "Q 2569 213 2275 61 \n",
              "Q 1981 -91 1556 -91 \n",
              "Q 1019 -91 701 211 \n",
              "Q 384 513 384 1019 \n",
              "Q 384 1609 779 1909 \n",
              "Q 1175 2209 1959 2209 \n",
              "L 2766 2209 \n",
              "L 2766 2266 \n",
              "Q 2766 2663 2505 2880 \n",
              "Q 2244 3097 1772 3097 \n",
              "Q 1472 3097 1187 3025 \n",
              "Q 903 2953 641 2809 \n",
              "L 641 3341 \n",
              "Q 956 3463 1253 3523 \n",
              "Q 1550 3584 1831 3584 \n",
              "Q 2591 3584 2966 3190 \n",
              "Q 3341 2797 3341 1997 \n",
              "z\n",
              "\" transform=\"scale(0.015625)\"/>\n",
              "      <path id=\"DejaVuSans-6e\" d=\"M 3513 2113 \n",
              "L 3513 0 \n",
              "L 2938 0 \n",
              "L 2938 2094 \n",
              "Q 2938 2591 2744 2837 \n",
              "Q 2550 3084 2163 3084 \n",
              "Q 1697 3084 1428 2787 \n",
              "Q 1159 2491 1159 1978 \n",
              "L 1159 0 \n",
              "L 581 0 \n",
              "L 581 3500 \n",
              "L 1159 3500 \n",
              "L 1159 2956 \n",
              "Q 1366 3272 1645 3428 \n",
              "Q 1925 3584 2291 3584 \n",
              "Q 2894 3584 3203 3211 \n",
              "Q 3513 2838 3513 2113 \n",
              "z\n",
              "\" transform=\"scale(0.015625)\"/>\n",
              "      <path id=\"DejaVuSans-67\" d=\"M 2906 1791 \n",
              "Q 2906 2416 2648 2759 \n",
              "Q 2391 3103 1925 3103 \n",
              "Q 1463 3103 1205 2759 \n",
              "Q 947 2416 947 1791 \n",
              "Q 947 1169 1205 825 \n",
              "Q 1463 481 1925 481 \n",
              "Q 2391 481 2648 825 \n",
              "Q 2906 1169 2906 1791 \n",
              "z\n",
              "M 3481 434 \n",
              "Q 3481 -459 3084 -895 \n",
              "Q 2688 -1331 1869 -1331 \n",
              "Q 1566 -1331 1297 -1286 \n",
              "Q 1028 -1241 775 -1147 \n",
              "L 775 -588 \n",
              "Q 1028 -725 1275 -790 \n",
              "Q 1522 -856 1778 -856 \n",
              "Q 2344 -856 2625 -561 \n",
              "Q 2906 -266 2906 331 \n",
              "L 2906 616 \n",
              "Q 2728 306 2450 153 \n",
              "Q 2172 0 1784 0 \n",
              "Q 1141 0 747 490 \n",
              "Q 353 981 353 1791 \n",
              "Q 353 2603 747 3093 \n",
              "Q 1141 3584 1784 3584 \n",
              "Q 2172 3584 2450 3431 \n",
              "Q 2728 3278 2906 2969 \n",
              "L 2906 3500 \n",
              "L 3481 3500 \n",
              "L 3481 434 \n",
              "z\n",
              "\" transform=\"scale(0.015625)\"/>\n",
              "     </defs>\n",
              "     <use xlink:href=\"#DejaVuSans-53\"/>\n",
              "     <use xlink:href=\"#DejaVuSans-69\" x=\"63.476562\"/>\n",
              "     <use xlink:href=\"#DejaVuSans-6d\" x=\"91.259766\"/>\n",
              "     <use xlink:href=\"#DejaVuSans-70\" x=\"188.671875\"/>\n",
              "     <use xlink:href=\"#DejaVuSans-6c\" x=\"252.148438\"/>\n",
              "     <use xlink:href=\"#DejaVuSans-65\" x=\"279.931641\"/>\n",
              "     <use xlink:href=\"#DejaVuSans-4e\" x=\"341.455078\"/>\n",
              "     <use xlink:href=\"#DejaVuSans-65\" x=\"416.259766\"/>\n",
              "     <use xlink:href=\"#DejaVuSans-74\" x=\"477.783203\"/>\n",
              "     <use xlink:href=\"#DejaVuSans-77\" x=\"516.992188\"/>\n",
              "     <use xlink:href=\"#DejaVuSans-6f\" x=\"598.779297\"/>\n",
              "     <use xlink:href=\"#DejaVuSans-72\" x=\"659.960938\"/>\n",
              "     <use xlink:href=\"#DejaVuSans-6b\" x=\"701.074219\"/>\n",
              "     <use xlink:href=\"#DejaVuSans-3a\" x=\"758.984375\"/>\n",
              "     <use xlink:href=\"#DejaVuSans-20\" x=\"792.675781\"/>\n",
              "     <use xlink:href=\"#DejaVuSans-54\" x=\"824.462891\"/>\n",
              "     <use xlink:href=\"#DejaVuSans-72\" x=\"870.796875\"/>\n",
              "     <use xlink:href=\"#DejaVuSans-61\" x=\"911.910156\"/>\n",
              "     <use xlink:href=\"#DejaVuSans-69\" x=\"973.189453\"/>\n",
              "     <use xlink:href=\"#DejaVuSans-6e\" x=\"1000.972656\"/>\n",
              "     <use xlink:href=\"#DejaVuSans-69\" x=\"1064.351562\"/>\n",
              "     <use xlink:href=\"#DejaVuSans-6e\" x=\"1092.134766\"/>\n",
              "     <use xlink:href=\"#DejaVuSans-67\" x=\"1155.513672\"/>\n",
              "     <use xlink:href=\"#DejaVuSans-20\" x=\"1218.990234\"/>\n",
              "     <use xlink:href=\"#DejaVuSans-4c\" x=\"1250.777344\"/>\n",
              "     <use xlink:href=\"#DejaVuSans-6f\" x=\"1304.740234\"/>\n",
              "     <use xlink:href=\"#DejaVuSans-73\" x=\"1365.921875\"/>\n",
              "     <use xlink:href=\"#DejaVuSans-73\" x=\"1418.021484\"/>\n",
              "    </g>\n",
              "   </g>\n",
              "   <g id=\"legend_1\">\n",
              "    <g id=\"patch_7\">\n",
              "     <path d=\"M 265.495739 72.194375 \n",
              "L 336.636364 72.194375 \n",
              "Q 338.636364 72.194375 338.636364 70.194375 \n",
              "L 338.636364 41.56 \n",
              "Q 338.636364 39.56 336.636364 39.56 \n",
              "L 265.495739 39.56 \n",
              "Q 263.495739 39.56 263.495739 41.56 \n",
              "L 263.495739 70.194375 \n",
              "Q 263.495739 72.194375 265.495739 72.194375 \n",
              "z\n",
              "\" style=\"fill: #ffffff; opacity: 0.8; stroke: #cccccc; stroke-linejoin: miter\"/>\n",
              "    </g>\n",
              "    <g id=\"line2d_15\">\n",
              "     <path d=\"M 267.495739 47.658438 \n",
              "L 277.495739 47.658438 \n",
              "L 287.495739 47.658438 \n",
              "\" style=\"fill: none; stroke: #ffa500; stroke-width: 1.5; stroke-linecap: square\"/>\n",
              "    </g>\n",
              "    <g id=\"text_16\">\n",
              "     <!-- val_loss -->\n",
              "     <g transform=\"translate(295.495739 51.158438) scale(0.1 -0.1)\">\n",
              "      <defs>\n",
              "       <path id=\"DejaVuSans-76\" d=\"M 191 3500 \n",
              "L 800 3500 \n",
              "L 1894 563 \n",
              "L 2988 3500 \n",
              "L 3597 3500 \n",
              "L 2284 0 \n",
              "L 1503 0 \n",
              "L 191 3500 \n",
              "z\n",
              "\" transform=\"scale(0.015625)\"/>\n",
              "       <path id=\"DejaVuSans-5f\" d=\"M 3263 -1063 \n",
              "L 3263 -1509 \n",
              "L -63 -1509 \n",
              "L -63 -1063 \n",
              "L 3263 -1063 \n",
              "z\n",
              "\" transform=\"scale(0.015625)\"/>\n",
              "      </defs>\n",
              "      <use xlink:href=\"#DejaVuSans-76\"/>\n",
              "      <use xlink:href=\"#DejaVuSans-61\" x=\"59.179688\"/>\n",
              "      <use xlink:href=\"#DejaVuSans-6c\" x=\"120.458984\"/>\n",
              "      <use xlink:href=\"#DejaVuSans-5f\" x=\"148.242188\"/>\n",
              "      <use xlink:href=\"#DejaVuSans-6c\" x=\"198.242188\"/>\n",
              "      <use xlink:href=\"#DejaVuSans-6f\" x=\"226.025391\"/>\n",
              "      <use xlink:href=\"#DejaVuSans-73\" x=\"287.207031\"/>\n",
              "      <use xlink:href=\"#DejaVuSans-73\" x=\"339.306641\"/>\n",
              "     </g>\n",
              "    </g>\n",
              "    <g id=\"line2d_16\">\n",
              "     <path d=\"M 267.495739 62.614688 \n",
              "L 277.495739 62.614688 \n",
              "L 287.495739 62.614688 \n",
              "\" style=\"fill: none; stroke: #ff0000; stroke-width: 1.5; stroke-linecap: square\"/>\n",
              "    </g>\n",
              "    <g id=\"text_17\">\n",
              "     <!-- loss -->\n",
              "     <g transform=\"translate(295.495739 66.114688) scale(0.1 -0.1)\">\n",
              "      <use xlink:href=\"#DejaVuSans-6c\"/>\n",
              "      <use xlink:href=\"#DejaVuSans-6f\" x=\"27.783203\"/>\n",
              "      <use xlink:href=\"#DejaVuSans-73\" x=\"88.964844\"/>\n",
              "      <use xlink:href=\"#DejaVuSans-73\" x=\"141.064453\"/>\n",
              "     </g>\n",
              "    </g>\n",
              "   </g>\n",
              "  </g>\n",
              "  <g id=\"axes_2\">\n",
              "   <g id=\"patch_8\">\n",
              "    <path d=\"M 394.363636 256.32 \n",
              "L 648 256.32 \n",
              "L 648 34.56 \n",
              "L 394.363636 34.56 \n",
              "z\n",
              "\" style=\"fill: #ffffff\"/>\n",
              "   </g>\n",
              "   <g id=\"matplotlib.axis_3\">\n",
              "    <g id=\"xtick_6\">\n",
              "     <g id=\"line2d_17\">\n",
              "      <g>\n",
              "       <use xlink:href=\"#m43d38a268b\" x=\"405.892562\" y=\"256.32\" style=\"stroke: #000000; stroke-width: 0.8\"/>\n",
              "      </g>\n",
              "     </g>\n",
              "     <g id=\"text_18\">\n",
              "      <!-- 1 -->\n",
              "      <g transform=\"translate(402.711312 270.918437) scale(0.1 -0.1)\">\n",
              "       <use xlink:href=\"#DejaVuSans-31\"/>\n",
              "      </g>\n",
              "     </g>\n",
              "    </g>\n",
              "    <g id=\"xtick_7\">\n",
              "     <g id=\"line2d_18\">\n",
              "      <g>\n",
              "       <use xlink:href=\"#m43d38a268b\" x=\"463.53719\" y=\"256.32\" style=\"stroke: #000000; stroke-width: 0.8\"/>\n",
              "      </g>\n",
              "     </g>\n",
              "     <g id=\"text_19\">\n",
              "      <!-- 2 -->\n",
              "      <g transform=\"translate(460.35594 270.918437) scale(0.1 -0.1)\">\n",
              "       <use xlink:href=\"#DejaVuSans-32\"/>\n",
              "      </g>\n",
              "     </g>\n",
              "    </g>\n",
              "    <g id=\"xtick_8\">\n",
              "     <g id=\"line2d_19\">\n",
              "      <g>\n",
              "       <use xlink:href=\"#m43d38a268b\" x=\"521.181818\" y=\"256.32\" style=\"stroke: #000000; stroke-width: 0.8\"/>\n",
              "      </g>\n",
              "     </g>\n",
              "     <g id=\"text_20\">\n",
              "      <!-- 3 -->\n",
              "      <g transform=\"translate(518.000568 270.918437) scale(0.1 -0.1)\">\n",
              "       <use xlink:href=\"#DejaVuSans-33\"/>\n",
              "      </g>\n",
              "     </g>\n",
              "    </g>\n",
              "    <g id=\"xtick_9\">\n",
              "     <g id=\"line2d_20\">\n",
              "      <g>\n",
              "       <use xlink:href=\"#m43d38a268b\" x=\"578.826446\" y=\"256.32\" style=\"stroke: #000000; stroke-width: 0.8\"/>\n",
              "      </g>\n",
              "     </g>\n",
              "     <g id=\"text_21\">\n",
              "      <!-- 4 -->\n",
              "      <g transform=\"translate(575.645196 270.918437) scale(0.1 -0.1)\">\n",
              "       <use xlink:href=\"#DejaVuSans-34\"/>\n",
              "      </g>\n",
              "     </g>\n",
              "    </g>\n",
              "    <g id=\"xtick_10\">\n",
              "     <g id=\"line2d_21\">\n",
              "      <g>\n",
              "       <use xlink:href=\"#m43d38a268b\" x=\"636.471074\" y=\"256.32\" style=\"stroke: #000000; stroke-width: 0.8\"/>\n",
              "      </g>\n",
              "     </g>\n",
              "     <g id=\"text_22\">\n",
              "      <!-- 5 -->\n",
              "      <g transform=\"translate(633.289824 270.918437) scale(0.1 -0.1)\">\n",
              "       <use xlink:href=\"#DejaVuSans-35\"/>\n",
              "      </g>\n",
              "     </g>\n",
              "    </g>\n",
              "    <g id=\"text_23\">\n",
              "     <!-- Epoch -->\n",
              "     <g transform=\"translate(505.870881 284.596563) scale(0.1 -0.1)\">\n",
              "      <use xlink:href=\"#DejaVuSans-45\"/>\n",
              "      <use xlink:href=\"#DejaVuSans-70\" x=\"63.183594\"/>\n",
              "      <use xlink:href=\"#DejaVuSans-6f\" x=\"126.660156\"/>\n",
              "      <use xlink:href=\"#DejaVuSans-63\" x=\"187.841797\"/>\n",
              "      <use xlink:href=\"#DejaVuSans-68\" x=\"242.822266\"/>\n",
              "     </g>\n",
              "    </g>\n",
              "   </g>\n",
              "   <g id=\"matplotlib.axis_4\">\n",
              "    <g id=\"ytick_8\">\n",
              "     <g id=\"line2d_22\">\n",
              "      <g>\n",
              "       <use xlink:href=\"#m2ee8712bcb\" x=\"394.363636\" y=\"237.84\" style=\"stroke: #000000; stroke-width: 0.8\"/>\n",
              "      </g>\n",
              "     </g>\n",
              "     <g id=\"text_24\">\n",
              "      <!-- 0.0 -->\n",
              "      <g transform=\"translate(371.460511 241.639219) scale(0.1 -0.1)\">\n",
              "       <use xlink:href=\"#DejaVuSans-30\"/>\n",
              "       <use xlink:href=\"#DejaVuSans-2e\" x=\"63.623047\"/>\n",
              "       <use xlink:href=\"#DejaVuSans-30\" x=\"95.410156\"/>\n",
              "      </g>\n",
              "     </g>\n",
              "    </g>\n",
              "    <g id=\"ytick_9\">\n",
              "     <g id=\"line2d_23\">\n",
              "      <g>\n",
              "       <use xlink:href=\"#m2ee8712bcb\" x=\"394.363636\" y=\"200.88\" style=\"stroke: #000000; stroke-width: 0.8\"/>\n",
              "      </g>\n",
              "     </g>\n",
              "     <g id=\"text_25\">\n",
              "      <!-- 0.2 -->\n",
              "      <g transform=\"translate(371.460511 204.679219) scale(0.1 -0.1)\">\n",
              "       <use xlink:href=\"#DejaVuSans-30\"/>\n",
              "       <use xlink:href=\"#DejaVuSans-2e\" x=\"63.623047\"/>\n",
              "       <use xlink:href=\"#DejaVuSans-32\" x=\"95.410156\"/>\n",
              "      </g>\n",
              "     </g>\n",
              "    </g>\n",
              "    <g id=\"ytick_10\">\n",
              "     <g id=\"line2d_24\">\n",
              "      <g>\n",
              "       <use xlink:href=\"#m2ee8712bcb\" x=\"394.363636\" y=\"163.92\" style=\"stroke: #000000; stroke-width: 0.8\"/>\n",
              "      </g>\n",
              "     </g>\n",
              "     <g id=\"text_26\">\n",
              "      <!-- 0.4 -->\n",
              "      <g transform=\"translate(371.460511 167.719219) scale(0.1 -0.1)\">\n",
              "       <use xlink:href=\"#DejaVuSans-30\"/>\n",
              "       <use xlink:href=\"#DejaVuSans-2e\" x=\"63.623047\"/>\n",
              "       <use xlink:href=\"#DejaVuSans-34\" x=\"95.410156\"/>\n",
              "      </g>\n",
              "     </g>\n",
              "    </g>\n",
              "    <g id=\"ytick_11\">\n",
              "     <g id=\"line2d_25\">\n",
              "      <g>\n",
              "       <use xlink:href=\"#m2ee8712bcb\" x=\"394.363636\" y=\"126.96\" style=\"stroke: #000000; stroke-width: 0.8\"/>\n",
              "      </g>\n",
              "     </g>\n",
              "     <g id=\"text_27\">\n",
              "      <!-- 0.6 -->\n",
              "      <g transform=\"translate(371.460511 130.759219) scale(0.1 -0.1)\">\n",
              "       <defs>\n",
              "        <path id=\"DejaVuSans-36\" d=\"M 2113 2584 \n",
              "Q 1688 2584 1439 2293 \n",
              "Q 1191 2003 1191 1497 \n",
              "Q 1191 994 1439 701 \n",
              "Q 1688 409 2113 409 \n",
              "Q 2538 409 2786 701 \n",
              "Q 3034 994 3034 1497 \n",
              "Q 3034 2003 2786 2293 \n",
              "Q 2538 2584 2113 2584 \n",
              "z\n",
              "M 3366 4563 \n",
              "L 3366 3988 \n",
              "Q 3128 4100 2886 4159 \n",
              "Q 2644 4219 2406 4219 \n",
              "Q 1781 4219 1451 3797 \n",
              "Q 1122 3375 1075 2522 \n",
              "Q 1259 2794 1537 2939 \n",
              "Q 1816 3084 2150 3084 \n",
              "Q 2853 3084 3261 2657 \n",
              "Q 3669 2231 3669 1497 \n",
              "Q 3669 778 3244 343 \n",
              "Q 2819 -91 2113 -91 \n",
              "Q 1303 -91 875 529 \n",
              "Q 447 1150 447 2328 \n",
              "Q 447 3434 972 4092 \n",
              "Q 1497 4750 2381 4750 \n",
              "Q 2619 4750 2861 4703 \n",
              "Q 3103 4656 3366 4563 \n",
              "z\n",
              "\" transform=\"scale(0.015625)\"/>\n",
              "       </defs>\n",
              "       <use xlink:href=\"#DejaVuSans-30\"/>\n",
              "       <use xlink:href=\"#DejaVuSans-2e\" x=\"63.623047\"/>\n",
              "       <use xlink:href=\"#DejaVuSans-36\" x=\"95.410156\"/>\n",
              "      </g>\n",
              "     </g>\n",
              "    </g>\n",
              "    <g id=\"ytick_12\">\n",
              "     <g id=\"line2d_26\">\n",
              "      <g>\n",
              "       <use xlink:href=\"#m2ee8712bcb\" x=\"394.363636\" y=\"90\" style=\"stroke: #000000; stroke-width: 0.8\"/>\n",
              "      </g>\n",
              "     </g>\n",
              "     <g id=\"text_28\">\n",
              "      <!-- 0.8 -->\n",
              "      <g transform=\"translate(371.460511 93.799219) scale(0.1 -0.1)\">\n",
              "       <defs>\n",
              "        <path id=\"DejaVuSans-38\" d=\"M 2034 2216 \n",
              "Q 1584 2216 1326 1975 \n",
              "Q 1069 1734 1069 1313 \n",
              "Q 1069 891 1326 650 \n",
              "Q 1584 409 2034 409 \n",
              "Q 2484 409 2743 651 \n",
              "Q 3003 894 3003 1313 \n",
              "Q 3003 1734 2745 1975 \n",
              "Q 2488 2216 2034 2216 \n",
              "z\n",
              "M 1403 2484 \n",
              "Q 997 2584 770 2862 \n",
              "Q 544 3141 544 3541 \n",
              "Q 544 4100 942 4425 \n",
              "Q 1341 4750 2034 4750 \n",
              "Q 2731 4750 3128 4425 \n",
              "Q 3525 4100 3525 3541 \n",
              "Q 3525 3141 3298 2862 \n",
              "Q 3072 2584 2669 2484 \n",
              "Q 3125 2378 3379 2068 \n",
              "Q 3634 1759 3634 1313 \n",
              "Q 3634 634 3220 271 \n",
              "Q 2806 -91 2034 -91 \n",
              "Q 1263 -91 848 271 \n",
              "Q 434 634 434 1313 \n",
              "Q 434 1759 690 2068 \n",
              "Q 947 2378 1403 2484 \n",
              "z\n",
              "M 1172 3481 \n",
              "Q 1172 3119 1398 2916 \n",
              "Q 1625 2713 2034 2713 \n",
              "Q 2441 2713 2670 2916 \n",
              "Q 2900 3119 2900 3481 \n",
              "Q 2900 3844 2670 4047 \n",
              "Q 2441 4250 2034 4250 \n",
              "Q 1625 4250 1398 4047 \n",
              "Q 1172 3844 1172 3481 \n",
              "z\n",
              "\" transform=\"scale(0.015625)\"/>\n",
              "       </defs>\n",
              "       <use xlink:href=\"#DejaVuSans-30\"/>\n",
              "       <use xlink:href=\"#DejaVuSans-2e\" x=\"63.623047\"/>\n",
              "       <use xlink:href=\"#DejaVuSans-38\" x=\"95.410156\"/>\n",
              "      </g>\n",
              "     </g>\n",
              "    </g>\n",
              "    <g id=\"ytick_13\">\n",
              "     <g id=\"line2d_27\">\n",
              "      <g>\n",
              "       <use xlink:href=\"#m2ee8712bcb\" x=\"394.363636\" y=\"53.04\" style=\"stroke: #000000; stroke-width: 0.8\"/>\n",
              "      </g>\n",
              "     </g>\n",
              "     <g id=\"text_29\">\n",
              "      <!-- 1.0 -->\n",
              "      <g transform=\"translate(371.460511 56.839219) scale(0.1 -0.1)\">\n",
              "       <use xlink:href=\"#DejaVuSans-31\"/>\n",
              "       <use xlink:href=\"#DejaVuSans-2e\" x=\"63.623047\"/>\n",
              "       <use xlink:href=\"#DejaVuSans-30\" x=\"95.410156\"/>\n",
              "      </g>\n",
              "     </g>\n",
              "    </g>\n",
              "    <g id=\"text_30\">\n",
              "     <!-- Accuracy -->\n",
              "     <g transform=\"translate(365.380824 168.268125) rotate(-90) scale(0.1 -0.1)\">\n",
              "      <defs>\n",
              "       <path id=\"DejaVuSans-41\" d=\"M 2188 4044 \n",
              "L 1331 1722 \n",
              "L 3047 1722 \n",
              "L 2188 4044 \n",
              "z\n",
              "M 1831 4666 \n",
              "L 2547 4666 \n",
              "L 4325 0 \n",
              "L 3669 0 \n",
              "L 3244 1197 \n",
              "L 1141 1197 \n",
              "L 716 0 \n",
              "L 50 0 \n",
              "L 1831 4666 \n",
              "z\n",
              "\" transform=\"scale(0.015625)\"/>\n",
              "       <path id=\"DejaVuSans-75\" d=\"M 544 1381 \n",
              "L 544 3500 \n",
              "L 1119 3500 \n",
              "L 1119 1403 \n",
              "Q 1119 906 1312 657 \n",
              "Q 1506 409 1894 409 \n",
              "Q 2359 409 2629 706 \n",
              "Q 2900 1003 2900 1516 \n",
              "L 2900 3500 \n",
              "L 3475 3500 \n",
              "L 3475 0 \n",
              "L 2900 0 \n",
              "L 2900 538 \n",
              "Q 2691 219 2414 64 \n",
              "Q 2138 -91 1772 -91 \n",
              "Q 1169 -91 856 284 \n",
              "Q 544 659 544 1381 \n",
              "z\n",
              "M 1991 3584 \n",
              "L 1991 3584 \n",
              "z\n",
              "\" transform=\"scale(0.015625)\"/>\n",
              "       <path id=\"DejaVuSans-79\" d=\"M 2059 -325 \n",
              "Q 1816 -950 1584 -1140 \n",
              "Q 1353 -1331 966 -1331 \n",
              "L 506 -1331 \n",
              "L 506 -850 \n",
              "L 844 -850 \n",
              "Q 1081 -850 1212 -737 \n",
              "Q 1344 -625 1503 -206 \n",
              "L 1606 56 \n",
              "L 191 3500 \n",
              "L 800 3500 \n",
              "L 1894 763 \n",
              "L 2988 3500 \n",
              "L 3597 3500 \n",
              "L 2059 -325 \n",
              "z\n",
              "\" transform=\"scale(0.015625)\"/>\n",
              "      </defs>\n",
              "      <use xlink:href=\"#DejaVuSans-41\"/>\n",
              "      <use xlink:href=\"#DejaVuSans-63\" x=\"66.658203\"/>\n",
              "      <use xlink:href=\"#DejaVuSans-63\" x=\"121.638672\"/>\n",
              "      <use xlink:href=\"#DejaVuSans-75\" x=\"176.619141\"/>\n",
              "      <use xlink:href=\"#DejaVuSans-72\" x=\"239.998047\"/>\n",
              "      <use xlink:href=\"#DejaVuSans-61\" x=\"281.111328\"/>\n",
              "      <use xlink:href=\"#DejaVuSans-63\" x=\"342.390625\"/>\n",
              "      <use xlink:href=\"#DejaVuSans-79\" x=\"397.371094\"/>\n",
              "     </g>\n",
              "    </g>\n",
              "   </g>\n",
              "   <g id=\"line2d_28\">\n",
              "    <path d=\"M 405.892562 70.505418 \n",
              "L 463.53719 67.047444 \n",
              "L 521.181818 63.975642 \n",
              "L 578.826446 63.115529 \n",
              "L 636.471074 62.501171 \n",
              "\" clip-path=\"url(#pf41a63c9d6)\" style=\"fill: none; stroke: #00bfbf; stroke-width: 1.5; stroke-linecap: square\"/>\n",
              "   </g>\n",
              "   <g id=\"line2d_29\">\n",
              "    <path d=\"M 405.892562 100.343499 \n",
              "L 463.53719 67.20162 \n",
              "L 521.181818 64.406084 \n",
              "L 578.826446 62.861183 \n",
              "L 636.471074 61.97838 \n",
              "\" clip-path=\"url(#pf41a63c9d6)\" style=\"fill: none; stroke: #0000ff; stroke-width: 1.5; stroke-linecap: square\"/>\n",
              "   </g>\n",
              "   <g id=\"patch_9\">\n",
              "    <path d=\"M 394.363636 256.32 \n",
              "L 394.363636 34.56 \n",
              "\" style=\"fill: none; stroke: #000000; stroke-width: 0.8; stroke-linejoin: miter; stroke-linecap: square\"/>\n",
              "   </g>\n",
              "   <g id=\"patch_10\">\n",
              "    <path d=\"M 648 256.32 \n",
              "L 648 34.56 \n",
              "\" style=\"fill: none; stroke: #000000; stroke-width: 0.8; stroke-linejoin: miter; stroke-linecap: square\"/>\n",
              "   </g>\n",
              "   <g id=\"patch_11\">\n",
              "    <path d=\"M 394.363636 256.32 \n",
              "L 648 256.32 \n",
              "\" style=\"fill: none; stroke: #000000; stroke-width: 0.8; stroke-linejoin: miter; stroke-linecap: square\"/>\n",
              "   </g>\n",
              "   <g id=\"patch_12\">\n",
              "    <path d=\"M 394.363636 34.56 \n",
              "L 648 34.56 \n",
              "\" style=\"fill: none; stroke: #000000; stroke-width: 0.8; stroke-linejoin: miter; stroke-linecap: square\"/>\n",
              "   </g>\n",
              "   <g id=\"text_31\">\n",
              "    <!-- SimpleNetwork: Training Accuracy -->\n",
              "    <g transform=\"translate(418.742131 28.56) scale(0.12 -0.12)\">\n",
              "     <use xlink:href=\"#DejaVuSans-53\"/>\n",
              "     <use xlink:href=\"#DejaVuSans-69\" x=\"63.476562\"/>\n",
              "     <use xlink:href=\"#DejaVuSans-6d\" x=\"91.259766\"/>\n",
              "     <use xlink:href=\"#DejaVuSans-70\" x=\"188.671875\"/>\n",
              "     <use xlink:href=\"#DejaVuSans-6c\" x=\"252.148438\"/>\n",
              "     <use xlink:href=\"#DejaVuSans-65\" x=\"279.931641\"/>\n",
              "     <use xlink:href=\"#DejaVuSans-4e\" x=\"341.455078\"/>\n",
              "     <use xlink:href=\"#DejaVuSans-65\" x=\"416.259766\"/>\n",
              "     <use xlink:href=\"#DejaVuSans-74\" x=\"477.783203\"/>\n",
              "     <use xlink:href=\"#DejaVuSans-77\" x=\"516.992188\"/>\n",
              "     <use xlink:href=\"#DejaVuSans-6f\" x=\"598.779297\"/>\n",
              "     <use xlink:href=\"#DejaVuSans-72\" x=\"659.960938\"/>\n",
              "     <use xlink:href=\"#DejaVuSans-6b\" x=\"701.074219\"/>\n",
              "     <use xlink:href=\"#DejaVuSans-3a\" x=\"758.984375\"/>\n",
              "     <use xlink:href=\"#DejaVuSans-20\" x=\"792.675781\"/>\n",
              "     <use xlink:href=\"#DejaVuSans-54\" x=\"824.462891\"/>\n",
              "     <use xlink:href=\"#DejaVuSans-72\" x=\"870.796875\"/>\n",
              "     <use xlink:href=\"#DejaVuSans-61\" x=\"911.910156\"/>\n",
              "     <use xlink:href=\"#DejaVuSans-69\" x=\"973.189453\"/>\n",
              "     <use xlink:href=\"#DejaVuSans-6e\" x=\"1000.972656\"/>\n",
              "     <use xlink:href=\"#DejaVuSans-69\" x=\"1064.351562\"/>\n",
              "     <use xlink:href=\"#DejaVuSans-6e\" x=\"1092.134766\"/>\n",
              "     <use xlink:href=\"#DejaVuSans-67\" x=\"1155.513672\"/>\n",
              "     <use xlink:href=\"#DejaVuSans-20\" x=\"1218.990234\"/>\n",
              "     <use xlink:href=\"#DejaVuSans-41\" x=\"1250.777344\"/>\n",
              "     <use xlink:href=\"#DejaVuSans-63\" x=\"1317.435547\"/>\n",
              "     <use xlink:href=\"#DejaVuSans-63\" x=\"1372.416016\"/>\n",
              "     <use xlink:href=\"#DejaVuSans-75\" x=\"1427.396484\"/>\n",
              "     <use xlink:href=\"#DejaVuSans-72\" x=\"1490.775391\"/>\n",
              "     <use xlink:href=\"#DejaVuSans-61\" x=\"1531.888672\"/>\n",
              "     <use xlink:href=\"#DejaVuSans-63\" x=\"1593.167969\"/>\n",
              "     <use xlink:href=\"#DejaVuSans-79\" x=\"1648.148438\"/>\n",
              "    </g>\n",
              "   </g>\n",
              "   <g id=\"legend_2\">\n",
              "    <g id=\"patch_13\">\n",
              "     <path d=\"M 401.363636 251.32 \n",
              "L 550.505824 251.32 \n",
              "Q 552.505824 251.32 552.505824 249.32 \n",
              "L 552.505824 220.4075 \n",
              "Q 552.505824 218.4075 550.505824 218.4075 \n",
              "L 401.363636 218.4075 \n",
              "Q 399.363636 218.4075 399.363636 220.4075 \n",
              "L 399.363636 249.32 \n",
              "Q 399.363636 251.32 401.363636 251.32 \n",
              "z\n",
              "\" style=\"fill: #ffffff; opacity: 0.8; stroke: #cccccc; stroke-linejoin: miter\"/>\n",
              "    </g>\n",
              "    <g id=\"line2d_30\">\n",
              "     <path d=\"M 403.363636 226.505938 \n",
              "L 413.363636 226.505938 \n",
              "L 423.363636 226.505938 \n",
              "\" style=\"fill: none; stroke: #00bfbf; stroke-width: 1.5; stroke-linecap: square\"/>\n",
              "    </g>\n",
              "    <g id=\"text_32\">\n",
              "     <!-- val_tolerance_accuracy -->\n",
              "     <g transform=\"translate(431.363636 230.005938) scale(0.1 -0.1)\">\n",
              "      <use xlink:href=\"#DejaVuSans-76\"/>\n",
              "      <use xlink:href=\"#DejaVuSans-61\" x=\"59.179688\"/>\n",
              "      <use xlink:href=\"#DejaVuSans-6c\" x=\"120.458984\"/>\n",
              "      <use xlink:href=\"#DejaVuSans-5f\" x=\"148.242188\"/>\n",
              "      <use xlink:href=\"#DejaVuSans-74\" x=\"198.242188\"/>\n",
              "      <use xlink:href=\"#DejaVuSans-6f\" x=\"237.451172\"/>\n",
              "      <use xlink:href=\"#DejaVuSans-6c\" x=\"298.632812\"/>\n",
              "      <use xlink:href=\"#DejaVuSans-65\" x=\"326.416016\"/>\n",
              "      <use xlink:href=\"#DejaVuSans-72\" x=\"387.939453\"/>\n",
              "      <use xlink:href=\"#DejaVuSans-61\" x=\"429.052734\"/>\n",
              "      <use xlink:href=\"#DejaVuSans-6e\" x=\"490.332031\"/>\n",
              "      <use xlink:href=\"#DejaVuSans-63\" x=\"553.710938\"/>\n",
              "      <use xlink:href=\"#DejaVuSans-65\" x=\"608.691406\"/>\n",
              "      <use xlink:href=\"#DejaVuSans-5f\" x=\"670.214844\"/>\n",
              "      <use xlink:href=\"#DejaVuSans-61\" x=\"720.214844\"/>\n",
              "      <use xlink:href=\"#DejaVuSans-63\" x=\"781.494141\"/>\n",
              "      <use xlink:href=\"#DejaVuSans-63\" x=\"836.474609\"/>\n",
              "      <use xlink:href=\"#DejaVuSans-75\" x=\"891.455078\"/>\n",
              "      <use xlink:href=\"#DejaVuSans-72\" x=\"954.833984\"/>\n",
              "      <use xlink:href=\"#DejaVuSans-61\" x=\"995.947266\"/>\n",
              "      <use xlink:href=\"#DejaVuSans-63\" x=\"1057.226562\"/>\n",
              "      <use xlink:href=\"#DejaVuSans-79\" x=\"1112.207031\"/>\n",
              "     </g>\n",
              "    </g>\n",
              "    <g id=\"line2d_31\">\n",
              "     <path d=\"M 403.363636 241.462187 \n",
              "L 413.363636 241.462187 \n",
              "L 423.363636 241.462187 \n",
              "\" style=\"fill: none; stroke: #0000ff; stroke-width: 1.5; stroke-linecap: square\"/>\n",
              "    </g>\n",
              "    <g id=\"text_33\">\n",
              "     <!-- tolerance_accuracy -->\n",
              "     <g transform=\"translate(431.363636 244.962187) scale(0.1 -0.1)\">\n",
              "      <use xlink:href=\"#DejaVuSans-74\"/>\n",
              "      <use xlink:href=\"#DejaVuSans-6f\" x=\"39.208984\"/>\n",
              "      <use xlink:href=\"#DejaVuSans-6c\" x=\"100.390625\"/>\n",
              "      <use xlink:href=\"#DejaVuSans-65\" x=\"128.173828\"/>\n",
              "      <use xlink:href=\"#DejaVuSans-72\" x=\"189.697266\"/>\n",
              "      <use xlink:href=\"#DejaVuSans-61\" x=\"230.810547\"/>\n",
              "      <use xlink:href=\"#DejaVuSans-6e\" x=\"292.089844\"/>\n",
              "      <use xlink:href=\"#DejaVuSans-63\" x=\"355.46875\"/>\n",
              "      <use xlink:href=\"#DejaVuSans-65\" x=\"410.449219\"/>\n",
              "      <use xlink:href=\"#DejaVuSans-5f\" x=\"471.972656\"/>\n",
              "      <use xlink:href=\"#DejaVuSans-61\" x=\"521.972656\"/>\n",
              "      <use xlink:href=\"#DejaVuSans-63\" x=\"583.251953\"/>\n",
              "      <use xlink:href=\"#DejaVuSans-63\" x=\"638.232422\"/>\n",
              "      <use xlink:href=\"#DejaVuSans-75\" x=\"693.212891\"/>\n",
              "      <use xlink:href=\"#DejaVuSans-72\" x=\"756.591797\"/>\n",
              "      <use xlink:href=\"#DejaVuSans-61\" x=\"797.705078\"/>\n",
              "      <use xlink:href=\"#DejaVuSans-63\" x=\"858.984375\"/>\n",
              "      <use xlink:href=\"#DejaVuSans-79\" x=\"913.964844\"/>\n",
              "     </g>\n",
              "    </g>\n",
              "   </g>\n",
              "  </g>\n",
              " </g>\n",
              " <defs>\n",
              "  <clipPath id=\"p41c91f96e8\">\n",
              "   <rect x=\"90\" y=\"34.56\" width=\"253.636364\" height=\"221.76\"/>\n",
              "  </clipPath>\n",
              "  <clipPath id=\"pf41a63c9d6\">\n",
              "   <rect x=\"394.363636\" y=\"34.56\" width=\"253.636364\" height=\"221.76\"/>\n",
              "  </clipPath>\n",
              " </defs>\n",
              "</svg>\n"
            ]
          },
          "metadata": {}
        },
        {
          "output_type": "stream",
          "name": "stdout",
          "text": [
            "Epoch 5/5 loss: 0.007666457910090685 - tolerance_accuracy: 0.9516321420669556 - val_loss: 0.00848546251654625 - val_tolerance_accuracy: 0.948803186416626\n"
          ]
        }
      ],
      "source": [
        "history = net.fit(inputs,                                   # new training examples\n",
        "                  targets,                                  # new training labels\n",
        "                  verbose=1,                                # verbose output\n",
        "                  validation_data=(new_test_x_normalized,   # validation examples\n",
        "                                   new_test_y),             # validation labels\n",
        "                  epochs=5)                                 # number of times to loop through the training set"
      ]
    },
    {
      "cell_type": "markdown",
      "source": [
        "After training the network, **take note of the tolerance and value tolerance accuracy for every time you retrain the network with manipulated percentages**. The tolerance accuracy tells us how accurately the network has learned the data in the dataset it is trained on, where the value tolerance accuracy reports the accuracy of the network on the test dataset."
      ],
      "metadata": {
        "id": "7vrCM2yO6hiH"
      }
    },
    {
      "cell_type": "markdown",
      "source": [
        "**val_tolerance_accuracy**: *enter here*\n",
        "\n",
        "**tolerance_accuracy**: *enter here*"
      ],
      "metadata": {
        "id": "_-kae00F6mqw"
      }
    },
    {
      "cell_type": "markdown",
      "source": [
        "###Testing the Network"
      ],
      "metadata": {
        "id": "q1amP4wiszlm"
      }
    },
    {
      "cell_type": "markdown",
      "source": [
        "Now, we can look at inputs in the network to see if we get the expected output. For 4's, there should be a white block on the left and a black block on the right for the output. For 5's, there should be a black block on the left and a white block on the right for the output. For inputs that the network is having trouble recognizing, their output will not be clearly black or white in either of the two output blocks. Additionally, below the visualization of the network, when the test function is run, you can see percentages of certainty. The first number is the certainty that the digit is a four, and the second number is the certainty that the digit is a five."
      ],
      "metadata": {
        "id": "M7d30W-9a3zL"
      }
    },
    {
      "cell_type": "code",
      "execution_count": 33,
      "metadata": {
        "id": "NASP8hqUQv_w"
      },
      "outputs": [],
      "source": [
        "from time import sleep\n",
        "def test(net, n):\n",
        "  for i in range(n):\n",
        "    net.display(new_test_x_normalized[i])\n",
        "    outputs = net.propagate(new_test_x_normalized[i])\n",
        "    print(\", \".join([str(round(v,2)) for v in outputs]))\n",
        "    sleep(2)"
      ]
    },
    {
      "cell_type": "markdown",
      "source": [
        "We are looking at the first ten inputs for the test dataset. You may notice some strange looking examples. The third one is a 5, but with a much smaller bottom half. The ninth one appears to be a quickly drawn 4 where the bottom half is missing."
      ],
      "metadata": {
        "id": "TkhGLdInbZ2Z"
      }
    },
    {
      "cell_type": "code",
      "execution_count": 34,
      "metadata": {
        "colab": {
          "base_uri": "https://localhost:8080/",
          "height": 439
        },
        "id": "bXjwxNHPVsvD",
        "outputId": "b0c2b50a-a624-43fa-8424-9b7fdd3fde7a"
      },
      "outputs": [
        {
          "output_type": "display_data",
          "data": {
            "text/plain": [
              "<IPython.core.display.HTML object>"
            ],
            "text/html": [
              "<svg id='keras-network' xmlns='http://www.w3.org/2000/svg' xmlns:xlink='http://www.w3.org/1999/xlink' image-rendering=\"pixelated\" width=\"326px\" height=\"400px\" style=\"background-color: #B0C4DE\">\n",
              " <g >\n",
              "  <svg viewBox=\"0 0 400 490\" width=\"326px\" height=\"400px\">\n",
              "    <defs>\n",
              "        <marker id=\"arrow\" markerWidth=\"10\" markerHeight=\"10\" refX=\"9\" refY=\"3\" orient=\"auto\" markerUnits=\"strokeWidth\">\n",
              "          <path d=\"M0,0 L0,6 L9,3 z\" fill=\"black\" />\n",
              "        </marker>\n",
              "    </defs><rect x=\"149.0\" y=\"24\" width=\"102\" height=\"52\" style=\"fill:none;stroke:black;stroke-width:2\"/><image id=\"keras-network_output\" class=\"keras-network\" x=\"150.0\" y=\"25\" height=\"50\" width=\"100\" preserveAspectRatio=\"none\" image-rendering=\"optimizeSpeed\" xlink:href=\"data:image/gif;base64,R0lGODdhAgABAIEAAAAAAP7+/gAAAAAAACwAAAAAAgABAAAIBQADAAgIADs=\"><title>Layer: output 'Dense'\n",
              "Act function: softmax\n",
              "Act output range: (0.0, 1.0)\n",
              "Actual minmax: (0.0, 1.0)\n",
              "Shape = (None, 2)</title></image><text x=\"255.0\" y=\"52.0\" font-family=\"monospace\" font-size=\"12\" text-anchor=\"start\" fill=\"blue\" alignment-baseline=\"central\" >output</text><path d=\"M 200.0 104 L 200.0 77 \" stroke=\"black\" stroke-width=\"2\" marker-end=\"url(#arrow)\" fill=\"none\" /><rect x=\"99.0\" y=\"104\" width=\"202\" height=\"52\" style=\"fill:none;stroke:black;stroke-width:2\"/><image id=\"keras-network_hidden_2\" class=\"keras-network\" x=\"100.0\" y=\"105\" height=\"50\" width=\"200\" preserveAspectRatio=\"none\" image-rendering=\"optimizeSpeed\" xlink:href=\"data:image/gif;base64,R0lGODdhGQABAIQAAAkJCQ0NDQ8PDxAQEBUVFRoaGh4eHjY2Njg4OE1NTU9PT5aWlqOjo7CwsMHBwcPDw83NzdHR0dTU1OLi4u3t7e/v7/Dw8PX19QAAAAAAAAAAAAAAAAAAAAAAAAAAAAAAACwAAAAAGQABAAAIHwARBCBwIMKDBRUoTHAgAEKDAgMMSEiQ4IIFAAwUBAQAOw==\"><title>Layer: hidden_2 'Dense'\n",
              "Act function: sigmoid\n",
              "Act output range: (0.0, 1.0)\n",
              "Actual minmax: (0.0, 1.0)\n",
              "Shape = (None, 25)</title></image><text x=\"305.0\" y=\"132.0\" font-family=\"monospace\" font-size=\"12\" text-anchor=\"start\" fill=\"blue\" alignment-baseline=\"central\" >hidden_2</text><path d=\"M 200.0 184 L 200.0 157 \" stroke=\"black\" stroke-width=\"2\" marker-end=\"url(#arrow)\" fill=\"none\" /><rect x=\"99.00000000000001\" y=\"184\" width=\"201.99999999999997\" height=\"52\" style=\"fill:none;stroke:black;stroke-width:2\"/><image id=\"keras-network_flatten_1\" class=\"keras-network\" x=\"100.00000000000001\" y=\"185\" height=\"50\" width=\"199.99999999999997\" preserveAspectRatio=\"none\" image-rendering=\"optimizeSpeed\" xlink:href=\"data:image/gif;base64,R0lGODdhEAMBAIYAAAAAAAgICAkJCQsLCw4ODhYWFhsbGyMjIyUlJSgoKC4uLjIyMjo6OkREREZGRlRUVFVVVVxcXGNjY2RkZGlpaWpqam5ubnNzc3h4eHl5eXx8fH9/f4KCgoODg4yMjJKSkpSUlJaWlpmZmZubm6GhoaWlpaenp6mpqa6urrCwsLGxsbOzs7W1tbm5ubq6usDAwMLCwsrKys7OztLS0tfX19jY2Nvb2+Hh4enp6e/v7/Dw8PHx8fT09PX19fb29vn5+fv7+/z8/P39/f7+/v///wAAAAAAAAAAAAAAAAAAAAAAAAAAAAAAAAAAAAAAAAAAAAAAAAAAAAAAAAAAAAAAAAAAAAAAAAAAAAAAAAAAAAAAAAAAAAAAAAAAAAAAAAAAAAAAAAAAAAAAAAAAAAAAAAAAAAAAAAAAAAAAAAAAAAAAAAAAAAAAAAAAAAAAAAAAAAAAAAAAAAAAAAAAAAAAAAAAAAAAAAAAAAAAAAAAAAAAAAAAAAAAAAAAAAAAAAAAACwAAAAAEAMBAAAIvQABCBxIsKDBgwgTKlzIsKHDhxAjSiyYgUgJgw6GrIDYYYgIgxWG/FjwsMYQCgY9DNGBwCGBG0MeFISAYwiNhwyGDFFAMIALnTJw6hRA8IPOIRgehhg6cAMQnTkKPBTBFEAEH0dZQKSwY0gCAAZ4HB0SIiKJIScmiD0axEHEBimE6OxhQmeMiQAkqPhwwIJOEHgJytDZIfBADkNsDDAsEMWQGYwFjhiiITKAFkMuWB6sOTKMzJYNvOhsubTDgAA7\"><title>Layer: flatten_1 'Flatten'\n",
              "Actual minmax: (0.0, 1.0)\n",
              "Shape = (None, 784)</title></image><text x=\"305.0\" y=\"212.0\" font-family=\"monospace\" font-size=\"12\" text-anchor=\"start\" fill=\"blue\" alignment-baseline=\"central\" >flatten_1</text><path d=\"M 200.0 264 L 200.0 237 \" stroke=\"black\" stroke-width=\"2\" marker-end=\"url(#arrow)\" fill=\"none\" /><rect x=\"99.0\" y=\"264\" width=\"202\" height=\"202\" style=\"fill:none;stroke:black;stroke-width:2\"/><image id=\"keras-network_input\" class=\"keras-network\" x=\"100.0\" y=\"265\" height=\"200\" width=\"200\" preserveAspectRatio=\"none\" image-rendering=\"optimizeSpeed\" xlink:href=\"data:image/gif;base64,R0lGODdhHAAcAIYAAAAAAAgICAkJCQsLCw4ODhYWFhsbGyMjIyUlJSgoKC4uLjIyMjo6OkREREZGRlRUVFVVVVxcXGNjY2RkZGlpaWpqam5ubnNzc3h4eHl5eXx8fH9/f4KCgoODg4yMjJKSkpSUlJaWlpmZmZubm6GhoaWlpaenp6mpqa6urrCwsLGxsbOzs7W1tbm5ubq6usDAwMLCwsrKys7OztLS0tfX19jY2Nvb2+Hh4enp6e/v7/Dw8PHx8fT09PX19fb29vn5+fv7+/z8/P39/f7+/v///wAAAAAAAAAAAAAAAAAAAAAAAAAAAAAAAAAAAAAAAAAAAAAAAAAAAAAAAAAAAAAAAAAAAAAAAAAAAAAAAAAAAAAAAAAAAAAAAAAAAAAAAAAAAAAAAAAAAAAAAAAAAAAAAAAAAAAAAAAAAAAAAAAAAAAAAAAAAAAAAAAAAAAAAAAAAAAAAAAAAAAAAAAAAAAAAAAAAAAAAAAAAAAAAAAAAAAAAAAAAAAAAAAAAAAAAAAAACwAAAAAHAAcAEAIuwABCBxIsKDBgwhrDKFg0MMQHQgQHmyQQsiQIT1MXIwhsWNBGEMueBxJsmOIiwIGbgByMUeBkghRDJkBs2bNDERKGHQwZAVMBhcVEAzg4qIMmBR2DEkAwACPixdD2DQo42KHqQZbhMTKtavXr2AFdhgiwmCFIT8WlCRwY8iDghBwDKHxEyXBD1AxwBRhF0AEH1BZ2CQx5MSEp1CDOMAqQcWHAxYuggDLYYiNAWBHDNEQtqpIsAZefA47MiAAOw==\"><title>Layer: input 'InputLayer'\n",
              "Actual minmax: (0.0, 1.0)\n",
              "Shape = [(None, 28, 28)]</title></image><text x=\"305.0\" y=\"367.0\" font-family=\"monospace\" font-size=\"12\" text-anchor=\"start\" fill=\"blue\" alignment-baseline=\"central\" >input</text><text x=\"200.0\" y=\"12.5\" font-family=\"monospace\" font-size=\"15\" text-anchor=\"middle\" fill=\"black\" alignment-baseline=\"central\" >Activations for SimpleNetwork</text></svg></g></svg>"
            ]
          },
          "metadata": {}
        },
        {
          "output_type": "stream",
          "name": "stdout",
          "text": [
            "1.0, 0.0\n"
          ]
        }
      ],
      "source": [
        "test(net, 10)"
      ]
    },
    {
      "cell_type": "markdown",
      "source": [
        "As you can see from these examples, when the network's dataset is split evenly between 4's and 5's, it typically performs very well. It has an accuracy of around 95% on the test dataset (which it was not trained on) which is very significant. This shows that this network is very strong and effective at predicting whether a hand drawn digit is a 4 or a 5."
      ],
      "metadata": {
        "id": "5jVbLWuL9X7r"
      }
    },
    {
      "cell_type": "markdown",
      "source": [
        "So far, we have created and shown the effectiveness of the neural network that is trained to assess whether a given digit in the test dataset is a 4 or 5. The network should perform with a high accuracy and confidence in its guesses for any given input digit. For some less clear examples, it may have a hard time distinguishing the digit, however, overall the network should perform with a good deal of accuracy when the dataset it is trained on has an equal number of 4's and 5's."
      ],
      "metadata": {
        "id": "Pa6PBYpagOAh"
      }
    },
    {
      "cell_type": "markdown",
      "source": [
        "Now, we can see how many total errors this network had and which specific digits it classified incorrectly. Run this next code block to have a summary of the errors the network made, as well as the percentage of errors that were 4's and percentage of errors that were 5's. **Note how many errors the network made and which digit it classified incorrectly most often.**"
      ],
      "metadata": {
        "id": "DJlbuEzjTZ_j"
      }
    },
    {
      "cell_type": "code",
      "source": [
        "from numpy import argmax\n",
        "outputs = net.predict(new_test_x_normalized)\n",
        "answers = [argmax(output) for output in outputs]\n",
        "newtargets = [argmax(target) for target in new_test_y]\n",
        "incorrect = [i for i in range(len(answers)) if answers[i] != newtargets[i]]\n",
        "print(\"number of digits classified incorrectly:\", len(incorrect))\n",
        "missed_target = [targets[i] for i in incorrect]\n",
        "wrong_answer = [answers[i] for i in incorrect]\n",
        "per4 = 0\n",
        "per5 = 0\n",
        "for i in range(len(incorrect)):\n",
        "  if wrong_answer[i] == 1:\n",
        "    per4 += 1\n",
        "  else:\n",
        "    per5 += 1\n",
        "\n",
        "print(\"\\n\")\n",
        "print(\"percentage of errors on 4's:\", per4/len(incorrect))\n",
        "print(\"percentage of errors on 5's:\", per5/len(incorrect))"
      ],
      "metadata": {
        "id": "3xY3TF98O1re",
        "colab": {
          "base_uri": "https://localhost:8080/"
        },
        "outputId": "c687e623-e6fd-48c2-e687-5f22719764e5"
      },
      "execution_count": 37,
      "outputs": [
        {
          "output_type": "stream",
          "name": "stdout",
          "text": [
            "number of digits classified incorrectly: 16\n",
            "\n",
            "\n",
            "percentage of errors on 4's: 0.125\n",
            "percentage of errors on 5's: 0.875\n"
          ]
        }
      ]
    },
    {
      "cell_type": "markdown",
      "source": [
        "*write observations here*"
      ],
      "metadata": {
        "id": "8KapHOuj-hNj"
      }
    },
    {
      "cell_type": "markdown",
      "source": [
        "Prints gallery of digits that were classified incorrectly."
      ],
      "metadata": {
        "id": "prn5CWDRT7Aw"
      }
    },
    {
      "cell_type": "code",
      "source": [
        "images = [array_to_image(new_test_x[index]) for index in incorrect]\n",
        "#label = [str(missed_target[i]) + \",\" + str(wrong_answer[i]) for i in range(len(wrong_answer))]\n",
        "gallery(images)"
      ],
      "metadata": {
        "colab": {
          "base_uri": "https://localhost:8080/",
          "height": 233
        },
        "id": "5cCoTBS4Qf6a",
        "outputId": "d7bb537e-9c1c-455c-bbbc-ee229c7e7ff0"
      },
      "execution_count": 36,
      "outputs": [
        {
          "output_type": "display_data",
          "data": {
            "text/plain": [
              "<IPython.core.display.HTML object>"
            ],
            "text/html": [
              "<table><tr style=\"padding: 1px\"><td style=\"text-align: center; padding: 1px\">0<br/><img src=\"data:image/PNG;base64,iVBORw0KGgoAAAANSUhEUgAAABwAAAAcCAAAAABXZoBIAAAA6ElEQVR4nGNgoD9gxBARlGNgeFh45dZFTMXeM2/+/fv3+re/f9FllPu+/PkLAwwMDCzIkjL5EPrGVQgNlxQpOLLj18ev3LuunDz//Suqidzn/voxMCgwyDFhuoNt498WLhwe4mn9+5IfhxxDzN/7MliEIVZYMZx/gksjw6u/3+oNMYUhwff/HwPDvxkn5O5cZdA+jm5G918EeLECTZLZ9Na93zDZPzWYFjh7nIDKrsfmrIq/P2cYL8EhafT37989f/7+nYJNknP5379///5az41NkkF8y/O/dxuwSjEwMDDEThXDKUcfAAAG83bQTLLiMgAAAABJRU5ErkJggg==\" alt=\"0\" title=\"0\"></img></td><td style=\"text-align: center; padding: 1px\">1<br/><img src=\"data:image/PNG;base64,iVBORw0KGgoAAAANSUhEUgAAABwAAAAcCAAAAABXZoBIAAAA80lEQVR4nGNgGFAgwIRHcvcGHwRHjIWBgQFJ9Tk/VQSnoB1VZ86/Qjjb9cc/VJ2ZSAod2M6hSOpII0m6MjShSFryMXyFsdlZvx9CtpHnxr+1cE7Yv5kozpn9758+nLMDIgkz1i+U4cFNmBy/GIo+vtP//hnAeQb//pkhSar8+7eWGVlSGSHnfubfLUkGRh4eHnYeHkYGg39rGRkYGBhYGBgYGBj8jRjYqxmY0xkYzxkyxGx2Y/jwH6Hz5T8YuPXw8r/TD/6ZMiB0Nk1mePTyC8O+MwynuN7Y5RpfvIXkHhZTUxkuOG/Kv2kMOIGoMhduycELALWdTCRsFwZNAAAAAElFTkSuQmCC\" alt=\"1\" title=\"1\"></img></td><td style=\"text-align: center; padding: 1px\">2<br/><img src=\"data:image/PNG;base64,iVBORw0KGgoAAAANSUhEUgAAABwAAAAcCAAAAABXZoBIAAAA3klEQVR4nGNgGNJAWn/CtFP/5zMwMDAwsMBFw9nXfWEyU2uTZGBgePaLgYGBgYERKuUnPYXhx38GNmaGp6+WnT3xE9kwt99/ocBNECEKNVaCKX4HhPX2P4Yz4v4+4cN0HBOE+sUgyYbbB1/+6uHUybCSIZCJgYGBic2ABVOR79+/O+fMcd/w9+9teQxJjgUwv/x9ZAUThAUCAxNvHJuZ9oGbV9tN7ro9wOU0sU9/G9EchACv/mK4FivAlORgZDiLU3nk35fCOHWyMBx6i0sj17m/HjhN1fr7hBePG4kEAFtYSm/IFQINAAAAAElFTkSuQmCC\" alt=\"2\" title=\"2\"></img></td><td style=\"text-align: center; padding: 1px\">3<br/><img src=\"data:image/PNG;base64,iVBORw0KGgoAAAANSUhEUgAAABwAAAAcCAAAAABXZoBIAAAA+0lEQVR4nN2PsUrDUBSG/ysuFrcM1To4mU1K63RxKHRw0cEheQFfQHT3FQqdW8jgJoFCBkcXS3UqOAXaoaQI0kAFuZ3kP4ljkyYPUPzhLPfjO/c/wD+N1oDluiNfF9mVMdH8ixSaAQCoNapYgwawk8S/KgWOc5rtU7gYOo5VXHkTk/J0UtbEfhSSwV4ZOw0kEfk523jeBYCL3lGKTm281MtJFioAkBRQk8P9RfV7uup/vuV0Ibke85AzW01AXZ+vgjGa7QPg9fZj43crDGsAKl5I8QqVPc58DcClDAuw/iI00TyKKd2Sc1t371EiIvd2plA2zmX67JeIW5E/pVNt07+K5ckAAAAASUVORK5CYII=\" alt=\"3\" title=\"3\"></img></td></tr><tr style=\"padding: 1px\"><td style=\"text-align: center; padding: 1px\">4<br/><img src=\"data:image/PNG;base64,iVBORw0KGgoAAAANSUhEUgAAABwAAAAcCAAAAABXZoBIAAAA3klEQVR4nGNgGMyAfV0PTjmhbf8WY5dhZjE/8O+XF1a5wlf//v37V49d45x///7dDmTGLmn7518jN07XdP+LZ2BgYGAQV1a2EkKXlP83j4FBLOHUh3///t31QZPkflQlsOrrv3///nz99++pLKok6439t/79O5Bsa8hpX/WvCFXS6N+/b6sduRgYGBgY9P7NRpXc8u9PAowNk2SC8pn1GFIWwCR50V3bGgIPAbYtV8WweBYCDP7NxCnHsP+lIk65qf/6cEnxrvp3nBGHnMz+//tFcMjpvfi3kA+3a6gDAPUETjE6/sTXAAAAAElFTkSuQmCC\" alt=\"4\" title=\"4\"></img></td><td style=\"text-align: center; padding: 1px\">5<br/><img src=\"data:image/PNG;base64,iVBORw0KGgoAAAANSUhEUgAAABwAAAAcCAAAAABXZoBIAAAA6klEQVR4nGNgGNTAYfHef/82iGKTUlj67O+/v39/WmKT3Pf3799/f//2Y5Fib//59++3T6/7ebBIRv/7+/e8nhSyEAucJc3IcNsQVT0TnGX///9qBhySzFwMDO+wOZOBgYFB+O+/v1poYnA7HRkYGNZPfcu4+icWnXn//v/79+/f/38bwjElc//++wsJhN9dIuiSYvN23rj369LHv3///o3G5igOI3flul9//zbicjXDjL9/X/KiuRYOzjEyiLHikhT+z/DhDw5TOS79/bsCm4RKg6/wsr9//4Zik4z/+/ff379/9+B0LHUAAEwDZDq+d4gsAAAAAElFTkSuQmCC\" alt=\"5\" title=\"5\"></img></td><td style=\"text-align: center; padding: 1px\">6<br/><img src=\"data:image/PNG;base64,iVBORw0KGgoAAAANSUhEUgAAABwAAAAcCAAAAABXZoBIAAAAxklEQVR4nGNgGMqAvXS/PU65aX8eq2GXyjh65s8Dbexyxt/+/P1zlhe7pNvfv7+//P17wEkYU0734Z8/3kHX//z986BcCl3y6Z8HZQwMwlkrHvz5c98Jzca/f84WMjAwMDAIy8jIcKJKXvv/9+/fT07sWJ2jdnTikbt//zRhdywDA4Pkpj9HuHDKyv75I4PgMaFK8jD++ItT57I/K3DKqf19aYdLLvLh3wQcUiwNf/9Ox6Wv4c/Libjk6vDY5/PzozUuOdIBADUsThQ8e+0vAAAAAElFTkSuQmCC\" alt=\"6\" title=\"6\"></img></td><td style=\"text-align: center; padding: 1px\">7<br/><img src=\"data:image/PNG;base64,iVBORw0KGgoAAAANSUhEUgAAABwAAAAcCAAAAABXZoBIAAAA4klEQVR4nM2QoVJCQRSG/3OxUdkqUcn4IEAViPgi+gQGDCaYsTBovg3GKDMULl4TYyNgtpx/13CHVfayjeBfdme/PfudPcB/TTWzHIwtLW122zSHsKnUwYgrKpW6uQSAsz0USSz6fZh23jK9m125MlAl+42RRHaI5EGp4Zmv/BD5CqFv6MLhOVr5KFJS+UrnAACdWvvl/TW8dUWbdbvFhEwI69tiNvzzX+/8vBcR+X6qLH/l3om7RQt5mnv7AUSaFmu5ax+zodZicErHGGtQOTlK5lzT8e34q+fXw+1sGDWeKj8l72J6PU1KsgAAAABJRU5ErkJggg==\" alt=\"7\" title=\"7\"></img></td></tr><tr style=\"padding: 1px\"><td style=\"text-align: center; padding: 1px\">8<br/><img src=\"data:image/PNG;base64,iVBORw0KGgoAAAANSUhEUgAAABwAAAAcCAAAAABXZoBIAAAA90lEQVR4nM3PP0tCYRQG8Od6IxAuLi5Bg4toi4iDBEKDpK0Ojm3hEPQNnHQQ2oumvkJNDRFFg40NDm7BNQjEf0iBeAt5Hh2UoOt7N4fO8h7OD55zXuD/VuT0uqEDsx2/k+Sd0XJDkXRPjPhEtTNRx5w6YCvsn4VWb8axJl4Q/mhu2+ZMAK9UEYiVSvsGPKeejz6+RO8tvYYViiRFspvwY+xzLkkvzZHU2/Hrlch6Eti9p6p+LHQezrYBwGnrZjna+sXHlEcAwOwb/cBP7VErDK1j2bJul531F2pTHOZtNzc0RTZFkgXzvuyY5EXQNfFLNx8JvHUztQCPRWWnEZY/gQAAAABJRU5ErkJggg==\" alt=\"8\" title=\"8\"></img></td><td style=\"text-align: center; padding: 1px\">9<br/><img src=\"data:image/PNG;base64,iVBORw0KGgoAAAANSUhEUgAAABwAAAAcCAAAAABXZoBIAAAAqUlEQVR4nGNgoDkQPR/CwMCgb6kJE2BCknx9UJOBgcHu1XVskgwMyqwMDB9/Yzd3wl9lnHYK7J+A20F+f0RQBVDtfINbp+qfEDySf/8n4ZSUunv50y6cspry5z5uzcQp7fnnz3kRXJJaC/7+xxMQ+3CHEve0P0iSqIHAYCeEzEOTvH6TEU0ECkRFGbSO/rlUzopN0mTB1nufHsVgd8zNPyv258jjcuqgAADATjAkjGBIxgAAAABJRU5ErkJggg==\" alt=\"9\" title=\"9\"></img></td><td style=\"text-align: center; padding: 1px\">10<br/><img src=\"data:image/PNG;base64,iVBORw0KGgoAAAANSUhEUgAAABwAAAAcCAAAAABXZoBIAAABD0lEQVR4nM3QPUvDUBTG8ceoRaVbxYp+gtqAs2OhoIPo7uDQgt9ALPoFXFwEwUkQBBfBxclBHAzdRApOhVJsC9FBJUFCW//VIdriTVzFs9yXH8/hniv9TaXueuXsL5apAofxtnwLcB5rOz4AexGYHNZMAD6wZFrh8Sx9DS/5Nu6UYYkrcDu85ea71MxgCQBKKoJjogNAfVoL72x9X1rhMpGUJDZclRkkvnDFlqTjy9gBKwDerCS1I21tScFay4hYg23jQpLWRyRpfDP5E4PVOUmjkrR4tHuT68MHAF7zYf8ZXptd4KCPPcyq5KWhEAvb6VrrXlk7NSY9nUinVT86U8bDScS8Njxbqndiv+I/1Cf4doq0eHtmswAAAABJRU5ErkJggg==\" alt=\"10\" title=\"10\"></img></td><td style=\"text-align: center; padding: 1px\">11<br/><img src=\"data:image/PNG;base64,iVBORw0KGgoAAAANSUhEUgAAABwAAAAcCAAAAABXZoBIAAAA50lEQVR4nGNgGEqAEYXHIpTIoWP3n4GhZg6m0qI/f/78+fvnz5/ZmHK6b/78+fPn780uLXZ0KZbuv//+likjiTAhmC2F////lzAKxeq2FxDr/hxjwyK558+fG3v3Pv/zdwUnpqSalpYQA0Pgn78r4K5ASN5iYGBgYHjPyMTP8gfDQRDg//8fGyO6IASYPPj254UGsoj5Sj4IQzroxZ8/f4pRlGf8cWRgYGAwy1r+98+fP0tQzVr/9+/fi8v+/v379//fcwFoFnGvggb3zen2rMgSjAwMDAzs+RwMjP8Zdl35gt2ZQwMAAONcYNoNGdN3AAAAAElFTkSuQmCC\" alt=\"11\" title=\"11\"></img></td></tr><tr style=\"padding: 1px\"><td style=\"text-align: center; padding: 1px\">12<br/><img src=\"data:image/PNG;base64,iVBORw0KGgoAAAANSUhEUgAAABwAAAAcCAAAAABXZoBIAAAArklEQVR4nGNgGNmAzxRDiM2bk4GBQUjebf2b+wwMDCxIUkbWUWY3NzAoOwn/Z/hah6rN+Pffvydu/f379+eFxXFyDKg6VZn+Vi1952ay+901DPt03/4NRRNC6Hwl9N+I/RDj/yf/sLn+1t+/f//++1uCLh4lysDAILF48Yu///46oxu75METBgbG/wzsDL82HEXXqf/h79+///7+/bu7GFmYEc5y5nh/DJtTRgAAALloQGsGEIZsAAAAAElFTkSuQmCC\" alt=\"12\" title=\"12\"></img></td><td style=\"text-align: center; padding: 1px\">13<br/><img src=\"data:image/PNG;base64,iVBORw0KGgoAAAANSUhEUgAAABwAAAAcCAAAAABXZoBIAAAA+ElEQVR4nGNgoAlgxCbIysvw4xumpAwHg60lg5QXw6wMBgYGFiQZtiodByEo+y+6aYX/YOB5ICuanP4rqNSRdgUMZ9RBpCbIcmE6Mf3nv3//FspxIzmRCc66zMDAwGBdwPsfm+ei/v779+/fv6ta2CQZFvz79//f/3+/vbFJKmx89O/fv3//zklj1Sulefb/v3//9sD4SG6zsGJgEMgSYmD4474fSQdjaPOdX7/+wAPopiSSpBBM9D+EOMqOJLn2Hyr4pI0UCCZoDrvzGEKzMDAwMGzyVkDIXDs5AxZhENeK8imGMjBY6ux6yDD18Xus3uQSRI/FwQYABMGCzBcrE3oAAAAASUVORK5CYII=\" alt=\"13\" title=\"13\"></img></td><td style=\"text-align: center; padding: 1px\">14<br/><img src=\"data:image/PNG;base64,iVBORw0KGgoAAAANSUhEUgAAABwAAAAcCAAAAABXZoBIAAAAyElEQVR4nGNgGBmAEc7iqzt5HcLiTmD43PwZRVnpX2SwSR9ZTvQ2iuTfIwwMDEwwySglFHM+30Kyk/WhOFzi+2aGIweuIqlkgxg2V1RUVFQY3dVMe/7+/fv376tFihge4pNiUIg4+/fv379/HzUIoUlO/dTLycAhkPzq79+/f4+7oQbC/38MZ+8xMDD8jmJgYGB4o/UWWedVVD+ugDmEgYGBgaHh6V8kpf9k0NzruWcPNIguTfZAtZOBgYGBQQQSDE8+YnhmaAAAtYJuzZ1B364AAAAASUVORK5CYII=\" alt=\"14\" title=\"14\"></img></td><td style=\"text-align: center; padding: 1px\">15<br/><img src=\"data:image/PNG;base64,iVBORw0KGgoAAAANSUhEUgAAABwAAAAcCAAAAABXZoBIAAAAeElEQVR4nO2QXQ3DMAyEv0mjYSDhMRlIeHQ85vKIiiNEri/d0jVGMO17su7knzP84ZZoVh5sz6sYNZoOlovZdaIB99H3sk+9sq1ffUVSx93IkKSa6EsFLJI7AKmXw47JDEnh7iFp3tlGhmSwv0Oex473WQGYV/4GOy6IUTQtwBIhAAAAAElFTkSuQmCC\" alt=\"15\" title=\"15\"></img></td></tr></table>"
            ]
          },
          "metadata": {}
        }
      ]
    },
    {
      "cell_type": "markdown",
      "source": [
        "After seeing which digits were classified incorrectly, consider **why** this may have occurred and **how** the percentage of 4's and 5's you inputted would have this effect."
      ],
      "metadata": {
        "id": "Zkv9AeCqUBN8"
      }
    },
    {
      "cell_type": "markdown",
      "source": [
        "*write observations here*"
      ],
      "metadata": {
        "id": "m5yUzT88wvbn"
      }
    },
    {
      "cell_type": "markdown",
      "source": [
        "###Changing Dataset Composition"
      ],
      "metadata": {
        "id": "VClpaPuxhFCV"
      }
    },
    {
      "cell_type": "markdown",
      "source": [
        "Now that we have shown how this network performs with an equal number of 4's and 5's in the dataset, we want to show how the performance and accuracy of the network changes when we manipulate the percentage of 4's and 5's in the dataset. **Return to where you entered the percentages of 4's and 5's in the training dataset and change the percentages, rerunning all the code blocks. To start, change the percentage of 4's to 25% and percentage of 5's to 75%.**"
      ],
      "metadata": {
        "id": "TrQSwWuKpJLp"
      }
    },
    {
      "cell_type": "markdown",
      "source": [
        "After rebuilding and retraining the network on a new percentage distribution of 4's and 5's, we must retest the network. **Go back to the testing the network section and note how the digits are classified, what percentage of 4's and 5's you used, and any errors you notice.**"
      ],
      "metadata": {
        "id": "HsXkC5tvwhgO"
      }
    },
    {
      "cell_type": "markdown",
      "source": [
        "*write observations here*"
      ],
      "metadata": {
        "id": "jkOV70V92MG7"
      }
    },
    {
      "cell_type": "markdown",
      "source": [
        "After you finish training your network with the first manipulated percentage of 4's and 5's, change the values. You can increase or decrease the percentages, retraining the network, and observe how well the network is able to recognize 4's and 5's in the test dataset. First, see if you can find a balance of 4's and 5's where the majority of errors occur for only one of the digits. Then, see if you can find a percentage of 5's where all the 5's start being categorized as 4's or vice versa.  **What are the tipping points?**"
      ],
      "metadata": {
        "id": "JdMZcsGhrrR1"
      }
    },
    {
      "cell_type": "markdown",
      "source": [
        "*write answer here*"
      ],
      "metadata": {
        "id": "vLFyonP0xUwf"
      }
    },
    {
      "cell_type": "markdown",
      "source": [
        "Ensure that you are overrepresenting 4's as well as 5's as you go back to rerun this network on manipulated percentages. **How does the network's accuracy change when you overrepresent one digit versus when you overrepresent the other?** *Note which digit was overrepresented and what percentages you used in your observations.*"
      ],
      "metadata": {
        "id": "S1bgrSlUgPr1"
      }
    },
    {
      "cell_type": "markdown",
      "source": [
        "*write observations here*"
      ],
      "metadata": {
        "id": "Yeep3DTUgmuO"
      }
    },
    {
      "cell_type": "markdown",
      "source": [
        "After finishing testing the different percentages that you can use to show varying levels of efficacy in the network, consider the potential broader implications of dataset composition before moving on to the next section. **How could having a specific subsection of data that an AI is trained on being underrepresented have very real world consequences? What possible issues and biases can you see with human decision making that goes into creation of datasets that are used to train these networks?**"
      ],
      "metadata": {
        "id": "Ud4JdXQg3qTU"
      }
    },
    {
      "cell_type": "markdown",
      "source": [
        "*write answer here*"
      ],
      "metadata": {
        "id": "4Vy_cB1Z3r1a"
      }
    },
    {
      "cell_type": "markdown",
      "metadata": {
        "id": "rZLQldMkMpaB"
      },
      "source": [
        "## Implications of Dataset Composition\n",
        "We have explored how manipulating a dataset can change a network's efficacy in recognition of specific numbers when they are under or overrepresented in a dataset. Datasets, and thus their composition, is an essential component of neural networks. Below, we will explore how bias in a dataset's composition can lead to negative impacts on marginalized communities."
      ]
    },
    {
      "cell_type": "markdown",
      "metadata": {
        "id": "j2dLUABn99b6"
      },
      "source": [
        "Within the past couple of years, bias within algorithms and AI has begun to receive attention. Many computer scientists and researchers have begun to recognize inherent bias, known also as \"algorithmic prejudices,\" present in algorithms, software, machine learning, artificial intelligence, and nearly every facet of computer science (see reference [3]). Within the context of datasets that are used for the training of neural networks, bias is pervasive. This bias becomes particularly concerning as algorithms are beginning to take over human responsibilities (see reference [2]). For example, algorithms are now being used by US law enforcement for \"predictive justice\"(see reference [3]). These tools \"calculate the probability that a person will not show up for trial as scheduled or commit future crimes\"(see reference [3]). As these algorithms become increasingly present in our society, we must evaluate and consider their inherent biases."
      ]
    },
    {
      "cell_type": "markdown",
      "metadata": {
        "id": "j7rFF1WhBCue"
      },
      "source": [
        "A major contributor to the current movement exploring and combatting biases in algorithms is Joy Buolamwini. As a graduate student at MIT, Buolamwini co-wrote the paper \"Gender Shades: Intersectional Accuracy Disparities in Commercial Gender Classification\" along with Timmit Gebru which explores the ways in which machine learning algorithms can discriminate based on classes like race and gender (see reference [1]). As Buolamwini describes in her Ted Talk, she was inspired to address bias in machine learning algorithms when as an undergraduate student at Georgia Tech a robot that was supposed to recognize faces could not detect her's, as a black woman. Among other findings, this paper revealed that while lighter-skinned males had an extremely low error rate of 0.8% while darker-skinned females had a significantly higher error rate of up to 34.7% (see reference [1])."
      ]
    },
    {
      "cell_type": "markdown",
      "metadata": {
        "id": "BFsKqbWBBG5l"
      },
      "source": [
        "### Buolamwini's Work"
      ]
    },
    {
      "cell_type": "markdown",
      "metadata": {
        "id": "D8B-Nj2iJeuD"
      },
      "source": [
        "In 2017, Buolamwini gave a Ted Talk demonstrating the discriminatory tendencies of widely used and accepted training sets and algorithms (see reference [2]). She refers to the concept of the \"coded gaze\" as algorithmic bias in the field of computer science. Within her talk, she dives deeper into the harms and discriminatory practices perpetrated by these training sets which are often severely lacking diversity. These practices include predictive policing. A study from the Georgetown Law Center showed that these police systems contain 1 in 2 adults in the US in a criminal facial recognition network (see reference [4]). These networks used by law enforcement have not been audited for accuracy and can result in misidentification of criminals, having a potentially serious consequence on the victim of this misidentification. With such serious stakes, it is essential to consider and address the biases of these algorithms and networks."
      ]
    },
    {
      "cell_type": "markdown",
      "source": [
        "To see the Georgetown Law Center's full report on law enforcement's use of facial recognition and recommendations, please access this link: [Perpetual Line Up](https://www.perpetuallineup.org/)."
      ],
      "metadata": {
        "id": "FS2tQbRTmuDk"
      }
    },
    {
      "cell_type": "markdown",
      "metadata": {
        "id": "t89MgWox8_Cw"
      },
      "source": [
        "Click here to watch Buolamwini's Ted Talk!\n",
        "\n",
        "[![IMAGE ALT TEXT](http://img.youtube.com/vi/UG_X_7g63rY/0.jpg)](https://www.youtube.com/watch?v=UG_X_7g63rY \"How I'm fighting bias in algorithms\")"
      ]
    },
    {
      "cell_type": "markdown",
      "metadata": {
        "id": "KE5-cmlYOJax"
      },
      "source": [
        "#### Gender Shades"
      ]
    },
    {
      "cell_type": "markdown",
      "metadata": {
        "id": "0KTL9vzSOP3w"
      },
      "source": [
        "\"Gender Shades\" tested 3 commercial gender classification systems (Microsoft, IBM, Face++) using a dataset specifically designed to determine the potential biases present in these systems (see reference [1]). The dataset (Pilot Parliaments Benchmark), specifically created for this study, was composed of faces of 1270 individuals from three African countries and three European countries. The individuals were each given skin type labels per the Fitzpatrick six-point labeling system and given gender labels, either female or male given the binary nature of the evaluation systems."
      ]
    },
    {
      "cell_type": "markdown",
      "metadata": {
        "id": "Q2rG1Jkrpkdq"
      },
      "source": [
        "In evaluation of these classifiers, there were several main takeaways. Firstly, \"male subjects were more accurately classified than female subjects\"(reference [1] pg. 8). Additionally, lighter-skinned subjects were more accurately classified than those with darker skin. Further, all classifiers performed worst on darker female subjects (reference [1] pg. 8). Here is the complete summarized key findings as outlined in the study:\n",
        "\n",
        "\"All classifiers perform better on male faces\n",
        "than female faces (8.1% − 20.6% difference\n",
        "in error rate)\n",
        "\n",
        "• All classifiers perform better on lighter faces\n",
        "than darker faces (11.8% − 19.2% difference\n",
        "in error rate)\n",
        "\n",
        "• All classifiers perform worst on darker female\n",
        "faces (20.8% − 34.7% error rate)\n",
        "\n",
        "• Microsoft and IBM classifiers perform best\n",
        "on lighter male faces (error rates of 0.0% and\n",
        "0.3% respectively)\n",
        "\n",
        "• Face++ classifiers perform best on darker\n",
        "male faces (0.7% error rate)\n",
        "\n",
        "• The maximum difference in error rate between the best and worst classified groups is\n",
        "34.4%\" (reference [1] pg. 8)."
      ]
    },
    {
      "cell_type": "markdown",
      "metadata": {
        "id": "XtKuFsp3Wcz-"
      },
      "source": [
        "Further, this paper emphasizes the complete inability of these commercial systems to recognize gender minorities as they are completely excluded from datasets and classification options. Buolamwini notes, \"The companies provide no documentation to clarify if their gender classification systems which provide sex labels are classifying gender identity or biological sex\"(reference [1] pg. 6). As she emphasizes, \"This reductionist view of gender does not adequately capture the complexities of gender or address trangender identities\"(reference [1] pg. 6). When using these systems it is important to consider the erasure they create of people of non binary gender identities."
      ]
    },
    {
      "cell_type": "markdown",
      "metadata": {
        "id": "ynHyOYb3tO2H"
      },
      "source": [
        "Buolamwini and Gerbru's study \"Gender Shades\" brought to the forefront the inherent biases present in well-established commercial classifiers and marginalization of those with intersectional identities, particularly darker skinned women, in these algorithms. The consequences of these prejudices have the potential to only further harm people of intersectional minority identities who are already marginalized in our society. As companies continue to develop these tools, Buolamwini calls for \"inclusive benchmark datasets and subgroup accuracy reports\" which will be \"necessary to increase transparency and accountability in artificial intelligence\"(reference [1] pg. 12). Continuing into the development of these tools, there will need to be increased \"demographic and phenotypic transparency and accountability in artificial intelligence\"(reference [1] pg. 12)."
      ]
    },
    {
      "cell_type": "markdown",
      "metadata": {
        "id": "UNEIAPryL3Ir"
      },
      "source": [
        "To have a more comprehensive understanding of Buolamwini and her co-collabrator Timmit Gebru's research \"Gender Shades,\" you can read the full paper here:  [Gender Shades: Intersectional Accuracy Disparities in Commercial Gender Classification](https://proceedings.mlr.press/v81/buolamwini18a/buolamwini18a.pdf)."
      ]
    },
    {
      "cell_type": "markdown",
      "source": [
        "###Reflect"
      ],
      "metadata": {
        "id": "XUxhDr-tyhsd"
      }
    },
    {
      "cell_type": "markdown",
      "source": [
        "After reading more about the biases present in machine learning algorithms, **how do you see your role as a member of a modern society in which the presence of these algorithms is only increasing? What are ways in which we can combat these biases?**"
      ],
      "metadata": {
        "id": "eRu4xvL_ymAO"
      }
    },
    {
      "cell_type": "markdown",
      "source": [
        "*write answer here*"
      ],
      "metadata": {
        "id": "XmCFNjW111hN"
      }
    },
    {
      "cell_type": "markdown",
      "source": [
        "Go back to the data manipulation section of this notebook and take note of the accuracy percentage you recorded when either fours or fives were overrepresented (particularly for when the minority digit represented 7% or less of the dataset). **Why is accuracy alone not always a reliable parameter? What are the fallacies underlying reporting the \"accuracy\" of a system? How could this number impact systems' usage and our trust in them?** Think about Buolamwini's findings. Contextualize your answer accordingly."
      ],
      "metadata": {
        "id": "upbZADR41UtC"
      }
    },
    {
      "cell_type": "markdown",
      "source": [
        "*write answer here*"
      ],
      "metadata": {
        "id": "4-MDz0om1z8Q"
      }
    },
    {
      "cell_type": "markdown",
      "metadata": {
        "id": "ons3DJxzM2m6"
      },
      "source": [
        "## Navigating Biases\n",
        "Considering ways in which we can work towards a more inclusive computing community."
      ]
    },
    {
      "cell_type": "markdown",
      "metadata": {
        "id": "vqlxGkqDNGp_"
      },
      "source": [
        "As we work towards a more inclusive and less prejudiced computer science sphere, we must consider these issues, recognize them in our processes, and change our practices. A major component of changing the presence of these biases and their impact is focusing on inclusive coding practices. As Buolamwini outlines in her Ted Talk, we must consider who codes, how we code, and why we code (see reference [2]). Having a more diverse community of coders that consider and prioritize the needs and experiences of marginalized communities is an important step in creating a more inclusive field and algorithms."
      ]
    },
    {
      "cell_type": "markdown",
      "source": [
        "Within the Georgetown Law Center report, the writers emphasize a need for significant legislative and regulatory change (see reference [4]). Law enforcement's use of facial recognition has the potential to do real damage, if it has not already impacted countless individuals. The report suggests legislation should be passed to regulate these technologies including requiring reasonable suspicion to use facial recognition, only use mug shot databases, court approval to use ID photos and license photos, requiring probable cause to use surveillance footage, completely ban tracking individuals for free speech issues, and increase accuracy testing. Further, they suggest a complete reform to the FBI facial recognition systems. They argue that these systems must be transparent and held publicly accountable, releasing statistics relating to arrest numbers. Importantly, they call for testing of racial bias within these systems and datasets that reflect the diversity of the American population. All of these reforms are important to implement if we want to mitigate the potential harm that these law enforcement agencies can perpetuate against already vulnerable communities."
      ],
      "metadata": {
        "id": "sT0MZd41gOUQ"
      }
    },
    {
      "cell_type": "markdown",
      "source": [
        "As Buolamwini emphasizes at the end of her Ted Talk, we must create \"a world where technology works for all of us, not just some of us, a world where we value inclusion and center social change.\" To finish her talk, she poses a question: \"Will you join me in the fight?\" **After reading through this computational essay, consider why it is important to join this \"fight\"? What are your personal motivations behind creating a more inclusive computing space and why is it important?**"
      ],
      "metadata": {
        "id": "zas1mHMJfhkL"
      }
    },
    {
      "cell_type": "markdown",
      "source": [
        "*write answer here*"
      ],
      "metadata": {
        "id": "XNWsYkB7gJSo"
      }
    },
    {
      "cell_type": "markdown",
      "metadata": {
        "id": "k7baTbHH5lIl"
      },
      "source": [
        "## References\n"
      ]
    },
    {
      "cell_type": "markdown",
      "metadata": {
        "id": "vW9gND485pXx"
      },
      "source": [
        "[1] Buolamwini, Joy and Timnit Gebru. Gender Shades: Intersectional Accuracy Disparities in Commercial Gender Classification.  Conference on Fairness, Accountability, and Transparency, 2018. https://proceedings.mlr.press/v81/buolamwini18a/buolamwini18a.pdf.\n",
        "\n",
        "[2] Buolamwini, Joy. How I’m Fighting Bias in Algorithms. 1489075733. www.ted.com, https://www.ted.com/talks/joy_buolamwini_how_i_m_fighting_bias_in_algorithms.\n",
        "\n",
        "[3] Cataleta, Maria Stefania. Humane Artificial Intelligence: The Fragility of Human Rights Facing AI. East-West Center, 2020. JSTOR, https://www.jstor.org/stable/resrep25514.\n",
        "\n",
        "[4] “The Perpetual Line-Up.” Perpetual Line Up, https://www.perpetuallineup.org/. Accessed 10 June 2024."
      ]
    }
  ],
  "metadata": {
    "colab": {
      "provenance": [],
      "collapsed_sections": [
        "rZLQldMkMpaB",
        "ons3DJxzM2m6",
        "k7baTbHH5lIl"
      ],
      "toc_visible": true
    },
    "kernelspec": {
      "display_name": "Python 3",
      "name": "python3"
    },
    "language_info": {
      "name": "python"
    }
  },
  "nbformat": 4,
  "nbformat_minor": 0
}
